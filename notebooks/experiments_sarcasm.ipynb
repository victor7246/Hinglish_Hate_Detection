{
 "cells": [
  {
   "cell_type": "code",
   "execution_count": 1,
   "metadata": {
    "colab": {
     "base_uri": "https://localhost:8080/"
    },
    "id": "9kCb0aehNFZC",
    "outputId": "e8335a88-5cae-4d8d-a3a6-aebe72155fd2"
   },
   "outputs": [],
   "source": [
    "#from google.colab import files, drive\n",
    "#drive.mount('/content/drive')"
   ]
  },
  {
   "cell_type": "code",
   "execution_count": 2,
   "metadata": {
    "colab": {
     "base_uri": "https://localhost:8080/"
    },
    "id": "X0uJnM60PPXU",
    "outputId": "14b28186-53ef-46a7-8990-b0ade363c1e2"
   },
   "outputs": [],
   "source": [
    "#!pip install -r ./drive/MyDrive/Hate_detection/Hinglish_Hate_Detection/requirements.txt"
   ]
  },
  {
   "cell_type": "code",
   "execution_count": 3,
   "metadata": {
    "id": "KWAK8Y7Gk44m"
   },
   "outputs": [],
   "source": [
    "\n",
    "from __future__ import absolute_import\n",
    "\n",
    "import sys\n",
    "import os\n",
    "\n",
    "#sys.path.append('./drive/MyDrive/Hate_detection/Hinglish_Hate_Detection/')\n"
   ]
  },
  {
   "cell_type": "code",
   "execution_count": 4,
   "metadata": {
    "id": "Z1CqQIcXPSkD"
   },
   "outputs": [],
   "source": [
    "#!wandb login"
   ]
  },
  {
   "cell_type": "code",
   "execution_count": 5,
   "metadata": {
    "colab": {
     "base_uri": "https://localhost:8080/"
    },
    "id": "l-IqVp0DPLFa",
    "outputId": "e0412d7b-fcc5-46dc-dabc-2ead9a563d78"
   },
   "outputs": [
    {
     "name": "stderr",
     "output_type": "stream",
     "text": [
      "\u001b[34m\u001b[1mwandb\u001b[0m: \u001b[33mWARNING\u001b[0m If you're specifying your api key in code, ensure this code is not shared publically.\n",
      "\u001b[34m\u001b[1mwandb\u001b[0m: \u001b[33mWARNING\u001b[0m Consider setting the WANDB_API_KEY environment variable, or running `wandb login` from the command line.\n",
      "\u001b[34m\u001b[1mwandb\u001b[0m: \u001b[33mWARNING\u001b[0m Calling wandb.login() without arguments from jupyter should prompt you for an api key.\n",
      "\u001b[34m\u001b[1mwandb\u001b[0m: Appending key for api.wandb.ai to your netrc file: /Users/victor/.netrc\n",
      "\u001b[34m\u001b[1mwandb\u001b[0m: \u001b[33mWARNING\u001b[0m Unable to patch tensorflow.keras for use with W&B.  You will not be able to log images unless you set the generator argument of the callback.\n",
      "/Users/victor/anaconda3/lib/python3.7/site-packages/ipykernel_launcher.py:54: FutureWarning: Passing a negative integer is deprecated in version 1.0 and will not be supported in future version. Instead, use None to not limit the column width.\n"
     ]
    }
   ],
   "source": [
    "from __future__ import absolute_import\n",
    "\n",
    "import sys\n",
    "import os\n",
    "\n",
    "import shutil\n",
    "\n",
    "try:\n",
    "    from dotenv import find_dotenv, load_dotenv\n",
    "except:\n",
    "    pass\n",
    "\n",
    "import argparse\n",
    "\n",
    "#try:\n",
    "#    sys.path.append(os.path.join(os.path.dirname(__file__), './drive/MyDrive/Hate_detection/Hinglish_Hate_Detection/'))\n",
    "#except:\n",
    "#    sys.path.append(os.path.join(os.getcwd(), './drive/MyDrive/Hate_detection/Hinglish_Hate_Detection/'))\n",
    "    \n",
    "try:\n",
    "    sys.path.append(os.path.join(os.path.dirname(__file__), '../'))\n",
    "except:\n",
    "    sys.path.append(os.path.join(os.getcwd(), '../'))\n",
    "    \n",
    "import pandas as pd\n",
    "import numpy as np\n",
    "\n",
    "import pickle\n",
    "from collections import Counter\n",
    "from tqdm import tqdm\n",
    "\n",
    "import tensorflow as tf\n",
    "import tensorflow.keras.backend as K\n",
    "#import tensorflow_addons as tfa\n",
    "\n",
    "try:\n",
    "    import wandb\n",
    "    load_dotenv(find_dotenv())\n",
    "    wandb.login(key=os.environ['WANDB_API_KEY'])\n",
    "    from wandb.keras import WandbCallback\n",
    "    _has_wandb = True\n",
    "except:\n",
    "    _has_wandb = False\n",
    "\n",
    "import tokenizers\n",
    "from transformers import TFAutoModel, AutoTokenizer, AutoConfig, BertTokenizer\n",
    "\n",
    "from sklearn.model_selection import train_test_split, KFold\n",
    "from sklearn.metrics import classification_report, f1_score, accuracy_score, confusion_matrix\n",
    "from sklearn.feature_extraction.text import TfidfVectorizer\n",
    "\n",
    "from src import data, models\n",
    "\n",
    "pd.options.display.max_colwidth = -1"
   ]
  },
  {
   "cell_type": "code",
   "execution_count": 6,
   "metadata": {
    "colab": {
     "base_uri": "https://localhost:8080/"
    },
    "id": "BWQ_RjDKPF_9",
    "outputId": "76e3e9e4-5483-421b-be50-2b6a1846e6c7"
   },
   "outputs": [
    {
     "name": "stdout",
     "output_type": "stream",
     "text": [
      "True\n"
     ]
    }
   ],
   "source": [
    "print (_has_wandb)"
   ]
  },
  {
   "cell_type": "code",
   "execution_count": 7,
   "metadata": {
    "id": "jKb2wFKVNFZH"
   },
   "outputs": [],
   "source": [
    "parser = argparse.ArgumentParser(prog='Trainer',conflict_handler='resolve')\n",
    "\n",
    "#parser.add_argument('--train_data', type=str, default='./drive/MyDrive/Hate_detection/Hinglish_Hate_Detection/data/processed/SarcasmDetection_CodeMixed/data.txt', required=False,\n",
    "#                    help='train data')\n",
    "parser.add_argument('--train_data', type=str, default='../data/processed/SarcasmDetection_CodeMixed/data.txt', required=False,\n",
    "                    help='train data')\n",
    "\n",
    "parser.add_argument('--val_data', type=str, default=None, required=False,\n",
    "                    help='validation data')\n",
    "parser.add_argument('--test_data', type=str, default=None, required=False,\n",
    "                    help='test data')\n",
    "\n",
    "parser.add_argument('--transformer_model_pretrained_path', type=str, default='bert-base-multilingual-cased', required=False,\n",
    "                    help='transformer model pretrained path or huggingface model name')\n",
    "parser.add_argument('--transformer_config_path', type=str, default='bert-base-multilingual-cased', required=False,\n",
    "                    help='transformer config file path or huggingface model name')\n",
    "parser.add_argument('--transformer_tokenizer_path', type=str, default='bert-base-multilingual-cased', required=False,\n",
    "                    help='transformer tokenizer file path or huggingface model name')\n",
    "\n",
    "parser.add_argument('--max_text_len', type=int, default=30, required=False,\n",
    "                    help='maximum length of text')\n",
    "parser.add_argument('--max_char_len', type=int, default=150, required=False,\n",
    "                    help='maximum length of text') #100\n",
    "parser.add_argument('--max_word_char_len', type=int, default=20, required=False,\n",
    "                    help='maximum length of text')\n",
    "\n",
    "parser.add_argument('--emb_dim', type=int, default=128, required=False,\n",
    "                    help='maximum length of text')\n",
    "parser.add_argument('--n_layers', type=int, default=2, required=False,\n",
    "                    help='maximum length of text')\n",
    "parser.add_argument('--n_units', type=int, default=128, required=False,\n",
    "                    help='maximum length of text')\n",
    "\n",
    "parser.add_argument('--epochs', type=int, default=500, required=False,\n",
    "                    help='number of epochs')\n",
    "parser.add_argument('--lr', type=float, default=.001, required=False,\n",
    "                    help='learning rate')\n",
    "parser.add_argument('--early_stopping_rounds', type=int, default=50, required=False,\n",
    "                    help='number of epochs for early stopping')\n",
    "parser.add_argument('--lr_schedule_round', type=int, default=30, required=False,\n",
    "                    help='number of epochs for learning rate scheduling')\n",
    "\n",
    "parser.add_argument('--train_batch_size', type=int, default=16, required=False,\n",
    "                    help='train batch size')\n",
    "parser.add_argument('--eval_batch_size', type=int, default=8, required=False,\n",
    "                    help='eval batch size')\n",
    "\n",
    "#parser.add_argument('--model_save_path', type=str, default='./drive/MyDrive/Hate_detection/Hinglish_Hate_Detection/models/sarcasm_detection/', required=False,\n",
    "#                    help='seed')\n",
    "\n",
    "parser.add_argument('--model_save_path', type=str, default='../models/sarcasm_detection/', required=False,\n",
    "                    help='seed')\n",
    "\n",
    "parser.add_argument('--wandb_logging', type=bool, default=True, required=False,\n",
    "                    help='wandb logging needed')\n",
    "\n",
    "parser.add_argument('--seed', type=int, default=42, required=False,\n",
    "                    help='seed')\n",
    "\n",
    "\n",
    "args, _ = parser.parse_known_args()"
   ]
  },
  {
   "cell_type": "code",
   "execution_count": 8,
   "metadata": {
    "id": "mjTSfc1xNFZJ"
   },
   "outputs": [],
   "source": [
    "tf.random.set_seed(args.seed)\n",
    "np.random.seed(args.seed)"
   ]
  },
  {
   "cell_type": "code",
   "execution_count": 9,
   "metadata": {
    "id": "4pBa4QUENFZN"
   },
   "outputs": [],
   "source": [
    "df = pd.read_csv(args.train_data, sep='\\t',header=None,usecols=[0,1])\n",
    "df.columns = ['text','category']\n",
    "df = df.dropna()\n",
    "df = df[df.text != '']\n",
    "\n",
    "kf = KFold(n_splits=5, shuffle=True, random_state=args.seed)\n",
    "for train_index, test_index in kf.split(df.text):\n",
    "    break\n",
    "\n",
    "train_df = df.iloc[train_index]\n",
    "kf2 = KFold(n_splits=2, shuffle=True, random_state=args.seed)\n",
    "for val_index, test_index in kf2.split(df.iloc[test_index].text):\n",
    "    break\n",
    "\n",
    "val_df = df.iloc[val_index]\n",
    "test_df = df.iloc[test_index]"
   ]
  },
  {
   "cell_type": "code",
   "execution_count": 10,
   "metadata": {
    "colab": {
     "base_uri": "https://localhost:8080/"
    },
    "id": "DrfukC0aNFZW",
    "outputId": "9181e627-3d9c-4b3b-f47e-6c576ccd132c"
   },
   "outputs": [
    {
     "name": "stdout",
     "output_type": "stream",
     "text": [
      "(4200, 2) (525, 2) (525, 2)\n"
     ]
    }
   ],
   "source": [
    "print (train_df.shape, val_df.shape, test_df.shape)"
   ]
  },
  {
   "cell_type": "code",
   "execution_count": 11,
   "metadata": {
    "colab": {
     "base_uri": "https://localhost:8080/",
     "height": 204
    },
    "id": "GWR12E5dNFZZ",
    "outputId": "1e5442c2-d4d9-4545-aad1-d9013dcf7ca9"
   },
   "outputs": [
    {
     "data": {
      "text/html": [
       "<div>\n",
       "<style scoped>\n",
       "    .dataframe tbody tr th:only-of-type {\n",
       "        vertical-align: middle;\n",
       "    }\n",
       "\n",
       "    .dataframe tbody tr th {\n",
       "        vertical-align: top;\n",
       "    }\n",
       "\n",
       "    .dataframe thead th {\n",
       "        text-align: right;\n",
       "    }\n",
       "</style>\n",
       "<table border=\"1\" class=\"dataframe\">\n",
       "  <thead>\n",
       "    <tr style=\"text-align: right;\">\n",
       "      <th></th>\n",
       "      <th>text</th>\n",
       "      <th>category</th>\n",
       "    </tr>\n",
       "  </thead>\n",
       "  <tbody>\n",
       "    <tr>\n",
       "      <th>0</th>\n",
       "      <td>Triple Talaq par Burbak Kuchh nahi bolega</td>\n",
       "      <td>NO</td>\n",
       "    </tr>\n",
       "    <tr>\n",
       "      <th>1</th>\n",
       "      <td>Batao ye uss site pr se akki sir ke verdict nikaal laaye jaha he ajay ki ek bi movie hit nai</td>\n",
       "      <td>YES</td>\n",
       "    </tr>\n",
       "    <tr>\n",
       "      <th>2</th>\n",
       "      <td>Hindu baheno par julam bardas nahi hoga @TripleTalaq Hindu daram par lago hoga hamari Hindu baheno ki soraksa ke liye</td>\n",
       "      <td>NO</td>\n",
       "    </tr>\n",
       "    <tr>\n",
       "      <th>3</th>\n",
       "      <td>Naa bhai.. aisa nhi hai.. mere handle karne se bhi kuchh hona nhi hai.. politics se mera door door tak ka naata nhi hai</td>\n",
       "      <td>NO</td>\n",
       "    </tr>\n",
       "    <tr>\n",
       "      <th>4</th>\n",
       "      <td>#RememberingRajiv aaj agar musalman auraten triple talaq ki wajah se itni jaleel ho rahi hai to iss ka sabse bada reason Rajib gandhi hai.</td>\n",
       "      <td>NO</td>\n",
       "    </tr>\n",
       "  </tbody>\n",
       "</table>\n",
       "</div>"
      ],
      "text/plain": [
       "                                                                                                                                         text  \\\n",
       "0  Triple Talaq par Burbak Kuchh nahi bolega                                                                                                    \n",
       "1  Batao ye uss site pr se akki sir ke verdict nikaal laaye jaha he ajay ki ek bi movie hit nai                                                 \n",
       "2  Hindu baheno par julam bardas nahi hoga @TripleTalaq Hindu daram par lago hoga hamari Hindu baheno ki soraksa ke liye                        \n",
       "3  Naa bhai.. aisa nhi hai.. mere handle karne se bhi kuchh hona nhi hai.. politics se mera door door tak ka naata nhi hai                      \n",
       "4  #RememberingRajiv aaj agar musalman auraten triple talaq ki wajah se itni jaleel ho rahi hai to iss ka sabse bada reason Rajib gandhi hai.   \n",
       "\n",
       "  category  \n",
       "0  NO       \n",
       "1  YES      \n",
       "2  NO       \n",
       "3  NO       \n",
       "4  NO       "
      ]
     },
     "execution_count": 11,
     "metadata": {},
     "output_type": "execute_result"
    }
   ],
   "source": [
    "train_df.head(5)"
   ]
  },
  {
   "cell_type": "code",
   "execution_count": 12,
   "metadata": {
    "colab": {
     "base_uri": "https://localhost:8080/"
    },
    "id": "_JFvdZlgPF_9",
    "outputId": "2f11a50a-6d61-465e-fc62-683b76177c78"
   },
   "outputs": [
    {
     "name": "stderr",
     "output_type": "stream",
     "text": [
      "/Users/victor/.local/lib/python3.7/site-packages/pandas/core/generic.py:5165: SettingWithCopyWarning: \n",
      "A value is trying to be set on a copy of a slice from a DataFrame.\n",
      "Try using .loc[row_indexer,col_indexer] = value instead\n",
      "\n",
      "See the caveats in the documentation: https://pandas.pydata.org/pandas-docs/stable/user_guide/indexing.html#returning-a-view-versus-a-copy\n",
      "  self[name] = value\n"
     ]
    }
   ],
   "source": [
    "train_df.text = train_df.text.apply(lambda x: data.preprocessing.clean_tweets(x))\n",
    "val_df.text = val_df.text.apply(lambda x: data.preprocessing.clean_tweets(x))\n",
    "test_df.text = test_df.text.apply(lambda x: data.preprocessing.clean_tweets(x))"
   ]
  },
  {
   "cell_type": "code",
   "execution_count": 13,
   "metadata": {
    "id": "76PsUvCk3rUZ"
   },
   "outputs": [],
   "source": [
    "train_df = train_df[train_df.text != '']\n",
    "val_df = val_df[val_df.text != '']\n",
    "test_df = test_df[test_df.text != '']\n"
   ]
  },
  {
   "cell_type": "code",
   "execution_count": 14,
   "metadata": {
    "colab": {
     "base_uri": "https://localhost:8080/"
    },
    "id": "ecLj6RWuVfdt",
    "outputId": "6c77e101-8092-494f-99db-69dd2fb9c598"
   },
   "outputs": [
    {
     "data": {
      "text/plain": [
       "count    4200.000000\n",
       "mean     97.934524  \n",
       "std      33.454326  \n",
       "min      4.000000   \n",
       "25%      73.000000  \n",
       "50%      103.000000 \n",
       "75%      127.000000 \n",
       "max      167.000000 \n",
       "Name: text, dtype: float64"
      ]
     },
     "execution_count": 14,
     "metadata": {},
     "output_type": "execute_result"
    }
   ],
   "source": [
    "train_df.text.apply(lambda x: len(x)).describe()"
   ]
  },
  {
   "cell_type": "code",
   "execution_count": 15,
   "metadata": {
    "colab": {
     "base_uri": "https://localhost:8080/"
    },
    "id": "6oAyiM1jPF_9",
    "outputId": "58c564df-e2a3-4341-c873-d6187192dee6"
   },
   "outputs": [
    {
     "data": {
      "text/plain": [
       "count    4200.000000\n",
       "mean     18.300238  \n",
       "std      6.622981   \n",
       "min      1.000000   \n",
       "25%      13.000000  \n",
       "50%      19.000000  \n",
       "75%      24.000000  \n",
       "max      33.000000  \n",
       "Name: text, dtype: float64"
      ]
     },
     "execution_count": 15,
     "metadata": {},
     "output_type": "execute_result"
    }
   ],
   "source": [
    "train_df.text.apply(lambda x: len(x.split())).describe()"
   ]
  },
  {
   "cell_type": "code",
   "execution_count": 16,
   "metadata": {
    "id": "V7YDv6wZNFZc"
   },
   "outputs": [],
   "source": [
    "model_save_dir = args.model_save_path\n",
    "\n",
    "try:\n",
    "    os.makedirs(model_save_dir)\n",
    "except OSError:\n",
    "    pass"
   ]
  },
  {
   "cell_type": "code",
   "execution_count": 17,
   "metadata": {
    "id": "1UTaK8htN-QO"
   },
   "outputs": [],
   "source": [
    "train_df.category = train_df.category.apply(lambda x: x.upper())\n",
    "val_df.category = val_df.category.apply(lambda x: x.upper())\n",
    "test_df.category = test_df.category.apply(lambda x: x.upper())"
   ]
  },
  {
   "cell_type": "code",
   "execution_count": 18,
   "metadata": {
    "colab": {
     "base_uri": "https://localhost:8080/"
    },
    "id": "T5_NT3X9cuiO",
    "outputId": "9e0aae56-931c-4a38-cdad-31b0b188074d"
   },
   "outputs": [
    {
     "data": {
      "text/plain": [
       "NO     3818\n",
       "YES    382 \n",
       "Name: category, dtype: int64"
      ]
     },
     "execution_count": 18,
     "metadata": {},
     "output_type": "execute_result"
    }
   ],
   "source": [
    "train_df.category.value_counts()"
   ]
  },
  {
   "cell_type": "code",
   "execution_count": 19,
   "metadata": {
    "colab": {
     "base_uri": "https://localhost:8080/",
     "height": 35
    },
    "id": "SQFNK1zLdyT7",
    "outputId": "c587d5b6-e96a-4a6b-dc23-363b8d11abd3"
   },
   "outputs": [
    {
     "data": {
      "text/plain": [
       "'../models/sarcasm_detection/'"
      ]
     },
     "execution_count": 19,
     "metadata": {},
     "output_type": "execute_result"
    }
   ],
   "source": [
    "model_save_dir"
   ]
  },
  {
   "cell_type": "code",
   "execution_count": 20,
   "metadata": {
    "id": "ch7LVidpBNtE"
   },
   "outputs": [],
   "source": [
    "train_df.category, label2idx = data.data_utils.convert_categorical_label_to_int(train_df.category.values, \\\n",
    "                                                         save_path=os.path.join(model_save_dir,'label2idx.pkl'))\n",
    "\n",
    "val_df.category, _ = data.data_utils.convert_categorical_label_to_int(val_df.category.values, \\\n",
    "                                                         save_path=os.path.join(model_save_dir,'label2idx.pkl'))\n",
    "\n",
    "test_df.category, _ = data.data_utils.convert_categorical_label_to_int(test_df.category.values, \\\n",
    "                                                         save_path=os.path.join(model_save_dir,'label2idx.pkl'))"
   ]
  },
  {
   "cell_type": "code",
   "execution_count": 21,
   "metadata": {
    "colab": {
     "base_uri": "https://localhost:8080/",
     "height": 204
    },
    "id": "1o2K5yrlNFZv",
    "outputId": "23c4f019-6c9e-40ae-a424-a5d632c4736b"
   },
   "outputs": [
    {
     "data": {
      "text/html": [
       "<div>\n",
       "<style scoped>\n",
       "    .dataframe tbody tr th:only-of-type {\n",
       "        vertical-align: middle;\n",
       "    }\n",
       "\n",
       "    .dataframe tbody tr th {\n",
       "        vertical-align: top;\n",
       "    }\n",
       "\n",
       "    .dataframe thead th {\n",
       "        text-align: right;\n",
       "    }\n",
       "</style>\n",
       "<table border=\"1\" class=\"dataframe\">\n",
       "  <thead>\n",
       "    <tr style=\"text-align: right;\">\n",
       "      <th></th>\n",
       "      <th>text</th>\n",
       "      <th>category</th>\n",
       "    </tr>\n",
       "  </thead>\n",
       "  <tbody>\n",
       "    <tr>\n",
       "      <th>0</th>\n",
       "      <td>triple talaq par burbak kuchh nahi bolega</td>\n",
       "      <td>0</td>\n",
       "    </tr>\n",
       "    <tr>\n",
       "      <th>1</th>\n",
       "      <td>batao ye uss site pr se akki sir ke verdict nikaal laaye jaha he ajay ki ek bi movie hit nai</td>\n",
       "      <td>1</td>\n",
       "    </tr>\n",
       "    <tr>\n",
       "      <th>2</th>\n",
       "      <td>hindu baheno par julam bardas nahi hoga  hindu daram par lago hoga hamari hindu baheno ki soraksa ke liye</td>\n",
       "      <td>0</td>\n",
       "    </tr>\n",
       "    <tr>\n",
       "      <th>3</th>\n",
       "      <td>naa bhai.. aisa nhi hai.. mere handle karne se bhi kuchh hona nhi hai.. politics se mera door door tak ka naata nhi hai</td>\n",
       "      <td>0</td>\n",
       "    </tr>\n",
       "    <tr>\n",
       "      <th>4</th>\n",
       "      <td>aaj agar musalman auraten triple talaq ki wajah se itni jaleel ho rahi hai to iss ka sabse bada reason rajib gandhi hai.</td>\n",
       "      <td>0</td>\n",
       "    </tr>\n",
       "  </tbody>\n",
       "</table>\n",
       "</div>"
      ],
      "text/plain": [
       "                                                                                                                       text  \\\n",
       "0  triple talaq par burbak kuchh nahi bolega                                                                                  \n",
       "1  batao ye uss site pr se akki sir ke verdict nikaal laaye jaha he ajay ki ek bi movie hit nai                               \n",
       "2  hindu baheno par julam bardas nahi hoga  hindu daram par lago hoga hamari hindu baheno ki soraksa ke liye                  \n",
       "3  naa bhai.. aisa nhi hai.. mere handle karne se bhi kuchh hona nhi hai.. politics se mera door door tak ka naata nhi hai    \n",
       "4  aaj agar musalman auraten triple talaq ki wajah se itni jaleel ho rahi hai to iss ka sabse bada reason rajib gandhi hai.   \n",
       "\n",
       "   category  \n",
       "0  0         \n",
       "1  1         \n",
       "2  0         \n",
       "3  0         \n",
       "4  0         "
      ]
     },
     "execution_count": 21,
     "metadata": {},
     "output_type": "execute_result"
    }
   ],
   "source": [
    "train_df.head(5)"
   ]
  },
  {
   "cell_type": "code",
   "execution_count": 22,
   "metadata": {
    "colab": {
     "base_uri": "https://localhost:8080/"
    },
    "id": "gBiGShWtBRKW",
    "outputId": "aa37445c-fac6-4814-cc78-8ec729036714"
   },
   "outputs": [
    {
     "name": "stdout",
     "output_type": "stream",
     "text": [
      "{'NO': 0, 'YES': 1}\n"
     ]
    }
   ],
   "source": [
    "print (label2idx)"
   ]
  },
  {
   "cell_type": "code",
   "execution_count": 23,
   "metadata": {
    "id": "8DPcQeSiBSaV"
   },
   "outputs": [],
   "source": [
    "idx2label = {i:w for (w,i) in label2idx.items()}"
   ]
  },
  {
   "cell_type": "markdown",
   "metadata": {
    "id": "isoI88xCPF_-"
   },
   "source": [
    "### Learn tokenizer"
   ]
  },
  {
   "cell_type": "code",
   "execution_count": 24,
   "metadata": {
    "id": "t4zgghyWPF_-"
   },
   "outputs": [],
   "source": [
    "#data.custom_tokenizers.custom_wp_tokenizer(train_df.text.values, args.model_save_path, args.model_save_path)\n",
    "tokenizer = BertTokenizer.from_pretrained(args.model_save_path)\n",
    "#tokenizer = AutoTokenizer.from_pretrained(args.transformer_tokenizer_path)"
   ]
  },
  {
   "cell_type": "code",
   "execution_count": 25,
   "metadata": {
    "id": "nBWTdHbAPF_-"
   },
   "outputs": [],
   "source": [
    "word_tokenizer = tf.keras.preprocessing.text.Tokenizer(num_words=50000, split=' ',oov_token=1)\n",
    "char_tokenizer = tf.keras.preprocessing.text.Tokenizer(char_level=True, split='',oov_token=1)\n",
    "\n",
    "word_tokenizer.fit_on_texts(train_df.text.values)\n",
    "char_tokenizer.fit_on_texts(train_df.text.values)"
   ]
  },
  {
   "cell_type": "code",
   "execution_count": 26,
   "metadata": {
    "colab": {
     "base_uri": "https://localhost:8080/"
    },
    "id": "GioC_GWuNFZ9",
    "outputId": "f86ee3f7-4c9f-4803-c584-72aaea5d2f16"
   },
   "outputs": [
    {
     "name": "stderr",
     "output_type": "stream",
     "text": [
      "100%|██████████| 4200/4200 [00:01<00:00, 2545.10it/s]\n",
      "100%|██████████| 4200/4200 [00:02<00:00, 1756.28it/s]\n",
      "100%|██████████| 525/525 [00:00<00:00, 2541.92it/s]\n",
      "100%|██████████| 525/525 [00:00<00:00, 1679.33it/s]\n",
      "100%|██████████| 525/525 [00:00<00:00, 2522.82it/s]\n",
      "100%|██████████| 525/525 [00:00<00:00, 1736.36it/s]\n"
     ]
    },
    {
     "name": "stdout",
     "output_type": "stream",
     "text": [
      "(4200, 150) (4200, 30, 20) (4200, 30) (4200, 150) (4200, 20091) (4200, 2)\n",
      "(525, 150) (525, 30, 20) (525, 30) (525, 150) (525, 20091) (525, 2)\n",
      "(525, 150) (525, 30, 20) (525, 30) (525, 150) (525, 20091) (525, 2)\n"
     ]
    }
   ],
   "source": [
    "transformer_train_inputs, _, _ = data.data_utils.compute_transformer_input_arrays(train_df, 'text', tokenizer, args.max_char_len)\n",
    "\n",
    "word_train_inputs = word_tokenizer.texts_to_sequences(train_df.text.values)\n",
    "word_train_inputs = tf.keras.preprocessing.sequence.pad_sequences(word_train_inputs, maxlen=args.max_text_len)\n",
    "\n",
    "subword_train_inputs = np.asarray([data.data_utils.subword_tokenization(text, char_tokenizer, args.max_text_len, args.max_word_char_len) \\\n",
    "                        for text in tqdm(train_df.text.values)])\n",
    "\n",
    "char_train_inputs = char_tokenizer.texts_to_sequences(train_df.text.values)\n",
    "char_train_inputs = tf.keras.preprocessing.sequence.pad_sequences(char_train_inputs, maxlen=args.max_char_len)\n",
    "\n",
    "train_outputs = data.data_utils.compute_output_arrays(train_df, 'category')\n",
    "\n",
    "transformer_val_inputs, _, _ = data.data_utils.compute_transformer_input_arrays(val_df, 'text', tokenizer, args.max_char_len)\n",
    "\n",
    "word_val_inputs = word_tokenizer.texts_to_sequences(val_df.text.values)\n",
    "word_val_inputs = tf.keras.preprocessing.sequence.pad_sequences(word_val_inputs, maxlen=args.max_text_len)\n",
    "\n",
    "subword_val_inputs = np.asarray([data.data_utils.subword_tokenization(text, char_tokenizer, args.max_text_len, args.max_word_char_len) \\\n",
    "                        for text in tqdm(val_df.text.values)])\n",
    "\n",
    "char_val_inputs = char_tokenizer.texts_to_sequences(val_df.text.values)\n",
    "char_val_inputs = tf.keras.preprocessing.sequence.pad_sequences(char_val_inputs, maxlen=args.max_char_len)\n",
    "\n",
    "val_outputs = data.data_utils.compute_output_arrays(val_df, 'category')\n",
    "\n",
    "transformer_test_inputs, _, _ = data.data_utils.compute_transformer_input_arrays(test_df, 'text', tokenizer, args.max_char_len)\n",
    "\n",
    "word_test_inputs = word_tokenizer.texts_to_sequences(test_df.text.values)\n",
    "word_test_inputs = tf.keras.preprocessing.sequence.pad_sequences(word_test_inputs, maxlen=args.max_text_len)\n",
    "\n",
    "subword_test_inputs = np.asarray([data.data_utils.subword_tokenization(text, char_tokenizer, args.max_text_len, args.max_word_char_len) \\\n",
    "                        for text in tqdm(test_df.text.values)])\n",
    "\n",
    "char_test_inputs = char_tokenizer.texts_to_sequences(test_df.text.values)\n",
    "char_test_inputs = tf.keras.preprocessing.sequence.pad_sequences(char_test_inputs, maxlen=args.max_char_len)\n",
    "\n",
    "test_outputs = data.data_utils.compute_output_arrays(test_df, 'category')\n",
    "\n",
    "train_outputs = tf.keras.utils.to_categorical(train_outputs, \\\n",
    "                                                    num_classes=train_df.category.nunique())\n",
    "val_outputs = tf.keras.utils.to_categorical(val_outputs, \\\n",
    "                                                    num_classes=train_df.category.nunique())\n",
    "test_outputs = tf.keras.utils.to_categorical(test_outputs, \\\n",
    "                                                    num_classes=train_df.category.nunique())\n",
    "\n",
    "tfidf1 = TfidfVectorizer(stop_words='english',ngram_range=(1,3), max_df=.6,min_df=2)\n",
    "tfidf2 = TfidfVectorizer(analyzer='char_wb',ngram_range=(1,3), max_df=.6,min_df=2)\n",
    "\n",
    "tfidf1.fit(train_df.text)\n",
    "tfidf2.fit(train_df.text)\n",
    "\n",
    "train_tfidf = np.hstack([tfidf1.transform(train_df.text).toarray(),tfidf2.transform(train_df.text).toarray()])\n",
    "val_tfidf = np.hstack([tfidf1.transform(val_df.text).toarray(),tfidf2.transform(val_df.text).toarray()])\n",
    "test_tfidf = np.hstack([tfidf1.transform(test_df.text).toarray(),tfidf2.transform(test_df.text).toarray()])\n",
    "\n",
    "\n",
    "print (transformer_train_inputs.shape, subword_train_inputs.shape, word_train_inputs.shape, char_train_inputs.shape, \\\n",
    "       train_tfidf.shape, train_outputs.shape)\n",
    "print (transformer_val_inputs.shape, subword_val_inputs.shape, word_val_inputs.shape, char_val_inputs.shape, \\\n",
    "       val_tfidf.shape, val_outputs.shape)\n",
    "print (transformer_test_inputs.shape, subword_test_inputs.shape, word_test_inputs.shape, char_test_inputs.shape, \\\n",
    "       test_tfidf.shape, test_outputs.shape)\n"
   ]
  },
  {
   "cell_type": "markdown",
   "metadata": {
    "id": "5gSp7NirPF_-"
   },
   "source": [
    "### Modeling"
   ]
  },
  {
   "cell_type": "code",
   "execution_count": 27,
   "metadata": {
    "colab": {
     "base_uri": "https://localhost:8080/"
    },
    "id": "O8cHPep9PF_-",
    "outputId": "b13c7edd-0961-4147-bcea-0dbba2f8ae80"
   },
   "outputs": [
    {
     "name": "stdout",
     "output_type": "stream",
     "text": [
      "12489 56 5517\n"
     ]
    }
   ],
   "source": [
    "n_words = len(word_tokenizer.word_index)+1\n",
    "n_chars = len(char_tokenizer.word_index)+1\n",
    "n_subwords = tokenizer.vocab_size\n",
    "print (n_words, n_chars, n_subwords)\n",
    "tfidf_shape = train_tfidf.shape[1]\n",
    "n_out = train_df.category.nunique()"
   ]
  },
  {
   "cell_type": "code",
   "execution_count": 28,
   "metadata": {
    "id": "RHYdrtMGlDe7"
   },
   "outputs": [
    {
     "name": "stdout",
     "output_type": "stream",
     "text": [
      "Model: \"model\"\n",
      "__________________________________________________________________________________________________\n",
      "Layer (type)                    Output Shape         Param #     Connected to                     \n",
      "==================================================================================================\n",
      "input_1 (InputLayer)            [(None, 30)]         0                                            \n",
      "__________________________________________________________________________________________________\n",
      "embedding (Embedding)           (None, 30, 128)      1598592     input_1[0][0]                    \n",
      "__________________________________________________________________________________________________\n",
      "bidirectional (Bidirectional)   (None, 30, 256)      263168      embedding[0][0]                  \n",
      "__________________________________________________________________________________________________\n",
      "bidirectional_1 (Bidirectional) (None, 256)          394240      bidirectional[0][0]              \n",
      "__________________________________________________________________________________________________\n",
      "input_5 (InputLayer)            [(None, 20091)]      0                                            \n",
      "__________________________________________________________________________________________________\n",
      "concatenate (Concatenate)       (None, 20347)        0           bidirectional_1[0][0]            \n",
      "                                                                 input_5[0][0]                    \n",
      "__________________________________________________________________________________________________\n",
      "dense (Dense)                   (None, 128)          2604544     concatenate[0][0]                \n",
      "__________________________________________________________________________________________________\n",
      "dropout (Dropout)               (None, 128)          0           dense[0][0]                      \n",
      "__________________________________________________________________________________________________\n",
      "input_2 (InputLayer)            [(None, 150)]        0                                            \n",
      "__________________________________________________________________________________________________\n",
      "input_3 (InputLayer)            [(None, 30, 20)]     0                                            \n",
      "__________________________________________________________________________________________________\n",
      "input_4 (InputLayer)            [(None, 150)]        0                                            \n",
      "__________________________________________________________________________________________________\n",
      "dense_1 (Dense)                 (None, 2)            258         dropout[0][0]                    \n",
      "==================================================================================================\n",
      "Total params: 4,860,802\n",
      "Trainable params: 4,860,802\n",
      "Non-trainable params: 0\n",
      "__________________________________________________________________________________________________\n",
      "WLSTM None\n",
      "Model: \"model_2\"\n",
      "__________________________________________________________________________________________________\n",
      "Layer (type)                    Output Shape         Param #     Connected to                     \n",
      "==================================================================================================\n",
      "input_9 (InputLayer)            [(None, 30, 20)]     0                                            \n",
      "__________________________________________________________________________________________________\n",
      "time_distributed_1 (TimeDistrib (None, 30, 128)      714112      input_9[0][0]                    \n",
      "__________________________________________________________________________________________________\n",
      "bidirectional_4 (Bidirectional) (None, 30, 256)      263168      time_distributed_1[0][0]         \n",
      "__________________________________________________________________________________________________\n",
      "bidirectional_5 (Bidirectional) (None, 30, 256)      394240      bidirectional_4[0][0]            \n",
      "__________________________________________________________________________________________________\n",
      "time_distributed_2 (TimeDistrib (None, 30, 128)      32896       bidirectional_5[0][0]            \n",
      "__________________________________________________________________________________________________\n",
      "word_attention (AttentionWithCo (None, 128)          16640       time_distributed_2[0][0]         \n",
      "__________________________________________________________________________________________________\n",
      "input_11 (InputLayer)           [(None, 20091)]      0                                            \n",
      "__________________________________________________________________________________________________\n",
      "concatenate_1 (Concatenate)     (None, 20219)        0           word_attention[0][0]             \n",
      "                                                                 input_11[0][0]                   \n",
      "__________________________________________________________________________________________________\n",
      "dense_4 (Dense)                 (None, 128)          2588160     concatenate_1[0][0]              \n",
      "__________________________________________________________________________________________________\n",
      "dropout_1 (Dropout)             (None, 128)          0           dense_4[0][0]                    \n",
      "__________________________________________________________________________________________________\n",
      "input_7 (InputLayer)            [(None, 30)]         0                                            \n",
      "__________________________________________________________________________________________________\n",
      "input_8 (InputLayer)            [(None, 150)]        0                                            \n",
      "__________________________________________________________________________________________________\n",
      "input_10 (InputLayer)           [(None, 150)]        0                                            \n",
      "__________________________________________________________________________________________________\n",
      "dense_5 (Dense)                 (None, 2)            258         dropout_1[0][0]                  \n",
      "==================================================================================================\n",
      "Total params: 4,009,474\n",
      "Trainable params: 4,009,474\n",
      "Non-trainable params: 0\n",
      "__________________________________________________________________________________________________\n",
      "HAN None\n",
      "Model: \"model_3\"\n",
      "__________________________________________________________________________________________________\n",
      "Layer (type)                    Output Shape         Param #     Connected to                     \n",
      "==================================================================================================\n",
      "input_14 (InputLayer)           [(None, 30, 20)]     0                                            \n",
      "__________________________________________________________________________________________________\n",
      "embedding_2 (Embedding)         (None, 30, 20, 128)  7168        input_14[0][0]                   \n",
      "__________________________________________________________________________________________________\n",
      "time_distributed_3 (TimeDistrib (None, 30, 20, 128)  32896       embedding_2[0][0]                \n",
      "__________________________________________________________________________________________________\n",
      "position_embedding (PositionEmb (None, 128)          2560        input_14[0][0]                   \n",
      "__________________________________________________________________________________________________\n",
      "time_distributed_5 (TimeDistrib (None, 30, 20, 128)  49280       embedding_2[0][0]                \n",
      "__________________________________________________________________________________________________\n",
      "position_embedding_1 (PositionE (None, 128)          2560        input_14[0][0]                   \n",
      "__________________________________________________________________________________________________\n",
      "tf.__operators__.add (TFOpLambd (None, 30, 20, 128)  0           time_distributed_3[0][0]         \n",
      "                                                                 position_embedding[0][0]         \n",
      "__________________________________________________________________________________________________\n",
      "tf.__operators__.add_1 (TFOpLam (None, 30, 20, 128)  0           time_distributed_5[0][0]         \n",
      "                                                                 position_embedding_1[0][0]       \n",
      "__________________________________________________________________________________________________\n",
      "concatenate_2 (Concatenate)     (None, 30, 20, 256)  0           time_distributed_3[0][0]         \n",
      "                                                                 tf.__operators__.add[0][0]       \n",
      "__________________________________________________________________________________________________\n",
      "concatenate_3 (Concatenate)     (None, 30, 20, 256)  0           time_distributed_5[0][0]         \n",
      "                                                                 tf.__operators__.add_1[0][0]     \n",
      "__________________________________________________________________________________________________\n",
      "time_distributed_4 (TimeDistrib (None, 30, 20, 256)  263168      concatenate_2[0][0]              \n",
      "__________________________________________________________________________________________________\n",
      "time_distributed_6 (TimeDistrib (None, 30, 20, 256)  263168      concatenate_3[0][0]              \n",
      "__________________________________________________________________________________________________\n",
      "concatenate_4 (Concatenate)     (None, 30, 20, 512)  0           time_distributed_4[0][0]         \n",
      "                                                                 time_distributed_6[0][0]         \n",
      "__________________________________________________________________________________________________\n",
      "time_distributed_7 (TimeDistrib (None, 30, 512)      263168      concatenate_4[0][0]              \n",
      "__________________________________________________________________________________________________\n",
      "input_12 (InputLayer)           [(None, 30)]         0                                            \n",
      "__________________________________________________________________________________________________\n",
      "dense_14 (Dense)                (None, 30, 128)      65664       time_distributed_7[0][0]         \n",
      "__________________________________________________________________________________________________\n",
      "embedding_5 (Embedding)         (None, 30, 128)      1598592     input_12[0][0]                   \n",
      "__________________________________________________________________________________________________\n",
      "tf.__operators__.add_2 (TFOpLam (None, 30, 128)      0           dense_14[0][0]                   \n",
      "                                                                 embedding_5[0][0]                \n",
      "__________________________________________________________________________________________________\n",
      "bidirectional_6 (Bidirectional) (None, 30, 256)      263168      tf.__operators__.add_2[0][0]     \n",
      "__________________________________________________________________________________________________\n",
      "bidirectional_7 (Bidirectional) (None, 256)          394240      bidirectional_6[0][0]            \n",
      "__________________________________________________________________________________________________\n",
      "input_16 (InputLayer)           [(None, 20091)]      0                                            \n",
      "__________________________________________________________________________________________________\n",
      "concatenate_5 (Concatenate)     (None, 20347)        0           bidirectional_7[0][0]            \n",
      "                                                                 input_16[0][0]                   \n",
      "__________________________________________________________________________________________________\n",
      "dense_15 (Dense)                (None, 128)          2604544     concatenate_5[0][0]              \n",
      "__________________________________________________________________________________________________\n",
      "dropout_2 (Dropout)             (None, 128)          0           dense_15[0][0]                   \n",
      "__________________________________________________________________________________________________\n",
      "input_13 (InputLayer)           [(None, 150)]        0                                            \n",
      "__________________________________________________________________________________________________\n",
      "input_15 (InputLayer)           [(None, 150)]        0                                            \n",
      "__________________________________________________________________________________________________\n",
      "dense_16 (Dense)                (None, 2)            258         dropout_2[0][0]                  \n",
      "==================================================================================================\n",
      "Total params: 5,810,434\n",
      "Trainable params: 5,810,434\n",
      "Non-trainable params: 0\n",
      "__________________________________________________________________________________________________\n",
      "CS_ELMO None\n"
     ]
    },
    {
     "name": "stdout",
     "output_type": "stream",
     "text": [
      "Model: \"model_4\"\n",
      "__________________________________________________________________________________________________\n",
      "Layer (type)                    Output Shape         Param #     Connected to                     \n",
      "==================================================================================================\n",
      "input_18 (InputLayer)           [(None, 150)]        0                                            \n",
      "__________________________________________________________________________________________________\n",
      "embedding_6 (Embedding)         (None, 150, 128)     7168        input_18[0][0]                   \n",
      "__________________________________________________________________________________________________\n",
      "conv1d_2 (Conv1D)               (None, 148, 128)     49280       embedding_6[0][0]                \n",
      "__________________________________________________________________________________________________\n",
      "max_pooling1d (MaxPooling1D)    (None, 49, 128)      0           conv1d_2[0][0]                   \n",
      "__________________________________________________________________________________________________\n",
      "bidirectional_8 (Bidirectional) (None, 49, 256)      263168      max_pooling1d[0][0]              \n",
      "__________________________________________________________________________________________________\n",
      "bidirectional_9 (Bidirectional) (None, 256)          394240      bidirectional_8[0][0]            \n",
      "__________________________________________________________________________________________________\n",
      "attention (AttentionWithContext (None, 256)          66048       bidirectional_8[0][0]            \n",
      "__________________________________________________________________________________________________\n",
      "input_21 (InputLayer)           [(None, 20091)]      0                                            \n",
      "__________________________________________________________________________________________________\n",
      "concatenate_6 (Concatenate)     (None, 20603)        0           bidirectional_9[0][0]            \n",
      "                                                                 attention[0][0]                  \n",
      "                                                                 input_21[0][0]                   \n",
      "__________________________________________________________________________________________________\n",
      "dense_17 (Dense)                (None, 128)          2637312     concatenate_6[0][0]              \n",
      "__________________________________________________________________________________________________\n",
      "dropout_3 (Dropout)             (None, 128)          0           dense_17[0][0]                   \n",
      "__________________________________________________________________________________________________\n",
      "dense_18 (Dense)                (None, 64)           8256        dropout_3[0][0]                  \n",
      "__________________________________________________________________________________________________\n",
      "dropout_4 (Dropout)             (None, 64)           0           dense_18[0][0]                   \n",
      "__________________________________________________________________________________________________\n",
      "dense_19 (Dense)                (None, 32)           2080        dropout_4[0][0]                  \n",
      "__________________________________________________________________________________________________\n",
      "dropout_5 (Dropout)             (None, 32)           0           dense_19[0][0]                   \n",
      "__________________________________________________________________________________________________\n",
      "dense_20 (Dense)                (None, 16)           528         dropout_5[0][0]                  \n",
      "__________________________________________________________________________________________________\n",
      "dropout_6 (Dropout)             (None, 16)           0           dense_20[0][0]                   \n",
      "__________________________________________________________________________________________________\n",
      "input_17 (InputLayer)           [(None, 30)]         0                                            \n",
      "__________________________________________________________________________________________________\n",
      "input_19 (InputLayer)           [(None, 30, 20)]     0                                            \n",
      "__________________________________________________________________________________________________\n",
      "input_20 (InputLayer)           [(None, 150)]        0                                            \n",
      "__________________________________________________________________________________________________\n",
      "dense_21 (Dense)                (None, 2)            34          dropout_6[0][0]                  \n",
      "==================================================================================================\n",
      "Total params: 3,428,114\n",
      "Trainable params: 3,428,114\n",
      "Non-trainable params: 0\n",
      "__________________________________________________________________________________________________\n",
      "CMSA None\n",
      "Model: \"model_5\"\n",
      "__________________________________________________________________________________________________\n",
      "Layer (type)                    Output Shape         Param #     Connected to                     \n",
      "==================================================================================================\n",
      "input_25 (InputLayer)           [(None, 150)]        0                                            \n",
      "__________________________________________________________________________________________________\n",
      "tf_bert_model (TFBertModel)     ((None, 150, 768), ( 177853440   input_25[0][0]                   \n",
      "__________________________________________________________________________________________________\n",
      "dropout_44 (Dropout)            (None, 768)          0           tf_bert_model[0][1]              \n",
      "__________________________________________________________________________________________________\n",
      "input_26 (InputLayer)           [(None, 20091)]      0                                            \n",
      "__________________________________________________________________________________________________\n",
      "concatenate_7 (Concatenate)     (None, 20859)        0           dropout_44[0][0]                 \n",
      "                                                                 input_26[0][0]                   \n",
      "__________________________________________________________________________________________________\n",
      "dense_22 (Dense)                (None, 128)          2670080     concatenate_7[0][0]              \n",
      "__________________________________________________________________________________________________\n",
      "dropout_45 (Dropout)            (None, 128)          0           dense_22[0][0]                   \n",
      "__________________________________________________________________________________________________\n",
      "input_22 (InputLayer)           [(None, 30)]         0                                            \n",
      "__________________________________________________________________________________________________\n",
      "input_23 (InputLayer)           [(None, 150)]        0                                            \n",
      "__________________________________________________________________________________________________\n",
      "input_24 (InputLayer)           [(None, 30, 20)]     0                                            \n",
      "__________________________________________________________________________________________________\n",
      "dense_23 (Dense)                (None, 2)            258         dropout_45[0][0]                 \n",
      "==================================================================================================\n",
      "Total params: 180,523,778\n",
      "Trainable params: 180,523,778\n",
      "Non-trainable params: 0\n",
      "__________________________________________________________________________________________________\n",
      "BERT None\n",
      "Model: \"model_6\"\n",
      "__________________________________________________________________________________________________\n",
      "Layer (type)                    Output Shape         Param #     Connected to                     \n",
      "==================================================================================================\n",
      "input_30 (InputLayer)           [(None, 150)]        0                                            \n",
      "__________________________________________________________________________________________________\n",
      "token_and_position_embedding (T (None, 150, 128)     725376      input_30[0][0]                   \n",
      "__________________________________________________________________________________________________\n",
      "transformer_block (TransformerB (None, 150, 128)     99584       token_and_position_embedding[0][0\n",
      "__________________________________________________________________________________________________\n",
      "transformer_block_1 (Transforme (None, 150, 128)     99584       transformer_block[0][0]          \n",
      "__________________________________________________________________________________________________\n",
      "global_average_pooling1d (Globa (None, 128)          0           transformer_block_1[0][0]        \n",
      "__________________________________________________________________________________________________\n",
      "dropout_50 (Dropout)            (None, 128)          0           global_average_pooling1d[0][0]   \n",
      "__________________________________________________________________________________________________\n",
      "input_31 (InputLayer)           [(None, 20091)]      0                                            \n",
      "__________________________________________________________________________________________________\n",
      "concatenate_8 (Concatenate)     (None, 20219)        0           dropout_50[0][0]                 \n",
      "                                                                 input_31[0][0]                   \n",
      "__________________________________________________________________________________________________\n",
      "dense_36 (Dense)                (None, 128)          2588160     concatenate_8[0][0]              \n",
      "__________________________________________________________________________________________________\n",
      "dropout_51 (Dropout)            (None, 128)          0           dense_36[0][0]                   \n",
      "__________________________________________________________________________________________________\n",
      "input_27 (InputLayer)           [(None, 30)]         0                                            \n",
      "__________________________________________________________________________________________________\n",
      "input_28 (InputLayer)           [(None, 150)]        0                                            \n",
      "__________________________________________________________________________________________________\n",
      "input_29 (InputLayer)           [(None, 30, 20)]     0                                            \n",
      "__________________________________________________________________________________________________\n",
      "dense_37 (Dense)                (None, 2)            258         dropout_51[0][0]                 \n",
      "==================================================================================================\n",
      "Total params: 3,512,962\n",
      "Trainable params: 3,512,962\n",
      "Non-trainable params: 0\n",
      "__________________________________________________________________________________________________\n",
      "Transformer None\n"
     ]
    }
   ],
   "source": [
    "from src.models.models import *\n",
    "\n",
    "all_models = {WLSTM.__name__: WLSTM,HAN.__name__: HAN,CS_ELMO.__name__: CS_ELMO,CMSA.__name__: CMSA,\n",
    "                  BERT.__name__: BERT,Transformer.__name__: Transformer}\n",
    "\n",
    "for model_name, model_ in all_models.items():\n",
    "    model = model_(word_vocab_size=n_words,char_vocab_size=n_chars,wpe_vocab_size=n_subwords, vectorizer_shape=tfidf_shape, n_out=n_out,\\\n",
    "                               transformer_model_pretrained_path=args.transformer_model_pretrained_path,max_word_char_len=args.max_word_char_len,\\\n",
    "                                             max_text_len=args.max_text_len, max_char_len=args.max_char_len,\\\n",
    "                                             n_layers=args.n_layers, n_units=args.n_units, emb_dim=args.emb_dim)\n",
    "    print (model_name, model.summary())"
   ]
  },
  {
   "cell_type": "code",
   "execution_count": 29,
   "metadata": {
    "id": "Y1y38uBX47Pe"
   },
   "outputs": [],
   "source": [
    "_has_wandb = False"
   ]
  },
  {
   "cell_type": "code",
   "execution_count": 30,
   "metadata": {
    "id": "qT6nt0RSsixD"
   },
   "outputs": [],
   "source": [
    "loss = 'ce'\n",
    "model_name = 'Transformer'\n",
    "model1 = Transformer(word_vocab_size=n_words,char_vocab_size=n_chars,wpe_vocab_size=n_subwords, vectorizer_shape=tfidf_shape, n_out=n_out,\\\n",
    "                               transformer_model_pretrained_path=args.transformer_model_pretrained_path,max_word_char_len=args.max_word_char_len,\\\n",
    "                                             max_text_len=args.max_text_len, max_char_len=150,\\\n",
    "                                             n_layers=args.n_layers, n_units=args.n_units, emb_dim=args.emb_dim)\n",
    "model_save_path = os.path.join(args.model_save_path, '{}_{}_with_features.h5'.format(model_name, loss))\n",
    "\n",
    "model1.load_weights(model_save_path)\n",
    "\n",
    "model2 = Transformer(word_vocab_size=n_words,char_vocab_size=n_chars,wpe_vocab_size=n_subwords, vectorizer_shape=None, n_out=n_out,\\\n",
    "                               transformer_model_pretrained_path=args.transformer_model_pretrained_path,max_word_char_len=args.max_word_char_len,\\\n",
    "                                             max_text_len=args.max_text_len, max_char_len=150,\\\n",
    "                                             n_layers=args.n_layers, n_units=args.n_units, emb_dim=args.emb_dim)\n",
    "model_save_path = os.path.join(args.model_save_path, '{}_{}_without_features.h5'.format(model_name, loss))\n",
    "\n",
    "model2.load_weights(model_save_path)\n",
    "\n",
    "#t_model = Transformer(word_vocab_size=n_words,char_vocab_size=n_chars,wpe_vocab_size=n_subwords, vectorizer_shape=None, n_out=n_out,\\\n",
    "#                               transformer_model_pretrained_path=args.transformer_model_pretrained_path,max_word_char_len=args.max_word_char_len,\\\n",
    "#                                             max_text_len=args.max_text_len, max_char_len=args.max_char_len,\\\n",
    "#                                             n_layers=args.n_layers, n_units=args.n_units, emb_dim=args.emb_dim)\n",
    "\n",
    "#t_model.load_weights(os.path.join(args.model_save_path, 'pseudo_labelling_transformer_model.h5'))"
   ]
  },
  {
   "cell_type": "code",
   "execution_count": 31,
   "metadata": {},
   "outputs": [],
   "source": [
    "loss = 'ce'\n",
    "model_name = 'HAN'\n",
    "model3 = HAN(word_vocab_size=n_words,char_vocab_size=n_chars,wpe_vocab_size=n_subwords, vectorizer_shape=tfidf_shape, n_out=n_out,\\\n",
    "                               transformer_model_pretrained_path=args.transformer_model_pretrained_path,max_word_char_len=args.max_word_char_len,\\\n",
    "                                             max_text_len=args.max_text_len, max_char_len=150,\\\n",
    "                                             n_layers=args.n_layers, n_units=args.n_units, emb_dim=args.emb_dim)\n",
    "model_save_path = os.path.join(args.model_save_path, '{}_{}_with_features.h5'.format(model_name, loss))\n",
    "\n",
    "model3.load_weights(model_save_path)\n",
    "\n",
    "model4 = HAN(word_vocab_size=n_words,char_vocab_size=n_chars,wpe_vocab_size=n_subwords, vectorizer_shape=None, n_out=n_out,\\\n",
    "                               transformer_model_pretrained_path=args.transformer_model_pretrained_path,max_word_char_len=args.max_word_char_len,\\\n",
    "                                             max_text_len=args.max_text_len, max_char_len=150,\\\n",
    "                                             n_layers=args.n_layers, n_units=args.n_units, emb_dim=args.emb_dim)\n",
    "model_save_path = os.path.join(args.model_save_path, '{}_{}_without_features.h5'.format(model_name, loss))\n",
    "\n",
    "model4.load_weights(model_save_path)\n",
    "\n",
    "h_model = HAN(word_vocab_size=n_words,char_vocab_size=n_chars,wpe_vocab_size=n_subwords, vectorizer_shape=None, n_out=n_out,\\\n",
    "                               transformer_model_pretrained_path=args.transformer_model_pretrained_path,max_word_char_len=args.max_word_char_len,\\\n",
    "                                             max_text_len=args.max_text_len, max_char_len=args.max_char_len,\\\n",
    "                                             n_layers=args.n_layers, n_units=args.n_units, emb_dim=args.emb_dim)\n",
    "\n",
    "h_model.load_weights(os.path.join(args.model_save_path, 'pseudo_labelling_transformer.h5'))"
   ]
  },
  {
   "cell_type": "code",
   "execution_count": 32,
   "metadata": {},
   "outputs": [],
   "source": [
    "loss = 'ce'\n",
    "model_name = 'WLSTM'\n",
    "model5 = WLSTM(word_vocab_size=n_words,char_vocab_size=n_chars,wpe_vocab_size=n_subwords, vectorizer_shape=tfidf_shape, n_out=n_out,\\\n",
    "                               transformer_model_pretrained_path=args.transformer_model_pretrained_path,max_word_char_len=args.max_word_char_len,\\\n",
    "                                             max_text_len=args.max_text_len, max_char_len=150,\\\n",
    "                                             n_layers=args.n_layers, n_units=args.n_units, emb_dim=args.emb_dim)\n",
    "model_save_path = os.path.join(args.model_save_path, '{}_{}_with_features.h5'.format(model_name, loss))\n",
    "\n",
    "model5.load_weights(model_save_path)\n",
    "\n",
    "model6 = WLSTM(word_vocab_size=n_words,char_vocab_size=n_chars,wpe_vocab_size=n_subwords, vectorizer_shape=None, n_out=n_out,\\\n",
    "                               transformer_model_pretrained_path=args.transformer_model_pretrained_path,max_word_char_len=args.max_word_char_len,\\\n",
    "                                             max_text_len=args.max_text_len, max_char_len=150,\\\n",
    "                                             n_layers=args.n_layers, n_units=args.n_units, emb_dim=args.emb_dim)\n",
    "model_save_path = os.path.join(args.model_save_path, '{}_{}_without_features.h5'.format(model_name, loss))\n",
    "\n",
    "model6.load_weights(model_save_path)\n",
    "\n",
    "w_model = WLSTM(word_vocab_size=n_words,char_vocab_size=n_chars,wpe_vocab_size=n_subwords, vectorizer_shape=None, n_out=n_out,\\\n",
    "                               transformer_model_pretrained_path=args.transformer_model_pretrained_path,max_word_char_len=args.max_word_char_len,\\\n",
    "                                             max_text_len=args.max_text_len, max_char_len=args.max_char_len,\\\n",
    "                                             n_layers=args.n_layers, n_units=args.n_units, emb_dim=args.emb_dim)\n",
    "\n",
    "w_model.load_weights(os.path.join(args.model_save_path, 'pseudo_labelling_lstm_model.h5'))"
   ]
  },
  {
   "cell_type": "code",
   "execution_count": 33,
   "metadata": {},
   "outputs": [],
   "source": [
    "test_df.category = [idx2label[i] for i in test_df.category]\n",
    "\n",
    "test_pred = model1.predict([word_test_inputs, char_test_inputs, subword_test_inputs, transformer_test_inputs, test_tfidf])\n",
    "\n",
    "test_df['Transformer_pred'] = [idx2label[i] for i in test_pred.argmax(-1)]\n",
    "\n",
    "test_pred = model3.predict([word_test_inputs, char_test_inputs, subword_test_inputs, transformer_test_inputs, test_tfidf])\n",
    "\n",
    "test_df['HAN_pred'] = [idx2label[i] for i in test_pred.argmax(-1)]\n",
    "\n",
    "test_pred = model5.predict([word_test_inputs, char_test_inputs, subword_test_inputs, transformer_test_inputs, test_tfidf])\n",
    "\n",
    "test_df['WLSTM_pred'] = [idx2label[i] for i in test_pred.argmax(-1)]\n"
   ]
  },
  {
   "cell_type": "code",
   "execution_count": 34,
   "metadata": {},
   "outputs": [],
   "source": [
    "import numpy as np\n",
    "\n",
    "\n",
    "def plot_confusion_matrix(cm,\n",
    "                          target_names,\n",
    "                          model_name,\n",
    "                          title='Confusion matrix',\n",
    "                          cmap=None,\n",
    "                          normalize=True):\n",
    "    \"\"\"\n",
    "    given a sklearn confusion matrix (cm), make a nice plot\n",
    "\n",
    "    Arguments\n",
    "    ---------\n",
    "    cm:           confusion matrix from sklearn.metrics.confusion_matrix\n",
    "\n",
    "    target_names: given classification classes such as [0, 1, 2]\n",
    "                  the class names, for example: ['high', 'medium', 'low']\n",
    "\n",
    "    title:        the text to display at the top of the matrix\n",
    "\n",
    "    cmap:         the gradient of the values displayed from matplotlib.pyplot.cm\n",
    "                  see http://matplotlib.org/examples/color/colormaps_reference.html\n",
    "                  plt.get_cmap('jet') or plt.cm.Blues\n",
    "\n",
    "    normalize:    If False, plot the raw numbers\n",
    "                  If True, plot the proportions\n",
    "\n",
    "    Usage\n",
    "    -----\n",
    "    plot_confusion_matrix(cm           = cm,                  # confusion matrix created by\n",
    "                                                              # sklearn.metrics.confusion_matrix\n",
    "                          normalize    = True,                # show proportions\n",
    "                          target_names = y_labels_vals,       # list of names of the classes\n",
    "                          title        = best_estimator_name) # title of graph\n",
    "\n",
    "    Citiation\n",
    "    ---------\n",
    "    http://scikit-learn.org/stable/auto_examples/model_selection/plot_confusion_matrix.html\n",
    "\n",
    "    \"\"\"\n",
    "    import matplotlib.pyplot as plt\n",
    "    import numpy as np\n",
    "    import itertools\n",
    "\n",
    "    accuracy = np.trace(cm) / float(np.sum(cm))\n",
    "    misclass = 1 - accuracy\n",
    "\n",
    "    if cmap is None:\n",
    "        cmap = plt.get_cmap('Blues')\n",
    "\n",
    "    \n",
    "    plt.figure(figsize=(12, 12))\n",
    "    plt.imshow(cm, interpolation='nearest',cmap=cmap) #, \n",
    "    plt.title(title)\n",
    "    #plt.colorbar()\n",
    "\n",
    "    thresh = cm.max() / 1.5 if normalize else cm.max() / 2\n",
    "    #print (thresh)\n",
    "    \n",
    "    if target_names is not None:\n",
    "        tick_marks = np.arange(len(target_names))\n",
    "        plt.xticks(tick_marks, target_names, rotation=45)\n",
    "        plt.yticks(tick_marks, target_names)\n",
    "\n",
    "    if normalize:\n",
    "        cm_ = cm.astype('float') / cm.sum(axis=1)[:, np.newaxis]\n",
    "        cm_ = np.around(cm_, decimals=2)\n",
    "        #print (cm)\n",
    "    else:\n",
    "      cm_ = cm\n",
    "\n",
    "    for i, j in itertools.product(range(cm.shape[0]), range(cm.shape[1])):\n",
    "      if cm_[i, j] > 0:\n",
    "        if normalize:\n",
    "            plt.text(j, i, \"{:0.2f}\".format(round(cm_[i, j],2)),\n",
    "                     horizontalalignment=\"center\",\n",
    "                     color=\"white\" if cm[i, j] > thresh else \"black\")\n",
    "        else:\n",
    "            plt.text(j, i, \"{:,}\".format(cm_[i, j]),\n",
    "                     horizontalalignment=\"center\",\n",
    "                     color=\"white\" if cm[i, j] > thresh else \"black\")\n",
    "\n",
    "\n",
    "    plt.tight_layout()\n",
    "    plt.ylabel('True label')\n",
    "    #plt.xlabel('Predicted label\\naccuracy={:0.4f}; misclass={:0.4f}'.format(accuracy, misclass))\n",
    "    plt.xlabel('Predicted label')\n",
    "    SMALL_SIZE = 25\n",
    "    MEDIUM_SIZE = 20\n",
    "    BIGGER_SIZE = 25\n",
    "\n",
    "    #plt.rcParams[\"font.family\"] = \"Times New Roman\"\n",
    "    plt.rcParams[\"font.size\"] = \"15\"\n",
    "\n",
    "    \n",
    "    #plt.rc('font', size=SMALL_SIZE)          # controls default text sizes\n",
    "    plt.rc('axes', titlesize=SMALL_SIZE)     # fontsize of the axes title\n",
    "    plt.rc('axes', labelsize=MEDIUM_SIZE)    # fontsize of the x and y labels\n",
    "    plt.rc('xtick', labelsize=SMALL_SIZE)    # fontsize of the tick labels\n",
    "    plt.rc('ytick', labelsize=SMALL_SIZE)    # fontsize of the tick labels\n",
    "    plt.rc('legend', fontsize=SMALL_SIZE)    # legend fontsize\n",
    "    plt.rc('figure', titlesize=BIGGER_SIZE)  # fontsize of the figure title\n",
    "    \n",
    "    plt.xlabel(\"\")\n",
    "    plt.ylabel(\"\")\n",
    "    plt.title(\"\")\n",
    "\n",
    "    plt.savefig('../plots/sarcasm_{}.pdf'.format(model_name),dpi=200)\n",
    "    plt.show()\n",
    "    \n",
    "def get_conditional_weights(text, model, class_idx):\n",
    "    all_texts = [\" \".join(text.split()[:i]) for i in range(len(text.split())+1)][1:]\n",
    "    #all_texts = [text]*(len(text.split())+1)\n",
    "    word_train_inputs = word_tokenizer.texts_to_sequences(all_texts)\n",
    "    word_train_inputs = tf.keras.preprocessing.sequence.pad_sequences(word_train_inputs, maxlen=args.max_text_len)\n",
    "\n",
    "    subword_train_inputs = np.asarray([data.data_utils.subword_tokenization(text, char_tokenizer, args.max_text_len, args.max_word_char_len) \\\n",
    "                            for text in all_texts])\n",
    "\n",
    "    char_train_inputs = char_tokenizer.texts_to_sequences(all_texts)\n",
    "    char_train_inputs = tf.keras.preprocessing.sequence.pad_sequences(char_train_inputs, maxlen=args.max_char_len)\n",
    "    \n",
    "    for i in range(len(text.split())):\n",
    "        #subword_train_inputs_ = subword_train_inputs.copy()\n",
    "        subword_train_inputs[i,i,:] = np.array([0]*subword_train_inputs.shape[-1])\n",
    "        \n",
    "    #print (subword_train_inputs[-1])\n",
    "    probs = model.predict([word_train_inputs,char_train_inputs,subword_train_inputs,\\\n",
    "                                      char_train_inputs])\n",
    "    \n",
    "    #print (probs)\n",
    "    #print (all_texts)\n",
    "    \n",
    "    probs_ = probs[-1] - probs\n",
    "    #class_idx = probs.argmax(-1)[-1]\n",
    "    \n",
    "    return probs_[:,class_idx]\n",
    "\n",
    "import html\n",
    "from IPython.core.display import display, HTML\n",
    "\n",
    "def html_escape(text):\n",
    "    return html.escape(text)\n",
    "\n",
    "def gradient_plots(text,weights,max_alpha=.3):\n",
    "    highlighted_text = []\n",
    "\n",
    "    for i, word in enumerate(text.split()):\n",
    "        \n",
    "        if i < args.max_text_len:\n",
    "            weight = weights[i]\n",
    "\n",
    "            if weight is not None:\n",
    "                highlighted_text.append('<span style=\"background-color:rgba(135,206,250,' + str(weight / max_alpha) + ');\">' + html_escape(word) + '</span>')\n",
    "            else:\n",
    "                highlighted_text.append(word)\n",
    "            \n",
    "    highlighted_text = ' '.join(highlighted_text)\n",
    "    \n",
    "    return highlighted_text\n",
    "\n",
    "def plot_attention(attention, sentence,plot_size=12, filename='image.pdf'):\n",
    "    fig = plt.figure(figsize=(plot_size,plot_size))\n",
    "    ax = fig.add_subplot(1, 1, 1)\n",
    "    ax.matshow(attention, cmap='Blues')\n",
    "\n",
    "    fontdict = {'fontsize': 30}\n",
    "\n",
    "    ax.set_xticklabels([''] + sentence, fontdict=fontdict, rotation=45)\n",
    "    ax.set_yticklabels([''] + sentence, fontdict=fontdict)\n",
    "\n",
    "    ax.xaxis.set_major_locator(ticker.MultipleLocator(1))\n",
    "    ax.yaxis.set_major_locator(ticker.MultipleLocator(1))\n",
    "\n",
    "    SMALL_SIZE = 30\n",
    "    MEDIUM_SIZE = 30\n",
    "    BIGGER_SIZE = 30\n",
    "    \n",
    "    #plt.show()\n",
    "    plt.rcParams[\"font.family\"] = 'sans-serif' #\"Times New Roman\"\n",
    "    plt.rcParams[\"font.size\"] = \"25\"\n",
    "\n",
    "    \n",
    "    #plt.rc('font', size=SMALL_SIZE)          # controls default text sizes\n",
    "    plt.rc('axes', titlesize=SMALL_SIZE)     # fontsize of the axes title\n",
    "    plt.rc('axes', labelsize=MEDIUM_SIZE)    # fontsize of the x and y labels\n",
    "    plt.rc('xtick', labelsize=SMALL_SIZE)    # fontsize of the tick labels\n",
    "    plt.rc('ytick', labelsize=SMALL_SIZE)    # fontsize of the tick labels\n",
    "    plt.rc('legend', fontsize=SMALL_SIZE)    # legend fontsize\n",
    "    plt.rc('figure', titlesize=BIGGER_SIZE)  # fontsize of the figure title\n",
    "    \n",
    "    plt.xlabel(\"\")\n",
    "    plt.ylabel(\"\")\n",
    "    plt.title(\"\")\n",
    "    \n",
    "    plt.savefig(filename, dpi=200)"
   ]
  },
  {
   "cell_type": "code",
   "execution_count": 35,
   "metadata": {},
   "outputs": [
    {
     "data": {
      "text/plain": [
       "0.9658372385991435"
      ]
     },
     "execution_count": 35,
     "metadata": {},
     "output_type": "execute_result"
    }
   ],
   "source": [
    "f1_score(test_df.category,test_df.WLSTM_pred,average='weighted')"
   ]
  },
  {
   "cell_type": "code",
   "execution_count": 36,
   "metadata": {},
   "outputs": [
    {
     "data": {
      "image/png": "[encoded data removed]",
      "text/plain": [
       "<Figure size 864x864 with 1 Axes>"
      ]
     },
     "metadata": {
      "needs_background": "light"
     },
     "output_type": "display_data"
    }
   ],
   "source": [
    "cm = pd.crosstab(test_df.category, test_df.Transformer_pred)\n",
    "cm = cm[cm.index]\n",
    "cm\n",
    "plot_confusion_matrix(cm           = cm.values, \n",
    "                      normalize    = False,\n",
    "                      target_names = cm.index.to_list(),\n",
    "                      title        = \"Confusion Matrix\",\n",
    "                     model_name='Transformer')"
   ]
  },
  {
   "cell_type": "code",
   "execution_count": 37,
   "metadata": {},
   "outputs": [
    {
     "data": {
      "image/png": "[encoded data removed]",
      "text/plain": [
       "<Figure size 864x864 with 1 Axes>"
      ]
     },
     "metadata": {
      "needs_background": "light"
     },
     "output_type": "display_data"
    }
   ],
   "source": [
    "cm = pd.crosstab(test_df.category, test_df.HAN_pred)\n",
    "cm = cm[cm.index]\n",
    "cm\n",
    "plot_confusion_matrix(cm           = cm.values, \n",
    "                      normalize    = False,\n",
    "                      target_names = cm.index.to_list(),\n",
    "                      title        = \"Confusion Matrix\",\n",
    "                     model_name='HAN')"
   ]
  },
  {
   "cell_type": "code",
   "execution_count": 38,
   "metadata": {},
   "outputs": [
    {
     "data": {
      "image/png": "[encoded data removed]",
      "text/plain": [
       "<Figure size 864x864 with 1 Axes>"
      ]
     },
     "metadata": {
      "needs_background": "light"
     },
     "output_type": "display_data"
    }
   ],
   "source": [
    "cm = pd.crosstab(test_df.category, test_df.WLSTM_pred)\n",
    "cm = cm[cm.index]\n",
    "cm\n",
    "plot_confusion_matrix(cm           = cm.values, \n",
    "                      normalize    = False,\n",
    "                      target_names = cm.index.to_list(),\n",
    "                      title        = \"Confusion Matrix\",\n",
    "                     model_name='WLSTM')"
   ]
  },
  {
   "cell_type": "code",
   "execution_count": 39,
   "metadata": {},
   "outputs": [
    {
     "data": {
      "image/png": "[encoded data removed]",
      "text/plain": [
       "<Figure size 864x864 with 1 Axes>"
      ]
     },
     "metadata": {
      "needs_background": "light"
     },
     "output_type": "display_data"
    },
    {
     "data": {
      "image/png": "[encoded data removed]",
      "text/plain": [
       "<Figure size 864x864 with 1 Axes>"
      ]
     },
     "metadata": {
      "needs_background": "light"
     },
     "output_type": "display_data"
    },
    {
     "data": {
      "image/png": "[encoded data removed]",
      "text/plain": [
       "<Figure size 864x864 with 1 Axes>"
      ]
     },
     "metadata": {
      "needs_background": "light"
     },
     "output_type": "display_data"
    }
   ],
   "source": [
    "#test_pred = t_model.predict([word_test_inputs, char_test_inputs, subword_test_inputs, transformer_test_inputs])\n",
    "\n",
    "#test_df['Transformer_pred'] = [idx2label[i] for i in test_pred.argmax(-1)]\n",
    "\n",
    "test_pred = h_model.predict([word_test_inputs, char_test_inputs, subword_test_inputs, transformer_test_inputs])\n",
    "\n",
    "test_df['HAN_pred'] = [idx2label[i] for i in test_pred.argmax(-1)]\n",
    "\n",
    "test_pred = w_model.predict([word_test_inputs, char_test_inputs, subword_test_inputs, transformer_test_inputs])\n",
    "\n",
    "test_df['WLSTM_pred'] = [idx2label[i] for i in test_pred.argmax(-1)]\n",
    "\n",
    "cm = pd.crosstab(test_df.category, test_df.Transformer_pred)\n",
    "cm = cm[cm.index]\n",
    "cm\n",
    "plot_confusion_matrix(cm           = cm.values, \n",
    "                      normalize    = False,\n",
    "                      target_names = cm.index.to_list(),\n",
    "                      title        = \"Confusion Matrix\",\n",
    "                     model_name='Transformer_pl')\n",
    "\n",
    "cm = pd.crosstab(test_df.category, test_df.HAN_pred)\n",
    "cm = cm[cm.index]\n",
    "cm\n",
    "plot_confusion_matrix(cm           = cm.values, \n",
    "                      normalize    = False,\n",
    "                      target_names = cm.index.to_list(),\n",
    "                      title        = \"Confusion Matrix\",\n",
    "                     model_name='HAN_pl')\n",
    "\n",
    "cm = pd.crosstab(test_df.category, test_df.WLSTM_pred)\n",
    "cm = cm[cm.index]\n",
    "cm\n",
    "plot_confusion_matrix(cm           = cm.values, \n",
    "                      normalize    = False,\n",
    "                      target_names = cm.index.to_list(),\n",
    "                      title        = \"Confusion Matrix\",\n",
    "                     model_name='WLSTM_pl')\n"
   ]
  },
  {
   "cell_type": "code",
   "execution_count": 40,
   "metadata": {},
   "outputs": [],
   "source": [
    "test_df = test_df.reset_index(drop=True)\n",
    "\n",
    "test_pred = model2.predict([word_test_inputs, char_test_inputs, subword_test_inputs, transformer_test_inputs])\n",
    "\n",
    "test_df['Transformer_pred'] = [idx2label[i] for i in test_pred.argmax(-1)]\n",
    "\n",
    "test_pred = model4.predict([word_test_inputs, char_test_inputs, subword_test_inputs, transformer_test_inputs])\n",
    "\n",
    "test_df['HAN_pred'] = [idx2label[i] for i in test_pred.argmax(-1)]\n",
    "\n",
    "test_pred = model6.predict([word_test_inputs, char_test_inputs, subword_test_inputs, transformer_test_inputs])\n",
    "\n",
    "test_df['WLSTM_pred'] = [idx2label[i] for i in test_pred.argmax(-1)]"
   ]
  },
  {
   "cell_type": "code",
   "execution_count": 41,
   "metadata": {},
   "outputs": [
    {
     "data": {
      "text/html": [
       "<div>\n",
       "<style scoped>\n",
       "    .dataframe tbody tr th:only-of-type {\n",
       "        vertical-align: middle;\n",
       "    }\n",
       "\n",
       "    .dataframe tbody tr th {\n",
       "        vertical-align: top;\n",
       "    }\n",
       "\n",
       "    .dataframe thead th {\n",
       "        text-align: right;\n",
       "    }\n",
       "</style>\n",
       "<table border=\"1\" class=\"dataframe\">\n",
       "  <thead>\n",
       "    <tr style=\"text-align: right;\">\n",
       "      <th></th>\n",
       "      <th>text</th>\n",
       "      <th>category</th>\n",
       "      <th>Transformer_pred</th>\n",
       "      <th>HAN_pred</th>\n",
       "      <th>WLSTM_pred</th>\n",
       "    </tr>\n",
       "  </thead>\n",
       "  <tbody>\n",
       "    <tr>\n",
       "      <th>32</th>\n",
       "      <td>arey aap ki company ki advertisement kum ho gai ?aisa mat kariyo,aap thode aur lutt lo aam janta ko lekin top par raho</td>\n",
       "      <td>YES</td>\n",
       "      <td>NO</td>\n",
       "      <td>NO</td>\n",
       "      <td>NO</td>\n",
       "    </tr>\n",
       "    <tr>\n",
       "      <th>36</th>\n",
       "      <td>kam se kam jai shree ram keh k jaan to bach jaati hai..... kahi allah hu akhbar keh k jaane le li jaati hai.....</td>\n",
       "      <td>YES</td>\n",
       "      <td>NO</td>\n",
       "      <td>YES</td>\n",
       "      <td>NO</td>\n",
       "    </tr>\n",
       "    <tr>\n",
       "      <th>58</th>\n",
       "      <td>ab kaun aajkal aise twitter mein bhi darshan dete hain?!  ki tarah! hum dhanya hue!</td>\n",
       "      <td>YES</td>\n",
       "      <td>NO</td>\n",
       "      <td>YES</td>\n",
       "      <td>NO</td>\n",
       "    </tr>\n",
       "    <tr>\n",
       "      <th>76</th>\n",
       "      <td>yaar ek ehsaan mujh par karna ki mujhpar koi ehsaan mat karna</td>\n",
       "      <td>NO</td>\n",
       "      <td>YES</td>\n",
       "      <td>YES</td>\n",
       "      <td>NO</td>\n",
       "    </tr>\n",
       "    <tr>\n",
       "      <th>127</th>\n",
       "      <td>ye pakistani sainik ka khat hoga. bhatiye hota to patra likhta tatsam hindi ya sanskrit mein</td>\n",
       "      <td>YES</td>\n",
       "      <td>NO</td>\n",
       "      <td>NO</td>\n",
       "      <td>NO</td>\n",
       "    </tr>\n",
       "    <tr>\n",
       "      <th>180</th>\n",
       "      <td>so, how dare he ki wo ek neta k rishtedaar ka chlaan kaate aukaat kya hai iski ek mamuli sa police wala</td>\n",
       "      <td>YES</td>\n",
       "      <td>NO</td>\n",
       "      <td>YES</td>\n",
       "      <td>NO</td>\n",
       "    </tr>\n",
       "    <tr>\n",
       "      <th>220</th>\n",
       "      <td>jaani jo log sonay ki chain galay may daltay hain ,woh shirt ke uppar wala button nahi daltay !</td>\n",
       "      <td>NO</td>\n",
       "      <td>YES</td>\n",
       "      <td>YES</td>\n",
       "      <td>YES</td>\n",
       "    </tr>\n",
       "    <tr>\n",
       "      <th>280</th>\n",
       "      <td>u.p me log chutiya aur electricity bahot jada kaatte</td>\n",
       "      <td>YES</td>\n",
       "      <td>NO</td>\n",
       "      <td>NO</td>\n",
       "      <td>NO</td>\n",
       "    </tr>\n",
       "    <tr>\n",
       "      <th>284</th>\n",
       "      <td>'kamar patli jitni utna hi zyada mazaa hai'' this while salman grabbing zareen khan's waist!</td>\n",
       "      <td>YES</td>\n",
       "      <td>NO</td>\n",
       "      <td>YES</td>\n",
       "      <td>YES</td>\n",
       "    </tr>\n",
       "    <tr>\n",
       "      <th>322</th>\n",
       "      <td>mera bharat mahan  ! beti bachao, beti padhao, indeed !     pic.twitter.com/ezkoaipv</td>\n",
       "      <td>YES</td>\n",
       "      <td>NO</td>\n",
       "      <td>NO</td>\n",
       "      <td>NO</td>\n",
       "    </tr>\n",
       "    <tr>\n",
       "      <th>465</th>\n",
       "      <td>- kajol,  shah rukh khan, rani mukherjee!       .twitter.com/ipwxpbmo</td>\n",
       "      <td>NO</td>\n",
       "      <td>YES</td>\n",
       "      <td>NO</td>\n",
       "      <td>NO</td>\n",
       "    </tr>\n",
       "  </tbody>\n",
       "</table>\n",
       "</div>"
      ],
      "text/plain": [
       "                                                                                                                       text  \\\n",
       "32   arey aap ki company ki advertisement kum ho gai ?aisa mat kariyo,aap thode aur lutt lo aam janta ko lekin top par raho   \n",
       "36   kam se kam jai shree ram keh k jaan to bach jaati hai..... kahi allah hu akhbar keh k jaane le li jaati hai.....         \n",
       "58   ab kaun aajkal aise twitter mein bhi darshan dete hain?!  ki tarah! hum dhanya hue!                                      \n",
       "76   yaar ek ehsaan mujh par karna ki mujhpar koi ehsaan mat karna                                                            \n",
       "127  ye pakistani sainik ka khat hoga. bhatiye hota to patra likhta tatsam hindi ya sanskrit mein                             \n",
       "180  so, how dare he ki wo ek neta k rishtedaar ka chlaan kaate aukaat kya hai iski ek mamuli sa police wala                  \n",
       "220  jaani jo log sonay ki chain galay may daltay hain ,woh shirt ke uppar wala button nahi daltay !                          \n",
       "280  u.p me log chutiya aur electricity bahot jada kaatte                                                                     \n",
       "284  'kamar patli jitni utna hi zyada mazaa hai'' this while salman grabbing zareen khan's waist!                             \n",
       "322  mera bharat mahan  ! beti bachao, beti padhao, indeed !     pic.twitter.com/ezkoaipv                                     \n",
       "465  - kajol,  shah rukh khan, rani mukherjee!       .twitter.com/ipwxpbmo                                                    \n",
       "\n",
       "    category Transformer_pred HAN_pred WLSTM_pred  \n",
       "32   YES      NO               NO       NO         \n",
       "36   YES      NO               YES      NO         \n",
       "58   YES      NO               YES      NO         \n",
       "76   NO       YES              YES      NO         \n",
       "127  YES      NO               NO       NO         \n",
       "180  YES      NO               YES      NO         \n",
       "220  NO       YES              YES      YES        \n",
       "280  YES      NO               NO       NO         \n",
       "284  YES      NO               YES      YES        \n",
       "322  YES      NO               NO       NO         \n",
       "465  NO       YES              NO       NO         "
      ]
     },
     "execution_count": 41,
     "metadata": {},
     "output_type": "execute_result"
    }
   ],
   "source": [
    "test_df[test_df.category != test_df.Transformer_pred].head(20)"
   ]
  },
  {
   "cell_type": "code",
   "execution_count": 42,
   "metadata": {},
   "outputs": [
    {
     "data": {
      "text/plain": [
       "{'NO': 0, 'YES': 1}"
      ]
     },
     "execution_count": 42,
     "metadata": {},
     "output_type": "execute_result"
    }
   ],
   "source": [
    "label2idx"
   ]
  },
  {
   "cell_type": "code",
   "execution_count": 43,
   "metadata": {},
   "outputs": [
    {
     "data": {
      "text/html": [
       "<span style=\"background-color:rgba(135,206,250,0.8463021119435629);\">ab</span> <span style=\"background-color:rgba(135,206,250,0.015280644098917644);\">kaun</span> <span style=\"background-color:rgba(135,206,250,0.004245837529500326);\">aajkal</span> <span style=\"background-color:rgba(135,206,250,0.000966191291809082);\">aise</span> <span style=\"background-color:rgba(135,206,250,0.0010448694229125977);\">twitter</span> <span style=\"background-color:rgba(135,206,250,0.00043233235677083337);\">mein</span> <span style=\"background-color:rgba(135,206,250,0.0006310145060221355);\">bhi</span> <span style=\"background-color:rgba(135,206,250,0.0005338589350382488);\">darshan</span> <span style=\"background-color:rgba(135,206,250,0.0005219380060831706);\">dete</span> <span style=\"background-color:rgba(135,206,250,0.0002753734588623047);\">hain?!</span> <span style=\"background-color:rgba(135,206,250,0.00024060408274332684);\">ki</span> <span style=\"background-color:rgba(135,206,250,0.00016252199808756512);\">tarah!</span> <span style=\"background-color:rgba(135,206,250,0.000504453976949056);\">hum</span> <span style=\"background-color:rgba(135,206,250,5.861123402913412e-05);\">dhanya</span> <span style=\"background-color:rgba(135,206,250,0.0);\">hue!</span>"
      ],
      "text/plain": [
       "<IPython.core.display.HTML object>"
      ]
     },
     "metadata": {},
     "output_type": "display_data"
    }
   ],
   "source": [
    "text = test_df.text.iloc[58]\n",
    "\n",
    "highlighted_text = gradient_plots(text,get_conditional_weights(text, model2, 1))\n",
    "\n",
    "display(HTML(highlighted_text))\n"
   ]
  },
  {
   "cell_type": "code",
   "execution_count": 44,
   "metadata": {},
   "outputs": [
    {
     "data": {
      "text/html": [
       "<span style=\"background-color:rgba(135,206,250,3.331582347551982);\">ab</span> <span style=\"background-color:rgba(135,206,250,3.331582347551982);\">kaun</span> <span style=\"background-color:rgba(135,206,250,3.331582347551982);\">aajkal</span> <span style=\"background-color:rgba(135,206,250,3.331582347551982);\">aise</span> <span style=\"background-color:rgba(135,206,250,3.331582347551982);\">twitter</span> <span style=\"background-color:rgba(135,206,250,3.331461747487386);\">mein</span> <span style=\"background-color:rgba(135,206,250,1.5070197979609172);\">bhi</span> <span style=\"background-color:rgba(135,206,250,0.37458280722300213);\">darshan</span> <span style=\"background-color:rgba(135,206,250,1.3927582899729412);\">dete</span> <span style=\"background-color:rgba(135,206,250,0.42763690153757733);\">hain?!</span> <span style=\"background-color:rgba(135,206,250,0.07316768169403076);\">ki</span> <span style=\"background-color:rgba(135,206,250,0.24384538332621258);\">tarah!</span> <span style=\"background-color:rgba(135,206,250,0.0005477666854858398);\">hum</span> <span style=\"background-color:rgba(135,206,250,0.0127561887105306);\">dhanya</span> <span style=\"background-color:rgba(135,206,250,0.0);\">hue!</span>"
      ],
      "text/plain": [
       "<IPython.core.display.HTML object>"
      ]
     },
     "metadata": {},
     "output_type": "display_data"
    }
   ],
   "source": [
    "text = test_df.text.iloc[58]\n",
    "\n",
    "highlighted_text = gradient_plots(text,get_conditional_weights(text, model4, 1))\n",
    "\n",
    "display(HTML(highlighted_text))\n"
   ]
  },
  {
   "cell_type": "code",
   "execution_count": 45,
   "metadata": {},
   "outputs": [
    {
     "data": {
      "text/html": [
       "<span style=\"background-color:rgba(135,206,250,-0.03297532287736734);\">ab</span> <span style=\"background-color:rgba(135,206,250,0.00030092060721168917);\">kaun</span> <span style=\"background-color:rgba(135,206,250,-0.01238752156496048);\">aajkal</span> <span style=\"background-color:rgba(135,206,250,-0.04497067692379157);\">aise</span> <span style=\"background-color:rgba(135,206,250,-0.007675339778264364);\">twitter</span> <span style=\"background-color:rgba(135,206,250,-0.013123985069493454);\">mein</span> <span style=\"background-color:rgba(135,206,250,-0.011304984800517559);\">bhi</span> <span style=\"background-color:rgba(135,206,250,-0.017946134321391582);\">darshan</span> <span style=\"background-color:rgba(135,206,250,-0.006107296794652939);\">dete</span> <span style=\"background-color:rgba(135,206,250,-0.03002321347594261);\">hain?!</span> <span style=\"background-color:rgba(135,206,250,-0.051411405826608345);\">ki</span> <span style=\"background-color:rgba(135,206,250,-0.004678076754013698);\">tarah!</span> <span style=\"background-color:rgba(135,206,250,-0.0035205184637258453);\">hum</span> <span style=\"background-color:rgba(135,206,250,-0.0026341923512518406);\">dhanya</span> <span style=\"background-color:rgba(135,206,250,0.0);\">hue!</span>"
      ],
      "text/plain": [
       "<IPython.core.display.HTML object>"
      ]
     },
     "metadata": {},
     "output_type": "display_data"
    }
   ],
   "source": [
    "text = test_df.text.iloc[58]\n",
    "\n",
    "highlighted_text = gradient_plots(text,get_conditional_weights(text, model6, 1))\n",
    "\n",
    "display(HTML(highlighted_text))\n"
   ]
  },
  {
   "cell_type": "code",
   "execution_count": 46,
   "metadata": {},
   "outputs": [
    {
     "data": {
      "text/html": [
       "<span style=\"background-color:rgba(135,206,250,1.6598488887151084);\">mera</span> <span style=\"background-color:rgba(135,206,250,0.9722423553466797);\">bharat</span> <span style=\"background-color:rgba(135,206,250,0.8689145247141521);\">mahan</span> <span style=\"background-color:rgba(135,206,250,0.9333167473475139);\">!</span> <span style=\"background-color:rgba(135,206,250,0.638080636660258);\">beti</span> <span style=\"background-color:rgba(135,206,250,0.44999678929646814);\">bachao,</span> <span style=\"background-color:rgba(135,206,250,0.19638220469156903);\">beti</span> <span style=\"background-color:rgba(135,206,250,0.08127033710479736);\">padhao,</span> <span style=\"background-color:rgba(135,206,250,0.029823581377665203);\">indeed</span> <span style=\"background-color:rgba(135,206,250,0.029329458872477215);\">!</span> <span style=\"background-color:rgba(135,206,250,0.0);\">pic.twitter.com/ezkoaipv</span>"
      ],
      "text/plain": [
       "<IPython.core.display.HTML object>"
      ]
     },
     "metadata": {},
     "output_type": "display_data"
    }
   ],
   "source": [
    "text = test_df.text.iloc[322]\n",
    "\n",
    "highlighted_text = gradient_plots(text,get_conditional_weights(text, model2, 1))\n",
    "\n",
    "display(HTML(highlighted_text))\n"
   ]
  },
  {
   "cell_type": "code",
   "execution_count": 47,
   "metadata": {},
   "outputs": [
    {
     "data": {
      "text/html": [
       "<span style=\"background-color:rgba(135,206,250,0.0019015109864994884);\">mera</span> <span style=\"background-color:rgba(135,206,250,0.0019013526616618037);\">bharat</span> <span style=\"background-color:rgba(135,206,250,0.0019015115685760975);\">mahan</span> <span style=\"background-color:rgba(135,206,250,0.0019015100163718066);\">!</span> <span style=\"background-color:rgba(135,206,250,0.001900705974549055);\">beti</span> <span style=\"background-color:rgba(135,206,250,0.0018623888414974015);\">bachao,</span> <span style=\"background-color:rgba(135,206,250,0.0018989917589351535);\">beti</span> <span style=\"background-color:rgba(135,206,250,0.0018915097462013364);\">padhao,</span> <span style=\"background-color:rgba(135,206,250,0.0017631430334101121);\">indeed</span> <span style=\"background-color:rgba(135,206,250,0.0018655256523440282);\">!</span> <span style=\"background-color:rgba(135,206,250,0.0);\">pic.twitter.com/ezkoaipv</span>"
      ],
      "text/plain": [
       "<IPython.core.display.HTML object>"
      ]
     },
     "metadata": {},
     "output_type": "display_data"
    }
   ],
   "source": [
    "text = test_df.text.iloc[322]\n",
    "\n",
    "highlighted_text = gradient_plots(text,get_conditional_weights(text, model4, 1))\n",
    "\n",
    "display(HTML(highlighted_text))\n"
   ]
  },
  {
   "cell_type": "code",
   "execution_count": 48,
   "metadata": {},
   "outputs": [
    {
     "data": {
      "text/html": [
       "<span style=\"background-color:rgba(135,206,250,-0.1281744862596194);\">mera</span> <span style=\"background-color:rgba(135,206,250,-0.757829894622167);\">bharat</span> <span style=\"background-color:rgba(135,206,250,-1.452926297982534);\">mahan</span> <span style=\"background-color:rgba(135,206,250,-1.452926297982534);\">!</span> <span style=\"background-color:rgba(135,206,250,-0.996843973795573);\">beti</span> <span style=\"background-color:rgba(135,206,250,-0.5220099786917369);\">bachao,</span> <span style=\"background-color:rgba(135,206,250,-0.25860170523325604);\">beti</span> <span style=\"background-color:rgba(135,206,250,-0.323271652062734);\">padhao,</span> <span style=\"background-color:rgba(135,206,250,-0.3813169151544571);\">indeed</span> <span style=\"background-color:rgba(135,206,250,-0.3813169151544571);\">!</span> <span style=\"background-color:rgba(135,206,250,0.0);\">pic.twitter.com/ezkoaipv</span>"
      ],
      "text/plain": [
       "<IPython.core.display.HTML object>"
      ]
     },
     "metadata": {},
     "output_type": "display_data"
    }
   ],
   "source": [
    "text = test_df.text.iloc[322]\n",
    "\n",
    "highlighted_text = gradient_plots(text,get_conditional_weights(text, model6, 1))\n",
    "\n",
    "display(HTML(highlighted_text))\n"
   ]
  },
  {
   "cell_type": "code",
   "execution_count": 49,
   "metadata": {},
   "outputs": [],
   "source": [
    "import matplotlib.pyplot as plt\n",
    "import matplotlib.ticker as ticker\n",
    "\n",
    "def get_word_attention(text, model, tokenizer,model_name):\n",
    "    df = pd.DataFrame()\n",
    "    df['text'] = [text]\n",
    "    transformer_val_inputs, _, _ = data.data_utils.compute_transformer_input_arrays(df, 'text', tokenizer, args.max_char_len)\n",
    "    \n",
    "    print (transformer_val_inputs.shape)\n",
    "    \n",
    "    pos = model.layers[1](transformer_val_inputs)\n",
    "    embs = model.layers[2](pos)\n",
    "    \n",
    "    attn = model.layers[3].att\n",
    "    \n",
    "    batch_size = tf.shape(embs)[0]\n",
    "    query = attn.query_dense(embs)  # (batch_size, seq_len, embed_dim)\n",
    "    key = attn.key_dense(embs)  # (batch_size, seq_len, embed_dim)\n",
    "    value = attn.value_dense(embs)  # (batch_size, seq_len, embed_dim)\n",
    "    query = attn.separate_heads(\n",
    "        query, batch_size\n",
    "    )  # (batch_size, num_heads, seq_len, projection_dim)\n",
    "    key = attn.separate_heads(\n",
    "        key, batch_size\n",
    "    )  # (batch_size, num_heads, seq_len, projection_dim)\n",
    "    value = attn.separate_heads(\n",
    "        value, batch_size\n",
    "    )  # (batch_size, num_heads, seq_len, projection_dim)\n",
    "    attention, weights = attn.attention(query, key, value)\n",
    "    weights = weights.numpy().mean(1)[0]\n",
    "\n",
    "    sentence = tokenizer.tokenize(text) #text.split()\n",
    "    try:\n",
    "        plot_attention(weights[:len(sentence),:len(sentence)],sentence,filename='../plots/attention_sarcasm_{}.pdf'.format(model_name))\n",
    "    except:\n",
    "        plot_attention(weights,sentence,filename='../plots/attention_sarcasm_{}.pdf'.format(model_name))"
   ]
  },
  {
   "cell_type": "code",
   "execution_count": 50,
   "metadata": {},
   "outputs": [
    {
     "data": {
      "text/html": [
       "<div>\n",
       "<style scoped>\n",
       "    .dataframe tbody tr th:only-of-type {\n",
       "        vertical-align: middle;\n",
       "    }\n",
       "\n",
       "    .dataframe tbody tr th {\n",
       "        vertical-align: top;\n",
       "    }\n",
       "\n",
       "    .dataframe thead th {\n",
       "        text-align: right;\n",
       "    }\n",
       "</style>\n",
       "<table border=\"1\" class=\"dataframe\">\n",
       "  <thead>\n",
       "    <tr style=\"text-align: right;\">\n",
       "      <th></th>\n",
       "      <th>text</th>\n",
       "      <th>category</th>\n",
       "      <th>Transformer_pred</th>\n",
       "      <th>HAN_pred</th>\n",
       "      <th>WLSTM_pred</th>\n",
       "    </tr>\n",
       "  </thead>\n",
       "  <tbody>\n",
       "    <tr>\n",
       "      <th>505</th>\n",
       "      <td>bangladesh win!     pic.twitter.com/vvezqjkke</td>\n",
       "      <td>NO</td>\n",
       "      <td>NO</td>\n",
       "      <td>NO</td>\n",
       "      <td>NO</td>\n",
       "    </tr>\n",
       "    <tr>\n",
       "      <th>506</th>\n",
       "      <td>yeh  triple talaq  kya hota hai ?</td>\n",
       "      <td>NO</td>\n",
       "      <td>NO</td>\n",
       "      <td>NO</td>\n",
       "      <td>NO</td>\n",
       "    </tr>\n",
       "    <tr>\n",
       "      <th>507</th>\n",
       "      <td>main khyal hun kisi aur ka mujhey sochta koi aur hey</td>\n",
       "      <td>YES</td>\n",
       "      <td>YES</td>\n",
       "      <td>YES</td>\n",
       "      <td>YES</td>\n",
       "    </tr>\n",
       "    <tr>\n",
       "      <th>508</th>\n",
       "      <td>tripletalaq pe mullas moulavis,muslim auraton pezulm karte rehna chahte hein.owaisi khdeda hawa naqlee neta halal ke chakkar me hai</td>\n",
       "      <td>NO</td>\n",
       "      <td>NO</td>\n",
       "      <td>NO</td>\n",
       "      <td>NO</td>\n",
       "    </tr>\n",
       "    <tr>\n",
       "      <th>509</th>\n",
       "      <td>oye jyada politics naa kar,  usne sirf ek din ke liye ban lagaya hai,  taaki communal harmony bani rahe</td>\n",
       "      <td>NO</td>\n",
       "      <td>NO</td>\n",
       "      <td>NO</td>\n",
       "      <td>NO</td>\n",
       "    </tr>\n",
       "    <tr>\n",
       "      <th>510</th>\n",
       "      <td>sir  sunanda ko  hi de dete... maaraa kyun?   aisa mai nahi laug kehte hai...</td>\n",
       "      <td>NO</td>\n",
       "      <td>NO</td>\n",
       "      <td>NO</td>\n",
       "      <td>NO</td>\n",
       "    </tr>\n",
       "    <tr>\n",
       "      <th>511</th>\n",
       "      <td>dear yeh baat sach h log  ka najais istemal kr rahe the  unki jahalat k vajeh se islam ko badnaam ho raha h...</td>\n",
       "      <td>NO</td>\n",
       "      <td>NO</td>\n",
       "      <td>NO</td>\n",
       "      <td>NO</td>\n",
       "    </tr>\n",
       "    <tr>\n",
       "      <th>512</th>\n",
       "      <td>politics ke liye kuch log kuch bhi karne ke liye taiyar rahte hai. lasho pe bhi siasat. but then again, aap is wannabe congress with no base</td>\n",
       "      <td>NO</td>\n",
       "      <td>NO</td>\n",
       "      <td>NO</td>\n",
       "      <td>NO</td>\n",
       "    </tr>\n",
       "    <tr>\n",
       "      <th>513</th>\n",
       "      <td>aree vaiya, rohit sharma aur shikhar dhawan alag alag admi hai aur cricket khelte hai.. sab ek kardiya apne</td>\n",
       "      <td>NO</td>\n",
       "      <td>NO</td>\n",
       "      <td>NO</td>\n",
       "      <td>NO</td>\n",
       "    </tr>\n",
       "    <tr>\n",
       "      <th>514</th>\n",
       "      <td>humari indian politics sabse ghatyaa ho chuki hai vote ke kisi v apradhi mamla mai juree person ko sath detaie ha aur har sambhav sahoyg ...</td>\n",
       "      <td>NO</td>\n",
       "      <td>NO</td>\n",
       "      <td>NO</td>\n",
       "      <td>NO</td>\n",
       "    </tr>\n",
       "    <tr>\n",
       "      <th>515</th>\n",
       "      <td>resignation: athigaaramikkavargal, aarvaalargalin kadum vimarsanam. sanath jayasurya, sri lanka cricket'in therivu kulu padhavi vilagiyathu</td>\n",
       "      <td>NO</td>\n",
       "      <td>NO</td>\n",
       "      <td>NO</td>\n",
       "      <td>NO</td>\n",
       "    </tr>\n",
       "    <tr>\n",
       "      <th>516</th>\n",
       "      <td>agar bridge bana di jaye to in netao ke politics ka ek mudda khatm ho jayega</td>\n",
       "      <td>NO</td>\n",
       "      <td>NO</td>\n",
       "      <td>NO</td>\n",
       "      <td>NO</td>\n",
       "    </tr>\n",
       "    <tr>\n",
       "      <th>517</th>\n",
       "      <td>kuchh logo ki chaddiya bhi hoshiyar hai aur kuchh log abhi bhi dimaag ki talaash me hai.. :p</td>\n",
       "      <td>YES</td>\n",
       "      <td>YES</td>\n",
       "      <td>YES</td>\n",
       "      <td>NO</td>\n",
       "    </tr>\n",
       "    <tr>\n",
       "      <th>518</th>\n",
       "      <td>'vijay deenanath chauhan ' ()'       .twitter.com/bnwndouzrr</td>\n",
       "      <td>NO</td>\n",
       "      <td>NO</td>\n",
       "      <td>NO</td>\n",
       "      <td>NO</td>\n",
       "    </tr>\n",
       "    <tr>\n",
       "      <th>519</th>\n",
       "      <td>aaj   dekhne ke baad kisi bollywood star ka twitter kaam nahi karega . jo  ko sahi ya galat bata sake .</td>\n",
       "      <td>NO</td>\n",
       "      <td>NO</td>\n",
       "      <td>NO</td>\n",
       "      <td>NO</td>\n",
       "    </tr>\n",
       "    <tr>\n",
       "      <th>520</th>\n",
       "      <td>rahne do hardik babu tumse na ho payega, pahle batao khali pate bol rahe ho ya pate bharke.</td>\n",
       "      <td>NO</td>\n",
       "      <td>NO</td>\n",
       "      <td>YES</td>\n",
       "      <td>NO</td>\n",
       "    </tr>\n",
       "    <tr>\n",
       "      <th>521</th>\n",
       "      <td>film industry waalo ki soch aapas me hi nahi milati.  .twitter.com/tbwybqeeoy</td>\n",
       "      <td>NO</td>\n",
       "      <td>NO</td>\n",
       "      <td>NO</td>\n",
       "      <td>NO</td>\n",
       "    </tr>\n",
       "    <tr>\n",
       "      <th>522</th>\n",
       "      <td>past ke jhagde me future kho betha hai ye india. hate  hate</td>\n",
       "      <td>NO</td>\n",
       "      <td>NO</td>\n",
       "      <td>NO</td>\n",
       "      <td>YES</td>\n",
       "    </tr>\n",
       "    <tr>\n",
       "      <th>523</th>\n",
       "      <td>)music jo maartha tha wo indian idol mein baitha hai ...kaise ayegi  )...topi ghoomneke baad dikhayinadiya</td>\n",
       "      <td>YES</td>\n",
       "      <td>YES</td>\n",
       "      <td>YES</td>\n",
       "      <td>YES</td>\n",
       "    </tr>\n",
       "    <tr>\n",
       "      <th>524</th>\n",
       "      <td>jo public main bolete hai wahe sach bolete hai .. jaise   ne bola ...  hua ...hai bhai</td>\n",
       "      <td>NO</td>\n",
       "      <td>NO</td>\n",
       "      <td>YES</td>\n",
       "      <td>NO</td>\n",
       "    </tr>\n",
       "  </tbody>\n",
       "</table>\n",
       "</div>"
      ],
      "text/plain": [
       "                                                                                                                                             text  \\\n",
       "505  bangladesh win!     pic.twitter.com/vvezqjkke                                                                                                  \n",
       "506  yeh  triple talaq  kya hota hai ?                                                                                                              \n",
       "507  main khyal hun kisi aur ka mujhey sochta koi aur hey                                                                                           \n",
       "508  tripletalaq pe mullas moulavis,muslim auraton pezulm karte rehna chahte hein.owaisi khdeda hawa naqlee neta halal ke chakkar me hai            \n",
       "509  oye jyada politics naa kar,  usne sirf ek din ke liye ban lagaya hai,  taaki communal harmony bani rahe                                        \n",
       "510  sir  sunanda ko  hi de dete... maaraa kyun?   aisa mai nahi laug kehte hai...                                                                  \n",
       "511  dear yeh baat sach h log  ka najais istemal kr rahe the  unki jahalat k vajeh se islam ko badnaam ho raha h...                                 \n",
       "512  politics ke liye kuch log kuch bhi karne ke liye taiyar rahte hai. lasho pe bhi siasat. but then again, aap is wannabe congress with no base   \n",
       "513  aree vaiya, rohit sharma aur shikhar dhawan alag alag admi hai aur cricket khelte hai.. sab ek kardiya apne                                    \n",
       "514  humari indian politics sabse ghatyaa ho chuki hai vote ke kisi v apradhi mamla mai juree person ko sath detaie ha aur har sambhav sahoyg ...   \n",
       "515  resignation: athigaaramikkavargal, aarvaalargalin kadum vimarsanam. sanath jayasurya, sri lanka cricket'in therivu kulu padhavi vilagiyathu    \n",
       "516  agar bridge bana di jaye to in netao ke politics ka ek mudda khatm ho jayega                                                                   \n",
       "517  kuchh logo ki chaddiya bhi hoshiyar hai aur kuchh log abhi bhi dimaag ki talaash me hai.. :p                                                   \n",
       "518  'vijay deenanath chauhan ' ()'       .twitter.com/bnwndouzrr                                                                                   \n",
       "519  aaj   dekhne ke baad kisi bollywood star ka twitter kaam nahi karega . jo  ko sahi ya galat bata sake .                                        \n",
       "520  rahne do hardik babu tumse na ho payega, pahle batao khali pate bol rahe ho ya pate bharke.                                                    \n",
       "521  film industry waalo ki soch aapas me hi nahi milati.  .twitter.com/tbwybqeeoy                                                                  \n",
       "522  past ke jhagde me future kho betha hai ye india. hate  hate                                                                                    \n",
       "523  )music jo maartha tha wo indian idol mein baitha hai ...kaise ayegi  )...topi ghoomneke baad dikhayinadiya                                     \n",
       "524  jo public main bolete hai wahe sach bolete hai .. jaise   ne bola ...  hua ...hai bhai                                                         \n",
       "\n",
       "    category Transformer_pred HAN_pred WLSTM_pred  \n",
       "505  NO       NO               NO       NO         \n",
       "506  NO       NO               NO       NO         \n",
       "507  YES      YES              YES      YES        \n",
       "508  NO       NO               NO       NO         \n",
       "509  NO       NO               NO       NO         \n",
       "510  NO       NO               NO       NO         \n",
       "511  NO       NO               NO       NO         \n",
       "512  NO       NO               NO       NO         \n",
       "513  NO       NO               NO       NO         \n",
       "514  NO       NO               NO       NO         \n",
       "515  NO       NO               NO       NO         \n",
       "516  NO       NO               NO       NO         \n",
       "517  YES      YES              YES      NO         \n",
       "518  NO       NO               NO       NO         \n",
       "519  NO       NO               NO       NO         \n",
       "520  NO       NO               YES      NO         \n",
       "521  NO       NO               NO       NO         \n",
       "522  NO       NO               NO       YES        \n",
       "523  YES      YES              YES      YES        \n",
       "524  NO       NO               YES      NO         "
      ]
     },
     "execution_count": 50,
     "metadata": {},
     "output_type": "execute_result"
    }
   ],
   "source": [
    "test_df.tail(20)"
   ]
  },
  {
   "cell_type": "code",
   "execution_count": 56,
   "metadata": {},
   "outputs": [],
   "source": [
    "text = 'mera bharat mahan  ! beti bachao, beti padhao, indeed !'"
   ]
  },
  {
   "cell_type": "code",
   "execution_count": 57,
   "metadata": {},
   "outputs": [
    {
     "name": "stderr",
     "output_type": "stream",
     "text": [
      "100%|██████████| 1/1 [00:00<00:00, 963.54it/s]\n",
      "/Users/victor/anaconda3/lib/python3.7/site-packages/ipykernel_launcher.py:170: UserWarning: FixedFormatter should only be used together with FixedLocator\n",
      "/Users/victor/anaconda3/lib/python3.7/site-packages/ipykernel_launcher.py:171: UserWarning: FixedFormatter should only be used together with FixedLocator\n"
     ]
    },
    {
     "name": "stdout",
     "output_type": "stream",
     "text": [
      "(1, 150)\n"
     ]
    },
    {
     "data": {
      "image/png": "[encoded data removed]",
      "text/plain": [
       "<Figure size 864x864 with 1 Axes>"
      ]
     },
     "metadata": {
      "needs_background": "light"
     },
     "output_type": "display_data"
    }
   ],
   "source": [
    "get_word_attention(text, model1, tokenizer, 'Transformer')"
   ]
  },
  {
   "cell_type": "code",
   "execution_count": 52,
   "metadata": {},
   "outputs": [],
   "source": [
    "def get_word_attention_bert(text, bert_model, bert_tokenizer,filename='../plots/attention_sarcasm_BERT.pdf'):\n",
    "    \n",
    "    input = np.array(bert_tokenizer.encode(text))[np.newaxis,:]\n",
    "\n",
    "    out = bert_model(input)\n",
    "    \n",
    "    weights = out[-1][-1].numpy().mean(1)[0]\n",
    "    \n",
    "    sentence = tokenizer.tokenize(text) #text.split()\n",
    "    \n",
    "    try:\n",
    "        plot_attention(weights[:len(sentence),:len(sentence)],sentence,filename=filename)\n",
    "    except:\n",
    "        plot_attention(weights,sentence,filename=filename)"
   ]
  },
  {
   "cell_type": "code",
   "execution_count": 53,
   "metadata": {},
   "outputs": [],
   "source": [
    "model_name = 'BERT'\n",
    "loss = 'ce'\n",
    "bert_tokenizer = AutoTokenizer.from_pretrained(args.transformer_tokenizer_path)\n",
    "bert_model = BERT(word_vocab_size=n_words,char_vocab_size=n_chars,wpe_vocab_size=bert_tokenizer.vocab_size, vectorizer_shape=tfidf_shape, n_out=n_out,\\\n",
    "                               transformer_model_pretrained_path=args.transformer_model_pretrained_path,max_word_char_len=args.max_word_char_len,\\\n",
    "                                             max_text_len=args.max_text_len, max_char_len=100,\\\n",
    "                                             n_layers=args.n_layers, n_units=args.n_units, emb_dim=args.emb_dim)\n",
    "model_save_path = os.path.join(args.model_save_path, '{}_{}_with_features.h5'.format(model_name, loss))\n",
    "bert_model.load_weights(model_save_path)\n",
    "\n",
    "base_model = bert_model.layers[1]\n",
    "base_model.save_pretrained('./')\n",
    "\n",
    "config = AutoConfig.from_pretrained(args.transformer_config_path, output_attentions=True)\n",
    "\n",
    "base_model = TFAutoModel.from_pretrained('./', config=config)\n"
   ]
  },
  {
   "cell_type": "code",
   "execution_count": 58,
   "metadata": {},
   "outputs": [
    {
     "name": "stderr",
     "output_type": "stream",
     "text": [
      "/Users/victor/anaconda3/lib/python3.7/site-packages/ipykernel_launcher.py:170: UserWarning: FixedFormatter should only be used together with FixedLocator\n",
      "/Users/victor/anaconda3/lib/python3.7/site-packages/ipykernel_launcher.py:171: UserWarning: FixedFormatter should only be used together with FixedLocator\n"
     ]
    },
    {
     "data": {
      "image/png": "[encoded data removed]",
      "text/plain": [
       "<Figure size 864x864 with 1 Axes>"
      ]
     },
     "metadata": {
      "needs_background": "light"
     },
     "output_type": "display_data"
    }
   ],
   "source": [
    "get_word_attention_bert(text, base_model, bert_tokenizer)"
   ]
  },
  {
   "cell_type": "code",
   "execution_count": null,
   "metadata": {},
   "outputs": [],
   "source": []
  }
 ],
 "metadata": {
  "accelerator": "GPU",
  "colab": {
   "name": "experiments_sarcasm.ipynb",
   "provenance": [],
   "toc_visible": true
  },
  "kernelspec": {
   "display_name": "Python 3",
   "language": "python",
   "name": "python3"
  },
  "language_info": {
   "codemirror_mode": {
    "name": "ipython",
    "version": 3
   },
   "file_extension": ".py",
   "mimetype": "text/x-python",
   "name": "python",
   "nbconvert_exporter": "python",
   "pygments_lexer": "ipython3",
   "version": "3.7.1"
  }
 },
 "nbformat": 4,
 "nbformat_minor": 1
}
