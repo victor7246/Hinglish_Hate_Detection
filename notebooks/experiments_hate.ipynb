{
 "cells": [
  {
   "cell_type": "code",
   "execution_count": 1,
   "metadata": {
    "colab": {
     "base_uri": "https://localhost:8080/"
    },
    "id": "9kCb0aehNFZC",
    "outputId": "5a3b4e8c-31fd-4c04-9243-876ec6b7903b"
   },
   "outputs": [],
   "source": [
    "#from google.colab import files, drive\n",
    "#drive.mount('/content/drive')"
   ]
  },
  {
   "cell_type": "code",
   "execution_count": 2,
   "metadata": {
    "colab": {
     "base_uri": "https://localhost:8080/"
    },
    "id": "X0uJnM60PPXU",
    "outputId": "7771281c-e16c-47f8-c645-7d5d765858f9"
   },
   "outputs": [],
   "source": [
    "#!pip install -r ./drive/MyDrive/Hate_detection/Hinglish_Hate_Detection/requirements.txt"
   ]
  },
  {
   "cell_type": "code",
   "execution_count": 3,
   "metadata": {
    "id": "KWAK8Y7Gk44m"
   },
   "outputs": [],
   "source": [
    "\n",
    "from __future__ import absolute_import\n",
    "\n",
    "import sys\n",
    "import os\n",
    "\n",
    "#sys.path.append('./drive/MyDrive/Hate_detection/Hinglish_Hate_Detection/')\n"
   ]
  },
  {
   "cell_type": "code",
   "execution_count": 4,
   "metadata": {
    "id": "Z1CqQIcXPSkD"
   },
   "outputs": [],
   "source": [
    "#!wandb login"
   ]
  },
  {
   "cell_type": "code",
   "execution_count": 5,
   "metadata": {
    "colab": {
     "base_uri": "https://localhost:8080/"
    },
    "id": "l-IqVp0DPLFa",
    "outputId": "3bad6128-fb78-4e18-97da-db01c57b1f46"
   },
   "outputs": [
    {
     "name": "stderr",
     "output_type": "stream",
     "text": [
      "\u001b[34m\u001b[1mwandb\u001b[0m: \u001b[33mWARNING\u001b[0m If you're specifying your api key in code, ensure this code is not shared publically.\n",
      "\u001b[34m\u001b[1mwandb\u001b[0m: \u001b[33mWARNING\u001b[0m Consider setting the WANDB_API_KEY environment variable, or running `wandb login` from the command line.\n",
      "\u001b[34m\u001b[1mwandb\u001b[0m: \u001b[33mWARNING\u001b[0m Calling wandb.login() without arguments from jupyter should prompt you for an api key.\n",
      "\u001b[34m\u001b[1mwandb\u001b[0m: Appending key for api.wandb.ai to your netrc file: /Users/victor/.netrc\n",
      "\u001b[34m\u001b[1mwandb\u001b[0m: \u001b[33mWARNING\u001b[0m Unable to patch tensorflow.keras for use with W&B.  You will not be able to log images unless you set the generator argument of the callback.\n",
      "/Users/victor/anaconda3/lib/python3.7/site-packages/ipykernel_launcher.py:54: FutureWarning: Passing a negative integer is deprecated in version 1.0 and will not be supported in future version. Instead, use None to not limit the column width.\n"
     ]
    }
   ],
   "source": [
    "from __future__ import absolute_import\n",
    "\n",
    "import sys\n",
    "import os\n",
    "\n",
    "import shutil\n",
    "\n",
    "try:\n",
    "    from dotenv import find_dotenv, load_dotenv\n",
    "except:\n",
    "    pass\n",
    "\n",
    "import argparse\n",
    "\n",
    "#try:\n",
    "#    sys.path.append(os.path.join(os.path.dirname(__file__), './drive/MyDrive/Hate_detection/Hinglish_Hate_Detection/'))\n",
    "#except:\n",
    "#    sys.path.append(os.path.join(os.getcwd(), './drive/MyDrive/Hate_detection/Hinglish_Hate_Detection/'))\n",
    "    \n",
    "try:\n",
    "    sys.path.append(os.path.join(os.path.dirname(__file__), '../'))\n",
    "except:\n",
    "    sys.path.append(os.path.join(os.getcwd(), '../'))\n",
    "    \n",
    "import pandas as pd\n",
    "import numpy as np\n",
    "\n",
    "import pickle\n",
    "from collections import Counter\n",
    "from tqdm import tqdm\n",
    "\n",
    "import tensorflow as tf\n",
    "import tensorflow.keras.backend as K\n",
    "#import tensorflow_addons as tfa\n",
    "\n",
    "try:\n",
    "    import wandb\n",
    "    load_dotenv(find_dotenv())\n",
    "    wandb.login(key=os.environ['WANDB_API_KEY'])\n",
    "    from wandb.keras import WandbCallback\n",
    "    _has_wandb = True\n",
    "except:\n",
    "    _has_wandb = False\n",
    "\n",
    "import tokenizers\n",
    "from transformers import TFAutoModel, AutoTokenizer, AutoConfig, BertTokenizer\n",
    "\n",
    "from sklearn.model_selection import train_test_split, KFold\n",
    "from sklearn.metrics import classification_report, f1_score, accuracy_score, confusion_matrix\n",
    "from sklearn.feature_extraction.text import TfidfVectorizer\n",
    "\n",
    "from src import data, models\n",
    "\n",
    "pd.options.display.max_colwidth = -1"
   ]
  },
  {
   "cell_type": "code",
   "execution_count": 6,
   "metadata": {
    "colab": {
     "base_uri": "https://localhost:8080/"
    },
    "id": "BWQ_RjDKPF_9",
    "outputId": "4aae95af-ecde-455a-c759-20c435d5acfb"
   },
   "outputs": [
    {
     "name": "stdout",
     "output_type": "stream",
     "text": [
      "True\n"
     ]
    }
   ],
   "source": [
    "print (_has_wandb)"
   ]
  },
  {
   "cell_type": "code",
   "execution_count": 7,
   "metadata": {
    "id": "jKb2wFKVNFZH"
   },
   "outputs": [],
   "source": [
    "parser = argparse.ArgumentParser(prog='Trainer',conflict_handler='resolve')\n",
    "\n",
    "#parser.add_argument('--train_data', type=str, default='./drive/MyDrive/Hate_detection/Hinglish_Hate_Detection/data/raw/Hate-speech-dataset/hate_speech.tsv', required=False,\n",
    "#                    help='train data')\n",
    "\n",
    "parser.add_argument('--train_data', type=str, default='../data/raw/Hate-speech-dataset/hate_speech.tsv', required=False,\n",
    "                    help='train data')\n",
    "\n",
    "parser.add_argument('--val_data', type=str, default=None, required=False,\n",
    "                    help='validation data')\n",
    "parser.add_argument('--test_data', type=str, default=None, required=False,\n",
    "                    help='test data')\n",
    "\n",
    "parser.add_argument('--transformer_model_pretrained_path', type=str, default='bert-base-multilingual-cased', required=False,\n",
    "                    help='transformer model pretrained path or huggingface model name')\n",
    "parser.add_argument('--transformer_config_path', type=str, default='bert-base-multilingual-cased', required=False,\n",
    "                    help='transformer config file path or huggingface model name')\n",
    "parser.add_argument('--transformer_tokenizer_path', type=str, default='bert-base-multilingual-cased', required=False,\n",
    "                    help='transformer tokenizer file path or huggingface model name')\n",
    "\n",
    "parser.add_argument('--max_text_len', type=int, default=50, required=False,\n",
    "                    help='maximum length of text')\n",
    "parser.add_argument('--max_char_len', type=int, default=200, required=False,\n",
    "                    help='maximum length of text')\n",
    "parser.add_argument('--max_word_char_len', type=int, default=20, required=False,\n",
    "                    help='maximum length of text')\n",
    "\n",
    "parser.add_argument('--emb_dim', type=int, default=128, required=False,\n",
    "                    help='maximum length of text')\n",
    "parser.add_argument('--n_layers', type=int, default=2, required=False,\n",
    "                    help='maximum length of text')\n",
    "parser.add_argument('--n_units', type=int, default=128, required=False,\n",
    "                    help='maximum length of text')\n",
    "\n",
    "parser.add_argument('--epochs', type=int, default=500, required=False,\n",
    "                    help='number of epochs')\n",
    "parser.add_argument('--lr', type=float, default=.001, required=False,\n",
    "                    help='learning rate')\n",
    "parser.add_argument('--early_stopping_rounds', type=int, default=50, required=False,\n",
    "                    help='number of epochs for early stopping')\n",
    "parser.add_argument('--lr_schedule_round', type=int, default=30, required=False,\n",
    "                    help='number of epochs for learning rate scheduling')\n",
    "\n",
    "parser.add_argument('--train_batch_size', type=int, default=16, required=False,\n",
    "                    help='train batch size')\n",
    "parser.add_argument('--eval_batch_size', type=int, default=8, required=False,\n",
    "                    help='eval batch size')\n",
    "\n",
    "#parser.add_argument('--model_save_path', type=str, default='./drive/MyDrive/Hate_detection/Hinglish_Hate_Detection/models/hate_detection/', required=False,\n",
    "#                    help='seed')\n",
    "\n",
    "parser.add_argument('--model_save_path', type=str, default='../models/hate_detection/', required=False,\n",
    "                    help='seed')\n",
    "\n",
    "parser.add_argument('--wandb_logging', type=bool, default=True, required=False,\n",
    "                    help='wandb logging needed')\n",
    "\n",
    "parser.add_argument('--seed', type=int, default=42, required=False,\n",
    "                    help='seed')\n",
    "\n",
    "\n",
    "args, _ = parser.parse_known_args()"
   ]
  },
  {
   "cell_type": "code",
   "execution_count": 8,
   "metadata": {
    "id": "mjTSfc1xNFZJ"
   },
   "outputs": [],
   "source": [
    "tf.random.set_seed(args.seed)\n",
    "np.random.seed(args.seed)"
   ]
  },
  {
   "cell_type": "code",
   "execution_count": 9,
   "metadata": {
    "id": "4pBa4QUENFZN"
   },
   "outputs": [],
   "source": [
    "df = pd.read_csv(args.train_data, sep='\\t',header=None,usecols=[0,1])\n",
    "df.columns = ['text','category']\n",
    "df = df.dropna()\n",
    "df = df[df.text != '']\n",
    "\n",
    "kf = KFold(n_splits=5, shuffle=True, random_state=args.seed)\n",
    "for train_index, test_index in kf.split(df.text):\n",
    "    break\n",
    "\n",
    "train_df = df.iloc[train_index]\n",
    "kf2 = KFold(n_splits=2, shuffle=True, random_state=args.seed)\n",
    "for val_index, test_index in kf2.split(df.iloc[test_index].text):\n",
    "    break\n",
    "\n",
    "val_df = df.iloc[val_index]\n",
    "test_df = df.iloc[test_index]"
   ]
  },
  {
   "cell_type": "code",
   "execution_count": 10,
   "metadata": {
    "colab": {
     "base_uri": "https://localhost:8080/"
    },
    "id": "DrfukC0aNFZW",
    "outputId": "13418ffc-d03f-477f-c8fe-84e87c172219"
   },
   "outputs": [
    {
     "name": "stdout",
     "output_type": "stream",
     "text": [
      "(3662, 2) (458, 2) (458, 2)\n"
     ]
    }
   ],
   "source": [
    "print (train_df.shape, val_df.shape, test_df.shape)"
   ]
  },
  {
   "cell_type": "code",
   "execution_count": 11,
   "metadata": {
    "colab": {
     "base_uri": "https://localhost:8080/",
     "height": 238
    },
    "id": "GWR12E5dNFZZ",
    "outputId": "08b2a598-57e2-4b18-df98-a6fbfe39e11f"
   },
   "outputs": [
    {
     "data": {
      "text/html": [
       "<div>\n",
       "<style scoped>\n",
       "    .dataframe tbody tr th:only-of-type {\n",
       "        vertical-align: middle;\n",
       "    }\n",
       "\n",
       "    .dataframe tbody tr th {\n",
       "        vertical-align: top;\n",
       "    }\n",
       "\n",
       "    .dataframe thead th {\n",
       "        text-align: right;\n",
       "    }\n",
       "</style>\n",
       "<table border=\"1\" class=\"dataframe\">\n",
       "  <thead>\n",
       "    <tr style=\"text-align: right;\">\n",
       "      <th></th>\n",
       "      <th>text</th>\n",
       "      <th>category</th>\n",
       "    </tr>\n",
       "  </thead>\n",
       "  <tbody>\n",
       "    <tr>\n",
       "      <th>0</th>\n",
       "      <td>Knowing ki Vikas kitna samjhata hai Priyanka aur Itch Guard Luv ko, usne bola tha Ben wali baat me ab Sallu ne bhi agree kiya!</td>\n",
       "      <td>no</td>\n",
       "    </tr>\n",
       "    <tr>\n",
       "      <th>1</th>\n",
       "      <td>I am Muhajir .. Aur mere lye sab se Pehly Pakistan he .. agr 10 lakh Altaf Jese leaders bh is zameen ki behurmati kren un sbko sar e aam phansi Deni chahye .. Proud to be a #Muhajir and #Pakistani</td>\n",
       "      <td>no</td>\n",
       "    </tr>\n",
       "    <tr>\n",
       "      <th>2</th>\n",
       "      <td>Doctor  sab sahi me ke PhD (in hate politics) wale. Bhai padhe likhe ho fir kyu ye sab baate karte ho. Tum bas bowling  khelo, aur maje lo. pic.twitter.com/fk1qUbQstw</td>\n",
       "      <td>no</td>\n",
       "    </tr>\n",
       "    <tr>\n",
       "      <th>3</th>\n",
       "      <td>Poore Desh me Patel OBC me aate Hain sirf gujrat Ko chor kar may be, ye manuwadiyon bramanwadi kabhi aapko aarackchan nahi denge ye to jis OBC Ko Mila hai usse bhi nafrat karte hain ye khoon aur chamdi ka frak karne waale bharmhanwadi kisi ke sage nahi hain</td>\n",
       "      <td>no</td>\n",
       "    </tr>\n",
       "    <tr>\n",
       "      <th>4</th>\n",
       "      <td>Sarkar banne ke bad Hindu hit me ek bhi faisla Jo bjp ke dwara liya gaya ho,bjp ko  gay,gobar,mandir,masjid aur nafrat faila kar vot chahiye</td>\n",
       "      <td>yes</td>\n",
       "    </tr>\n",
       "  </tbody>\n",
       "</table>\n",
       "</div>"
      ],
      "text/plain": [
       "                                                                                                                                                                                                                                                                text  \\\n",
       "0  Knowing ki Vikas kitna samjhata hai Priyanka aur Itch Guard Luv ko, usne bola tha Ben wali baat me ab Sallu ne bhi agree kiya!                                                                                                                                      \n",
       "1  I am Muhajir .. Aur mere lye sab se Pehly Pakistan he .. agr 10 lakh Altaf Jese leaders bh is zameen ki behurmati kren un sbko sar e aam phansi Deni chahye .. Proud to be a #Muhajir and #Pakistani                                                                \n",
       "2  Doctor  sab sahi me ke PhD (in hate politics) wale. Bhai padhe likhe ho fir kyu ye sab baate karte ho. Tum bas bowling  khelo, aur maje lo. pic.twitter.com/fk1qUbQstw                                                                                              \n",
       "3  Poore Desh me Patel OBC me aate Hain sirf gujrat Ko chor kar may be, ye manuwadiyon bramanwadi kabhi aapko aarackchan nahi denge ye to jis OBC Ko Mila hai usse bhi nafrat karte hain ye khoon aur chamdi ka frak karne waale bharmhanwadi kisi ke sage nahi hain   \n",
       "4  Sarkar banne ke bad Hindu hit me ek bhi faisla Jo bjp ke dwara liya gaya ho,bjp ko  gay,gobar,mandir,masjid aur nafrat faila kar vot chahiye                                                                                                                        \n",
       "\n",
       "  category  \n",
       "0  no       \n",
       "1  no       \n",
       "2  no       \n",
       "3  no       \n",
       "4  yes      "
      ]
     },
     "execution_count": 11,
     "metadata": {},
     "output_type": "execute_result"
    }
   ],
   "source": [
    "train_df.head(5)"
   ]
  },
  {
   "cell_type": "code",
   "execution_count": 12,
   "metadata": {
    "colab": {
     "base_uri": "https://localhost:8080/"
    },
    "id": "_JFvdZlgPF_9",
    "outputId": "14ad808d-30e1-4cd4-8a43-125ac4b624f8"
   },
   "outputs": [
    {
     "name": "stderr",
     "output_type": "stream",
     "text": [
      "/Users/victor/.local/lib/python3.7/site-packages/pandas/core/generic.py:5165: SettingWithCopyWarning: \n",
      "A value is trying to be set on a copy of a slice from a DataFrame.\n",
      "Try using .loc[row_indexer,col_indexer] = value instead\n",
      "\n",
      "See the caveats in the documentation: https://pandas.pydata.org/pandas-docs/stable/user_guide/indexing.html#returning-a-view-versus-a-copy\n",
      "  self[name] = value\n"
     ]
    }
   ],
   "source": [
    "train_df.text = train_df.text.apply(lambda x: data.preprocessing.clean_tweets(x))\n",
    "val_df.text = val_df.text.apply(lambda x: data.preprocessing.clean_tweets(x))\n",
    "test_df.text = test_df.text.apply(lambda x: data.preprocessing.clean_tweets(x))"
   ]
  },
  {
   "cell_type": "code",
   "execution_count": 13,
   "metadata": {
    "id": "76PsUvCk3rUZ"
   },
   "outputs": [],
   "source": [
    "train_df = train_df[train_df.text != '']\n",
    "val_df = val_df[val_df.text != '']\n",
    "test_df = test_df[test_df.text != '']\n"
   ]
  },
  {
   "cell_type": "code",
   "execution_count": 14,
   "metadata": {
    "colab": {
     "base_uri": "https://localhost:8080/"
    },
    "id": "ecLj6RWuVfdt",
    "outputId": "65a265c8-f594-4ee5-da9d-5611aea9c0cc"
   },
   "outputs": [
    {
     "data": {
      "text/plain": [
       "count    3661.000000\n",
       "mean     102.369571 \n",
       "std      53.175251  \n",
       "min      6.000000   \n",
       "25%      63.000000  \n",
       "50%      99.000000  \n",
       "75%      130.000000 \n",
       "max      313.000000 \n",
       "Name: text, dtype: float64"
      ]
     },
     "execution_count": 14,
     "metadata": {},
     "output_type": "execute_result"
    }
   ],
   "source": [
    "train_df.text.apply(lambda x: len(x)).describe()"
   ]
  },
  {
   "cell_type": "code",
   "execution_count": 15,
   "metadata": {
    "colab": {
     "base_uri": "https://localhost:8080/"
    },
    "id": "6oAyiM1jPF_9",
    "outputId": "afcf4431-a323-411c-9545-d5a9c9ac8b4b"
   },
   "outputs": [
    {
     "data": {
      "text/plain": [
       "count    3661.000000\n",
       "mean     19.663207  \n",
       "std      10.279373  \n",
       "min      1.000000   \n",
       "25%      12.000000  \n",
       "50%      19.000000  \n",
       "75%      25.000000  \n",
       "max      64.000000  \n",
       "Name: text, dtype: float64"
      ]
     },
     "execution_count": 15,
     "metadata": {},
     "output_type": "execute_result"
    }
   ],
   "source": [
    "train_df.text.apply(lambda x: len(x.split())).describe()"
   ]
  },
  {
   "cell_type": "code",
   "execution_count": 16,
   "metadata": {
    "id": "V7YDv6wZNFZc"
   },
   "outputs": [],
   "source": [
    "model_save_dir = args.model_save_path\n",
    "\n",
    "try:\n",
    "    os.makedirs(model_save_dir)\n",
    "except OSError:\n",
    "    pass"
   ]
  },
  {
   "cell_type": "code",
   "execution_count": 17,
   "metadata": {
    "colab": {
     "base_uri": "https://localhost:8080/"
    },
    "id": "T5_NT3X9cuiO",
    "outputId": "92abb982-b32f-4361-8afc-8773d747f876"
   },
   "outputs": [
    {
     "data": {
      "text/plain": [
       "no     2316\n",
       "yes    1342\n",
       "on     2   \n",
       "n      1   \n",
       "Name: category, dtype: int64"
      ]
     },
     "execution_count": 17,
     "metadata": {},
     "output_type": "execute_result"
    }
   ],
   "source": [
    "train_df.category.value_counts()"
   ]
  },
  {
   "cell_type": "code",
   "execution_count": 18,
   "metadata": {
    "id": "ihJokEqR3rUa"
   },
   "outputs": [],
   "source": [
    "train_df = train_df[train_df.category.str.contains('yes|no')]\n",
    "val_df = val_df[val_df.category.str.contains('yes|no')]\n",
    "test_df = test_df[test_df.category.str.contains('yes|no')]\n"
   ]
  },
  {
   "cell_type": "code",
   "execution_count": 19,
   "metadata": {
    "colab": {
     "base_uri": "https://localhost:8080/",
     "height": 35
    },
    "id": "SQFNK1zLdyT7",
    "outputId": "b4977477-a9ff-4af5-8c31-5e1b38e9dc5d"
   },
   "outputs": [
    {
     "data": {
      "text/plain": [
       "'../models/hate_detection/'"
      ]
     },
     "execution_count": 19,
     "metadata": {},
     "output_type": "execute_result"
    }
   ],
   "source": [
    "model_save_dir"
   ]
  },
  {
   "cell_type": "code",
   "execution_count": 20,
   "metadata": {
    "id": "ch7LVidpBNtE"
   },
   "outputs": [],
   "source": [
    "train_df.category, label2idx = data.data_utils.convert_categorical_label_to_int(train_df.category.values, \\\n",
    "                                                         save_path=os.path.join(model_save_dir,'label2idx.pkl'))\n",
    "\n",
    "val_df.category, _ = data.data_utils.convert_categorical_label_to_int(val_df.category.values, \\\n",
    "                                                         save_path=os.path.join(model_save_dir,'label2idx.pkl'))\n",
    "\n",
    "test_df.category, _ = data.data_utils.convert_categorical_label_to_int(test_df.category.values, \\\n",
    "                                                         save_path=os.path.join(model_save_dir,'label2idx.pkl'))"
   ]
  },
  {
   "cell_type": "code",
   "execution_count": 21,
   "metadata": {
    "colab": {
     "base_uri": "https://localhost:8080/",
     "height": 221
    },
    "id": "1o2K5yrlNFZv",
    "outputId": "90b15765-2682-419b-bc88-a63539e6c63f"
   },
   "outputs": [
    {
     "data": {
      "text/html": [
       "<div>\n",
       "<style scoped>\n",
       "    .dataframe tbody tr th:only-of-type {\n",
       "        vertical-align: middle;\n",
       "    }\n",
       "\n",
       "    .dataframe tbody tr th {\n",
       "        vertical-align: top;\n",
       "    }\n",
       "\n",
       "    .dataframe thead th {\n",
       "        text-align: right;\n",
       "    }\n",
       "</style>\n",
       "<table border=\"1\" class=\"dataframe\">\n",
       "  <thead>\n",
       "    <tr style=\"text-align: right;\">\n",
       "      <th></th>\n",
       "      <th>text</th>\n",
       "      <th>category</th>\n",
       "    </tr>\n",
       "  </thead>\n",
       "  <tbody>\n",
       "    <tr>\n",
       "      <th>0</th>\n",
       "      <td>knowing ki vikas kitna samjhata hai priyanka aur itch guard luv ko, usne bola tha ben wali baat me ab sallu ne bhi agree kiya!</td>\n",
       "      <td>0</td>\n",
       "    </tr>\n",
       "    <tr>\n",
       "      <th>1</th>\n",
       "      <td>i am muhajir .. aur mere lye sab se pehly pakistan he .. agr  lakh altaf jese leaders bh is zameen ki behurmati kren un sbko sar e aam phansi deni chahye .. proud to be a  and</td>\n",
       "      <td>0</td>\n",
       "    </tr>\n",
       "    <tr>\n",
       "      <th>2</th>\n",
       "      <td>doctor  sab sahi me ke phd (in hate politics) wale. bhai padhe likhe ho fir kyu ye sab baate karte ho. tum bas bowling  khelo, aur maje lo. pic.twitter.com/fkqubqstw</td>\n",
       "      <td>0</td>\n",
       "    </tr>\n",
       "    <tr>\n",
       "      <th>3</th>\n",
       "      <td>poore desh me patel obc me aate hain sirf gujrat ko chor kar may be, ye manuwadiyon bramanwadi kabhi aapko aarackchan nahi denge ye to jis obc ko mila hai usse bhi nafrat karte hain ye khoon aur chamdi ka frak karne waale bharmhanwadi kisi ke sage nahi hain</td>\n",
       "      <td>0</td>\n",
       "    </tr>\n",
       "    <tr>\n",
       "      <th>4</th>\n",
       "      <td>sarkar banne ke bad hindu hit me ek bhi faisla jo bjp ke dwara liya gaya ho,bjp ko  gay,gobar,mandir,masjid aur nafrat faila kar vot chahiye</td>\n",
       "      <td>1</td>\n",
       "    </tr>\n",
       "  </tbody>\n",
       "</table>\n",
       "</div>"
      ],
      "text/plain": [
       "                                                                                                                                                                                                                                                                text  \\\n",
       "0  knowing ki vikas kitna samjhata hai priyanka aur itch guard luv ko, usne bola tha ben wali baat me ab sallu ne bhi agree kiya!                                                                                                                                      \n",
       "1  i am muhajir .. aur mere lye sab se pehly pakistan he .. agr  lakh altaf jese leaders bh is zameen ki behurmati kren un sbko sar e aam phansi deni chahye .. proud to be a  and                                                                                     \n",
       "2  doctor  sab sahi me ke phd (in hate politics) wale. bhai padhe likhe ho fir kyu ye sab baate karte ho. tum bas bowling  khelo, aur maje lo. pic.twitter.com/fkqubqstw                                                                                               \n",
       "3  poore desh me patel obc me aate hain sirf gujrat ko chor kar may be, ye manuwadiyon bramanwadi kabhi aapko aarackchan nahi denge ye to jis obc ko mila hai usse bhi nafrat karte hain ye khoon aur chamdi ka frak karne waale bharmhanwadi kisi ke sage nahi hain   \n",
       "4  sarkar banne ke bad hindu hit me ek bhi faisla jo bjp ke dwara liya gaya ho,bjp ko  gay,gobar,mandir,masjid aur nafrat faila kar vot chahiye                                                                                                                        \n",
       "\n",
       "   category  \n",
       "0  0         \n",
       "1  0         \n",
       "2  0         \n",
       "3  0         \n",
       "4  1         "
      ]
     },
     "execution_count": 21,
     "metadata": {},
     "output_type": "execute_result"
    }
   ],
   "source": [
    "train_df.head(5)"
   ]
  },
  {
   "cell_type": "code",
   "execution_count": 22,
   "metadata": {
    "colab": {
     "base_uri": "https://localhost:8080/"
    },
    "id": "gBiGShWtBRKW",
    "outputId": "cbce513e-9789-416d-cd4b-53df4e6a40c0"
   },
   "outputs": [
    {
     "name": "stdout",
     "output_type": "stream",
     "text": [
      "{'no': 0, 'yes': 1}\n"
     ]
    }
   ],
   "source": [
    "print (label2idx)"
   ]
  },
  {
   "cell_type": "code",
   "execution_count": 23,
   "metadata": {
    "id": "8DPcQeSiBSaV"
   },
   "outputs": [],
   "source": [
    "idx2label = {i:w for (w,i) in label2idx.items()}"
   ]
  },
  {
   "cell_type": "markdown",
   "metadata": {
    "id": "isoI88xCPF_-"
   },
   "source": [
    "### Learn tokenizer"
   ]
  },
  {
   "cell_type": "code",
   "execution_count": 24,
   "metadata": {
    "colab": {
     "base_uri": "https://localhost:8080/",
     "referenced_widgets": [
      "30958db737254d5e8538d6ddeb81fd02",
      "282aa3fb34f047ac92896677f0c7cd55",
      "6e12f53951164b7e96ac133e3bd7ae60",
      "60093de2a7ae41138828721875d7ebf6",
      "1e15eae077064978a8462551539b5eaf",
      "8d6fe3d770124224baaadcbe7ff5f407",
      "a9519e6832064d96968b9c7461147abe",
      "019ed6db63a64a52b29348c58433e686",
      "1fcbe904419c4a9583727d4055c26192",
      "5ccfd63609df49c0b5504ffc9bac6cc0",
      "3b194ae11cee46acb89c2969ec7abf69",
      "d73b181e1a9a4330aa91f345fa90d1c1",
      "32e818d8ba52486e9797f7245757c820",
      "4fab2c42259e4c38bdb8a50d43923614",
      "4520aaab84fe4ef29c230a495b7d4db5",
      "2e5595e166144b0a861366568bcc7cba"
     ]
    },
    "id": "t4zgghyWPF_-",
    "outputId": "bc9fd880-44e3-4ccf-99e7-186254eda3fc"
   },
   "outputs": [],
   "source": [
    "#data.custom_tokenizers.custom_wp_tokenizer(train_df.text.values, args.model_save_path, args.model_save_path)\n",
    "tokenizer = BertTokenizer.from_pretrained(args.model_save_path)\n",
    "#tokenizer = AutoTokenizer.from_pretrained(args.transformer_tokenizer_path)"
   ]
  },
  {
   "cell_type": "code",
   "execution_count": 25,
   "metadata": {
    "id": "nBWTdHbAPF_-"
   },
   "outputs": [],
   "source": [
    "word_tokenizer = tf.keras.preprocessing.text.Tokenizer(num_words=50000, split=' ',oov_token=1)\n",
    "char_tokenizer = tf.keras.preprocessing.text.Tokenizer(char_level=True, split='',oov_token=1)\n",
    "\n",
    "word_tokenizer.fit_on_texts(train_df.text.values)\n",
    "char_tokenizer.fit_on_texts(train_df.text.values)"
   ]
  },
  {
   "cell_type": "code",
   "execution_count": 26,
   "metadata": {
    "colab": {
     "base_uri": "https://localhost:8080/"
    },
    "id": "GioC_GWuNFZ9",
    "outputId": "399498ca-266e-49d6-d8e5-27e4e97744e2"
   },
   "outputs": [
    {
     "name": "stderr",
     "output_type": "stream",
     "text": [
      "100%|██████████| 3658/3658 [00:01<00:00, 2224.46it/s]\n",
      "100%|██████████| 3658/3658 [00:02<00:00, 1406.11it/s]\n",
      "100%|██████████| 457/457 [00:00<00:00, 2172.40it/s]\n",
      "100%|██████████| 457/457 [00:00<00:00, 1338.05it/s]\n",
      "100%|██████████| 458/458 [00:00<00:00, 2102.28it/s]\n",
      "100%|██████████| 458/458 [00:00<00:00, 1115.37it/s]\n"
     ]
    },
    {
     "name": "stdout",
     "output_type": "stream",
     "text": [
      "(3658, 200) (3658, 50, 20) (3658, 50) (3658, 200) (3658, 18201) (3658, 2)\n",
      "(457, 200) (457, 50, 20) (457, 50) (457, 200) (457, 18201) (457, 2)\n",
      "(458, 200) (458, 50, 20) (458, 50) (458, 200) (458, 18201) (458, 2)\n"
     ]
    }
   ],
   "source": [
    "transformer_train_inputs, _, _ = data.data_utils.compute_transformer_input_arrays(train_df, 'text', tokenizer, args.max_char_len)\n",
    "\n",
    "word_train_inputs = word_tokenizer.texts_to_sequences(train_df.text.values)\n",
    "word_train_inputs = tf.keras.preprocessing.sequence.pad_sequences(word_train_inputs, maxlen=args.max_text_len)\n",
    "\n",
    "subword_train_inputs = np.asarray([data.data_utils.subword_tokenization(text, char_tokenizer, args.max_text_len, args.max_word_char_len) \\\n",
    "                        for text in tqdm(train_df.text.values)])\n",
    "\n",
    "char_train_inputs = char_tokenizer.texts_to_sequences(train_df.text.values)\n",
    "char_train_inputs = tf.keras.preprocessing.sequence.pad_sequences(char_train_inputs, maxlen=args.max_char_len)\n",
    "\n",
    "train_outputs = data.data_utils.compute_output_arrays(train_df, 'category')\n",
    "\n",
    "transformer_val_inputs, _, _ = data.data_utils.compute_transformer_input_arrays(val_df, 'text', tokenizer, args.max_char_len)\n",
    "\n",
    "word_val_inputs = word_tokenizer.texts_to_sequences(val_df.text.values)\n",
    "word_val_inputs = tf.keras.preprocessing.sequence.pad_sequences(word_val_inputs, maxlen=args.max_text_len)\n",
    "\n",
    "subword_val_inputs = np.asarray([data.data_utils.subword_tokenization(text, char_tokenizer, args.max_text_len, args.max_word_char_len) \\\n",
    "                        for text in tqdm(val_df.text.values)])\n",
    "\n",
    "char_val_inputs = char_tokenizer.texts_to_sequences(val_df.text.values)\n",
    "char_val_inputs = tf.keras.preprocessing.sequence.pad_sequences(char_val_inputs, maxlen=args.max_char_len)\n",
    "\n",
    "val_outputs = data.data_utils.compute_output_arrays(val_df, 'category')\n",
    "\n",
    "transformer_test_inputs, _, _ = data.data_utils.compute_transformer_input_arrays(test_df, 'text', tokenizer, args.max_char_len)\n",
    "\n",
    "word_test_inputs = word_tokenizer.texts_to_sequences(test_df.text.values)\n",
    "word_test_inputs = tf.keras.preprocessing.sequence.pad_sequences(word_test_inputs, maxlen=args.max_text_len)\n",
    "\n",
    "subword_test_inputs = np.asarray([data.data_utils.subword_tokenization(text, char_tokenizer, args.max_text_len, args.max_word_char_len) \\\n",
    "                        for text in tqdm(test_df.text.values)])\n",
    "\n",
    "char_test_inputs = char_tokenizer.texts_to_sequences(test_df.text.values)\n",
    "char_test_inputs = tf.keras.preprocessing.sequence.pad_sequences(char_test_inputs, maxlen=args.max_char_len)\n",
    "\n",
    "test_outputs = data.data_utils.compute_output_arrays(test_df, 'category')\n",
    "\n",
    "train_outputs = tf.keras.utils.to_categorical(train_outputs, \\\n",
    "                                                    num_classes=train_df.category.nunique())\n",
    "val_outputs = tf.keras.utils.to_categorical(val_outputs, \\\n",
    "                                                    num_classes=train_df.category.nunique())\n",
    "test_outputs = tf.keras.utils.to_categorical(test_outputs, \\\n",
    "                                                    num_classes=train_df.category.nunique())\n",
    "\n",
    "tfidf1 = TfidfVectorizer(stop_words='english',ngram_range=(1,3), max_df=.6,min_df=2)\n",
    "tfidf2 = TfidfVectorizer(analyzer='char_wb',ngram_range=(1,3), max_df=.6,min_df=2)\n",
    "\n",
    "tfidf1.fit(train_df.text)\n",
    "tfidf2.fit(train_df.text)\n",
    "\n",
    "train_tfidf = np.hstack([tfidf1.transform(train_df.text).toarray(),tfidf2.transform(train_df.text).toarray()])\n",
    "val_tfidf = np.hstack([tfidf1.transform(val_df.text).toarray(),tfidf2.transform(val_df.text).toarray()])\n",
    "test_tfidf = np.hstack([tfidf1.transform(test_df.text).toarray(),tfidf2.transform(test_df.text).toarray()])\n",
    "\n",
    "\n",
    "print (transformer_train_inputs.shape, subword_train_inputs.shape, word_train_inputs.shape, char_train_inputs.shape, \\\n",
    "       train_tfidf.shape, train_outputs.shape)\n",
    "print (transformer_val_inputs.shape, subword_val_inputs.shape, word_val_inputs.shape, char_val_inputs.shape, \\\n",
    "       val_tfidf.shape, val_outputs.shape)\n",
    "print (transformer_test_inputs.shape, subword_test_inputs.shape, word_test_inputs.shape, char_test_inputs.shape, \\\n",
    "       test_tfidf.shape, test_outputs.shape)\n"
   ]
  },
  {
   "cell_type": "markdown",
   "metadata": {
    "id": "5gSp7NirPF_-"
   },
   "source": [
    "### Modeling"
   ]
  },
  {
   "cell_type": "code",
   "execution_count": 27,
   "metadata": {
    "id": "O8cHPep9PF_-"
   },
   "outputs": [],
   "source": [
    "n_words = len(word_tokenizer.word_index)+1\n",
    "n_chars = len(char_tokenizer.word_index)+1\n",
    "n_subwords = tokenizer.vocab_size\n",
    "tfidf_shape = train_tfidf.shape[1]\n",
    "n_out = train_df.category.nunique()"
   ]
  },
  {
   "cell_type": "code",
   "execution_count": 28,
   "metadata": {
    "id": "RHYdrtMGlDe7"
   },
   "outputs": [
    {
     "name": "stdout",
     "output_type": "stream",
     "text": [
      "Model: \"model\"\n",
      "__________________________________________________________________________________________________\n",
      "Layer (type)                    Output Shape         Param #     Connected to                     \n",
      "==================================================================================================\n",
      "input_1 (InputLayer)            [(None, 50)]         0                                            \n",
      "__________________________________________________________________________________________________\n",
      "embedding (Embedding)           (None, 50, 128)      1542528     input_1[0][0]                    \n",
      "__________________________________________________________________________________________________\n",
      "bidirectional (Bidirectional)   (None, 50, 256)      263168      embedding[0][0]                  \n",
      "__________________________________________________________________________________________________\n",
      "bidirectional_1 (Bidirectional) (None, 256)          394240      bidirectional[0][0]              \n",
      "__________________________________________________________________________________________________\n",
      "input_5 (InputLayer)            [(None, 18201)]      0                                            \n",
      "__________________________________________________________________________________________________\n",
      "concatenate (Concatenate)       (None, 18457)        0           bidirectional_1[0][0]            \n",
      "                                                                 input_5[0][0]                    \n",
      "__________________________________________________________________________________________________\n",
      "dense (Dense)                   (None, 128)          2362624     concatenate[0][0]                \n",
      "__________________________________________________________________________________________________\n",
      "dropout (Dropout)               (None, 128)          0           dense[0][0]                      \n",
      "__________________________________________________________________________________________________\n",
      "input_2 (InputLayer)            [(None, 200)]        0                                            \n",
      "__________________________________________________________________________________________________\n",
      "input_3 (InputLayer)            [(None, 50, 20)]     0                                            \n",
      "__________________________________________________________________________________________________\n",
      "input_4 (InputLayer)            [(None, 200)]        0                                            \n",
      "__________________________________________________________________________________________________\n",
      "dense_1 (Dense)                 (None, 2)            258         dropout[0][0]                    \n",
      "==================================================================================================\n",
      "Total params: 4,562,818\n",
      "Trainable params: 4,562,818\n",
      "Non-trainable params: 0\n",
      "__________________________________________________________________________________________________\n",
      "WLSTM None\n",
      "Model: \"model_2\"\n",
      "__________________________________________________________________________________________________\n",
      "Layer (type)                    Output Shape         Param #     Connected to                     \n",
      "==================================================================================================\n",
      "input_9 (InputLayer)            [(None, 50, 20)]     0                                            \n",
      "__________________________________________________________________________________________________\n",
      "time_distributed_1 (TimeDistrib (None, 50, 128)      716032      input_9[0][0]                    \n",
      "__________________________________________________________________________________________________\n",
      "bidirectional_4 (Bidirectional) (None, 50, 256)      263168      time_distributed_1[0][0]         \n",
      "__________________________________________________________________________________________________\n",
      "bidirectional_5 (Bidirectional) (None, 50, 256)      394240      bidirectional_4[0][0]            \n",
      "__________________________________________________________________________________________________\n",
      "time_distributed_2 (TimeDistrib (None, 50, 128)      32896       bidirectional_5[0][0]            \n",
      "__________________________________________________________________________________________________\n",
      "word_attention (AttentionWithCo (None, 128)          16640       time_distributed_2[0][0]         \n",
      "__________________________________________________________________________________________________\n",
      "input_11 (InputLayer)           [(None, 18201)]      0                                            \n",
      "__________________________________________________________________________________________________\n",
      "concatenate_1 (Concatenate)     (None, 18329)        0           word_attention[0][0]             \n",
      "                                                                 input_11[0][0]                   \n",
      "__________________________________________________________________________________________________\n",
      "dense_4 (Dense)                 (None, 128)          2346240     concatenate_1[0][0]              \n",
      "__________________________________________________________________________________________________\n",
      "dropout_1 (Dropout)             (None, 128)          0           dense_4[0][0]                    \n",
      "__________________________________________________________________________________________________\n",
      "input_7 (InputLayer)            [(None, 50)]         0                                            \n",
      "__________________________________________________________________________________________________\n",
      "input_8 (InputLayer)            [(None, 200)]        0                                            \n",
      "__________________________________________________________________________________________________\n",
      "input_10 (InputLayer)           [(None, 200)]        0                                            \n",
      "__________________________________________________________________________________________________\n",
      "dense_5 (Dense)                 (None, 2)            258         dropout_1[0][0]                  \n",
      "==================================================================================================\n",
      "Total params: 3,769,474\n",
      "Trainable params: 3,769,474\n",
      "Non-trainable params: 0\n",
      "__________________________________________________________________________________________________\n",
      "HAN None\n",
      "Model: \"model_3\"\n",
      "__________________________________________________________________________________________________\n",
      "Layer (type)                    Output Shape         Param #     Connected to                     \n",
      "==================================================================================================\n",
      "input_14 (InputLayer)           [(None, 50, 20)]     0                                            \n",
      "__________________________________________________________________________________________________\n",
      "embedding_2 (Embedding)         (None, 50, 20, 128)  9088        input_14[0][0]                   \n",
      "__________________________________________________________________________________________________\n",
      "time_distributed_3 (TimeDistrib (None, 50, 20, 128)  32896       embedding_2[0][0]                \n",
      "__________________________________________________________________________________________________\n",
      "position_embedding (PositionEmb (None, 128)          2560        input_14[0][0]                   \n",
      "__________________________________________________________________________________________________\n",
      "time_distributed_5 (TimeDistrib (None, 50, 20, 128)  49280       embedding_2[0][0]                \n",
      "__________________________________________________________________________________________________\n",
      "position_embedding_1 (PositionE (None, 128)          2560        input_14[0][0]                   \n",
      "__________________________________________________________________________________________________\n",
      "tf.__operators__.add (TFOpLambd (None, 50, 20, 128)  0           time_distributed_3[0][0]         \n",
      "                                                                 position_embedding[0][0]         \n",
      "__________________________________________________________________________________________________\n",
      "tf.__operators__.add_1 (TFOpLam (None, 50, 20, 128)  0           time_distributed_5[0][0]         \n",
      "                                                                 position_embedding_1[0][0]       \n",
      "__________________________________________________________________________________________________\n",
      "concatenate_2 (Concatenate)     (None, 50, 20, 256)  0           time_distributed_3[0][0]         \n",
      "                                                                 tf.__operators__.add[0][0]       \n",
      "__________________________________________________________________________________________________\n",
      "concatenate_3 (Concatenate)     (None, 50, 20, 256)  0           time_distributed_5[0][0]         \n",
      "                                                                 tf.__operators__.add_1[0][0]     \n",
      "__________________________________________________________________________________________________\n",
      "time_distributed_4 (TimeDistrib (None, 50, 20, 256)  263168      concatenate_2[0][0]              \n",
      "__________________________________________________________________________________________________\n",
      "time_distributed_6 (TimeDistrib (None, 50, 20, 256)  263168      concatenate_3[0][0]              \n",
      "__________________________________________________________________________________________________\n",
      "concatenate_4 (Concatenate)     (None, 50, 20, 512)  0           time_distributed_4[0][0]         \n",
      "                                                                 time_distributed_6[0][0]         \n",
      "__________________________________________________________________________________________________\n",
      "time_distributed_7 (TimeDistrib (None, 50, 512)      263168      concatenate_4[0][0]              \n",
      "__________________________________________________________________________________________________\n",
      "input_12 (InputLayer)           [(None, 50)]         0                                            \n",
      "__________________________________________________________________________________________________\n",
      "dense_14 (Dense)                (None, 50, 128)      65664       time_distributed_7[0][0]         \n",
      "__________________________________________________________________________________________________\n",
      "embedding_5 (Embedding)         (None, 50, 128)      1542528     input_12[0][0]                   \n",
      "__________________________________________________________________________________________________\n",
      "tf.__operators__.add_2 (TFOpLam (None, 50, 128)      0           dense_14[0][0]                   \n",
      "                                                                 embedding_5[0][0]                \n",
      "__________________________________________________________________________________________________\n",
      "bidirectional_6 (Bidirectional) (None, 50, 256)      263168      tf.__operators__.add_2[0][0]     \n",
      "__________________________________________________________________________________________________\n",
      "bidirectional_7 (Bidirectional) (None, 256)          394240      bidirectional_6[0][0]            \n",
      "__________________________________________________________________________________________________\n",
      "input_16 (InputLayer)           [(None, 18201)]      0                                            \n",
      "__________________________________________________________________________________________________\n",
      "concatenate_5 (Concatenate)     (None, 18457)        0           bidirectional_7[0][0]            \n",
      "                                                                 input_16[0][0]                   \n",
      "__________________________________________________________________________________________________\n",
      "dense_15 (Dense)                (None, 128)          2362624     concatenate_5[0][0]              \n",
      "__________________________________________________________________________________________________\n",
      "dropout_2 (Dropout)             (None, 128)          0           dense_15[0][0]                   \n",
      "__________________________________________________________________________________________________\n",
      "input_13 (InputLayer)           [(None, 200)]        0                                            \n",
      "__________________________________________________________________________________________________\n",
      "input_15 (InputLayer)           [(None, 200)]        0                                            \n",
      "__________________________________________________________________________________________________\n",
      "dense_16 (Dense)                (None, 2)            258         dropout_2[0][0]                  \n",
      "==================================================================================================\n",
      "Total params: 5,514,370\n",
      "Trainable params: 5,514,370\n",
      "Non-trainable params: 0\n",
      "__________________________________________________________________________________________________\n",
      "CS_ELMO None\n"
     ]
    },
    {
     "name": "stdout",
     "output_type": "stream",
     "text": [
      "Model: \"model_4\"\n",
      "__________________________________________________________________________________________________\n",
      "Layer (type)                    Output Shape         Param #     Connected to                     \n",
      "==================================================================================================\n",
      "input_18 (InputLayer)           [(None, 200)]        0                                            \n",
      "__________________________________________________________________________________________________\n",
      "embedding_6 (Embedding)         (None, 200, 128)     9088        input_18[0][0]                   \n",
      "__________________________________________________________________________________________________\n",
      "conv1d_2 (Conv1D)               (None, 198, 128)     49280       embedding_6[0][0]                \n",
      "__________________________________________________________________________________________________\n",
      "max_pooling1d (MaxPooling1D)    (None, 66, 128)      0           conv1d_2[0][0]                   \n",
      "__________________________________________________________________________________________________\n",
      "bidirectional_8 (Bidirectional) (None, 66, 256)      263168      max_pooling1d[0][0]              \n",
      "__________________________________________________________________________________________________\n",
      "bidirectional_9 (Bidirectional) (None, 256)          394240      bidirectional_8[0][0]            \n",
      "__________________________________________________________________________________________________\n",
      "attention (AttentionWithContext (None, 256)          66048       bidirectional_8[0][0]            \n",
      "__________________________________________________________________________________________________\n",
      "input_21 (InputLayer)           [(None, 18201)]      0                                            \n",
      "__________________________________________________________________________________________________\n",
      "concatenate_6 (Concatenate)     (None, 18713)        0           bidirectional_9[0][0]            \n",
      "                                                                 attention[0][0]                  \n",
      "                                                                 input_21[0][0]                   \n",
      "__________________________________________________________________________________________________\n",
      "dense_17 (Dense)                (None, 128)          2395392     concatenate_6[0][0]              \n",
      "__________________________________________________________________________________________________\n",
      "dropout_3 (Dropout)             (None, 128)          0           dense_17[0][0]                   \n",
      "__________________________________________________________________________________________________\n",
      "dense_18 (Dense)                (None, 64)           8256        dropout_3[0][0]                  \n",
      "__________________________________________________________________________________________________\n",
      "dropout_4 (Dropout)             (None, 64)           0           dense_18[0][0]                   \n",
      "__________________________________________________________________________________________________\n",
      "dense_19 (Dense)                (None, 32)           2080        dropout_4[0][0]                  \n",
      "__________________________________________________________________________________________________\n",
      "dropout_5 (Dropout)             (None, 32)           0           dense_19[0][0]                   \n",
      "__________________________________________________________________________________________________\n",
      "dense_20 (Dense)                (None, 16)           528         dropout_5[0][0]                  \n",
      "__________________________________________________________________________________________________\n",
      "dropout_6 (Dropout)             (None, 16)           0           dense_20[0][0]                   \n",
      "__________________________________________________________________________________________________\n",
      "input_17 (InputLayer)           [(None, 50)]         0                                            \n",
      "__________________________________________________________________________________________________\n",
      "input_19 (InputLayer)           [(None, 50, 20)]     0                                            \n",
      "__________________________________________________________________________________________________\n",
      "input_20 (InputLayer)           [(None, 200)]        0                                            \n",
      "__________________________________________________________________________________________________\n",
      "dense_21 (Dense)                (None, 2)            34          dropout_6[0][0]                  \n",
      "==================================================================================================\n",
      "Total params: 3,188,114\n",
      "Trainable params: 3,188,114\n",
      "Non-trainable params: 0\n",
      "__________________________________________________________________________________________________\n",
      "CMSA None\n",
      "Model: \"model_5\"\n",
      "__________________________________________________________________________________________________\n",
      "Layer (type)                    Output Shape         Param #     Connected to                     \n",
      "==================================================================================================\n",
      "input_25 (InputLayer)           [(None, 200)]        0                                            \n",
      "__________________________________________________________________________________________________\n",
      "tf_bert_model (TFBertModel)     ((None, 200, 768), ( 177853440   input_25[0][0]                   \n",
      "__________________________________________________________________________________________________\n",
      "dropout_44 (Dropout)            (None, 768)          0           tf_bert_model[0][1]              \n",
      "__________________________________________________________________________________________________\n",
      "input_26 (InputLayer)           [(None, 18201)]      0                                            \n",
      "__________________________________________________________________________________________________\n",
      "concatenate_7 (Concatenate)     (None, 18969)        0           dropout_44[0][0]                 \n",
      "                                                                 input_26[0][0]                   \n",
      "__________________________________________________________________________________________________\n",
      "dense_22 (Dense)                (None, 128)          2428160     concatenate_7[0][0]              \n",
      "__________________________________________________________________________________________________\n",
      "dropout_45 (Dropout)            (None, 128)          0           dense_22[0][0]                   \n",
      "__________________________________________________________________________________________________\n",
      "input_22 (InputLayer)           [(None, 50)]         0                                            \n",
      "__________________________________________________________________________________________________\n",
      "input_23 (InputLayer)           [(None, 200)]        0                                            \n",
      "__________________________________________________________________________________________________\n",
      "input_24 (InputLayer)           [(None, 50, 20)]     0                                            \n",
      "__________________________________________________________________________________________________\n",
      "dense_23 (Dense)                (None, 2)            258         dropout_45[0][0]                 \n",
      "==================================================================================================\n",
      "Total params: 180,281,858\n",
      "Trainable params: 180,281,858\n",
      "Non-trainable params: 0\n",
      "__________________________________________________________________________________________________\n",
      "BERT None\n",
      "Model: \"model_6\"\n",
      "__________________________________________________________________________________________________\n",
      "Layer (type)                    Output Shape         Param #     Connected to                     \n",
      "==================================================================================================\n",
      "input_30 (InputLayer)           [(None, 200)]        0                                            \n",
      "__________________________________________________________________________________________________\n",
      "token_and_position_embedding (T (None, 200, 128)     687360      input_30[0][0]                   \n",
      "__________________________________________________________________________________________________\n",
      "transformer_block (TransformerB (None, 200, 128)     99584       token_and_position_embedding[0][0\n",
      "__________________________________________________________________________________________________\n",
      "transformer_block_1 (Transforme (None, 200, 128)     99584       transformer_block[0][0]          \n",
      "__________________________________________________________________________________________________\n",
      "global_average_pooling1d (Globa (None, 128)          0           transformer_block_1[0][0]        \n",
      "__________________________________________________________________________________________________\n",
      "dropout_50 (Dropout)            (None, 128)          0           global_average_pooling1d[0][0]   \n",
      "__________________________________________________________________________________________________\n",
      "input_31 (InputLayer)           [(None, 18201)]      0                                            \n",
      "__________________________________________________________________________________________________\n",
      "concatenate_8 (Concatenate)     (None, 18329)        0           dropout_50[0][0]                 \n",
      "                                                                 input_31[0][0]                   \n",
      "__________________________________________________________________________________________________\n",
      "dense_36 (Dense)                (None, 128)          2346240     concatenate_8[0][0]              \n",
      "__________________________________________________________________________________________________\n",
      "dropout_51 (Dropout)            (None, 128)          0           dense_36[0][0]                   \n",
      "__________________________________________________________________________________________________\n",
      "input_27 (InputLayer)           [(None, 50)]         0                                            \n",
      "__________________________________________________________________________________________________\n",
      "input_28 (InputLayer)           [(None, 200)]        0                                            \n",
      "__________________________________________________________________________________________________\n",
      "input_29 (InputLayer)           [(None, 50, 20)]     0                                            \n",
      "__________________________________________________________________________________________________\n",
      "dense_37 (Dense)                (None, 2)            258         dropout_51[0][0]                 \n",
      "==================================================================================================\n",
      "Total params: 3,233,026\n",
      "Trainable params: 3,233,026\n",
      "Non-trainable params: 0\n",
      "__________________________________________________________________________________________________\n",
      "Transformer None\n"
     ]
    }
   ],
   "source": [
    "from src.models.models import *\n",
    "\n",
    "all_models = {WLSTM.__name__: WLSTM,HAN.__name__: HAN,CS_ELMO.__name__: CS_ELMO,CMSA.__name__: CMSA,\n",
    "                  BERT.__name__: BERT,Transformer.__name__: Transformer}\n",
    "\n",
    "for model_name, model_ in all_models.items():\n",
    "    model = model_(word_vocab_size=n_words,char_vocab_size=n_chars,wpe_vocab_size=n_subwords, vectorizer_shape=tfidf_shape, n_out=n_out,\\\n",
    "                               transformer_model_pretrained_path=args.transformer_model_pretrained_path,max_word_char_len=args.max_word_char_len,\\\n",
    "                                             max_text_len=args.max_text_len, max_char_len=args.max_char_len,\\\n",
    "                                             n_layers=args.n_layers, n_units=args.n_units, emb_dim=args.emb_dim)\n",
    "    print (model_name, model.summary())"
   ]
  },
  {
   "cell_type": "code",
   "execution_count": 29,
   "metadata": {
    "id": "Y1y38uBX47Pe"
   },
   "outputs": [],
   "source": [
    "_has_wandb = False"
   ]
  },
  {
   "cell_type": "code",
   "execution_count": 30,
   "metadata": {},
   "outputs": [
    {
     "name": "stdout",
     "output_type": "stream",
     "text": [
      "../models/hate_detection/pseudo_labelling_lstm_model.h5\r\n",
      "../models/hate_detection/pseudo_labelling_transformer.h5\r\n",
      "../models/hate_detection/pseudo_labelling_transformer_model.h5\r\n"
     ]
    }
   ],
   "source": [
    "!ls ../models/hate_detection/pseudo*"
   ]
  },
  {
   "cell_type": "code",
   "execution_count": 31,
   "metadata": {
    "colab": {
     "base_uri": "https://localhost:8080/"
    },
    "id": "5TQGocn-PF_-",
    "outputId": "4669cc91-ded1-4bd3-8184-7e012a92fc1d"
   },
   "outputs": [],
   "source": [
    "loss = 'ce'\n",
    "model_name = 'Transformer'\n",
    "model1 = Transformer(word_vocab_size=n_words,char_vocab_size=n_chars,wpe_vocab_size=n_subwords, vectorizer_shape=tfidf_shape, n_out=n_out,\\\n",
    "                               transformer_model_pretrained_path=args.transformer_model_pretrained_path,max_word_char_len=args.max_word_char_len,\\\n",
    "                                             max_text_len=args.max_text_len, max_char_len=args.max_char_len,\\\n",
    "                                             n_layers=args.n_layers, n_units=args.n_units, emb_dim=args.emb_dim)\n",
    "model_save_path = os.path.join(args.model_save_path, '{}_{}_with_features.h5'.format(model_name, loss))\n",
    "\n",
    "model1.load_weights(model_save_path)\n",
    "\n",
    "model2 = Transformer(word_vocab_size=n_words,char_vocab_size=n_chars,wpe_vocab_size=n_subwords, vectorizer_shape=None, n_out=n_out,\\\n",
    "                               transformer_model_pretrained_path=args.transformer_model_pretrained_path,max_word_char_len=args.max_word_char_len,\\\n",
    "                                             max_text_len=args.max_text_len, max_char_len=args.max_char_len,\\\n",
    "                                             n_layers=args.n_layers, n_units=args.n_units, emb_dim=args.emb_dim)\n",
    "model_save_path = os.path.join(args.model_save_path, '{}_{}_without_features.h5'.format(model_name, loss))\n",
    "\n",
    "model2.load_weights(model_save_path)\n",
    "\n",
    "t_model = Transformer(word_vocab_size=n_words,char_vocab_size=n_chars,wpe_vocab_size=n_subwords, vectorizer_shape=None, n_out=n_out,\\\n",
    "                               transformer_model_pretrained_path=args.transformer_model_pretrained_path,max_word_char_len=args.max_word_char_len,\\\n",
    "                                             max_text_len=args.max_text_len, max_char_len=args.max_char_len,\\\n",
    "                                             n_layers=args.n_layers, n_units=args.n_units, emb_dim=args.emb_dim)\n",
    "\n",
    "t_model.load_weights(os.path.join(args.model_save_path, 'pseudo_labelling_transformer_model.h5'))\n",
    "                     "
   ]
  },
  {
   "cell_type": "code",
   "execution_count": 32,
   "metadata": {
    "colab": {
     "base_uri": "https://localhost:8080/",
     "height": 1000
    },
    "id": "PkLvzX4a5NOZ",
    "outputId": "8079214d-234d-4c17-968c-5c4acd7d2e5c"
   },
   "outputs": [],
   "source": [
    "loss = 'ce'\n",
    "model_name = 'HAN'\n",
    "model3 = HAN(word_vocab_size=n_words,char_vocab_size=n_chars,wpe_vocab_size=n_subwords, vectorizer_shape=tfidf_shape, n_out=n_out,\\\n",
    "                               transformer_model_pretrained_path=args.transformer_model_pretrained_path,max_word_char_len=args.max_word_char_len,\\\n",
    "                                             max_text_len=args.max_text_len, max_char_len=args.max_char_len,\\\n",
    "                                             n_layers=args.n_layers, n_units=args.n_units, emb_dim=args.emb_dim)\n",
    "model_save_path = os.path.join(args.model_save_path, '{}_{}_with_features.h5'.format(model_name, loss))\n",
    "\n",
    "model3.load_weights(model_save_path)\n",
    "\n",
    "model4 = HAN(word_vocab_size=n_words,char_vocab_size=n_chars,wpe_vocab_size=n_subwords, vectorizer_shape=None, n_out=n_out,\\\n",
    "                               transformer_model_pretrained_path=args.transformer_model_pretrained_path,max_word_char_len=args.max_word_char_len,\\\n",
    "                                             max_text_len=args.max_text_len, max_char_len=args.max_char_len,\\\n",
    "                                             n_layers=args.n_layers, n_units=args.n_units, emb_dim=args.emb_dim)\n",
    "model_save_path = os.path.join(args.model_save_path, '{}_{}_without_features.h5'.format(model_name, loss))\n",
    "\n",
    "model4.load_weights(model_save_path)\n",
    "\n",
    "h_model = HAN(word_vocab_size=n_words,char_vocab_size=n_chars,wpe_vocab_size=n_subwords, vectorizer_shape=None, n_out=n_out,\\\n",
    "                               transformer_model_pretrained_path=args.transformer_model_pretrained_path,max_word_char_len=args.max_word_char_len,\\\n",
    "                                             max_text_len=args.max_text_len, max_char_len=args.max_char_len,\\\n",
    "                                             n_layers=args.n_layers, n_units=args.n_units, emb_dim=args.emb_dim)\n",
    "\n",
    "h_model.load_weights(os.path.join(args.model_save_path, 'pseudo_labelling_transformer.h5'))"
   ]
  },
  {
   "cell_type": "code",
   "execution_count": 33,
   "metadata": {
    "id": "cfGv6DI_PGAB"
   },
   "outputs": [],
   "source": [
    "loss = 'ce'\n",
    "model_name = 'WLSTM'\n",
    "model5 = WLSTM(word_vocab_size=n_words,char_vocab_size=n_chars,wpe_vocab_size=n_subwords, vectorizer_shape=tfidf_shape, n_out=n_out,\\\n",
    "                               transformer_model_pretrained_path=args.transformer_model_pretrained_path,max_word_char_len=args.max_word_char_len,\\\n",
    "                                             max_text_len=args.max_text_len, max_char_len=args.max_char_len,\\\n",
    "                                             n_layers=args.n_layers, n_units=args.n_units, emb_dim=args.emb_dim)\n",
    "model_save_path = os.path.join(args.model_save_path, '{}_{}_with_features.h5'.format(model_name, loss))\n",
    "\n",
    "model5.load_weights(model_save_path)\n",
    "\n",
    "model6 = WLSTM(word_vocab_size=n_words,char_vocab_size=n_chars,wpe_vocab_size=n_subwords, vectorizer_shape=None, n_out=n_out,\\\n",
    "                               transformer_model_pretrained_path=args.transformer_model_pretrained_path,max_word_char_len=args.max_word_char_len,\\\n",
    "                                             max_text_len=args.max_text_len, max_char_len=args.max_char_len,\\\n",
    "                                             n_layers=args.n_layers, n_units=args.n_units, emb_dim=args.emb_dim)\n",
    "model_save_path = os.path.join(args.model_save_path, '{}_{}_without_features.h5'.format(model_name, loss))\n",
    "\n",
    "model6.load_weights(model_save_path)\n",
    "\n",
    "w_model = WLSTM(word_vocab_size=n_words,char_vocab_size=n_chars,wpe_vocab_size=n_subwords, vectorizer_shape=None, n_out=n_out,\\\n",
    "                               transformer_model_pretrained_path=args.transformer_model_pretrained_path,max_word_char_len=args.max_word_char_len,\\\n",
    "                                             max_text_len=args.max_text_len, max_char_len=args.max_char_len,\\\n",
    "                                             n_layers=args.n_layers, n_units=args.n_units, emb_dim=args.emb_dim)\n",
    "\n",
    "w_model.load_weights(os.path.join(args.model_save_path, 'pseudo_labelling_lstm_model.h5'))"
   ]
  },
  {
   "cell_type": "code",
   "execution_count": 34,
   "metadata": {},
   "outputs": [],
   "source": [
    "test_df.category = [idx2label[i] for i in test_df.category]\n",
    "\n",
    "test_pred = model1.predict([word_test_inputs, char_test_inputs, subword_test_inputs, transformer_test_inputs, test_tfidf])\n",
    "\n",
    "test_df['Transformer_pred'] = [idx2label[i] for i in test_pred.argmax(-1)]\n",
    "\n",
    "test_pred = model3.predict([word_test_inputs, char_test_inputs, subword_test_inputs, transformer_test_inputs, test_tfidf])\n",
    "\n",
    "test_df['HAN_pred'] = [idx2label[i] for i in test_pred.argmax(-1)]\n",
    "\n",
    "test_pred = model5.predict([word_test_inputs, char_test_inputs, subword_test_inputs, transformer_test_inputs, test_tfidf])\n",
    "\n",
    "test_df['WLSTM_pred'] = [idx2label[i] for i in test_pred.argmax(-1)]\n"
   ]
  },
  {
   "cell_type": "code",
   "execution_count": 35,
   "metadata": {
    "id": "rjqACng3PGAB"
   },
   "outputs": [],
   "source": [
    "import numpy as np\n",
    "\n",
    "def plot_confusion_matrix(cm,\n",
    "                          target_names,\n",
    "                          model_name,\n",
    "                          title='Confusion matrix',\n",
    "                          cmap=None,\n",
    "                          normalize=True):\n",
    "    \"\"\"\n",
    "    given a sklearn confusion matrix (cm), make a nice plot\n",
    "\n",
    "    Arguments\n",
    "    ---------\n",
    "    cm:           confusion matrix from sklearn.metrics.confusion_matrix\n",
    "\n",
    "    target_names: given classification classes such as [0, 1, 2]\n",
    "                  the class names, for example: ['high', 'medium', 'low']\n",
    "\n",
    "    title:        the text to display at the top of the matrix\n",
    "\n",
    "    cmap:         the gradient of the values displayed from matplotlib.pyplot.cm\n",
    "                  see http://matplotlib.org/examples/color/colormaps_reference.html\n",
    "                  plt.get_cmap('jet') or plt.cm.Blues\n",
    "\n",
    "    normalize:    If False, plot the raw numbers\n",
    "                  If True, plot the proportions\n",
    "\n",
    "    Usage\n",
    "    -----\n",
    "    plot_confusion_matrix(cm           = cm,                  # confusion matrix created by\n",
    "                                                              # sklearn.metrics.confusion_matrix\n",
    "                          normalize    = True,                # show proportions\n",
    "                          target_names = y_labels_vals,       # list of names of the classes\n",
    "                          title        = best_estimator_name) # title of graph\n",
    "\n",
    "    Citiation\n",
    "    ---------\n",
    "    http://scikit-learn.org/stable/auto_examples/model_selection/plot_confusion_matrix.html\n",
    "\n",
    "    \"\"\"\n",
    "    import matplotlib.pyplot as plt\n",
    "    import numpy as np\n",
    "    import itertools\n",
    "\n",
    "    accuracy = np.trace(cm) / float(np.sum(cm))\n",
    "    misclass = 1 - accuracy\n",
    "\n",
    "    if cmap is None:\n",
    "        cmap = plt.get_cmap('Blues')\n",
    "\n",
    "    \n",
    "    plt.figure(figsize=(12, 12))\n",
    "    plt.imshow(cm, interpolation='nearest',cmap=cmap) #, \n",
    "    plt.title(title)\n",
    "    #plt.colorbar()\n",
    "\n",
    "    thresh = cm.max() / 1.5 if normalize else cm.max() / 2\n",
    "    #print (thresh)\n",
    "    \n",
    "    if target_names is not None:\n",
    "        tick_marks = np.arange(len(target_names))\n",
    "        plt.xticks(tick_marks, target_names, rotation=45)\n",
    "        plt.yticks(tick_marks, target_names)\n",
    "\n",
    "    if normalize:\n",
    "        cm_ = cm.astype('float') / cm.sum(axis=1)[:, np.newaxis]\n",
    "        cm_ = np.around(cm_, decimals=2)\n",
    "        #print (cm)\n",
    "    else:\n",
    "      cm_ = cm\n",
    "\n",
    "    for i, j in itertools.product(range(cm.shape[0]), range(cm.shape[1])):\n",
    "      if cm_[i, j] > 0:\n",
    "        if normalize:\n",
    "            plt.text(j, i, \"{:0.2f}\".format(round(cm_[i, j],2)),\n",
    "                     horizontalalignment=\"center\",\n",
    "                     color=\"white\" if cm[i, j] > thresh else \"black\")\n",
    "        else:\n",
    "            plt.text(j, i, \"{:,}\".format(cm_[i, j]),\n",
    "                     horizontalalignment=\"center\",\n",
    "                     color=\"white\" if cm[i, j] > thresh else \"black\")\n",
    "\n",
    "\n",
    "    plt.tight_layout()\n",
    "    plt.ylabel('True label')\n",
    "    #plt.xlabel('Predicted label\\naccuracy={:0.4f}; misclass={:0.4f}'.format(accuracy, misclass))\n",
    "    plt.xlabel('Predicted label')\n",
    "    SMALL_SIZE = 25\n",
    "    MEDIUM_SIZE = 20\n",
    "    BIGGER_SIZE = 25\n",
    "\n",
    "    #plt.rcParams[\"font.family\"] = \"Times New Roman\"\n",
    "    plt.rcParams[\"font.size\"] = \"15\"\n",
    "\n",
    "    \n",
    "    #plt.rc('font', size=SMALL_SIZE)          # controls default text sizes\n",
    "    plt.rc('axes', titlesize=SMALL_SIZE)     # fontsize of the axes title\n",
    "    plt.rc('axes', labelsize=MEDIUM_SIZE)    # fontsize of the x and y labels\n",
    "    plt.rc('xtick', labelsize=SMALL_SIZE)    # fontsize of the tick labels\n",
    "    plt.rc('ytick', labelsize=SMALL_SIZE)    # fontsize of the tick labels\n",
    "    plt.rc('legend', fontsize=SMALL_SIZE)    # legend fontsize\n",
    "    plt.rc('figure', titlesize=BIGGER_SIZE)  # fontsize of the figure title\n",
    "    \n",
    "    plt.xlabel(\"\")\n",
    "    plt.ylabel(\"\")\n",
    "    plt.title(\"\")\n",
    "\n",
    "    plt.savefig('../plots/hate_{}.pdf'.format(model_name),dpi=200)\n",
    "    plt.show()\n",
    "    \n",
    "def get_conditional_weights(text, model, class_idx):\n",
    "    all_texts = [\" \".join(text.split()[:i]) for i in range(len(text.split())+1)][1:]\n",
    "    #all_texts = [text]*(len(text.split())+1)\n",
    "    word_train_inputs = word_tokenizer.texts_to_sequences(all_texts)\n",
    "    word_train_inputs = tf.keras.preprocessing.sequence.pad_sequences(word_train_inputs, maxlen=args.max_text_len)\n",
    "\n",
    "    subword_train_inputs = np.asarray([data.data_utils.subword_tokenization(text, char_tokenizer, args.max_text_len, args.max_word_char_len) \\\n",
    "                            for text in all_texts])\n",
    "\n",
    "    char_train_inputs = char_tokenizer.texts_to_sequences(all_texts)\n",
    "    char_train_inputs = tf.keras.preprocessing.sequence.pad_sequences(char_train_inputs, maxlen=args.max_char_len)\n",
    "    \n",
    "    for i in range(len(text.split())):\n",
    "        #subword_train_inputs_ = subword_train_inputs.copy()\n",
    "        subword_train_inputs[i,i,:] = np.array([0]*subword_train_inputs.shape[-1])\n",
    "        \n",
    "    #print (subword_train_inputs[-1])\n",
    "    probs = model.predict([word_train_inputs,char_train_inputs,subword_train_inputs,\\\n",
    "                                      char_train_inputs])\n",
    "    \n",
    "    #print (probs)\n",
    "    #print (all_texts)\n",
    "    \n",
    "    probs_ = probs[-1] - probs\n",
    "    #class_idx = probs.argmax(-1)[-1]\n",
    "    \n",
    "    return probs_[:,class_idx]\n",
    "\n",
    "import html\n",
    "from IPython.core.display import display, HTML\n",
    "\n",
    "def html_escape(text):\n",
    "    return html.escape(text)\n",
    "\n",
    "def gradient_plots(text,weights,max_alpha=.3):\n",
    "    highlighted_text = []\n",
    "\n",
    "    for i, word in enumerate(text.split()):\n",
    "        \n",
    "        if i < args.max_text_len:\n",
    "            weight = weights[i]\n",
    "\n",
    "            if weight is not None:\n",
    "                highlighted_text.append('<span style=\"background-color:rgba(135,206,250,' + str(weight / max_alpha) + ');\">' + html_escape(word) + '</span>')\n",
    "            else:\n",
    "                highlighted_text.append(word)\n",
    "            \n",
    "    highlighted_text = ' '.join(highlighted_text)\n",
    "    \n",
    "    return highlighted_text\n",
    "\n",
    "def plot_attention(attention, sentence,plot_size=12, filename='image.pdf'):\n",
    "    fig = plt.figure(figsize=(plot_size,plot_size))\n",
    "    ax = fig.add_subplot(1, 1, 1)\n",
    "    ax.matshow(attention, cmap='Blues')\n",
    "\n",
    "    fontdict = {'fontsize': 30}\n",
    "\n",
    "    ax.set_xticklabels([''] + sentence, fontdict=fontdict, rotation=45)\n",
    "    ax.set_yticklabels([''] + sentence, fontdict=fontdict)\n",
    "\n",
    "    ax.xaxis.set_major_locator(ticker.MultipleLocator(1))\n",
    "    ax.yaxis.set_major_locator(ticker.MultipleLocator(1))\n",
    "\n",
    "    SMALL_SIZE = 20\n",
    "    MEDIUM_SIZE = 20\n",
    "    BIGGER_SIZE = 20\n",
    "    \n",
    "    #plt.show()\n",
    "    plt.rcParams[\"font.family\"] = 'sans-serif' #\"Times New Roman\"\n",
    "    plt.rcParams[\"font.size\"] = \"15\"\n",
    "\n",
    "    \n",
    "    #plt.rc('font', size=SMALL_SIZE)          # controls default text sizes\n",
    "    plt.rc('axes', titlesize=SMALL_SIZE)     # fontsize of the axes title\n",
    "    plt.rc('axes', labelsize=MEDIUM_SIZE)    # fontsize of the x and y labels\n",
    "    plt.rc('xtick', labelsize=SMALL_SIZE)    # fontsize of the tick labels\n",
    "    plt.rc('ytick', labelsize=SMALL_SIZE)    # fontsize of the tick labels\n",
    "    plt.rc('legend', fontsize=SMALL_SIZE)    # legend fontsize\n",
    "    plt.rc('figure', titlesize=BIGGER_SIZE)  # fontsize of the figure title\n",
    "    \n",
    "    plt.xlabel(\"\")\n",
    "    plt.ylabel(\"\")\n",
    "    plt.title(\"\")\n",
    "    \n",
    "    plt.savefig(filename, dpi=200)"
   ]
  },
  {
   "cell_type": "code",
   "execution_count": 36,
   "metadata": {},
   "outputs": [
    {
     "data": {
      "image/png": "[encoded data removed]",
      "text/plain": [
       "<Figure size 864x864 with 1 Axes>"
      ]
     },
     "metadata": {
      "needs_background": "light"
     },
     "output_type": "display_data"
    }
   ],
   "source": [
    "cm = pd.crosstab(test_df.category, test_df.Transformer_pred)\n",
    "cm = cm[cm.index]\n",
    "cm\n",
    "plot_confusion_matrix(cm           = cm.values, \n",
    "                      normalize    = False,\n",
    "                      target_names = cm.index.to_list(),\n",
    "                      title        = \"Confusion Matrix\",\n",
    "                     model_name='Transformer')"
   ]
  },
  {
   "cell_type": "code",
   "execution_count": 37,
   "metadata": {},
   "outputs": [
    {
     "data": {
      "image/png": "[encoded data removed]",
      "text/plain": [
       "<Figure size 864x864 with 1 Axes>"
      ]
     },
     "metadata": {
      "needs_background": "light"
     },
     "output_type": "display_data"
    }
   ],
   "source": [
    "cm = pd.crosstab(test_df.category, test_df.HAN_pred)\n",
    "cm = cm[cm.index]\n",
    "cm\n",
    "plot_confusion_matrix(cm           = cm.values, \n",
    "                      normalize    = False,\n",
    "                      target_names = cm.index.to_list(),\n",
    "                      title        = \"Confusion Matrix\",\n",
    "                     model_name='HAN')"
   ]
  },
  {
   "cell_type": "code",
   "execution_count": 38,
   "metadata": {},
   "outputs": [
    {
     "data": {
      "image/png": "[encoded data removed]",
      "text/plain": [
       "<Figure size 864x864 with 1 Axes>"
      ]
     },
     "metadata": {
      "needs_background": "light"
     },
     "output_type": "display_data"
    }
   ],
   "source": [
    "cm = pd.crosstab(test_df.category, test_df.WLSTM_pred)\n",
    "cm = cm[cm.index]\n",
    "cm\n",
    "plot_confusion_matrix(cm           = cm.values, \n",
    "                      normalize    = False,\n",
    "                      target_names = cm.index.to_list(),\n",
    "                      title        = \"Confusion Matrix\",\n",
    "                     model_name='WLSTM')"
   ]
  },
  {
   "cell_type": "code",
   "execution_count": 39,
   "metadata": {},
   "outputs": [
    {
     "data": {
      "image/png": "[encoded data removed]",
      "text/plain": [
       "<Figure size 864x864 with 1 Axes>"
      ]
     },
     "metadata": {
      "needs_background": "light"
     },
     "output_type": "display_data"
    },
    {
     "data": {
      "image/png": "[encoded data removed]",
      "text/plain": [
       "<Figure size 864x864 with 1 Axes>"
      ]
     },
     "metadata": {
      "needs_background": "light"
     },
     "output_type": "display_data"
    },
    {
     "data": {
      "image/png": "[encoded data removed]",
      "text/plain": [
       "<Figure size 864x864 with 1 Axes>"
      ]
     },
     "metadata": {
      "needs_background": "light"
     },
     "output_type": "display_data"
    }
   ],
   "source": [
    "test_pred = t_model.predict([word_test_inputs, char_test_inputs, subword_test_inputs, transformer_test_inputs])\n",
    "\n",
    "test_df['Transformer_pred'] = [idx2label[i] for i in test_pred.argmax(-1)]\n",
    "\n",
    "test_pred = h_model.predict([word_test_inputs, char_test_inputs, subword_test_inputs, transformer_test_inputs])\n",
    "\n",
    "test_df['HAN_pred'] = [idx2label[i] for i in test_pred.argmax(-1)]\n",
    "\n",
    "test_pred = w_model.predict([word_test_inputs, char_test_inputs, subword_test_inputs, transformer_test_inputs])\n",
    "\n",
    "test_df['WLSTM_pred'] = [idx2label[i] for i in test_pred.argmax(-1)]\n",
    "\n",
    "cm = pd.crosstab(test_df.category, test_df.Transformer_pred)\n",
    "cm = cm[cm.index]\n",
    "cm\n",
    "plot_confusion_matrix(cm           = cm.values, \n",
    "                      normalize    = False,\n",
    "                      target_names = cm.index.to_list(),\n",
    "                      title        = \"Confusion Matrix\",\n",
    "                     model_name='Transformer_pl')\n",
    "\n",
    "cm = pd.crosstab(test_df.category, test_df.HAN_pred)\n",
    "cm = cm[cm.index]\n",
    "cm\n",
    "plot_confusion_matrix(cm           = cm.values, \n",
    "                      normalize    = False,\n",
    "                      target_names = cm.index.to_list(),\n",
    "                      title        = \"Confusion Matrix\",\n",
    "                     model_name='HAN_pl')\n",
    "\n",
    "cm = pd.crosstab(test_df.category, test_df.WLSTM_pred)\n",
    "cm = cm[cm.index]\n",
    "cm\n",
    "plot_confusion_matrix(cm           = cm.values, \n",
    "                      normalize    = False,\n",
    "                      target_names = cm.index.to_list(),\n",
    "                      title        = \"Confusion Matrix\",\n",
    "                     model_name='WLSTM_pl')\n"
   ]
  },
  {
   "cell_type": "code",
   "execution_count": 40,
   "metadata": {},
   "outputs": [],
   "source": [
    "test_df = test_df.reset_index(drop=True)\n",
    "\n",
    "test_pred = model2.predict([word_test_inputs, char_test_inputs, subword_test_inputs, transformer_test_inputs])\n",
    "\n",
    "test_df['Transformer_pred'] = [idx2label[i] for i in test_pred.argmax(-1)]\n",
    "\n",
    "test_pred = model4.predict([word_test_inputs, char_test_inputs, subword_test_inputs, transformer_test_inputs])\n",
    "\n",
    "test_df['HAN_pred'] = [idx2label[i] for i in test_pred.argmax(-1)]\n",
    "\n",
    "test_pred = model6.predict([word_test_inputs, char_test_inputs, subword_test_inputs, transformer_test_inputs])\n",
    "\n",
    "test_df['WLSTM_pred'] = [idx2label[i] for i in test_pred.argmax(-1)]"
   ]
  },
  {
   "cell_type": "code",
   "execution_count": 41,
   "metadata": {},
   "outputs": [
    {
     "data": {
      "text/html": [
       "<div>\n",
       "<style scoped>\n",
       "    .dataframe tbody tr th:only-of-type {\n",
       "        vertical-align: middle;\n",
       "    }\n",
       "\n",
       "    .dataframe tbody tr th {\n",
       "        vertical-align: top;\n",
       "    }\n",
       "\n",
       "    .dataframe thead th {\n",
       "        text-align: right;\n",
       "    }\n",
       "</style>\n",
       "<table border=\"1\" class=\"dataframe\">\n",
       "  <thead>\n",
       "    <tr style=\"text-align: right;\">\n",
       "      <th></th>\n",
       "      <th>text</th>\n",
       "      <th>category</th>\n",
       "      <th>Transformer_pred</th>\n",
       "      <th>HAN_pred</th>\n",
       "      <th>WLSTM_pred</th>\n",
       "    </tr>\n",
       "  </thead>\n",
       "  <tbody>\n",
       "    <tr>\n",
       "      <th>438</th>\n",
       "      <td>ye log babaon ke rape-jihad k khilaf kyon nahin kucchh karte hain . ye baba bahno ko apne hawash ka shikar bana rahe hai jo few neutral media  reporting ki wajah se ek- karke jail ja rahe hain. ://twitter.com/thewire_in/status/ …</td>\n",
       "      <td>no</td>\n",
       "      <td>no</td>\n",
       "      <td>no</td>\n",
       "      <td>no</td>\n",
       "    </tr>\n",
       "    <tr>\n",
       "      <th>439</th>\n",
       "      <td>lala kal ke baud se zinda ghar wapis aye ho na bagair rape hue?</td>\n",
       "      <td>no</td>\n",
       "      <td>no</td>\n",
       "      <td>no</td>\n",
       "      <td>no</td>\n",
       "    </tr>\n",
       "    <tr>\n",
       "      <th>440</th>\n",
       "      <td>koi bat niiii  ap k hate ko dekhta</td>\n",
       "      <td>no</td>\n",
       "      <td>no</td>\n",
       "      <td>no</td>\n",
       "      <td>no</td>\n",
       "    </tr>\n",
       "    <tr>\n",
       "      <th>441</th>\n",
       "      <td>atleast tumhare journalism ke gold standard  ki tarah apne bhai ke rape ko toh nahi chupatey</td>\n",
       "      <td>no</td>\n",
       "      <td>no</td>\n",
       "      <td>no</td>\n",
       "      <td>no</td>\n",
       "    </tr>\n",
       "    <tr>\n",
       "      <th>442</th>\n",
       "      <td>hate kisi say bhi nahi tha, sab say pyar tha wo bhi bht zyada and ab nafrat hai apnay aap say isi wajah say k q tha aisa</td>\n",
       "      <td>yes</td>\n",
       "      <td>no</td>\n",
       "      <td>no</td>\n",
       "      <td>no</td>\n",
       "    </tr>\n",
       "    <tr>\n",
       "      <th>443</th>\n",
       "      <td>nahi mujhe  i hate u likhna tha</td>\n",
       "      <td>yes</td>\n",
       "      <td>yes</td>\n",
       "      <td>yes</td>\n",
       "      <td>yes</td>\n",
       "    </tr>\n",
       "    <tr>\n",
       "      <th>444</th>\n",
       "      <td>haan bhai rape toh nai hua aaj koi. par bomb toh pahte tere pakistan mein . chal bhai jab tak zinda hai twitter karle</td>\n",
       "      <td>no</td>\n",
       "      <td>no</td>\n",
       "      <td>no</td>\n",
       "      <td>no</td>\n",
       "    </tr>\n",
       "    <tr>\n",
       "      <th>445</th>\n",
       "      <td>waise rape se mujhe teri maa ki hai allah hai yaad hai</td>\n",
       "      <td>no</td>\n",
       "      <td>no</td>\n",
       "      <td>no</td>\n",
       "      <td>no</td>\n",
       "    </tr>\n",
       "    <tr>\n",
       "      <th>446</th>\n",
       "      <td>tu hamari fd ki jotish hai bahena and sacchi mein i hate neha</td>\n",
       "      <td>no</td>\n",
       "      <td>no</td>\n",
       "      <td>no</td>\n",
       "      <td>no</td>\n",
       "    </tr>\n",
       "    <tr>\n",
       "      <th>447</th>\n",
       "      <td>bhai hate n hater ki baat nahi.. main toh fact bol raha. mujhe unlogo se koi lena dena nahi</td>\n",
       "      <td>no</td>\n",
       "      <td>no</td>\n",
       "      <td>no</td>\n",
       "      <td>no</td>\n",
       "    </tr>\n",
       "    <tr>\n",
       "      <th>448</th>\n",
       "      <td>agar koi mere bharat ma ke tukre karne ki bat karega or me agar hate na karu toh me bharat ma ko kese muh dikhaoga.</td>\n",
       "      <td>no</td>\n",
       "      <td>no</td>\n",
       "      <td>no</td>\n",
       "      <td>no</td>\n",
       "    </tr>\n",
       "    <tr>\n",
       "      <th>449</th>\n",
       "      <td>phir kyon jhel rahe hain unko...he was hindu hriday samrat till he gave hate speech...</td>\n",
       "      <td>no</td>\n",
       "      <td>no</td>\n",
       "      <td>no</td>\n",
       "      <td>no</td>\n",
       "    </tr>\n",
       "    <tr>\n",
       "      <th>450</th>\n",
       "      <td>delhi mei to modi sarkar hai wahan chedchhad chodo roj rape ho raha hai</td>\n",
       "      <td>no</td>\n",
       "      <td>no</td>\n",
       "      <td>no</td>\n",
       "      <td>no</td>\n",
       "    </tr>\n",
       "    <tr>\n",
       "      <th>451</th>\n",
       "      <td>khude gaan raj (akaser hate achhe ekrash ) (asha) http://fb.me/ljmsugvv</td>\n",
       "      <td>no</td>\n",
       "      <td>no</td>\n",
       "      <td>no</td>\n",
       "      <td>no</td>\n",
       "    </tr>\n",
       "    <tr>\n",
       "      <th>452</th>\n",
       "      <td>dalit ladki ka rape kiya tere bhai ne  ??://twitter.com/biharetv/status/ …</td>\n",
       "      <td>yes</td>\n",
       "      <td>yes</td>\n",
       "      <td>yes</td>\n",
       "      <td>no</td>\n",
       "    </tr>\n",
       "    <tr>\n",
       "      <th>453</th>\n",
       "      <td>aur tum logo nay tou indian army k naam pay balatkari suar paal rakhe hain jo sirf kashmiriyon ka rape karna jaante hai bas</td>\n",
       "      <td>yes</td>\n",
       "      <td>yes</td>\n",
       "      <td>yes</td>\n",
       "      <td>yes</td>\n",
       "    </tr>\n",
       "    <tr>\n",
       "      <th>454</th>\n",
       "      <td>i hate dis condolences,akhir kab tak?? ab waqt hai pahele protesters ki legs me goli marne ka ,jo jis bhasa ko samjhta hai</td>\n",
       "      <td>no</td>\n",
       "      <td>no</td>\n",
       "      <td>yes</td>\n",
       "      <td>no</td>\n",
       "    </tr>\n",
       "    <tr>\n",
       "      <th>455</th>\n",
       "      <td>panama par app me kabhi baat nahi ki..hisaab mangna tu hate nahi heee ://twitter.com/rehamkhan/status/ …</td>\n",
       "      <td>no</td>\n",
       "      <td>no</td>\n",
       "      <td>no</td>\n",
       "      <td>no</td>\n",
       "    </tr>\n",
       "    <tr>\n",
       "      <th>456</th>\n",
       "      <td>jo log apne hi minister ki nabalik betiyo k sath rape kar rahe hain, unhe log kaise vote kre? jail me interospection krege kuchh dino me. ://twitter.com/giniromet/status/ …</td>\n",
       "      <td>yes</td>\n",
       "      <td>yes</td>\n",
       "      <td>yes</td>\n",
       "      <td>yes</td>\n",
       "    </tr>\n",
       "    <tr>\n",
       "      <th>457</th>\n",
       "      <td>gali mat de bhai nai to bolegi muslim hoon is liye gali de raha .bolti ha army iski maa been ka rape kiya</td>\n",
       "      <td>no</td>\n",
       "      <td>no</td>\n",
       "      <td>no</td>\n",
       "      <td>no</td>\n",
       "    </tr>\n",
       "  </tbody>\n",
       "</table>\n",
       "</div>"
      ],
      "text/plain": [
       "                                                                                                                                                                                                                                      text  \\\n",
       "438  ye log babaon ke rape-jihad k khilaf kyon nahin kucchh karte hain . ye baba bahno ko apne hawash ka shikar bana rahe hai jo few neutral media  reporting ki wajah se ek- karke jail ja rahe hain. ://twitter.com/thewire_in/status/ …   \n",
       "439  lala kal ke baud se zinda ghar wapis aye ho na bagair rape hue?                                                                                                                                                                         \n",
       "440  koi bat niiii  ap k hate ko dekhta                                                                                                                                                                                                      \n",
       "441  atleast tumhare journalism ke gold standard  ki tarah apne bhai ke rape ko toh nahi chupatey                                                                                                                                            \n",
       "442  hate kisi say bhi nahi tha, sab say pyar tha wo bhi bht zyada and ab nafrat hai apnay aap say isi wajah say k q tha aisa                                                                                                                \n",
       "443  nahi mujhe  i hate u likhna tha                                                                                                                                                                                                         \n",
       "444  haan bhai rape toh nai hua aaj koi. par bomb toh pahte tere pakistan mein . chal bhai jab tak zinda hai twitter karle                                                                                                                   \n",
       "445  waise rape se mujhe teri maa ki hai allah hai yaad hai                                                                                                                                                                                  \n",
       "446  tu hamari fd ki jotish hai bahena and sacchi mein i hate neha                                                                                                                                                                           \n",
       "447  bhai hate n hater ki baat nahi.. main toh fact bol raha. mujhe unlogo se koi lena dena nahi                                                                                                                                             \n",
       "448  agar koi mere bharat ma ke tukre karne ki bat karega or me agar hate na karu toh me bharat ma ko kese muh dikhaoga.                                                                                                                     \n",
       "449  phir kyon jhel rahe hain unko...he was hindu hriday samrat till he gave hate speech...                                                                                                                                                  \n",
       "450  delhi mei to modi sarkar hai wahan chedchhad chodo roj rape ho raha hai                                                                                                                                                                 \n",
       "451  khude gaan raj (akaser hate achhe ekrash ) (asha) http://fb.me/ljmsugvv                                                                                                                                                                 \n",
       "452  dalit ladki ka rape kiya tere bhai ne  ??://twitter.com/biharetv/status/ …                                                                                                                                                              \n",
       "453  aur tum logo nay tou indian army k naam pay balatkari suar paal rakhe hain jo sirf kashmiriyon ka rape karna jaante hai bas                                                                                                             \n",
       "454  i hate dis condolences,akhir kab tak?? ab waqt hai pahele protesters ki legs me goli marne ka ,jo jis bhasa ko samjhta hai                                                                                                              \n",
       "455  panama par app me kabhi baat nahi ki..hisaab mangna tu hate nahi heee ://twitter.com/rehamkhan/status/ …                                                                                                                                \n",
       "456  jo log apne hi minister ki nabalik betiyo k sath rape kar rahe hain, unhe log kaise vote kre? jail me interospection krege kuchh dino me. ://twitter.com/giniromet/status/ …                                                            \n",
       "457  gali mat de bhai nai to bolegi muslim hoon is liye gali de raha .bolti ha army iski maa been ka rape kiya                                                                                                                               \n",
       "\n",
       "    category Transformer_pred HAN_pred WLSTM_pred  \n",
       "438  no       no               no       no         \n",
       "439  no       no               no       no         \n",
       "440  no       no               no       no         \n",
       "441  no       no               no       no         \n",
       "442  yes      no               no       no         \n",
       "443  yes      yes              yes      yes        \n",
       "444  no       no               no       no         \n",
       "445  no       no               no       no         \n",
       "446  no       no               no       no         \n",
       "447  no       no               no       no         \n",
       "448  no       no               no       no         \n",
       "449  no       no               no       no         \n",
       "450  no       no               no       no         \n",
       "451  no       no               no       no         \n",
       "452  yes      yes              yes      no         \n",
       "453  yes      yes              yes      yes        \n",
       "454  no       no               yes      no         \n",
       "455  no       no               no       no         \n",
       "456  yes      yes              yes      yes        \n",
       "457  no       no               no       no         "
      ]
     },
     "execution_count": 41,
     "metadata": {},
     "output_type": "execute_result"
    }
   ],
   "source": [
    "test_df.tail(20)"
   ]
  },
  {
   "cell_type": "code",
   "execution_count": 42,
   "metadata": {},
   "outputs": [
    {
     "data": {
      "text/html": [
       "<span style=\"background-color:rgba(135,206,250,-0.0015277951994600396);\">hate</span> <span style=\"background-color:rgba(135,206,250,-0.0014424876038295529);\">it</span> <span style=\"background-color:rgba(135,206,250,-0.0030547023440400762);\">jab</span> <span style=\"background-color:rgba(135,206,250,-0.001616382602757464);\">test</span> <span style=\"background-color:rgba(135,206,250,-0.0017444723440955083);\">ata</span> <span style=\"background-color:rgba(135,206,250,-0.0015446371980942786);\">ho</span> <span style=\"background-color:rgba(135,206,250,-0.0008243612440613409);\">phr</span> <span style=\"background-color:rgba(135,206,250,-0.0008304556831717491);\">bh</span> <span style=\"background-color:rgba(135,206,250,-0.0007448133934910099);\">acha</span> <span style=\"background-color:rgba(135,206,250,-0.00047076357683787745);\">na</span> <span style=\"background-color:rgba(135,206,250,-0.00028216377055893344);\">ho</span> <span style=\"background-color:rgba(135,206,250,0.0);\">-.-</span>"
      ],
      "text/plain": [
       "<IPython.core.display.HTML object>"
      ]
     },
     "metadata": {},
     "output_type": "display_data"
    }
   ],
   "source": [
    "text = test_df.text.iloc[2]\n",
    "\n",
    "highlighted_text = gradient_plots(text,get_conditional_weights(text, model2, 1))\n",
    "\n",
    "display(HTML(highlighted_text))\n"
   ]
  },
  {
   "cell_type": "code",
   "execution_count": 53,
   "metadata": {},
   "outputs": [
    {
     "data": {
      "text/html": [
       "<span style=\"background-color:rgba(135,206,250,0.03027935822804769);\">i</span> <span style=\"background-color:rgba(135,206,250,-0.011525154113769531);\">hate</span> <span style=\"background-color:rgba(135,206,250,0.02603749434153239);\">takla’s</span> <span style=\"background-color:rgba(135,206,250,0.36072254180908203);\">all</span> <span style=\"background-color:rgba(135,206,250,0.15195051829020184);\">raps.</span> <span style=\"background-color:rgba(135,206,250,0.04251758257548015);\">woh</span> <span style=\"background-color:rgba(135,206,250,0.07119417190551758);\">muh</span> <span style=\"background-color:rgba(135,206,250,0.1089400053024292);\">kholta</span> <span style=\"background-color:rgba(135,206,250,0.3245049715042114);\">hai</span> <span style=\"background-color:rgba(135,206,250,0.024370551109313965);\">ki</span> <span style=\"background-color:rgba(135,206,250,0.18429716428120932);\">usse</span> <span style=\"background-color:rgba(135,206,250,0.059507886568705246);\">khuch</span> <span style=\"background-color:rgba(135,206,250,0.03619094689687093);\">phek</span> <span style=\"background-color:rgba(135,206,250,0.03014087677001953);\">ke</span> <span style=\"background-color:rgba(135,206,250,0.0047268470128377284);\">marne</span> <span style=\"background-color:rgba(135,206,250,-0.0023231903711954755);\">ka</span> <span style=\"background-color:rgba(135,206,250,0.0030813614527384443);\">mann</span> <span style=\"background-color:rgba(135,206,250,0.0);\">kartahai</span>"
      ],
      "text/plain": [
       "<IPython.core.display.HTML object>"
      ]
     },
     "metadata": {},
     "output_type": "display_data"
    }
   ],
   "source": [
    "text = \"i hate takla’s all raps.  woh muh kholta hai ki usse khuch phek ke marne ka mann kartahai\"\n",
    "\n",
    "highlighted_text = gradient_plots(text,get_conditional_weights(text, model2, 0))\n",
    "\n",
    "display(HTML(highlighted_text))"
   ]
  },
  {
   "cell_type": "code",
   "execution_count": 51,
   "metadata": {},
   "outputs": [
    {
     "data": {
      "text/html": [
       "<span style=\"background-color:rgba(135,206,250,3.3322389920552573);\">i</span> <span style=\"background-color:rgba(135,206,250,3.3305497964223227);\">hate</span> <span style=\"background-color:rgba(135,206,250,0.008667707443237305);\">takla’s</span> <span style=\"background-color:rgba(135,206,250,-0.0010704994201660156);\">all</span> <span style=\"background-color:rgba(135,206,250,-0.0010915597279866538);\">raps.</span> <span style=\"background-color:rgba(135,206,250,-0.0010915597279866538);\">woh</span> <span style=\"background-color:rgba(135,206,250,-0.001090367635091146);\">muh</span> <span style=\"background-color:rgba(135,206,250,-0.0010899702707926433);\">kholta</span> <span style=\"background-color:rgba(135,206,250,-0.0010756651560465496);\">hai</span> <span style=\"background-color:rgba(135,206,250,-0.0010764598846435547);\">ki</span> <span style=\"background-color:rgba(135,206,250,-0.0010879834493001304);\">usse</span> <span style=\"background-color:rgba(135,206,250,-0.001090367635091146);\">khuch</span> <span style=\"background-color:rgba(135,206,250,-0.0010891755421956382);\">phek</span> <span style=\"background-color:rgba(135,206,250,-0.0010879834493001304);\">ke</span> <span style=\"background-color:rgba(135,206,250,-0.0010836124420166016);\">marne</span> <span style=\"background-color:rgba(135,206,250,8.106231689453125e-05);\">ka</span> <span style=\"background-color:rgba(135,206,250,0.00025331974029541016);\">mann</span> <span style=\"background-color:rgba(135,206,250,0.0);\">kartahai</span>"
      ],
      "text/plain": [
       "<IPython.core.display.HTML object>"
      ]
     },
     "metadata": {},
     "output_type": "display_data"
    }
   ],
   "source": [
    "#text = \"chutiyee ko kabhi v allow nehi karna chahiye fight me\"\n",
    "highlighted_text = gradient_plots(text,get_conditional_weights(text, model4, 1))\n",
    "\n",
    "display(HTML(highlighted_text))"
   ]
  },
  {
   "cell_type": "code",
   "execution_count": 52,
   "metadata": {},
   "outputs": [
    {
     "data": {
      "text/html": [
       "<span style=\"background-color:rgba(135,206,250,1.2178295850753784);\">i</span> <span style=\"background-color:rgba(135,206,250,0.3741643826166789);\">hate</span> <span style=\"background-color:rgba(135,206,250,0.20554025967915854);\">takla’s</span> <span style=\"background-color:rgba(135,206,250,0.008823871612548828);\">all</span> <span style=\"background-color:rgba(135,206,250,0.006155769030253093);\">raps.</span> <span style=\"background-color:rgba(135,206,250,0.0008126099904378256);\">woh</span> <span style=\"background-color:rgba(135,206,250,0.001013477643330892);\">muh</span> <span style=\"background-color:rgba(135,206,250,0.00047067801157633465);\">kholta</span> <span style=\"background-color:rgba(135,206,250,0.0015701850255330405);\">hai</span> <span style=\"background-color:rgba(135,206,250,0.001958608627319336);\">ki</span> <span style=\"background-color:rgba(135,206,250,8.742014567057292e-05);\">usse</span> <span style=\"background-color:rgba(135,206,250,-0.00019788742065429688);\">khuch</span> <span style=\"background-color:rgba(135,206,250,-0.00021139780680338543);\">phek</span> <span style=\"background-color:rgba(135,206,250,-0.00019073486328125);\">ke</span> <span style=\"background-color:rgba(135,206,250,-0.00016689300537109375);\">marne</span> <span style=\"background-color:rgba(135,206,250,-0.00019788742065429688);\">ka</span> <span style=\"background-color:rgba(135,206,250,-0.0002376238505045573);\">mann</span> <span style=\"background-color:rgba(135,206,250,0.0);\">kartahai</span>"
      ],
      "text/plain": [
       "<IPython.core.display.HTML object>"
      ]
     },
     "metadata": {},
     "output_type": "display_data"
    }
   ],
   "source": [
    "#text = \"chutiyee ko kabhi v allow nehi karna chahiye fight me\"\n",
    "highlighted_text = gradient_plots(text,get_conditional_weights(text, model6, 1))\n",
    "\n",
    "display(HTML(highlighted_text))"
   ]
  },
  {
   "cell_type": "code",
   "execution_count": 41,
   "metadata": {},
   "outputs": [
    {
     "data": {
      "text/plain": [
       "array([9.9999893e-01, 9.9995446e-01, 4.1718942e-01, 1.9228458e-03,\n",
       "       7.2717667e-06, 7.5531006e-04, 3.5709989e-01, 8.5953557e-01,\n",
       "       4.4872046e-02, 2.4914742e-05, 0.0000000e+00, 0.0000000e+00],\n",
       "      dtype=float32)"
      ]
     },
     "execution_count": 41,
     "metadata": {},
     "output_type": "execute_result"
    }
   ],
   "source": [
    "get_conditional_weights(text, model4, 1)"
   ]
  },
  {
   "cell_type": "code",
   "execution_count": 42,
   "metadata": {},
   "outputs": [
    {
     "data": {
      "text/html": [
       "<span style=\"background-color:rgba(135,206,250,-0.003432432810465495);\">tujhe</span> <span style=\"background-color:rgba(135,206,250,-0.0033195813496907554);\">murder</span> <span style=\"background-color:rgba(135,206,250,-0.0031455357869466147);\">kar</span> <span style=\"background-color:rgba(135,206,250,-0.0033020973205566406);\">dungi</span> <span style=\"background-color:rgba(135,206,250,0.0);\">main!</span>"
      ],
      "text/plain": [
       "<IPython.core.display.HTML object>"
      ]
     },
     "metadata": {},
     "output_type": "display_data"
    }
   ],
   "source": [
    "text = test_df.text.iloc[32]\n",
    "\n",
    "highlighted_text = gradient_plots(text,get_conditional_weights(text, model4, 0))\n",
    "\n",
    "display(HTML(highlighted_text))\n"
   ]
  },
  {
   "cell_type": "code",
   "execution_count": 43,
   "metadata": {},
   "outputs": [],
   "source": [
    "import matplotlib.pyplot as plt\n",
    "import matplotlib.ticker as ticker\n",
    "\n",
    "def get_word_attention(text, model, tokenizer,model_name):\n",
    "    df = pd.DataFrame()\n",
    "    df['text'] = [text]\n",
    "    transformer_val_inputs, _, _ = data.data_utils.compute_transformer_input_arrays(df, 'text', tokenizer, args.max_char_len)\n",
    "    \n",
    "    print (transformer_val_inputs.shape)\n",
    "    \n",
    "    pos = model.layers[1](transformer_val_inputs)\n",
    "    embs = model.layers[2](pos)\n",
    "    \n",
    "    attn = model.layers[3].att\n",
    "    \n",
    "    batch_size = tf.shape(embs)[0]\n",
    "    query = attn.query_dense(embs)  # (batch_size, seq_len, embed_dim)\n",
    "    key = attn.key_dense(embs)  # (batch_size, seq_len, embed_dim)\n",
    "    value = attn.value_dense(embs)  # (batch_size, seq_len, embed_dim)\n",
    "    query = attn.separate_heads(\n",
    "        query, batch_size\n",
    "    )  # (batch_size, num_heads, seq_len, projection_dim)\n",
    "    key = attn.separate_heads(\n",
    "        key, batch_size\n",
    "    )  # (batch_size, num_heads, seq_len, projection_dim)\n",
    "    value = attn.separate_heads(\n",
    "        value, batch_size\n",
    "    )  # (batch_size, num_heads, seq_len, projection_dim)\n",
    "    attention, weights = attn.attention(query, key, value)\n",
    "    weights = weights.numpy().mean(1)[0]\n",
    "\n",
    "    sentence = tokenizer.tokenize(text) #text.split()\n",
    "    try:\n",
    "        plot_attention(weights[:len(sentence),:len(sentence)],sentence,filename='../plots/attention_hate_{}.pdf'.format(model_name))\n",
    "    except:\n",
    "        plot_attention(weights,sentence,filename='../plots/attention_hate_{}.pdf'.format(model_name))"
   ]
  },
  {
   "cell_type": "code",
   "execution_count": null,
   "metadata": {},
   "outputs": [],
   "source": []
  },
  {
   "cell_type": "code",
   "execution_count": 44,
   "metadata": {},
   "outputs": [],
   "source": [
    "def get_word_attention_bert(text, bert_model, bert_tokenizer,filename='../plots/attention_hate_BERT.pdf'):\n",
    "    \n",
    "    input = np.array(bert_tokenizer.encode(text))[np.newaxis,:]\n",
    "\n",
    "    out = bert_model(input)\n",
    "    \n",
    "    weights = out[-1][-1].numpy().mean(1)[0]\n",
    "    \n",
    "    sentence = tokenizer.tokenize(text) #text.split()\n",
    "    \n",
    "    try:\n",
    "        plot_attention(weights[:len(sentence),:len(sentence)],sentence,filename=filename)\n",
    "    except:\n",
    "        plot_attention(weights,sentence,filename=filename)"
   ]
  },
  {
   "cell_type": "code",
   "execution_count": 45,
   "metadata": {},
   "outputs": [],
   "source": [
    "model_name = 'BERT'\n",
    "loss = 'ce'\n",
    "bert_tokenizer = AutoTokenizer.from_pretrained(args.transformer_tokenizer_path)\n",
    "bert_model = BERT(word_vocab_size=n_words,char_vocab_size=n_chars,wpe_vocab_size=bert_tokenizer.vocab_size, vectorizer_shape=tfidf_shape, n_out=n_out,\\\n",
    "                               transformer_model_pretrained_path=args.transformer_model_pretrained_path,max_word_char_len=args.max_word_char_len,\\\n",
    "                                             max_text_len=args.max_text_len, max_char_len=args.max_char_len,\\\n",
    "                                             n_layers=args.n_layers, n_units=args.n_units, emb_dim=args.emb_dim)\n",
    "model_save_path = os.path.join(args.model_save_path, '{}_{}_with_features.h5'.format(model_name, loss))\n",
    "bert_model.load_weights(model_save_path)\n",
    "\n",
    "base_model = bert_model.layers[1]\n",
    "base_model.save_pretrained('./')\n",
    "\n",
    "config = AutoConfig.from_pretrained(args.transformer_config_path, output_attentions=True)\n",
    "\n",
    "base_model = TFAutoModel.from_pretrained('./', config=config)\n"
   ]
  },
  {
   "cell_type": "code",
   "execution_count": 47,
   "metadata": {},
   "outputs": [
    {
     "name": "stderr",
     "output_type": "stream",
     "text": [
      "100%|██████████| 1/1 [00:00<00:00, 822.41it/s]\n",
      "/Users/victor/anaconda3/lib/python3.7/site-packages/ipykernel_launcher.py:169: UserWarning: FixedFormatter should only be used together with FixedLocator\n",
      "/Users/victor/anaconda3/lib/python3.7/site-packages/ipykernel_launcher.py:170: UserWarning: FixedFormatter should only be used together with FixedLocator\n"
     ]
    },
    {
     "name": "stdout",
     "output_type": "stream",
     "text": [
      "(1, 200)\n"
     ]
    },
    {
     "data": {
      "image/png": "[encoded data removed]",
      "text/plain": [
       "<Figure size 864x864 with 1 Axes>"
      ]
     },
     "metadata": {
      "needs_background": "light"
     },
     "output_type": "display_data"
    }
   ],
   "source": [
    "get_word_attention(test_df.text.iloc[450], model1, tokenizer, 'Transformer')"
   ]
  },
  {
   "cell_type": "code",
   "execution_count": 48,
   "metadata": {},
   "outputs": [
    {
     "name": "stderr",
     "output_type": "stream",
     "text": [
      "/Users/victor/anaconda3/lib/python3.7/site-packages/ipykernel_launcher.py:169: UserWarning: FixedFormatter should only be used together with FixedLocator\n",
      "/Users/victor/anaconda3/lib/python3.7/site-packages/ipykernel_launcher.py:170: UserWarning: FixedFormatter should only be used together with FixedLocator\n"
     ]
    },
    {
     "data": {
      "image/png": "[encoded data removed]",
      "text/plain": [
       "<Figure size 864x864 with 1 Axes>"
      ]
     },
     "metadata": {
      "needs_background": "light"
     },
     "output_type": "display_data"
    }
   ],
   "source": [
    "get_word_attention_bert(test_df.text.iloc[450], base_model, bert_tokenizer)"
   ]
  },
  {
   "cell_type": "code",
   "execution_count": null,
   "metadata": {},
   "outputs": [],
   "source": []
  }
 ],
 "metadata": {
  "accelerator": "GPU",
  "colab": {
   "name": "experiments_hate.ipynb",
   "provenance": [],
   "toc_visible": true
  },
  "kernelspec": {
   "display_name": "Python 3",
   "language": "python",
   "name": "python3"
  },
  "language_info": {
   "codemirror_mode": {
    "name": "ipython",
    "version": 3
   },
   "file_extension": ".py",
   "mimetype": "text/x-python",
   "name": "python",
   "nbconvert_exporter": "python",
   "pygments_lexer": "ipython3",
   "version": "3.7.1"
  },
  "widgets": {
   "application/vnd.jupyter.widget-state+json": {
    "019ed6db63a64a52b29348c58433e686": {
     "model_module": "@jupyter-widgets/base",
     "model_name": "LayoutModel",
     "state": {
      "_model_module": "@jupyter-widgets/base",
      "_model_module_version": "1.2.0",
      "_model_name": "LayoutModel",
      "_view_count": null,
      "_view_module": "@jupyter-widgets/base",
      "_view_module_version": "1.2.0",
      "_view_name": "LayoutView",
      "align_content": null,
      "align_items": null,
      "align_self": null,
      "border": null,
      "bottom": null,
      "display": null,
      "flex": null,
      "flex_flow": null,
      "grid_area": null,
      "grid_auto_columns": null,
      "grid_auto_flow": null,
      "grid_auto_rows": null,
      "grid_column": null,
      "grid_gap": null,
      "grid_row": null,
      "grid_template_areas": null,
      "grid_template_columns": null,
      "grid_template_rows": null,
      "height": null,
      "justify_content": null,
      "justify_items": null,
      "left": null,
      "margin": null,
      "max_height": null,
      "max_width": null,
      "min_height": null,
      "min_width": null,
      "object_fit": null,
      "object_position": null,
      "order": null,
      "overflow": null,
      "overflow_x": null,
      "overflow_y": null,
      "padding": null,
      "right": null,
      "top": null,
      "visibility": null,
      "width": null
     }
    },
    "1e15eae077064978a8462551539b5eaf": {
     "model_module": "@jupyter-widgets/controls",
     "model_name": "ProgressStyleModel",
     "state": {
      "_model_module": "@jupyter-widgets/controls",
      "_model_module_version": "1.5.0",
      "_model_name": "ProgressStyleModel",
      "_view_count": null,
      "_view_module": "@jupyter-widgets/base",
      "_view_module_version": "1.2.0",
      "_view_name": "StyleView",
      "bar_color": null,
      "description_width": "initial"
     }
    },
    "1fcbe904419c4a9583727d4055c26192": {
     "model_module": "@jupyter-widgets/controls",
     "model_name": "HBoxModel",
     "state": {
      "_dom_classes": [],
      "_model_module": "@jupyter-widgets/controls",
      "_model_module_version": "1.5.0",
      "_model_name": "HBoxModel",
      "_view_count": null,
      "_view_module": "@jupyter-widgets/controls",
      "_view_module_version": "1.5.0",
      "_view_name": "HBoxView",
      "box_style": "",
      "children": [
       "IPY_MODEL_3b194ae11cee46acb89c2969ec7abf69",
       "IPY_MODEL_d73b181e1a9a4330aa91f345fa90d1c1"
      ],
      "layout": "IPY_MODEL_5ccfd63609df49c0b5504ffc9bac6cc0"
     }
    },
    "282aa3fb34f047ac92896677f0c7cd55": {
     "model_module": "@jupyter-widgets/base",
     "model_name": "LayoutModel",
     "state": {
      "_model_module": "@jupyter-widgets/base",
      "_model_module_version": "1.2.0",
      "_model_name": "LayoutModel",
      "_view_count": null,
      "_view_module": "@jupyter-widgets/base",
      "_view_module_version": "1.2.0",
      "_view_name": "LayoutView",
      "align_content": null,
      "align_items": null,
      "align_self": null,
      "border": null,
      "bottom": null,
      "display": null,
      "flex": null,
      "flex_flow": null,
      "grid_area": null,
      "grid_auto_columns": null,
      "grid_auto_flow": null,
      "grid_auto_rows": null,
      "grid_column": null,
      "grid_gap": null,
      "grid_row": null,
      "grid_template_areas": null,
      "grid_template_columns": null,
      "grid_template_rows": null,
      "height": null,
      "justify_content": null,
      "justify_items": null,
      "left": null,
      "margin": null,
      "max_height": null,
      "max_width": null,
      "min_height": null,
      "min_width": null,
      "object_fit": null,
      "object_position": null,
      "order": null,
      "overflow": null,
      "overflow_x": null,
      "overflow_y": null,
      "padding": null,
      "right": null,
      "top": null,
      "visibility": null,
      "width": null
     }
    },
    "2e5595e166144b0a861366568bcc7cba": {
     "model_module": "@jupyter-widgets/base",
     "model_name": "LayoutModel",
     "state": {
      "_model_module": "@jupyter-widgets/base",
      "_model_module_version": "1.2.0",
      "_model_name": "LayoutModel",
      "_view_count": null,
      "_view_module": "@jupyter-widgets/base",
      "_view_module_version": "1.2.0",
      "_view_name": "LayoutView",
      "align_content": null,
      "align_items": null,
      "align_self": null,
      "border": null,
      "bottom": null,
      "display": null,
      "flex": null,
      "flex_flow": null,
      "grid_area": null,
      "grid_auto_columns": null,
      "grid_auto_flow": null,
      "grid_auto_rows": null,
      "grid_column": null,
      "grid_gap": null,
      "grid_row": null,
      "grid_template_areas": null,
      "grid_template_columns": null,
      "grid_template_rows": null,
      "height": null,
      "justify_content": null,
      "justify_items": null,
      "left": null,
      "margin": null,
      "max_height": null,
      "max_width": null,
      "min_height": null,
      "min_width": null,
      "object_fit": null,
      "object_position": null,
      "order": null,
      "overflow": null,
      "overflow_x": null,
      "overflow_y": null,
      "padding": null,
      "right": null,
      "top": null,
      "visibility": null,
      "width": null
     }
    },
    "30958db737254d5e8538d6ddeb81fd02": {
     "model_module": "@jupyter-widgets/controls",
     "model_name": "HBoxModel",
     "state": {
      "_dom_classes": [],
      "_model_module": "@jupyter-widgets/controls",
      "_model_module_version": "1.5.0",
      "_model_name": "HBoxModel",
      "_view_count": null,
      "_view_module": "@jupyter-widgets/controls",
      "_view_module_version": "1.5.0",
      "_view_name": "HBoxView",
      "box_style": "",
      "children": [
       "IPY_MODEL_6e12f53951164b7e96ac133e3bd7ae60",
       "IPY_MODEL_60093de2a7ae41138828721875d7ebf6"
      ],
      "layout": "IPY_MODEL_282aa3fb34f047ac92896677f0c7cd55"
     }
    },
    "32e818d8ba52486e9797f7245757c820": {
     "model_module": "@jupyter-widgets/controls",
     "model_name": "ProgressStyleModel",
     "state": {
      "_model_module": "@jupyter-widgets/controls",
      "_model_module_version": "1.5.0",
      "_model_name": "ProgressStyleModel",
      "_view_count": null,
      "_view_module": "@jupyter-widgets/base",
      "_view_module_version": "1.2.0",
      "_view_name": "StyleView",
      "bar_color": null,
      "description_width": "initial"
     }
    },
    "3b194ae11cee46acb89c2969ec7abf69": {
     "model_module": "@jupyter-widgets/controls",
     "model_name": "FloatProgressModel",
     "state": {
      "_dom_classes": [],
      "_model_module": "@jupyter-widgets/controls",
      "_model_module_version": "1.5.0",
      "_model_name": "FloatProgressModel",
      "_view_count": null,
      "_view_module": "@jupyter-widgets/controls",
      "_view_module_version": "1.5.0",
      "_view_name": "ProgressView",
      "bar_style": "success",
      "description": "Downloading: 100%",
      "description_tooltip": null,
      "layout": "IPY_MODEL_4fab2c42259e4c38bdb8a50d43923614",
      "max": 995526,
      "min": 0,
      "orientation": "horizontal",
      "style": "IPY_MODEL_32e818d8ba52486e9797f7245757c820",
      "value": 995526
     }
    },
    "4520aaab84fe4ef29c230a495b7d4db5": {
     "model_module": "@jupyter-widgets/controls",
     "model_name": "DescriptionStyleModel",
     "state": {
      "_model_module": "@jupyter-widgets/controls",
      "_model_module_version": "1.5.0",
      "_model_name": "DescriptionStyleModel",
      "_view_count": null,
      "_view_module": "@jupyter-widgets/base",
      "_view_module_version": "1.2.0",
      "_view_name": "StyleView",
      "description_width": ""
     }
    },
    "4fab2c42259e4c38bdb8a50d43923614": {
     "model_module": "@jupyter-widgets/base",
     "model_name": "LayoutModel",
     "state": {
      "_model_module": "@jupyter-widgets/base",
      "_model_module_version": "1.2.0",
      "_model_name": "LayoutModel",
      "_view_count": null,
      "_view_module": "@jupyter-widgets/base",
      "_view_module_version": "1.2.0",
      "_view_name": "LayoutView",
      "align_content": null,
      "align_items": null,
      "align_self": null,
      "border": null,
      "bottom": null,
      "display": null,
      "flex": null,
      "flex_flow": null,
      "grid_area": null,
      "grid_auto_columns": null,
      "grid_auto_flow": null,
      "grid_auto_rows": null,
      "grid_column": null,
      "grid_gap": null,
      "grid_row": null,
      "grid_template_areas": null,
      "grid_template_columns": null,
      "grid_template_rows": null,
      "height": null,
      "justify_content": null,
      "justify_items": null,
      "left": null,
      "margin": null,
      "max_height": null,
      "max_width": null,
      "min_height": null,
      "min_width": null,
      "object_fit": null,
      "object_position": null,
      "order": null,
      "overflow": null,
      "overflow_x": null,
      "overflow_y": null,
      "padding": null,
      "right": null,
      "top": null,
      "visibility": null,
      "width": null
     }
    },
    "5ccfd63609df49c0b5504ffc9bac6cc0": {
     "model_module": "@jupyter-widgets/base",
     "model_name": "LayoutModel",
     "state": {
      "_model_module": "@jupyter-widgets/base",
      "_model_module_version": "1.2.0",
      "_model_name": "LayoutModel",
      "_view_count": null,
      "_view_module": "@jupyter-widgets/base",
      "_view_module_version": "1.2.0",
      "_view_name": "LayoutView",
      "align_content": null,
      "align_items": null,
      "align_self": null,
      "border": null,
      "bottom": null,
      "display": null,
      "flex": null,
      "flex_flow": null,
      "grid_area": null,
      "grid_auto_columns": null,
      "grid_auto_flow": null,
      "grid_auto_rows": null,
      "grid_column": null,
      "grid_gap": null,
      "grid_row": null,
      "grid_template_areas": null,
      "grid_template_columns": null,
      "grid_template_rows": null,
      "height": null,
      "justify_content": null,
      "justify_items": null,
      "left": null,
      "margin": null,
      "max_height": null,
      "max_width": null,
      "min_height": null,
      "min_width": null,
      "object_fit": null,
      "object_position": null,
      "order": null,
      "overflow": null,
      "overflow_x": null,
      "overflow_y": null,
      "padding": null,
      "right": null,
      "top": null,
      "visibility": null,
      "width": null
     }
    },
    "60093de2a7ae41138828721875d7ebf6": {
     "model_module": "@jupyter-widgets/controls",
     "model_name": "HTMLModel",
     "state": {
      "_dom_classes": [],
      "_model_module": "@jupyter-widgets/controls",
      "_model_module_version": "1.5.0",
      "_model_name": "HTMLModel",
      "_view_count": null,
      "_view_module": "@jupyter-widgets/controls",
      "_view_module_version": "1.5.0",
      "_view_name": "HTMLView",
      "description": "",
      "description_tooltip": null,
      "layout": "IPY_MODEL_019ed6db63a64a52b29348c58433e686",
      "placeholder": "​",
      "style": "IPY_MODEL_a9519e6832064d96968b9c7461147abe",
      "value": " 625/625 [00:00&lt;00:00, 2.15kB/s]"
     }
    },
    "6e12f53951164b7e96ac133e3bd7ae60": {
     "model_module": "@jupyter-widgets/controls",
     "model_name": "FloatProgressModel",
     "state": {
      "_dom_classes": [],
      "_model_module": "@jupyter-widgets/controls",
      "_model_module_version": "1.5.0",
      "_model_name": "FloatProgressModel",
      "_view_count": null,
      "_view_module": "@jupyter-widgets/controls",
      "_view_module_version": "1.5.0",
      "_view_name": "ProgressView",
      "bar_style": "success",
      "description": "Downloading: 100%",
      "description_tooltip": null,
      "layout": "IPY_MODEL_8d6fe3d770124224baaadcbe7ff5f407",
      "max": 625,
      "min": 0,
      "orientation": "horizontal",
      "style": "IPY_MODEL_1e15eae077064978a8462551539b5eaf",
      "value": 625
     }
    },
    "8d6fe3d770124224baaadcbe7ff5f407": {
     "model_module": "@jupyter-widgets/base",
     "model_name": "LayoutModel",
     "state": {
      "_model_module": "@jupyter-widgets/base",
      "_model_module_version": "1.2.0",
      "_model_name": "LayoutModel",
      "_view_count": null,
      "_view_module": "@jupyter-widgets/base",
      "_view_module_version": "1.2.0",
      "_view_name": "LayoutView",
      "align_content": null,
      "align_items": null,
      "align_self": null,
      "border": null,
      "bottom": null,
      "display": null,
      "flex": null,
      "flex_flow": null,
      "grid_area": null,
      "grid_auto_columns": null,
      "grid_auto_flow": null,
      "grid_auto_rows": null,
      "grid_column": null,
      "grid_gap": null,
      "grid_row": null,
      "grid_template_areas": null,
      "grid_template_columns": null,
      "grid_template_rows": null,
      "height": null,
      "justify_content": null,
      "justify_items": null,
      "left": null,
      "margin": null,
      "max_height": null,
      "max_width": null,
      "min_height": null,
      "min_width": null,
      "object_fit": null,
      "object_position": null,
      "order": null,
      "overflow": null,
      "overflow_x": null,
      "overflow_y": null,
      "padding": null,
      "right": null,
      "top": null,
      "visibility": null,
      "width": null
     }
    },
    "a9519e6832064d96968b9c7461147abe": {
     "model_module": "@jupyter-widgets/controls",
     "model_name": "DescriptionStyleModel",
     "state": {
      "_model_module": "@jupyter-widgets/controls",
      "_model_module_version": "1.5.0",
      "_model_name": "DescriptionStyleModel",
      "_view_count": null,
      "_view_module": "@jupyter-widgets/base",
      "_view_module_version": "1.2.0",
      "_view_name": "StyleView",
      "description_width": ""
     }
    },
    "d73b181e1a9a4330aa91f345fa90d1c1": {
     "model_module": "@jupyter-widgets/controls",
     "model_name": "HTMLModel",
     "state": {
      "_dom_classes": [],
      "_model_module": "@jupyter-widgets/controls",
      "_model_module_version": "1.5.0",
      "_model_name": "HTMLModel",
      "_view_count": null,
      "_view_module": "@jupyter-widgets/controls",
      "_view_module_version": "1.5.0",
      "_view_name": "HTMLView",
      "description": "",
      "description_tooltip": null,
      "layout": "IPY_MODEL_2e5595e166144b0a861366568bcc7cba",
      "placeholder": "​",
      "style": "IPY_MODEL_4520aaab84fe4ef29c230a495b7d4db5",
      "value": " 996k/996k [00:00&lt;00:00, 6.17MB/s]"
     }
    }
   }
  }
 },
 "nbformat": 4,
 "nbformat_minor": 1
}
