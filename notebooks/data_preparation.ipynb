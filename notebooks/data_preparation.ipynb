{
 "cells": [
  {
   "cell_type": "code",
   "execution_count": 1,
   "metadata": {},
   "outputs": [],
   "source": [
    "import pandas as pd\n",
    "import json\n",
    "import glob\n",
    "import os\n",
    "import csv"
   ]
  },
  {
   "cell_type": "markdown",
   "metadata": {},
   "source": [
    "### Humor detection dataset"
   ]
  },
  {
   "cell_type": "code",
   "execution_count": 2,
   "metadata": {},
   "outputs": [],
   "source": [
    "data = pd.DataFrame()\n",
    "\n",
    "for file in glob.glob('../data/raw/humor-detection-corpus/Raw-data/*.json'):\n",
    "    df = pd.read_json(file,dtype=str)\n",
    "    data = pd.concat([data,df],axis=0)"
   ]
  },
  {
   "cell_type": "code",
   "execution_count": 3,
   "metadata": {},
   "outputs": [],
   "source": [
    "labels = pd.read_csv('../data/raw/humor-detection-corpus/HumorCorpusFinal.txt',header=None,sep=' ',dtype=str)\n",
    "labels.columns = ['id','label']"
   ]
  },
  {
   "cell_type": "code",
   "execution_count": 4,
   "metadata": {},
   "outputs": [],
   "source": [
    "data = pd.merge(data,labels,how='inner')"
   ]
  },
  {
   "cell_type": "code",
   "execution_count": 5,
   "metadata": {},
   "outputs": [],
   "source": [
    "try:\n",
    "    os.makedirs('../data/processed/humon-detection-corpus/')\n",
    "except:\n",
    "    pass"
   ]
  },
  {
   "cell_type": "code",
   "execution_count": 6,
   "metadata": {},
   "outputs": [
    {
     "data": {
      "text/html": [
       "<div>\n",
       "<style scoped>\n",
       "    .dataframe tbody tr th:only-of-type {\n",
       "        vertical-align: middle;\n",
       "    }\n",
       "\n",
       "    .dataframe tbody tr th {\n",
       "        vertical-align: top;\n",
       "    }\n",
       "\n",
       "    .dataframe thead th {\n",
       "        text-align: right;\n",
       "    }\n",
       "</style>\n",
       "<table border=\"1\" class=\"dataframe\">\n",
       "  <thead>\n",
       "    <tr style=\"text-align: right;\">\n",
       "      <th></th>\n",
       "      <th>timestamp</th>\n",
       "      <th>text</th>\n",
       "      <th>user</th>\n",
       "      <th>retweets</th>\n",
       "      <th>replies</th>\n",
       "      <th>fullname</th>\n",
       "      <th>id</th>\n",
       "      <th>likes</th>\n",
       "      <th>label</th>\n",
       "    </tr>\n",
       "  </thead>\n",
       "  <tbody>\n",
       "    <tr>\n",
       "      <th>0</th>\n",
       "      <td>2015-01-02 15:32:48</td>\n",
       "      <td>Anurag Kashyap's Mahabharat - Nawazuddin Siddi...</td>\n",
       "      <td>Raj_ThackerYAY</td>\n",
       "      <td>10</td>\n",
       "      <td>0</td>\n",
       "      <td>Raj ThackerYAY</td>\n",
       "      <td>551038407351103488</td>\n",
       "      <td>3</td>\n",
       "      <td>H</td>\n",
       "    </tr>\n",
       "    <tr>\n",
       "      <th>1</th>\n",
       "      <td>2015-01-04 07:05:13</td>\n",
       "      <td>Public nahaane ki baatein kar rai hai, aur yah...</td>\n",
       "      <td>AdvancedMaushi</td>\n",
       "      <td>3</td>\n",
       "      <td>2</td>\n",
       "      <td>A La' Vile De Satara</td>\n",
       "      <td>551635442878009344</td>\n",
       "      <td>4</td>\n",
       "      <td>H</td>\n",
       "    </tr>\n",
       "    <tr>\n",
       "      <th>2</th>\n",
       "      <td>2015-01-04 17:05:35</td>\n",
       "      <td>Uncle: Isse shaadi huee nahi.. Phir huee nahi....</td>\n",
       "      <td>BolshoyBooze</td>\n",
       "      <td>5</td>\n",
       "      <td>1</td>\n",
       "      <td>Ser Champ McStark</td>\n",
       "      <td>551786530889400320</td>\n",
       "      <td>4</td>\n",
       "      <td>H</td>\n",
       "    </tr>\n",
       "    <tr>\n",
       "      <th>3</th>\n",
       "      <td>2015-01-05 06:20:24</td>\n",
       "      <td>.@BabaFirki haan BC yahi baaki reh gaya hai ba...</td>\n",
       "      <td>AdvancedMaushi</td>\n",
       "      <td>1</td>\n",
       "      <td>1</td>\n",
       "      <td>A La' Vile De Satara</td>\n",
       "      <td>551986554621542400</td>\n",
       "      <td>0</td>\n",
       "      <td>H</td>\n",
       "    </tr>\n",
       "    <tr>\n",
       "      <th>4</th>\n",
       "      <td>2015-01-05 11:28:12</td>\n",
       "      <td>Yo Yo Honey Singh: Upar upar upar upar upar up...</td>\n",
       "      <td>BolshoyBooze</td>\n",
       "      <td>15</td>\n",
       "      <td>1</td>\n",
       "      <td>Ser Champ McStark</td>\n",
       "      <td>552064014553841666</td>\n",
       "      <td>7</td>\n",
       "      <td>H</td>\n",
       "    </tr>\n",
       "  </tbody>\n",
       "</table>\n",
       "</div>"
      ],
      "text/plain": [
       "             timestamp                                               text  \\\n",
       "0  2015-01-02 15:32:48  Anurag Kashyap's Mahabharat - Nawazuddin Siddi...   \n",
       "1  2015-01-04 07:05:13  Public nahaane ki baatein kar rai hai, aur yah...   \n",
       "2  2015-01-04 17:05:35  Uncle: Isse shaadi huee nahi.. Phir huee nahi....   \n",
       "3  2015-01-05 06:20:24  .@BabaFirki haan BC yahi baaki reh gaya hai ba...   \n",
       "4  2015-01-05 11:28:12  Yo Yo Honey Singh: Upar upar upar upar upar up...   \n",
       "\n",
       "             user retweets replies              fullname                  id  \\\n",
       "0  Raj_ThackerYAY       10       0        Raj ThackerYAY  551038407351103488   \n",
       "1  AdvancedMaushi        3       2  A La' Vile De Satara  551635442878009344   \n",
       "2    BolshoyBooze        5       1     Ser Champ McStark  551786530889400320   \n",
       "3  AdvancedMaushi        1       1  A La' Vile De Satara  551986554621542400   \n",
       "4    BolshoyBooze       15       1     Ser Champ McStark  552064014553841666   \n",
       "\n",
       "  likes label  \n",
       "0     3     H  \n",
       "1     4     H  \n",
       "2     4     H  \n",
       "3     0     H  \n",
       "4     7     H  "
      ]
     },
     "execution_count": 6,
     "metadata": {},
     "output_type": "execute_result"
    }
   ],
   "source": [
    "data.head()"
   ]
  },
  {
   "cell_type": "code",
   "execution_count": 7,
   "metadata": {},
   "outputs": [],
   "source": [
    "data[['text','label']].to_csv(os.path.join('../data/processed/humon-detection-corpus/','data.txt'),\\\n",
    "                              header=None,sep='\\t',index=False)"
   ]
  },
  {
   "cell_type": "code",
   "execution_count": 8,
   "metadata": {},
   "outputs": [
    {
     "data": {
      "text/plain": [
       "(2952, 9)"
      ]
     },
     "execution_count": 8,
     "metadata": {},
     "output_type": "execute_result"
    }
   ],
   "source": [
    "data.shape"
   ]
  },
  {
   "cell_type": "markdown",
   "metadata": {},
   "source": [
    "### Sarcasm dataset"
   ]
  },
  {
   "cell_type": "code",
   "execution_count": 9,
   "metadata": {},
   "outputs": [],
   "source": [
    "data = pd.read_csv('../data/raw/SarcasmDetection_CodeMixed/Dataset/Sarcasm_tweets.txt',sep='\\t',\\\n",
    "                   dtype=str,header=None)\n",
    "\n",
    "ids = []\n",
    "texts = []\n",
    "\n",
    "for i in range(data.shape[0]):\n",
    "    if i%2 == 0:\n",
    "        ids.append(data.values[i][0])\n",
    "    else:\n",
    "        texts.append(data.values[i][0])\n",
    "        \n",
    "assert len(ids) == len(texts)\n",
    "\n",
    "data = pd.DataFrame()\n",
    "data['id'] = ids\n",
    "data['text'] = texts"
   ]
  },
  {
   "cell_type": "code",
   "execution_count": 10,
   "metadata": {},
   "outputs": [],
   "source": [
    "labels = pd.read_csv('../data/raw/SarcasmDetection_CodeMixed/Dataset/Sarcasm_tweet_truth.txt',sep='\\t',\\\n",
    "                   dtype=str,header=None)\n",
    "\n",
    "ids = []\n",
    "label = []\n",
    "\n",
    "for i in range(labels.shape[0]):\n",
    "    if i%2 == 0:\n",
    "        ids.append(labels.values[i][0])\n",
    "    else:\n",
    "        label.append(labels.values[i][0])\n",
    "        \n",
    "assert len(ids) == len(label)\n",
    "\n",
    "labels = pd.DataFrame()\n",
    "labels['id'] = ids\n",
    "labels['label'] = label"
   ]
  },
  {
   "cell_type": "code",
   "execution_count": 11,
   "metadata": {},
   "outputs": [],
   "source": [
    "data = pd.merge(data,labels,how='inner')"
   ]
  },
  {
   "cell_type": "code",
   "execution_count": 12,
   "metadata": {},
   "outputs": [
    {
     "data": {
      "text/html": [
       "<div>\n",
       "<style scoped>\n",
       "    .dataframe tbody tr th:only-of-type {\n",
       "        vertical-align: middle;\n",
       "    }\n",
       "\n",
       "    .dataframe tbody tr th {\n",
       "        vertical-align: top;\n",
       "    }\n",
       "\n",
       "    .dataframe thead th {\n",
       "        text-align: right;\n",
       "    }\n",
       "</style>\n",
       "<table border=\"1\" class=\"dataframe\">\n",
       "  <thead>\n",
       "    <tr style=\"text-align: right;\">\n",
       "      <th></th>\n",
       "      <th>id</th>\n",
       "      <th>text</th>\n",
       "      <th>label</th>\n",
       "    </tr>\n",
       "  </thead>\n",
       "  <tbody>\n",
       "    <tr>\n",
       "      <th>0</th>\n",
       "      <td>866871160725794816</td>\n",
       "      <td>Triple Talaq par Burbak Kuchh nahi bolega</td>\n",
       "      <td>NO</td>\n",
       "    </tr>\n",
       "    <tr>\n",
       "      <th>1</th>\n",
       "      <td>880356789358743553</td>\n",
       "      <td>Batao ye uss site pr se akki sir ke verdict ni...</td>\n",
       "      <td>YES</td>\n",
       "    </tr>\n",
       "    <tr>\n",
       "      <th>2</th>\n",
       "      <td>877751493889105920</td>\n",
       "      <td>Hindu baheno par julam bardas nahi hoga @Tripl...</td>\n",
       "      <td>NO</td>\n",
       "    </tr>\n",
       "    <tr>\n",
       "      <th>3</th>\n",
       "      <td>901806457871466496</td>\n",
       "      <td>Naa bhai.. aisa nhi hai.. mere handle karne se...</td>\n",
       "      <td>NO</td>\n",
       "    </tr>\n",
       "    <tr>\n",
       "      <th>4</th>\n",
       "      <td>866264330748219392</td>\n",
       "      <td>#RememberingRajiv aaj agar musalman auraten tr...</td>\n",
       "      <td>NO</td>\n",
       "    </tr>\n",
       "  </tbody>\n",
       "</table>\n",
       "</div>"
      ],
      "text/plain": [
       "                   id                                               text label\n",
       "0  866871160725794816          Triple Talaq par Burbak Kuchh nahi bolega    NO\n",
       "1  880356789358743553  Batao ye uss site pr se akki sir ke verdict ni...   YES\n",
       "2  877751493889105920  Hindu baheno par julam bardas nahi hoga @Tripl...    NO\n",
       "3  901806457871466496  Naa bhai.. aisa nhi hai.. mere handle karne se...    NO\n",
       "4  866264330748219392  #RememberingRajiv aaj agar musalman auraten tr...    NO"
      ]
     },
     "execution_count": 12,
     "metadata": {},
     "output_type": "execute_result"
    }
   ],
   "source": [
    "data.head()"
   ]
  },
  {
   "cell_type": "code",
   "execution_count": 13,
   "metadata": {},
   "outputs": [
    {
     "data": {
      "text/plain": [
       "(5250, 3)"
      ]
     },
     "execution_count": 13,
     "metadata": {},
     "output_type": "execute_result"
    }
   ],
   "source": [
    "data.shape"
   ]
  },
  {
   "cell_type": "code",
   "execution_count": 14,
   "metadata": {},
   "outputs": [],
   "source": [
    "try:\n",
    "    os.makedirs('../data/processed/SarcasmDetection_CodeMixed/')\n",
    "except:\n",
    "    pass"
   ]
  },
  {
   "cell_type": "code",
   "execution_count": 15,
   "metadata": {},
   "outputs": [],
   "source": [
    "data[['text','label']].to_csv(os.path.join('../data/processed/SarcasmDetection_CodeMixed/','data.txt'),\\\n",
    "                              header=None,sep='\\t',index=False)"
   ]
  },
  {
   "cell_type": "markdown",
   "metadata": {},
   "source": [
    "### Stance detection dataset"
   ]
  },
  {
   "cell_type": "code",
   "execution_count": 16,
   "metadata": {},
   "outputs": [],
   "source": [
    "data = pd.read_csv('../data/raw/StanceDetection_CodeMixed/Dataset/Notebandi_tweets.txt',sep='\\t',\\\n",
    "                   dtype=str,header=None)\n",
    "\n",
    "ids = []\n",
    "texts = []\n",
    "\n",
    "for i in range(data.shape[0]):\n",
    "    if i%2 == 0:\n",
    "        ids.append(data.values[i][0])\n",
    "    else:\n",
    "        texts.append(data.values[i][0])\n",
    "        \n",
    "assert len(ids) == len(texts)\n",
    "\n",
    "data = pd.DataFrame()\n",
    "data['id'] = ids\n",
    "data['text'] = texts"
   ]
  },
  {
   "cell_type": "code",
   "execution_count": 17,
   "metadata": {},
   "outputs": [],
   "source": [
    "labels = pd.read_csv('../data/raw/StanceDetection_CodeMixed/Dataset/Notebandi_tweets_stance.txt',sep='\\t',\\\n",
    "                   dtype=str,header=None)\n",
    "\n",
    "ids = []\n",
    "label = []\n",
    "\n",
    "for i in range(labels.shape[0]):\n",
    "    if i%2 == 0:\n",
    "        ids.append(labels.values[i][0])\n",
    "    else:\n",
    "        label.append(labels.values[i][0])\n",
    "        \n",
    "assert len(ids) == len(label)\n",
    "\n",
    "labels = pd.DataFrame()\n",
    "labels['id'] = ids\n",
    "labels['label'] = label"
   ]
  },
  {
   "cell_type": "code",
   "execution_count": 18,
   "metadata": {},
   "outputs": [],
   "source": [
    "data = pd.merge(data,labels,how='inner')"
   ]
  },
  {
   "cell_type": "code",
   "execution_count": 19,
   "metadata": {},
   "outputs": [
    {
     "data": {
      "text/html": [
       "<div>\n",
       "<style scoped>\n",
       "    .dataframe tbody tr th:only-of-type {\n",
       "        vertical-align: middle;\n",
       "    }\n",
       "\n",
       "    .dataframe tbody tr th {\n",
       "        vertical-align: top;\n",
       "    }\n",
       "\n",
       "    .dataframe thead th {\n",
       "        text-align: right;\n",
       "    }\n",
       "</style>\n",
       "<table border=\"1\" class=\"dataframe\">\n",
       "  <thead>\n",
       "    <tr style=\"text-align: right;\">\n",
       "      <th></th>\n",
       "      <th>id</th>\n",
       "      <th>text</th>\n",
       "      <th>label</th>\n",
       "    </tr>\n",
       "  </thead>\n",
       "  <tbody>\n",
       "    <tr>\n",
       "      <th>0</th>\n",
       "      <td>796033860081426432</td>\n",
       "      <td>Kejri &amp; rahul : hum is nasbandi ke khilaf hain...</td>\n",
       "      <td>NONE</td>\n",
       "    </tr>\n",
       "    <tr>\n",
       "      <th>1</th>\n",
       "      <td>796754126671466496</td>\n",
       "      <td>@narendramodi sir, aaj kuchh garibo mazdooro k...</td>\n",
       "      <td>NONE</td>\n",
       "    </tr>\n",
       "    <tr>\n",
       "      <th>2</th>\n",
       "      <td>796755878682599424</td>\n",
       "      <td>#ByeByeBlackmoney. Notebandi, Ghoosbandi and N...</td>\n",
       "      <td>FAVOR</td>\n",
       "    </tr>\n",
       "    <tr>\n",
       "      <th>3</th>\n",
       "      <td>796892982360162304</td>\n",
       "      <td>Jaise notebandi nahi unki nasbandi kardi ho Mo...</td>\n",
       "      <td>NONE</td>\n",
       "    </tr>\n",
       "    <tr>\n",
       "      <th>4</th>\n",
       "      <td>796908665047379968</td>\n",
       "      <td>sir aap to against corruption ke biradri wale ...</td>\n",
       "      <td>FAVOR</td>\n",
       "    </tr>\n",
       "  </tbody>\n",
       "</table>\n",
       "</div>"
      ],
      "text/plain": [
       "                   id                                               text  \\\n",
       "0  796033860081426432  Kejri & rahul : hum is nasbandi ke khilaf hain...   \n",
       "1  796754126671466496  @narendramodi sir, aaj kuchh garibo mazdooro k...   \n",
       "2  796755878682599424  #ByeByeBlackmoney. Notebandi, Ghoosbandi and N...   \n",
       "3  796892982360162304  Jaise notebandi nahi unki nasbandi kardi ho Mo...   \n",
       "4  796908665047379968  sir aap to against corruption ke biradri wale ...   \n",
       "\n",
       "   label  \n",
       "0   NONE  \n",
       "1   NONE  \n",
       "2  FAVOR  \n",
       "3   NONE  \n",
       "4  FAVOR  "
      ]
     },
     "execution_count": 19,
     "metadata": {},
     "output_type": "execute_result"
    }
   ],
   "source": [
    "data.head()"
   ]
  },
  {
   "cell_type": "code",
   "execution_count": 20,
   "metadata": {},
   "outputs": [
    {
     "data": {
      "text/plain": [
       "(3545, 3)"
      ]
     },
     "execution_count": 20,
     "metadata": {},
     "output_type": "execute_result"
    }
   ],
   "source": [
    "data.shape"
   ]
  },
  {
   "cell_type": "code",
   "execution_count": 21,
   "metadata": {},
   "outputs": [],
   "source": [
    "try:\n",
    "    os.makedirs('../data/processed/StanceDetection_CodeMixed/')\n",
    "except:\n",
    "    pass"
   ]
  },
  {
   "cell_type": "code",
   "execution_count": 22,
   "metadata": {},
   "outputs": [],
   "source": [
    "data[['text','label']].to_csv(os.path.join('../data/processed/StanceDetection_CodeMixed/','data.txt'),\\\n",
    "                              header=None,sep='\\t',index=False)"
   ]
  },
  {
   "cell_type": "markdown",
   "metadata": {},
   "source": [
    "### Aggression dataset"
   ]
  },
  {
   "cell_type": "code",
   "execution_count": 23,
   "metadata": {},
   "outputs": [],
   "source": [
    "train_data = pd.DataFrame()\n",
    "for file in glob.glob('../data/raw/trac1-dataset/*/*_train.csv'):\n",
    "    df = pd.read_csv(file,header=None,quoting=csv.QUOTE_ALL)\n",
    "    df = df.dropna(axis=1,how='all')\n",
    "    df.columns = ['id','text','label']\n",
    "    train_data = pd.concat([train_data,df],axis=0)\n",
    "    \n",
    "#train_data.columns = ['id','text','label']"
   ]
  },
  {
   "cell_type": "code",
   "execution_count": 24,
   "metadata": {},
   "outputs": [
    {
     "data": {
      "text/html": [
       "<div>\n",
       "<style scoped>\n",
       "    .dataframe tbody tr th:only-of-type {\n",
       "        vertical-align: middle;\n",
       "    }\n",
       "\n",
       "    .dataframe tbody tr th {\n",
       "        vertical-align: top;\n",
       "    }\n",
       "\n",
       "    .dataframe thead th {\n",
       "        text-align: right;\n",
       "    }\n",
       "</style>\n",
       "<table border=\"1\" class=\"dataframe\">\n",
       "  <thead>\n",
       "    <tr style=\"text-align: right;\">\n",
       "      <th></th>\n",
       "      <th>id</th>\n",
       "      <th>text</th>\n",
       "      <th>label</th>\n",
       "    </tr>\n",
       "  </thead>\n",
       "  <tbody>\n",
       "    <tr>\n",
       "      <th>11994</th>\n",
       "      <td>facebook_corpus_msr_394638</td>\n",
       "      <td>They belong to you flight dirty terrorist coun...</td>\n",
       "      <td>OAG</td>\n",
       "    </tr>\n",
       "    <tr>\n",
       "      <th>11995</th>\n",
       "      <td>facebook_corpus_msr_429177</td>\n",
       "      <td>Really motivating programme, congratulations t...</td>\n",
       "      <td>NAG</td>\n",
       "    </tr>\n",
       "    <tr>\n",
       "      <th>11996</th>\n",
       "      <td>facebook_corpus_msr_2032370</td>\n",
       "      <td>fabricated news</td>\n",
       "      <td>OAG</td>\n",
       "    </tr>\n",
       "    <tr>\n",
       "      <th>11997</th>\n",
       "      <td>facebook_corpus_msr_1722926</td>\n",
       "      <td>What's wrong with you secular idiots</td>\n",
       "      <td>OAG</td>\n",
       "    </tr>\n",
       "    <tr>\n",
       "      <th>11998</th>\n",
       "      <td>facebook_corpus_msr_327960</td>\n",
       "      <td>Looks like inevitable after all political hard...</td>\n",
       "      <td>NAG</td>\n",
       "    </tr>\n",
       "  </tbody>\n",
       "</table>\n",
       "</div>"
      ],
      "text/plain": [
       "                                id  \\\n",
       "11994   facebook_corpus_msr_394638   \n",
       "11995   facebook_corpus_msr_429177   \n",
       "11996  facebook_corpus_msr_2032370   \n",
       "11997  facebook_corpus_msr_1722926   \n",
       "11998   facebook_corpus_msr_327960   \n",
       "\n",
       "                                                    text label  \n",
       "11994  They belong to you flight dirty terrorist coun...   OAG  \n",
       "11995  Really motivating programme, congratulations t...   NAG  \n",
       "11996                                    fabricated news   OAG  \n",
       "11997               What's wrong with you secular idiots   OAG  \n",
       "11998  Looks like inevitable after all political hard...   NAG  "
      ]
     },
     "execution_count": 24,
     "metadata": {},
     "output_type": "execute_result"
    }
   ],
   "source": [
    "train_data.tail()"
   ]
  },
  {
   "cell_type": "code",
   "execution_count": 25,
   "metadata": {},
   "outputs": [],
   "source": [
    "val_data = pd.DataFrame()\n",
    "for file in glob.glob('../data/raw/trac1-dataset/*/*_dev.csv'):\n",
    "    df = pd.read_csv(file,header=None,quoting=csv.QUOTE_ALL)\n",
    "    df = df.dropna(axis=1,how='all')\n",
    "    df.columns = ['id','text','label']\n",
    "    val_data = pd.concat([val_data,df],axis=0)\n",
    "    \n",
    "#val_data.columns = ['id','text','label']"
   ]
  },
  {
   "cell_type": "code",
   "execution_count": 26,
   "metadata": {},
   "outputs": [],
   "source": [
    "train_data = train_data.fillna('')\n",
    "val_data = val_data.fillna('')"
   ]
  },
  {
   "cell_type": "code",
   "execution_count": 27,
   "metadata": {},
   "outputs": [],
   "source": [
    "train_data = train_data[train_data.text != '']\n",
    "val_data = val_data[val_data.text != '']"
   ]
  },
  {
   "cell_type": "code",
   "execution_count": 28,
   "metadata": {},
   "outputs": [
    {
     "data": {
      "text/plain": [
       "((23998, 3), (6002, 3))"
      ]
     },
     "execution_count": 28,
     "metadata": {},
     "output_type": "execute_result"
    }
   ],
   "source": [
    "train_data.shape, val_data.shape"
   ]
  },
  {
   "cell_type": "code",
   "execution_count": 29,
   "metadata": {},
   "outputs": [],
   "source": [
    "try:\n",
    "    os.makedirs('../data/processed/Aggression_dataset/')\n",
    "except:\n",
    "    pass"
   ]
  },
  {
   "cell_type": "code",
   "execution_count": 30,
   "metadata": {},
   "outputs": [],
   "source": [
    "train_data[['text','label']].to_csv(os.path.join('../data/processed/Aggression_dataset/','train.txt'),\\\n",
    "                              header=None,sep='\\t',index=False)\n",
    "\n",
    "val_data[['text','label']].to_csv(os.path.join('../data/processed/Aggression_dataset/','val.txt'),\\\n",
    "                              header=None,sep='\\t',index=False)"
   ]
  },
  {
   "cell_type": "code",
   "execution_count": null,
   "metadata": {},
   "outputs": [],
   "source": []
  }
 ],
 "metadata": {
  "kernelspec": {
   "display_name": "Python 3",
   "language": "python",
   "name": "python3"
  },
  "language_info": {
   "codemirror_mode": {
    "name": "ipython",
    "version": 3
   },
   "file_extension": ".py",
   "mimetype": "text/x-python",
   "name": "python",
   "nbconvert_exporter": "python",
   "pygments_lexer": "ipython3",
   "version": "3.7.1"
  }
 },
 "nbformat": 4,
 "nbformat_minor": 4
}
