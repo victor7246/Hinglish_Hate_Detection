{
 "cells": [
  {
   "cell_type": "code",
   "execution_count": 1,
   "metadata": {
    "colab": {
     "base_uri": "https://localhost:8080/"
    },
    "id": "9kCb0aehNFZC",
    "outputId": "4817508c-8015-4dcd-eb2a-1992752ef7b5"
   },
   "outputs": [],
   "source": [
    "#from google.colab import files, drive\n",
    "#drive.mount('/content/drive')"
   ]
  },
  {
   "cell_type": "code",
   "execution_count": 2,
   "metadata": {
    "colab": {
     "base_uri": "https://localhost:8080/"
    },
    "id": "X0uJnM60PPXU",
    "outputId": "84bd0c72-a551-4967-c59f-f429b23c7a63"
   },
   "outputs": [],
   "source": [
    "#!pip install -r ./drive/MyDrive/Hate_detection/Hinglish_Hate_Detection/requirements.txt"
   ]
  },
  {
   "cell_type": "code",
   "execution_count": 3,
   "metadata": {
    "id": "KWAK8Y7Gk44m"
   },
   "outputs": [],
   "source": [
    "\n",
    "from __future__ import absolute_import\n",
    "\n",
    "import sys\n",
    "import os\n",
    "\n",
    "#sys.path.append('./drive/MyDrive/Hate_detection/Hinglish_Hate_Detection/')\n"
   ]
  },
  {
   "cell_type": "code",
   "execution_count": 4,
   "metadata": {
    "id": "Z1CqQIcXPSkD"
   },
   "outputs": [],
   "source": [
    "#!wandb login"
   ]
  },
  {
   "cell_type": "code",
   "execution_count": 5,
   "metadata": {
    "colab": {
     "base_uri": "https://localhost:8080/"
    },
    "id": "l-IqVp0DPLFa",
    "outputId": "9a10c797-ee62-4329-b315-d8f73bc1297f"
   },
   "outputs": [
    {
     "name": "stderr",
     "output_type": "stream",
     "text": [
      "\u001b[34m\u001b[1mwandb\u001b[0m: \u001b[33mWARNING\u001b[0m If you're specifying your api key in code, ensure this code is not shared publically.\n",
      "\u001b[34m\u001b[1mwandb\u001b[0m: \u001b[33mWARNING\u001b[0m Consider setting the WANDB_API_KEY environment variable, or running `wandb login` from the command line.\n",
      "\u001b[34m\u001b[1mwandb\u001b[0m: \u001b[33mWARNING\u001b[0m Calling wandb.login() without arguments from jupyter should prompt you for an api key.\n",
      "\u001b[34m\u001b[1mwandb\u001b[0m: Appending key for api.wandb.ai to your netrc file: /Users/victor/.netrc\n",
      "\u001b[34m\u001b[1mwandb\u001b[0m: \u001b[33mWARNING\u001b[0m Unable to patch tensorflow.keras for use with W&B.  You will not be able to log images unless you set the generator argument of the callback.\n",
      "/Users/victor/anaconda3/lib/python3.7/site-packages/ipykernel_launcher.py:54: FutureWarning: Passing a negative integer is deprecated in version 1.0 and will not be supported in future version. Instead, use None to not limit the column width.\n"
     ]
    }
   ],
   "source": [
    "from __future__ import absolute_import\n",
    "\n",
    "import sys\n",
    "import os\n",
    "\n",
    "import shutil\n",
    "\n",
    "try:\n",
    "    from dotenv import find_dotenv, load_dotenv\n",
    "except:\n",
    "    pass\n",
    "\n",
    "import argparse\n",
    "\n",
    "#try:\n",
    "#    sys.path.append(os.path.join(os.path.dirname(__file__), './drive/MyDrive/Hate_detection/Hinglish_Hate_Detection/'))\n",
    "#except:\n",
    "#    sys.path.append(os.path.join(os.getcwd(), './drive/MyDrive/Hate_detection/Hinglish_Hate_Detection/'))\n",
    "    \n",
    "try:\n",
    "    sys.path.append(os.path.join(os.path.dirname(__file__), '../'))\n",
    "except:\n",
    "    sys.path.append(os.path.join(os.getcwd(), '../'))\n",
    "    \n",
    "import pandas as pd\n",
    "import numpy as np\n",
    "\n",
    "import pickle\n",
    "from collections import Counter\n",
    "from tqdm import tqdm\n",
    "\n",
    "import tensorflow as tf\n",
    "import tensorflow.keras.backend as K\n",
    "#import tensorflow_addons as tfa\n",
    "\n",
    "try:\n",
    "    import wandb\n",
    "    load_dotenv(find_dotenv())\n",
    "    wandb.login(key=os.environ['WANDB_API_KEY'])\n",
    "    from wandb.keras import WandbCallback\n",
    "    _has_wandb = True\n",
    "except:\n",
    "    _has_wandb = False\n",
    "\n",
    "import tokenizers\n",
    "from transformers import TFAutoModel, AutoTokenizer, AutoConfig, BertTokenizer\n",
    "\n",
    "from sklearn.model_selection import train_test_split, KFold\n",
    "from sklearn.metrics import classification_report, f1_score, accuracy_score, confusion_matrix\n",
    "from sklearn.feature_extraction.text import TfidfVectorizer\n",
    "\n",
    "from src import data, models\n",
    "\n",
    "pd.options.display.max_colwidth = -1"
   ]
  },
  {
   "cell_type": "code",
   "execution_count": 6,
   "metadata": {
    "colab": {
     "base_uri": "https://localhost:8080/"
    },
    "id": "BWQ_RjDKPF_9",
    "outputId": "44f634c2-a847-4e60-d73a-25fce35c7512"
   },
   "outputs": [
    {
     "name": "stdout",
     "output_type": "stream",
     "text": [
      "True\n"
     ]
    }
   ],
   "source": [
    "print (_has_wandb)"
   ]
  },
  {
   "cell_type": "code",
   "execution_count": 7,
   "metadata": {
    "id": "jKb2wFKVNFZH"
   },
   "outputs": [],
   "source": [
    "parser = argparse.ArgumentParser(prog='Trainer',conflict_handler='resolve')\n",
    "\n",
    "#parser.add_argument('--train_data', type=str, default='./drive/MyDrive/Hate_detection/Hinglish_Hate_Detection/data/processed/Aggression_dataset/train.txt', required=False,\n",
    "#                    help='train data')\n",
    "\n",
    "parser.add_argument('--train_data', type=str, default='../data/processed/Aggression_dataset/train.txt', required=False,\n",
    "                    help='train data')\n",
    "\n",
    "#parser.add_argument('--val_data', type=str, default='./drive/MyDrive/Hate_detection/Hinglish_Hate_Detection/data/processed/Aggression_dataset/val.txt', required=False,\n",
    "#                    help='validation data')\n",
    "\n",
    "parser.add_argument('--val_data', type=str, default='../data/processed/Aggression_dataset/val.txt', required=False,\n",
    "                    help='validation data')\n",
    "\n",
    "parser.add_argument('--test_data', type=str, default=None, required=False,\n",
    "                    help='test data')\n",
    "\n",
    "parser.add_argument('--transformer_model_pretrained_path', type=str, default='bert-base-multilingual-cased', required=False,\n",
    "                    help='transformer model pretrained path or huggingface model name')\n",
    "parser.add_argument('--transformer_config_path', type=str, default='bert-base-multilingual-cased', required=False,\n",
    "                    help='transformer config file path or huggingface model name')\n",
    "parser.add_argument('--transformer_tokenizer_path', type=str, default='bert-base-multilingual-cased', required=False,\n",
    "                    help='transformer tokenizer file path or huggingface model name')\n",
    "\n",
    "parser.add_argument('--max_text_len', type=int, default=40, required=False,\n",
    "                    help='maximum length of text')\n",
    "parser.add_argument('--max_char_len', type=int, default=150, required=False,\n",
    "                    help='maximum length of text')\n",
    "parser.add_argument('--max_word_char_len', type=int, default=20, required=False,\n",
    "                    help='maximum length of text')\n",
    "\n",
    "parser.add_argument('--emb_dim', type=int, default=128, required=False,\n",
    "                    help='maximum length of text')\n",
    "parser.add_argument('--n_layers', type=int, default=2, required=False,\n",
    "                    help='maximum length of text')\n",
    "parser.add_argument('--n_units', type=int, default=128, required=False,\n",
    "                    help='maximum length of text')\n",
    "\n",
    "parser.add_argument('--epochs', type=int, default=500, required=False,\n",
    "                    help='number of epochs')\n",
    "parser.add_argument('--lr', type=float, default=.001, required=False,\n",
    "                    help='learning rate')\n",
    "parser.add_argument('--early_stopping_rounds', type=int, default=50, required=False,\n",
    "                    help='number of epochs for early stopping')\n",
    "parser.add_argument('--lr_schedule_round', type=int, default=30, required=False,\n",
    "                    help='number of epochs for learning rate scheduling')\n",
    "\n",
    "parser.add_argument('--train_batch_size', type=int, default=16, required=False,\n",
    "                    help='train batch size')\n",
    "parser.add_argument('--eval_batch_size', type=int, default=8, required=False,\n",
    "                    help='eval batch size')\n",
    "\n",
    "#parser.add_argument('--model_save_path', type=str, default='./drive/MyDrive/Hate_detection/Hinglish_Hate_Detection/models/model_aggression/', required=False,\n",
    "#                    help='seed')\n",
    "\n",
    "parser.add_argument('--model_save_path', type=str, default='../models/model_aggression/', required=False,\n",
    "                    help='seed')\n",
    "\n",
    "parser.add_argument('--wandb_logging', type=bool, default=True, required=False,\n",
    "                    help='wandb logging needed')\n",
    "\n",
    "parser.add_argument('--seed', type=int, default=42, required=False,\n",
    "                    help='seed')\n",
    "\n",
    "\n",
    "args, _ = parser.parse_known_args()"
   ]
  },
  {
   "cell_type": "code",
   "execution_count": 8,
   "metadata": {
    "id": "mjTSfc1xNFZJ"
   },
   "outputs": [],
   "source": [
    "tf.random.set_seed(args.seed)\n",
    "np.random.seed(args.seed)"
   ]
  },
  {
   "cell_type": "code",
   "execution_count": 9,
   "metadata": {
    "id": "4pBa4QUENFZN"
   },
   "outputs": [],
   "source": [
    "df = pd.read_csv(args.train_data, sep='\\t',header=None,usecols=[0,1])\n",
    "df = pd.concat([df,pd.read_csv(args.val_data, sep='\\t',header=None,usecols=[0,1])],axis=0)\n",
    "\n",
    "df.columns = ['text','category']\n",
    "df = df.dropna()\n",
    "df = df[df.text != '']\n",
    "\n",
    "kf = KFold(n_splits=5, shuffle=True, random_state=args.seed)\n",
    "for train_index, test_index in kf.split(df.text):\n",
    "    break\n",
    "\n",
    "train_df = df.iloc[train_index]\n",
    "kf2 = KFold(n_splits=2, shuffle=True, random_state=args.seed)\n",
    "for val_index, test_index in kf2.split(df.iloc[test_index].text):\n",
    "    break\n",
    "\n",
    "val_df = df.iloc[val_index]\n",
    "test_df = df.iloc[test_index]"
   ]
  },
  {
   "cell_type": "code",
   "execution_count": 10,
   "metadata": {
    "colab": {
     "base_uri": "https://localhost:8080/"
    },
    "id": "DrfukC0aNFZW",
    "outputId": "3a3f2c4a-ee11-4c06-8783-e085ebb06f39"
   },
   "outputs": [
    {
     "name": "stdout",
     "output_type": "stream",
     "text": [
      "(24000, 2) (3000, 2) (3000, 2)\n"
     ]
    }
   ],
   "source": [
    "print (train_df.shape, val_df.shape, test_df.shape)"
   ]
  },
  {
   "cell_type": "code",
   "execution_count": 11,
   "metadata": {
    "colab": {
     "base_uri": "https://localhost:8080/",
     "height": 204
    },
    "id": "GWR12E5dNFZZ",
    "outputId": "3e7c3d91-3460-41af-ba88-a1217b20896e"
   },
   "outputs": [
    {
     "data": {
      "text/html": [
       "<div>\n",
       "<style scoped>\n",
       "    .dataframe tbody tr th:only-of-type {\n",
       "        vertical-align: middle;\n",
       "    }\n",
       "\n",
       "    .dataframe tbody tr th {\n",
       "        vertical-align: top;\n",
       "    }\n",
       "\n",
       "    .dataframe thead th {\n",
       "        text-align: right;\n",
       "    }\n",
       "</style>\n",
       "<table border=\"1\" class=\"dataframe\">\n",
       "  <thead>\n",
       "    <tr style=\"text-align: right;\">\n",
       "      <th></th>\n",
       "      <th>text</th>\n",
       "      <th>category</th>\n",
       "    </tr>\n",
       "  </thead>\n",
       "  <tbody>\n",
       "    <tr>\n",
       "      <th>0</th>\n",
       "      <td>Mahmood Ghaznavi Aor ABdali ko bhol gaya ha tu 😂 1 hazar saal tjhy ghulam bana kr rkha tha bhol gaya tu</td>\n",
       "      <td>OAG</td>\n",
       "    </tr>\n",
       "    <tr>\n",
       "      <th>1</th>\n",
       "      <td>Bhai 60sal pehle desh me kya tha pehle pta kro desh waise ka waise kaise hai</td>\n",
       "      <td>CAG</td>\n",
       "    </tr>\n",
       "    <tr>\n",
       "      <th>2</th>\n",
       "      <td>chutiya friday ko isliye releae krte kyoki week end ke 3 din milte h to log free hokr film dekh sake..!! hd h yrr chutiyapa ki</td>\n",
       "      <td>CAG</td>\n",
       "    </tr>\n",
       "    <tr>\n",
       "      <th>3</th>\n",
       "      <td>जय मोदीराज</td>\n",
       "      <td>CAG</td>\n",
       "    </tr>\n",
       "    <tr>\n",
       "      <th>4</th>\n",
       "      <td>UPA walo ne bahot kuch kr diya tha desh k liye</td>\n",
       "      <td>CAG</td>\n",
       "    </tr>\n",
       "  </tbody>\n",
       "</table>\n",
       "</div>"
      ],
      "text/plain": [
       "                                                                                                                             text  \\\n",
       "0  Mahmood Ghaznavi Aor ABdali ko bhol gaya ha tu 😂 1 hazar saal tjhy ghulam bana kr rkha tha bhol gaya tu                          \n",
       "1  Bhai 60sal pehle desh me kya tha pehle pta kro desh waise ka waise kaise hai                                                     \n",
       "2  chutiya friday ko isliye releae krte kyoki week end ke 3 din milte h to log free hokr film dekh sake..!! hd h yrr chutiyapa ki   \n",
       "3  जय मोदीराज                                                                                                                       \n",
       "4  UPA walo ne bahot kuch kr diya tha desh k liye                                                                                   \n",
       "\n",
       "  category  \n",
       "0  OAG      \n",
       "1  CAG      \n",
       "2  CAG      \n",
       "3  CAG      \n",
       "4  CAG      "
      ]
     },
     "execution_count": 11,
     "metadata": {},
     "output_type": "execute_result"
    }
   ],
   "source": [
    "train_df.head(5)"
   ]
  },
  {
   "cell_type": "code",
   "execution_count": 12,
   "metadata": {
    "colab": {
     "base_uri": "https://localhost:8080/"
    },
    "id": "_JFvdZlgPF_9",
    "outputId": "ebd39a9f-4f0f-4518-a89f-f511b14e7083"
   },
   "outputs": [
    {
     "name": "stderr",
     "output_type": "stream",
     "text": [
      "/Users/victor/.local/lib/python3.7/site-packages/pandas/core/generic.py:5165: SettingWithCopyWarning: \n",
      "A value is trying to be set on a copy of a slice from a DataFrame.\n",
      "Try using .loc[row_indexer,col_indexer] = value instead\n",
      "\n",
      "See the caveats in the documentation: https://pandas.pydata.org/pandas-docs/stable/user_guide/indexing.html#returning-a-view-versus-a-copy\n",
      "  self[name] = value\n"
     ]
    }
   ],
   "source": [
    "train_df.text = train_df.text.apply(lambda x: data.preprocessing.clean_tweets(x))\n",
    "val_df.text = val_df.text.apply(lambda x: data.preprocessing.clean_tweets(x))\n",
    "test_df.text = test_df.text.apply(lambda x: data.preprocessing.clean_tweets(x))"
   ]
  },
  {
   "cell_type": "code",
   "execution_count": 13,
   "metadata": {
    "id": "76PsUvCk3rUZ"
   },
   "outputs": [],
   "source": [
    "train_df = train_df[train_df.text != '']\n",
    "val_df = val_df[val_df.text != '']\n",
    "test_df = test_df[test_df.text != '']\n"
   ]
  },
  {
   "cell_type": "code",
   "execution_count": 14,
   "metadata": {
    "colab": {
     "base_uri": "https://localhost:8080/"
    },
    "id": "ecLj6RWuVfdt",
    "outputId": "dc358004-4ea6-4416-bf1e-151735c7168d"
   },
   "outputs": [
    {
     "data": {
      "text/plain": [
       "count    23990.000000\n",
       "mean     138.215173  \n",
       "std      214.648051  \n",
       "min      1.000000    \n",
       "25%      55.000000   \n",
       "50%      85.000000   \n",
       "75%      146.000000  \n",
       "max      6867.000000 \n",
       "Name: text, dtype: float64"
      ]
     },
     "execution_count": 14,
     "metadata": {},
     "output_type": "execute_result"
    }
   ],
   "source": [
    "train_df.text.apply(lambda x: len(x)).describe()"
   ]
  },
  {
   "cell_type": "code",
   "execution_count": 15,
   "metadata": {
    "colab": {
     "base_uri": "https://localhost:8080/"
    },
    "id": "6oAyiM1jPF_9",
    "outputId": "45543d78-b953-4669-e083-01fdbdd1f14f"
   },
   "outputs": [
    {
     "data": {
      "text/plain": [
       "count    23990.000000\n",
       "mean     25.902709   \n",
       "std      39.589614   \n",
       "min      1.000000    \n",
       "25%      11.000000   \n",
       "50%      16.000000   \n",
       "75%      27.000000   \n",
       "max      1124.000000 \n",
       "Name: text, dtype: float64"
      ]
     },
     "execution_count": 15,
     "metadata": {},
     "output_type": "execute_result"
    }
   ],
   "source": [
    "train_df.text.apply(lambda x: len(x.split())).describe()"
   ]
  },
  {
   "cell_type": "code",
   "execution_count": 16,
   "metadata": {
    "id": "V7YDv6wZNFZc"
   },
   "outputs": [],
   "source": [
    "model_save_dir = args.model_save_path\n",
    "\n",
    "try:\n",
    "    os.makedirs(model_save_dir)\n",
    "except OSError:\n",
    "    pass"
   ]
  },
  {
   "cell_type": "code",
   "execution_count": 17,
   "metadata": {
    "colab": {
     "base_uri": "https://localhost:8080/"
    },
    "id": "T5_NT3X9cuiO",
    "outputId": "df32b083-8269-458a-e415-c80831251168"
   },
   "outputs": [
    {
     "data": {
      "text/plain": [
       "CAG    9141\n",
       "OAG    7563\n",
       "NAG    7286\n",
       "Name: category, dtype: int64"
      ]
     },
     "execution_count": 17,
     "metadata": {},
     "output_type": "execute_result"
    }
   ],
   "source": [
    "train_df.category.value_counts()"
   ]
  },
  {
   "cell_type": "code",
   "execution_count": 18,
   "metadata": {
    "colab": {
     "base_uri": "https://localhost:8080/",
     "height": 35
    },
    "id": "SQFNK1zLdyT7",
    "outputId": "77914a97-044d-4744-89a1-1c110d20a330"
   },
   "outputs": [
    {
     "data": {
      "text/plain": [
       "'../models/model_aggression/'"
      ]
     },
     "execution_count": 18,
     "metadata": {},
     "output_type": "execute_result"
    }
   ],
   "source": [
    "model_save_dir"
   ]
  },
  {
   "cell_type": "code",
   "execution_count": 19,
   "metadata": {
    "id": "ch7LVidpBNtE"
   },
   "outputs": [],
   "source": [
    "train_df.category, label2idx = data.data_utils.convert_categorical_label_to_int(train_df.category.values, \\\n",
    "                                                         save_path=os.path.join(model_save_dir,'label2idx.pkl'))\n",
    "\n",
    "val_df.category, _ = data.data_utils.convert_categorical_label_to_int(val_df.category.values, \\\n",
    "                                                         save_path=os.path.join(model_save_dir,'label2idx.pkl'))\n",
    "\n",
    "test_df.category, _ = data.data_utils.convert_categorical_label_to_int(test_df.category.values, \\\n",
    "                                                         save_path=os.path.join(model_save_dir,'label2idx.pkl'))"
   ]
  },
  {
   "cell_type": "code",
   "execution_count": 20,
   "metadata": {
    "colab": {
     "base_uri": "https://localhost:8080/",
     "height": 204
    },
    "id": "1o2K5yrlNFZv",
    "outputId": "049df8af-a5b6-489c-f09c-8920d9742958"
   },
   "outputs": [
    {
     "data": {
      "text/html": [
       "<div>\n",
       "<style scoped>\n",
       "    .dataframe tbody tr th:only-of-type {\n",
       "        vertical-align: middle;\n",
       "    }\n",
       "\n",
       "    .dataframe tbody tr th {\n",
       "        vertical-align: top;\n",
       "    }\n",
       "\n",
       "    .dataframe thead th {\n",
       "        text-align: right;\n",
       "    }\n",
       "</style>\n",
       "<table border=\"1\" class=\"dataframe\">\n",
       "  <thead>\n",
       "    <tr style=\"text-align: right;\">\n",
       "      <th></th>\n",
       "      <th>text</th>\n",
       "      <th>category</th>\n",
       "    </tr>\n",
       "  </thead>\n",
       "  <tbody>\n",
       "    <tr>\n",
       "      <th>0</th>\n",
       "      <td>mahmood ghaznavi aor abdali ko bhol gaya ha tu 😂  hazar saal tjhy ghulam bana kr rkha tha bhol gaya tu</td>\n",
       "      <td>1</td>\n",
       "    </tr>\n",
       "    <tr>\n",
       "      <th>1</th>\n",
       "      <td>bhai sal pehle desh me kya tha pehle pta kro desh waise ka waise kaise hai</td>\n",
       "      <td>0</td>\n",
       "    </tr>\n",
       "    <tr>\n",
       "      <th>2</th>\n",
       "      <td>chutiya friday ko isliye releae krte kyoki week end ke  din milte h to log free hokr film dekh sake..!! hd h yrr chutiyapa ki</td>\n",
       "      <td>0</td>\n",
       "    </tr>\n",
       "    <tr>\n",
       "      <th>3</th>\n",
       "      <td>जय मोदीराज</td>\n",
       "      <td>0</td>\n",
       "    </tr>\n",
       "    <tr>\n",
       "      <th>4</th>\n",
       "      <td>upa walo ne bahot kuch kr diya tha desh k liye</td>\n",
       "      <td>0</td>\n",
       "    </tr>\n",
       "  </tbody>\n",
       "</table>\n",
       "</div>"
      ],
      "text/plain": [
       "                                                                                                                            text  \\\n",
       "0  mahmood ghaznavi aor abdali ko bhol gaya ha tu 😂  hazar saal tjhy ghulam bana kr rkha tha bhol gaya tu                          \n",
       "1  bhai sal pehle desh me kya tha pehle pta kro desh waise ka waise kaise hai                                                      \n",
       "2  chutiya friday ko isliye releae krte kyoki week end ke  din milte h to log free hokr film dekh sake..!! hd h yrr chutiyapa ki   \n",
       "3  जय मोदीराज                                                                                                                      \n",
       "4  upa walo ne bahot kuch kr diya tha desh k liye                                                                                  \n",
       "\n",
       "   category  \n",
       "0  1         \n",
       "1  0         \n",
       "2  0         \n",
       "3  0         \n",
       "4  0         "
      ]
     },
     "execution_count": 20,
     "metadata": {},
     "output_type": "execute_result"
    }
   ],
   "source": [
    "train_df.head(5)"
   ]
  },
  {
   "cell_type": "code",
   "execution_count": 21,
   "metadata": {
    "colab": {
     "base_uri": "https://localhost:8080/"
    },
    "id": "gBiGShWtBRKW",
    "outputId": "93083ed4-748b-4ee3-9d53-7d36cf0564e2"
   },
   "outputs": [
    {
     "name": "stdout",
     "output_type": "stream",
     "text": [
      "{'CAG': 0, 'OAG': 1, 'NAG': 2}\n"
     ]
    }
   ],
   "source": [
    "print (label2idx)"
   ]
  },
  {
   "cell_type": "code",
   "execution_count": 22,
   "metadata": {
    "id": "8DPcQeSiBSaV"
   },
   "outputs": [],
   "source": [
    "idx2label = {i:w for (w,i) in label2idx.items()}"
   ]
  },
  {
   "cell_type": "markdown",
   "metadata": {
    "id": "isoI88xCPF_-"
   },
   "source": [
    "### Learn tokenizer"
   ]
  },
  {
   "cell_type": "code",
   "execution_count": 23,
   "metadata": {
    "colab": {
     "base_uri": "https://localhost:8080/",
     "referenced_widgets": [
      "95535b3222fe43ceb4caec80ef6a3602",
      "3dcb64b96cb34d3e95b8a1c4c9b26fa0",
      "4d1c6319e79a44f5b3d6e2d6baa53466",
      "3cd0a944efe94753b67118d1a89967d0",
      "729a9170a5af4d7886650887cb81e6bd",
      "3f1682bf08b14d53b55d793c4a074dac",
      "0647e36f289444f6917132fe8338eabe",
      "7854e9d2796c4ca6b5d2297d5505162b",
      "4f55adaac8dc4efc91b9289185c05a20",
      "2dd435234dc64b71a3dda0366e32e129",
      "6a75a33311b6469ca34a27a89d3fbaa6",
      "1a7790b684d74e279bc46965ae9e909d",
      "1ce18025aeb2496798d85200067e57f5",
      "b5d39339b08a49448602362bec19901c",
      "a6b481ec773a4a65bb9183656c2c0c3d",
      "61172699f1bb40119f3d1214c34e08e2"
     ]
    },
    "id": "t4zgghyWPF_-",
    "outputId": "94aa3089-5502-4931-b8df-cb5617f26092"
   },
   "outputs": [],
   "source": [
    "#data.custom_tokenizers.custom_wp_tokenizer(train_df.text.values, args.model_save_path, args.model_save_path)\n",
    "tokenizer = BertTokenizer.from_pretrained(args.model_save_path)\n",
    "#tokenizer = AutoTokenizer.from_pretrained(args.transformer_tokenizer_path)"
   ]
  },
  {
   "cell_type": "code",
   "execution_count": 24,
   "metadata": {
    "id": "nBWTdHbAPF_-"
   },
   "outputs": [],
   "source": [
    "word_tokenizer = tf.keras.preprocessing.text.Tokenizer(num_words=50000, split=' ',oov_token=1)\n",
    "char_tokenizer = tf.keras.preprocessing.text.Tokenizer(char_level=True, split='',oov_token=1)\n",
    "\n",
    "word_tokenizer.fit_on_texts(train_df.text.values)\n",
    "char_tokenizer.fit_on_texts(train_df.text.values)"
   ]
  },
  {
   "cell_type": "code",
   "execution_count": 25,
   "metadata": {
    "colab": {
     "base_uri": "https://localhost:8080/"
    },
    "id": "GioC_GWuNFZ9",
    "outputId": "b8947e0d-1aa6-4ba2-acf8-9b96ea30d856"
   },
   "outputs": [
    {
     "name": "stderr",
     "output_type": "stream",
     "text": [
      "100%|██████████| 23990/23990 [00:13<00:00, 1757.04it/s]\n",
      "100%|██████████| 23990/23990 [00:20<00:00, 1164.46it/s]\n",
      "100%|██████████| 3000/3000 [00:01<00:00, 1888.59it/s]\n",
      "100%|██████████| 3000/3000 [00:02<00:00, 1118.14it/s]\n",
      "100%|██████████| 3000/3000 [00:01<00:00, 1793.32it/s]\n",
      "100%|██████████| 3000/3000 [00:02<00:00, 1101.71it/s]\n"
     ]
    },
    {
     "name": "stdout",
     "output_type": "stream",
     "text": [
      "(23990, 150) (23990, 40, 20) (23990, 40) (23990, 150) (23990, 3)\n",
      "(3000, 150) (3000, 40, 20) (3000, 40) (3000, 150) (3000, 3)\n",
      "(3000, 150) (3000, 40, 20) (3000, 40) (3000, 150) (3000, 3)\n"
     ]
    }
   ],
   "source": [
    "transformer_train_inputs, _, _ = data.data_utils.compute_transformer_input_arrays(train_df, 'text', tokenizer, args.max_char_len)\n",
    "\n",
    "word_train_inputs = word_tokenizer.texts_to_sequences(train_df.text.values)\n",
    "word_train_inputs = tf.keras.preprocessing.sequence.pad_sequences(word_train_inputs, maxlen=args.max_text_len)\n",
    "\n",
    "subword_train_inputs = np.asarray([data.data_utils.subword_tokenization(text, char_tokenizer, args.max_text_len, args.max_word_char_len) \\\n",
    "                        for text in tqdm(train_df.text.values)])\n",
    "\n",
    "char_train_inputs = char_tokenizer.texts_to_sequences(train_df.text.values)\n",
    "char_train_inputs = tf.keras.preprocessing.sequence.pad_sequences(char_train_inputs, maxlen=args.max_char_len)\n",
    "\n",
    "train_outputs = data.data_utils.compute_output_arrays(train_df, 'category')\n",
    "\n",
    "transformer_val_inputs, _, _ = data.data_utils.compute_transformer_input_arrays(val_df, 'text', tokenizer, args.max_char_len)\n",
    "\n",
    "word_val_inputs = word_tokenizer.texts_to_sequences(val_df.text.values)\n",
    "word_val_inputs = tf.keras.preprocessing.sequence.pad_sequences(word_val_inputs, maxlen=args.max_text_len)\n",
    "\n",
    "subword_val_inputs = np.asarray([data.data_utils.subword_tokenization(text, char_tokenizer, args.max_text_len, args.max_word_char_len) \\\n",
    "                        for text in tqdm(val_df.text.values)])\n",
    "\n",
    "char_val_inputs = char_tokenizer.texts_to_sequences(val_df.text.values)\n",
    "char_val_inputs = tf.keras.preprocessing.sequence.pad_sequences(char_val_inputs, maxlen=args.max_char_len)\n",
    "\n",
    "val_outputs = data.data_utils.compute_output_arrays(val_df, 'category')\n",
    "\n",
    "transformer_test_inputs, _, _ = data.data_utils.compute_transformer_input_arrays(test_df, 'text', tokenizer, args.max_char_len)\n",
    "\n",
    "word_test_inputs = word_tokenizer.texts_to_sequences(test_df.text.values)\n",
    "word_test_inputs = tf.keras.preprocessing.sequence.pad_sequences(word_test_inputs, maxlen=args.max_text_len)\n",
    "\n",
    "subword_test_inputs = np.asarray([data.data_utils.subword_tokenization(text, char_tokenizer, args.max_text_len, args.max_word_char_len) \\\n",
    "                        for text in tqdm(test_df.text.values)])\n",
    "\n",
    "char_test_inputs = char_tokenizer.texts_to_sequences(test_df.text.values)\n",
    "char_test_inputs = tf.keras.preprocessing.sequence.pad_sequences(char_test_inputs, maxlen=args.max_char_len)\n",
    "\n",
    "test_outputs = data.data_utils.compute_output_arrays(test_df, 'category')\n",
    "\n",
    "train_outputs = tf.keras.utils.to_categorical(train_outputs, \\\n",
    "                                                    num_classes=train_df.category.nunique())\n",
    "val_outputs = tf.keras.utils.to_categorical(val_outputs, \\\n",
    "                                                    num_classes=train_df.category.nunique())\n",
    "test_outputs = tf.keras.utils.to_categorical(test_outputs, \\\n",
    "                                                    num_classes=train_df.category.nunique())\n",
    "\n",
    "#tfidf1 = TfidfVectorizer(stop_words='english',ngram_range=(1,3), max_df=.6,min_df=2, max_features=10000)\n",
    "#tfidf2 = TfidfVectorizer(analyzer='char_wb',ngram_range=(1,3), max_df=.6,min_df=2, max_features=10000)\n",
    "\n",
    "#tfidf1.fit(train_df.text)\n",
    "#tfidf2.fit(train_df.text)\n",
    "\n",
    "#train_tfidf = np.hstack([tfidf1.transform(train_df.text).toarray(),tfidf2.transform(train_df.text).toarray()])\n",
    "#val_tfidf = np.hstack([tfidf1.transform(val_df.text).toarray(),tfidf2.transform(val_df.text).toarray()])\n",
    "#test_tfidf = np.hstack([tfidf1.transform(test_df.text).toarray(),tfidf2.transform(test_df.text).toarray()])\n",
    "\n",
    "\n",
    "print (transformer_train_inputs.shape, subword_train_inputs.shape, word_train_inputs.shape, char_train_inputs.shape, \\\n",
    "       train_outputs.shape)\n",
    "print (transformer_val_inputs.shape, subword_val_inputs.shape, word_val_inputs.shape, char_val_inputs.shape, \\\n",
    "       val_outputs.shape)\n",
    "print (transformer_test_inputs.shape, subword_test_inputs.shape, word_test_inputs.shape, char_test_inputs.shape, \\\n",
    "       test_outputs.shape)\n"
   ]
  },
  {
   "cell_type": "markdown",
   "metadata": {
    "id": "5gSp7NirPF_-"
   },
   "source": [
    "### Modeling"
   ]
  },
  {
   "cell_type": "code",
   "execution_count": 26,
   "metadata": {
    "id": "O8cHPep9PF_-"
   },
   "outputs": [],
   "source": [
    "n_words = len(word_tokenizer.word_index)+1\n",
    "n_chars = len(char_tokenizer.word_index)+1\n",
    "n_subwords = tokenizer.vocab_size\n",
    "tfidf_shape = None #train_tfidf.shape[1]\n",
    "n_out = train_df.category.nunique()"
   ]
  },
  {
   "cell_type": "code",
   "execution_count": 29,
   "metadata": {},
   "outputs": [
    {
     "name": "stdout",
     "output_type": "stream",
     "text": [
      "Model: \"model_7\"\n",
      "__________________________________________________________________________________________________\n",
      "Layer (type)                    Output Shape         Param #     Connected to                     \n",
      "==================================================================================================\n",
      "input_26 (InputLayer)           [(None, 40)]         0                                            \n",
      "__________________________________________________________________________________________________\n",
      "embedding_9 (Embedding)         (None, 40, 128)      6990080     input_26[0][0]                   \n",
      "__________________________________________________________________________________________________\n",
      "bidirectional_10 (Bidirectional (None, 40, 256)      263168      embedding_9[0][0]                \n",
      "__________________________________________________________________________________________________\n",
      "bidirectional_11 (Bidirectional (None, 256)          394240      bidirectional_10[0][0]           \n",
      "__________________________________________________________________________________________________\n",
      "dense_38 (Dense)                (None, 128)          32896       bidirectional_11[0][0]           \n",
      "__________________________________________________________________________________________________\n",
      "dropout_52 (Dropout)            (None, 128)          0           dense_38[0][0]                   \n",
      "__________________________________________________________________________________________________\n",
      "input_27 (InputLayer)           [(None, 150)]        0                                            \n",
      "__________________________________________________________________________________________________\n",
      "input_28 (InputLayer)           [(None, 40, 20)]     0                                            \n",
      "__________________________________________________________________________________________________\n",
      "input_29 (InputLayer)           [(None, 150)]        0                                            \n",
      "__________________________________________________________________________________________________\n",
      "dense_39 (Dense)                (None, 3)            387         dropout_52[0][0]                 \n",
      "==================================================================================================\n",
      "Total params: 7,680,771\n",
      "Trainable params: 7,680,771\n",
      "Non-trainable params: 0\n",
      "__________________________________________________________________________________________________\n",
      "WLSTM None\n",
      "Model: \"model_9\"\n",
      "__________________________________________________________________________________________________\n",
      "Layer (type)                    Output Shape         Param #     Connected to                     \n",
      "==================================================================================================\n",
      "input_33 (InputLayer)           [(None, 40, 20)]     0                                            \n",
      "__________________________________________________________________________________________________\n",
      "time_distributed_9 (TimeDistrib (None, 40, 128)      800000      input_33[0][0]                   \n",
      "__________________________________________________________________________________________________\n",
      "bidirectional_14 (Bidirectional (None, 40, 256)      263168      time_distributed_9[0][0]         \n",
      "__________________________________________________________________________________________________\n",
      "bidirectional_15 (Bidirectional (None, 40, 256)      394240      bidirectional_14[0][0]           \n",
      "__________________________________________________________________________________________________\n",
      "time_distributed_10 (TimeDistri (None, 40, 128)      32896       bidirectional_15[0][0]           \n",
      "__________________________________________________________________________________________________\n",
      "word_attention (AttentionWithCo (None, 128)          16640       time_distributed_10[0][0]        \n",
      "__________________________________________________________________________________________________\n",
      "dense_42 (Dense)                (None, 128)          16512       word_attention[0][0]             \n",
      "__________________________________________________________________________________________________\n",
      "dropout_53 (Dropout)            (None, 128)          0           dense_42[0][0]                   \n",
      "__________________________________________________________________________________________________\n",
      "input_31 (InputLayer)           [(None, 40)]         0                                            \n",
      "__________________________________________________________________________________________________\n",
      "input_32 (InputLayer)           [(None, 150)]        0                                            \n",
      "__________________________________________________________________________________________________\n",
      "input_34 (InputLayer)           [(None, 150)]        0                                            \n",
      "__________________________________________________________________________________________________\n",
      "dense_43 (Dense)                (None, 3)            387         dropout_53[0][0]                 \n",
      "==================================================================================================\n",
      "Total params: 1,523,843\n",
      "Trainable params: 1,523,843\n",
      "Non-trainable params: 0\n",
      "__________________________________________________________________________________________________\n",
      "HAN None\n",
      "Model: \"model_10\"\n",
      "__________________________________________________________________________________________________\n",
      "Layer (type)                    Output Shape         Param #     Connected to                     \n",
      "==================================================================================================\n",
      "input_37 (InputLayer)           [(None, 40, 20)]     0                                            \n",
      "__________________________________________________________________________________________________\n",
      "embedding_11 (Embedding)        (None, 40, 20, 128)  93056       input_37[0][0]                   \n",
      "__________________________________________________________________________________________________\n",
      "time_distributed_11 (TimeDistri (None, 40, 20, 128)  32896       embedding_11[0][0]               \n",
      "__________________________________________________________________________________________________\n",
      "position_embedding_2 (PositionE (None, 128)          2560        input_37[0][0]                   \n",
      "__________________________________________________________________________________________________\n",
      "time_distributed_13 (TimeDistri (None, 40, 20, 128)  49280       embedding_11[0][0]               \n",
      "__________________________________________________________________________________________________\n",
      "position_embedding_3 (PositionE (None, 128)          2560        input_37[0][0]                   \n",
      "__________________________________________________________________________________________________\n",
      "tf.__operators__.add_3 (TFOpLam (None, 40, 20, 128)  0           time_distributed_11[0][0]        \n",
      "                                                                 position_embedding_2[0][0]       \n",
      "__________________________________________________________________________________________________\n",
      "tf.__operators__.add_4 (TFOpLam (None, 40, 20, 128)  0           time_distributed_13[0][0]        \n",
      "                                                                 position_embedding_3[0][0]       \n",
      "__________________________________________________________________________________________________\n",
      "concatenate_4 (Concatenate)     (None, 40, 20, 256)  0           time_distributed_11[0][0]        \n",
      "                                                                 tf.__operators__.add_3[0][0]     \n",
      "__________________________________________________________________________________________________\n",
      "concatenate_5 (Concatenate)     (None, 40, 20, 256)  0           time_distributed_13[0][0]        \n",
      "                                                                 tf.__operators__.add_4[0][0]     \n",
      "__________________________________________________________________________________________________\n",
      "time_distributed_12 (TimeDistri (None, 40, 20, 256)  263168      concatenate_4[0][0]              \n",
      "__________________________________________________________________________________________________\n",
      "time_distributed_14 (TimeDistri (None, 40, 20, 256)  263168      concatenate_5[0][0]              \n",
      "__________________________________________________________________________________________________\n",
      "concatenate_6 (Concatenate)     (None, 40, 20, 512)  0           time_distributed_12[0][0]        \n",
      "                                                                 time_distributed_14[0][0]        \n",
      "__________________________________________________________________________________________________\n",
      "time_distributed_15 (TimeDistri (None, 40, 512)      263168      concatenate_6[0][0]              \n",
      "__________________________________________________________________________________________________\n",
      "input_35 (InputLayer)           [(None, 40)]         0                                            \n",
      "__________________________________________________________________________________________________\n",
      "dense_52 (Dense)                (None, 40, 128)      65664       time_distributed_15[0][0]        \n",
      "__________________________________________________________________________________________________\n",
      "embedding_14 (Embedding)        (None, 40, 128)      6990080     input_35[0][0]                   \n",
      "__________________________________________________________________________________________________\n",
      "tf.__operators__.add_5 (TFOpLam (None, 40, 128)      0           dense_52[0][0]                   \n",
      "                                                                 embedding_14[0][0]               \n",
      "__________________________________________________________________________________________________\n",
      "bidirectional_16 (Bidirectional (None, 40, 256)      263168      tf.__operators__.add_5[0][0]     \n",
      "__________________________________________________________________________________________________\n",
      "bidirectional_17 (Bidirectional (None, 256)          394240      bidirectional_16[0][0]           \n",
      "__________________________________________________________________________________________________\n",
      "dense_53 (Dense)                (None, 128)          32896       bidirectional_17[0][0]           \n",
      "__________________________________________________________________________________________________\n",
      "dropout_54 (Dropout)            (None, 128)          0           dense_53[0][0]                   \n",
      "__________________________________________________________________________________________________\n",
      "input_36 (InputLayer)           [(None, 150)]        0                                            \n",
      "__________________________________________________________________________________________________\n",
      "input_38 (InputLayer)           [(None, 150)]        0                                            \n",
      "__________________________________________________________________________________________________\n",
      "dense_54 (Dense)                (None, 3)            387         dropout_54[0][0]                 \n",
      "==================================================================================================\n",
      "Total params: 8,716,291\n",
      "Trainable params: 8,716,291\n",
      "Non-trainable params: 0\n",
      "__________________________________________________________________________________________________\n",
      "CS_ELMO None\n"
     ]
    },
    {
     "name": "stdout",
     "output_type": "stream",
     "text": [
      "Model: \"model_11\"\n",
      "__________________________________________________________________________________________________\n",
      "Layer (type)                    Output Shape         Param #     Connected to                     \n",
      "==================================================================================================\n",
      "input_40 (InputLayer)           [(None, 150)]        0                                            \n",
      "__________________________________________________________________________________________________\n",
      "embedding_15 (Embedding)        (None, 150, 128)     93056       input_40[0][0]                   \n",
      "__________________________________________________________________________________________________\n",
      "conv1d_5 (Conv1D)               (None, 148, 128)     49280       embedding_15[0][0]               \n",
      "__________________________________________________________________________________________________\n",
      "max_pooling1d_1 (MaxPooling1D)  (None, 49, 128)      0           conv1d_5[0][0]                   \n",
      "__________________________________________________________________________________________________\n",
      "bidirectional_18 (Bidirectional (None, 49, 256)      263168      max_pooling1d_1[0][0]            \n",
      "__________________________________________________________________________________________________\n",
      "bidirectional_19 (Bidirectional (None, 256)          394240      bidirectional_18[0][0]           \n",
      "__________________________________________________________________________________________________\n",
      "attention (AttentionWithContext (None, 256)          66048       bidirectional_18[0][0]           \n",
      "__________________________________________________________________________________________________\n",
      "concatenate_7 (Concatenate)     (None, 512)          0           bidirectional_19[0][0]           \n",
      "                                                                 attention[0][0]                  \n",
      "__________________________________________________________________________________________________\n",
      "dense_55 (Dense)                (None, 128)          65664       concatenate_7[0][0]              \n",
      "__________________________________________________________________________________________________\n",
      "dropout_55 (Dropout)            (None, 128)          0           dense_55[0][0]                   \n",
      "__________________________________________________________________________________________________\n",
      "dense_56 (Dense)                (None, 64)           8256        dropout_55[0][0]                 \n",
      "__________________________________________________________________________________________________\n",
      "dropout_56 (Dropout)            (None, 64)           0           dense_56[0][0]                   \n",
      "__________________________________________________________________________________________________\n",
      "dense_57 (Dense)                (None, 32)           2080        dropout_56[0][0]                 \n",
      "__________________________________________________________________________________________________\n",
      "dropout_57 (Dropout)            (None, 32)           0           dense_57[0][0]                   \n",
      "__________________________________________________________________________________________________\n",
      "dense_58 (Dense)                (None, 16)           528         dropout_57[0][0]                 \n",
      "__________________________________________________________________________________________________\n",
      "dropout_58 (Dropout)            (None, 16)           0           dense_58[0][0]                   \n",
      "__________________________________________________________________________________________________\n",
      "input_39 (InputLayer)           [(None, 40)]         0                                            \n",
      "__________________________________________________________________________________________________\n",
      "input_41 (InputLayer)           [(None, 40, 20)]     0                                            \n",
      "__________________________________________________________________________________________________\n",
      "input_42 (InputLayer)           [(None, 150)]        0                                            \n",
      "__________________________________________________________________________________________________\n",
      "dense_59 (Dense)                (None, 3)            51          dropout_58[0][0]                 \n",
      "==================================================================================================\n",
      "Total params: 942,371\n",
      "Trainable params: 942,371\n",
      "Non-trainable params: 0\n",
      "__________________________________________________________________________________________________\n",
      "CMSA None\n",
      "Model: \"model_12\"\n",
      "__________________________________________________________________________________________________\n",
      "Layer (type)                    Output Shape         Param #     Connected to                     \n",
      "==================================================================================================\n",
      "input_46 (InputLayer)           [(None, 150)]        0                                            \n",
      "__________________________________________________________________________________________________\n",
      "tf_bert_model_1 (TFBertModel)   ((None, 150, 768), ( 177853440   input_46[0][0]                   \n",
      "__________________________________________________________________________________________________\n",
      "dropout_96 (Dropout)            (None, 768)          0           tf_bert_model_1[0][1]            \n",
      "__________________________________________________________________________________________________\n",
      "dense_60 (Dense)                (None, 128)          98432       dropout_96[0][0]                 \n",
      "__________________________________________________________________________________________________\n",
      "dropout_97 (Dropout)            (None, 128)          0           dense_60[0][0]                   \n",
      "__________________________________________________________________________________________________\n",
      "input_43 (InputLayer)           [(None, 40)]         0                                            \n",
      "__________________________________________________________________________________________________\n",
      "input_44 (InputLayer)           [(None, 150)]        0                                            \n",
      "__________________________________________________________________________________________________\n",
      "input_45 (InputLayer)           [(None, 40, 20)]     0                                            \n",
      "__________________________________________________________________________________________________\n",
      "dense_61 (Dense)                (None, 3)            387         dropout_97[0][0]                 \n",
      "==================================================================================================\n",
      "Total params: 177,952,259\n",
      "Trainable params: 177,952,259\n",
      "Non-trainable params: 0\n",
      "__________________________________________________________________________________________________\n",
      "BERT None\n",
      "Model: \"model_13\"\n",
      "__________________________________________________________________________________________________\n",
      "Layer (type)                    Output Shape         Param #     Connected to                     \n",
      "==================================================================================================\n",
      "input_50 (InputLayer)           [(None, 150)]        0                                            \n",
      "__________________________________________________________________________________________________\n",
      "token_and_position_embedding_1  (None, 150, 128)     1299200     input_50[0][0]                   \n",
      "__________________________________________________________________________________________________\n",
      "transformer_block_2 (Transforme (None, 150, 128)     99584       token_and_position_embedding_1[0]\n",
      "__________________________________________________________________________________________________\n",
      "transformer_block_3 (Transforme (None, 150, 128)     99584       transformer_block_2[0][0]        \n",
      "__________________________________________________________________________________________________\n",
      "global_average_pooling1d_1 (Glo (None, 128)          0           transformer_block_3[0][0]        \n",
      "__________________________________________________________________________________________________\n",
      "dropout_102 (Dropout)           (None, 128)          0           global_average_pooling1d_1[0][0] \n",
      "__________________________________________________________________________________________________\n",
      "dense_74 (Dense)                (None, 128)          16512       dropout_102[0][0]                \n",
      "__________________________________________________________________________________________________\n",
      "dropout_103 (Dropout)           (None, 128)          0           dense_74[0][0]                   \n",
      "__________________________________________________________________________________________________\n",
      "input_47 (InputLayer)           [(None, 40)]         0                                            \n",
      "__________________________________________________________________________________________________\n",
      "input_48 (InputLayer)           [(None, 150)]        0                                            \n",
      "__________________________________________________________________________________________________\n",
      "input_49 (InputLayer)           [(None, 40, 20)]     0                                            \n",
      "__________________________________________________________________________________________________\n",
      "dense_75 (Dense)                (None, 3)            387         dropout_103[0][0]                \n",
      "==================================================================================================\n",
      "Total params: 1,515,267\n",
      "Trainable params: 1,515,267\n",
      "Non-trainable params: 0\n",
      "__________________________________________________________________________________________________\n",
      "Transformer None\n"
     ]
    }
   ],
   "source": [
    "from src.models.models import *\n",
    "\n",
    "all_models = {WLSTM.__name__: WLSTM,HAN.__name__: HAN,CS_ELMO.__name__: CS_ELMO,CMSA.__name__: CMSA,\n",
    "                  BERT.__name__: BERT,Transformer.__name__: Transformer}\n",
    "\n",
    "for model_name, model_ in all_models.items():\n",
    "    model = model_(word_vocab_size=n_words,char_vocab_size=n_chars,wpe_vocab_size=n_subwords, vectorizer_shape=tfidf_shape, n_out=n_out,\\\n",
    "                               transformer_model_pretrained_path=args.transformer_model_pretrained_path,max_word_char_len=args.max_word_char_len,\\\n",
    "                                             max_text_len=args.max_text_len, max_char_len=args.max_char_len,\\\n",
    "                                             n_layers=args.n_layers, n_units=args.n_units, emb_dim=args.emb_dim)\n",
    "    print (model_name, model.summary())"
   ]
  },
  {
   "cell_type": "code",
   "execution_count": 28,
   "metadata": {
    "id": "Y1y38uBX47Pe"
   },
   "outputs": [],
   "source": [
    "_has_wandb = False"
   ]
  },
  {
   "cell_type": "code",
   "execution_count": 29,
   "metadata": {
    "colab": {
     "base_uri": "https://localhost:8080/",
     "height": 673
    },
    "id": "PkLvzX4a5NOZ",
    "outputId": "da8ec0bd-4ac3-4d4c-a164-d9bc26a23ce2"
   },
   "outputs": [],
   "source": [
    "loss = 'ce'\n",
    "model_name = 'Transformer'\n",
    "\n",
    "model2 = Transformer(word_vocab_size=n_words,char_vocab_size=n_chars,wpe_vocab_size=n_subwords, vectorizer_shape=None, n_out=n_out,\\\n",
    "                               transformer_model_pretrained_path=args.transformer_model_pretrained_path,max_word_char_len=args.max_word_char_len,\\\n",
    "                                             max_text_len=args.max_text_len, max_char_len=args.max_char_len,\\\n",
    "                                             n_layers=args.n_layers, n_units=args.n_units, emb_dim=args.emb_dim)\n",
    "model_save_path = os.path.join(args.model_save_path, '{}_{}_without_features.h5'.format(model_name, loss))\n",
    "\n",
    "model2.load_weights(model_save_path)\n",
    "\n",
    "t_model = Transformer(word_vocab_size=n_words,char_vocab_size=n_chars,wpe_vocab_size=n_subwords, vectorizer_shape=None, n_out=n_out,\\\n",
    "                               transformer_model_pretrained_path=args.transformer_model_pretrained_path,max_word_char_len=args.max_word_char_len,\\\n",
    "                                             max_text_len=args.max_text_len, max_char_len=args.max_char_len,\\\n",
    "                                             n_layers=args.n_layers, n_units=args.n_units, emb_dim=args.emb_dim)\n",
    "\n",
    "t_model.load_weights(os.path.join(args.model_save_path, 'pseudo_labelling_transformer_model.h5'))"
   ]
  },
  {
   "cell_type": "code",
   "execution_count": 30,
   "metadata": {},
   "outputs": [],
   "source": [
    "loss = 'ce'\n",
    "model_name = 'HAN'\n",
    "\n",
    "model4 = HAN(word_vocab_size=n_words,char_vocab_size=n_chars,wpe_vocab_size=n_subwords, vectorizer_shape=None, n_out=n_out,\\\n",
    "                               transformer_model_pretrained_path=args.transformer_model_pretrained_path,max_word_char_len=args.max_word_char_len,\\\n",
    "                                             max_text_len=args.max_text_len, max_char_len=args.max_char_len,\\\n",
    "                                             n_layers=args.n_layers, n_units=args.n_units, emb_dim=args.emb_dim)\n",
    "model_save_path = os.path.join(args.model_save_path, '{}_{}_without_features.h5'.format(model_name, loss))\n",
    "\n",
    "model4.load_weights(model_save_path)\n",
    "\n",
    "h_model = HAN(word_vocab_size=n_words,char_vocab_size=n_chars,wpe_vocab_size=n_subwords, vectorizer_shape=None, n_out=n_out,\\\n",
    "                               transformer_model_pretrained_path=args.transformer_model_pretrained_path,max_word_char_len=args.max_word_char_len,\\\n",
    "                                             max_text_len=args.max_text_len, max_char_len=args.max_char_len,\\\n",
    "                                             n_layers=args.n_layers, n_units=args.n_units, emb_dim=args.emb_dim)\n",
    "\n",
    "h_model.load_weights(os.path.join(args.model_save_path, 'pseudo_labelling_transformer.h5'))"
   ]
  },
  {
   "cell_type": "code",
   "execution_count": 31,
   "metadata": {},
   "outputs": [],
   "source": [
    "loss = 'ce'\n",
    "model_name = 'WLSTM'\n",
    "\n",
    "model6 = WLSTM(word_vocab_size=n_words,char_vocab_size=n_chars,wpe_vocab_size=n_subwords, vectorizer_shape=None, n_out=n_out,\\\n",
    "                               transformer_model_pretrained_path=args.transformer_model_pretrained_path,max_word_char_len=args.max_word_char_len,\\\n",
    "                                             max_text_len=args.max_text_len, max_char_len=args.max_char_len,\\\n",
    "                                             n_layers=args.n_layers, n_units=args.n_units, emb_dim=args.emb_dim)\n",
    "model_save_path = os.path.join(args.model_save_path, '{}_{}_without_features.h5'.format(model_name, loss))\n",
    "\n",
    "model6.load_weights(model_save_path)\n",
    "\n",
    "w_model = WLSTM(word_vocab_size=n_words,char_vocab_size=n_chars,wpe_vocab_size=n_subwords, vectorizer_shape=None, n_out=n_out,\\\n",
    "                               transformer_model_pretrained_path=args.transformer_model_pretrained_path,max_word_char_len=args.max_word_char_len,\\\n",
    "                                             max_text_len=args.max_text_len, max_char_len=args.max_char_len,\\\n",
    "                                             n_layers=args.n_layers, n_units=args.n_units, emb_dim=args.emb_dim)\n",
    "\n",
    "w_model.load_weights(os.path.join(args.model_save_path, 'pseudo_labelling_lstm_model.h5'))"
   ]
  },
  {
   "cell_type": "code",
   "execution_count": 32,
   "metadata": {
    "id": "cfGv6DI_PGAB"
   },
   "outputs": [],
   "source": [
    "test_df.category = [idx2label[i] for i in test_df.category]\n",
    "\n",
    "test_pred = model2.predict([word_test_inputs, char_test_inputs, subword_test_inputs, transformer_test_inputs])\n",
    "\n",
    "test_df['Transformer_pred'] = [idx2label[i] for i in test_pred.argmax(-1)]\n",
    "\n",
    "test_pred = model4.predict([word_test_inputs, char_test_inputs, subword_test_inputs, transformer_test_inputs])\n",
    "\n",
    "test_df['HAN_pred'] = [idx2label[i] for i in test_pred.argmax(-1)]\n",
    "\n",
    "test_pred = model6.predict([word_test_inputs, char_test_inputs, subword_test_inputs, transformer_test_inputs])\n",
    "\n",
    "test_df['WLSTM_pred'] = [idx2label[i] for i in test_pred.argmax(-1)]\n"
   ]
  },
  {
   "cell_type": "code",
   "execution_count": 33,
   "metadata": {
    "id": "rjqACng3PGAB"
   },
   "outputs": [],
   "source": [
    "import numpy as np\n",
    "\n",
    "def plot_confusion_matrix(cm,\n",
    "                          target_names,\n",
    "                          model_name,\n",
    "                          title='Confusion matrix',\n",
    "                          cmap=None,\n",
    "                          normalize=True):\n",
    "    \"\"\"\n",
    "    given a sklearn confusion matrix (cm), make a nice plot\n",
    "\n",
    "    Arguments\n",
    "    ---------\n",
    "    cm:           confusion matrix from sklearn.metrics.confusion_matrix\n",
    "\n",
    "    target_names: given classification classes such as [0, 1, 2]\n",
    "                  the class names, for example: ['high', 'medium', 'low']\n",
    "\n",
    "    title:        the text to display at the top of the matrix\n",
    "\n",
    "    cmap:         the gradient of the values displayed from matplotlib.pyplot.cm\n",
    "                  see http://matplotlib.org/examples/color/colormaps_reference.html\n",
    "                  plt.get_cmap('jet') or plt.cm.Blues\n",
    "\n",
    "    normalize:    If False, plot the raw numbers\n",
    "                  If True, plot the proportions\n",
    "\n",
    "    Usage\n",
    "    -----\n",
    "    plot_confusion_matrix(cm           = cm,                  # confusion matrix created by\n",
    "                                                              # sklearn.metrics.confusion_matrix\n",
    "                          normalize    = True,                # show proportions\n",
    "                          target_names = y_labels_vals,       # list of names of the classes\n",
    "                          title        = best_estimator_name) # title of graph\n",
    "\n",
    "    Citiation\n",
    "    ---------\n",
    "    http://scikit-learn.org/stable/auto_examples/model_selection/plot_confusion_matrix.html\n",
    "\n",
    "    \"\"\"\n",
    "    import matplotlib.pyplot as plt\n",
    "    import numpy as np\n",
    "    import itertools\n",
    "\n",
    "    accuracy = np.trace(cm) / float(np.sum(cm))\n",
    "    misclass = 1 - accuracy\n",
    "\n",
    "    if cmap is None:\n",
    "        cmap = plt.get_cmap('Blues')\n",
    "\n",
    "    \n",
    "    plt.figure(figsize=(12, 12))\n",
    "    plt.imshow(cm, interpolation='nearest',cmap=cmap) #, \n",
    "    plt.title(title)\n",
    "    #plt.colorbar()\n",
    "\n",
    "    thresh = cm.max() / 1.5 if normalize else cm.max() / 2\n",
    "    #print (thresh)\n",
    "    \n",
    "    if target_names is not None:\n",
    "        tick_marks = np.arange(len(target_names))\n",
    "        plt.xticks(tick_marks, target_names, rotation=45)\n",
    "        plt.yticks(tick_marks, target_names)\n",
    "\n",
    "    if normalize:\n",
    "        cm_ = cm.astype('float') / cm.sum(axis=1)[:, np.newaxis]\n",
    "        cm_ = np.around(cm_, decimals=2)\n",
    "        #print (cm)\n",
    "    else:\n",
    "      cm_ = cm\n",
    "\n",
    "    for i, j in itertools.product(range(cm.shape[0]), range(cm.shape[1])):\n",
    "      if cm_[i, j] > 0:\n",
    "        if normalize:\n",
    "            plt.text(j, i, \"{:0.2f}\".format(round(cm_[i, j],2)),\n",
    "                     horizontalalignment=\"center\",\n",
    "                     color=\"white\" if cm[i, j] > thresh else \"black\")\n",
    "        else:\n",
    "            plt.text(j, i, \"{:,}\".format(cm_[i, j]),\n",
    "                     horizontalalignment=\"center\",\n",
    "                     color=\"white\" if cm[i, j] > thresh else \"black\")\n",
    "\n",
    "\n",
    "    plt.tight_layout()\n",
    "    plt.ylabel('True label')\n",
    "    #plt.xlabel('Predicted label\\naccuracy={:0.4f}; misclass={:0.4f}'.format(accuracy, misclass))\n",
    "    plt.xlabel('Predicted label')\n",
    "    SMALL_SIZE = 25\n",
    "    MEDIUM_SIZE = 20\n",
    "    BIGGER_SIZE = 25\n",
    "\n",
    "    #plt.rcParams[\"font.family\"] = \"Times New Roman\"\n",
    "    plt.rcParams[\"font.size\"] = \"15\"\n",
    "\n",
    "    \n",
    "    #plt.rc('font', size=SMALL_SIZE)          # controls default text sizes\n",
    "    plt.rc('axes', titlesize=SMALL_SIZE)     # fontsize of the axes title\n",
    "    plt.rc('axes', labelsize=MEDIUM_SIZE)    # fontsize of the x and y labels\n",
    "    plt.rc('xtick', labelsize=SMALL_SIZE)    # fontsize of the tick labels\n",
    "    plt.rc('ytick', labelsize=SMALL_SIZE)    # fontsize of the tick labels\n",
    "    plt.rc('legend', fontsize=SMALL_SIZE)    # legend fontsize\n",
    "    plt.rc('figure', titlesize=BIGGER_SIZE)  # fontsize of the figure title\n",
    "    \n",
    "    plt.xlabel(\"\")\n",
    "    plt.ylabel(\"\")\n",
    "    plt.title(\"\")\n",
    "\n",
    "    plt.savefig('../plots/aggression_{}.pdf'.format(model_name),dpi=200)\n",
    "    plt.show()\n",
    "    \n",
    "def get_conditional_weights(text, model, class_idx):\n",
    "    all_texts = [\" \".join(text.split()[:i]) for i in range(len(text.split())+1)][1:]\n",
    "    #all_texts = [text]*(len(text.split())+1)\n",
    "    word_train_inputs = word_tokenizer.texts_to_sequences(all_texts)\n",
    "    word_train_inputs = tf.keras.preprocessing.sequence.pad_sequences(word_train_inputs, maxlen=args.max_text_len)\n",
    "\n",
    "    subword_train_inputs = np.asarray([data.data_utils.subword_tokenization(text, char_tokenizer, args.max_text_len, args.max_word_char_len) \\\n",
    "                            for text in all_texts])\n",
    "\n",
    "    char_train_inputs = char_tokenizer.texts_to_sequences(all_texts)\n",
    "    char_train_inputs = tf.keras.preprocessing.sequence.pad_sequences(char_train_inputs, maxlen=args.max_char_len)\n",
    "    \n",
    "    for i in range(len(text.split())):\n",
    "        #subword_train_inputs_ = subword_train_inputs.copy()\n",
    "        subword_train_inputs[i,i,:] = np.array([0]*subword_train_inputs.shape[-1])\n",
    "        \n",
    "    #print (subword_train_inputs[-1])\n",
    "    probs = model.predict([word_train_inputs,char_train_inputs,subword_train_inputs,\\\n",
    "                                      char_train_inputs])\n",
    "    \n",
    "    #print (probs)\n",
    "    #print (all_texts)\n",
    "    \n",
    "    probs_ = probs[-1] - probs\n",
    "    #class_idx = probs.argmax(-1)[-1]\n",
    "    \n",
    "    return probs_[:,class_idx]\n",
    "\n",
    "import html\n",
    "from IPython.core.display import display, HTML\n",
    "\n",
    "def html_escape(text):\n",
    "    return html.escape(text)\n",
    "\n",
    "def gradient_plots(text,weights,max_alpha=.3):\n",
    "    highlighted_text = []\n",
    "\n",
    "    for i, word in enumerate(text.split()):\n",
    "        \n",
    "        if i < args.max_text_len:\n",
    "            weight = weights[i]\n",
    "\n",
    "            if weight is not None:\n",
    "                highlighted_text.append('<span style=\"background-color:rgba(135,206,250,' + str(weight / max_alpha) + ');\">' + html_escape(word) + '</span>')\n",
    "            else:\n",
    "                highlighted_text.append(word)\n",
    "            \n",
    "    highlighted_text = ' '.join(highlighted_text)\n",
    "    \n",
    "    return highlighted_text\n",
    "\n",
    "def plot_attention(attention, sentence,plot_size=12, filename='image.pdf'):\n",
    "    fig = plt.figure(figsize=(plot_size,plot_size))\n",
    "    ax = fig.add_subplot(1, 1, 1)\n",
    "    ax.matshow(attention, cmap='Blues')\n",
    "\n",
    "    fontdict = {'fontsize': 20}\n",
    "\n",
    "    ax.set_xticklabels([''] + sentence, fontdict=fontdict, rotation=45)\n",
    "    ax.set_yticklabels([''] + sentence, fontdict=fontdict)\n",
    "\n",
    "    ax.xaxis.set_major_locator(ticker.MultipleLocator(1))\n",
    "    ax.yaxis.set_major_locator(ticker.MultipleLocator(1))\n",
    "\n",
    "    SMALL_SIZE = 20\n",
    "    MEDIUM_SIZE = 20\n",
    "    BIGGER_SIZE = 20\n",
    "    \n",
    "    #plt.show()\n",
    "    plt.rcParams[\"font.family\"] = 'sans-serif' #\"Times New Roman\"\n",
    "    plt.rcParams[\"font.size\"] = \"15\"\n",
    "\n",
    "    \n",
    "    #plt.rc('font', size=SMALL_SIZE)          # controls default text sizes\n",
    "    plt.rc('axes', titlesize=SMALL_SIZE)     # fontsize of the axes title\n",
    "    plt.rc('axes', labelsize=MEDIUM_SIZE)    # fontsize of the x and y labels\n",
    "    plt.rc('xtick', labelsize=SMALL_SIZE)    # fontsize of the tick labels\n",
    "    plt.rc('ytick', labelsize=SMALL_SIZE)    # fontsize of the tick labels\n",
    "    plt.rc('legend', fontsize=SMALL_SIZE)    # legend fontsize\n",
    "    plt.rc('figure', titlesize=BIGGER_SIZE)  # fontsize of the figure title\n",
    "    \n",
    "    plt.xlabel(\"\")\n",
    "    plt.ylabel(\"\")\n",
    "    plt.title(\"\")\n",
    "    \n",
    "    plt.savefig(filename, dpi=200)"
   ]
  },
  {
   "cell_type": "code",
   "execution_count": 34,
   "metadata": {},
   "outputs": [
    {
     "data": {
      "image/png": "[encoded data removed]",
      "text/plain": [
       "<Figure size 864x864 with 1 Axes>"
      ]
     },
     "metadata": {
      "needs_background": "light"
     },
     "output_type": "display_data"
    }
   ],
   "source": [
    "cm = pd.crosstab(test_df.category, test_df.Transformer_pred)\n",
    "cm = cm[cm.index]\n",
    "cm\n",
    "plot_confusion_matrix(cm           = cm.values, \n",
    "                      normalize    = False,\n",
    "                      target_names = cm.index.to_list(),\n",
    "                      title        = \"Confusion Matrix\",\n",
    "                     model_name='Transformer')"
   ]
  },
  {
   "cell_type": "code",
   "execution_count": 35,
   "metadata": {},
   "outputs": [
    {
     "data": {
      "image/png": "[encoded data removed]",
      "text/plain": [
       "<Figure size 864x864 with 1 Axes>"
      ]
     },
     "metadata": {
      "needs_background": "light"
     },
     "output_type": "display_data"
    }
   ],
   "source": [
    "cm = pd.crosstab(test_df.category, test_df.HAN_pred)\n",
    "cm = cm[cm.index]\n",
    "cm\n",
    "plot_confusion_matrix(cm           = cm.values, \n",
    "                      normalize    = False,\n",
    "                      target_names = cm.index.to_list(),\n",
    "                      title        = \"Confusion Matrix\",\n",
    "                     model_name='HAN')"
   ]
  },
  {
   "cell_type": "code",
   "execution_count": 36,
   "metadata": {},
   "outputs": [
    {
     "data": {
      "image/png": "[encoded data removed]",
      "text/plain": [
       "<Figure size 864x864 with 1 Axes>"
      ]
     },
     "metadata": {
      "needs_background": "light"
     },
     "output_type": "display_data"
    }
   ],
   "source": [
    "cm = pd.crosstab(test_df.category, test_df.WLSTM_pred)\n",
    "cm = cm[cm.index]\n",
    "cm\n",
    "plot_confusion_matrix(cm           = cm.values, \n",
    "                      normalize    = False,\n",
    "                      target_names = cm.index.to_list(),\n",
    "                      title        = \"Confusion Matrix\",\n",
    "                     model_name='WLSTM')"
   ]
  },
  {
   "cell_type": "code",
   "execution_count": 37,
   "metadata": {},
   "outputs": [
    {
     "data": {
      "image/png": "[encoded data removed]",
      "text/plain": [
       "<Figure size 864x864 with 1 Axes>"
      ]
     },
     "metadata": {
      "needs_background": "light"
     },
     "output_type": "display_data"
    },
    {
     "data": {
      "image/png": "[encoded data removed]",
      "text/plain": [
       "<Figure size 864x864 with 1 Axes>"
      ]
     },
     "metadata": {
      "needs_background": "light"
     },
     "output_type": "display_data"
    },
    {
     "data": {
      "image/png": "[encoded data removed]",
      "text/plain": [
       "<Figure size 864x864 with 1 Axes>"
      ]
     },
     "metadata": {
      "needs_background": "light"
     },
     "output_type": "display_data"
    }
   ],
   "source": [
    "test_pred = t_model.predict([word_test_inputs, char_test_inputs, subword_test_inputs, transformer_test_inputs])\n",
    "\n",
    "test_df['Transformer_pred'] = [idx2label[i] for i in test_pred.argmax(-1)]\n",
    "\n",
    "test_pred = h_model.predict([word_test_inputs, char_test_inputs, subword_test_inputs, transformer_test_inputs])\n",
    "\n",
    "test_df['HAN_pred'] = [idx2label[i] for i in test_pred.argmax(-1)]\n",
    "\n",
    "test_pred = w_model.predict([word_test_inputs, char_test_inputs, subword_test_inputs, transformer_test_inputs])\n",
    "\n",
    "test_df['WLSTM_pred'] = [idx2label[i] for i in test_pred.argmax(-1)]\n",
    "\n",
    "cm = pd.crosstab(test_df.category, test_df.Transformer_pred)\n",
    "cm = cm[cm.index]\n",
    "cm\n",
    "plot_confusion_matrix(cm           = cm.values, \n",
    "                      normalize    = False,\n",
    "                      target_names = cm.index.to_list(),\n",
    "                      title        = \"Confusion Matrix\",\n",
    "                     model_name='Transformer_pl')\n",
    "\n",
    "cm = pd.crosstab(test_df.category, test_df.HAN_pred)\n",
    "cm = cm[cm.index]\n",
    "cm\n",
    "plot_confusion_matrix(cm           = cm.values, \n",
    "                      normalize    = False,\n",
    "                      target_names = cm.index.to_list(),\n",
    "                      title        = \"Confusion Matrix\",\n",
    "                     model_name='HAN_pl')\n",
    "\n",
    "cm = pd.crosstab(test_df.category, test_df.WLSTM_pred)\n",
    "cm = cm[cm.index]\n",
    "cm\n",
    "plot_confusion_matrix(cm           = cm.values, \n",
    "                      normalize    = False,\n",
    "                      target_names = cm.index.to_list(),\n",
    "                      title        = \"Confusion Matrix\",\n",
    "                     model_name='WLSTM_pl')\n"
   ]
  },
  {
   "cell_type": "code",
   "execution_count": 39,
   "metadata": {},
   "outputs": [
    {
     "data": {
      "text/html": [
       "<div>\n",
       "<style scoped>\n",
       "    .dataframe tbody tr th:only-of-type {\n",
       "        vertical-align: middle;\n",
       "    }\n",
       "\n",
       "    .dataframe tbody tr th {\n",
       "        vertical-align: top;\n",
       "    }\n",
       "\n",
       "    .dataframe thead th {\n",
       "        text-align: right;\n",
       "    }\n",
       "</style>\n",
       "<table border=\"1\" class=\"dataframe\">\n",
       "  <thead>\n",
       "    <tr style=\"text-align: right;\">\n",
       "      <th></th>\n",
       "      <th>text</th>\n",
       "      <th>category</th>\n",
       "      <th>Transformer_pred</th>\n",
       "      <th>HAN_pred</th>\n",
       "      <th>WLSTM_pred</th>\n",
       "    </tr>\n",
       "  </thead>\n",
       "  <tbody>\n",
       "    <tr>\n",
       "      <th>0</th>\n",
       "      <td>mahmood ghaznavi aor abdali ko bhol gaya ha tu 😂  hazar saal tjhy ghulam bana kr rkha tha bhol gaya tu</td>\n",
       "      <td>OAG</td>\n",
       "      <td>OAG</td>\n",
       "      <td>OAG</td>\n",
       "      <td>OAG</td>\n",
       "    </tr>\n",
       "    <tr>\n",
       "      <th>1</th>\n",
       "      <td>काकर पाथर जोड़ के मस्जिद लई बनाय।\\n\\nता चढ़ि मुल्ला बांघ दे , क्या बहरा हुआ खुदाय। \\n\\nयह मैं नहीं कबीर ने कहा था।</td>\n",
       "      <td>OAG</td>\n",
       "      <td>OAG</td>\n",
       "      <td>OAG</td>\n",
       "      <td>OAG</td>\n",
       "    </tr>\n",
       "    <tr>\n",
       "      <th>2</th>\n",
       "      <td>गटर के कीड़े</td>\n",
       "      <td>OAG</td>\n",
       "      <td>OAG</td>\n",
       "      <td>OAG</td>\n",
       "      <td>OAG</td>\n",
       "    </tr>\n",
       "    <tr>\n",
       "      <th>3</th>\n",
       "      <td>bhaii tume lagta bjp ne kia h ye to fir aao politics me sudharo society.....</td>\n",
       "      <td>CAG</td>\n",
       "      <td>CAG</td>\n",
       "      <td>CAG</td>\n",
       "      <td>CAG</td>\n",
       "    </tr>\n",
       "    <tr>\n",
       "      <th>4</th>\n",
       "      <td>सीनाजोरी</td>\n",
       "      <td>OAG</td>\n",
       "      <td>CAG</td>\n",
       "      <td>OAG</td>\n",
       "      <td>OAG</td>\n",
       "    </tr>\n",
       "    <tr>\n",
       "      <th>5</th>\n",
       "      <td>haan sahi kaha \\njab pm ko jutey padh saktey wo bhi  inch ko \\nto congress neta kis kheht ki muli hai</td>\n",
       "      <td>CAG</td>\n",
       "      <td>CAG</td>\n",
       "      <td>CAG</td>\n",
       "      <td>CAG</td>\n",
       "    </tr>\n",
       "    <tr>\n",
       "      <th>6</th>\n",
       "      <td>श्री श्री जिनके  लिए पूरी सरकार ने दिल्ली मे यमुना भी बरबाद होने दी सारी सुविधा दी उनसे मिलने से देशविरोध का क्या मतलब बेशक कोई और मिलता तो उसे तमगा और पाकिस्तान का निवास मिलते</td>\n",
       "      <td>OAG</td>\n",
       "      <td>CAG</td>\n",
       "      <td>OAG</td>\n",
       "      <td>CAG</td>\n",
       "    </tr>\n",
       "    <tr>\n",
       "      <th>7</th>\n",
       "      <td>मोदी जी अब ऐसा भी कानुन कर सकते है,,कि गरीब और आम जनता वोट ही ना करे|\\nऔर वोट करना है तो मोदी को ही करे|नही तो आम लोगोको कान पकडनेको कह सकते है|\\nराशन भी बंद कर सकते है|अब सब सत्ता अकेले ही हाथमे है|\\nआम लोग कही ना कही परेशान होने चाहिए,भ्रमिष्ठ होने चाहिए,सोचनेकेलिए दिमाग ही बंद होना चाहिए!!!\\nएैसा ही कानुन बना सकते है|\\nजनता जाए भाडमे !ऐसी ही सोच है मोदीजी की!बस बाकी कुछ नही|</td>\n",
       "      <td>OAG</td>\n",
       "      <td>OAG</td>\n",
       "      <td>OAG</td>\n",
       "      <td>OAG</td>\n",
       "    </tr>\n",
       "    <tr>\n",
       "      <th>8</th>\n",
       "      <td>जुबान दी थी तो जुबान की कीमत निभाई सर मुंडा के ये तो मेरे लिए गर्व की बात है।</td>\n",
       "      <td>NAG</td>\n",
       "      <td>NAG</td>\n",
       "      <td>NAG</td>\n",
       "      <td>NAG</td>\n",
       "    </tr>\n",
       "    <tr>\n",
       "      <th>9</th>\n",
       "      <td>bole tw zeada kon log h india m deobndi or brelvi?</td>\n",
       "      <td>NAG</td>\n",
       "      <td>CAG</td>\n",
       "      <td>NAG</td>\n",
       "      <td>NAG</td>\n",
       "    </tr>\n",
       "    <tr>\n",
       "      <th>10</th>\n",
       "      <td>iskee ma ki choot dalle ki bahan ka loda gandua sala madarchod kutte ka beej</td>\n",
       "      <td>OAG</td>\n",
       "      <td>OAG</td>\n",
       "      <td>OAG</td>\n",
       "      <td>OAG</td>\n",
       "    </tr>\n",
       "    <tr>\n",
       "      <th>11</th>\n",
       "      <td>to ab kan khol ki sun lo congresiyo ... '' ka sena modi ji to bahut jald hi dekhane wala hai par tum congresiyo antakiyo ki marna par rona, or inko bachane ki liya rat ko supreme court jana, sarjikal staik ka sabut mangna, or antkiyo ki liya khulla supportr ban na or manisankar , degvijay or nirupam jaisa antaki supportro ka gala kab dabne ja raha ho pahala yeh desh ko batao....</td>\n",
       "      <td>OAG</td>\n",
       "      <td>OAG</td>\n",
       "      <td>OAG</td>\n",
       "      <td>OAG</td>\n",
       "    </tr>\n",
       "    <tr>\n",
       "      <th>12</th>\n",
       "      <td>cingress me sab chaplus hai</td>\n",
       "      <td>OAG</td>\n",
       "      <td>OAG</td>\n",
       "      <td>OAG</td>\n",
       "      <td>OAG</td>\n",
       "    </tr>\n",
       "    <tr>\n",
       "      <th>13</th>\n",
       "      <td>hahahah\\n.bewkoof india mei ghus k maara aur wo bhi chupke ..haha.\\n\\naur kashmir p already india ka kabja a..mere stupid bhaia</td>\n",
       "      <td>OAG</td>\n",
       "      <td>OAG</td>\n",
       "      <td>OAG</td>\n",
       "      <td>OAG</td>\n",
       "    </tr>\n",
       "    <tr>\n",
       "      <th>14</th>\n",
       "      <td>jab iska do....... ki\\n\\nअल्लाह ताल्लाह के फजल से\\nपाकिस्तानी जेल में सज़ा काट रहे\\nआतंकी जकी-उर-रहमान-लखवी\\nकी पत्नी पेट से है !😉\\n\\nअल्लाह बडा हलालु है 😂</td>\n",
       "      <td>OAG</td>\n",
       "      <td>OAG</td>\n",
       "      <td>OAG</td>\n",
       "      <td>OAG</td>\n",
       "    </tr>\n",
       "    <tr>\n",
       "      <th>15</th>\n",
       "      <td>gold mila hota baki indians sab khane ke liye marte...😀</td>\n",
       "      <td>CAG</td>\n",
       "      <td>CAG</td>\n",
       "      <td>CAG</td>\n",
       "      <td>CAG</td>\n",
       "    </tr>\n",
       "    <tr>\n",
       "      <th>16</th>\n",
       "      <td>o cow k peshan piny vali qom  aram sy</td>\n",
       "      <td>OAG</td>\n",
       "      <td>OAG</td>\n",
       "      <td>OAG</td>\n",
       "      <td>OAG</td>\n",
       "    </tr>\n",
       "    <tr>\n",
       "      <th>17</th>\n",
       "      <td>aby india walo tum logo ko sharam bhi nahi aati jhot bolte howy bhi</td>\n",
       "      <td>CAG</td>\n",
       "      <td>OAG</td>\n",
       "      <td>CAG</td>\n",
       "      <td>CAG</td>\n",
       "    </tr>\n",
       "    <tr>\n",
       "      <th>18</th>\n",
       "      <td>chl be fake account jyada na bol \\nhimmat hi ni h\\nja na apne page me \\nbaar  pta ehi hu pakistan k page ja\\nni h na to bna le\\ntra desh kya ho rha h bhut acche se pta nikl lo and wit and watch india ku t krega zarur fir puchenge</td>\n",
       "      <td>OAG</td>\n",
       "      <td>OAG</td>\n",
       "      <td>OAG</td>\n",
       "      <td>OAG</td>\n",
       "    </tr>\n",
       "    <tr>\n",
       "      <th>19</th>\n",
       "      <td>राष्ट्रीय पार्टी का सिमटता क्षेत्र</td>\n",
       "      <td>CAG</td>\n",
       "      <td>NAG</td>\n",
       "      <td>CAG</td>\n",
       "      <td>OAG</td>\n",
       "    </tr>\n",
       "  </tbody>\n",
       "</table>\n",
       "</div>"
      ],
      "text/plain": [
       "                                                                                                                                                                                                                                                                                                                                                                                             text  \\\n",
       "0   mahmood ghaznavi aor abdali ko bhol gaya ha tu 😂  hazar saal tjhy ghulam bana kr rkha tha bhol gaya tu                                                                                                                                                                                                                                                                                          \n",
       "1   काकर पाथर जोड़ के मस्जिद लई बनाय।\\n\\nता चढ़ि मुल्ला बांघ दे , क्या बहरा हुआ खुदाय। \\n\\nयह मैं नहीं कबीर ने कहा था।                                                                                                                                                                                                                                                                                \n",
       "2   गटर के कीड़े                                                                                                                                                                                                                                                                                                                                                                                    \n",
       "3   bhaii tume lagta bjp ne kia h ye to fir aao politics me sudharo society.....                                                                                                                                                                                                                                                                                                                    \n",
       "4   सीनाजोरी                                                                                                                                                                                                                                                                                                                                                                                        \n",
       "5   haan sahi kaha \\njab pm ko jutey padh saktey wo bhi  inch ko \\nto congress neta kis kheht ki muli hai                                                                                                                                                                                                                                                                                           \n",
       "6   श्री श्री जिनके  लिए पूरी सरकार ने दिल्ली मे यमुना भी बरबाद होने दी सारी सुविधा दी उनसे मिलने से देशविरोध का क्या मतलब बेशक कोई और मिलता तो उसे तमगा और पाकिस्तान का निवास मिलते                                                                                                                                                                                                                \n",
       "7   मोदी जी अब ऐसा भी कानुन कर सकते है,,कि गरीब और आम जनता वोट ही ना करे|\\nऔर वोट करना है तो मोदी को ही करे|नही तो आम लोगोको कान पकडनेको कह सकते है|\\nराशन भी बंद कर सकते है|अब सब सत्ता अकेले ही हाथमे है|\\nआम लोग कही ना कही परेशान होने चाहिए,भ्रमिष्ठ होने चाहिए,सोचनेकेलिए दिमाग ही बंद होना चाहिए!!!\\nएैसा ही कानुन बना सकते है|\\nजनता जाए भाडमे !ऐसी ही सोच है मोदीजी की!बस बाकी कुछ नही|    \n",
       "8   जुबान दी थी तो जुबान की कीमत निभाई सर मुंडा के ये तो मेरे लिए गर्व की बात है।                                                                                                                                                                                                                                                                                                                   \n",
       "9   bole tw zeada kon log h india m deobndi or brelvi?                                                                                                                                                                                                                                                                                                                                              \n",
       "10  iskee ma ki choot dalle ki bahan ka loda gandua sala madarchod kutte ka beej                                                                                                                                                                                                                                                                                                                    \n",
       "11  to ab kan khol ki sun lo congresiyo ... '' ka sena modi ji to bahut jald hi dekhane wala hai par tum congresiyo antakiyo ki marna par rona, or inko bachane ki liya rat ko supreme court jana, sarjikal staik ka sabut mangna, or antkiyo ki liya khulla supportr ban na or manisankar , degvijay or nirupam jaisa antaki supportro ka gala kab dabne ja raha ho pahala yeh desh ko batao....   \n",
       "12  cingress me sab chaplus hai                                                                                                                                                                                                                                                                                                                                                                     \n",
       "13  hahahah\\n.bewkoof india mei ghus k maara aur wo bhi chupke ..haha.\\n\\naur kashmir p already india ka kabja a..mere stupid bhaia                                                                                                                                                                                                                                                                 \n",
       "14  jab iska do....... ki\\n\\nअल्लाह ताल्लाह के फजल से\\nपाकिस्तानी जेल में सज़ा काट रहे\\nआतंकी जकी-उर-रहमान-लखवी\\nकी पत्नी पेट से है !😉\\n\\nअल्लाह बडा हलालु है 😂                                                                                                                                                                                                                                     \n",
       "15  gold mila hota baki indians sab khane ke liye marte...😀                                                                                                                                                                                                                                                                                                                                         \n",
       "16  o cow k peshan piny vali qom  aram sy                                                                                                                                                                                                                                                                                                                                                           \n",
       "17  aby india walo tum logo ko sharam bhi nahi aati jhot bolte howy bhi                                                                                                                                                                                                                                                                                                                             \n",
       "18  chl be fake account jyada na bol \\nhimmat hi ni h\\nja na apne page me \\nbaar  pta ehi hu pakistan k page ja\\nni h na to bna le\\ntra desh kya ho rha h bhut acche se pta nikl lo and wit and watch india ku t krega zarur fir puchenge                                                                                                                                                           \n",
       "19  राष्ट्रीय पार्टी का सिमटता क्षेत्र                                                                                                                                                                                                                                                                                                                                                              \n",
       "\n",
       "   category Transformer_pred HAN_pred WLSTM_pred  \n",
       "0   OAG      OAG              OAG      OAG        \n",
       "1   OAG      OAG              OAG      OAG        \n",
       "2   OAG      OAG              OAG      OAG        \n",
       "3   CAG      CAG              CAG      CAG        \n",
       "4   OAG      CAG              OAG      OAG        \n",
       "5   CAG      CAG              CAG      CAG        \n",
       "6   OAG      CAG              OAG      CAG        \n",
       "7   OAG      OAG              OAG      OAG        \n",
       "8   NAG      NAG              NAG      NAG        \n",
       "9   NAG      CAG              NAG      NAG        \n",
       "10  OAG      OAG              OAG      OAG        \n",
       "11  OAG      OAG              OAG      OAG        \n",
       "12  OAG      OAG              OAG      OAG        \n",
       "13  OAG      OAG              OAG      OAG        \n",
       "14  OAG      OAG              OAG      OAG        \n",
       "15  CAG      CAG              CAG      CAG        \n",
       "16  OAG      OAG              OAG      OAG        \n",
       "17  CAG      OAG              CAG      CAG        \n",
       "18  OAG      OAG              OAG      OAG        \n",
       "19  CAG      NAG              CAG      OAG        "
      ]
     },
     "execution_count": 39,
     "metadata": {},
     "output_type": "execute_result"
    }
   ],
   "source": [
    "test_df = test_df.reset_index(drop=True)\n",
    "test_df.head(20)"
   ]
  },
  {
   "cell_type": "code",
   "execution_count": 41,
   "metadata": {},
   "outputs": [
    {
     "data": {
      "text/html": [
       "<div>\n",
       "<style scoped>\n",
       "    .dataframe tbody tr th:only-of-type {\n",
       "        vertical-align: middle;\n",
       "    }\n",
       "\n",
       "    .dataframe tbody tr th {\n",
       "        vertical-align: top;\n",
       "    }\n",
       "\n",
       "    .dataframe thead th {\n",
       "        text-align: right;\n",
       "    }\n",
       "</style>\n",
       "<table border=\"1\" class=\"dataframe\">\n",
       "  <thead>\n",
       "    <tr style=\"text-align: right;\">\n",
       "      <th></th>\n",
       "      <th>text</th>\n",
       "      <th>category</th>\n",
       "      <th>type</th>\n",
       "      <th>category_predicted_model1</th>\n",
       "      <th>category_prob_model1</th>\n",
       "      <th>category_predicted_model2</th>\n",
       "      <th>category_prob_model2</th>\n",
       "    </tr>\n",
       "  </thead>\n",
       "  <tbody>\n",
       "    <tr>\n",
       "      <th>4614</th>\n",
       "      <td>ab maan leya ghus k maarna yahi hota hein,, kashmir ka badla hein ar letey rahengey</td>\n",
       "      <td>CAG</td>\n",
       "      <td>aggression</td>\n",
       "      <td>OAG</td>\n",
       "      <td>1.000000</td>\n",
       "      <td>OAG</td>\n",
       "      <td>0.999147</td>\n",
       "    </tr>\n",
       "    <tr>\n",
       "      <th>4615</th>\n",
       "      <td>इंच का सीना वाला घूसखोर हो गया है जो पता नहीं कितने सैनिको को शहीद करवाएगा\\nयही ोदी है ,भक्तों जो ूपीए सरकार के समय जब हमारे जवानों को पाक सर काट ले गया था तो घड़ियाल का आंसू रोया था । अब तो इसकी आवाज ही् नहीं निकलती और निकलती भी है तो क्या? संवेदना...........\\nभाइयो एवं बहनो ोदी_हटाओ_सेना_बचाओ\\nपांच महीने में हमारे जवानों के शवों का अपमान करने का यह दूसरा मामला है। इससे पहले नवंबर में माछिल सेक्टर में तीन जवान शहीद हो गए थे। तब एक जवान का शव क्षत-विक्षत हालत में मिला था</td>\n",
       "      <td>OAG</td>\n",
       "      <td>aggression</td>\n",
       "      <td>OAG</td>\n",
       "      <td>0.999919</td>\n",
       "      <td>OAG</td>\n",
       "      <td>1.000000</td>\n",
       "    </tr>\n",
       "    <tr>\n",
       "      <th>4616</th>\n",
       "      <td>chalo shukaar ab un ko saraai hoyai daal  nai kanai parai gi😂😂😂😂</td>\n",
       "      <td>CAG</td>\n",
       "      <td>aggression</td>\n",
       "      <td>CAG</td>\n",
       "      <td>1.000000</td>\n",
       "      <td>CAG</td>\n",
       "      <td>1.000000</td>\n",
       "    </tr>\n",
       "    <tr>\n",
       "      <th>4617</th>\n",
       "      <td>भाई हमको दूसरे देशो को देख क्र नही चलना</td>\n",
       "      <td>NAG</td>\n",
       "      <td>aggression</td>\n",
       "      <td>NAG</td>\n",
       "      <td>0.999999</td>\n",
       "      <td>NAG</td>\n",
       "      <td>0.999942</td>\n",
       "    </tr>\n",
       "    <tr>\n",
       "      <th>4618</th>\n",
       "      <td>chor hai sale petrol pump malik sarkar ko dushara vikalp bhi rakhana jaruri</td>\n",
       "      <td>OAG</td>\n",
       "      <td>aggression</td>\n",
       "      <td>OAG</td>\n",
       "      <td>0.985272</td>\n",
       "      <td>OAG</td>\n",
       "      <td>0.999385</td>\n",
       "    </tr>\n",
       "    <tr>\n",
       "      <th>4619</th>\n",
       "      <td>congress  ki  bjh  se  azadi  se  rh  rhe  ni  to  talve  chat  rhe  hote  angrejo  k</td>\n",
       "      <td>CAG</td>\n",
       "      <td>aggression</td>\n",
       "      <td>CAG</td>\n",
       "      <td>0.936495</td>\n",
       "      <td>CAG</td>\n",
       "      <td>1.000000</td>\n",
       "    </tr>\n",
       "    <tr>\n",
       "      <th>4620</th>\n",
       "      <td>china ke bare me tumhara kya khaya hai</td>\n",
       "      <td>CAG</td>\n",
       "      <td>aggression</td>\n",
       "      <td>CAG</td>\n",
       "      <td>0.999395</td>\n",
       "      <td>CAG</td>\n",
       "      <td>1.000000</td>\n",
       "    </tr>\n",
       "    <tr>\n",
       "      <th>4621</th>\n",
       "      <td>apni naakaami chupane k li hamesha raashtrawaad ka sahaara lena galat h ...?   ise ugr raashrtawaad kehte hai</td>\n",
       "      <td>CAG</td>\n",
       "      <td>aggression</td>\n",
       "      <td>CAG</td>\n",
       "      <td>0.999996</td>\n",
       "      <td>CAG</td>\n",
       "      <td>0.999999</td>\n",
       "    </tr>\n",
       "    <tr>\n",
       "      <th>4622</th>\n",
       "      <td>modi k mantroi ko lipstick or churia pahenake juta marna chahia ! sale haramkhor party !</td>\n",
       "      <td>CAG</td>\n",
       "      <td>aggression</td>\n",
       "      <td>CAG</td>\n",
       "      <td>0.999872</td>\n",
       "      <td>CAG</td>\n",
       "      <td>0.999999</td>\n",
       "    </tr>\n",
       "    <tr>\n",
       "      <th>4623</th>\n",
       "      <td>sadia khan - jab tumhari koi besati karta he, tab bhi tumhe samaj nahi atta, bade cheap ho tum.</td>\n",
       "      <td>CAG</td>\n",
       "      <td>aggression</td>\n",
       "      <td>CAG</td>\n",
       "      <td>0.985638</td>\n",
       "      <td>CAG</td>\n",
       "      <td>0.999977</td>\n",
       "    </tr>\n",
       "    <tr>\n",
       "      <th>4624</th>\n",
       "      <td>ya to schools politicians ke hai ya fir in school owners say party fund milta hai . is liye to is desh mai choti choti cheezo ki sunwai bhi nahi hoti.</td>\n",
       "      <td>CAG</td>\n",
       "      <td>aggression</td>\n",
       "      <td>CAG</td>\n",
       "      <td>0.994313</td>\n",
       "      <td>CAG</td>\n",
       "      <td>0.999996</td>\n",
       "    </tr>\n",
       "    <tr>\n",
       "      <th>4625</th>\n",
       "      <td>chutiyee ko kabhi v allow nehi karna chahiye fight me</td>\n",
       "      <td>OAG</td>\n",
       "      <td>aggression</td>\n",
       "      <td>OAG</td>\n",
       "      <td>0.999971</td>\n",
       "      <td>OAG</td>\n",
       "      <td>1.000000</td>\n",
       "    </tr>\n",
       "    <tr>\n",
       "      <th>4626</th>\n",
       "      <td>kya facebook par sehan nhi ho raha jao ja k border pr ladho</td>\n",
       "      <td>CAG</td>\n",
       "      <td>aggression</td>\n",
       "      <td>CAG</td>\n",
       "      <td>0.999387</td>\n",
       "      <td>CAG</td>\n",
       "      <td>1.000000</td>\n",
       "    </tr>\n",
       "    <tr>\n",
       "      <th>4627</th>\n",
       "      <td>kejry wall himmat nhi harna him log aap ke sath hai</td>\n",
       "      <td>NAG</td>\n",
       "      <td>aggression</td>\n",
       "      <td>NAG</td>\n",
       "      <td>0.999714</td>\n",
       "      <td>NAG</td>\n",
       "      <td>0.999998</td>\n",
       "    </tr>\n",
       "    <tr>\n",
       "      <th>4628</th>\n",
       "      <td>ravish ji.. yaar pappu ka daman chodd doo... apni soch ko badllo</td>\n",
       "      <td>OAG</td>\n",
       "      <td>aggression</td>\n",
       "      <td>OAG</td>\n",
       "      <td>1.000000</td>\n",
       "      <td>OAG</td>\n",
       "      <td>1.000000</td>\n",
       "    </tr>\n",
       "    <tr>\n",
       "      <th>4629</th>\n",
       "      <td>jab aur  jawan sahid hoge tab. abhi in dino rajnath ke sath bichar kar rahe hai. isi wajah pakistan havi ho ra hai.</td>\n",
       "      <td>CAG</td>\n",
       "      <td>aggression</td>\n",
       "      <td>CAG</td>\n",
       "      <td>0.999024</td>\n",
       "      <td>CAG</td>\n",
       "      <td>0.999998</td>\n",
       "    </tr>\n",
       "    <tr>\n",
       "      <th>4630</th>\n",
       "      <td>kashmir mai crpf k jawan pe haath chd re h lafange or yaha inch ka seena liya kaha gya ye fekuchand</td>\n",
       "      <td>OAG</td>\n",
       "      <td>aggression</td>\n",
       "      <td>OAG</td>\n",
       "      <td>0.999985</td>\n",
       "      <td>OAG</td>\n",
       "      <td>1.000000</td>\n",
       "    </tr>\n",
       "    <tr>\n",
       "      <th>4631</th>\n",
       "      <td>\"pakistan\" zindabad\\ni love \"pakistan\" and \"pak army\"\\nand indians you don't be jealous from \"pak china friendship\"\\nand about \"kashmeer\" i just want to say\\n\"yaran-e-mehfil kehty hn \"kashmeer\" jannat hai\\naur jannat na kisi kafir ko mili hai na mily gi</td>\n",
       "      <td>CAG</td>\n",
       "      <td>aggression</td>\n",
       "      <td>CAG</td>\n",
       "      <td>0.999997</td>\n",
       "      <td>CAG</td>\n",
       "      <td>0.999985</td>\n",
       "    </tr>\n",
       "    <tr>\n",
       "      <th>4632</th>\n",
       "      <td>aap shi kh rhe hai bilkul yeh hmare jwano ki bdi badkismt h wo na chahte hue b aise kdm nai utha paate jo wo log uthana chahte h .................kashmir me jis tarah crpf k jwaano k sath glt behbar kiyw gya haali k dino me uss ko dekh yhi lgta h ab govt. india ko khuli chuut deni chahiye</td>\n",
       "      <td>CAG</td>\n",
       "      <td>aggression</td>\n",
       "      <td>CAG</td>\n",
       "      <td>0.981339</td>\n",
       "      <td>CAG</td>\n",
       "      <td>0.999999</td>\n",
       "    </tr>\n",
       "    <tr>\n",
       "      <th>4633</th>\n",
       "      <td>sir jio ka offer aur badav aur extend karo na sir</td>\n",
       "      <td>NAG</td>\n",
       "      <td>aggression</td>\n",
       "      <td>NAG</td>\n",
       "      <td>0.999997</td>\n",
       "      <td>NAG</td>\n",
       "      <td>1.000000</td>\n",
       "    </tr>\n",
       "  </tbody>\n",
       "</table>\n",
       "</div>"
      ],
      "text/plain": [
       "                                                                                                                                                                                                                                                                                                                                                                                                                                                                                            text  \\\n",
       "4614  ab maan leya ghus k maarna yahi hota hein,, kashmir ka badla hein ar letey rahengey                                                                                                                                                                                                                                                                                                                                                                                                          \n",
       "4615  इंच का सीना वाला घूसखोर हो गया है जो पता नहीं कितने सैनिको को शहीद करवाएगा\\nयही ोदी है ,भक्तों जो ूपीए सरकार के समय जब हमारे जवानों को पाक सर काट ले गया था तो घड़ियाल का आंसू रोया था । अब तो इसकी आवाज ही् नहीं निकलती और निकलती भी है तो क्या? संवेदना...........\\nभाइयो एवं बहनो ोदी_हटाओ_सेना_बचाओ\\nपांच महीने में हमारे जवानों के शवों का अपमान करने का यह दूसरा मामला है। इससे पहले नवंबर में माछिल सेक्टर में तीन जवान शहीद हो गए थे। तब एक जवान का शव क्षत-विक्षत हालत में मिला था   \n",
       "4616  chalo shukaar ab un ko saraai hoyai daal  nai kanai parai gi😂😂😂😂                                                                                                                                                                                                                                                                                                                                                                                                                             \n",
       "4617  भाई हमको दूसरे देशो को देख क्र नही चलना                                                                                                                                                                                                                                                                                                                                                                                                                                                      \n",
       "4618  chor hai sale petrol pump malik sarkar ko dushara vikalp bhi rakhana jaruri                                                                                                                                                                                                                                                                                                                                                                                                                  \n",
       "4619  congress  ki  bjh  se  azadi  se  rh  rhe  ni  to  talve  chat  rhe  hote  angrejo  k                                                                                                                                                                                                                                                                                                                                                                                                        \n",
       "4620  china ke bare me tumhara kya khaya hai                                                                                                                                                                                                                                                                                                                                                                                                                                                       \n",
       "4621  apni naakaami chupane k li hamesha raashtrawaad ka sahaara lena galat h ...?   ise ugr raashrtawaad kehte hai                                                                                                                                                                                                                                                                                                                                                                                \n",
       "4622  modi k mantroi ko lipstick or churia pahenake juta marna chahia ! sale haramkhor party !                                                                                                                                                                                                                                                                                                                                                                                                     \n",
       "4623  sadia khan - jab tumhari koi besati karta he, tab bhi tumhe samaj nahi atta, bade cheap ho tum.                                                                                                                                                                                                                                                                                                                                                                                              \n",
       "4624  ya to schools politicians ke hai ya fir in school owners say party fund milta hai . is liye to is desh mai choti choti cheezo ki sunwai bhi nahi hoti.                                                                                                                                                                                                                                                                                                                                       \n",
       "4625  chutiyee ko kabhi v allow nehi karna chahiye fight me                                                                                                                                                                                                                                                                                                                                                                                                                                        \n",
       "4626  kya facebook par sehan nhi ho raha jao ja k border pr ladho                                                                                                                                                                                                                                                                                                                                                                                                                                  \n",
       "4627  kejry wall himmat nhi harna him log aap ke sath hai                                                                                                                                                                                                                                                                                                                                                                                                                                          \n",
       "4628  ravish ji.. yaar pappu ka daman chodd doo... apni soch ko badllo                                                                                                                                                                                                                                                                                                                                                                                                                             \n",
       "4629  jab aur  jawan sahid hoge tab. abhi in dino rajnath ke sath bichar kar rahe hai. isi wajah pakistan havi ho ra hai.                                                                                                                                                                                                                                                                                                                                                                          \n",
       "4630  kashmir mai crpf k jawan pe haath chd re h lafange or yaha inch ka seena liya kaha gya ye fekuchand                                                                                                                                                                                                                                                                                                                                                                                          \n",
       "4631  \"pakistan\" zindabad\\ni love \"pakistan\" and \"pak army\"\\nand indians you don't be jealous from \"pak china friendship\"\\nand about \"kashmeer\" i just want to say\\n\"yaran-e-mehfil kehty hn \"kashmeer\" jannat hai\\naur jannat na kisi kafir ko mili hai na mily gi                                                                                                                                                                                                                                \n",
       "4632  aap shi kh rhe hai bilkul yeh hmare jwano ki bdi badkismt h wo na chahte hue b aise kdm nai utha paate jo wo log uthana chahte h .................kashmir me jis tarah crpf k jwaano k sath glt behbar kiyw gya haali k dino me uss ko dekh yhi lgta h ab govt. india ko khuli chuut deni chahiye                                                                                                                                                                                            \n",
       "4633  sir jio ka offer aur badav aur extend karo na sir                                                                                                                                                                                                                                                                                                                                                                                                                                            \n",
       "\n",
       "     category        type category_predicted_model1  category_prob_model1  \\\n",
       "4614  CAG      aggression  OAG                       1.000000               \n",
       "4615  OAG      aggression  OAG                       0.999919               \n",
       "4616  CAG      aggression  CAG                       1.000000               \n",
       "4617  NAG      aggression  NAG                       0.999999               \n",
       "4618  OAG      aggression  OAG                       0.985272               \n",
       "4619  CAG      aggression  CAG                       0.936495               \n",
       "4620  CAG      aggression  CAG                       0.999395               \n",
       "4621  CAG      aggression  CAG                       0.999996               \n",
       "4622  CAG      aggression  CAG                       0.999872               \n",
       "4623  CAG      aggression  CAG                       0.985638               \n",
       "4624  CAG      aggression  CAG                       0.994313               \n",
       "4625  OAG      aggression  OAG                       0.999971               \n",
       "4626  CAG      aggression  CAG                       0.999387               \n",
       "4627  NAG      aggression  NAG                       0.999714               \n",
       "4628  OAG      aggression  OAG                       1.000000               \n",
       "4629  CAG      aggression  CAG                       0.999024               \n",
       "4630  OAG      aggression  OAG                       0.999985               \n",
       "4631  CAG      aggression  CAG                       0.999997               \n",
       "4632  CAG      aggression  CAG                       0.981339               \n",
       "4633  NAG      aggression  NAG                       0.999997               \n",
       "\n",
       "     category_predicted_model2  category_prob_model2  \n",
       "4614  OAG                       0.999147              \n",
       "4615  OAG                       1.000000              \n",
       "4616  CAG                       1.000000              \n",
       "4617  NAG                       0.999942              \n",
       "4618  OAG                       0.999385              \n",
       "4619  CAG                       1.000000              \n",
       "4620  CAG                       1.000000              \n",
       "4621  CAG                       0.999999              \n",
       "4622  CAG                       0.999999              \n",
       "4623  CAG                       0.999977              \n",
       "4624  CAG                       0.999996              \n",
       "4625  OAG                       1.000000              \n",
       "4626  CAG                       1.000000              \n",
       "4627  NAG                       0.999998              \n",
       "4628  OAG                       1.000000              \n",
       "4629  CAG                       0.999998              \n",
       "4630  OAG                       1.000000              \n",
       "4631  CAG                       0.999985              \n",
       "4632  CAG                       0.999999              \n",
       "4633  NAG                       1.000000              "
      ]
     },
     "execution_count": 41,
     "metadata": {},
     "output_type": "execute_result"
    }
   ],
   "source": [
    "test_df = pd.read_csv('../models/model_aggression/full_test.csv', sep='\\t')\n",
    "test_df.tail(20)"
   ]
  },
  {
   "cell_type": "code",
   "execution_count": 44,
   "metadata": {},
   "outputs": [
    {
     "data": {
      "text/html": [
       "<span style=\"background-color:rgba(135,206,250,-0.25223056475321454);\">ab</span> <span style=\"background-color:rgba(135,206,250,-0.23520251115163168);\">maan</span> <span style=\"background-color:rgba(135,206,250,-0.24208307266235352);\">leya</span> <span style=\"background-color:rgba(135,206,250,-0.10744094848632812);\">ghus</span> <span style=\"background-color:rgba(135,206,250,-0.253179669380188);\">k</span> <span style=\"background-color:rgba(135,206,250,-0.2518165111541748);\">maarna</span> <span style=\"background-color:rgba(135,206,250,-0.2525794506072998);\">yahi</span> <span style=\"background-color:rgba(135,206,250,-0.24330000082651776);\">hota</span> <span style=\"background-color:rgba(135,206,250,-0.2163378397623698);\">hein,,</span> <span style=\"background-color:rgba(135,206,250,1.8163233995437622);\">kashmir</span> <span style=\"background-color:rgba(135,206,250,-0.25316178798675537);\">ka</span> <span style=\"background-color:rgba(135,206,250,-0.2328189214070638);\">badla</span> <span style=\"background-color:rgba(135,206,250,-0.023208260536193848);\">hein</span> <span style=\"background-color:rgba(135,206,250,0.9950435161590576);\">ar</span> <span style=\"background-color:rgba(135,206,250,-0.13338923454284668);\">letey</span> <span style=\"background-color:rgba(135,206,250,0.0);\">rahengey</span>"
      ],
      "text/plain": [
       "<IPython.core.display.HTML object>"
      ]
     },
     "metadata": {},
     "output_type": "display_data"
    }
   ],
   "source": [
    "text = test_df.text.iloc[4614]\n",
    "\n",
    "highlighted_text = gradient_plots(text,get_conditional_weights(text, model2, 2))\n",
    "\n",
    "display(HTML(highlighted_text))\n"
   ]
  },
  {
   "cell_type": "code",
   "execution_count": 46,
   "metadata": {},
   "outputs": [
    {
     "data": {
      "text/html": [
       "<span style=\"background-color:rgba(135,206,250,2.5188865264256797);\">ab</span> <span style=\"background-color:rgba(135,206,250,3.3317333459854126);\">maan</span> <span style=\"background-color:rgba(135,206,250,3.3333194255828857);\">leya</span> <span style=\"background-color:rgba(135,206,250,3.3333309491475425);\">ghus</span> <span style=\"background-color:rgba(135,206,250,0.001410841941833496);\">k</span> <span style=\"background-color:rgba(135,206,250,0.13304789861043295);\">maarna</span> <span style=\"background-color:rgba(135,206,250,0.013406475385030111);\">yahi</span> <span style=\"background-color:rgba(135,206,250,-3.973642985026042e-07);\">hota</span> <span style=\"background-color:rgba(135,206,250,2.7815500895182294e-06);\">hein,,</span> <span style=\"background-color:rgba(135,206,250,1.8676122029622398e-05);\">kashmir</span> <span style=\"background-color:rgba(135,206,250,-3.973642985026042e-07);\">ka</span> <span style=\"background-color:rgba(135,206,250,-3.973642985026042e-07);\">badla</span> <span style=\"background-color:rgba(135,206,250,-3.973642985026042e-07);\">hein</span> <span style=\"background-color:rgba(135,206,250,3.1789143880208336e-05);\">ar</span> <span style=\"background-color:rgba(135,206,250,0.00025272369384765625);\">letey</span> <span style=\"background-color:rgba(135,206,250,0.0);\">rahengey</span>"
      ],
      "text/plain": [
       "<IPython.core.display.HTML object>"
      ]
     },
     "metadata": {},
     "output_type": "display_data"
    }
   ],
   "source": [
    "text = test_df.text.iloc[4614]\n",
    "\n",
    "highlighted_text = gradient_plots(text,get_conditional_weights(text, model4, 1))\n",
    "\n",
    "display(HTML(highlighted_text))"
   ]
  },
  {
   "cell_type": "code",
   "execution_count": 58,
   "metadata": {},
   "outputs": [
    {
     "data": {
      "text/html": [
       "<span style=\"background-color:rgba(135,206,250,3.046935002009074);\">ab</span> <span style=\"background-color:rgba(135,206,250,2.6498868068059287);\">maan</span> <span style=\"background-color:rgba(135,206,250,3.3330416679382324);\">leya</span> <span style=\"background-color:rgba(135,206,250,1.7675356070200603);\">ghus</span> <span style=\"background-color:rgba(135,206,250,0.37667493025461835);\">k</span> <span style=\"background-color:rgba(135,206,250,3.326396147410075);\">maarna</span> <span style=\"background-color:rgba(135,206,250,3.1537646055221558);\">yahi</span> <span style=\"background-color:rgba(135,206,250,0.11320928732554118);\">hota</span> <span style=\"background-color:rgba(135,206,250,-8.304913838704428e-05);\">hein,,</span> <span style=\"background-color:rgba(135,206,250,-0.0002364317576090495);\">kashmir</span> <span style=\"background-color:rgba(135,206,250,-0.00012159347534179688);\">ka</span> <span style=\"background-color:rgba(135,206,250,-7.232030232747397e-05);\">badla</span> <span style=\"background-color:rgba(135,206,250,-0.00026265780131022137);\">hein</span> <span style=\"background-color:rgba(135,206,250,-0.00019470850626627606);\">ar</span> <span style=\"background-color:rgba(135,206,250,-0.0002288818359375);\">letey</span> <span style=\"background-color:rgba(135,206,250,0.0);\">rahengey</span>"
      ],
      "text/plain": [
       "<IPython.core.display.HTML object>"
      ]
     },
     "metadata": {},
     "output_type": "display_data"
    }
   ],
   "source": [
    "text = test_df.text.iloc[4614]\n",
    "\n",
    "highlighted_text = gradient_plots(text,get_conditional_weights(text, model6, 1))\n",
    "\n",
    "display(HTML(highlighted_text))"
   ]
  },
  {
   "cell_type": "code",
   "execution_count": 39,
   "metadata": {},
   "outputs": [
    {
     "data": {
      "text/html": [
       "<span style=\"background-color:rgba(135,206,250,2.241004705429077);\">bhaii</span> <span style=\"background-color:rgba(135,206,250,3.2979746659596763);\">tume</span> <span style=\"background-color:rgba(135,206,250,3.332991600036621);\">lagta</span> <span style=\"background-color:rgba(135,206,250,3.332977096239726);\">bjp</span> <span style=\"background-color:rgba(135,206,250,0.02150853474934896);\">ne</span> <span style=\"background-color:rgba(135,206,250,0.005475878715515137);\">kia</span> <span style=\"background-color:rgba(135,206,250,0.04413425922393799);\">h</span> <span style=\"background-color:rgba(135,206,250,0.012875199317932129);\">ye</span> <span style=\"background-color:rgba(135,206,250,0.04018386205037435);\">to</span> <span style=\"background-color:rgba(135,206,250,-0.000152587890625);\">fir</span> <span style=\"background-color:rgba(135,206,250,0.00040511290232340497);\">aao</span> <span style=\"background-color:rgba(135,206,250,0.0002086162567138672);\">politics</span> <span style=\"background-color:rgba(135,206,250,0.0010253985722859702);\">me</span> <span style=\"background-color:rgba(135,206,250,0.0013264020284016929);\">sudharo</span> <span style=\"background-color:rgba(135,206,250,0.0);\">society.....</span>"
      ],
      "text/plain": [
       "<IPython.core.display.HTML object>"
      ]
     },
     "metadata": {},
     "output_type": "display_data"
    }
   ],
   "source": [
    "text = test_df.text.iloc[3]\n",
    "\n",
    "highlighted_text = gradient_plots(text,get_conditional_weights(text, model4, 0))\n",
    "\n",
    "display(HTML(highlighted_text))\n"
   ]
  },
  {
   "cell_type": "code",
   "execution_count": 40,
   "metadata": {},
   "outputs": [
    {
     "data": {
      "text/html": [
       "<span style=\"background-color:rgba(135,206,250,0.561094085375468);\">bhaii</span> <span style=\"background-color:rgba(135,206,250,1.835025946299235);\">tume</span> <span style=\"background-color:rgba(135,206,250,0.9538408120473226);\">lagta</span> <span style=\"background-color:rgba(135,206,250,1.0128583510716758);\">bjp</span> <span style=\"background-color:rgba(135,206,250,0.03702878952026367);\">ne</span> <span style=\"background-color:rgba(135,206,250,0.003456672032674154);\">kia</span> <span style=\"background-color:rgba(135,206,250,0.023189783096313477);\">h</span> <span style=\"background-color:rgba(135,206,250,0.21975835164388022);\">ye</span> <span style=\"background-color:rgba(135,206,250,0.25722642739613855);\">to</span> <span style=\"background-color:rgba(135,206,250,2.413558562596639);\">fir</span> <span style=\"background-color:rgba(135,206,250,3.3299740155537925);\">aao</span> <span style=\"background-color:rgba(135,206,250,3.3325670162836714);\">politics</span> <span style=\"background-color:rgba(135,206,250,3.3330821990966797);\">me</span> <span style=\"background-color:rgba(135,206,250,0.011539260546366375);\">sudharo</span> <span style=\"background-color:rgba(135,206,250,0.0);\">society.....</span>"
      ],
      "text/plain": [
       "<IPython.core.display.HTML object>"
      ]
     },
     "metadata": {},
     "output_type": "display_data"
    }
   ],
   "source": [
    "text = test_df.text.iloc[3]\n",
    "\n",
    "highlighted_text = gradient_plots(text,get_conditional_weights(text, model6, 0))\n",
    "\n",
    "display(HTML(highlighted_text))\n"
   ]
  },
  {
   "cell_type": "code",
   "execution_count": 41,
   "metadata": {},
   "outputs": [
    {
     "data": {
      "text/html": [
       "<span style=\"background-color:rgba(135,206,250,0.06391624609629314);\">hahahah</span> <span style=\"background-color:rgba(135,206,250,3.0766427516937256);\">.bewkoof</span> <span style=\"background-color:rgba(135,206,250,-0.014028946558634441);\">india</span> <span style=\"background-color:rgba(135,206,250,0.06698687871297201);\">mei</span> <span style=\"background-color:rgba(135,206,250,-0.01727283000946045);\">ghus</span> <span style=\"background-color:rgba(135,206,250,0.20492931207021078);\">k</span> <span style=\"background-color:rgba(135,206,250,-0.005163749059041342);\">maara</span> <span style=\"background-color:rgba(135,206,250,3.0522427956263227);\">aur</span> <span style=\"background-color:rgba(135,206,250,-0.017650326093037925);\">wo</span> <span style=\"background-color:rgba(135,206,250,-0.02062837282816569);\">bhi</span> <span style=\"background-color:rgba(135,206,250,-0.022017359733581543);\">chupke</span> <span style=\"background-color:rgba(135,206,250,-0.01838346322377523);\">..haha.</span> <span style=\"background-color:rgba(135,206,250,-0.0058901309967041016);\">aur</span> <span style=\"background-color:rgba(135,206,250,0.009064873059590658);\">kashmir</span> <span style=\"background-color:rgba(135,206,250,1.0909817616144817);\">p</span> <span style=\"background-color:rgba(135,206,250,0.012080073356628418);\">already</span> <span style=\"background-color:rgba(135,206,250,0.8920045693715414);\">india</span> <span style=\"background-color:rgba(135,206,250,0.25157610575358075);\">ka</span> <span style=\"background-color:rgba(135,206,250,2.0227670669555664);\">kabja</span> <span style=\"background-color:rgba(135,206,250,2.0427191257476807);\">a..mere</span> <span style=\"background-color:rgba(135,206,250,1.2498937050501506);\">stupid</span> <span style=\"background-color:rgba(135,206,250,0.0);\">bhaia</span>"
      ],
      "text/plain": [
       "<IPython.core.display.HTML object>"
      ]
     },
     "metadata": {},
     "output_type": "display_data"
    }
   ],
   "source": [
    "text = test_df.text.iloc[13]\n",
    "\n",
    "highlighted_text = gradient_plots(text,get_conditional_weights(text, model2, 2))\n",
    "\n",
    "display(HTML(highlighted_text))\n"
   ]
  },
  {
   "cell_type": "code",
   "execution_count": 42,
   "metadata": {},
   "outputs": [
    {
     "data": {
      "text/html": [
       "<span style=\"background-color:rgba(135,206,250,2.5188827514648438);\">hahahah</span> <span style=\"background-color:rgba(135,206,250,3.3333293596903486);\">.bewkoof</span> <span style=\"background-color:rgba(135,206,250,3.3333237965901694);\">india</span> <span style=\"background-color:rgba(135,206,250,2.7393949031829834);\">mei</span> <span style=\"background-color:rgba(135,206,250,3.1485440333684287);\">ghus</span> <span style=\"background-color:rgba(135,206,250,0.018257697423299156);\">k</span> <span style=\"background-color:rgba(135,206,250,2.7923790613810224);\">maara</span> <span style=\"background-color:rgba(135,206,250,2.7815500895182294e-06);\">aur</span> <span style=\"background-color:rgba(135,206,250,0.0005384286244710287);\">wo</span> <span style=\"background-color:rgba(135,206,250,0.0002535184224446615);\">bhi</span> <span style=\"background-color:rgba(135,206,250,3.337860107421875e-05);\">chupke</span> <span style=\"background-color:rgba(135,206,250,0.0009387731552124023);\">..haha.</span> <span style=\"background-color:rgba(135,206,250,0.0009097655614217123);\">aur</span> <span style=\"background-color:rgba(135,206,250,0.04370590051015218);\">kashmir</span> <span style=\"background-color:rgba(135,206,250,0.08534590403238933);\">p</span> <span style=\"background-color:rgba(135,206,250,0.006568630536397299);\">already</span> <span style=\"background-color:rgba(135,206,250,0.27799785137176514);\">india</span> <span style=\"background-color:rgba(135,206,250,0.001676479975382487);\">ka</span> <span style=\"background-color:rgba(135,206,250,0.014718174934387207);\">kabja</span> <span style=\"background-color:rgba(135,206,250,0.13167421023050946);\">a..mere</span> <span style=\"background-color:rgba(135,206,250,0.31696856021881104);\">stupid</span> <span style=\"background-color:rgba(135,206,250,0.0);\">bhaia</span>"
      ],
      "text/plain": [
       "<IPython.core.display.HTML object>"
      ]
     },
     "metadata": {},
     "output_type": "display_data"
    }
   ],
   "source": [
    "text = test_df.text.iloc[13]\n",
    "\n",
    "highlighted_text = gradient_plots(text,get_conditional_weights(text, model4, 1))\n",
    "\n",
    "display(HTML(highlighted_text))\n"
   ]
  },
  {
   "cell_type": "code",
   "execution_count": 43,
   "metadata": {},
   "outputs": [
    {
     "data": {
      "text/html": [
       "<span style=\"background-color:rgba(135,206,250,1.1717985073725383);\">hahahah</span> <span style=\"background-color:rgba(135,206,250,0.9772496422131857);\">.bewkoof</span> <span style=\"background-color:rgba(135,206,250,1.046963135401408);\">india</span> <span style=\"background-color:rgba(135,206,250,1.1379443605740867);\">mei</span> <span style=\"background-color:rgba(135,206,250,-2.1337680021921797);\">ghus</span> <span style=\"background-color:rgba(135,206,250,-2.0959673325220747);\">k</span> <span style=\"background-color:rgba(135,206,250,-2.023300528526306);\">maara</span> <span style=\"background-color:rgba(135,206,250,-1.5655622879664104);\">aur</span> <span style=\"background-color:rgba(135,206,250,0.05166769027709961);\">wo</span> <span style=\"background-color:rgba(135,206,250,1.1432787775993347);\">bhi</span> <span style=\"background-color:rgba(135,206,250,1.154520312945048);\">chupke</span> <span style=\"background-color:rgba(135,206,250,1.1724566419919333);\">..haha.</span> <span style=\"background-color:rgba(135,206,250,1.1661635835965476);\">aur</span> <span style=\"background-color:rgba(135,206,250,1.0394586126009624);\">kashmir</span> <span style=\"background-color:rgba(135,206,250,1.175168752670288);\">p</span> <span style=\"background-color:rgba(135,206,250,1.1757737398147583);\">already</span> <span style=\"background-color:rgba(135,206,250,1.1758045355478923);\">india</span> <span style=\"background-color:rgba(135,206,250,1.1756598949432373);\">ka</span> <span style=\"background-color:rgba(135,206,250,1.1759274204572043);\">kabja</span> <span style=\"background-color:rgba(135,206,250,1.1755183339118958);\">a..mere</span> <span style=\"background-color:rgba(135,206,250,0.3819064795970917);\">stupid</span> <span style=\"background-color:rgba(135,206,250,0.0);\">bhaia</span>"
      ],
      "text/plain": [
       "<IPython.core.display.HTML object>"
      ]
     },
     "metadata": {},
     "output_type": "display_data"
    }
   ],
   "source": [
    "text = test_df.text.iloc[13]\n",
    "\n",
    "highlighted_text = gradient_plots(text,get_conditional_weights(text, model6, 1))\n",
    "\n",
    "display(HTML(highlighted_text))\n"
   ]
  },
  {
   "cell_type": "code",
   "execution_count": 50,
   "metadata": {},
   "outputs": [],
   "source": [
    "import matplotlib.pyplot as plt\n",
    "import matplotlib.ticker as ticker\n",
    "\n",
    "def get_word_attention(text, model, tokenizer,model_name):\n",
    "    df = pd.DataFrame()\n",
    "    df['text'] = [text]\n",
    "    transformer_val_inputs, _, _ = data.data_utils.compute_transformer_input_arrays(df, 'text', tokenizer, args.max_char_len)\n",
    "    \n",
    "    print (transformer_val_inputs.shape)\n",
    "    \n",
    "    pos = model.layers[1](transformer_val_inputs)\n",
    "    embs = model.layers[2](pos)\n",
    "    \n",
    "    attn = model.layers[3].att\n",
    "    \n",
    "    batch_size = tf.shape(embs)[0]\n",
    "    query = attn.query_dense(embs)  # (batch_size, seq_len, embed_dim)\n",
    "    key = attn.key_dense(embs)  # (batch_size, seq_len, embed_dim)\n",
    "    value = attn.value_dense(embs)  # (batch_size, seq_len, embed_dim)\n",
    "    query = attn.separate_heads(\n",
    "        query, batch_size\n",
    "    )  # (batch_size, num_heads, seq_len, projection_dim)\n",
    "    key = attn.separate_heads(\n",
    "        key, batch_size\n",
    "    )  # (batch_size, num_heads, seq_len, projection_dim)\n",
    "    value = attn.separate_heads(\n",
    "        value, batch_size\n",
    "    )  # (batch_size, num_heads, seq_len, projection_dim)\n",
    "    attention, weights = attn.attention(query, key, value)\n",
    "    weights = weights.numpy().mean(1)[0]\n",
    "\n",
    "    sentence = tokenizer.tokenize(text) #text.split()\n",
    "    try:\n",
    "        plot_attention(weights[:len(sentence),:len(sentence)],sentence,filename='../plots/attention_aggression_{}.pdf'.format(model_name))\n",
    "    except:\n",
    "        plot_attention(weights,sentence,filename='../plots/attention_aggression_{}.pdf'.format(model_name))"
   ]
  },
  {
   "cell_type": "code",
   "execution_count": 51,
   "metadata": {},
   "outputs": [
    {
     "name": "stderr",
     "output_type": "stream",
     "text": [
      "100%|██████████| 1/1 [00:00<00:00, 1091.41it/s]\n",
      "/Users/victor/anaconda3/lib/python3.7/site-packages/ipykernel_launcher.py:169: UserWarning: FixedFormatter should only be used together with FixedLocator\n",
      "/Users/victor/anaconda3/lib/python3.7/site-packages/ipykernel_launcher.py:170: UserWarning: FixedFormatter should only be used together with FixedLocator\n"
     ]
    },
    {
     "name": "stdout",
     "output_type": "stream",
     "text": [
      "(1, 150)\n"
     ]
    },
    {
     "data": {
      "image/png": "[encoded data removed]",
      "text/plain": [
       "<Figure size 864x864 with 1 Axes>"
      ]
     },
     "metadata": {
      "needs_background": "light"
     },
     "output_type": "display_data"
    }
   ],
   "source": [
    "get_word_attention(test_df.text.iloc[4614], model2, tokenizer, 'Transformer')"
   ]
  },
  {
   "cell_type": "code",
   "execution_count": 45,
   "metadata": {},
   "outputs": [
    {
     "name": "stderr",
     "output_type": "stream",
     "text": [
      "100%|██████████| 1/1 [00:00<00:00, 859.14it/s]\n",
      "/Users/victor/anaconda3/lib/python3.7/site-packages/ipykernel_launcher.py:169: UserWarning: FixedFormatter should only be used together with FixedLocator\n",
      "/Users/victor/anaconda3/lib/python3.7/site-packages/ipykernel_launcher.py:170: UserWarning: FixedFormatter should only be used together with FixedLocator\n"
     ]
    },
    {
     "name": "stdout",
     "output_type": "stream",
     "text": [
      "(1, 150)\n"
     ]
    },
    {
     "data": {
      "image/png": "[encoded data removed]",
      "text/plain": [
       "<Figure size 864x864 with 1 Axes>"
      ]
     },
     "metadata": {
      "needs_background": "light"
     },
     "output_type": "display_data"
    }
   ],
   "source": [
    "get_word_attention(test_df.text.iloc[13], model2, tokenizer, 'Transformer')"
   ]
  },
  {
   "cell_type": "code",
   "execution_count": 52,
   "metadata": {},
   "outputs": [],
   "source": [
    "def get_word_attention_bert(text, bert_model, bert_tokenizer,filename='../plots/attention_aggression_BERT.pdf'):\n",
    "    \n",
    "    input = np.array(bert_tokenizer.encode(text))[np.newaxis,:]\n",
    "\n",
    "    out = bert_model(input)\n",
    "    \n",
    "    weights = out[-1][-1].numpy().mean(1)[0]\n",
    "    \n",
    "    sentence = tokenizer.tokenize(text) #text.split()\n",
    "    \n",
    "    try:\n",
    "        plot_attention(weights[:len(sentence),:len(sentence)],sentence,filename=filename)\n",
    "    except:\n",
    "        plot_attention(weights,sentence,filename=filename)"
   ]
  },
  {
   "cell_type": "code",
   "execution_count": 53,
   "metadata": {},
   "outputs": [],
   "source": [
    "del model4, model6"
   ]
  },
  {
   "cell_type": "code",
   "execution_count": 54,
   "metadata": {},
   "outputs": [],
   "source": [
    "model_name = 'BERT'\n",
    "loss = 'ce'\n",
    "bert_tokenizer = AutoTokenizer.from_pretrained(args.transformer_tokenizer_path)\n",
    "bert_model = BERT(word_vocab_size=n_words,char_vocab_size=n_chars,wpe_vocab_size=bert_tokenizer.vocab_size, vectorizer_shape=tfidf_shape, n_out=n_out,\\\n",
    "                               transformer_model_pretrained_path=args.transformer_model_pretrained_path,max_word_char_len=args.max_word_char_len,\\\n",
    "                                             max_text_len=args.max_text_len, max_char_len=100,\\\n",
    "                                             n_layers=args.n_layers, n_units=args.n_units, emb_dim=args.emb_dim)\n",
    "model_save_path = os.path.join(args.model_save_path, '{}_{}_without_features.h5'.format(model_name, loss))\n",
    "bert_model.load_weights(model_save_path)\n",
    "\n",
    "base_model = bert_model.layers[1]\n",
    "base_model.save_pretrained('./')\n",
    "\n",
    "config = AutoConfig.from_pretrained(args.transformer_config_path, output_attentions=True)\n",
    "\n",
    "base_model = TFAutoModel.from_pretrained('./', config=config)\n"
   ]
  },
  {
   "cell_type": "code",
   "execution_count": 55,
   "metadata": {},
   "outputs": [
    {
     "name": "stderr",
     "output_type": "stream",
     "text": [
      "/Users/victor/anaconda3/lib/python3.7/site-packages/ipykernel_launcher.py:169: UserWarning: FixedFormatter should only be used together with FixedLocator\n",
      "/Users/victor/anaconda3/lib/python3.7/site-packages/ipykernel_launcher.py:170: UserWarning: FixedFormatter should only be used together with FixedLocator\n"
     ]
    },
    {
     "data": {
      "image/png": "[encoded data removed]",
      "text/plain": [
       "<Figure size 864x864 with 1 Axes>"
      ]
     },
     "metadata": {
      "needs_background": "light"
     },
     "output_type": "display_data"
    }
   ],
   "source": [
    "get_word_attention_bert(test_df.text.iloc[4614], base_model, bert_tokenizer)"
   ]
  },
  {
   "cell_type": "code",
   "execution_count": 49,
   "metadata": {},
   "outputs": [
    {
     "name": "stderr",
     "output_type": "stream",
     "text": [
      "/Users/victor/anaconda3/lib/python3.7/site-packages/ipykernel_launcher.py:169: UserWarning: FixedFormatter should only be used together with FixedLocator\n",
      "/Users/victor/anaconda3/lib/python3.7/site-packages/ipykernel_launcher.py:170: UserWarning: FixedFormatter should only be used together with FixedLocator\n"
     ]
    },
    {
     "data": {
      "image/png": "[encoded data removed]",
      "text/plain": [
       "<Figure size 864x864 with 1 Axes>"
      ]
     },
     "metadata": {
      "needs_background": "light"
     },
     "output_type": "display_data"
    }
   ],
   "source": [
    "get_word_attention_bert(test_df.text.iloc[13], base_model, bert_tokenizer)"
   ]
  },
  {
   "cell_type": "code",
   "execution_count": null,
   "metadata": {},
   "outputs": [],
   "source": []
  }
 ],
 "metadata": {
  "accelerator": "GPU",
  "colab": {
   "name": "experiments_aggression.ipynb",
   "provenance": [],
   "toc_visible": true
  },
  "kernelspec": {
   "display_name": "Python 3",
   "language": "python",
   "name": "python3"
  },
  "language_info": {
   "codemirror_mode": {
    "name": "ipython",
    "version": 3
   },
   "file_extension": ".py",
   "mimetype": "text/x-python",
   "name": "python",
   "nbconvert_exporter": "python",
   "pygments_lexer": "ipython3",
   "version": "3.7.1"
  },
  "widgets": {
   "application/vnd.jupyter.widget-state+json": {
    "0647e36f289444f6917132fe8338eabe": {
     "model_module": "@jupyter-widgets/controls",
     "model_name": "DescriptionStyleModel",
     "state": {
      "_model_module": "@jupyter-widgets/controls",
      "_model_module_version": "1.5.0",
      "_model_name": "DescriptionStyleModel",
      "_view_count": null,
      "_view_module": "@jupyter-widgets/base",
      "_view_module_version": "1.2.0",
      "_view_name": "StyleView",
      "description_width": ""
     }
    },
    "1a7790b684d74e279bc46965ae9e909d": {
     "model_module": "@jupyter-widgets/controls",
     "model_name": "HTMLModel",
     "state": {
      "_dom_classes": [],
      "_model_module": "@jupyter-widgets/controls",
      "_model_module_version": "1.5.0",
      "_model_name": "HTMLModel",
      "_view_count": null,
      "_view_module": "@jupyter-widgets/controls",
      "_view_module_version": "1.5.0",
      "_view_name": "HTMLView",
      "description": "",
      "description_tooltip": null,
      "layout": "IPY_MODEL_61172699f1bb40119f3d1214c34e08e2",
      "placeholder": "​",
      "style": "IPY_MODEL_a6b481ec773a4a65bb9183656c2c0c3d",
      "value": " 996k/996k [00:00&lt;00:00, 1.78MB/s]"
     }
    },
    "1ce18025aeb2496798d85200067e57f5": {
     "model_module": "@jupyter-widgets/controls",
     "model_name": "ProgressStyleModel",
     "state": {
      "_model_module": "@jupyter-widgets/controls",
      "_model_module_version": "1.5.0",
      "_model_name": "ProgressStyleModel",
      "_view_count": null,
      "_view_module": "@jupyter-widgets/base",
      "_view_module_version": "1.2.0",
      "_view_name": "StyleView",
      "bar_color": null,
      "description_width": "initial"
     }
    },
    "2dd435234dc64b71a3dda0366e32e129": {
     "model_module": "@jupyter-widgets/base",
     "model_name": "LayoutModel",
     "state": {
      "_model_module": "@jupyter-widgets/base",
      "_model_module_version": "1.2.0",
      "_model_name": "LayoutModel",
      "_view_count": null,
      "_view_module": "@jupyter-widgets/base",
      "_view_module_version": "1.2.0",
      "_view_name": "LayoutView",
      "align_content": null,
      "align_items": null,
      "align_self": null,
      "border": null,
      "bottom": null,
      "display": null,
      "flex": null,
      "flex_flow": null,
      "grid_area": null,
      "grid_auto_columns": null,
      "grid_auto_flow": null,
      "grid_auto_rows": null,
      "grid_column": null,
      "grid_gap": null,
      "grid_row": null,
      "grid_template_areas": null,
      "grid_template_columns": null,
      "grid_template_rows": null,
      "height": null,
      "justify_content": null,
      "justify_items": null,
      "left": null,
      "margin": null,
      "max_height": null,
      "max_width": null,
      "min_height": null,
      "min_width": null,
      "object_fit": null,
      "object_position": null,
      "order": null,
      "overflow": null,
      "overflow_x": null,
      "overflow_y": null,
      "padding": null,
      "right": null,
      "top": null,
      "visibility": null,
      "width": null
     }
    },
    "3cd0a944efe94753b67118d1a89967d0": {
     "model_module": "@jupyter-widgets/controls",
     "model_name": "HTMLModel",
     "state": {
      "_dom_classes": [],
      "_model_module": "@jupyter-widgets/controls",
      "_model_module_version": "1.5.0",
      "_model_name": "HTMLModel",
      "_view_count": null,
      "_view_module": "@jupyter-widgets/controls",
      "_view_module_version": "1.5.0",
      "_view_name": "HTMLView",
      "description": "",
      "description_tooltip": null,
      "layout": "IPY_MODEL_7854e9d2796c4ca6b5d2297d5505162b",
      "placeholder": "​",
      "style": "IPY_MODEL_0647e36f289444f6917132fe8338eabe",
      "value": " 625/625 [00:00&lt;00:00, 774B/s]"
     }
    },
    "3dcb64b96cb34d3e95b8a1c4c9b26fa0": {
     "model_module": "@jupyter-widgets/base",
     "model_name": "LayoutModel",
     "state": {
      "_model_module": "@jupyter-widgets/base",
      "_model_module_version": "1.2.0",
      "_model_name": "LayoutModel",
      "_view_count": null,
      "_view_module": "@jupyter-widgets/base",
      "_view_module_version": "1.2.0",
      "_view_name": "LayoutView",
      "align_content": null,
      "align_items": null,
      "align_self": null,
      "border": null,
      "bottom": null,
      "display": null,
      "flex": null,
      "flex_flow": null,
      "grid_area": null,
      "grid_auto_columns": null,
      "grid_auto_flow": null,
      "grid_auto_rows": null,
      "grid_column": null,
      "grid_gap": null,
      "grid_row": null,
      "grid_template_areas": null,
      "grid_template_columns": null,
      "grid_template_rows": null,
      "height": null,
      "justify_content": null,
      "justify_items": null,
      "left": null,
      "margin": null,
      "max_height": null,
      "max_width": null,
      "min_height": null,
      "min_width": null,
      "object_fit": null,
      "object_position": null,
      "order": null,
      "overflow": null,
      "overflow_x": null,
      "overflow_y": null,
      "padding": null,
      "right": null,
      "top": null,
      "visibility": null,
      "width": null
     }
    },
    "3f1682bf08b14d53b55d793c4a074dac": {
     "model_module": "@jupyter-widgets/base",
     "model_name": "LayoutModel",
     "state": {
      "_model_module": "@jupyter-widgets/base",
      "_model_module_version": "1.2.0",
      "_model_name": "LayoutModel",
      "_view_count": null,
      "_view_module": "@jupyter-widgets/base",
      "_view_module_version": "1.2.0",
      "_view_name": "LayoutView",
      "align_content": null,
      "align_items": null,
      "align_self": null,
      "border": null,
      "bottom": null,
      "display": null,
      "flex": null,
      "flex_flow": null,
      "grid_area": null,
      "grid_auto_columns": null,
      "grid_auto_flow": null,
      "grid_auto_rows": null,
      "grid_column": null,
      "grid_gap": null,
      "grid_row": null,
      "grid_template_areas": null,
      "grid_template_columns": null,
      "grid_template_rows": null,
      "height": null,
      "justify_content": null,
      "justify_items": null,
      "left": null,
      "margin": null,
      "max_height": null,
      "max_width": null,
      "min_height": null,
      "min_width": null,
      "object_fit": null,
      "object_position": null,
      "order": null,
      "overflow": null,
      "overflow_x": null,
      "overflow_y": null,
      "padding": null,
      "right": null,
      "top": null,
      "visibility": null,
      "width": null
     }
    },
    "4d1c6319e79a44f5b3d6e2d6baa53466": {
     "model_module": "@jupyter-widgets/controls",
     "model_name": "FloatProgressModel",
     "state": {
      "_dom_classes": [],
      "_model_module": "@jupyter-widgets/controls",
      "_model_module_version": "1.5.0",
      "_model_name": "FloatProgressModel",
      "_view_count": null,
      "_view_module": "@jupyter-widgets/controls",
      "_view_module_version": "1.5.0",
      "_view_name": "ProgressView",
      "bar_style": "success",
      "description": "Downloading: 100%",
      "description_tooltip": null,
      "layout": "IPY_MODEL_3f1682bf08b14d53b55d793c4a074dac",
      "max": 625,
      "min": 0,
      "orientation": "horizontal",
      "style": "IPY_MODEL_729a9170a5af4d7886650887cb81e6bd",
      "value": 625
     }
    },
    "4f55adaac8dc4efc91b9289185c05a20": {
     "model_module": "@jupyter-widgets/controls",
     "model_name": "HBoxModel",
     "state": {
      "_dom_classes": [],
      "_model_module": "@jupyter-widgets/controls",
      "_model_module_version": "1.5.0",
      "_model_name": "HBoxModel",
      "_view_count": null,
      "_view_module": "@jupyter-widgets/controls",
      "_view_module_version": "1.5.0",
      "_view_name": "HBoxView",
      "box_style": "",
      "children": [
       "IPY_MODEL_6a75a33311b6469ca34a27a89d3fbaa6",
       "IPY_MODEL_1a7790b684d74e279bc46965ae9e909d"
      ],
      "layout": "IPY_MODEL_2dd435234dc64b71a3dda0366e32e129"
     }
    },
    "61172699f1bb40119f3d1214c34e08e2": {
     "model_module": "@jupyter-widgets/base",
     "model_name": "LayoutModel",
     "state": {
      "_model_module": "@jupyter-widgets/base",
      "_model_module_version": "1.2.0",
      "_model_name": "LayoutModel",
      "_view_count": null,
      "_view_module": "@jupyter-widgets/base",
      "_view_module_version": "1.2.0",
      "_view_name": "LayoutView",
      "align_content": null,
      "align_items": null,
      "align_self": null,
      "border": null,
      "bottom": null,
      "display": null,
      "flex": null,
      "flex_flow": null,
      "grid_area": null,
      "grid_auto_columns": null,
      "grid_auto_flow": null,
      "grid_auto_rows": null,
      "grid_column": null,
      "grid_gap": null,
      "grid_row": null,
      "grid_template_areas": null,
      "grid_template_columns": null,
      "grid_template_rows": null,
      "height": null,
      "justify_content": null,
      "justify_items": null,
      "left": null,
      "margin": null,
      "max_height": null,
      "max_width": null,
      "min_height": null,
      "min_width": null,
      "object_fit": null,
      "object_position": null,
      "order": null,
      "overflow": null,
      "overflow_x": null,
      "overflow_y": null,
      "padding": null,
      "right": null,
      "top": null,
      "visibility": null,
      "width": null
     }
    },
    "6a75a33311b6469ca34a27a89d3fbaa6": {
     "model_module": "@jupyter-widgets/controls",
     "model_name": "FloatProgressModel",
     "state": {
      "_dom_classes": [],
      "_model_module": "@jupyter-widgets/controls",
      "_model_module_version": "1.5.0",
      "_model_name": "FloatProgressModel",
      "_view_count": null,
      "_view_module": "@jupyter-widgets/controls",
      "_view_module_version": "1.5.0",
      "_view_name": "ProgressView",
      "bar_style": "success",
      "description": "Downloading: 100%",
      "description_tooltip": null,
      "layout": "IPY_MODEL_b5d39339b08a49448602362bec19901c",
      "max": 995526,
      "min": 0,
      "orientation": "horizontal",
      "style": "IPY_MODEL_1ce18025aeb2496798d85200067e57f5",
      "value": 995526
     }
    },
    "729a9170a5af4d7886650887cb81e6bd": {
     "model_module": "@jupyter-widgets/controls",
     "model_name": "ProgressStyleModel",
     "state": {
      "_model_module": "@jupyter-widgets/controls",
      "_model_module_version": "1.5.0",
      "_model_name": "ProgressStyleModel",
      "_view_count": null,
      "_view_module": "@jupyter-widgets/base",
      "_view_module_version": "1.2.0",
      "_view_name": "StyleView",
      "bar_color": null,
      "description_width": "initial"
     }
    },
    "7854e9d2796c4ca6b5d2297d5505162b": {
     "model_module": "@jupyter-widgets/base",
     "model_name": "LayoutModel",
     "state": {
      "_model_module": "@jupyter-widgets/base",
      "_model_module_version": "1.2.0",
      "_model_name": "LayoutModel",
      "_view_count": null,
      "_view_module": "@jupyter-widgets/base",
      "_view_module_version": "1.2.0",
      "_view_name": "LayoutView",
      "align_content": null,
      "align_items": null,
      "align_self": null,
      "border": null,
      "bottom": null,
      "display": null,
      "flex": null,
      "flex_flow": null,
      "grid_area": null,
      "grid_auto_columns": null,
      "grid_auto_flow": null,
      "grid_auto_rows": null,
      "grid_column": null,
      "grid_gap": null,
      "grid_row": null,
      "grid_template_areas": null,
      "grid_template_columns": null,
      "grid_template_rows": null,
      "height": null,
      "justify_content": null,
      "justify_items": null,
      "left": null,
      "margin": null,
      "max_height": null,
      "max_width": null,
      "min_height": null,
      "min_width": null,
      "object_fit": null,
      "object_position": null,
      "order": null,
      "overflow": null,
      "overflow_x": null,
      "overflow_y": null,
      "padding": null,
      "right": null,
      "top": null,
      "visibility": null,
      "width": null
     }
    },
    "95535b3222fe43ceb4caec80ef6a3602": {
     "model_module": "@jupyter-widgets/controls",
     "model_name": "HBoxModel",
     "state": {
      "_dom_classes": [],
      "_model_module": "@jupyter-widgets/controls",
      "_model_module_version": "1.5.0",
      "_model_name": "HBoxModel",
      "_view_count": null,
      "_view_module": "@jupyter-widgets/controls",
      "_view_module_version": "1.5.0",
      "_view_name": "HBoxView",
      "box_style": "",
      "children": [
       "IPY_MODEL_4d1c6319e79a44f5b3d6e2d6baa53466",
       "IPY_MODEL_3cd0a944efe94753b67118d1a89967d0"
      ],
      "layout": "IPY_MODEL_3dcb64b96cb34d3e95b8a1c4c9b26fa0"
     }
    },
    "a6b481ec773a4a65bb9183656c2c0c3d": {
     "model_module": "@jupyter-widgets/controls",
     "model_name": "DescriptionStyleModel",
     "state": {
      "_model_module": "@jupyter-widgets/controls",
      "_model_module_version": "1.5.0",
      "_model_name": "DescriptionStyleModel",
      "_view_count": null,
      "_view_module": "@jupyter-widgets/base",
      "_view_module_version": "1.2.0",
      "_view_name": "StyleView",
      "description_width": ""
     }
    },
    "b5d39339b08a49448602362bec19901c": {
     "model_module": "@jupyter-widgets/base",
     "model_name": "LayoutModel",
     "state": {
      "_model_module": "@jupyter-widgets/base",
      "_model_module_version": "1.2.0",
      "_model_name": "LayoutModel",
      "_view_count": null,
      "_view_module": "@jupyter-widgets/base",
      "_view_module_version": "1.2.0",
      "_view_name": "LayoutView",
      "align_content": null,
      "align_items": null,
      "align_self": null,
      "border": null,
      "bottom": null,
      "display": null,
      "flex": null,
      "flex_flow": null,
      "grid_area": null,
      "grid_auto_columns": null,
      "grid_auto_flow": null,
      "grid_auto_rows": null,
      "grid_column": null,
      "grid_gap": null,
      "grid_row": null,
      "grid_template_areas": null,
      "grid_template_columns": null,
      "grid_template_rows": null,
      "height": null,
      "justify_content": null,
      "justify_items": null,
      "left": null,
      "margin": null,
      "max_height": null,
      "max_width": null,
      "min_height": null,
      "min_width": null,
      "object_fit": null,
      "object_position": null,
      "order": null,
      "overflow": null,
      "overflow_x": null,
      "overflow_y": null,
      "padding": null,
      "right": null,
      "top": null,
      "visibility": null,
      "width": null
     }
    }
   }
  }
 },
 "nbformat": 4,
 "nbformat_minor": 1
}
