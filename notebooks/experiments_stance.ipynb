{
 "cells": [
  {
   "cell_type": "code",
   "execution_count": 1,
   "metadata": {
    "colab": {
     "base_uri": "https://localhost:8080/"
    },
    "id": "9kCb0aehNFZC",
    "outputId": "8627e2bd-399e-4c15-9597-feb45543fe79"
   },
   "outputs": [],
   "source": [
    "#from google.colab import files, drive\n",
    "#drive.mount('/content/drive')"
   ]
  },
  {
   "cell_type": "code",
   "execution_count": 2,
   "metadata": {
    "colab": {
     "base_uri": "https://localhost:8080/"
    },
    "id": "X0uJnM60PPXU",
    "outputId": "79555811-4d47-4c01-bf77-88b05972919a"
   },
   "outputs": [],
   "source": [
    "#!pip install -r ./drive/MyDrive/Hate_detection/Hinglish_Hate_Detection/requirements.txt"
   ]
  },
  {
   "cell_type": "code",
   "execution_count": 3,
   "metadata": {
    "id": "KWAK8Y7Gk44m"
   },
   "outputs": [],
   "source": [
    "\n",
    "from __future__ import absolute_import\n",
    "\n",
    "import sys\n",
    "import os\n",
    "\n",
    "#sys.path.append('./drive/MyDrive/Hate_detection/Hinglish_Hate_Detection/')\n"
   ]
  },
  {
   "cell_type": "code",
   "execution_count": 4,
   "metadata": {
    "id": "Z1CqQIcXPSkD"
   },
   "outputs": [],
   "source": [
    "#!wandb login"
   ]
  },
  {
   "cell_type": "code",
   "execution_count": 5,
   "metadata": {
    "colab": {
     "base_uri": "https://localhost:8080/"
    },
    "id": "l-IqVp0DPLFa",
    "outputId": "131f1c4d-39b6-4330-e266-185f9b9ed0d6"
   },
   "outputs": [
    {
     "name": "stderr",
     "output_type": "stream",
     "text": [
      "\u001b[34m\u001b[1mwandb\u001b[0m: \u001b[33mWARNING\u001b[0m If you're specifying your api key in code, ensure this code is not shared publically.\n",
      "\u001b[34m\u001b[1mwandb\u001b[0m: \u001b[33mWARNING\u001b[0m Consider setting the WANDB_API_KEY environment variable, or running `wandb login` from the command line.\n",
      "\u001b[34m\u001b[1mwandb\u001b[0m: \u001b[33mWARNING\u001b[0m Calling wandb.login() without arguments from jupyter should prompt you for an api key.\n",
      "\u001b[34m\u001b[1mwandb\u001b[0m: Appending key for api.wandb.ai to your netrc file: /Users/victor/.netrc\n",
      "\u001b[34m\u001b[1mwandb\u001b[0m: \u001b[33mWARNING\u001b[0m Unable to patch tensorflow.keras for use with W&B.  You will not be able to log images unless you set the generator argument of the callback.\n",
      "/Users/victor/anaconda3/lib/python3.7/site-packages/ipykernel_launcher.py:54: FutureWarning: Passing a negative integer is deprecated in version 1.0 and will not be supported in future version. Instead, use None to not limit the column width.\n"
     ]
    }
   ],
   "source": [
    "from __future__ import absolute_import\n",
    "\n",
    "import sys\n",
    "import os\n",
    "\n",
    "import shutil\n",
    "\n",
    "try:\n",
    "    from dotenv import find_dotenv, load_dotenv\n",
    "except:\n",
    "    pass\n",
    "\n",
    "import argparse\n",
    "\n",
    "#try:\n",
    "#    sys.path.append(os.path.join(os.path.dirname(__file__), './drive/MyDrive/Hate_detection/Hinglish_Hate_Detection/'))\n",
    "#except:\n",
    "#    sys.path.append(os.path.join(os.getcwd(), './drive/MyDrive/Hate_detection/Hinglish_Hate_Detection/'))\n",
    "    \n",
    "try:\n",
    "    sys.path.append(os.path.join(os.path.dirname(__file__), '../'))\n",
    "except:\n",
    "    sys.path.append(os.path.join(os.getcwd(), '../'))\n",
    "    \n",
    "import pandas as pd\n",
    "import numpy as np\n",
    "\n",
    "import pickle\n",
    "from collections import Counter\n",
    "from tqdm import tqdm\n",
    "\n",
    "import tensorflow as tf\n",
    "import tensorflow.keras.backend as K\n",
    "#import tensorflow_addons as tfa\n",
    "\n",
    "try:\n",
    "    import wandb\n",
    "    load_dotenv(find_dotenv())\n",
    "    wandb.login(key=os.environ['WANDB_API_KEY'])\n",
    "    from wandb.keras import WandbCallback\n",
    "    _has_wandb = True\n",
    "except:\n",
    "    _has_wandb = False\n",
    "\n",
    "import tokenizers\n",
    "from transformers import TFAutoModel, AutoTokenizer, AutoConfig, BertTokenizer\n",
    "\n",
    "from sklearn.model_selection import train_test_split, KFold\n",
    "from sklearn.metrics import classification_report, f1_score, accuracy_score, confusion_matrix\n",
    "from sklearn.feature_extraction.text import TfidfVectorizer\n",
    "\n",
    "from src import data, models\n",
    "\n",
    "pd.options.display.max_colwidth = -1"
   ]
  },
  {
   "cell_type": "code",
   "execution_count": 6,
   "metadata": {
    "colab": {
     "base_uri": "https://localhost:8080/"
    },
    "id": "BWQ_RjDKPF_9",
    "outputId": "6ef9decf-3eb7-4f09-c9d1-1bcd0131cb97"
   },
   "outputs": [
    {
     "name": "stdout",
     "output_type": "stream",
     "text": [
      "True\n"
     ]
    }
   ],
   "source": [
    "print (_has_wandb)"
   ]
  },
  {
   "cell_type": "code",
   "execution_count": 7,
   "metadata": {
    "id": "jKb2wFKVNFZH"
   },
   "outputs": [],
   "source": [
    "parser = argparse.ArgumentParser(prog='Trainer',conflict_handler='resolve')\n",
    "\n",
    "#parser.add_argument('--train_data', type=str, default='./drive/MyDrive/Hate_detection/Hinglish_Hate_Detection/data/processed/StanceDetection_CodeMixed/data.txt', required=False,\n",
    "#                    help='train data')\n",
    "parser.add_argument('--train_data', type=str, default='../data/processed/StanceDetection_CodeMixed/data.txt', required=False,\n",
    "                    help='train data')\n",
    "\n",
    "parser.add_argument('--val_data', type=str, default=None, required=False,\n",
    "                    help='validation data')\n",
    "parser.add_argument('--test_data', type=str, default=None, required=False,\n",
    "                    help='test data')\n",
    "\n",
    "parser.add_argument('--transformer_model_pretrained_path', type=str, default='bert-base-multilingual-cased', required=False,\n",
    "                    help='transformer model pretrained path or huggingface model name')\n",
    "parser.add_argument('--transformer_config_path', type=str, default='bert-base-multilingual-cased', required=False,\n",
    "                    help='transformer config file path or huggingface model name')\n",
    "parser.add_argument('--transformer_tokenizer_path', type=str, default='bert-base-multilingual-cased', required=False,\n",
    "                    help='transformer tokenizer file path or huggingface model name')\n",
    "\n",
    "parser.add_argument('--max_text_len', type=int, default=30, required=False,\n",
    "                    help='maximum length of text')\n",
    "parser.add_argument('--max_char_len', type=int, default=150, required=False,\n",
    "                    help='maximum length of text')\n",
    "parser.add_argument('--max_word_char_len', type=int, default=20, required=False,\n",
    "                    help='maximum length of text')\n",
    "\n",
    "parser.add_argument('--emb_dim', type=int, default=128, required=False,\n",
    "                    help='maximum length of text')\n",
    "parser.add_argument('--n_layers', type=int, default=2, required=False,\n",
    "                    help='maximum length of text')\n",
    "parser.add_argument('--n_units', type=int, default=128, required=False,\n",
    "                    help='maximum length of text')\n",
    "\n",
    "parser.add_argument('--epochs', type=int, default=500, required=False,\n",
    "                    help='number of epochs')\n",
    "parser.add_argument('--lr', type=float, default=.001, required=False,\n",
    "                    help='learning rate')\n",
    "parser.add_argument('--early_stopping_rounds', type=int, default=50, required=False,\n",
    "                    help='number of epochs for early stopping')\n",
    "parser.add_argument('--lr_schedule_round', type=int, default=30, required=False,\n",
    "                    help='number of epochs for learning rate scheduling')\n",
    "\n",
    "parser.add_argument('--train_batch_size', type=int, default=16, required=False,\n",
    "                    help='train batch size')\n",
    "parser.add_argument('--eval_batch_size', type=int, default=8, required=False,\n",
    "                    help='eval batch size')\n",
    "\n",
    "#parser.add_argument('--model_save_path', type=str, default='./drive/MyDrive/Hate_detection/Hinglish_Hate_Detection/models/stance_detection/', required=False,\n",
    "#                    help='seed')\n",
    "\n",
    "parser.add_argument('--model_save_path', type=str, default='../models/stance_detection/', required=False,\n",
    "                    help='seed')\n",
    "\n",
    "parser.add_argument('--wandb_logging', type=bool, default=True, required=False,\n",
    "                    help='wandb logging needed')\n",
    "\n",
    "parser.add_argument('--seed', type=int, default=42, required=False,\n",
    "                    help='seed')\n",
    "\n",
    "\n",
    "args, _ = parser.parse_known_args()"
   ]
  },
  {
   "cell_type": "code",
   "execution_count": 8,
   "metadata": {
    "id": "mjTSfc1xNFZJ"
   },
   "outputs": [],
   "source": [
    "tf.random.set_seed(args.seed)\n",
    "np.random.seed(args.seed)"
   ]
  },
  {
   "cell_type": "code",
   "execution_count": 9,
   "metadata": {
    "id": "4pBa4QUENFZN"
   },
   "outputs": [],
   "source": [
    "df = pd.read_csv(args.train_data, sep='\\t',header=None,usecols=[0,1])\n",
    "df.columns = ['text','category']\n",
    "df = df.dropna()\n",
    "df = df[df.text != '']\n",
    "\n",
    "kf = KFold(n_splits=5, shuffle=True, random_state=args.seed)\n",
    "for train_index, test_index in kf.split(df.text):\n",
    "    break\n",
    "\n",
    "train_df = df.iloc[train_index]\n",
    "kf2 = KFold(n_splits=2, shuffle=True, random_state=args.seed)\n",
    "for val_index, test_index in kf2.split(df.iloc[test_index].text):\n",
    "    break\n",
    "\n",
    "val_df = df.iloc[val_index]\n",
    "test_df = df.iloc[test_index]"
   ]
  },
  {
   "cell_type": "code",
   "execution_count": 10,
   "metadata": {
    "colab": {
     "base_uri": "https://localhost:8080/"
    },
    "id": "DrfukC0aNFZW",
    "outputId": "60c8e2ca-ee9e-4069-94fe-3ad2c0bda8fd"
   },
   "outputs": [
    {
     "name": "stdout",
     "output_type": "stream",
     "text": [
      "(2836, 2) (354, 2) (355, 2)\n"
     ]
    }
   ],
   "source": [
    "print (train_df.shape, val_df.shape, test_df.shape)"
   ]
  },
  {
   "cell_type": "code",
   "execution_count": 11,
   "metadata": {
    "colab": {
     "base_uri": "https://localhost:8080/",
     "height": 204
    },
    "id": "GWR12E5dNFZZ",
    "outputId": "e9123d03-0b0d-46c7-ae2b-e9f664e22f76"
   },
   "outputs": [
    {
     "data": {
      "text/html": [
       "<div>\n",
       "<style scoped>\n",
       "    .dataframe tbody tr th:only-of-type {\n",
       "        vertical-align: middle;\n",
       "    }\n",
       "\n",
       "    .dataframe tbody tr th {\n",
       "        vertical-align: top;\n",
       "    }\n",
       "\n",
       "    .dataframe thead th {\n",
       "        text-align: right;\n",
       "    }\n",
       "</style>\n",
       "<table border=\"1\" class=\"dataframe\">\n",
       "  <thead>\n",
       "    <tr style=\"text-align: right;\">\n",
       "      <th></th>\n",
       "      <th>text</th>\n",
       "      <th>category</th>\n",
       "    </tr>\n",
       "  </thead>\n",
       "  <tbody>\n",
       "    <tr>\n",
       "      <th>1</th>\n",
       "      <td>@narendramodi sir, aaj kuchh garibo mazdooro kisano ki garibi ki politics karne Wale aapke 500,1000 notebandi k khilaaf hai. Azib halat hai.</td>\n",
       "      <td>NONE</td>\n",
       "    </tr>\n",
       "    <tr>\n",
       "      <th>2</th>\n",
       "      <td>#ByeByeBlackmoney. Notebandi, Ghoosbandi and Nasbandi door kar degi desh ki gandagi.</td>\n",
       "      <td>FAVOR</td>\n",
       "    </tr>\n",
       "    <tr>\n",
       "      <th>3</th>\n",
       "      <td>Jaise notebandi nahi unki nasbandi kardi ho Modiji ne  https://twitter.com/anuraagmuskaan/status/796740961560772609 …</td>\n",
       "      <td>NONE</td>\n",
       "    </tr>\n",
       "    <tr>\n",
       "      <th>4</th>\n",
       "      <td>sir aap to against corruption ke biradri wale ho to modi ka birodh kyo kar rahe ho. Notebandi wale kam ka to samarthan karo.</td>\n",
       "      <td>FAVOR</td>\n",
       "    </tr>\n",
       "    <tr>\n",
       "      <th>5</th>\n",
       "      <td>congres ki nasbandi aur modi ji ki notebandi fark saf he aap gaye japan yaha halak me jan meri nahi mehalo walo ki sir aap great ho</td>\n",
       "      <td>FAVOR</td>\n",
       "    </tr>\n",
       "  </tbody>\n",
       "</table>\n",
       "</div>"
      ],
      "text/plain": [
       "                                                                                                                                           text  \\\n",
       "1  @narendramodi sir, aaj kuchh garibo mazdooro kisano ki garibi ki politics karne Wale aapke 500,1000 notebandi k khilaaf hai. Azib halat hai.   \n",
       "2  #ByeByeBlackmoney. Notebandi, Ghoosbandi and Nasbandi door kar degi desh ki gandagi.                                                           \n",
       "3  Jaise notebandi nahi unki nasbandi kardi ho Modiji ne  https://twitter.com/anuraagmuskaan/status/796740961560772609 …                          \n",
       "4  sir aap to against corruption ke biradri wale ho to modi ka birodh kyo kar rahe ho. Notebandi wale kam ka to samarthan karo.                   \n",
       "5  congres ki nasbandi aur modi ji ki notebandi fark saf he aap gaye japan yaha halak me jan meri nahi mehalo walo ki sir aap great ho            \n",
       "\n",
       "  category  \n",
       "1  NONE     \n",
       "2  FAVOR    \n",
       "3  NONE     \n",
       "4  FAVOR    \n",
       "5  FAVOR    "
      ]
     },
     "execution_count": 11,
     "metadata": {},
     "output_type": "execute_result"
    }
   ],
   "source": [
    "train_df.head(5)"
   ]
  },
  {
   "cell_type": "code",
   "execution_count": 12,
   "metadata": {
    "colab": {
     "base_uri": "https://localhost:8080/"
    },
    "id": "_JFvdZlgPF_9",
    "outputId": "f44f2566-27b7-4ccf-f18f-7139df4e7b82"
   },
   "outputs": [
    {
     "name": "stderr",
     "output_type": "stream",
     "text": [
      "/Users/victor/.local/lib/python3.7/site-packages/pandas/core/generic.py:5165: SettingWithCopyWarning: \n",
      "A value is trying to be set on a copy of a slice from a DataFrame.\n",
      "Try using .loc[row_indexer,col_indexer] = value instead\n",
      "\n",
      "See the caveats in the documentation: https://pandas.pydata.org/pandas-docs/stable/user_guide/indexing.html#returning-a-view-versus-a-copy\n",
      "  self[name] = value\n"
     ]
    }
   ],
   "source": [
    "train_df.text = train_df.text.apply(lambda x: data.preprocessing.clean_tweets(x))\n",
    "val_df.text = val_df.text.apply(lambda x: data.preprocessing.clean_tweets(x))\n",
    "test_df.text = test_df.text.apply(lambda x: data.preprocessing.clean_tweets(x))"
   ]
  },
  {
   "cell_type": "code",
   "execution_count": 13,
   "metadata": {
    "id": "76PsUvCk3rUZ"
   },
   "outputs": [],
   "source": [
    "train_df = train_df[train_df.text != '']\n",
    "val_df = val_df[val_df.text != '']\n",
    "test_df = test_df[test_df.text != '']\n"
   ]
  },
  {
   "cell_type": "code",
   "execution_count": 14,
   "metadata": {
    "colab": {
     "base_uri": "https://localhost:8080/"
    },
    "id": "ecLj6RWuVfdt",
    "outputId": "0e726634-0ffe-4cc6-a0be-c54fafcf9622"
   },
   "outputs": [
    {
     "data": {
      "text/plain": [
       "count    2836.000000\n",
       "mean     97.351904  \n",
       "std      31.787915  \n",
       "min      6.000000   \n",
       "25%      74.000000  \n",
       "50%      101.000000 \n",
       "75%      123.000000 \n",
       "max      218.000000 \n",
       "Name: text, dtype: float64"
      ]
     },
     "execution_count": 14,
     "metadata": {},
     "output_type": "execute_result"
    }
   ],
   "source": [
    "train_df.text.apply(lambda x: len(x)).describe()"
   ]
  },
  {
   "cell_type": "code",
   "execution_count": 15,
   "metadata": {
    "colab": {
     "base_uri": "https://localhost:8080/"
    },
    "id": "6oAyiM1jPF_9",
    "outputId": "221b440f-1c41-4ac2-b111-97310e6d15f8"
   },
   "outputs": [
    {
     "data": {
      "text/plain": [
       "count    2836.000000\n",
       "mean     17.586742  \n",
       "std      6.049405   \n",
       "min      2.000000   \n",
       "25%      13.000000  \n",
       "50%      18.000000  \n",
       "75%      22.000000  \n",
       "max      32.000000  \n",
       "Name: text, dtype: float64"
      ]
     },
     "execution_count": 15,
     "metadata": {},
     "output_type": "execute_result"
    }
   ],
   "source": [
    "train_df.text.apply(lambda x: len(x.split())).describe()"
   ]
  },
  {
   "cell_type": "code",
   "execution_count": 16,
   "metadata": {
    "id": "V7YDv6wZNFZc"
   },
   "outputs": [],
   "source": [
    "model_save_dir = args.model_save_path\n",
    "\n",
    "try:\n",
    "    os.makedirs(model_save_dir)\n",
    "except OSError:\n",
    "    pass"
   ]
  },
  {
   "cell_type": "code",
   "execution_count": 17,
   "metadata": {
    "id": "1UTaK8htN-QO"
   },
   "outputs": [],
   "source": [
    "train_df.category = train_df.category.apply(lambda x: x.upper())\n",
    "val_df.category = val_df.category.apply(lambda x: x.upper())\n",
    "test_df.category = test_df.category.apply(lambda x: x.upper())"
   ]
  },
  {
   "cell_type": "code",
   "execution_count": 18,
   "metadata": {
    "colab": {
     "base_uri": "https://localhost:8080/"
    },
    "id": "T5_NT3X9cuiO",
    "outputId": "f9f9ef9c-b19a-4e68-95cd-5140aa96a4ec"
   },
   "outputs": [
    {
     "data": {
      "text/plain": [
       "NONE       1516\n",
       "FAVOR      795 \n",
       "AGAINST    525 \n",
       "Name: category, dtype: int64"
      ]
     },
     "execution_count": 18,
     "metadata": {},
     "output_type": "execute_result"
    }
   ],
   "source": [
    "train_df.category.value_counts()"
   ]
  },
  {
   "cell_type": "code",
   "execution_count": 19,
   "metadata": {
    "colab": {
     "base_uri": "https://localhost:8080/",
     "height": 35
    },
    "id": "SQFNK1zLdyT7",
    "outputId": "dc8fa1f6-9e9f-4b2a-ff7f-3d82a9d94537"
   },
   "outputs": [
    {
     "data": {
      "text/plain": [
       "'../models/stance_detection/'"
      ]
     },
     "execution_count": 19,
     "metadata": {},
     "output_type": "execute_result"
    }
   ],
   "source": [
    "model_save_dir"
   ]
  },
  {
   "cell_type": "code",
   "execution_count": 20,
   "metadata": {
    "id": "ch7LVidpBNtE"
   },
   "outputs": [],
   "source": [
    "train_df.category, label2idx = data.data_utils.convert_categorical_label_to_int(train_df.category.values, \\\n",
    "                                                         save_path=os.path.join(model_save_dir,'label2idx.pkl'))\n",
    "\n",
    "val_df.category, _ = data.data_utils.convert_categorical_label_to_int(val_df.category.values, \\\n",
    "                                                         save_path=os.path.join(model_save_dir,'label2idx.pkl'))\n",
    "\n",
    "test_df.category, _ = data.data_utils.convert_categorical_label_to_int(test_df.category.values, \\\n",
    "                                                         save_path=os.path.join(model_save_dir,'label2idx.pkl'))"
   ]
  },
  {
   "cell_type": "code",
   "execution_count": 21,
   "metadata": {
    "colab": {
     "base_uri": "https://localhost:8080/",
     "height": 204
    },
    "id": "1o2K5yrlNFZv",
    "outputId": "d1729233-c045-456a-a26e-c84a66a7e5d0"
   },
   "outputs": [
    {
     "data": {
      "text/html": [
       "<div>\n",
       "<style scoped>\n",
       "    .dataframe tbody tr th:only-of-type {\n",
       "        vertical-align: middle;\n",
       "    }\n",
       "\n",
       "    .dataframe tbody tr th {\n",
       "        vertical-align: top;\n",
       "    }\n",
       "\n",
       "    .dataframe thead th {\n",
       "        text-align: right;\n",
       "    }\n",
       "</style>\n",
       "<table border=\"1\" class=\"dataframe\">\n",
       "  <thead>\n",
       "    <tr style=\"text-align: right;\">\n",
       "      <th></th>\n",
       "      <th>text</th>\n",
       "      <th>category</th>\n",
       "    </tr>\n",
       "  </thead>\n",
       "  <tbody>\n",
       "    <tr>\n",
       "      <th>1</th>\n",
       "      <td>sir, aaj kuchh garibo mazdooro kisano ki garibi ki politics karne wale aapke , notebandi k khilaaf hai. azib halat hai.</td>\n",
       "      <td>0</td>\n",
       "    </tr>\n",
       "    <tr>\n",
       "      <th>2</th>\n",
       "      <td>. notebandi, ghoosbandi and nasbandi door kar degi desh ki gandagi.</td>\n",
       "      <td>1</td>\n",
       "    </tr>\n",
       "    <tr>\n",
       "      <th>3</th>\n",
       "      <td>jaise notebandi nahi unki nasbandi kardi ho modiji ne  ://twitter.com/anuraagmuskaan/status/ …</td>\n",
       "      <td>0</td>\n",
       "    </tr>\n",
       "    <tr>\n",
       "      <th>4</th>\n",
       "      <td>sir aap to against corruption ke biradri wale ho to modi ka birodh kyo kar rahe ho. notebandi wale kam ka to samarthan karo.</td>\n",
       "      <td>1</td>\n",
       "    </tr>\n",
       "    <tr>\n",
       "      <th>5</th>\n",
       "      <td>congres ki nasbandi aur modi ji ki notebandi fark saf he aap gaye japan yaha halak me jan meri nahi mehalo walo ki sir aap great ho</td>\n",
       "      <td>1</td>\n",
       "    </tr>\n",
       "  </tbody>\n",
       "</table>\n",
       "</div>"
      ],
      "text/plain": [
       "                                                                                                                                  text  \\\n",
       "1  sir, aaj kuchh garibo mazdooro kisano ki garibi ki politics karne wale aapke , notebandi k khilaaf hai. azib halat hai.               \n",
       "2  . notebandi, ghoosbandi and nasbandi door kar degi desh ki gandagi.                                                                   \n",
       "3  jaise notebandi nahi unki nasbandi kardi ho modiji ne  ://twitter.com/anuraagmuskaan/status/ …                                        \n",
       "4  sir aap to against corruption ke biradri wale ho to modi ka birodh kyo kar rahe ho. notebandi wale kam ka to samarthan karo.          \n",
       "5  congres ki nasbandi aur modi ji ki notebandi fark saf he aap gaye japan yaha halak me jan meri nahi mehalo walo ki sir aap great ho   \n",
       "\n",
       "   category  \n",
       "1  0         \n",
       "2  1         \n",
       "3  0         \n",
       "4  1         \n",
       "5  1         "
      ]
     },
     "execution_count": 21,
     "metadata": {},
     "output_type": "execute_result"
    }
   ],
   "source": [
    "train_df.head(5)"
   ]
  },
  {
   "cell_type": "code",
   "execution_count": 22,
   "metadata": {
    "colab": {
     "base_uri": "https://localhost:8080/"
    },
    "id": "gBiGShWtBRKW",
    "outputId": "facdf67f-70fb-4233-f259-56c1a5da8b57"
   },
   "outputs": [
    {
     "name": "stdout",
     "output_type": "stream",
     "text": [
      "{'NONE': 0, 'FAVOR': 1, 'AGAINST': 2}\n"
     ]
    }
   ],
   "source": [
    "print (label2idx)"
   ]
  },
  {
   "cell_type": "code",
   "execution_count": 23,
   "metadata": {
    "id": "8DPcQeSiBSaV"
   },
   "outputs": [],
   "source": [
    "idx2label = {i:w for (w,i) in label2idx.items()}"
   ]
  },
  {
   "cell_type": "markdown",
   "metadata": {
    "id": "isoI88xCPF_-"
   },
   "source": [
    "### Learn tokenizer"
   ]
  },
  {
   "cell_type": "code",
   "execution_count": 24,
   "metadata": {
    "colab": {
     "base_uri": "https://localhost:8080/",
     "referenced_widgets": [
      "44d61c3421fe472ea5e5d92d84ddb614",
      "898db83fc24946d69b9595550f117cab",
      "0bf5f599417949a2b9147b89d72fd770",
      "c5bcda6520ff4ba9b5ced638e1c0406d",
      "218b46086629405c86d9a1166dc04a57",
      "26f2777800c1479581725eac01ea30cd",
      "84c8c5ace1b24607be28f9440b583db8",
      "d3d9cb3872044170baa565e0e516c543",
      "91cdb12d4a30460baaf0ba50ff7e1632",
      "6b4871f7703044f2820d75568301aadb",
      "6bc0626cede34e03975e8a7a4d2e6cc3",
      "66fa29c00fd34a87b0f86403b013a576",
      "79371eb7624e49dbb1e7270a4e8ad3b3",
      "bb69d07e4ced4b918d36571d2d115877",
      "01dceed4813c43adbba1e387a7a1e698",
      "b0e6514cabfc44e193b04591847ce887"
     ]
    },
    "id": "t4zgghyWPF_-",
    "outputId": "7e63905c-44d4-4240-8dbc-933296ca98af"
   },
   "outputs": [],
   "source": [
    "#data.custom_tokenizers.custom_wp_tokenizer(train_df.text.values, args.model_save_path, args.model_save_path)\n",
    "tokenizer = BertTokenizer.from_pretrained(args.model_save_path)\n",
    "#tokenizer = AutoTokenizer.from_pretrained(args.transformer_tokenizer_path)"
   ]
  },
  {
   "cell_type": "code",
   "execution_count": 25,
   "metadata": {
    "id": "nBWTdHbAPF_-"
   },
   "outputs": [],
   "source": [
    "word_tokenizer = tf.keras.preprocessing.text.Tokenizer(num_words=50000, split=' ',oov_token=1)\n",
    "char_tokenizer = tf.keras.preprocessing.text.Tokenizer(char_level=True, split='',oov_token=1)\n",
    "\n",
    "word_tokenizer.fit_on_texts(train_df.text.values)\n",
    "char_tokenizer.fit_on_texts(train_df.text.values)"
   ]
  },
  {
   "cell_type": "code",
   "execution_count": 26,
   "metadata": {
    "colab": {
     "base_uri": "https://localhost:8080/"
    },
    "id": "GioC_GWuNFZ9",
    "outputId": "6cb2b3d6-6599-4e93-dc6d-05adbb5b5009"
   },
   "outputs": [
    {
     "name": "stderr",
     "output_type": "stream",
     "text": [
      "100%|██████████| 2836/2836 [00:01<00:00, 2579.69it/s]\n",
      "100%|██████████| 2836/2836 [00:01<00:00, 1811.77it/s]\n",
      "100%|██████████| 354/354 [00:00<00:00, 2578.86it/s]\n",
      "100%|██████████| 354/354 [00:00<00:00, 1786.06it/s]\n",
      "100%|██████████| 355/355 [00:00<00:00, 2503.45it/s]\n",
      "100%|██████████| 355/355 [00:00<00:00, 1695.12it/s]\n"
     ]
    },
    {
     "name": "stdout",
     "output_type": "stream",
     "text": [
      "(2836, 150) (2836, 30, 20) (2836, 30) (2836, 150) (2836, 14647) (2836, 3)\n",
      "(354, 150) (354, 30, 20) (354, 30) (354, 150) (354, 14647) (354, 3)\n",
      "(355, 150) (355, 30, 20) (355, 30) (355, 150) (355, 14647) (355, 3)\n"
     ]
    }
   ],
   "source": [
    "transformer_train_inputs, _, _ = data.data_utils.compute_transformer_input_arrays(train_df, 'text', tokenizer, args.max_char_len)\n",
    "\n",
    "word_train_inputs = word_tokenizer.texts_to_sequences(train_df.text.values)\n",
    "word_train_inputs = tf.keras.preprocessing.sequence.pad_sequences(word_train_inputs, maxlen=args.max_text_len)\n",
    "\n",
    "subword_train_inputs = np.asarray([data.data_utils.subword_tokenization(text, char_tokenizer, args.max_text_len, args.max_word_char_len) \\\n",
    "                        for text in tqdm(train_df.text.values)])\n",
    "\n",
    "char_train_inputs = char_tokenizer.texts_to_sequences(train_df.text.values)\n",
    "char_train_inputs = tf.keras.preprocessing.sequence.pad_sequences(char_train_inputs, maxlen=args.max_char_len)\n",
    "\n",
    "train_outputs = data.data_utils.compute_output_arrays(train_df, 'category')\n",
    "\n",
    "transformer_val_inputs, _, _ = data.data_utils.compute_transformer_input_arrays(val_df, 'text', tokenizer, args.max_char_len)\n",
    "\n",
    "word_val_inputs = word_tokenizer.texts_to_sequences(val_df.text.values)\n",
    "word_val_inputs = tf.keras.preprocessing.sequence.pad_sequences(word_val_inputs, maxlen=args.max_text_len)\n",
    "\n",
    "subword_val_inputs = np.asarray([data.data_utils.subword_tokenization(text, char_tokenizer, args.max_text_len, args.max_word_char_len) \\\n",
    "                        for text in tqdm(val_df.text.values)])\n",
    "\n",
    "char_val_inputs = char_tokenizer.texts_to_sequences(val_df.text.values)\n",
    "char_val_inputs = tf.keras.preprocessing.sequence.pad_sequences(char_val_inputs, maxlen=args.max_char_len)\n",
    "\n",
    "val_outputs = data.data_utils.compute_output_arrays(val_df, 'category')\n",
    "\n",
    "transformer_test_inputs, _, _ = data.data_utils.compute_transformer_input_arrays(test_df, 'text', tokenizer, args.max_char_len)\n",
    "\n",
    "word_test_inputs = word_tokenizer.texts_to_sequences(test_df.text.values)\n",
    "word_test_inputs = tf.keras.preprocessing.sequence.pad_sequences(word_test_inputs, maxlen=args.max_text_len)\n",
    "\n",
    "subword_test_inputs = np.asarray([data.data_utils.subword_tokenization(text, char_tokenizer, args.max_text_len, args.max_word_char_len) \\\n",
    "                        for text in tqdm(test_df.text.values)])\n",
    "\n",
    "char_test_inputs = char_tokenizer.texts_to_sequences(test_df.text.values)\n",
    "char_test_inputs = tf.keras.preprocessing.sequence.pad_sequences(char_test_inputs, maxlen=args.max_char_len)\n",
    "\n",
    "test_outputs = data.data_utils.compute_output_arrays(test_df, 'category')\n",
    "\n",
    "train_outputs = tf.keras.utils.to_categorical(train_outputs, \\\n",
    "                                                    num_classes=train_df.category.nunique())\n",
    "val_outputs = tf.keras.utils.to_categorical(val_outputs, \\\n",
    "                                                    num_classes=train_df.category.nunique())\n",
    "test_outputs = tf.keras.utils.to_categorical(test_outputs, \\\n",
    "                                                    num_classes=train_df.category.nunique())\n",
    "\n",
    "tfidf1 = TfidfVectorizer(stop_words='english',ngram_range=(1,3), max_df=.6,min_df=2)\n",
    "tfidf2 = TfidfVectorizer(analyzer='char_wb',ngram_range=(1,3), max_df=.6,min_df=2)\n",
    "\n",
    "tfidf1.fit(train_df.text)\n",
    "tfidf2.fit(train_df.text)\n",
    "\n",
    "train_tfidf = np.hstack([tfidf1.transform(train_df.text).toarray(),tfidf2.transform(train_df.text).toarray()])\n",
    "val_tfidf = np.hstack([tfidf1.transform(val_df.text).toarray(),tfidf2.transform(val_df.text).toarray()])\n",
    "test_tfidf = np.hstack([tfidf1.transform(test_df.text).toarray(),tfidf2.transform(test_df.text).toarray()])\n",
    "\n",
    "\n",
    "print (transformer_train_inputs.shape, subword_train_inputs.shape, word_train_inputs.shape, char_train_inputs.shape, \\\n",
    "       train_tfidf.shape, train_outputs.shape)\n",
    "print (transformer_val_inputs.shape, subword_val_inputs.shape, word_val_inputs.shape, char_val_inputs.shape, \\\n",
    "       val_tfidf.shape, val_outputs.shape)\n",
    "print (transformer_test_inputs.shape, subword_test_inputs.shape, word_test_inputs.shape, char_test_inputs.shape, \\\n",
    "       test_tfidf.shape, test_outputs.shape)\n"
   ]
  },
  {
   "cell_type": "markdown",
   "metadata": {
    "id": "5gSp7NirPF_-"
   },
   "source": [
    "### Modeling"
   ]
  },
  {
   "cell_type": "code",
   "execution_count": 27,
   "metadata": {
    "id": "O8cHPep9PF_-"
   },
   "outputs": [],
   "source": [
    "n_words = len(word_tokenizer.word_index)+1\n",
    "n_chars = len(char_tokenizer.word_index)+1\n",
    "n_subwords = tokenizer.vocab_size\n",
    "tfidf_shape = train_tfidf.shape[1]\n",
    "n_out = train_df.category.nunique()"
   ]
  },
  {
   "cell_type": "code",
   "execution_count": 28,
   "metadata": {},
   "outputs": [
    {
     "data": {
      "text/plain": [
       "3745"
      ]
     },
     "execution_count": 28,
     "metadata": {},
     "output_type": "execute_result"
    }
   ],
   "source": [
    "n_subwords"
   ]
  },
  {
   "cell_type": "code",
   "execution_count": 29,
   "metadata": {
    "id": "RHYdrtMGlDe7"
   },
   "outputs": [
    {
     "name": "stdout",
     "output_type": "stream",
     "text": [
      "Model: \"model\"\n",
      "__________________________________________________________________________________________________\n",
      "Layer (type)                    Output Shape         Param #     Connected to                     \n",
      "==================================================================================================\n",
      "input_1 (InputLayer)            [(None, 30)]         0                                            \n",
      "__________________________________________________________________________________________________\n",
      "embedding (Embedding)           (None, 30, 128)      1066496     input_1[0][0]                    \n",
      "__________________________________________________________________________________________________\n",
      "bidirectional (Bidirectional)   (None, 30, 256)      263168      embedding[0][0]                  \n",
      "__________________________________________________________________________________________________\n",
      "bidirectional_1 (Bidirectional) (None, 256)          394240      bidirectional[0][0]              \n",
      "__________________________________________________________________________________________________\n",
      "input_5 (InputLayer)            [(None, 14647)]      0                                            \n",
      "__________________________________________________________________________________________________\n",
      "concatenate (Concatenate)       (None, 14903)        0           bidirectional_1[0][0]            \n",
      "                                                                 input_5[0][0]                    \n",
      "__________________________________________________________________________________________________\n",
      "dense (Dense)                   (None, 128)          1907712     concatenate[0][0]                \n",
      "__________________________________________________________________________________________________\n",
      "dropout (Dropout)               (None, 128)          0           dense[0][0]                      \n",
      "__________________________________________________________________________________________________\n",
      "input_2 (InputLayer)            [(None, 150)]        0                                            \n",
      "__________________________________________________________________________________________________\n",
      "input_3 (InputLayer)            [(None, 30, 20)]     0                                            \n",
      "__________________________________________________________________________________________________\n",
      "input_4 (InputLayer)            [(None, 150)]        0                                            \n",
      "__________________________________________________________________________________________________\n",
      "dense_1 (Dense)                 (None, 3)            387         dropout[0][0]                    \n",
      "==================================================================================================\n",
      "Total params: 3,632,003\n",
      "Trainable params: 3,632,003\n",
      "Non-trainable params: 0\n",
      "__________________________________________________________________________________________________\n",
      "WLSTM None\n",
      "Model: \"model_2\"\n",
      "__________________________________________________________________________________________________\n",
      "Layer (type)                    Output Shape         Param #     Connected to                     \n",
      "==================================================================================================\n",
      "input_9 (InputLayer)            [(None, 30, 20)]     0                                            \n",
      "__________________________________________________________________________________________________\n",
      "time_distributed_1 (TimeDistrib (None, 30, 128)      715008      input_9[0][0]                    \n",
      "__________________________________________________________________________________________________\n",
      "bidirectional_4 (Bidirectional) (None, 30, 256)      263168      time_distributed_1[0][0]         \n",
      "__________________________________________________________________________________________________\n",
      "bidirectional_5 (Bidirectional) (None, 30, 256)      394240      bidirectional_4[0][0]            \n",
      "__________________________________________________________________________________________________\n",
      "time_distributed_2 (TimeDistrib (None, 30, 128)      32896       bidirectional_5[0][0]            \n",
      "__________________________________________________________________________________________________\n",
      "word_attention (AttentionWithCo (None, 128)          16640       time_distributed_2[0][0]         \n",
      "__________________________________________________________________________________________________\n",
      "input_11 (InputLayer)           [(None, 14647)]      0                                            \n",
      "__________________________________________________________________________________________________\n",
      "concatenate_1 (Concatenate)     (None, 14775)        0           word_attention[0][0]             \n",
      "                                                                 input_11[0][0]                   \n",
      "__________________________________________________________________________________________________\n",
      "dense_4 (Dense)                 (None, 128)          1891328     concatenate_1[0][0]              \n",
      "__________________________________________________________________________________________________\n",
      "dropout_1 (Dropout)             (None, 128)          0           dense_4[0][0]                    \n",
      "__________________________________________________________________________________________________\n",
      "input_7 (InputLayer)            [(None, 30)]         0                                            \n",
      "__________________________________________________________________________________________________\n",
      "input_8 (InputLayer)            [(None, 150)]        0                                            \n",
      "__________________________________________________________________________________________________\n",
      "input_10 (InputLayer)           [(None, 150)]        0                                            \n",
      "__________________________________________________________________________________________________\n",
      "dense_5 (Dense)                 (None, 3)            387         dropout_1[0][0]                  \n",
      "==================================================================================================\n",
      "Total params: 3,313,667\n",
      "Trainable params: 3,313,667\n",
      "Non-trainable params: 0\n",
      "__________________________________________________________________________________________________\n",
      "HAN None\n",
      "Model: \"model_3\"\n",
      "__________________________________________________________________________________________________\n",
      "Layer (type)                    Output Shape         Param #     Connected to                     \n",
      "==================================================================================================\n",
      "input_14 (InputLayer)           [(None, 30, 20)]     0                                            \n",
      "__________________________________________________________________________________________________\n",
      "embedding_2 (Embedding)         (None, 30, 20, 128)  8064        input_14[0][0]                   \n",
      "__________________________________________________________________________________________________\n",
      "time_distributed_3 (TimeDistrib (None, 30, 20, 128)  32896       embedding_2[0][0]                \n",
      "__________________________________________________________________________________________________\n",
      "position_embedding (PositionEmb (None, 128)          2560        input_14[0][0]                   \n",
      "__________________________________________________________________________________________________\n",
      "time_distributed_5 (TimeDistrib (None, 30, 20, 128)  49280       embedding_2[0][0]                \n",
      "__________________________________________________________________________________________________\n",
      "position_embedding_1 (PositionE (None, 128)          2560        input_14[0][0]                   \n",
      "__________________________________________________________________________________________________\n",
      "tf.__operators__.add (TFOpLambd (None, 30, 20, 128)  0           time_distributed_3[0][0]         \n",
      "                                                                 position_embedding[0][0]         \n",
      "__________________________________________________________________________________________________\n",
      "tf.__operators__.add_1 (TFOpLam (None, 30, 20, 128)  0           time_distributed_5[0][0]         \n",
      "                                                                 position_embedding_1[0][0]       \n",
      "__________________________________________________________________________________________________\n",
      "concatenate_2 (Concatenate)     (None, 30, 20, 256)  0           time_distributed_3[0][0]         \n",
      "                                                                 tf.__operators__.add[0][0]       \n",
      "__________________________________________________________________________________________________\n",
      "concatenate_3 (Concatenate)     (None, 30, 20, 256)  0           time_distributed_5[0][0]         \n",
      "                                                                 tf.__operators__.add_1[0][0]     \n",
      "__________________________________________________________________________________________________\n",
      "time_distributed_4 (TimeDistrib (None, 30, 20, 256)  263168      concatenate_2[0][0]              \n",
      "__________________________________________________________________________________________________\n",
      "time_distributed_6 (TimeDistrib (None, 30, 20, 256)  263168      concatenate_3[0][0]              \n",
      "__________________________________________________________________________________________________\n",
      "concatenate_4 (Concatenate)     (None, 30, 20, 512)  0           time_distributed_4[0][0]         \n",
      "                                                                 time_distributed_6[0][0]         \n",
      "__________________________________________________________________________________________________\n",
      "time_distributed_7 (TimeDistrib (None, 30, 512)      263168      concatenate_4[0][0]              \n",
      "__________________________________________________________________________________________________\n",
      "input_12 (InputLayer)           [(None, 30)]         0                                            \n",
      "__________________________________________________________________________________________________\n",
      "dense_14 (Dense)                (None, 30, 128)      65664       time_distributed_7[0][0]         \n",
      "__________________________________________________________________________________________________\n",
      "embedding_5 (Embedding)         (None, 30, 128)      1066496     input_12[0][0]                   \n",
      "__________________________________________________________________________________________________\n",
      "tf.__operators__.add_2 (TFOpLam (None, 30, 128)      0           dense_14[0][0]                   \n",
      "                                                                 embedding_5[0][0]                \n",
      "__________________________________________________________________________________________________\n",
      "bidirectional_6 (Bidirectional) (None, 30, 256)      263168      tf.__operators__.add_2[0][0]     \n",
      "__________________________________________________________________________________________________\n",
      "bidirectional_7 (Bidirectional) (None, 256)          394240      bidirectional_6[0][0]            \n",
      "__________________________________________________________________________________________________\n",
      "input_16 (InputLayer)           [(None, 14647)]      0                                            \n",
      "__________________________________________________________________________________________________\n",
      "concatenate_5 (Concatenate)     (None, 14903)        0           bidirectional_7[0][0]            \n",
      "                                                                 input_16[0][0]                   \n",
      "__________________________________________________________________________________________________\n",
      "dense_15 (Dense)                (None, 128)          1907712     concatenate_5[0][0]              \n",
      "__________________________________________________________________________________________________\n",
      "dropout_2 (Dropout)             (None, 128)          0           dense_15[0][0]                   \n",
      "__________________________________________________________________________________________________\n",
      "input_13 (InputLayer)           [(None, 150)]        0                                            \n",
      "__________________________________________________________________________________________________\n",
      "input_15 (InputLayer)           [(None, 150)]        0                                            \n",
      "__________________________________________________________________________________________________\n",
      "dense_16 (Dense)                (None, 3)            387         dropout_2[0][0]                  \n",
      "==================================================================================================\n",
      "Total params: 4,582,531\n",
      "Trainable params: 4,582,531\n",
      "Non-trainable params: 0\n",
      "__________________________________________________________________________________________________\n",
      "CS_ELMO None\n"
     ]
    },
    {
     "name": "stdout",
     "output_type": "stream",
     "text": [
      "Model: \"model_4\"\n",
      "__________________________________________________________________________________________________\n",
      "Layer (type)                    Output Shape         Param #     Connected to                     \n",
      "==================================================================================================\n",
      "input_18 (InputLayer)           [(None, 150)]        0                                            \n",
      "__________________________________________________________________________________________________\n",
      "embedding_6 (Embedding)         (None, 150, 128)     8064        input_18[0][0]                   \n",
      "__________________________________________________________________________________________________\n",
      "conv1d_2 (Conv1D)               (None, 148, 128)     49280       embedding_6[0][0]                \n",
      "__________________________________________________________________________________________________\n",
      "max_pooling1d (MaxPooling1D)    (None, 49, 128)      0           conv1d_2[0][0]                   \n",
      "__________________________________________________________________________________________________\n",
      "bidirectional_8 (Bidirectional) (None, 49, 256)      263168      max_pooling1d[0][0]              \n",
      "__________________________________________________________________________________________________\n",
      "bidirectional_9 (Bidirectional) (None, 256)          394240      bidirectional_8[0][0]            \n",
      "__________________________________________________________________________________________________\n",
      "attention (AttentionWithContext (None, 256)          66048       bidirectional_8[0][0]            \n",
      "__________________________________________________________________________________________________\n",
      "input_21 (InputLayer)           [(None, 14647)]      0                                            \n",
      "__________________________________________________________________________________________________\n",
      "concatenate_6 (Concatenate)     (None, 15159)        0           bidirectional_9[0][0]            \n",
      "                                                                 attention[0][0]                  \n",
      "                                                                 input_21[0][0]                   \n",
      "__________________________________________________________________________________________________\n",
      "dense_17 (Dense)                (None, 128)          1940480     concatenate_6[0][0]              \n",
      "__________________________________________________________________________________________________\n",
      "dropout_3 (Dropout)             (None, 128)          0           dense_17[0][0]                   \n",
      "__________________________________________________________________________________________________\n",
      "dense_18 (Dense)                (None, 64)           8256        dropout_3[0][0]                  \n",
      "__________________________________________________________________________________________________\n",
      "dropout_4 (Dropout)             (None, 64)           0           dense_18[0][0]                   \n",
      "__________________________________________________________________________________________________\n",
      "dense_19 (Dense)                (None, 32)           2080        dropout_4[0][0]                  \n",
      "__________________________________________________________________________________________________\n",
      "dropout_5 (Dropout)             (None, 32)           0           dense_19[0][0]                   \n",
      "__________________________________________________________________________________________________\n",
      "dense_20 (Dense)                (None, 16)           528         dropout_5[0][0]                  \n",
      "__________________________________________________________________________________________________\n",
      "dropout_6 (Dropout)             (None, 16)           0           dense_20[0][0]                   \n",
      "__________________________________________________________________________________________________\n",
      "input_17 (InputLayer)           [(None, 30)]         0                                            \n",
      "__________________________________________________________________________________________________\n",
      "input_19 (InputLayer)           [(None, 30, 20)]     0                                            \n",
      "__________________________________________________________________________________________________\n",
      "input_20 (InputLayer)           [(None, 150)]        0                                            \n",
      "__________________________________________________________________________________________________\n",
      "dense_21 (Dense)                (None, 3)            51          dropout_6[0][0]                  \n",
      "==================================================================================================\n",
      "Total params: 2,732,195\n",
      "Trainable params: 2,732,195\n",
      "Non-trainable params: 0\n",
      "__________________________________________________________________________________________________\n",
      "CMSA None\n",
      "Model: \"model_5\"\n",
      "__________________________________________________________________________________________________\n",
      "Layer (type)                    Output Shape         Param #     Connected to                     \n",
      "==================================================================================================\n",
      "input_25 (InputLayer)           [(None, 150)]        0                                            \n",
      "__________________________________________________________________________________________________\n",
      "tf_bert_model (TFBertModel)     ((None, 150, 768), ( 177853440   input_25[0][0]                   \n",
      "__________________________________________________________________________________________________\n",
      "dropout_44 (Dropout)            (None, 768)          0           tf_bert_model[0][1]              \n",
      "__________________________________________________________________________________________________\n",
      "input_26 (InputLayer)           [(None, 14647)]      0                                            \n",
      "__________________________________________________________________________________________________\n",
      "concatenate_7 (Concatenate)     (None, 15415)        0           dropout_44[0][0]                 \n",
      "                                                                 input_26[0][0]                   \n",
      "__________________________________________________________________________________________________\n",
      "dense_22 (Dense)                (None, 128)          1973248     concatenate_7[0][0]              \n",
      "__________________________________________________________________________________________________\n",
      "dropout_45 (Dropout)            (None, 128)          0           dense_22[0][0]                   \n",
      "__________________________________________________________________________________________________\n",
      "input_22 (InputLayer)           [(None, 30)]         0                                            \n",
      "__________________________________________________________________________________________________\n",
      "input_23 (InputLayer)           [(None, 150)]        0                                            \n",
      "__________________________________________________________________________________________________\n",
      "input_24 (InputLayer)           [(None, 30, 20)]     0                                            \n",
      "__________________________________________________________________________________________________\n",
      "dense_23 (Dense)                (None, 3)            387         dropout_45[0][0]                 \n",
      "==================================================================================================\n",
      "Total params: 179,827,075\n",
      "Trainable params: 179,827,075\n",
      "Non-trainable params: 0\n",
      "__________________________________________________________________________________________________\n",
      "BERT None\n",
      "Model: \"model_6\"\n",
      "__________________________________________________________________________________________________\n",
      "Layer (type)                    Output Shape         Param #     Connected to                     \n",
      "==================================================================================================\n",
      "input_30 (InputLayer)           [(None, 150)]        0                                            \n",
      "__________________________________________________________________________________________________\n",
      "token_and_position_embedding (T (None, 150, 128)     498560      input_30[0][0]                   \n",
      "__________________________________________________________________________________________________\n",
      "transformer_block (TransformerB (None, 150, 128)     99584       token_and_position_embedding[0][0\n",
      "__________________________________________________________________________________________________\n",
      "transformer_block_1 (Transforme (None, 150, 128)     99584       transformer_block[0][0]          \n",
      "__________________________________________________________________________________________________\n",
      "global_average_pooling1d (Globa (None, 128)          0           transformer_block_1[0][0]        \n",
      "__________________________________________________________________________________________________\n",
      "dropout_50 (Dropout)            (None, 128)          0           global_average_pooling1d[0][0]   \n",
      "__________________________________________________________________________________________________\n",
      "input_31 (InputLayer)           [(None, 14647)]      0                                            \n",
      "__________________________________________________________________________________________________\n",
      "concatenate_8 (Concatenate)     (None, 14775)        0           dropout_50[0][0]                 \n",
      "                                                                 input_31[0][0]                   \n",
      "__________________________________________________________________________________________________\n",
      "dense_36 (Dense)                (None, 128)          1891328     concatenate_8[0][0]              \n",
      "__________________________________________________________________________________________________\n",
      "dropout_51 (Dropout)            (None, 128)          0           dense_36[0][0]                   \n",
      "__________________________________________________________________________________________________\n",
      "input_27 (InputLayer)           [(None, 30)]         0                                            \n",
      "__________________________________________________________________________________________________\n",
      "input_28 (InputLayer)           [(None, 150)]        0                                            \n",
      "__________________________________________________________________________________________________\n",
      "input_29 (InputLayer)           [(None, 30, 20)]     0                                            \n",
      "__________________________________________________________________________________________________\n",
      "dense_37 (Dense)                (None, 3)            387         dropout_51[0][0]                 \n",
      "==================================================================================================\n",
      "Total params: 2,589,443\n",
      "Trainable params: 2,589,443\n",
      "Non-trainable params: 0\n",
      "__________________________________________________________________________________________________\n",
      "Transformer None\n"
     ]
    }
   ],
   "source": [
    "from src.models.models import *\n",
    "\n",
    "all_models = {WLSTM.__name__: WLSTM,HAN.__name__: HAN,CS_ELMO.__name__: CS_ELMO,CMSA.__name__: CMSA,\n",
    "                  BERT.__name__: BERT,Transformer.__name__: Transformer}\n",
    "\n",
    "for model_name, model_ in all_models.items():\n",
    "    model = model_(word_vocab_size=n_words,char_vocab_size=n_chars,wpe_vocab_size=n_subwords, vectorizer_shape=tfidf_shape, n_out=n_out,\\\n",
    "                               transformer_model_pretrained_path=args.transformer_model_pretrained_path,max_word_char_len=args.max_word_char_len,\\\n",
    "                                             max_text_len=args.max_text_len, max_char_len=args.max_char_len,\\\n",
    "                                             n_layers=args.n_layers, n_units=args.n_units, emb_dim=args.emb_dim)\n",
    "    print (model_name, model.summary())"
   ]
  },
  {
   "cell_type": "code",
   "execution_count": 30,
   "metadata": {
    "id": "Y1y38uBX47Pe"
   },
   "outputs": [],
   "source": [
    "_has_wandb = False"
   ]
  },
  {
   "cell_type": "code",
   "execution_count": 31,
   "metadata": {},
   "outputs": [],
   "source": [
    "loss = 'ce'\n",
    "model_name = 'Transformer'\n",
    "model1 = Transformer(word_vocab_size=n_words,char_vocab_size=n_chars,wpe_vocab_size=n_subwords, vectorizer_shape=tfidf_shape, n_out=n_out,\\\n",
    "                               transformer_model_pretrained_path=args.transformer_model_pretrained_path,max_word_char_len=args.max_word_char_len,\\\n",
    "                                             max_text_len=args.max_text_len, max_char_len=150,\\\n",
    "                                             n_layers=args.n_layers, n_units=args.n_units, emb_dim=args.emb_dim)\n",
    "model_save_path = os.path.join(args.model_save_path, '{}_{}_with_features.h5'.format(model_name, loss))\n",
    "\n",
    "model1.load_weights(model_save_path)\n",
    "\n",
    "model2 = Transformer(word_vocab_size=n_words,char_vocab_size=n_chars,wpe_vocab_size=n_subwords, vectorizer_shape=None, n_out=n_out,\\\n",
    "                               transformer_model_pretrained_path=args.transformer_model_pretrained_path,max_word_char_len=args.max_word_char_len,\\\n",
    "                                             max_text_len=args.max_text_len, max_char_len=150,\\\n",
    "                                             n_layers=args.n_layers, n_units=args.n_units, emb_dim=args.emb_dim)\n",
    "model_save_path = os.path.join(args.model_save_path, '{}_{}_without_features.h5'.format(model_name, loss))\n",
    "\n",
    "model2.load_weights(model_save_path)\n",
    "\n",
    "t_model = Transformer(word_vocab_size=n_words,char_vocab_size=n_chars,wpe_vocab_size=n_subwords, vectorizer_shape=None, n_out=n_out,\\\n",
    "                               transformer_model_pretrained_path=args.transformer_model_pretrained_path,max_word_char_len=args.max_word_char_len,\\\n",
    "                                             max_text_len=args.max_text_len, max_char_len=args.max_char_len,\\\n",
    "                                             n_layers=args.n_layers, n_units=args.n_units, emb_dim=args.emb_dim)\n",
    "\n",
    "t_model.load_weights(os.path.join(args.model_save_path, 'pseudo_labelling_transformer_model.h5'))"
   ]
  },
  {
   "cell_type": "code",
   "execution_count": 32,
   "metadata": {},
   "outputs": [],
   "source": [
    "loss = 'ce'\n",
    "model_name = 'HAN'\n",
    "model3 = HAN(word_vocab_size=n_words,char_vocab_size=n_chars,wpe_vocab_size=n_subwords, vectorizer_shape=tfidf_shape, n_out=n_out,\\\n",
    "                               transformer_model_pretrained_path=args.transformer_model_pretrained_path,max_word_char_len=args.max_word_char_len,\\\n",
    "                                             max_text_len=args.max_text_len, max_char_len=150,\\\n",
    "                                             n_layers=args.n_layers, n_units=args.n_units, emb_dim=args.emb_dim)\n",
    "model_save_path = os.path.join(args.model_save_path, '{}_{}_with_features.h5'.format(model_name, loss))\n",
    "\n",
    "model3.load_weights(model_save_path)\n",
    "\n",
    "model4 = HAN(word_vocab_size=n_words,char_vocab_size=n_chars,wpe_vocab_size=n_subwords, vectorizer_shape=None, n_out=n_out,\\\n",
    "                               transformer_model_pretrained_path=args.transformer_model_pretrained_path,max_word_char_len=args.max_word_char_len,\\\n",
    "                                             max_text_len=args.max_text_len, max_char_len=150,\\\n",
    "                                             n_layers=args.n_layers, n_units=args.n_units, emb_dim=args.emb_dim)\n",
    "model_save_path = os.path.join(args.model_save_path, '{}_{}_without_features.h5'.format(model_name, loss))\n",
    "\n",
    "model4.load_weights(model_save_path)\n",
    "\n",
    "h_model = HAN(word_vocab_size=n_words,char_vocab_size=n_chars,wpe_vocab_size=n_subwords, vectorizer_shape=None, n_out=n_out,\\\n",
    "                               transformer_model_pretrained_path=args.transformer_model_pretrained_path,max_word_char_len=args.max_word_char_len,\\\n",
    "                                             max_text_len=args.max_text_len, max_char_len=args.max_char_len,\\\n",
    "                                             n_layers=args.n_layers, n_units=args.n_units, emb_dim=args.emb_dim)\n",
    "\n",
    "h_model.load_weights(os.path.join(args.model_save_path, 'pseudo_labelling_transformer.h5'))"
   ]
  },
  {
   "cell_type": "code",
   "execution_count": 33,
   "metadata": {},
   "outputs": [],
   "source": [
    "loss = 'ce'\n",
    "model_name = 'WLSTM'\n",
    "model5 = WLSTM(word_vocab_size=n_words,char_vocab_size=n_chars,wpe_vocab_size=n_subwords, vectorizer_shape=tfidf_shape, n_out=n_out,\\\n",
    "                               transformer_model_pretrained_path=args.transformer_model_pretrained_path,max_word_char_len=args.max_word_char_len,\\\n",
    "                                             max_text_len=args.max_text_len, max_char_len=150,\\\n",
    "                                             n_layers=args.n_layers, n_units=args.n_units, emb_dim=args.emb_dim)\n",
    "model_save_path = os.path.join(args.model_save_path, '{}_{}_with_features.h5'.format(model_name, loss))\n",
    "\n",
    "model5.load_weights(model_save_path)\n",
    "\n",
    "model6 = WLSTM(word_vocab_size=n_words,char_vocab_size=n_chars,wpe_vocab_size=n_subwords, vectorizer_shape=None, n_out=n_out,\\\n",
    "                               transformer_model_pretrained_path=args.transformer_model_pretrained_path,max_word_char_len=args.max_word_char_len,\\\n",
    "                                             max_text_len=args.max_text_len, max_char_len=150,\\\n",
    "                                             n_layers=args.n_layers, n_units=args.n_units, emb_dim=args.emb_dim)\n",
    "model_save_path = os.path.join(args.model_save_path, '{}_{}_without_features.h5'.format(model_name, loss))\n",
    "\n",
    "model6.load_weights(model_save_path)\n",
    "\n",
    "w_model = WLSTM(word_vocab_size=n_words,char_vocab_size=n_chars,wpe_vocab_size=n_subwords, vectorizer_shape=None, n_out=n_out,\\\n",
    "                               transformer_model_pretrained_path=args.transformer_model_pretrained_path,max_word_char_len=args.max_word_char_len,\\\n",
    "                                             max_text_len=args.max_text_len, max_char_len=args.max_char_len,\\\n",
    "                                             n_layers=args.n_layers, n_units=args.n_units, emb_dim=args.emb_dim)\n",
    "\n",
    "w_model.load_weights(os.path.join(args.model_save_path, 'pseudo_labelling_lstm_model.h5'))"
   ]
  },
  {
   "cell_type": "code",
   "execution_count": 34,
   "metadata": {},
   "outputs": [],
   "source": [
    "test_df.category = [idx2label[i] for i in test_df.category]\n",
    "\n",
    "test_pred = model1.predict([word_test_inputs, char_test_inputs, subword_test_inputs, transformer_test_inputs, test_tfidf])\n",
    "\n",
    "test_df['Transformer_pred'] = [idx2label[i] for i in test_pred.argmax(-1)]\n",
    "\n",
    "test_pred = model3.predict([word_test_inputs, char_test_inputs, subword_test_inputs, transformer_test_inputs, test_tfidf])\n",
    "\n",
    "test_df['HAN_pred'] = [idx2label[i] for i in test_pred.argmax(-1)]\n",
    "\n",
    "test_pred = model5.predict([word_test_inputs, char_test_inputs, subword_test_inputs, transformer_test_inputs, test_tfidf])\n",
    "\n",
    "test_df['WLSTM_pred'] = [idx2label[i] for i in test_pred.argmax(-1)]\n"
   ]
  },
  {
   "cell_type": "code",
   "execution_count": 35,
   "metadata": {},
   "outputs": [
    {
     "data": {
      "text/html": [
       "<div>\n",
       "<style scoped>\n",
       "    .dataframe tbody tr th:only-of-type {\n",
       "        vertical-align: middle;\n",
       "    }\n",
       "\n",
       "    .dataframe tbody tr th {\n",
       "        vertical-align: top;\n",
       "    }\n",
       "\n",
       "    .dataframe thead th {\n",
       "        text-align: right;\n",
       "    }\n",
       "</style>\n",
       "<table border=\"1\" class=\"dataframe\">\n",
       "  <thead>\n",
       "    <tr style=\"text-align: right;\">\n",
       "      <th></th>\n",
       "      <th>text</th>\n",
       "      <th>category</th>\n",
       "      <th>Transformer_pred</th>\n",
       "      <th>HAN_pred</th>\n",
       "      <th>WLSTM_pred</th>\n",
       "    </tr>\n",
       "  </thead>\n",
       "  <tbody>\n",
       "    <tr>\n",
       "      <th>0</th>\n",
       "      <td>kejri &amp; rahul : hum is nasbandi ke khilaf hain ye to hitlar shahi hai ..  reporter: sir yeh  hui hai ..aaap nasbandi karwalo</td>\n",
       "      <td>NONE</td>\n",
       "      <td>NONE</td>\n",
       "      <td>NONE</td>\n",
       "      <td>NONE</td>\n",
       "    </tr>\n",
       "    <tr>\n",
       "      <th>2</th>\n",
       "      <td>. notebandi, ghoosbandi and nasbandi door kar degi desh ki gandagi.</td>\n",
       "      <td>FAVOR</td>\n",
       "      <td>FAVOR</td>\n",
       "      <td>FAVOR</td>\n",
       "      <td>FAVOR</td>\n",
       "    </tr>\n",
       "    <tr>\n",
       "      <th>6</th>\n",
       "      <td>kabhi kabhi sher ka shikar karne ke liye bhed (aam janta) ko chara banana padta hai.</td>\n",
       "      <td>FAVOR</td>\n",
       "      <td>FAVOR</td>\n",
       "      <td>FAVOR</td>\n",
       "      <td>FAVOR</td>\n",
       "    </tr>\n",
       "    <tr>\n",
       "      <th>7</th>\n",
       "      <td>neta samajh. nahi pa rahe hai ki notebandi par hindu muslim rajniti kaise kare , ye hi hai sabka sath sabka vikas</td>\n",
       "      <td>NONE</td>\n",
       "      <td>NONE</td>\n",
       "      <td>NONE</td>\n",
       "      <td>NONE</td>\n",
       "    </tr>\n",
       "    <tr>\n",
       "      <th>9</th>\n",
       "      <td>bechare ko cocaine leni hai koi   k note le nahi raha aana hi pada bank    ://twitter.com/cnnnews/status/ …</td>\n",
       "      <td>NONE</td>\n",
       "      <td>NONE</td>\n",
       "      <td>NONE</td>\n",
       "      <td>NONE</td>\n",
       "    </tr>\n",
       "  </tbody>\n",
       "</table>\n",
       "</div>"
      ],
      "text/plain": [
       "                                                                                                                           text  \\\n",
       "0  kejri & rahul : hum is nasbandi ke khilaf hain ye to hitlar shahi hai ..  reporter: sir yeh  hui hai ..aaap nasbandi karwalo   \n",
       "2  . notebandi, ghoosbandi and nasbandi door kar degi desh ki gandagi.                                                            \n",
       "6  kabhi kabhi sher ka shikar karne ke liye bhed (aam janta) ko chara banana padta hai.                                           \n",
       "7  neta samajh. nahi pa rahe hai ki notebandi par hindu muslim rajniti kaise kare , ye hi hai sabka sath sabka vikas              \n",
       "9  bechare ko cocaine leni hai koi   k note le nahi raha aana hi pada bank    ://twitter.com/cnnnews/status/ …                    \n",
       "\n",
       "  category Transformer_pred HAN_pred WLSTM_pred  \n",
       "0  NONE     NONE             NONE     NONE       \n",
       "2  FAVOR    FAVOR            FAVOR    FAVOR      \n",
       "6  FAVOR    FAVOR            FAVOR    FAVOR      \n",
       "7  NONE     NONE             NONE     NONE       \n",
       "9  NONE     NONE             NONE     NONE       "
      ]
     },
     "execution_count": 35,
     "metadata": {},
     "output_type": "execute_result"
    }
   ],
   "source": [
    "test_df.head()"
   ]
  },
  {
   "cell_type": "code",
   "execution_count": 36,
   "metadata": {},
   "outputs": [],
   "source": [
    "import numpy as np\n",
    "\n",
    "\n",
    "def plot_confusion_matrix(cm,\n",
    "                          target_names,\n",
    "                          model_name,\n",
    "                          title='Confusion matrix',\n",
    "                          cmap=None,\n",
    "                          normalize=True):\n",
    "    \"\"\"\n",
    "    given a sklearn confusion matrix (cm), make a nice plot\n",
    "\n",
    "    Arguments\n",
    "    ---------\n",
    "    cm:           confusion matrix from sklearn.metrics.confusion_matrix\n",
    "\n",
    "    target_names: given classification classes such as [0, 1, 2]\n",
    "                  the class names, for example: ['high', 'medium', 'low']\n",
    "\n",
    "    title:        the text to display at the top of the matrix\n",
    "\n",
    "    cmap:         the gradient of the values displayed from matplotlib.pyplot.cm\n",
    "                  see http://matplotlib.org/examples/color/colormaps_reference.html\n",
    "                  plt.get_cmap('jet') or plt.cm.Blues\n",
    "\n",
    "    normalize:    If False, plot the raw numbers\n",
    "                  If True, plot the proportions\n",
    "\n",
    "    Usage\n",
    "    -----\n",
    "    plot_confusion_matrix(cm           = cm,                  # confusion matrix created by\n",
    "                                                              # sklearn.metrics.confusion_matrix\n",
    "                          normalize    = True,                # show proportions\n",
    "                          target_names = y_labels_vals,       # list of names of the classes\n",
    "                          title        = best_estimator_name) # title of graph\n",
    "\n",
    "    Citiation\n",
    "    ---------\n",
    "    http://scikit-learn.org/stable/auto_examples/model_selection/plot_confusion_matrix.html\n",
    "\n",
    "    \"\"\"\n",
    "    import matplotlib.pyplot as plt\n",
    "    import numpy as np\n",
    "    import itertools\n",
    "\n",
    "    accuracy = np.trace(cm) / float(np.sum(cm))\n",
    "    misclass = 1 - accuracy\n",
    "\n",
    "    if cmap is None:\n",
    "        cmap = plt.get_cmap('Blues')\n",
    "\n",
    "    \n",
    "    plt.figure(figsize=(12, 12))\n",
    "    plt.imshow(cm, interpolation='nearest',cmap=cmap) #, \n",
    "    plt.title(title)\n",
    "    #plt.colorbar()\n",
    "\n",
    "    thresh = cm.max() / 1.5 if normalize else cm.max() / 2\n",
    "    #print (thresh)\n",
    "    \n",
    "    if target_names is not None:\n",
    "        tick_marks = np.arange(len(target_names))\n",
    "        plt.xticks(tick_marks, target_names, rotation=45)\n",
    "        plt.yticks(tick_marks, target_names)\n",
    "\n",
    "    if normalize:\n",
    "        cm_ = cm.astype('float') / cm.sum(axis=1)[:, np.newaxis]\n",
    "        cm_ = np.around(cm_, decimals=2)\n",
    "        #print (cm)\n",
    "    else:\n",
    "      cm_ = cm\n",
    "\n",
    "    for i, j in itertools.product(range(cm.shape[0]), range(cm.shape[1])):\n",
    "      if cm_[i, j] > 0:\n",
    "        if normalize:\n",
    "            plt.text(j, i, \"{:0.2f}\".format(round(cm_[i, j],2)),\n",
    "                     horizontalalignment=\"center\",\n",
    "                     color=\"white\" if cm[i, j] > thresh else \"black\")\n",
    "        else:\n",
    "            plt.text(j, i, \"{:,}\".format(cm_[i, j]),\n",
    "                     horizontalalignment=\"center\",\n",
    "                     color=\"white\" if cm[i, j] > thresh else \"black\")\n",
    "\n",
    "\n",
    "    plt.tight_layout()\n",
    "    plt.ylabel('True label')\n",
    "    #plt.xlabel('Predicted label\\naccuracy={:0.4f}; misclass={:0.4f}'.format(accuracy, misclass))\n",
    "    plt.xlabel('Predicted label')\n",
    "    SMALL_SIZE = 25\n",
    "    MEDIUM_SIZE = 20\n",
    "    BIGGER_SIZE = 25\n",
    "\n",
    "    #plt.rcParams[\"font.family\"] = \"Times New Roman\"\n",
    "    plt.rcParams[\"font.size\"] = \"15\"\n",
    "\n",
    "    \n",
    "    #plt.rc('font', size=SMALL_SIZE)          # controls default text sizes\n",
    "    plt.rc('axes', titlesize=SMALL_SIZE)     # fontsize of the axes title\n",
    "    plt.rc('axes', labelsize=MEDIUM_SIZE)    # fontsize of the x and y labels\n",
    "    plt.rc('xtick', labelsize=SMALL_SIZE)    # fontsize of the tick labels\n",
    "    plt.rc('ytick', labelsize=SMALL_SIZE)    # fontsize of the tick labels\n",
    "    plt.rc('legend', fontsize=SMALL_SIZE)    # legend fontsize\n",
    "    plt.rc('figure', titlesize=BIGGER_SIZE)  # fontsize of the figure title\n",
    "    \n",
    "    plt.xlabel(\"\")\n",
    "    plt.ylabel(\"\")\n",
    "    plt.title(\"\")\n",
    "\n",
    "    plt.savefig('../plots/stance_{}.pdf'.format(model_name),dpi=200)\n",
    "    plt.show()\n",
    "    \n",
    "def get_conditional_weights(text, model, class_idx):\n",
    "    all_texts = [\" \".join(text.split()[:i]) for i in range(len(text.split())+1)][1:]\n",
    "    #all_texts = [text]*(len(text.split())+1)\n",
    "    word_train_inputs = word_tokenizer.texts_to_sequences(all_texts)\n",
    "    word_train_inputs = tf.keras.preprocessing.sequence.pad_sequences(word_train_inputs, maxlen=args.max_text_len)\n",
    "\n",
    "    subword_train_inputs = np.asarray([data.data_utils.subword_tokenization(text, char_tokenizer, args.max_text_len, args.max_word_char_len) \\\n",
    "                            for text in all_texts])\n",
    "\n",
    "    char_train_inputs = char_tokenizer.texts_to_sequences(all_texts)\n",
    "    char_train_inputs = tf.keras.preprocessing.sequence.pad_sequences(char_train_inputs, maxlen=args.max_char_len)\n",
    "    \n",
    "    for i in range(len(text.split())):\n",
    "        #subword_train_inputs_ = subword_train_inputs.copy()\n",
    "        subword_train_inputs[i,i,:] = np.array([0]*subword_train_inputs.shape[-1])\n",
    "        \n",
    "    #print (subword_train_inputs[-1])\n",
    "    probs = model.predict([word_train_inputs,char_train_inputs,subword_train_inputs,\\\n",
    "                                      char_train_inputs])\n",
    "    \n",
    "    #print (probs)\n",
    "    #print (all_texts)\n",
    "    \n",
    "    probs_ = probs[-1] - probs\n",
    "    #class_idx = probs.argmax(-1)[-1]\n",
    "    \n",
    "    return probs_[:,class_idx]\n",
    "\n",
    "import html\n",
    "from IPython.core.display import display, HTML\n",
    "\n",
    "def html_escape(text):\n",
    "    return html.escape(text)\n",
    "\n",
    "def gradient_plots(text,weights,max_alpha=.3):\n",
    "    highlighted_text = []\n",
    "\n",
    "    for i, word in enumerate(text.split()):\n",
    "        \n",
    "        if i < args.max_text_len:\n",
    "            weight = weights[i]\n",
    "\n",
    "            if weight is not None:\n",
    "                highlighted_text.append('<span style=\"background-color:rgba(135,206,250,' + str(weight / max_alpha) + ');\">' + html_escape(word) + '</span>')\n",
    "            else:\n",
    "                highlighted_text.append(word)\n",
    "            \n",
    "    highlighted_text = ' '.join(highlighted_text)\n",
    "    \n",
    "    return highlighted_text\n",
    "\n",
    "def plot_attention(attention, sentence,plot_size=12, filename='image.pdf'):\n",
    "    fig = plt.figure(figsize=(plot_size,plot_size))\n",
    "    ax = fig.add_subplot(1, 1, 1)\n",
    "    ax.matshow(attention, cmap='Blues')\n",
    "\n",
    "    fontdict = {'fontsize': 30}\n",
    "\n",
    "    ax.set_xticklabels([''] + sentence, fontdict=fontdict, rotation=45)\n",
    "    ax.set_yticklabels([''] + sentence, fontdict=fontdict)\n",
    "\n",
    "    ax.xaxis.set_major_locator(ticker.MultipleLocator(1))\n",
    "    ax.yaxis.set_major_locator(ticker.MultipleLocator(1))\n",
    "\n",
    "    SMALL_SIZE = 30\n",
    "    MEDIUM_SIZE = 30\n",
    "    BIGGER_SIZE = 30\n",
    "    \n",
    "    #plt.show()\n",
    "    plt.rcParams[\"font.family\"] = 'sans-serif' #\"Times New Roman\"\n",
    "    plt.rcParams[\"font.size\"] = \"25\"\n",
    "\n",
    "    \n",
    "    #plt.rc('font', size=SMALL_SIZE)          # controls default text sizes\n",
    "    plt.rc('axes', titlesize=SMALL_SIZE)     # fontsize of the axes title\n",
    "    plt.rc('axes', labelsize=MEDIUM_SIZE)    # fontsize of the x and y labels\n",
    "    plt.rc('xtick', labelsize=SMALL_SIZE)    # fontsize of the tick labels\n",
    "    plt.rc('ytick', labelsize=SMALL_SIZE)    # fontsize of the tick labels\n",
    "    plt.rc('legend', fontsize=SMALL_SIZE)    # legend fontsize\n",
    "    plt.rc('figure', titlesize=BIGGER_SIZE)  # fontsize of the figure title\n",
    "    \n",
    "    plt.xlabel(\"\")\n",
    "    plt.ylabel(\"\")\n",
    "    plt.title(\"\")\n",
    "    \n",
    "    plt.savefig(filename, dpi=200)"
   ]
  },
  {
   "cell_type": "code",
   "execution_count": 37,
   "metadata": {},
   "outputs": [
    {
     "data": {
      "image/png": "[encoded data removed]",
      "text/plain": [
       "<Figure size 864x864 with 1 Axes>"
      ]
     },
     "metadata": {
      "needs_background": "light"
     },
     "output_type": "display_data"
    }
   ],
   "source": [
    "cm = pd.crosstab(test_df.category, test_df.Transformer_pred)\n",
    "cm = cm[cm.index]\n",
    "cm\n",
    "plot_confusion_matrix(cm           = cm.values, \n",
    "                      normalize    = False,\n",
    "                      target_names = cm.index.to_list(),\n",
    "                      title        = \"Confusion Matrix\",\n",
    "                     model_name='Transformer')"
   ]
  },
  {
   "cell_type": "code",
   "execution_count": 38,
   "metadata": {},
   "outputs": [
    {
     "data": {
      "image/png": "[encoded data removed]",
      "text/plain": [
       "<Figure size 864x864 with 1 Axes>"
      ]
     },
     "metadata": {
      "needs_background": "light"
     },
     "output_type": "display_data"
    }
   ],
   "source": [
    "cm = pd.crosstab(test_df.category, test_df.WLSTM_pred)\n",
    "cm = cm[cm.index]\n",
    "cm\n",
    "plot_confusion_matrix(cm           = cm.values, \n",
    "                      normalize    = False,\n",
    "                      target_names = cm.index.to_list(),\n",
    "                      title        = \"Confusion Matrix\",\n",
    "                     model_name='WLSTM')"
   ]
  },
  {
   "cell_type": "code",
   "execution_count": 39,
   "metadata": {},
   "outputs": [
    {
     "data": {
      "image/png": "[encoded data removed]",
      "text/plain": [
       "<Figure size 864x864 with 1 Axes>"
      ]
     },
     "metadata": {
      "needs_background": "light"
     },
     "output_type": "display_data"
    }
   ],
   "source": [
    "cm = pd.crosstab(test_df.category, test_df.HAN_pred)\n",
    "cm = cm[cm.index]\n",
    "cm\n",
    "plot_confusion_matrix(cm           = cm.values, \n",
    "                      normalize    = False,\n",
    "                      target_names = cm.index.to_list(),\n",
    "                      title        = \"Confusion Matrix\",\n",
    "                     model_name='HAN')"
   ]
  },
  {
   "cell_type": "code",
   "execution_count": 40,
   "metadata": {},
   "outputs": [
    {
     "data": {
      "image/png": "[encoded data removed]",
      "text/plain": [
       "<Figure size 864x864 with 1 Axes>"
      ]
     },
     "metadata": {
      "needs_background": "light"
     },
     "output_type": "display_data"
    },
    {
     "data": {
      "image/png": "[encoded data removed]",
      "text/plain": [
       "<Figure size 864x864 with 1 Axes>"
      ]
     },
     "metadata": {
      "needs_background": "light"
     },
     "output_type": "display_data"
    },
    {
     "data": {
      "image/png": "[encoded data removed]",
      "text/plain": [
       "<Figure size 864x864 with 1 Axes>"
      ]
     },
     "metadata": {
      "needs_background": "light"
     },
     "output_type": "display_data"
    }
   ],
   "source": [
    "test_pred = t_model.predict([word_test_inputs, char_test_inputs, subword_test_inputs, transformer_test_inputs])\n",
    "\n",
    "test_df['Transformer_pred'] = [idx2label[i] for i in test_pred.argmax(-1)]\n",
    "\n",
    "test_pred = h_model.predict([word_test_inputs, char_test_inputs, subword_test_inputs, transformer_test_inputs])\n",
    "\n",
    "test_df['HAN_pred'] = [idx2label[i] for i in test_pred.argmax(-1)]\n",
    "\n",
    "test_pred = w_model.predict([word_test_inputs, char_test_inputs, subword_test_inputs, transformer_test_inputs])\n",
    "\n",
    "test_df['WLSTM_pred'] = [idx2label[i] for i in test_pred.argmax(-1)]\n",
    "\n",
    "cm = pd.crosstab(test_df.category, test_df.Transformer_pred)\n",
    "cm = cm[cm.index]\n",
    "cm\n",
    "plot_confusion_matrix(cm           = cm.values, \n",
    "                      normalize    = False,\n",
    "                      target_names = cm.index.to_list(),\n",
    "                      title        = \"Confusion Matrix\",\n",
    "                     model_name='Transformer_pl')\n",
    "\n",
    "cm = pd.crosstab(test_df.category, test_df.HAN_pred)\n",
    "cm = cm[cm.index]\n",
    "cm\n",
    "plot_confusion_matrix(cm           = cm.values, \n",
    "                      normalize    = False,\n",
    "                      target_names = cm.index.to_list(),\n",
    "                      title        = \"Confusion Matrix\",\n",
    "                     model_name='HAN_pl')\n",
    "\n",
    "cm = pd.crosstab(test_df.category, test_df.WLSTM_pred)\n",
    "cm = cm[cm.index]\n",
    "cm\n",
    "plot_confusion_matrix(cm           = cm.values, \n",
    "                      normalize    = False,\n",
    "                      target_names = cm.index.to_list(),\n",
    "                      title        = \"Confusion Matrix\",\n",
    "                     model_name='WLSTM_pl')\n"
   ]
  },
  {
   "cell_type": "code",
   "execution_count": 41,
   "metadata": {},
   "outputs": [],
   "source": [
    "test_df = test_df.reset_index(drop=True)\n",
    "\n",
    "test_pred = model2.predict([word_test_inputs, char_test_inputs, subword_test_inputs, transformer_test_inputs])\n",
    "\n",
    "test_df['Transformer_pred'] = [idx2label[i] for i in test_pred.argmax(-1)]\n",
    "\n",
    "test_pred = model4.predict([word_test_inputs, char_test_inputs, subword_test_inputs, transformer_test_inputs])\n",
    "\n",
    "test_df['HAN_pred'] = [idx2label[i] for i in test_pred.argmax(-1)]\n",
    "\n",
    "test_pred = model6.predict([word_test_inputs, char_test_inputs, subword_test_inputs, transformer_test_inputs])\n",
    "\n",
    "test_df['WLSTM_pred'] = [idx2label[i] for i in test_pred.argmax(-1)]"
   ]
  },
  {
   "cell_type": "code",
   "execution_count": 42,
   "metadata": {
    "id": "cfGv6DI_PGAB"
   },
   "outputs": [
    {
     "name": "stderr",
     "output_type": "stream",
     "text": [
      "/Users/victor/anaconda3/lib/python3.7/site-packages/ipykernel_launcher.py:1: UserWarning: Boolean Series key will be reindexed to match DataFrame index.\n",
      "  \"\"\"Entry point for launching an IPython kernel.\n"
     ]
    },
    {
     "data": {
      "text/html": [
       "<div>\n",
       "<style scoped>\n",
       "    .dataframe tbody tr th:only-of-type {\n",
       "        vertical-align: middle;\n",
       "    }\n",
       "\n",
       "    .dataframe tbody tr th {\n",
       "        vertical-align: top;\n",
       "    }\n",
       "\n",
       "    .dataframe thead th {\n",
       "        text-align: right;\n",
       "    }\n",
       "</style>\n",
       "<table border=\"1\" class=\"dataframe\">\n",
       "  <thead>\n",
       "    <tr style=\"text-align: right;\">\n",
       "      <th></th>\n",
       "      <th>text</th>\n",
       "      <th>category</th>\n",
       "      <th>Transformer_pred</th>\n",
       "      <th>HAN_pred</th>\n",
       "      <th>WLSTM_pred</th>\n",
       "    </tr>\n",
       "  </thead>\n",
       "  <tbody>\n",
       "    <tr>\n",
       "      <th>8</th>\n",
       "      <td>ye notebandi mujhe lagta hai un sab muddo se dhyan bhatkane ke liye hua hai jahan roj koi na koi shahid.</td>\n",
       "      <td>AGAINST</td>\n",
       "      <td>NONE</td>\n",
       "      <td>AGAINST</td>\n",
       "      <td>AGAINST</td>\n",
       "    </tr>\n",
       "    <tr>\n",
       "      <th>19</th>\n",
       "      <td>notebandi ne to imandaaron ko hasaya par sarkaar ki kuvyavasthaon ne khoon ke aansu rula diye ! dhikkar hai aise nirnay par !</td>\n",
       "      <td>AGAINST</td>\n",
       "      <td>NONE</td>\n",
       "      <td>NONE</td>\n",
       "      <td>AGAINST</td>\n",
       "    </tr>\n",
       "    <tr>\n",
       "      <th>27</th>\n",
       "      <td>neta logon hum aam janta hi apni jan de sakte hai neta sirf halla large hai.notebandi ka logistic view nahi dekha gaya</td>\n",
       "      <td>AGAINST</td>\n",
       "      <td>NONE</td>\n",
       "      <td>AGAINST</td>\n",
       "      <td>AGAINST</td>\n",
       "    </tr>\n",
       "    <tr>\n",
       "      <th>51</th>\n",
       "      <td>pm modi apna notebandi ka faisla wapas lo.... warna soch lena tumhe aur tumhari party ko vote ki ashaye chhod do...</td>\n",
       "      <td>AGAINST</td>\n",
       "      <td>FAVOR</td>\n",
       "      <td>NONE</td>\n",
       "      <td>NONE</td>\n",
       "    </tr>\n",
       "    <tr>\n",
       "      <th>102</th>\n",
       "      <td>are bhia up aur i chanelwa ka to notebandi se pura ka pura businessewa hi charmara gya</td>\n",
       "      <td>AGAINST</td>\n",
       "      <td>NONE</td>\n",
       "      <td>NONE</td>\n",
       "      <td>NONE</td>\n",
       "    </tr>\n",
       "    <tr>\n",
       "      <th>114</th>\n",
       "      <td>notebandi say machi desh mein uthal - puthal ab tak  logo ki hue maut</td>\n",
       "      <td>AGAINST</td>\n",
       "      <td>NONE</td>\n",
       "      <td>FAVOR</td>\n",
       "      <td>NONE</td>\n",
       "    </tr>\n",
       "    <tr>\n",
       "      <th>147</th>\n",
       "      <td>gao dehat ke log apni mehanat se kamai hui jama paise ko bhi kaladhan samajhne lage hai. modi ji ki notebandi farman ke karan.</td>\n",
       "      <td>AGAINST</td>\n",
       "      <td>NONE</td>\n",
       "      <td>FAVOR</td>\n",
       "      <td>FAVOR</td>\n",
       "    </tr>\n",
       "    <tr>\n",
       "      <th>156</th>\n",
       "      <td>yeh woh party hai jo se  pe ajj hai right ape dekhna notebandi ka kya asar hoga . yaha logo ko sukoon chaye didi yeh line nahi ://twitter.com/mrsgandhi/status/ …</td>\n",
       "      <td>AGAINST</td>\n",
       "      <td>NONE</td>\n",
       "      <td>NONE</td>\n",
       "      <td>AGAINST</td>\n",
       "    </tr>\n",
       "    <tr>\n",
       "      <th>229</th>\n",
       "      <td>desh ke janata notebandi se trast modi satta me mast.</td>\n",
       "      <td>AGAINST</td>\n",
       "      <td>NONE</td>\n",
       "      <td>FAVOR</td>\n",
       "      <td>AGAINST</td>\n",
       "    </tr>\n",
       "    <tr>\n",
       "      <th>261</th>\n",
       "      <td>aap  sahi boal raheyen hain .notebandi ki emergency ki pershani ko public kabhi nahi bhuley gee</td>\n",
       "      <td>AGAINST</td>\n",
       "      <td>NONE</td>\n",
       "      <td>AGAINST</td>\n",
       "      <td>AGAINST</td>\n",
       "    </tr>\n",
       "  </tbody>\n",
       "</table>\n",
       "</div>"
      ],
      "text/plain": [
       "                                                                                                                                                                  text  \\\n",
       "8    ye notebandi mujhe lagta hai un sab muddo se dhyan bhatkane ke liye hua hai jahan roj koi na koi shahid.                                                            \n",
       "19   notebandi ne to imandaaron ko hasaya par sarkaar ki kuvyavasthaon ne khoon ke aansu rula diye ! dhikkar hai aise nirnay par !                                       \n",
       "27   neta logon hum aam janta hi apni jan de sakte hai neta sirf halla large hai.notebandi ka logistic view nahi dekha gaya                                              \n",
       "51   pm modi apna notebandi ka faisla wapas lo.... warna soch lena tumhe aur tumhari party ko vote ki ashaye chhod do...                                                 \n",
       "102  are bhia up aur i chanelwa ka to notebandi se pura ka pura businessewa hi charmara gya                                                                              \n",
       "114  notebandi say machi desh mein uthal - puthal ab tak  logo ki hue maut                                                                                               \n",
       "147  gao dehat ke log apni mehanat se kamai hui jama paise ko bhi kaladhan samajhne lage hai. modi ji ki notebandi farman ke karan.                                      \n",
       "156  yeh woh party hai jo se  pe ajj hai right ape dekhna notebandi ka kya asar hoga . yaha logo ko sukoon chaye didi yeh line nahi ://twitter.com/mrsgandhi/status/ …   \n",
       "229  desh ke janata notebandi se trast modi satta me mast.                                                                                                               \n",
       "261  aap  sahi boal raheyen hain .notebandi ki emergency ki pershani ko public kabhi nahi bhuley gee                                                                     \n",
       "\n",
       "    category Transformer_pred HAN_pred WLSTM_pred  \n",
       "8    AGAINST  NONE             AGAINST  AGAINST    \n",
       "19   AGAINST  NONE             NONE     AGAINST    \n",
       "27   AGAINST  NONE             AGAINST  AGAINST    \n",
       "51   AGAINST  FAVOR            NONE     NONE       \n",
       "102  AGAINST  NONE             NONE     NONE       \n",
       "114  AGAINST  NONE             FAVOR    NONE       \n",
       "147  AGAINST  NONE             FAVOR    FAVOR      \n",
       "156  AGAINST  NONE             NONE     AGAINST    \n",
       "229  AGAINST  NONE             FAVOR    AGAINST    \n",
       "261  AGAINST  NONE             AGAINST  AGAINST    "
      ]
     },
     "execution_count": 42,
     "metadata": {},
     "output_type": "execute_result"
    }
   ],
   "source": [
    "test_df[test_df.category == 'AGAINST'][test_df.category != test_df.Transformer_pred].head(10)"
   ]
  },
  {
   "cell_type": "code",
   "execution_count": 43,
   "metadata": {
    "id": "rjqACng3PGAB"
   },
   "outputs": [
    {
     "data": {
      "text/plain": [
       "{'NONE': 0, 'FAVOR': 1, 'AGAINST': 2}"
      ]
     },
     "execution_count": 43,
     "metadata": {},
     "output_type": "execute_result"
    }
   ],
   "source": [
    "label2idx"
   ]
  },
  {
   "cell_type": "code",
   "execution_count": 44,
   "metadata": {},
   "outputs": [
    {
     "data": {
      "text/html": [
       "<div>\n",
       "<style scoped>\n",
       "    .dataframe tbody tr th:only-of-type {\n",
       "        vertical-align: middle;\n",
       "    }\n",
       "\n",
       "    .dataframe tbody tr th {\n",
       "        vertical-align: top;\n",
       "    }\n",
       "\n",
       "    .dataframe thead th {\n",
       "        text-align: right;\n",
       "    }\n",
       "</style>\n",
       "<table border=\"1\" class=\"dataframe\">\n",
       "  <thead>\n",
       "    <tr style=\"text-align: right;\">\n",
       "      <th></th>\n",
       "      <th>text</th>\n",
       "      <th>category</th>\n",
       "      <th>Transformer_pred</th>\n",
       "      <th>HAN_pred</th>\n",
       "      <th>WLSTM_pred</th>\n",
       "    </tr>\n",
       "  </thead>\n",
       "  <tbody>\n",
       "    <tr>\n",
       "      <th>0</th>\n",
       "      <td>kejri &amp; rahul : hum is nasbandi ke khilaf hain ye to hitlar shahi hai ..  reporter: sir yeh  hui hai ..aaap nasbandi karwalo</td>\n",
       "      <td>NONE</td>\n",
       "      <td>NONE</td>\n",
       "      <td>NONE</td>\n",
       "      <td>NONE</td>\n",
       "    </tr>\n",
       "    <tr>\n",
       "      <th>1</th>\n",
       "      <td>. notebandi, ghoosbandi and nasbandi door kar degi desh ki gandagi.</td>\n",
       "      <td>FAVOR</td>\n",
       "      <td>FAVOR</td>\n",
       "      <td>FAVOR</td>\n",
       "      <td>FAVOR</td>\n",
       "    </tr>\n",
       "    <tr>\n",
       "      <th>2</th>\n",
       "      <td>kabhi kabhi sher ka shikar karne ke liye bhed (aam janta) ko chara banana padta hai.</td>\n",
       "      <td>FAVOR</td>\n",
       "      <td>FAVOR</td>\n",
       "      <td>FAVOR</td>\n",
       "      <td>FAVOR</td>\n",
       "    </tr>\n",
       "    <tr>\n",
       "      <th>3</th>\n",
       "      <td>neta samajh. nahi pa rahe hai ki notebandi par hindu muslim rajniti kaise kare , ye hi hai sabka sath sabka vikas</td>\n",
       "      <td>NONE</td>\n",
       "      <td>NONE</td>\n",
       "      <td>FAVOR</td>\n",
       "      <td>NONE</td>\n",
       "    </tr>\n",
       "    <tr>\n",
       "      <th>4</th>\n",
       "      <td>bechare ko cocaine leni hai koi   k note le nahi raha aana hi pada bank    ://twitter.com/cnnnews/status/ …</td>\n",
       "      <td>NONE</td>\n",
       "      <td>NONE</td>\n",
       "      <td>NONE</td>\n",
       "      <td>NONE</td>\n",
       "    </tr>\n",
       "    <tr>\n",
       "      <th>5</th>\n",
       "      <td>ek baar aam aadmi ki life jee kar dekho kitni taklif ka samna krna padta hai</td>\n",
       "      <td>AGAINST</td>\n",
       "      <td>AGAINST</td>\n",
       "      <td>AGAINST</td>\n",
       "      <td>AGAINST</td>\n",
       "    </tr>\n",
       "    <tr>\n",
       "      <th>6</th>\n",
       "      <td>notebandi ka niyam : khata nahi hai to khulwao.   aam aadmi : khulwa to lun. par bhai bank main ghusun kasey ?</td>\n",
       "      <td>NONE</td>\n",
       "      <td>NONE</td>\n",
       "      <td>NONE</td>\n",
       "      <td>NONE</td>\n",
       "    </tr>\n",
       "    <tr>\n",
       "      <th>7</th>\n",
       "      <td>barbeed hui nasbandi karwa ke   barbaad ho raha hai  karwa ke</td>\n",
       "      <td>NONE</td>\n",
       "      <td>NONE</td>\n",
       "      <td>NONE</td>\n",
       "      <td>NONE</td>\n",
       "    </tr>\n",
       "    <tr>\n",
       "      <th>8</th>\n",
       "      <td>ye notebandi mujhe lagta hai un sab muddo se dhyan bhatkane ke liye hua hai jahan roj koi na koi shahid.</td>\n",
       "      <td>AGAINST</td>\n",
       "      <td>NONE</td>\n",
       "      <td>AGAINST</td>\n",
       "      <td>AGAINST</td>\n",
       "    </tr>\n",
       "    <tr>\n",
       "      <th>9</th>\n",
       "      <td>notebandi ki samasya se sabke liye he par aadmi aur aurat ka pakch rakhne ke liye media mein neta ko bulaya jata</td>\n",
       "      <td>NONE</td>\n",
       "      <td>NONE</td>\n",
       "      <td>NONE</td>\n",
       "      <td>NONE</td>\n",
       "    </tr>\n",
       "    <tr>\n",
       "      <th>10</th>\n",
       "      <td>bivajan ka, dharm ka, sriram ka, achhe din ka, lakh ka, gomata ka, padmasri ka,  rastrvakti ka, kaledhan per notebandi ka nasha pila ke ?</td>\n",
       "      <td>NONE</td>\n",
       "      <td>NONE</td>\n",
       "      <td>NONE</td>\n",
       "      <td>NONE</td>\n",
       "    </tr>\n",
       "    <tr>\n",
       "      <th>11</th>\n",
       "      <td>sanchhep me kahna haiki notebandi se pakistan, jali note banane wale,hawala wale,atankwadi etc effected hai.jishke pas kaladhan</td>\n",
       "      <td>FAVOR</td>\n",
       "      <td>FAVOR</td>\n",
       "      <td>FAVOR</td>\n",
       "      <td>FAVOR</td>\n",
       "    </tr>\n",
       "    <tr>\n",
       "      <th>12</th>\n",
       "      <td>ji  lagta hain aplogo ne notebandi ke pahale hi apna aur apne logo ka bandobast kar rakha hain,tav logo  pareshani nahi para.</td>\n",
       "      <td>NONE</td>\n",
       "      <td>NONE</td>\n",
       "      <td>NONE</td>\n",
       "      <td>NONE</td>\n",
       "    </tr>\n",
       "    <tr>\n",
       "      <th>13</th>\n",
       "      <td>modi ji ki notebandi pe aap ki nautanki..</td>\n",
       "      <td>NONE</td>\n",
       "      <td>NONE</td>\n",
       "      <td>NONE</td>\n",
       "      <td>NONE</td>\n",
       "    </tr>\n",
       "    <tr>\n",
       "      <th>14</th>\n",
       "      <td>kya aam aadmi ke liye   ka faisla shi hai?</td>\n",
       "      <td>NONE</td>\n",
       "      <td>AGAINST</td>\n",
       "      <td>NONE</td>\n",
       "      <td>AGAINST</td>\n",
       "    </tr>\n",
       "    <tr>\n",
       "      <th>15</th>\n",
       "      <td>rs. /- ka note to le liya , but ab ye to market chal nahi raha ,, dukandar bol rahe he khulle nahi he.. :(</td>\n",
       "      <td>NONE</td>\n",
       "      <td>NONE</td>\n",
       "      <td>NONE</td>\n",
       "      <td>NONE</td>\n",
       "    </tr>\n",
       "    <tr>\n",
       "      <th>16</th>\n",
       "      <td>notebandi bada ghotala hai: kejriwal. bhai dukh tho hoga kejri  ko jo kala dhan kamaya use pm ne band hogaya taklef tho hogi</td>\n",
       "      <td>NONE</td>\n",
       "      <td>NONE</td>\n",
       "      <td>NONE</td>\n",
       "      <td>NONE</td>\n",
       "    </tr>\n",
       "    <tr>\n",
       "      <th>17</th>\n",
       "      <td>what if .. modi ji says mitron ,,, kal raat ko zyada ho gayi thi ,,. kuch nahi badla he..</td>\n",
       "      <td>NONE</td>\n",
       "      <td>FAVOR</td>\n",
       "      <td>AGAINST</td>\n",
       "      <td>NONE</td>\n",
       "    </tr>\n",
       "    <tr>\n",
       "      <th>18</th>\n",
       "      <td>notebandi ne thik kar diya ://twitter.com/ndtvindia/status/ …</td>\n",
       "      <td>FAVOR</td>\n",
       "      <td>NONE</td>\n",
       "      <td>NONE</td>\n",
       "      <td>NONE</td>\n",
       "    </tr>\n",
       "    <tr>\n",
       "      <th>19</th>\n",
       "      <td>notebandi ne to imandaaron ko hasaya par sarkaar ki kuvyavasthaon ne khoon ke aansu rula diye ! dhikkar hai aise nirnay par !</td>\n",
       "      <td>AGAINST</td>\n",
       "      <td>NONE</td>\n",
       "      <td>NONE</td>\n",
       "      <td>AGAINST</td>\n",
       "    </tr>\n",
       "    <tr>\n",
       "      <th>20</th>\n",
       "      <td>notebandi flop par,aaj \"apne munh mian mithu banna\" yeh kispar lagoo hota hai??</td>\n",
       "      <td>AGAINST</td>\n",
       "      <td>AGAINST</td>\n",
       "      <td>AGAINST</td>\n",
       "      <td>AGAINST</td>\n",
       "    </tr>\n",
       "    <tr>\n",
       "      <th>21</th>\n",
       "      <td>modi ne apne admiyon ko pahle bata doya tha notebandi ke baremain taki kaledhan ko safed bana sake.</td>\n",
       "      <td>NONE</td>\n",
       "      <td>NONE</td>\n",
       "      <td>NONE</td>\n",
       "      <td>NONE</td>\n",
       "    </tr>\n",
       "    <tr>\n",
       "      <th>22</th>\n",
       "      <td>notebandi ki khabar jarror modi ke logon ko thi.paresan sirf aam aadami hai.modiji me garibon ka khayal nahi rakha</td>\n",
       "      <td>AGAINST</td>\n",
       "      <td>AGAINST</td>\n",
       "      <td>AGAINST</td>\n",
       "      <td>AGAINST</td>\n",
       "    </tr>\n",
       "    <tr>\n",
       "      <th>23</th>\n",
       "      <td>sir bahut achha kiya aapne notebandi karke amir loge pareshan h ki kya kre. sir me salute karta hu</td>\n",
       "      <td>FAVOR</td>\n",
       "      <td>FAVOR</td>\n",
       "      <td>FAVOR</td>\n",
       "      <td>FAVOR</td>\n",
       "    </tr>\n",
       "    <tr>\n",
       "      <th>24</th>\n",
       "      <td>notebandi k saatsaat modiji ko ek admi ko v band kar dena chahiye tha jo ghum ghum kar logon ko behka raha hai</td>\n",
       "      <td>NONE</td>\n",
       "      <td>NONE</td>\n",
       "      <td>AGAINST</td>\n",
       "      <td>AGAINST</td>\n",
       "    </tr>\n",
       "    <tr>\n",
       "      <th>25</th>\n",
       "      <td>aadarniye pradhan mantri ji,  notebandi par aapko koti koti dhanyawaad. modi ji in doctors par raid karo inke paas sabse jyada kala dhan hai</td>\n",
       "      <td>FAVOR</td>\n",
       "      <td>FAVOR</td>\n",
       "      <td>FAVOR</td>\n",
       "      <td>FAVOR</td>\n",
       "    </tr>\n",
       "    <tr>\n",
       "      <th>26</th>\n",
       "      <td>log notebandi ke haal me bhi adjust kar rha hai aur jo note daba ke bethe hai sirf unhe jyada takleef hai ...wo adjust nhi kar pa rhe hai.</td>\n",
       "      <td>NONE</td>\n",
       "      <td>NONE</td>\n",
       "      <td>NONE</td>\n",
       "      <td>NONE</td>\n",
       "    </tr>\n",
       "    <tr>\n",
       "      <th>27</th>\n",
       "      <td>neta logon hum aam janta hi apni jan de sakte hai neta sirf halla large hai.notebandi ka logistic view nahi dekha gaya</td>\n",
       "      <td>AGAINST</td>\n",
       "      <td>NONE</td>\n",
       "      <td>AGAINST</td>\n",
       "      <td>AGAINST</td>\n",
       "    </tr>\n",
       "    <tr>\n",
       "      <th>28</th>\n",
       "      <td>doston jis din se notebandi hui h .ussi din se hamara media unn jawano ko shayad bhool gai h jo sharahd par ladte hue shaheed ho rahe h .</td>\n",
       "      <td>NONE</td>\n",
       "      <td>NONE</td>\n",
       "      <td>NONE</td>\n",
       "      <td>NONE</td>\n",
       "    </tr>\n",
       "    <tr>\n",
       "      <th>29</th>\n",
       "      <td>modiji aapke jan dhan khaton mein raaton raat - kiske jama ho gaye,kahin ye aapke sangathan ke khatadhari to nahi hain.</td>\n",
       "      <td>NONE</td>\n",
       "      <td>NONE</td>\n",
       "      <td>NONE</td>\n",
       "      <td>NONE</td>\n",
       "    </tr>\n",
       "  </tbody>\n",
       "</table>\n",
       "</div>"
      ],
      "text/plain": [
       "                                                                                                                                            text  \\\n",
       "0   kejri & rahul : hum is nasbandi ke khilaf hain ye to hitlar shahi hai ..  reporter: sir yeh  hui hai ..aaap nasbandi karwalo                   \n",
       "1   . notebandi, ghoosbandi and nasbandi door kar degi desh ki gandagi.                                                                            \n",
       "2   kabhi kabhi sher ka shikar karne ke liye bhed (aam janta) ko chara banana padta hai.                                                           \n",
       "3   neta samajh. nahi pa rahe hai ki notebandi par hindu muslim rajniti kaise kare , ye hi hai sabka sath sabka vikas                              \n",
       "4   bechare ko cocaine leni hai koi   k note le nahi raha aana hi pada bank    ://twitter.com/cnnnews/status/ …                                    \n",
       "5   ek baar aam aadmi ki life jee kar dekho kitni taklif ka samna krna padta hai                                                                   \n",
       "6   notebandi ka niyam : khata nahi hai to khulwao.   aam aadmi : khulwa to lun. par bhai bank main ghusun kasey ?                                 \n",
       "7   barbeed hui nasbandi karwa ke   barbaad ho raha hai  karwa ke                                                                                  \n",
       "8   ye notebandi mujhe lagta hai un sab muddo se dhyan bhatkane ke liye hua hai jahan roj koi na koi shahid.                                       \n",
       "9   notebandi ki samasya se sabke liye he par aadmi aur aurat ka pakch rakhne ke liye media mein neta ko bulaya jata                               \n",
       "10  bivajan ka, dharm ka, sriram ka, achhe din ka, lakh ka, gomata ka, padmasri ka,  rastrvakti ka, kaledhan per notebandi ka nasha pila ke ?      \n",
       "11  sanchhep me kahna haiki notebandi se pakistan, jali note banane wale,hawala wale,atankwadi etc effected hai.jishke pas kaladhan                \n",
       "12  ji  lagta hain aplogo ne notebandi ke pahale hi apna aur apne logo ka bandobast kar rakha hain,tav logo  pareshani nahi para.                  \n",
       "13  modi ji ki notebandi pe aap ki nautanki..                                                                                                      \n",
       "14  kya aam aadmi ke liye   ka faisla shi hai?                                                                                                     \n",
       "15  rs. /- ka note to le liya , but ab ye to market chal nahi raha ,, dukandar bol rahe he khulle nahi he.. :(                                     \n",
       "16  notebandi bada ghotala hai: kejriwal. bhai dukh tho hoga kejri  ko jo kala dhan kamaya use pm ne band hogaya taklef tho hogi                   \n",
       "17  what if .. modi ji says mitron ,,, kal raat ko zyada ho gayi thi ,,. kuch nahi badla he..                                                      \n",
       "18  notebandi ne thik kar diya ://twitter.com/ndtvindia/status/ …                                                                                  \n",
       "19  notebandi ne to imandaaron ko hasaya par sarkaar ki kuvyavasthaon ne khoon ke aansu rula diye ! dhikkar hai aise nirnay par !                  \n",
       "20  notebandi flop par,aaj \"apne munh mian mithu banna\" yeh kispar lagoo hota hai??                                                                \n",
       "21  modi ne apne admiyon ko pahle bata doya tha notebandi ke baremain taki kaledhan ko safed bana sake.                                            \n",
       "22  notebandi ki khabar jarror modi ke logon ko thi.paresan sirf aam aadami hai.modiji me garibon ka khayal nahi rakha                             \n",
       "23  sir bahut achha kiya aapne notebandi karke amir loge pareshan h ki kya kre. sir me salute karta hu                                             \n",
       "24  notebandi k saatsaat modiji ko ek admi ko v band kar dena chahiye tha jo ghum ghum kar logon ko behka raha hai                                 \n",
       "25  aadarniye pradhan mantri ji,  notebandi par aapko koti koti dhanyawaad. modi ji in doctors par raid karo inke paas sabse jyada kala dhan hai   \n",
       "26  log notebandi ke haal me bhi adjust kar rha hai aur jo note daba ke bethe hai sirf unhe jyada takleef hai ...wo adjust nhi kar pa rhe hai.     \n",
       "27  neta logon hum aam janta hi apni jan de sakte hai neta sirf halla large hai.notebandi ka logistic view nahi dekha gaya                         \n",
       "28  doston jis din se notebandi hui h .ussi din se hamara media unn jawano ko shayad bhool gai h jo sharahd par ladte hue shaheed ho rahe h .      \n",
       "29  modiji aapke jan dhan khaton mein raaton raat - kiske jama ho gaye,kahin ye aapke sangathan ke khatadhari to nahi hain.                        \n",
       "\n",
       "   category Transformer_pred HAN_pred WLSTM_pred  \n",
       "0   NONE     NONE             NONE     NONE       \n",
       "1   FAVOR    FAVOR            FAVOR    FAVOR      \n",
       "2   FAVOR    FAVOR            FAVOR    FAVOR      \n",
       "3   NONE     NONE             FAVOR    NONE       \n",
       "4   NONE     NONE             NONE     NONE       \n",
       "5   AGAINST  AGAINST          AGAINST  AGAINST    \n",
       "6   NONE     NONE             NONE     NONE       \n",
       "7   NONE     NONE             NONE     NONE       \n",
       "8   AGAINST  NONE             AGAINST  AGAINST    \n",
       "9   NONE     NONE             NONE     NONE       \n",
       "10  NONE     NONE             NONE     NONE       \n",
       "11  FAVOR    FAVOR            FAVOR    FAVOR      \n",
       "12  NONE     NONE             NONE     NONE       \n",
       "13  NONE     NONE             NONE     NONE       \n",
       "14  NONE     AGAINST          NONE     AGAINST    \n",
       "15  NONE     NONE             NONE     NONE       \n",
       "16  NONE     NONE             NONE     NONE       \n",
       "17  NONE     FAVOR            AGAINST  NONE       \n",
       "18  FAVOR    NONE             NONE     NONE       \n",
       "19  AGAINST  NONE             NONE     AGAINST    \n",
       "20  AGAINST  AGAINST          AGAINST  AGAINST    \n",
       "21  NONE     NONE             NONE     NONE       \n",
       "22  AGAINST  AGAINST          AGAINST  AGAINST    \n",
       "23  FAVOR    FAVOR            FAVOR    FAVOR      \n",
       "24  NONE     NONE             AGAINST  AGAINST    \n",
       "25  FAVOR    FAVOR            FAVOR    FAVOR      \n",
       "26  NONE     NONE             NONE     NONE       \n",
       "27  AGAINST  NONE             AGAINST  AGAINST    \n",
       "28  NONE     NONE             NONE     NONE       \n",
       "29  NONE     NONE             NONE     NONE       "
      ]
     },
     "execution_count": 44,
     "metadata": {},
     "output_type": "execute_result"
    }
   ],
   "source": [
    "test_df.head(30)"
   ]
  },
  {
   "cell_type": "code",
   "execution_count": 45,
   "metadata": {},
   "outputs": [
    {
     "data": {
      "text/html": [
       "<span style=\"background-color:rgba(135,206,250,0.6170004606246948);\">neta</span> <span style=\"background-color:rgba(135,206,250,0.08608321348826091);\">logon</span> <span style=\"background-color:rgba(135,206,250,0.007506012916564941);\">hum</span> <span style=\"background-color:rgba(135,206,250,0.008627772331237793);\">aam</span> <span style=\"background-color:rgba(135,206,250,0.0003266334533691406);\">janta</span> <span style=\"background-color:rgba(135,206,250,0.0005970398585001628);\">hi</span> <span style=\"background-color:rgba(135,206,250,0.0005445877710978191);\">apni</span> <span style=\"background-color:rgba(135,206,250,0.00028928120930989587);\">jan</span> <span style=\"background-color:rgba(135,206,250,0.0020488103230794272);\">de</span> <span style=\"background-color:rgba(135,206,250,0.13807674249013266);\">sakte</span> <span style=\"background-color:rgba(135,206,250,0.0017019112904866538);\">hai</span> <span style=\"background-color:rgba(135,206,250,0.0002777576446533203);\">neta</span> <span style=\"background-color:rgba(135,206,250,0.002167026201883952);\">sirf</span> <span style=\"background-color:rgba(135,206,250,0.025219122568766277);\">halla</span> <span style=\"background-color:rgba(135,206,250,0.0005489587783813477);\">large</span> <span style=\"background-color:rgba(135,206,250,0.0008722146352132162);\">hai.notebandi</span> <span style=\"background-color:rgba(135,206,250,0.0009544690450032552);\">ka</span> <span style=\"background-color:rgba(135,206,250,0.001765886942545573);\">logistic</span> <span style=\"background-color:rgba(135,206,250,0.0004086891810099284);\">view</span> <span style=\"background-color:rgba(135,206,250,-5.563100179036459e-06);\">nahi</span> <span style=\"background-color:rgba(135,206,250,0.0021833181381225586);\">dekha</span> <span style=\"background-color:rgba(135,206,250,0.0);\">gaya</span>"
      ],
      "text/plain": [
       "<IPython.core.display.HTML object>"
      ]
     },
     "metadata": {},
     "output_type": "display_data"
    }
   ],
   "source": [
    "text = test_df.text.iloc[27]\n",
    "\n",
    "highlighted_text = gradient_plots(text,get_conditional_weights(text, model2, 0))\n",
    "\n",
    "display(HTML(highlighted_text))\n"
   ]
  },
  {
   "cell_type": "code",
   "execution_count": 50,
   "metadata": {},
   "outputs": [
    {
     "data": {
      "text/html": [
       "<span style=\"background-color:rgba(135,206,250,0.45284996430079144);\">kejry</span> <span style=\"background-color:rgba(135,206,250,0.45522739489873254);\">wall</span> <span style=\"background-color:rgba(135,206,250,0.4557935396830241);\">himmat</span> <span style=\"background-color:rgba(135,206,250,0.45640205343564355);\">nhi</span> <span style=\"background-color:rgba(135,206,250,0.4545951386292776);\">harna</span> <span style=\"background-color:rgba(135,206,250,0.4545401533444723);\">him</span> <span style=\"background-color:rgba(135,206,250,0.45487011472384137);\">log</span> <span style=\"background-color:rgba(135,206,250,0.4560057322184245);\">aap</span> <span style=\"background-color:rgba(135,206,250,0.45636018117268884);\">ke</span> <span style=\"background-color:rgba(135,206,250,0.44258435567220056);\">sath</span> <span style=\"background-color:rgba(135,206,250,0.0);\">hai</span>"
      ],
      "text/plain": [
       "<IPython.core.display.HTML object>"
      ]
     },
     "metadata": {},
     "output_type": "display_data"
    }
   ],
   "source": [
    "text = \"kejry wall himmat nhi harna him log aap ke sath hai\"\n",
    "\n",
    "highlighted_text = gradient_plots(text,get_conditional_weights(text, model2, 2))\n",
    "\n",
    "display(HTML(highlighted_text))"
   ]
  },
  {
   "cell_type": "code",
   "execution_count": 47,
   "metadata": {},
   "outputs": [
    {
     "data": {
      "text/html": [
       "<span style=\"background-color:rgba(135,206,250,3.3202115694681806);\">kejry</span> <span style=\"background-color:rgba(135,206,250,3.320092757542928);\">wall</span> <span style=\"background-color:rgba(135,206,250,1.07986847559611);\">himmat</span> <span style=\"background-color:rgba(135,206,250,0.9551843007405599);\">nhi</span> <span style=\"background-color:rgba(135,206,250,3.3063544829686484);\">harna</span> <span style=\"background-color:rgba(135,206,250,3.3299249410629272);\">him</span> <span style=\"background-color:rgba(135,206,250,0.03282566865285238);\">log</span> <span style=\"background-color:rgba(135,206,250,0.0008016824722290039);\">aap</span> <span style=\"background-color:rgba(135,206,250,0.1780579487482707);\">ke</span> <span style=\"background-color:rgba(135,206,250,0.20817697048187256);\">sath</span> <span style=\"background-color:rgba(135,206,250,0.0);\">hai</span>"
      ],
      "text/plain": [
       "<IPython.core.display.HTML object>"
      ]
     },
     "metadata": {},
     "output_type": "display_data"
    }
   ],
   "source": [
    "text = \"kejry wall himmat nhi harna him log aap ke sath hai\"\n",
    "\n",
    "highlighted_text = gradient_plots(text,get_conditional_weights(text, model4, 1))\n",
    "\n",
    "display(HTML(highlighted_text))"
   ]
  },
  {
   "cell_type": "code",
   "execution_count": 52,
   "metadata": {},
   "outputs": [
    {
     "data": {
      "text/html": [
       "<span style=\"background-color:rgba(135,206,250,0.6327817837397258);\">kejry</span> <span style=\"background-color:rgba(135,206,250,0.41739463806152344);\">wall</span> <span style=\"background-color:rgba(135,206,250,0.011474291483561199);\">himmat</span> <span style=\"background-color:rgba(135,206,250,-0.0015163421630859375);\">nhi</span> <span style=\"background-color:rgba(135,206,250,-0.0049873193105061855);\">harna</span> <span style=\"background-color:rgba(135,206,250,-0.006467898686726889);\">him</span> <span style=\"background-color:rgba(135,206,250,-0.005457401275634766);\">log</span> <span style=\"background-color:rgba(135,206,250,-0.005291302998860678);\">aap</span> <span style=\"background-color:rgba(135,206,250,-0.006182988484700521);\">ke</span> <span style=\"background-color:rgba(135,206,250,0.0013083219528198242);\">sath</span> <span style=\"background-color:rgba(135,206,250,0.0);\">hai</span>"
      ],
      "text/plain": [
       "<IPython.core.display.HTML object>"
      ]
     },
     "metadata": {},
     "output_type": "display_data"
    }
   ],
   "source": [
    "text = \"kejry wall himmat nhi harna him log aap ke sath hai\"\n",
    "\n",
    "highlighted_text = gradient_plots(text,get_conditional_weights(text, model6, 0))\n",
    "\n",
    "display(HTML(highlighted_text))"
   ]
  },
  {
   "cell_type": "code",
   "execution_count": 45,
   "metadata": {},
   "outputs": [
    {
     "data": {
      "text/html": [
       "<span style=\"background-color:rgba(135,206,250,3.2634488741556806);\">neta</span> <span style=\"background-color:rgba(135,206,250,3.2778741916020713);\">logon</span> <span style=\"background-color:rgba(135,206,250,3.289880355199178);\">hum</span> <span style=\"background-color:rgba(135,206,250,3.3094022671381635);\">aam</span> <span style=\"background-color:rgba(135,206,250,0.07515172163645427);\">janta</span> <span style=\"background-color:rgba(135,206,250,-0.01970012982686361);\">hi</span> <span style=\"background-color:rgba(135,206,250,-0.021222233772277832);\">apni</span> <span style=\"background-color:rgba(135,206,250,-0.021525820096333824);\">jan</span> <span style=\"background-color:rgba(135,206,250,-0.021529793739318848);\">de</span> <span style=\"background-color:rgba(135,206,250,-0.021512309710184734);\">sakte</span> <span style=\"background-color:rgba(135,206,250,-0.021410584449768066);\">hai</span> <span style=\"background-color:rgba(135,206,250,-0.021422505378723145);\">neta</span> <span style=\"background-color:rgba(135,206,250,-0.02152383327484131);\">sirf</span> <span style=\"background-color:rgba(135,206,250,-0.021527806917826336);\">halla</span> <span style=\"background-color:rgba(135,206,250,-0.021523038546244305);\">large</span> <span style=\"background-color:rgba(135,206,250,-0.02150277296702067);\">hai.notebandi</span> <span style=\"background-color:rgba(135,206,250,-0.021483699480692547);\">ka</span> <span style=\"background-color:rgba(135,206,250,-0.02140343189239502);\">logistic</span> <span style=\"background-color:rgba(135,206,250,-0.021304885546366375);\">view</span> <span style=\"background-color:rgba(135,206,250,-0.021296143531799316);\">nahi</span> <span style=\"background-color:rgba(135,206,250,-0.019799470901489258);\">dekha</span> <span style=\"background-color:rgba(135,206,250,0.0);\">gaya</span>"
      ],
      "text/plain": [
       "<IPython.core.display.HTML object>"
      ]
     },
     "metadata": {},
     "output_type": "display_data"
    }
   ],
   "source": [
    "text = test_df.text.iloc[27]\n",
    "\n",
    "highlighted_text = gradient_plots(text,get_conditional_weights(text, model4, 2))\n",
    "\n",
    "display(HTML(highlighted_text))\n"
   ]
  },
  {
   "cell_type": "code",
   "execution_count": 46,
   "metadata": {},
   "outputs": [
    {
     "data": {
      "text/html": [
       "<span style=\"background-color:rgba(135,206,250,3.1123773256937666);\">neta</span> <span style=\"background-color:rgba(135,206,250,3.1097370386123657);\">logon</span> <span style=\"background-color:rgba(135,206,250,3.1129982074101767);\">hum</span> <span style=\"background-color:rgba(135,206,250,3.111078540484111);\">aam</span> <span style=\"background-color:rgba(135,206,250,3.112900455792745);\">janta</span> <span style=\"background-color:rgba(135,206,250,3.1131251653035483);\">hi</span> <span style=\"background-color:rgba(135,206,250,3.1127774715423584);\">apni</span> <span style=\"background-color:rgba(135,206,250,3.112524549166362);\">jan</span> <span style=\"background-color:rgba(135,206,250,3.1123457352320356);\">de</span> <span style=\"background-color:rgba(135,206,250,3.0950977404912314);\">sakte</span> <span style=\"background-color:rgba(135,206,250,3.0495578050613403);\">hai</span> <span style=\"background-color:rgba(135,206,250,3.092641234397888);\">neta</span> <span style=\"background-color:rgba(135,206,250,3.101495107014974);\">sirf</span> <span style=\"background-color:rgba(135,206,250,3.106071750322978);\">halla</span> <span style=\"background-color:rgba(135,206,250,3.1067419052124023);\">large</span> <span style=\"background-color:rgba(135,206,250,3.093080719312032);\">hai.notebandi</span> <span style=\"background-color:rgba(135,206,250,3.097105622291565);\">ka</span> <span style=\"background-color:rgba(135,206,250,3.090889056523641);\">logistic</span> <span style=\"background-color:rgba(135,206,250,2.8629746039708457);\">view</span> <span style=\"background-color:rgba(135,206,250,2.9283134142557783);\">nahi</span> <span style=\"background-color:rgba(135,206,250,-0.20128965377807617);\">dekha</span> <span style=\"background-color:rgba(135,206,250,0.0);\">gaya</span>"
      ],
      "text/plain": [
       "<IPython.core.display.HTML object>"
      ]
     },
     "metadata": {},
     "output_type": "display_data"
    }
   ],
   "source": [
    "text = test_df.text.iloc[27]\n",
    "\n",
    "highlighted_text = gradient_plots(text,get_conditional_weights(text, model6, 2))\n",
    "\n",
    "display(HTML(highlighted_text))\n"
   ]
  },
  {
   "cell_type": "code",
   "execution_count": 47,
   "metadata": {},
   "outputs": [],
   "source": [
    "import matplotlib.pyplot as plt\n",
    "import matplotlib.ticker as ticker\n",
    "\n",
    "def get_word_attention(text, model, tokenizer,model_name):\n",
    "    df = pd.DataFrame()\n",
    "    df['text'] = [text]\n",
    "    transformer_val_inputs, _, _ = data.data_utils.compute_transformer_input_arrays(df, 'text', tokenizer, args.max_char_len)\n",
    "    \n",
    "    print (transformer_val_inputs.shape)\n",
    "    \n",
    "    pos = model.layers[1](transformer_val_inputs)\n",
    "    embs = model.layers[2](pos)\n",
    "    \n",
    "    attn = model.layers[3].att\n",
    "    \n",
    "    batch_size = tf.shape(embs)[0]\n",
    "    query = attn.query_dense(embs)  # (batch_size, seq_len, embed_dim)\n",
    "    key = attn.key_dense(embs)  # (batch_size, seq_len, embed_dim)\n",
    "    value = attn.value_dense(embs)  # (batch_size, seq_len, embed_dim)\n",
    "    query = attn.separate_heads(\n",
    "        query, batch_size\n",
    "    )  # (batch_size, num_heads, seq_len, projection_dim)\n",
    "    key = attn.separate_heads(\n",
    "        key, batch_size\n",
    "    )  # (batch_size, num_heads, seq_len, projection_dim)\n",
    "    value = attn.separate_heads(\n",
    "        value, batch_size\n",
    "    )  # (batch_size, num_heads, seq_len, projection_dim)\n",
    "    attention, weights = attn.attention(query, key, value)\n",
    "    weights = weights.numpy().mean(1)[0]\n",
    "\n",
    "    sentence = tokenizer.tokenize(text) #text.split()\n",
    "    try:\n",
    "        plot_attention(weights[:len(sentence),:len(sentence)],sentence,filename='../plots/attention_stance_{}.pdf'.format(model_name))\n",
    "    except:\n",
    "        plot_attention(weights,sentence,filename='../plots/attention_stance_{}.pdf'.format(model_name))"
   ]
  },
  {
   "cell_type": "code",
   "execution_count": 48,
   "metadata": {},
   "outputs": [
    {
     "name": "stderr",
     "output_type": "stream",
     "text": [
      "100%|██████████| 1/1 [00:00<00:00, 1003.90it/s]\n",
      "/Users/victor/anaconda3/lib/python3.7/site-packages/ipykernel_launcher.py:170: UserWarning: FixedFormatter should only be used together with FixedLocator\n",
      "/Users/victor/anaconda3/lib/python3.7/site-packages/ipykernel_launcher.py:171: UserWarning: FixedFormatter should only be used together with FixedLocator\n"
     ]
    },
    {
     "name": "stdout",
     "output_type": "stream",
     "text": [
      "(1, 150)\n"
     ]
    },
    {
     "data": {
      "image/png": "[encoded data removed]",
      "text/plain": [
       "<Figure size 864x864 with 1 Axes>"
      ]
     },
     "metadata": {
      "needs_background": "light"
     },
     "output_type": "display_data"
    }
   ],
   "source": [
    "get_word_attention(test_df.text.iloc[5], model1, tokenizer, 'Transformer')"
   ]
  },
  {
   "cell_type": "code",
   "execution_count": 49,
   "metadata": {},
   "outputs": [],
   "source": [
    "def get_word_attention_bert(text, bert_model, bert_tokenizer,filename='../plots/attention_stance_BERT.pdf'):\n",
    "    \n",
    "    input = np.array(bert_tokenizer.encode(text))[np.newaxis,:]\n",
    "\n",
    "    out = bert_model(input)\n",
    "    \n",
    "    weights = out[-1][-1].numpy().mean(1)[0]\n",
    "    \n",
    "    sentence = tokenizer.tokenize(text) #text.split()\n",
    "    \n",
    "    try:\n",
    "        plot_attention(weights[:len(sentence),:len(sentence)],sentence,filename=filename)\n",
    "    except:\n",
    "        plot_attention(weights,sentence,filename=filename)"
   ]
  },
  {
   "cell_type": "code",
   "execution_count": 50,
   "metadata": {},
   "outputs": [],
   "source": [
    "model_name = 'BERT'\n",
    "loss = 'ce'\n",
    "bert_tokenizer = AutoTokenizer.from_pretrained(args.transformer_tokenizer_path)\n",
    "bert_model = BERT(word_vocab_size=n_words,char_vocab_size=n_chars,wpe_vocab_size=bert_tokenizer.vocab_size, vectorizer_shape=tfidf_shape, n_out=n_out,\\\n",
    "                               transformer_model_pretrained_path=args.transformer_model_pretrained_path,max_word_char_len=args.max_word_char_len,\\\n",
    "                                             max_text_len=args.max_text_len, max_char_len=100,\\\n",
    "                                             n_layers=args.n_layers, n_units=args.n_units, emb_dim=args.emb_dim)\n",
    "model_save_path = os.path.join(args.model_save_path, '{}_{}_with_features.h5'.format(model_name, loss))\n",
    "bert_model.load_weights(model_save_path)\n",
    "\n",
    "base_model = bert_model.layers[1]\n",
    "base_model.save_pretrained('./')\n",
    "\n",
    "config = AutoConfig.from_pretrained(args.transformer_config_path, output_attentions=True)\n",
    "\n",
    "base_model = TFAutoModel.from_pretrained('./', config=config)\n"
   ]
  },
  {
   "cell_type": "code",
   "execution_count": 51,
   "metadata": {},
   "outputs": [
    {
     "name": "stderr",
     "output_type": "stream",
     "text": [
      "/Users/victor/anaconda3/lib/python3.7/site-packages/ipykernel_launcher.py:170: UserWarning: FixedFormatter should only be used together with FixedLocator\n",
      "/Users/victor/anaconda3/lib/python3.7/site-packages/ipykernel_launcher.py:171: UserWarning: FixedFormatter should only be used together with FixedLocator\n"
     ]
    },
    {
     "data": {
      "image/png": "[encoded data removed]",
      "text/plain": [
       "<Figure size 864x864 with 1 Axes>"
      ]
     },
     "metadata": {
      "needs_background": "light"
     },
     "output_type": "display_data"
    }
   ],
   "source": [
    "get_word_attention_bert(test_df.text.iloc[5], base_model, bert_tokenizer)"
   ]
  },
  {
   "cell_type": "code",
   "execution_count": 52,
   "metadata": {},
   "outputs": [
    {
     "name": "stderr",
     "output_type": "stream",
     "text": [
      "/Users/victor/anaconda3/lib/python3.7/site-packages/ipykernel_launcher.py:170: UserWarning: FixedFormatter should only be used together with FixedLocator\n",
      "/Users/victor/anaconda3/lib/python3.7/site-packages/ipykernel_launcher.py:171: UserWarning: FixedFormatter should only be used together with FixedLocator\n"
     ]
    },
    {
     "data": {
      "image/png": "[encoded data removed]",
      "text/plain": [
       "<Figure size 864x864 with 1 Axes>"
      ]
     },
     "metadata": {
      "needs_background": "light"
     },
     "output_type": "display_data"
    }
   ],
   "source": [
    "get_word_attention_bert(test_df.text.iloc[1], base_model, bert_tokenizer)"
   ]
  },
  {
   "cell_type": "code",
   "execution_count": 53,
   "metadata": {},
   "outputs": [
    {
     "name": "stderr",
     "output_type": "stream",
     "text": [
      "100%|██████████| 1/1 [00:00<00:00, 1167.35it/s]\n",
      "/Users/victor/anaconda3/lib/python3.7/site-packages/ipykernel_launcher.py:170: UserWarning: FixedFormatter should only be used together with FixedLocator\n",
      "/Users/victor/anaconda3/lib/python3.7/site-packages/ipykernel_launcher.py:171: UserWarning: FixedFormatter should only be used together with FixedLocator\n"
     ]
    },
    {
     "name": "stdout",
     "output_type": "stream",
     "text": [
      "(1, 150)\n"
     ]
    },
    {
     "data": {
      "image/png": "[encoded data removed]",
      "text/plain": [
       "<Figure size 864x864 with 1 Axes>"
      ]
     },
     "metadata": {
      "needs_background": "light"
     },
     "output_type": "display_data"
    }
   ],
   "source": [
    "get_word_attention(test_df.text.iloc[1], model1, tokenizer, 'Transformer')"
   ]
  },
  {
   "cell_type": "code",
   "execution_count": null,
   "metadata": {},
   "outputs": [],
   "source": []
  }
 ],
 "metadata": {
  "accelerator": "GPU",
  "colab": {
   "name": "experiments_stance.ipynb",
   "provenance": [],
   "toc_visible": true
  },
  "kernelspec": {
   "display_name": "Python 3",
   "language": "python",
   "name": "python3"
  },
  "language_info": {
   "codemirror_mode": {
    "name": "ipython",
    "version": 3
   },
   "file_extension": ".py",
   "mimetype": "text/x-python",
   "name": "python",
   "nbconvert_exporter": "python",
   "pygments_lexer": "ipython3",
   "version": "3.7.1"
  },
  "widgets": {
   "application/vnd.jupyter.widget-state+json": {
    "01dceed4813c43adbba1e387a7a1e698": {
     "model_module": "@jupyter-widgets/controls",
     "model_name": "DescriptionStyleModel",
     "state": {
      "_model_module": "@jupyter-widgets/controls",
      "_model_module_version": "1.5.0",
      "_model_name": "DescriptionStyleModel",
      "_view_count": null,
      "_view_module": "@jupyter-widgets/base",
      "_view_module_version": "1.2.0",
      "_view_name": "StyleView",
      "description_width": ""
     }
    },
    "0bf5f599417949a2b9147b89d72fd770": {
     "model_module": "@jupyter-widgets/controls",
     "model_name": "FloatProgressModel",
     "state": {
      "_dom_classes": [],
      "_model_module": "@jupyter-widgets/controls",
      "_model_module_version": "1.5.0",
      "_model_name": "FloatProgressModel",
      "_view_count": null,
      "_view_module": "@jupyter-widgets/controls",
      "_view_module_version": "1.5.0",
      "_view_name": "ProgressView",
      "bar_style": "success",
      "description": "Downloading: 100%",
      "description_tooltip": null,
      "layout": "IPY_MODEL_26f2777800c1479581725eac01ea30cd",
      "max": 625,
      "min": 0,
      "orientation": "horizontal",
      "style": "IPY_MODEL_218b46086629405c86d9a1166dc04a57",
      "value": 625
     }
    },
    "218b46086629405c86d9a1166dc04a57": {
     "model_module": "@jupyter-widgets/controls",
     "model_name": "ProgressStyleModel",
     "state": {
      "_model_module": "@jupyter-widgets/controls",
      "_model_module_version": "1.5.0",
      "_model_name": "ProgressStyleModel",
      "_view_count": null,
      "_view_module": "@jupyter-widgets/base",
      "_view_module_version": "1.2.0",
      "_view_name": "StyleView",
      "bar_color": null,
      "description_width": "initial"
     }
    },
    "26f2777800c1479581725eac01ea30cd": {
     "model_module": "@jupyter-widgets/base",
     "model_name": "LayoutModel",
     "state": {
      "_model_module": "@jupyter-widgets/base",
      "_model_module_version": "1.2.0",
      "_model_name": "LayoutModel",
      "_view_count": null,
      "_view_module": "@jupyter-widgets/base",
      "_view_module_version": "1.2.0",
      "_view_name": "LayoutView",
      "align_content": null,
      "align_items": null,
      "align_self": null,
      "border": null,
      "bottom": null,
      "display": null,
      "flex": null,
      "flex_flow": null,
      "grid_area": null,
      "grid_auto_columns": null,
      "grid_auto_flow": null,
      "grid_auto_rows": null,
      "grid_column": null,
      "grid_gap": null,
      "grid_row": null,
      "grid_template_areas": null,
      "grid_template_columns": null,
      "grid_template_rows": null,
      "height": null,
      "justify_content": null,
      "justify_items": null,
      "left": null,
      "margin": null,
      "max_height": null,
      "max_width": null,
      "min_height": null,
      "min_width": null,
      "object_fit": null,
      "object_position": null,
      "order": null,
      "overflow": null,
      "overflow_x": null,
      "overflow_y": null,
      "padding": null,
      "right": null,
      "top": null,
      "visibility": null,
      "width": null
     }
    },
    "44d61c3421fe472ea5e5d92d84ddb614": {
     "model_module": "@jupyter-widgets/controls",
     "model_name": "HBoxModel",
     "state": {
      "_dom_classes": [],
      "_model_module": "@jupyter-widgets/controls",
      "_model_module_version": "1.5.0",
      "_model_name": "HBoxModel",
      "_view_count": null,
      "_view_module": "@jupyter-widgets/controls",
      "_view_module_version": "1.5.0",
      "_view_name": "HBoxView",
      "box_style": "",
      "children": [
       "IPY_MODEL_0bf5f599417949a2b9147b89d72fd770",
       "IPY_MODEL_c5bcda6520ff4ba9b5ced638e1c0406d"
      ],
      "layout": "IPY_MODEL_898db83fc24946d69b9595550f117cab"
     }
    },
    "66fa29c00fd34a87b0f86403b013a576": {
     "model_module": "@jupyter-widgets/controls",
     "model_name": "HTMLModel",
     "state": {
      "_dom_classes": [],
      "_model_module": "@jupyter-widgets/controls",
      "_model_module_version": "1.5.0",
      "_model_name": "HTMLModel",
      "_view_count": null,
      "_view_module": "@jupyter-widgets/controls",
      "_view_module_version": "1.5.0",
      "_view_name": "HTMLView",
      "description": "",
      "description_tooltip": null,
      "layout": "IPY_MODEL_b0e6514cabfc44e193b04591847ce887",
      "placeholder": "​",
      "style": "IPY_MODEL_01dceed4813c43adbba1e387a7a1e698",
      "value": " 996k/996k [00:00&lt;00:00, 6.40MB/s]"
     }
    },
    "6b4871f7703044f2820d75568301aadb": {
     "model_module": "@jupyter-widgets/base",
     "model_name": "LayoutModel",
     "state": {
      "_model_module": "@jupyter-widgets/base",
      "_model_module_version": "1.2.0",
      "_model_name": "LayoutModel",
      "_view_count": null,
      "_view_module": "@jupyter-widgets/base",
      "_view_module_version": "1.2.0",
      "_view_name": "LayoutView",
      "align_content": null,
      "align_items": null,
      "align_self": null,
      "border": null,
      "bottom": null,
      "display": null,
      "flex": null,
      "flex_flow": null,
      "grid_area": null,
      "grid_auto_columns": null,
      "grid_auto_flow": null,
      "grid_auto_rows": null,
      "grid_column": null,
      "grid_gap": null,
      "grid_row": null,
      "grid_template_areas": null,
      "grid_template_columns": null,
      "grid_template_rows": null,
      "height": null,
      "justify_content": null,
      "justify_items": null,
      "left": null,
      "margin": null,
      "max_height": null,
      "max_width": null,
      "min_height": null,
      "min_width": null,
      "object_fit": null,
      "object_position": null,
      "order": null,
      "overflow": null,
      "overflow_x": null,
      "overflow_y": null,
      "padding": null,
      "right": null,
      "top": null,
      "visibility": null,
      "width": null
     }
    },
    "6bc0626cede34e03975e8a7a4d2e6cc3": {
     "model_module": "@jupyter-widgets/controls",
     "model_name": "FloatProgressModel",
     "state": {
      "_dom_classes": [],
      "_model_module": "@jupyter-widgets/controls",
      "_model_module_version": "1.5.0",
      "_model_name": "FloatProgressModel",
      "_view_count": null,
      "_view_module": "@jupyter-widgets/controls",
      "_view_module_version": "1.5.0",
      "_view_name": "ProgressView",
      "bar_style": "success",
      "description": "Downloading: 100%",
      "description_tooltip": null,
      "layout": "IPY_MODEL_bb69d07e4ced4b918d36571d2d115877",
      "max": 995526,
      "min": 0,
      "orientation": "horizontal",
      "style": "IPY_MODEL_79371eb7624e49dbb1e7270a4e8ad3b3",
      "value": 995526
     }
    },
    "79371eb7624e49dbb1e7270a4e8ad3b3": {
     "model_module": "@jupyter-widgets/controls",
     "model_name": "ProgressStyleModel",
     "state": {
      "_model_module": "@jupyter-widgets/controls",
      "_model_module_version": "1.5.0",
      "_model_name": "ProgressStyleModel",
      "_view_count": null,
      "_view_module": "@jupyter-widgets/base",
      "_view_module_version": "1.2.0",
      "_view_name": "StyleView",
      "bar_color": null,
      "description_width": "initial"
     }
    },
    "84c8c5ace1b24607be28f9440b583db8": {
     "model_module": "@jupyter-widgets/controls",
     "model_name": "DescriptionStyleModel",
     "state": {
      "_model_module": "@jupyter-widgets/controls",
      "_model_module_version": "1.5.0",
      "_model_name": "DescriptionStyleModel",
      "_view_count": null,
      "_view_module": "@jupyter-widgets/base",
      "_view_module_version": "1.2.0",
      "_view_name": "StyleView",
      "description_width": ""
     }
    },
    "898db83fc24946d69b9595550f117cab": {
     "model_module": "@jupyter-widgets/base",
     "model_name": "LayoutModel",
     "state": {
      "_model_module": "@jupyter-widgets/base",
      "_model_module_version": "1.2.0",
      "_model_name": "LayoutModel",
      "_view_count": null,
      "_view_module": "@jupyter-widgets/base",
      "_view_module_version": "1.2.0",
      "_view_name": "LayoutView",
      "align_content": null,
      "align_items": null,
      "align_self": null,
      "border": null,
      "bottom": null,
      "display": null,
      "flex": null,
      "flex_flow": null,
      "grid_area": null,
      "grid_auto_columns": null,
      "grid_auto_flow": null,
      "grid_auto_rows": null,
      "grid_column": null,
      "grid_gap": null,
      "grid_row": null,
      "grid_template_areas": null,
      "grid_template_columns": null,
      "grid_template_rows": null,
      "height": null,
      "justify_content": null,
      "justify_items": null,
      "left": null,
      "margin": null,
      "max_height": null,
      "max_width": null,
      "min_height": null,
      "min_width": null,
      "object_fit": null,
      "object_position": null,
      "order": null,
      "overflow": null,
      "overflow_x": null,
      "overflow_y": null,
      "padding": null,
      "right": null,
      "top": null,
      "visibility": null,
      "width": null
     }
    },
    "91cdb12d4a30460baaf0ba50ff7e1632": {
     "model_module": "@jupyter-widgets/controls",
     "model_name": "HBoxModel",
     "state": {
      "_dom_classes": [],
      "_model_module": "@jupyter-widgets/controls",
      "_model_module_version": "1.5.0",
      "_model_name": "HBoxModel",
      "_view_count": null,
      "_view_module": "@jupyter-widgets/controls",
      "_view_module_version": "1.5.0",
      "_view_name": "HBoxView",
      "box_style": "",
      "children": [
       "IPY_MODEL_6bc0626cede34e03975e8a7a4d2e6cc3",
       "IPY_MODEL_66fa29c00fd34a87b0f86403b013a576"
      ],
      "layout": "IPY_MODEL_6b4871f7703044f2820d75568301aadb"
     }
    },
    "b0e6514cabfc44e193b04591847ce887": {
     "model_module": "@jupyter-widgets/base",
     "model_name": "LayoutModel",
     "state": {
      "_model_module": "@jupyter-widgets/base",
      "_model_module_version": "1.2.0",
      "_model_name": "LayoutModel",
      "_view_count": null,
      "_view_module": "@jupyter-widgets/base",
      "_view_module_version": "1.2.0",
      "_view_name": "LayoutView",
      "align_content": null,
      "align_items": null,
      "align_self": null,
      "border": null,
      "bottom": null,
      "display": null,
      "flex": null,
      "flex_flow": null,
      "grid_area": null,
      "grid_auto_columns": null,
      "grid_auto_flow": null,
      "grid_auto_rows": null,
      "grid_column": null,
      "grid_gap": null,
      "grid_row": null,
      "grid_template_areas": null,
      "grid_template_columns": null,
      "grid_template_rows": null,
      "height": null,
      "justify_content": null,
      "justify_items": null,
      "left": null,
      "margin": null,
      "max_height": null,
      "max_width": null,
      "min_height": null,
      "min_width": null,
      "object_fit": null,
      "object_position": null,
      "order": null,
      "overflow": null,
      "overflow_x": null,
      "overflow_y": null,
      "padding": null,
      "right": null,
      "top": null,
      "visibility": null,
      "width": null
     }
    },
    "bb69d07e4ced4b918d36571d2d115877": {
     "model_module": "@jupyter-widgets/base",
     "model_name": "LayoutModel",
     "state": {
      "_model_module": "@jupyter-widgets/base",
      "_model_module_version": "1.2.0",
      "_model_name": "LayoutModel",
      "_view_count": null,
      "_view_module": "@jupyter-widgets/base",
      "_view_module_version": "1.2.0",
      "_view_name": "LayoutView",
      "align_content": null,
      "align_items": null,
      "align_self": null,
      "border": null,
      "bottom": null,
      "display": null,
      "flex": null,
      "flex_flow": null,
      "grid_area": null,
      "grid_auto_columns": null,
      "grid_auto_flow": null,
      "grid_auto_rows": null,
      "grid_column": null,
      "grid_gap": null,
      "grid_row": null,
      "grid_template_areas": null,
      "grid_template_columns": null,
      "grid_template_rows": null,
      "height": null,
      "justify_content": null,
      "justify_items": null,
      "left": null,
      "margin": null,
      "max_height": null,
      "max_width": null,
      "min_height": null,
      "min_width": null,
      "object_fit": null,
      "object_position": null,
      "order": null,
      "overflow": null,
      "overflow_x": null,
      "overflow_y": null,
      "padding": null,
      "right": null,
      "top": null,
      "visibility": null,
      "width": null
     }
    },
    "c5bcda6520ff4ba9b5ced638e1c0406d": {
     "model_module": "@jupyter-widgets/controls",
     "model_name": "HTMLModel",
     "state": {
      "_dom_classes": [],
      "_model_module": "@jupyter-widgets/controls",
      "_model_module_version": "1.5.0",
      "_model_name": "HTMLModel",
      "_view_count": null,
      "_view_module": "@jupyter-widgets/controls",
      "_view_module_version": "1.5.0",
      "_view_name": "HTMLView",
      "description": "",
      "description_tooltip": null,
      "layout": "IPY_MODEL_d3d9cb3872044170baa565e0e516c543",
      "placeholder": "​",
      "style": "IPY_MODEL_84c8c5ace1b24607be28f9440b583db8",
      "value": " 625/625 [00:00&lt;00:00, 2.25kB/s]"
     }
    },
    "d3d9cb3872044170baa565e0e516c543": {
     "model_module": "@jupyter-widgets/base",
     "model_name": "LayoutModel",
     "state": {
      "_model_module": "@jupyter-widgets/base",
      "_model_module_version": "1.2.0",
      "_model_name": "LayoutModel",
      "_view_count": null,
      "_view_module": "@jupyter-widgets/base",
      "_view_module_version": "1.2.0",
      "_view_name": "LayoutView",
      "align_content": null,
      "align_items": null,
      "align_self": null,
      "border": null,
      "bottom": null,
      "display": null,
      "flex": null,
      "flex_flow": null,
      "grid_area": null,
      "grid_auto_columns": null,
      "grid_auto_flow": null,
      "grid_auto_rows": null,
      "grid_column": null,
      "grid_gap": null,
      "grid_row": null,
      "grid_template_areas": null,
      "grid_template_columns": null,
      "grid_template_rows": null,
      "height": null,
      "justify_content": null,
      "justify_items": null,
      "left": null,
      "margin": null,
      "max_height": null,
      "max_width": null,
      "min_height": null,
      "min_width": null,
      "object_fit": null,
      "object_position": null,
      "order": null,
      "overflow": null,
      "overflow_x": null,
      "overflow_y": null,
      "padding": null,
      "right": null,
      "top": null,
      "visibility": null,
      "width": null
     }
    }
   }
  }
 },
 "nbformat": 4,
 "nbformat_minor": 1
}
