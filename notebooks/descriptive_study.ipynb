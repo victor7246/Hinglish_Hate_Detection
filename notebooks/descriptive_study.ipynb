{
 "cells": [
  {
   "cell_type": "code",
   "execution_count": 1,
   "metadata": {},
   "outputs": [
    {
     "name": "stderr",
     "output_type": "stream",
     "text": [
      "I0118 23:14:48.014514 4537208320 file_utils.py:41] PyTorch version 1.4.0 available.\n",
      "I0118 23:14:48.018811 4537208320 file_utils.py:57] TensorFlow version 2.2.0-rc3 available.\n"
     ]
    }
   ],
   "source": [
    "import sys\n",
    "import os\n",
    "\n",
    "try:\n",
    "    sys.path.append(os.path.join(os.path.dirname(__file__), '../'))\n",
    "except:\n",
    "    sys.path.append(os.path.join(os.getcwd(), '../'))\n",
    "    \n",
    "    \n",
    "import pandas as pd\n",
    "from src import data, models"
   ]
  },
  {
   "cell_type": "code",
   "execution_count": 17,
   "metadata": {},
   "outputs": [],
   "source": [
    "words = {}"
   ]
  },
  {
   "cell_type": "code",
   "execution_count": 18,
   "metadata": {},
   "outputs": [
    {
     "name": "stdout",
     "output_type": "stream",
     "text": [
      "4578 3662 457\n",
      "count    4578.000000\n",
      "mean       19.993884\n",
      "std        10.382859\n",
      "min         1.000000\n",
      "25%        12.000000\n",
      "50%        19.000000\n",
      "75%        25.000000\n",
      "max        67.000000\n",
      "Name: text_len, dtype: float64\n",
      "20268\n"
     ]
    }
   ],
   "source": [
    "df = pd.read_csv('../data/raw/Hate-speech-dataset/hate_speech.tsv', sep='\\t',header=None,usecols=[0,1])\n",
    "df = df.dropna()\n",
    "df.columns = ['text','category']\n",
    "\n",
    "df['text_len'] = df.text.apply(lambda x: len(x.split()))\n",
    "print (df.shape[0], int(df.shape[0]*.8) ,int(df.shape[0]*.1) )\n",
    "print(df['text_len'].describe())\n",
    "num_words = len(set(\" \".join(df.text.values.tolist()).split()))\n",
    "words['hate_speech'] = set(\" \".join(df.text.values.tolist()).split())\n",
    "print(num_words)"
   ]
  },
  {
   "cell_type": "code",
   "execution_count": 19,
   "metadata": {},
   "outputs": [
    {
     "name": "stdout",
     "output_type": "stream",
     "text": [
      "30000 24000 3000\n",
      "count    30000.000000\n",
      "mean        26.086167\n",
      "std         39.924125\n",
      "min          1.000000\n",
      "25%         11.000000\n",
      "50%         16.000000\n",
      "75%         28.000000\n",
      "max       1126.000000\n",
      "Name: text_len, dtype: float64\n",
      "103786\n"
     ]
    }
   ],
   "source": [
    "df = pd.read_csv('../data/processed/Aggression_dataset/train.txt', sep='\\t',header=None,usecols=[0,1])\n",
    "df = df.dropna()\n",
    "df.columns = ['text','category']\n",
    "\n",
    "df_ = pd.read_csv('../data/processed/Aggression_dataset/val.txt', sep='\\t',header=None,usecols=[0,1])\n",
    "df_ = df_.dropna()\n",
    "df_.columns = ['text','category']\n",
    "\n",
    "df = pd.concat([df,df_],axis=0)\n",
    "df['text_len'] = df.text.apply(lambda x: len(x.split()))\n",
    "print (df.shape[0], int(df.shape[0]*.8) ,int(df.shape[0]*.1) )\n",
    "print(df['text_len'].describe())\n",
    "num_words = len(set(\" \".join(df.text.values.tolist()).split()))\n",
    "words['aggression'] = set(\" \".join(df.text.values.tolist()).split())\n",
    "print(num_words)"
   ]
  },
  {
   "cell_type": "code",
   "execution_count": 20,
   "metadata": {},
   "outputs": [
    {
     "name": "stdout",
     "output_type": "stream",
     "text": [
      "2952 2361 295\n",
      "count    2952.000000\n",
      "mean       13.314363\n",
      "std         6.118182\n",
      "min         2.000000\n",
      "25%         8.000000\n",
      "50%        12.000000\n",
      "75%        18.000000\n",
      "max        32.000000\n",
      "Name: text_len, dtype: float64\n",
      "12152\n"
     ]
    }
   ],
   "source": [
    "df = pd.read_csv('../data/processed/humor-detection-corpus/data.txt', sep='\\t',header=None,usecols=[0,1])\n",
    "df = df.dropna()\n",
    "df.columns = ['text','category']\n",
    "\n",
    "df['text_len'] = df.text.apply(lambda x: len(x.split()))\n",
    "print (df.shape[0], int(df.shape[0]*.8) ,int(df.shape[0]*.1) )\n",
    "print(df['text_len'].describe())\n",
    "num_words = len(set(\" \".join(df.text.values.tolist()).split()))\n",
    "words['humor'] = set(\" \".join(df.text.values.tolist()).split())\n",
    "print(num_words)"
   ]
  },
  {
   "cell_type": "code",
   "execution_count": 21,
   "metadata": {},
   "outputs": [
    {
     "name": "stdout",
     "output_type": "stream",
     "text": [
      "5250 4200 525\n",
      "count    5250.000000\n",
      "mean       19.231810\n",
      "std         6.171285\n",
      "min         1.000000\n",
      "25%        15.000000\n",
      "50%        20.000000\n",
      "75%        24.000000\n",
      "max        33.000000\n",
      "Name: text_len, dtype: float64\n",
      "23813\n"
     ]
    }
   ],
   "source": [
    "df = pd.read_csv('../data/processed/SarcasmDetection_CodeMixed/data.txt', sep='\\t',header=None,usecols=[0,1])\n",
    "df = df.dropna()\n",
    "df.columns = ['text','category']\n",
    "\n",
    "df['text_len'] = df.text.apply(lambda x: len(x.split()))\n",
    "print (df.shape[0], int(df.shape[0]*.8) ,int(df.shape[0]*.1) )\n",
    "print(df['text_len'].describe())\n",
    "num_words = len(set(\" \".join(df.text.values.tolist()).split()))\n",
    "words['sarcasm'] = set(\" \".join(df.text.values.tolist()).split())\n",
    "print(num_words)"
   ]
  },
  {
   "cell_type": "code",
   "execution_count": 22,
   "metadata": {},
   "outputs": [
    {
     "name": "stdout",
     "output_type": "stream",
     "text": [
      "3545 2836 354\n",
      "count    3545.000000\n",
      "mean       18.539915\n",
      "std         6.018515\n",
      "min         2.000000\n",
      "25%        14.000000\n",
      "50%        19.000000\n",
      "75%        23.000000\n",
      "max        32.000000\n",
      "Name: text_len, dtype: float64\n",
      "15390\n"
     ]
    }
   ],
   "source": [
    "df = pd.read_csv('../data/processed/StanceDetection_CodeMixed/data.txt', sep='\\t',header=None,usecols=[0,1])\n",
    "df = df.dropna()\n",
    "df.columns = ['text','category']\n",
    "\n",
    "df['text_len'] = df.text.apply(lambda x: len(x.split()))\n",
    "print (df.shape[0], int(df.shape[0]*.8) ,int(df.shape[0]*.1) )\n",
    "print(df['text_len'].describe())\n",
    "num_words = len(set(\" \".join(df.text.values.tolist()).split()))\n",
    "words['stance'] = set(\" \".join(df.text.values.tolist()).split())\n",
    "print(num_words)"
   ]
  },
  {
   "cell_type": "code",
   "execution_count": 23,
   "metadata": {},
   "outputs": [
    {
     "name": "stdout",
     "output_type": "stream",
     "text": [
      "hate_speech aggression 0.4957568581014407\n",
      "hate_speech humor 0.1923228734951648\n",
      "hate_speech sarcasm 0.3406354845075982\n",
      "hate_speech stance 0.23554371422932702\n",
      "aggression hate_speech 0.09681459927157805\n",
      "aggression humor 0.05669358102248858\n",
      "aggression sarcasm 0.09896325130557108\n",
      "aggression stance 0.06852562002582237\n",
      "humor hate_speech 0.3207702435813035\n",
      "humor aggression 0.48420013166556947\n",
      "humor sarcasm 0.36043449637919683\n",
      "humor stance 0.2564186965108624\n",
      "sarcasm hate_speech 0.2899256708520556\n",
      "sarcasm aggression 0.4313190274219964\n",
      "sarcasm humor 0.18393314576071892\n",
      "sarcasm stance 0.21660437576113886\n",
      "stance hate_speech 0.3102014294996751\n",
      "stance aggression 0.4621182586094867\n",
      "stance humor 0.20246913580246914\n",
      "stance sarcasm 0.33515269655620533\n"
     ]
    }
   ],
   "source": [
    "for key1, val1 in words.items():\n",
    "    for key2, val2 in words.items():\n",
    "        if key1 != key2:\n",
    "            print (key1, key2, len(val1.intersection(val2))*1.0/len(val1))"
   ]
  },
  {
   "cell_type": "code",
   "execution_count": null,
   "metadata": {},
   "outputs": [],
   "source": []
  }
 ],
 "metadata": {
  "kernelspec": {
   "display_name": "Python 3",
   "language": "python",
   "name": "python3"
  },
  "language_info": {
   "codemirror_mode": {
    "name": "ipython",
    "version": 3
   },
   "file_extension": ".py",
   "mimetype": "text/x-python",
   "name": "python",
   "nbconvert_exporter": "python",
   "pygments_lexer": "ipython3",
   "version": "3.7.1"
  }
 },
 "nbformat": 4,
 "nbformat_minor": 4
}
