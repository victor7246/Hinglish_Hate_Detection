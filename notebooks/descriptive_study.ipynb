{
 "cells": [
  {
   "cell_type": "code",
   "execution_count": 1,
   "metadata": {},
   "outputs": [
    {
     "name": "stderr",
     "output_type": "stream",
     "text": [
      "I0127 17:43:46.948700 4506590720 file_utils.py:41] PyTorch version 1.4.0 available.\n",
      "I0127 17:43:46.949755 4506590720 file_utils.py:57] TensorFlow version 2.2.0-rc3 available.\n"
     ]
    }
   ],
   "source": [
    "import sys\n",
    "import os\n",
    "\n",
    "try:\n",
    "    sys.path.append(os.path.join(os.path.dirname(__file__), '../'))\n",
    "except:\n",
    "    sys.path.append(os.path.join(os.getcwd(), '../'))\n",
    "    \n",
    "import re\n",
    "\n",
    "import pandas as pd\n",
    "from src import data, models\n",
    "\n",
    "from scipy.stats import chi2_contingency\n",
    "from scipy.stats import chi2, ttest_ind"
   ]
  },
  {
   "cell_type": "code",
   "execution_count": 2,
   "metadata": {},
   "outputs": [],
   "source": [
    "words = {}"
   ]
  },
  {
   "cell_type": "code",
   "execution_count": 3,
   "metadata": {},
   "outputs": [
    {
     "name": "stderr",
     "output_type": "stream",
     "text": [
      "I0127 17:43:47.972160 4506590720 utils.py:141] NumExpr defaulting to 4 threads.\n"
     ]
    },
    {
     "name": "stdout",
     "output_type": "stream",
     "text": [
      "4578 3662 457\n",
      "count    4578.000000\n",
      "mean       19.993884\n",
      "std        10.382859\n",
      "min         1.000000\n",
      "25%        12.000000\n",
      "50%        19.000000\n",
      "75%        25.000000\n",
      "max        67.000000\n",
      "Name: text_len, dtype: float64\n",
      "20268\n"
     ]
    }
   ],
   "source": [
    "df = pd.read_csv('../data/raw/Hate-speech-dataset/hate_speech.tsv', sep='\\t',header=None,usecols=[0,1])\n",
    "df = df.dropna()\n",
    "df.columns = ['text','category']\n",
    "\n",
    "df['text_len'] = df.text.apply(lambda x: len(x.split()))\n",
    "print (df.shape[0], int(df.shape[0]*.8) ,int(df.shape[0]*.1) )\n",
    "print(df['text_len'].describe())\n",
    "num_words = len(set(\" \".join(df.text.values.tolist()).split()))\n",
    "words['hate_speech'] = set(\" \".join(df.text.values.tolist()).split())\n",
    "print(num_words)"
   ]
  },
  {
   "cell_type": "code",
   "execution_count": 4,
   "metadata": {},
   "outputs": [
    {
     "name": "stdout",
     "output_type": "stream",
     "text": [
      "30000 24000 3000\n",
      "count    30000.000000\n",
      "mean        26.086167\n",
      "std         39.924125\n",
      "min          1.000000\n",
      "25%         11.000000\n",
      "50%         16.000000\n",
      "75%         28.000000\n",
      "max       1126.000000\n",
      "Name: text_len, dtype: float64\n",
      "103786\n"
     ]
    }
   ],
   "source": [
    "df = pd.read_csv('../data/processed/Aggression_dataset/train.txt', sep='\\t',header=None,usecols=[0,1])\n",
    "df = df.dropna()\n",
    "df.columns = ['text','category']\n",
    "\n",
    "df_ = pd.read_csv('../data/processed/Aggression_dataset/val.txt', sep='\\t',header=None,usecols=[0,1])\n",
    "df_ = df_.dropna()\n",
    "df_.columns = ['text','category']\n",
    "\n",
    "df = pd.concat([df,df_],axis=0)\n",
    "df['text_len'] = df.text.apply(lambda x: len(x.split()))\n",
    "print (df.shape[0], int(df.shape[0]*.8) ,int(df.shape[0]*.1) )\n",
    "print(df['text_len'].describe())\n",
    "num_words = len(set(\" \".join(df.text.values.tolist()).split()))\n",
    "words['aggression'] = set(\" \".join(df.text.values.tolist()).split())\n",
    "print(num_words)"
   ]
  },
  {
   "cell_type": "code",
   "execution_count": 5,
   "metadata": {},
   "outputs": [
    {
     "name": "stdout",
     "output_type": "stream",
     "text": [
      "2952 2361 295\n",
      "count    2952.000000\n",
      "mean       13.314363\n",
      "std         6.118182\n",
      "min         2.000000\n",
      "25%         8.000000\n",
      "50%        12.000000\n",
      "75%        18.000000\n",
      "max        32.000000\n",
      "Name: text_len, dtype: float64\n",
      "12152\n"
     ]
    }
   ],
   "source": [
    "df = pd.read_csv('../data/processed/humor-detection-corpus/data.txt', sep='\\t',header=None,usecols=[0,1])\n",
    "df = df.dropna()\n",
    "df.columns = ['text','category']\n",
    "\n",
    "df['text_len'] = df.text.apply(lambda x: len(x.split()))\n",
    "print (df.shape[0], int(df.shape[0]*.8) ,int(df.shape[0]*.1) )\n",
    "print(df['text_len'].describe())\n",
    "num_words = len(set(\" \".join(df.text.values.tolist()).split()))\n",
    "words['humor'] = set(\" \".join(df.text.values.tolist()).split())\n",
    "print(num_words)"
   ]
  },
  {
   "cell_type": "code",
   "execution_count": 6,
   "metadata": {},
   "outputs": [
    {
     "name": "stdout",
     "output_type": "stream",
     "text": [
      "5250 4200 525\n",
      "count    5250.000000\n",
      "mean       19.231810\n",
      "std         6.171285\n",
      "min         1.000000\n",
      "25%        15.000000\n",
      "50%        20.000000\n",
      "75%        24.000000\n",
      "max        33.000000\n",
      "Name: text_len, dtype: float64\n",
      "23813\n"
     ]
    }
   ],
   "source": [
    "df = pd.read_csv('../data/processed/SarcasmDetection_CodeMixed/data.txt', sep='\\t',header=None,usecols=[0,1])\n",
    "df = df.dropna()\n",
    "df.columns = ['text','category']\n",
    "\n",
    "df['text_len'] = df.text.apply(lambda x: len(x.split()))\n",
    "print (df.shape[0], int(df.shape[0]*.8) ,int(df.shape[0]*.1) )\n",
    "print(df['text_len'].describe())\n",
    "num_words = len(set(\" \".join(df.text.values.tolist()).split()))\n",
    "words['sarcasm'] = set(\" \".join(df.text.values.tolist()).split())\n",
    "print(num_words)"
   ]
  },
  {
   "cell_type": "code",
   "execution_count": 7,
   "metadata": {},
   "outputs": [
    {
     "name": "stdout",
     "output_type": "stream",
     "text": [
      "3545 2836 354\n",
      "count    3545.000000\n",
      "mean       18.539915\n",
      "std         6.018515\n",
      "min         2.000000\n",
      "25%        14.000000\n",
      "50%        19.000000\n",
      "75%        23.000000\n",
      "max        32.000000\n",
      "Name: text_len, dtype: float64\n",
      "15390\n"
     ]
    }
   ],
   "source": [
    "df = pd.read_csv('../data/processed/StanceDetection_CodeMixed/data.txt', sep='\\t',header=None,usecols=[0,1])\n",
    "df = df.dropna()\n",
    "df.columns = ['text','category']\n",
    "\n",
    "df['text_len'] = df.text.apply(lambda x: len(x.split()))\n",
    "print (df.shape[0], int(df.shape[0]*.8) ,int(df.shape[0]*.1) )\n",
    "print(df['text_len'].describe())\n",
    "num_words = len(set(\" \".join(df.text.values.tolist()).split()))\n",
    "words['stance'] = set(\" \".join(df.text.values.tolist()).split())\n",
    "print(num_words)"
   ]
  },
  {
   "cell_type": "code",
   "execution_count": 8,
   "metadata": {},
   "outputs": [
    {
     "name": "stdout",
     "output_type": "stream",
     "text": [
      "hate_speech aggression 0.4957568581014407\n",
      "hate_speech humor 0.1923228734951648\n",
      "hate_speech sarcasm 0.3406354845075982\n",
      "hate_speech stance 0.23554371422932702\n",
      "aggression hate_speech 0.09681459927157805\n",
      "aggression humor 0.05669358102248858\n",
      "aggression sarcasm 0.09896325130557108\n",
      "aggression stance 0.06852562002582237\n",
      "humor hate_speech 0.3207702435813035\n",
      "humor aggression 0.48420013166556947\n",
      "humor sarcasm 0.36043449637919683\n",
      "humor stance 0.2564186965108624\n",
      "sarcasm hate_speech 0.2899256708520556\n",
      "sarcasm aggression 0.4313190274219964\n",
      "sarcasm humor 0.18393314576071892\n",
      "sarcasm stance 0.21660437576113886\n",
      "stance hate_speech 0.3102014294996751\n",
      "stance aggression 0.4621182586094867\n",
      "stance humor 0.20246913580246914\n",
      "stance sarcasm 0.33515269655620533\n"
     ]
    }
   ],
   "source": [
    "for key1, val1 in words.items():\n",
    "    for key2, val2 in words.items():\n",
    "        if key1 != key2:\n",
    "            print (key1, key2, len(val1.intersection(val2))*1.0/len(val1))"
   ]
  },
  {
   "cell_type": "code",
   "execution_count": 9,
   "metadata": {},
   "outputs": [],
   "source": [
    "def calculate_lift(df,col1='category',col2='category_predicted_model2'):\n",
    "    for val1 in df[col1].unique():\n",
    "        for val2 in df[col2].unique():\n",
    "            support = df[(df[col1] == val1) & (df[col2] == val2)].shape[0]/df.shape[0]\n",
    "            confidence = support*df.shape[0]/df[df[col2] == val2].shape[0]\n",
    "            lift = confidence*df.shape[0]/df[df[col1] == val1].shape[0]\n",
    "            \n",
    "            print (\"Lift of {} => {} is {}\".format(val1,val2,lift))"
   ]
  },
  {
   "cell_type": "code",
   "execution_count": 10,
   "metadata": {},
   "outputs": [],
   "source": [
    "hate_test = pd.read_csv('../models/hate_detection/full_test.csv',sep='\\t')"
   ]
  },
  {
   "cell_type": "code",
   "execution_count": 11,
   "metadata": {},
   "outputs": [
    {
     "data": {
      "text/html": [
       "<div>\n",
       "<style scoped>\n",
       "    .dataframe tbody tr th:only-of-type {\n",
       "        vertical-align: middle;\n",
       "    }\n",
       "\n",
       "    .dataframe tbody tr th {\n",
       "        vertical-align: top;\n",
       "    }\n",
       "\n",
       "    .dataframe thead th {\n",
       "        text-align: right;\n",
       "    }\n",
       "</style>\n",
       "<table border=\"1\" class=\"dataframe\">\n",
       "  <thead>\n",
       "    <tr style=\"text-align: right;\">\n",
       "      <th></th>\n",
       "      <th>text</th>\n",
       "      <th>category</th>\n",
       "      <th>type</th>\n",
       "      <th>category_predicted_model1</th>\n",
       "      <th>category_prob_model1</th>\n",
       "      <th>category_predicted_model2</th>\n",
       "      <th>category_prob_model2</th>\n",
       "    </tr>\n",
       "  </thead>\n",
       "  <tbody>\n",
       "    <tr>\n",
       "      <th>0</th>\n",
       "      <td>doctor  sab sahi me ke phd (in hate politics) ...</td>\n",
       "      <td>no</td>\n",
       "      <td>hate</td>\n",
       "      <td>no</td>\n",
       "      <td>1.000000</td>\n",
       "      <td>no</td>\n",
       "      <td>0.999984</td>\n",
       "    </tr>\n",
       "    <tr>\n",
       "      <th>1</th>\n",
       "      <td>poore desh me patel obc me aate hain sirf gujr...</td>\n",
       "      <td>no</td>\n",
       "      <td>hate</td>\n",
       "      <td>no</td>\n",
       "      <td>0.999994</td>\n",
       "      <td>no</td>\n",
       "      <td>0.993172</td>\n",
       "    </tr>\n",
       "    <tr>\n",
       "      <th>2</th>\n",
       "      <td>hate it jab test ata ho phr bh acha na ho -.-</td>\n",
       "      <td>yes</td>\n",
       "      <td>hate</td>\n",
       "      <td>yes</td>\n",
       "      <td>0.999999</td>\n",
       "      <td>yes</td>\n",
       "      <td>0.998417</td>\n",
       "    </tr>\n",
       "    <tr>\n",
       "      <th>3</th>\n",
       "      <td>ek dil ek jaan akal ke imitihaan kal kp ke rap...</td>\n",
       "      <td>no</td>\n",
       "      <td>hate</td>\n",
       "      <td>no</td>\n",
       "      <td>0.999999</td>\n",
       "      <td>no</td>\n",
       "      <td>0.915283</td>\n",
       "    </tr>\n",
       "    <tr>\n",
       "      <th>4</th>\n",
       "      <td>aise logo se sakht nafrat karta hu jo caste ko...</td>\n",
       "      <td>yes</td>\n",
       "      <td>hate</td>\n",
       "      <td>yes</td>\n",
       "      <td>1.000000</td>\n",
       "      <td>yes</td>\n",
       "      <td>0.999865</td>\n",
       "    </tr>\n",
       "  </tbody>\n",
       "</table>\n",
       "</div>"
      ],
      "text/plain": [
       "                                                text category  type  \\\n",
       "0  doctor  sab sahi me ke phd (in hate politics) ...       no  hate   \n",
       "1  poore desh me patel obc me aate hain sirf gujr...       no  hate   \n",
       "2      hate it jab test ata ho phr bh acha na ho -.-      yes  hate   \n",
       "3  ek dil ek jaan akal ke imitihaan kal kp ke rap...       no  hate   \n",
       "4  aise logo se sakht nafrat karta hu jo caste ko...      yes  hate   \n",
       "\n",
       "  category_predicted_model1  category_prob_model1 category_predicted_model2  \\\n",
       "0                        no              1.000000                        no   \n",
       "1                        no              0.999994                        no   \n",
       "2                       yes              0.999999                       yes   \n",
       "3                        no              0.999999                        no   \n",
       "4                       yes              1.000000                       yes   \n",
       "\n",
       "   category_prob_model2  \n",
       "0              0.999984  \n",
       "1              0.993172  \n",
       "2              0.998417  \n",
       "3              0.915283  \n",
       "4              0.999865  "
      ]
     },
     "execution_count": 11,
     "metadata": {},
     "output_type": "execute_result"
    }
   ],
   "source": [
    "hate_test.head()"
   ]
  },
  {
   "cell_type": "code",
   "execution_count": 12,
   "metadata": {},
   "outputs": [
    {
     "name": "stdout",
     "output_type": "stream",
     "text": [
      "3.252024298636947e-07\n"
     ]
    }
   ],
   "source": [
    "_, p, _, _ = chi2_contingency(pd.crosstab(hate_test[hate_test['type'] == 'aggression']['category'],\\\n",
    "            hate_test[hate_test['type'] == 'aggression']['category_predicted_model2']).values)\n",
    "\n",
    "print (p)"
   ]
  },
  {
   "cell_type": "code",
   "execution_count": 13,
   "metadata": {},
   "outputs": [
    {
     "data": {
      "text/plain": [
       "category  category_predicted_model2\n",
       "CAG       no                           0.884984\n",
       "          yes                          0.115016\n",
       "NAG       no                           0.946333\n",
       "          yes                          0.053667\n",
       "OAG       no                           0.857023\n",
       "          yes                          0.142977\n",
       "Name: category_predicted_model2, dtype: float64"
      ]
     },
     "execution_count": 13,
     "metadata": {},
     "output_type": "execute_result"
    }
   ],
   "source": [
    "hate_test[hate_test['type'] == 'aggression'].groupby(['category'])['category_predicted_model2'].value_counts(normalize=True)"
   ]
  },
  {
   "cell_type": "code",
   "execution_count": 14,
   "metadata": {},
   "outputs": [
    {
     "name": "stdout",
     "output_type": "stream",
     "text": [
      "Lift of OAG => yes is 1.2468949869931738\n",
      "Lift of OAG => no is 0.9680226372267876\n",
      "Lift of CAG => yes is 1.0030462887287317\n",
      "Lift of CAG => no is 0.9996054505562185\n",
      "Lift of NAG => yes is 0.4680284561301328\n",
      "Lift of NAG => no is 1.0688999288747116\n"
     ]
    }
   ],
   "source": [
    "calculate_lift(hate_test[hate_test['type'] == 'aggression'])"
   ]
  },
  {
   "cell_type": "code",
   "execution_count": 15,
   "metadata": {},
   "outputs": [
    {
     "name": "stdout",
     "output_type": "stream",
     "text": [
      "0.9380758044926549\n"
     ]
    }
   ],
   "source": [
    "_, p, _, _ = chi2_contingency(pd.crosstab(hate_test[hate_test['type'] == 'humor']['category'],\\\n",
    "            hate_test[hate_test['type'] == 'humor']['category_predicted_model2']).values)\n",
    "\n",
    "print (p)"
   ]
  },
  {
   "cell_type": "code",
   "execution_count": 16,
   "metadata": {},
   "outputs": [
    {
     "data": {
      "text/plain": [
       "category  category_predicted_model2\n",
       "H         no                           0.926136\n",
       "          yes                          0.073864\n",
       "N         no                           0.916667\n",
       "          yes                          0.083333\n",
       "Name: category_predicted_model2, dtype: float64"
      ]
     },
     "execution_count": 16,
     "metadata": {},
     "output_type": "execute_result"
    }
   ],
   "source": [
    "hate_test[hate_test['type'] == 'humor'].groupby(['category'])['category_predicted_model2'].value_counts(normalize=True)"
   ]
  },
  {
   "cell_type": "code",
   "execution_count": 17,
   "metadata": {},
   "outputs": [
    {
     "name": "stdout",
     "output_type": "stream",
     "text": [
      "Lift of H => no is 1.0041625041625042\n",
      "Lift of H => yes is 0.950592885375494\n",
      "Lift of N => no is 0.9938949938949939\n",
      "Lift of N => yes is 1.072463768115942\n"
     ]
    }
   ],
   "source": [
    "calculate_lift(hate_test[hate_test['type'] == 'humor'])"
   ]
  },
  {
   "cell_type": "code",
   "execution_count": 18,
   "metadata": {},
   "outputs": [
    {
     "name": "stdout",
     "output_type": "stream",
     "text": [
      "0.6874626944218479\n"
     ]
    }
   ],
   "source": [
    "_, p, _, _ = chi2_contingency(pd.crosstab(hate_test[hate_test['type'] == 'sarcasm']['category'],\\\n",
    "            hate_test[hate_test['type'] == 'sarcasm']['category_predicted_model2']).values)\n",
    "\n",
    "print (p)"
   ]
  },
  {
   "cell_type": "code",
   "execution_count": 19,
   "metadata": {},
   "outputs": [
    {
     "data": {
      "text/plain": [
       "category  category_predicted_model2\n",
       "NO        no                           0.888412\n",
       "          yes                          0.111588\n",
       "YES       no                           0.915254\n",
       "          yes                          0.084746\n",
       "Name: category_predicted_model2, dtype: float64"
      ]
     },
     "execution_count": 19,
     "metadata": {},
     "output_type": "execute_result"
    }
   ],
   "source": [
    "hate_test[hate_test['type'] == 'sarcasm'].groupby(['category'])['category_predicted_model2'].value_counts(normalize=True)"
   ]
  },
  {
   "cell_type": "code",
   "execution_count": 20,
   "metadata": {},
   "outputs": [
    {
     "name": "stdout",
     "output_type": "stream",
     "text": [
      "Lift of NO => no is 0.9966160448993067\n",
      "Lift of NO => yes is 1.0277840524056923\n",
      "Lift of YES => no is 1.0267275097783573\n",
      "Lift of YES => yes is 0.7805530776092775\n"
     ]
    }
   ],
   "source": [
    "calculate_lift(hate_test[hate_test['type'] == 'sarcasm'])"
   ]
  },
  {
   "cell_type": "code",
   "execution_count": 21,
   "metadata": {},
   "outputs": [
    {
     "name": "stdout",
     "output_type": "stream",
     "text": [
      "0.6602731269338526\n"
     ]
    }
   ],
   "source": [
    "_, p, _, _ = chi2_contingency(pd.crosstab(hate_test[hate_test['type'] == 'stance']['category'],\\\n",
    "            hate_test[hate_test['type'] == 'stance']['category_predicted_model2']).values)\n",
    "\n",
    "print (p)"
   ]
  },
  {
   "cell_type": "code",
   "execution_count": 22,
   "metadata": {},
   "outputs": [
    {
     "data": {
      "text/plain": [
       "category  category_predicted_model2\n",
       "AGAINST   no                           0.882353\n",
       "          yes                          0.117647\n",
       "FAVOR     no                           0.877193\n",
       "          yes                          0.122807\n",
       "NONE      no                           0.908213\n",
       "          yes                          0.091787\n",
       "Name: category_predicted_model2, dtype: float64"
      ]
     },
     "execution_count": 22,
     "metadata": {},
     "output_type": "execute_result"
    }
   ],
   "source": [
    "hate_test[hate_test['type'] == 'stance'].groupby(['category'])['category_predicted_model2'].value_counts(normalize=True)"
   ]
  },
  {
   "cell_type": "code",
   "execution_count": 23,
   "metadata": {},
   "outputs": [
    {
     "name": "stdout",
     "output_type": "stream",
     "text": [
      "Lift of NONE => no is 1.0138850909974781\n",
      "Lift of NONE => yes is 0.8806632719676197\n",
      "Lift of FAVOR => no is 0.9792563168928611\n",
      "Lift of FAVOR => yes is 1.1782835467045993\n",
      "Lift of AGAINST => no is 0.9850166481687016\n",
      "Lift of AGAINST => yes is 1.1287758346581875\n"
     ]
    }
   ],
   "source": [
    "calculate_lift(hate_test[hate_test['type'] == 'stance'])"
   ]
  },
  {
   "cell_type": "code",
   "execution_count": 24,
   "metadata": {},
   "outputs": [],
   "source": [
    "aggression_test = pd.read_csv('../models/model_aggression/full_test.csv',sep='\\t')"
   ]
  },
  {
   "cell_type": "code",
   "execution_count": 25,
   "metadata": {},
   "outputs": [
    {
     "name": "stdout",
     "output_type": "stream",
     "text": [
      "0.6126646037670338\n"
     ]
    }
   ],
   "source": [
    "_, p, _, _ = chi2_contingency(pd.crosstab(aggression_test[aggression_test['type'] == 'hate']['category'],\\\n",
    "            aggression_test[aggression_test['type'] == 'hate']['category_predicted_model2']).values)\n",
    "\n",
    "print (p)"
   ]
  },
  {
   "cell_type": "code",
   "execution_count": 26,
   "metadata": {},
   "outputs": [
    {
     "data": {
      "text/plain": [
       "category  category_predicted_model2\n",
       "no        CAG                          0.459119\n",
       "          OAG                          0.430818\n",
       "          NAG                          0.110063\n",
       "yes       OAG                          0.471429\n",
       "          CAG                          0.442857\n",
       "          NAG                          0.085714\n",
       "Name: category_predicted_model2, dtype: float64"
      ]
     },
     "execution_count": 26,
     "metadata": {},
     "output_type": "execute_result"
    }
   ],
   "source": [
    "aggression_test[aggression_test['type'] == 'hate'].groupby(['category'])['category_predicted_model2'].value_counts(normalize=True)"
   ]
  },
  {
   "cell_type": "code",
   "execution_count": 27,
   "metadata": {},
   "outputs": [
    {
     "name": "stdout",
     "output_type": "stream",
     "text": [
      "Lift of no => OAG is 0.9719924404374631\n",
      "Lift of no => CAG is 1.0109458151910982\n",
      "Lift of no => NAG is 1.072527766626522\n",
      "Lift of yes => OAG is 1.0636171710063336\n",
      "Lift of yes => CAG is 0.9751373626373628\n",
      "Lift of yes => NAG is 0.8352583586626139\n"
     ]
    }
   ],
   "source": [
    "calculate_lift(aggression_test[aggression_test['type'] == 'hate'])"
   ]
  },
  {
   "cell_type": "code",
   "execution_count": 28,
   "metadata": {},
   "outputs": [
    {
     "name": "stdout",
     "output_type": "stream",
     "text": [
      "0.2087935901118099\n"
     ]
    }
   ],
   "source": [
    "_, p, _, _ = chi2_contingency(pd.crosstab(aggression_test[aggression_test['type'] == 'humor']['category'],\\\n",
    "            aggression_test[aggression_test['type'] == 'humor']['category_predicted_model2']).values)\n",
    "\n",
    "print (p)"
   ]
  },
  {
   "cell_type": "code",
   "execution_count": 29,
   "metadata": {},
   "outputs": [
    {
     "data": {
      "text/plain": [
       "category  category_predicted_model2\n",
       "H         CAG                          0.392045\n",
       "          OAG                          0.386364\n",
       "          NAG                          0.221591\n",
       "N         CAG                          0.425000\n",
       "          OAG                          0.291667\n",
       "          NAG                          0.283333\n",
       "Name: category_predicted_model2, dtype: float64"
      ]
     },
     "execution_count": 29,
     "metadata": {},
     "output_type": "execute_result"
    }
   ],
   "source": [
    "aggression_test[aggression_test['type'] == 'humor'].groupby(['category'])['category_predicted_model2'].value_counts(normalize=True)"
   ]
  },
  {
   "cell_type": "code",
   "execution_count": 30,
   "metadata": {},
   "outputs": [
    {
     "name": "stdout",
     "output_type": "stream",
     "text": [
      "Lift of H => OAG is 1.1103265666372464\n",
      "Lift of H => NAG is 0.8985056039850559\n",
      "Lift of H => CAG is 0.9670454545454544\n",
      "Lift of N => OAG is 0.8381877022653722\n",
      "Lift of N => NAG is 1.1488584474885846\n",
      "Lift of N => CAG is 1.0483333333333333\n"
     ]
    }
   ],
   "source": [
    "calculate_lift(aggression_test[aggression_test['type'] == 'humor'])"
   ]
  },
  {
   "cell_type": "code",
   "execution_count": 31,
   "metadata": {},
   "outputs": [
    {
     "name": "stdout",
     "output_type": "stream",
     "text": [
      "0.07273999330705425\n"
     ]
    }
   ],
   "source": [
    "_, p, _, _ = chi2_contingency(pd.crosstab(aggression_test[aggression_test['type'] == 'sarcasm']['category'],\\\n",
    "            aggression_test[aggression_test['type'] == 'sarcasm']['category_predicted_model2']).values)\n",
    "\n",
    "print (p)"
   ]
  },
  {
   "cell_type": "code",
   "execution_count": 32,
   "metadata": {},
   "outputs": [
    {
     "data": {
      "text/plain": [
       "category  category_predicted_model2\n",
       "NO        CAG                          0.532189\n",
       "          OAG                          0.336910\n",
       "          NAG                          0.130901\n",
       "YES       CAG                          0.559322\n",
       "          NAG                          0.220339\n",
       "          OAG                          0.220339\n",
       "Name: category_predicted_model2, dtype: float64"
      ]
     },
     "execution_count": 32,
     "metadata": {},
     "output_type": "execute_result"
    }
   ],
   "source": [
    "aggression_test[aggression_test['type'] == 'sarcasm'].groupby(['category'])['category_predicted_model2'].value_counts(normalize=True)"
   ]
  },
  {
   "cell_type": "code",
   "execution_count": 33,
   "metadata": {},
   "outputs": [
    {
     "name": "stdout",
     "output_type": "stream",
     "text": [
      "Lift of NO => CAG is 0.9943029951277627\n",
      "Lift of NO => OAG is 1.0404569553143146\n",
      "Lift of NO => NAG is 0.9286915671035842\n",
      "Lift of YES => CAG is 1.0449966825502142\n",
      "Lift of YES => OAG is 0.6804586241276172\n",
      "Lift of YES => NAG is 1.5632157581310127\n"
     ]
    }
   ],
   "source": [
    "calculate_lift(aggression_test[aggression_test['type'] == 'sarcasm'])"
   ]
  },
  {
   "cell_type": "code",
   "execution_count": 34,
   "metadata": {},
   "outputs": [
    {
     "name": "stdout",
     "output_type": "stream",
     "text": [
      "0.6717344758535984\n"
     ]
    }
   ],
   "source": [
    "_, p, _, _ = chi2_contingency(pd.crosstab(aggression_test[aggression_test['type'] == 'stance']['category'],\\\n",
    "            aggression_test[aggression_test['type'] == 'stance']['category_predicted_model2']).values)\n",
    "\n",
    "print (p)"
   ]
  },
  {
   "cell_type": "code",
   "execution_count": 35,
   "metadata": {},
   "outputs": [
    {
     "data": {
      "text/plain": [
       "category  category_predicted_model2\n",
       "AGAINST   CAG                          0.705882\n",
       "          OAG                          0.235294\n",
       "          NAG                          0.058824\n",
       "FAVOR     CAG                          0.631579\n",
       "          OAG                          0.280702\n",
       "          NAG                          0.087719\n",
       "NONE      CAG                          0.589372\n",
       "          OAG                          0.294686\n",
       "          NAG                          0.115942\n",
       "Name: category_predicted_model2, dtype: float64"
      ]
     },
     "execution_count": 35,
     "metadata": {},
     "output_type": "execute_result"
    }
   ],
   "source": [
    "aggression_test[aggression_test['type'] == 'stance'].groupby(['category'])['category_predicted_model2'].value_counts(normalize=True)"
   ]
  },
  {
   "cell_type": "code",
   "execution_count": 36,
   "metadata": {},
   "outputs": [
    {
     "name": "stdout",
     "output_type": "stream",
     "text": [
      "Lift of NONE => OAG is 1.0357774907925574\n",
      "Lift of NONE => CAG is 0.959757124495856\n",
      "Lift of NONE => NAG is 1.1433172302737518\n",
      "Lift of FAVOR => OAG is 0.9866249782873024\n",
      "Lift of FAVOR => CAG is 1.0284886528247223\n",
      "Lift of FAVOR => NAG is 0.865009746588694\n",
      "Lift of AGAINST => OAG is 0.8270238788584741\n",
      "Lift of AGAINST => CAG is 1.1494873178629248\n",
      "Lift of AGAINST => NAG is 0.5800653594771241\n"
     ]
    }
   ],
   "source": [
    "calculate_lift(aggression_test[aggression_test['type'] == 'stance'])"
   ]
  },
  {
   "cell_type": "code",
   "execution_count": 37,
   "metadata": {},
   "outputs": [],
   "source": [
    "humor_test = pd.read_csv('../models/humor_detection/full_test.csv',sep='\\t')"
   ]
  },
  {
   "cell_type": "code",
   "execution_count": 38,
   "metadata": {},
   "outputs": [
    {
     "name": "stdout",
     "output_type": "stream",
     "text": [
      "0.9977765902751704\n"
     ]
    }
   ],
   "source": [
    "_, p, _, _ = chi2_contingency(pd.crosstab(humor_test[humor_test['type'] == 'hate']['category'],\\\n",
    "            humor_test[humor_test['type'] == 'hate']['category_predicted_model2']).values)\n",
    "\n",
    "print (p)"
   ]
  },
  {
   "cell_type": "code",
   "execution_count": 39,
   "metadata": {},
   "outputs": [
    {
     "data": {
      "text/plain": [
       "category  category_predicted_model2\n",
       "no        H                            0.805031\n",
       "          N                            0.194969\n",
       "yes       H                            0.800000\n",
       "          N                            0.200000\n",
       "Name: category_predicted_model2, dtype: float64"
      ]
     },
     "execution_count": 39,
     "metadata": {},
     "output_type": "execute_result"
    }
   ],
   "source": [
    "humor_test[humor_test['type'] == 'hate'].groupby(['category'])['category_predicted_model2'].value_counts(normalize=True)"
   ]
  },
  {
   "cell_type": "code",
   "execution_count": 40,
   "metadata": {},
   "outputs": [
    {
     "name": "stdout",
     "output_type": "stream",
     "text": [
      "Lift of no => N is 0.9921733053808528\n",
      "Lift of no => H is 1.001914137270987\n",
      "Lift of yes => N is 1.0177777777777777\n",
      "Lift of yes => H is 0.9956521739130435\n"
     ]
    }
   ],
   "source": [
    "calculate_lift(humor_test[humor_test['type'] == 'hate'])"
   ]
  },
  {
   "cell_type": "code",
   "execution_count": 41,
   "metadata": {},
   "outputs": [
    {
     "name": "stdout",
     "output_type": "stream",
     "text": [
      "0.6536227360236224\n"
     ]
    }
   ],
   "source": [
    "_, p, _, _ = chi2_contingency(pd.crosstab(humor_test[humor_test['type'] == 'sarcasm']['category'],\\\n",
    "            humor_test[humor_test['type'] == 'sarcasm']['category_predicted_model2']).values)\n",
    "\n",
    "print (p)"
   ]
  },
  {
   "cell_type": "code",
   "execution_count": 42,
   "metadata": {},
   "outputs": [
    {
     "data": {
      "text/plain": [
       "category  category_predicted_model2\n",
       "NO        H                            0.781116\n",
       "          N                            0.218884\n",
       "YES       H                            0.745763\n",
       "          N                            0.254237\n",
       "Name: category_predicted_model2, dtype: float64"
      ]
     },
     "execution_count": 42,
     "metadata": {},
     "output_type": "execute_result"
    }
   ],
   "source": [
    "humor_test[humor_test['type'] == 'sarcasm'].groupby(['category'])['category_predicted_model2'].value_counts(normalize=True)"
   ]
  },
  {
   "cell_type": "code",
   "execution_count": 43,
   "metadata": {},
   "outputs": [
    {
     "name": "stdout",
     "output_type": "stream",
     "text": [
      "Lift of NO => N is 0.9821723341036646\n",
      "Lift of NO => H is 1.0051123453673316\n",
      "Lift of YES => N is 1.1408083441981747\n",
      "Lift of YES => H is 0.9596211365902293\n"
     ]
    }
   ],
   "source": [
    "calculate_lift(humor_test[humor_test['type'] == 'sarcasm'])"
   ]
  },
  {
   "cell_type": "code",
   "execution_count": 44,
   "metadata": {},
   "outputs": [
    {
     "name": "stdout",
     "output_type": "stream",
     "text": [
      "9.44501359285401e-16\n"
     ]
    }
   ],
   "source": [
    "_, p, _, _ = chi2_contingency(pd.crosstab(humor_test[humor_test['type'] == 'aggression']['category'],\\\n",
    "            humor_test[humor_test['type'] == 'aggression']['category_predicted_model2']).values)\n",
    "\n",
    "print (p)"
   ]
  },
  {
   "cell_type": "code",
   "execution_count": 45,
   "metadata": {},
   "outputs": [
    {
     "data": {
      "text/plain": [
       "category  category_predicted_model2\n",
       "CAG       H                            0.542332\n",
       "          N                            0.457668\n",
       "NAG       N                            0.633274\n",
       "          H                            0.366726\n",
       "OAG       H                            0.574432\n",
       "          N                            0.425568\n",
       "Name: category_predicted_model2, dtype: float64"
      ]
     },
     "execution_count": 45,
     "metadata": {},
     "output_type": "execute_result"
    }
   ],
   "source": [
    "humor_test[humor_test['type'] == 'aggression'].groupby(['category'])['category_predicted_model2'].value_counts(normalize=True)"
   ]
  },
  {
   "cell_type": "code",
   "execution_count": 46,
   "metadata": {},
   "outputs": [
    {
     "name": "stdout",
     "output_type": "stream",
     "text": [
      "Lift of OAG => H is 1.0997427492924667\n",
      "Lift of OAG => N is 0.890930294388489\n",
      "Lift of CAG => H is 1.038287686733772\n",
      "Lift of CAG => N is 0.9581320271375987\n",
      "Lift of NAG => H is 0.7020924638650704\n",
      "Lift of NAG => N is 1.3257649051803453\n"
     ]
    }
   ],
   "source": [
    "calculate_lift(humor_test[humor_test['type'] == 'aggression'])"
   ]
  },
  {
   "cell_type": "code",
   "execution_count": 47,
   "metadata": {},
   "outputs": [
    {
     "name": "stdout",
     "output_type": "stream",
     "text": [
      "0.6332394645005726\n"
     ]
    }
   ],
   "source": [
    "_, p, _, _ = chi2_contingency(pd.crosstab(humor_test[humor_test['type'] == 'stance']['category'],\\\n",
    "            humor_test[humor_test['type'] == 'stance']['category_predicted_model2']).values)\n",
    "\n",
    "print (p)"
   ]
  },
  {
   "cell_type": "code",
   "execution_count": 48,
   "metadata": {},
   "outputs": [
    {
     "data": {
      "text/plain": [
       "category  category_predicted_model2\n",
       "AGAINST   H                            0.911765\n",
       "          N                            0.088235\n",
       "FAVOR     H                            0.859649\n",
       "          N                            0.140351\n",
       "NONE      H                            0.850242\n",
       "          N                            0.149758\n",
       "Name: category_predicted_model2, dtype: float64"
      ]
     },
     "execution_count": 48,
     "metadata": {},
     "output_type": "execute_result"
    }
   ],
   "source": [
    "humor_test[humor_test['type'] == 'stance'].groupby(['category'])['category_predicted_model2'].value_counts(normalize=True)"
   ]
  },
  {
   "cell_type": "code",
   "execution_count": 49,
   "metadata": {},
   "outputs": [
    {
     "name": "stdout",
     "output_type": "stream",
     "text": [
      "Lift of NONE => H is 0.9896254058762969\n",
      "Lift of NONE => N is 1.0632850241545893\n",
      "Lift of FAVOR => H is 1.0005752085130861\n",
      "Lift of FAVOR => N is 0.9964912280701755\n",
      "Lift of AGAINST => H is 1.0612343297974927\n",
      "Lift of AGAINST => N is 0.626470588235294\n"
     ]
    }
   ],
   "source": [
    "calculate_lift(humor_test[humor_test['type'] == 'stance'])"
   ]
  },
  {
   "cell_type": "code",
   "execution_count": 50,
   "metadata": {},
   "outputs": [],
   "source": [
    "sarcasm_test = pd.read_csv('../models/sarcasm_detection/full_test.csv',sep='\\t')"
   ]
  },
  {
   "cell_type": "code",
   "execution_count": 51,
   "metadata": {},
   "outputs": [
    {
     "name": "stdout",
     "output_type": "stream",
     "text": [
      "0.08465996464967636\n"
     ]
    }
   ],
   "source": [
    "_, p, _, _ = chi2_contingency(pd.crosstab(sarcasm_test[sarcasm_test['type'] == 'hate']['category'],\\\n",
    "            sarcasm_test[sarcasm_test['type'] == 'hate']['category_predicted_model2']).values)\n",
    "\n",
    "print (p)"
   ]
  },
  {
   "cell_type": "code",
   "execution_count": 52,
   "metadata": {},
   "outputs": [
    {
     "data": {
      "text/plain": [
       "category  category_predicted_model2\n",
       "no        NO                           0.528302\n",
       "          YES                          0.471698\n",
       "yes       YES                          0.564286\n",
       "          NO                           0.435714\n",
       "Name: category_predicted_model2, dtype: float64"
      ]
     },
     "execution_count": 52,
     "metadata": {},
     "output_type": "execute_result"
    }
   ],
   "source": [
    "sarcasm_test[sarcasm_test['type'] == 'hate'].groupby(['category'])['category_predicted_model2'].value_counts(normalize=True)"
   ]
  },
  {
   "cell_type": "code",
   "execution_count": 53,
   "metadata": {},
   "outputs": [
    {
     "name": "stdout",
     "output_type": "stream",
     "text": [
      "Lift of no => NO is 1.0566037735849056\n",
      "Lift of no => YES is 0.9433962264150944\n",
      "Lift of yes => NO is 0.8714285714285714\n",
      "Lift of yes => YES is 1.1285714285714286\n"
     ]
    }
   ],
   "source": [
    "calculate_lift(sarcasm_test[sarcasm_test['type'] == 'hate'])"
   ]
  },
  {
   "cell_type": "code",
   "execution_count": 54,
   "metadata": {},
   "outputs": [
    {
     "name": "stdout",
     "output_type": "stream",
     "text": [
      "0.1806861896596051\n"
     ]
    }
   ],
   "source": [
    "_, p, _, _ = chi2_contingency(pd.crosstab(sarcasm_test[sarcasm_test['type'] == 'humor']['category'],\\\n",
    "            sarcasm_test[sarcasm_test['type'] == 'humor']['category_predicted_model2']).values)\n",
    "\n",
    "print (p)"
   ]
  },
  {
   "cell_type": "code",
   "execution_count": 55,
   "metadata": {},
   "outputs": [
    {
     "data": {
      "text/plain": [
       "category  category_predicted_model2\n",
       "H         NO                           0.505682\n",
       "          YES                          0.494318\n",
       "N         NO                           0.591667\n",
       "          YES                          0.408333\n",
       "Name: category_predicted_model2, dtype: float64"
      ]
     },
     "execution_count": 55,
     "metadata": {},
     "output_type": "execute_result"
    }
   ],
   "source": [
    "sarcasm_test[sarcasm_test['type'] == 'humor'].groupby(['category'])['category_predicted_model2'].value_counts(normalize=True)"
   ]
  },
  {
   "cell_type": "code",
   "execution_count": 56,
   "metadata": {},
   "outputs": [
    {
     "name": "stdout",
     "output_type": "stream",
     "text": [
      "Lift of H => NO is 0.9355113636363637\n",
      "Lift of H => YES is 1.0758689839572193\n",
      "Lift of N => NO is 1.0945833333333332\n",
      "Lift of N => YES is 0.8887254901960784\n"
     ]
    }
   ],
   "source": [
    "calculate_lift(sarcasm_test[sarcasm_test['type'] == 'humor'])"
   ]
  },
  {
   "cell_type": "code",
   "execution_count": 57,
   "metadata": {},
   "outputs": [
    {
     "name": "stdout",
     "output_type": "stream",
     "text": [
      "3.540313521137108e-08\n"
     ]
    }
   ],
   "source": [
    "_, p, _, _ = chi2_contingency(pd.crosstab(sarcasm_test[sarcasm_test['type'] == 'aggression']['category'],\\\n",
    "            sarcasm_test[sarcasm_test['type'] == 'aggression']['category_predicted_model2']).values)\n",
    "\n",
    "print (p)"
   ]
  },
  {
   "cell_type": "code",
   "execution_count": 58,
   "metadata": {},
   "outputs": [
    {
     "data": {
      "text/plain": [
       "category  category_predicted_model2\n",
       "CAG       NO                           0.547125\n",
       "          YES                          0.452875\n",
       "NAG       NO                           0.681574\n",
       "          YES                          0.318426\n",
       "OAG       NO                           0.544155\n",
       "          YES                          0.455845\n",
       "Name: category_predicted_model2, dtype: float64"
      ]
     },
     "execution_count": 58,
     "metadata": {},
     "output_type": "execute_result"
    }
   ],
   "source": [
    "sarcasm_test[sarcasm_test['type'] == 'aggression'].groupby(['category'])['category_predicted_model2'].value_counts(normalize=True)"
   ]
  },
  {
   "cell_type": "code",
   "execution_count": 59,
   "metadata": {},
   "outputs": [
    {
     "name": "stdout",
     "output_type": "stream",
     "text": [
      "Lift of OAG => YES is 1.062576335915276\n",
      "Lift of OAG => NO is 0.9529855549778398\n",
      "Lift of CAG => YES is 1.0556536115641548\n",
      "Lift of CAG => NO is 0.9581866911365633\n",
      "Lift of NAG => YES is 0.7422511894783809\n",
      "Lift of NAG => NO is 1.1936501571169431\n"
     ]
    }
   ],
   "source": [
    "calculate_lift(sarcasm_test[sarcasm_test['type'] == 'aggression'])"
   ]
  },
  {
   "cell_type": "code",
   "execution_count": 60,
   "metadata": {},
   "outputs": [
    {
     "name": "stdout",
     "output_type": "stream",
     "text": [
      "0.024521396586768628\n"
     ]
    }
   ],
   "source": [
    "_, p, _, _ = chi2_contingency(pd.crosstab(sarcasm_test[sarcasm_test['type'] == 'stance']['category'],\\\n",
    "            sarcasm_test[sarcasm_test['type'] == 'stance']['category_predicted_model2']).values)\n",
    "\n",
    "print (p)"
   ]
  },
  {
   "cell_type": "code",
   "execution_count": 61,
   "metadata": {},
   "outputs": [
    {
     "data": {
      "text/plain": [
       "category  category_predicted_model2\n",
       "AGAINST   NO                           0.676471\n",
       "          YES                          0.323529\n",
       "FAVOR     YES                          0.587719\n",
       "          NO                           0.412281\n",
       "NONE      YES                          0.541063\n",
       "          NO                           0.458937\n",
       "Name: category_predicted_model2, dtype: float64"
      ]
     },
     "execution_count": 61,
     "metadata": {},
     "output_type": "execute_result"
    }
   ],
   "source": [
    "sarcasm_test[sarcasm_test['type'] == 'stance'].groupby(['category'])['category_predicted_model2'].value_counts(normalize=True)"
   ]
  },
  {
   "cell_type": "code",
   "execution_count": 62,
   "metadata": {},
   "outputs": [
    {
     "name": "stdout",
     "output_type": "stream",
     "text": [
      "Lift of NONE => NO is 0.9874103352364221\n",
      "Lift of NONE => YES is 1.010933129926265\n",
      "Lift of FAVOR => NO is 0.8870281765018607\n",
      "Lift of FAVOR => YES is 1.098107109879963\n",
      "Lift of AGAINST => NO is 1.4554367201426026\n",
      "Lift of AGAINST => YES is 0.6044891640866874\n"
     ]
    }
   ],
   "source": [
    "calculate_lift(sarcasm_test[sarcasm_test['type'] == 'stance'])"
   ]
  },
  {
   "cell_type": "code",
   "execution_count": 63,
   "metadata": {},
   "outputs": [],
   "source": [
    "stance_test = pd.read_csv('../models/stance_detection/full_test.csv',sep='\\t')"
   ]
  },
  {
   "cell_type": "code",
   "execution_count": 64,
   "metadata": {},
   "outputs": [
    {
     "name": "stdout",
     "output_type": "stream",
     "text": [
      "0.5165819613346466\n"
     ]
    }
   ],
   "source": [
    "_, p, _, _ = chi2_contingency(pd.crosstab(stance_test[stance_test['type'] == 'hate']['category'],\\\n",
    "            stance_test[stance_test['type'] == 'hate']['category_predicted_model2']).values)\n",
    "\n",
    "print (p)"
   ]
  },
  {
   "cell_type": "code",
   "execution_count": 65,
   "metadata": {},
   "outputs": [
    {
     "data": {
      "text/plain": [
       "category  category_predicted_model2\n",
       "no        NONE                         0.823899\n",
       "          FAVOR                        0.116352\n",
       "          AGAINST                      0.059748\n",
       "yes       NONE                         0.778571\n",
       "          FAVOR                        0.142857\n",
       "          AGAINST                      0.078571\n",
       "Name: category_predicted_model2, dtype: float64"
      ]
     },
     "execution_count": 65,
     "metadata": {},
     "output_type": "execute_result"
    }
   ],
   "source": [
    "stance_test[stance_test['type'] == 'hate'].groupby(['category'])['category_predicted_model2'].value_counts(normalize=True)\n"
   ]
  },
  {
   "cell_type": "code",
   "execution_count": 66,
   "metadata": {},
   "outputs": [
    {
     "name": "stdout",
     "output_type": "stream",
     "text": [
      "Lift of no => FAVOR is 0.934900143440362\n",
      "Lift of no => NONE is 1.0171048839614165\n",
      "Lift of no => AGAINST is 0.9121593291404612\n",
      "Lift of yes => FAVOR is 1.1478696741854637\n",
      "Lift of yes => NONE is 0.9611474778590682\n",
      "Lift of yes => AGAINST is 1.1995238095238094\n"
     ]
    }
   ],
   "source": [
    "calculate_lift(stance_test[stance_test['type'] == 'hate'])"
   ]
  },
  {
   "cell_type": "code",
   "execution_count": 67,
   "metadata": {},
   "outputs": [
    {
     "name": "stdout",
     "output_type": "stream",
     "text": [
      "0.7522253767814564\n"
     ]
    }
   ],
   "source": [
    "_, p, _, _ = chi2_contingency(pd.crosstab(stance_test[stance_test['type'] == 'humor']['category'],\\\n",
    "            stance_test[stance_test['type'] == 'humor']['category_predicted_model2']).values)\n",
    "\n",
    "print (p)"
   ]
  },
  {
   "cell_type": "code",
   "execution_count": 68,
   "metadata": {},
   "outputs": [
    {
     "data": {
      "text/plain": [
       "category  category_predicted_model2\n",
       "H         NONE                         0.829545\n",
       "          FAVOR                        0.090909\n",
       "          AGAINST                      0.079545\n",
       "N         NONE                         0.858333\n",
       "          FAVOR                        0.083333\n",
       "          AGAINST                      0.058333\n",
       "Name: category_predicted_model2, dtype: float64"
      ]
     },
     "execution_count": 68,
     "metadata": {},
     "output_type": "execute_result"
    }
   ],
   "source": [
    "stance_test[stance_test['type'] == 'humor'].groupby(['category'])['category_predicted_model2'].value_counts(normalize=True)\n"
   ]
  },
  {
   "cell_type": "code",
   "execution_count": 69,
   "metadata": {},
   "outputs": [
    {
     "name": "stdout",
     "output_type": "stream",
     "text": [
      "Lift of H => FAVOR is 1.034965034965035\n",
      "Lift of H => NONE is 0.986126323475721\n",
      "Lift of H => AGAINST is 1.121212121212121\n",
      "Lift of N => FAVOR is 0.9487179487179488\n",
      "Lift of N => NONE is 1.0203480589022758\n",
      "Lift of N => AGAINST is 0.8222222222222222\n"
     ]
    }
   ],
   "source": [
    "calculate_lift(stance_test[stance_test['type'] == 'humor'])"
   ]
  },
  {
   "cell_type": "code",
   "execution_count": 70,
   "metadata": {},
   "outputs": [
    {
     "name": "stdout",
     "output_type": "stream",
     "text": [
      "0.4353193762156161\n"
     ]
    }
   ],
   "source": [
    "_, p, _, _ = chi2_contingency(pd.crosstab(stance_test[stance_test['type'] == 'sarcasm']['category'],\\\n",
    "            stance_test[stance_test['type'] == 'sarcasm']['category_predicted_model2']).values)\n",
    "\n",
    "print (p)"
   ]
  },
  {
   "cell_type": "code",
   "execution_count": 71,
   "metadata": {},
   "outputs": [
    {
     "data": {
      "text/plain": [
       "category  category_predicted_model2\n",
       "NO        NONE                         0.802575\n",
       "          FAVOR                        0.124464\n",
       "          AGAINST                      0.072961\n",
       "YES       NONE                         0.745763\n",
       "          FAVOR                        0.135593\n",
       "          AGAINST                      0.118644\n",
       "Name: category_predicted_model2, dtype: float64"
      ]
     },
     "execution_count": 71,
     "metadata": {},
     "output_type": "execute_result"
    }
   ],
   "source": [
    "stance_test[stance_test['type'] == 'sarcasm'].groupby(['category'])['category_predicted_model2'].value_counts(normalize=True)\n"
   ]
  },
  {
   "cell_type": "code",
   "execution_count": 72,
   "metadata": {},
   "outputs": [
    {
     "name": "stdout",
     "output_type": "stream",
     "text": [
      "Lift of NO => NONE is 1.0080189744748136\n",
      "Lift of NO => FAVOR is 0.9900507218103785\n",
      "Lift of NO => AGAINST is 0.934261488537632\n",
      "Lift of YES => NONE is 0.936663693131133\n",
      "Lift of YES => FAVOR is 1.078582434514638\n",
      "Lift of YES => AGAINST is 1.5192228193468376\n"
     ]
    }
   ],
   "source": [
    "calculate_lift(stance_test[stance_test['type'] == 'sarcasm'])"
   ]
  },
  {
   "cell_type": "code",
   "execution_count": 73,
   "metadata": {},
   "outputs": [
    {
     "name": "stdout",
     "output_type": "stream",
     "text": [
      "0.118836552107402\n"
     ]
    }
   ],
   "source": [
    "_, p, _, _ = chi2_contingency(pd.crosstab(stance_test[stance_test['type'] == 'aggression']['category'],\\\n",
    "            stance_test[stance_test['type'] == 'aggression']['category_predicted_model2']).values)\n",
    "\n",
    "print (p)"
   ]
  },
  {
   "cell_type": "code",
   "execution_count": 74,
   "metadata": {},
   "outputs": [
    {
     "data": {
      "text/plain": [
       "category  category_predicted_model2\n",
       "CAG       NONE                         0.821885\n",
       "          FAVOR                        0.126198\n",
       "          AGAINST                      0.051917\n",
       "NAG       NONE                         0.822898\n",
       "          FAVOR                        0.137746\n",
       "          AGAINST                      0.039356\n",
       "OAG       NONE                         0.787216\n",
       "          FAVOR                        0.152229\n",
       "          AGAINST                      0.060555\n",
       "Name: category_predicted_model2, dtype: float64"
      ]
     },
     "execution_count": 74,
     "metadata": {},
     "output_type": "execute_result"
    }
   ],
   "source": [
    "stance_test[stance_test['type'] == 'aggression'].groupby(['category'])['category_predicted_model2'].value_counts(normalize=True)\n"
   ]
  },
  {
   "cell_type": "code",
   "execution_count": 75,
   "metadata": {},
   "outputs": [
    {
     "name": "stdout",
     "output_type": "stream",
     "text": [
      "Lift of OAG => NONE is 0.9738756470394423\n",
      "Lift of OAG => FAVOR is 1.0978035841366371\n",
      "Lift of OAG => AGAINST is 1.1425488360283733\n",
      "Lift of CAG => NONE is 1.0167649286914133\n",
      "Lift of CAG => FAVOR is 0.9100823298107643\n",
      "Lift of CAG => AGAINST is 0.9795647718367594\n",
      "Lift of NAG => NONE is 1.0180181841653908\n",
      "Lift of NAG => FAVOR is 0.9933603963120958\n",
      "Lift of NAG => AGAINST is 0.7425659027238667\n"
     ]
    }
   ],
   "source": [
    "calculate_lift(stance_test[stance_test['type'] == 'aggression'])"
   ]
  },
  {
   "cell_type": "markdown",
   "metadata": {},
   "source": [
    "### Top words"
   ]
  },
  {
   "cell_type": "code",
   "execution_count": 76,
   "metadata": {},
   "outputs": [],
   "source": [
    "words_hate = pd.read_csv('../models/hate_detection/word_weights.csv',sep='\\t')\n",
    "words_aggression = pd.read_csv('../models/model_aggression/word_weights.csv',sep='\\t')\n",
    "words_humor = pd.read_csv('../models/humor_detection/word_weights.csv',sep='\\t')\n",
    "words_sarcasm = pd.read_csv('../models/sarcasm_detection/word_weights.csv',sep='\\t')\n",
    "words_stance = pd.read_csv('../models/stance_detection/word_weights.csv',sep='\\t')"
   ]
  },
  {
   "cell_type": "code",
   "execution_count": 77,
   "metadata": {},
   "outputs": [
    {
     "name": "stdout",
     "output_type": "stream",
     "text": [
      "count    58655.000000\n",
      "mean         0.012550\n",
      "std          0.045945\n",
      "min          0.000000\n",
      "25%          0.000000\n",
      "50%          0.000000\n",
      "75%          0.000166\n",
      "max          1.057915\n",
      "Name: Hate_yes, dtype: float64\n"
     ]
    }
   ],
   "source": [
    "words_hate = words_hate.dropna()\n",
    "words_hate.word = words_hate.word.apply(lambda x: re.sub('[^a-zA-Z0-9]',' ',x).strip())\n",
    "words_hate = words_hate[words_hate.word != '']\n",
    "#words_hate.groupby(['word'])['hate_yes'].var().fillna(0).sort_values(ascending=[False])\n",
    "print (words_hate.groupby(['word'])['Hate_yes'].var().fillna(0).describe())\n",
    "words_hate = words_hate.groupby(['word'])['Hate_yes'].mean().reset_index(drop=False)"
   ]
  },
  {
   "cell_type": "code",
   "execution_count": 79,
   "metadata": {},
   "outputs": [
    {
     "name": "stdout",
     "output_type": "stream",
     "text": [
      "count    55653.000000\n",
      "mean         0.025436\n",
      "std          0.076294\n",
      "min          0.000000\n",
      "25%          0.000000\n",
      "50%          0.000000\n",
      "75%          0.000013\n",
      "max          1.971378\n",
      "Name: Sarcasm_yes, dtype: float64\n"
     ]
    }
   ],
   "source": [
    "words_sarcasm = words_sarcasm.dropna()\n",
    "words_sarcasm.word = words_sarcasm.word.apply(lambda x: re.sub('[^a-zA-Z0-9]',' ',x).strip())\n",
    "words_sarcasm = words_sarcasm[words_sarcasm.word != '']\n",
    "#words_sarcasm.groupby(['word'])['Sarcasm_yes'].var().fillna(0).sort_values(ascending=[False])\n",
    "print (words_sarcasm.groupby(['word'])['Sarcasm_yes'].var().fillna(0).describe())\n",
    "words_sarcasm = words_sarcasm.groupby(['word'])['Sarcasm_yes'].mean().reset_index(drop=False)"
   ]
  },
  {
   "cell_type": "code",
   "execution_count": 80,
   "metadata": {},
   "outputs": [
    {
     "name": "stdout",
     "output_type": "stream",
     "text": [
      "count    50876.000000\n",
      "mean         0.012078\n",
      "std          0.048673\n",
      "min          0.000000\n",
      "25%          0.000000\n",
      "50%          0.000000\n",
      "75%          0.000017\n",
      "max          1.821480\n",
      "Name: Humor_yes, dtype: float64\n"
     ]
    }
   ],
   "source": [
    "words_humor = words_humor.dropna()\n",
    "words_humor.word = words_humor.word.apply(lambda x: re.sub('[^a-zA-Z0-9]',' ',x).strip())\n",
    "words_humor = words_humor[words_humor.word != '']\n",
    "#words_sarcasm.groupby(['word'])['Sarcasm_yes'].var().fillna(0).sort_values(ascending=[False])\n",
    "print (words_humor.groupby(['word'])['Humor_yes'].var().fillna(0).describe())\n",
    "words_humor = words_humor.groupby(['word'])['Humor_yes'].mean().reset_index(drop=False)"
   ]
  },
  {
   "cell_type": "code",
   "execution_count": 81,
   "metadata": {},
   "outputs": [
    {
     "name": "stdout",
     "output_type": "stream",
     "text": [
      "count    5.749300e+04\n",
      "mean     1.657118e-02\n",
      "std      5.950041e-02\n",
      "min      0.000000e+00\n",
      "25%      0.000000e+00\n",
      "50%      0.000000e+00\n",
      "75%      3.484451e-07\n",
      "max      1.460488e+00\n",
      "Name: OAG, dtype: float64\n",
      "count    57493.000000\n",
      "mean         0.024010\n",
      "std          0.076411\n",
      "min          0.000000\n",
      "25%          0.000000\n",
      "50%          0.000000\n",
      "75%          0.000029\n",
      "max          1.995036\n",
      "Name: CAG, dtype: float64\n"
     ]
    },
    {
     "name": "stderr",
     "output_type": "stream",
     "text": [
      "/Users/victor/anaconda3/lib/python3.7/site-packages/ipykernel_launcher.py:7: FutureWarning: Indexing with multiple keys (implicitly converted to a tuple of keys) will be deprecated, use a list instead.\n",
      "  import sys\n"
     ]
    }
   ],
   "source": [
    "words_aggression = words_aggression.dropna()\n",
    "words_aggression.word = words_aggression.word.apply(lambda x: re.sub('[^a-zA-Z0-9]',' ',x).strip())\n",
    "words_aggression = words_aggression[words_aggression.word != '']\n",
    "#words_sarcasm.groupby(['word'])['Sarcasm_yes'].var().fillna(0).sort_values(ascending=[False])\n",
    "print (words_aggression.groupby(['word'])['OAG'].var().fillna(0).describe())\n",
    "print (words_aggression.groupby(['word'])['CAG'].var().fillna(0).describe())\n",
    "words_aggression = words_aggression.groupby(['word'])['OAG','CAG'].mean().reset_index(drop=False)"
   ]
  },
  {
   "cell_type": "code",
   "execution_count": 82,
   "metadata": {},
   "outputs": [
    {
     "name": "stdout",
     "output_type": "stream",
     "text": [
      "count    9.155000e+03\n",
      "mean     3.292375e-03\n",
      "std      2.765437e-02\n",
      "min      0.000000e+00\n",
      "25%      0.000000e+00\n",
      "50%      0.000000e+00\n",
      "75%      4.846745e-13\n",
      "max      6.082690e-01\n",
      "Name: Stance_against, dtype: float64\n",
      "count    9.155000e+03\n",
      "mean     4.004561e-03\n",
      "std      2.820674e-02\n",
      "min      0.000000e+00\n",
      "25%      0.000000e+00\n",
      "50%      0.000000e+00\n",
      "75%      2.521722e-12\n",
      "max      4.999530e-01\n",
      "Name: Stance_favor, dtype: float64\n"
     ]
    },
    {
     "name": "stderr",
     "output_type": "stream",
     "text": [
      "/Users/victor/anaconda3/lib/python3.7/site-packages/ipykernel_launcher.py:7: FutureWarning: Indexing with multiple keys (implicitly converted to a tuple of keys) will be deprecated, use a list instead.\n",
      "  import sys\n"
     ]
    }
   ],
   "source": [
    "words_stance = words_stance.dropna()\n",
    "words_stance.word = words_stance.word.apply(lambda x: re.sub('[^a-zA-Z0-9]',' ',x).strip())\n",
    "words_stance = words_stance[words_stance.word != '']\n",
    "#words_sarcasm.groupby(['word'])['Sarcasm_yes'].var().fillna(0).sort_values(ascending=[False])\n",
    "print (words_stance.groupby(['word'])['Stance_against'].var().fillna(0).describe())\n",
    "print (words_stance.groupby(['word'])['Stance_favor'].var().fillna(0).describe())\n",
    "words_stance = words_stance.groupby(['word'])['Stance_against','Stance_favor'].mean().reset_index(drop=False)"
   ]
  },
  {
   "cell_type": "code",
   "execution_count": 83,
   "metadata": {},
   "outputs": [],
   "source": [
    "words = pd.merge(words_hate,words_aggression,how='outer')\n",
    "words = pd.merge(words_humor,words,how='outer')\n",
    "words = pd.merge(words_sarcasm,words,how='outer')\n",
    "words = pd.merge(words_stance,words,how='outer')"
   ]
  },
  {
   "cell_type": "code",
   "execution_count": 84,
   "metadata": {},
   "outputs": [],
   "source": [
    "words.word = words.word.fillna('')\n",
    "words = words.fillna(0)"
   ]
  },
  {
   "cell_type": "code",
   "execution_count": 85,
   "metadata": {},
   "outputs": [],
   "source": [
    "words.word = words.word.apply(lambda x: re.sub('[^a-zA-Z0-9]',' ',x).strip())"
   ]
  },
  {
   "cell_type": "code",
   "execution_count": 86,
   "metadata": {},
   "outputs": [],
   "source": [
    "words = words[words.word != '']"
   ]
  },
  {
   "cell_type": "code",
   "execution_count": 87,
   "metadata": {},
   "outputs": [
    {
     "data": {
      "text/html": [
       "<div>\n",
       "<style scoped>\n",
       "    .dataframe tbody tr th:only-of-type {\n",
       "        vertical-align: middle;\n",
       "    }\n",
       "\n",
       "    .dataframe tbody tr th {\n",
       "        vertical-align: top;\n",
       "    }\n",
       "\n",
       "    .dataframe thead th {\n",
       "        text-align: right;\n",
       "    }\n",
       "</style>\n",
       "<table border=\"1\" class=\"dataframe\">\n",
       "  <thead>\n",
       "    <tr style=\"text-align: right;\">\n",
       "      <th></th>\n",
       "      <th>word</th>\n",
       "      <th>Stance_against</th>\n",
       "      <th>Stance_favor</th>\n",
       "      <th>Sarcasm_yes</th>\n",
       "      <th>Humor_yes</th>\n",
       "      <th>Hate_yes</th>\n",
       "      <th>OAG</th>\n",
       "      <th>CAG</th>\n",
       "    </tr>\n",
       "  </thead>\n",
       "  <tbody>\n",
       "    <tr>\n",
       "      <th>20512</th>\n",
       "      <td>digesting</td>\n",
       "      <td>0.0</td>\n",
       "      <td>0.0</td>\n",
       "      <td>1.071535e-03</td>\n",
       "      <td>0.000845</td>\n",
       "      <td>0.999951</td>\n",
       "      <td>-8.170481e-04</td>\n",
       "      <td>8.777101e-01</td>\n",
       "    </tr>\n",
       "    <tr>\n",
       "      <th>33987</th>\n",
       "      <td>kutta    chara</td>\n",
       "      <td>0.0</td>\n",
       "      <td>0.0</td>\n",
       "      <td>-2.978322e-07</td>\n",
       "      <td>0.001198</td>\n",
       "      <td>0.999950</td>\n",
       "      <td>5.960464e-07</td>\n",
       "      <td>-4.723004e-07</td>\n",
       "    </tr>\n",
       "    <tr>\n",
       "      <th>19308</th>\n",
       "      <td>darshil</td>\n",
       "      <td>0.0</td>\n",
       "      <td>0.0</td>\n",
       "      <td>6.629938e-08</td>\n",
       "      <td>0.000008</td>\n",
       "      <td>0.999925</td>\n",
       "      <td>-2.921717e-03</td>\n",
       "      <td>2.950966e-03</td>\n",
       "    </tr>\n",
       "    <tr>\n",
       "      <th>25397</th>\n",
       "      <td>haan   i</td>\n",
       "      <td>0.0</td>\n",
       "      <td>0.0</td>\n",
       "      <td>-1.063218e-07</td>\n",
       "      <td>-0.004526</td>\n",
       "      <td>0.999881</td>\n",
       "      <td>2.134442e-04</td>\n",
       "      <td>-3.944617e-05</td>\n",
       "    </tr>\n",
       "    <tr>\n",
       "      <th>23591</th>\n",
       "      <td>g   d</td>\n",
       "      <td>0.0</td>\n",
       "      <td>0.0</td>\n",
       "      <td>-9.198704e-01</td>\n",
       "      <td>-0.000018</td>\n",
       "      <td>0.999874</td>\n",
       "      <td>9.999212e-01</td>\n",
       "      <td>-2.223383e-07</td>\n",
       "    </tr>\n",
       "    <tr>\n",
       "      <th>14863</th>\n",
       "      <td>bilkul bhi</td>\n",
       "      <td>0.0</td>\n",
       "      <td>0.0</td>\n",
       "      <td>-5.149382e-07</td>\n",
       "      <td>0.995849</td>\n",
       "      <td>0.999859</td>\n",
       "      <td>-1.818487e-07</td>\n",
       "      <td>9.981262e-01</td>\n",
       "    </tr>\n",
       "    <tr>\n",
       "      <th>38805</th>\n",
       "      <td>nahi hate</td>\n",
       "      <td>0.0</td>\n",
       "      <td>0.0</td>\n",
       "      <td>-4.155156e-09</td>\n",
       "      <td>0.050258</td>\n",
       "      <td>0.999855</td>\n",
       "      <td>-1.432282e-02</td>\n",
       "      <td>8.557901e-01</td>\n",
       "    </tr>\n",
       "    <tr>\n",
       "      <th>55222</th>\n",
       "      <td>yeah   kulbhushan</td>\n",
       "      <td>0.0</td>\n",
       "      <td>0.0</td>\n",
       "      <td>-3.335941e-06</td>\n",
       "      <td>0.001512</td>\n",
       "      <td>0.999779</td>\n",
       "      <td>0.000000e+00</td>\n",
       "      <td>-1.002462e-16</td>\n",
       "    </tr>\n",
       "    <tr>\n",
       "      <th>32331</th>\n",
       "      <td>kedarnath</td>\n",
       "      <td>0.0</td>\n",
       "      <td>0.0</td>\n",
       "      <td>1.610946e-05</td>\n",
       "      <td>0.005625</td>\n",
       "      <td>0.999739</td>\n",
       "      <td>3.200485e-12</td>\n",
       "      <td>2.384186e-07</td>\n",
       "    </tr>\n",
       "    <tr>\n",
       "      <th>15730</th>\n",
       "      <td>buddhist hindu</td>\n",
       "      <td>0.0</td>\n",
       "      <td>0.0</td>\n",
       "      <td>6.454959e-07</td>\n",
       "      <td>-0.000006</td>\n",
       "      <td>0.999730</td>\n",
       "      <td>0.000000e+00</td>\n",
       "      <td>-5.082375e-10</td>\n",
       "    </tr>\n",
       "  </tbody>\n",
       "</table>\n",
       "</div>"
      ],
      "text/plain": [
       "                    word  Stance_against  Stance_favor   Sarcasm_yes  \\\n",
       "20512          digesting             0.0           0.0  1.071535e-03   \n",
       "33987     kutta    chara             0.0           0.0 -2.978322e-07   \n",
       "19308            darshil             0.0           0.0  6.629938e-08   \n",
       "25397           haan   i             0.0           0.0 -1.063218e-07   \n",
       "23591              g   d             0.0           0.0 -9.198704e-01   \n",
       "14863         bilkul bhi             0.0           0.0 -5.149382e-07   \n",
       "38805          nahi hate             0.0           0.0 -4.155156e-09   \n",
       "55222  yeah   kulbhushan             0.0           0.0 -3.335941e-06   \n",
       "32331          kedarnath             0.0           0.0  1.610946e-05   \n",
       "15730     buddhist hindu             0.0           0.0  6.454959e-07   \n",
       "\n",
       "       Humor_yes  Hate_yes           OAG           CAG  \n",
       "20512   0.000845  0.999951 -8.170481e-04  8.777101e-01  \n",
       "33987   0.001198  0.999950  5.960464e-07 -4.723004e-07  \n",
       "19308   0.000008  0.999925 -2.921717e-03  2.950966e-03  \n",
       "25397  -0.004526  0.999881  2.134442e-04 -3.944617e-05  \n",
       "23591  -0.000018  0.999874  9.999212e-01 -2.223383e-07  \n",
       "14863   0.995849  0.999859 -1.818487e-07  9.981262e-01  \n",
       "38805   0.050258  0.999855 -1.432282e-02  8.557901e-01  \n",
       "55222   0.001512  0.999779  0.000000e+00 -1.002462e-16  \n",
       "32331   0.005625  0.999739  3.200485e-12  2.384186e-07  \n",
       "15730  -0.000006  0.999730  0.000000e+00 -5.082375e-10  "
      ]
     },
     "execution_count": 87,
     "metadata": {},
     "output_type": "execute_result"
    }
   ],
   "source": [
    "words.sort_values(['Hate_yes'],ascending=[False]).head(10)"
   ]
  },
  {
   "cell_type": "code",
   "execution_count": 88,
   "metadata": {},
   "outputs": [
    {
     "data": {
      "text/html": [
       "<div>\n",
       "<style scoped>\n",
       "    .dataframe tbody tr th:only-of-type {\n",
       "        vertical-align: middle;\n",
       "    }\n",
       "\n",
       "    .dataframe tbody tr th {\n",
       "        vertical-align: top;\n",
       "    }\n",
       "\n",
       "    .dataframe thead th {\n",
       "        text-align: right;\n",
       "    }\n",
       "</style>\n",
       "<table border=\"1\" class=\"dataframe\">\n",
       "  <thead>\n",
       "    <tr style=\"text-align: right;\">\n",
       "      <th></th>\n",
       "      <th>word</th>\n",
       "      <th>Stance_against</th>\n",
       "      <th>Stance_favor</th>\n",
       "      <th>Sarcasm_yes</th>\n",
       "      <th>Humor_yes</th>\n",
       "      <th>Hate_yes</th>\n",
       "      <th>OAG</th>\n",
       "      <th>CAG</th>\n",
       "    </tr>\n",
       "  </thead>\n",
       "  <tbody>\n",
       "    <tr>\n",
       "      <th>37897</th>\n",
       "      <td>moorkhyamantri</td>\n",
       "      <td>0.0</td>\n",
       "      <td>0.0</td>\n",
       "      <td>9.794676e-06</td>\n",
       "      <td>8.747902e-01</td>\n",
       "      <td>0.958243</td>\n",
       "      <td>1.0</td>\n",
       "      <td>-1.074797e-07</td>\n",
       "    </tr>\n",
       "    <tr>\n",
       "      <th>19133</th>\n",
       "      <td>dalega</td>\n",
       "      <td>0.0</td>\n",
       "      <td>0.0</td>\n",
       "      <td>5.483627e-06</td>\n",
       "      <td>0.000000e+00</td>\n",
       "      <td>-0.023135</td>\n",
       "      <td>1.0</td>\n",
       "      <td>-1.000000e+00</td>\n",
       "    </tr>\n",
       "    <tr>\n",
       "      <th>17326</th>\n",
       "      <td>chodengi</td>\n",
       "      <td>0.0</td>\n",
       "      <td>0.0</td>\n",
       "      <td>2.384186e-07</td>\n",
       "      <td>1.045465e-03</td>\n",
       "      <td>-0.000136</td>\n",
       "      <td>1.0</td>\n",
       "      <td>-9.979492e-01</td>\n",
       "    </tr>\n",
       "    <tr>\n",
       "      <th>17708</th>\n",
       "      <td>chutiyam</td>\n",
       "      <td>0.0</td>\n",
       "      <td>0.0</td>\n",
       "      <td>9.999751e-01</td>\n",
       "      <td>2.405729e-05</td>\n",
       "      <td>0.002093</td>\n",
       "      <td>1.0</td>\n",
       "      <td>-1.375377e-09</td>\n",
       "    </tr>\n",
       "    <tr>\n",
       "      <th>49056</th>\n",
       "      <td>sonagacchi</td>\n",
       "      <td>0.0</td>\n",
       "      <td>0.0</td>\n",
       "      <td>7.656651e-01</td>\n",
       "      <td>2.261448e-02</td>\n",
       "      <td>-0.000574</td>\n",
       "      <td>1.0</td>\n",
       "      <td>-9.999965e-01</td>\n",
       "    </tr>\n",
       "    <tr>\n",
       "      <th>23819</th>\n",
       "      <td>ganduu</td>\n",
       "      <td>0.0</td>\n",
       "      <td>0.0</td>\n",
       "      <td>1.845956e-04</td>\n",
       "      <td>3.576279e-07</td>\n",
       "      <td>-0.013486</td>\n",
       "      <td>1.0</td>\n",
       "      <td>-1.000000e+00</td>\n",
       "    </tr>\n",
       "    <tr>\n",
       "      <th>44724</th>\n",
       "      <td>rashmidi</td>\n",
       "      <td>0.0</td>\n",
       "      <td>0.0</td>\n",
       "      <td>3.570718e-12</td>\n",
       "      <td>9.775162e-06</td>\n",
       "      <td>-0.000400</td>\n",
       "      <td>1.0</td>\n",
       "      <td>-1.000000e+00</td>\n",
       "    </tr>\n",
       "    <tr>\n",
       "      <th>23790</th>\n",
       "      <td>gandda</td>\n",
       "      <td>0.0</td>\n",
       "      <td>0.0</td>\n",
       "      <td>9.993249e-01</td>\n",
       "      <td>2.569578e-02</td>\n",
       "      <td>0.000097</td>\n",
       "      <td>1.0</td>\n",
       "      <td>-2.108788e-04</td>\n",
       "    </tr>\n",
       "    <tr>\n",
       "      <th>13604</th>\n",
       "      <td>begaane</td>\n",
       "      <td>0.0</td>\n",
       "      <td>0.0</td>\n",
       "      <td>5.254164e-01</td>\n",
       "      <td>2.069426e-02</td>\n",
       "      <td>0.000308</td>\n",
       "      <td>1.0</td>\n",
       "      <td>4.427404e-10</td>\n",
       "    </tr>\n",
       "    <tr>\n",
       "      <th>23847</th>\n",
       "      <td>ganndey</td>\n",
       "      <td>0.0</td>\n",
       "      <td>0.0</td>\n",
       "      <td>7.892537e-08</td>\n",
       "      <td>-4.768372e-07</td>\n",
       "      <td>0.044563</td>\n",
       "      <td>1.0</td>\n",
       "      <td>-9.999999e-01</td>\n",
       "    </tr>\n",
       "  </tbody>\n",
       "</table>\n",
       "</div>"
      ],
      "text/plain": [
       "                 word  Stance_against  Stance_favor   Sarcasm_yes  \\\n",
       "37897  moorkhyamantri             0.0           0.0  9.794676e-06   \n",
       "19133          dalega             0.0           0.0  5.483627e-06   \n",
       "17326        chodengi             0.0           0.0  2.384186e-07   \n",
       "17708        chutiyam             0.0           0.0  9.999751e-01   \n",
       "49056      sonagacchi             0.0           0.0  7.656651e-01   \n",
       "23819          ganduu             0.0           0.0  1.845956e-04   \n",
       "44724        rashmidi             0.0           0.0  3.570718e-12   \n",
       "23790          gandda             0.0           0.0  9.993249e-01   \n",
       "13604         begaane             0.0           0.0  5.254164e-01   \n",
       "23847         ganndey             0.0           0.0  7.892537e-08   \n",
       "\n",
       "          Humor_yes  Hate_yes  OAG           CAG  \n",
       "37897  8.747902e-01  0.958243  1.0 -1.074797e-07  \n",
       "19133  0.000000e+00 -0.023135  1.0 -1.000000e+00  \n",
       "17326  1.045465e-03 -0.000136  1.0 -9.979492e-01  \n",
       "17708  2.405729e-05  0.002093  1.0 -1.375377e-09  \n",
       "49056  2.261448e-02 -0.000574  1.0 -9.999965e-01  \n",
       "23819  3.576279e-07 -0.013486  1.0 -1.000000e+00  \n",
       "44724  9.775162e-06 -0.000400  1.0 -1.000000e+00  \n",
       "23790  2.569578e-02  0.000097  1.0 -2.108788e-04  \n",
       "13604  2.069426e-02  0.000308  1.0  4.427404e-10  \n",
       "23847 -4.768372e-07  0.044563  1.0 -9.999999e-01  "
      ]
     },
     "execution_count": 88,
     "metadata": {},
     "output_type": "execute_result"
    }
   ],
   "source": [
    "words.sort_values(['OAG'],ascending=[False]).head(10)"
   ]
  },
  {
   "cell_type": "code",
   "execution_count": 89,
   "metadata": {},
   "outputs": [
    {
     "data": {
      "text/html": [
       "<div>\n",
       "<style scoped>\n",
       "    .dataframe tbody tr th:only-of-type {\n",
       "        vertical-align: middle;\n",
       "    }\n",
       "\n",
       "    .dataframe tbody tr th {\n",
       "        vertical-align: top;\n",
       "    }\n",
       "\n",
       "    .dataframe thead th {\n",
       "        text-align: right;\n",
       "    }\n",
       "</style>\n",
       "<table border=\"1\" class=\"dataframe\">\n",
       "  <thead>\n",
       "    <tr style=\"text-align: right;\">\n",
       "      <th></th>\n",
       "      <th>word</th>\n",
       "      <th>Stance_against</th>\n",
       "      <th>Stance_favor</th>\n",
       "      <th>Sarcasm_yes</th>\n",
       "      <th>Humor_yes</th>\n",
       "      <th>Hate_yes</th>\n",
       "      <th>OAG</th>\n",
       "      <th>CAG</th>\n",
       "    </tr>\n",
       "  </thead>\n",
       "  <tbody>\n",
       "    <tr>\n",
       "      <th>54676</th>\n",
       "      <td>what  d</td>\n",
       "      <td>0.0</td>\n",
       "      <td>0.0</td>\n",
       "      <td>-1.929354e-07</td>\n",
       "      <td>0.990632</td>\n",
       "      <td>-3.378133e-10</td>\n",
       "      <td>-7.529674e-08</td>\n",
       "      <td>1.0</td>\n",
       "    </tr>\n",
       "    <tr>\n",
       "      <th>26666</th>\n",
       "      <td>hatwao</td>\n",
       "      <td>0.0</td>\n",
       "      <td>0.0</td>\n",
       "      <td>-1.046565e-07</td>\n",
       "      <td>0.000233</td>\n",
       "      <td>6.957251e-06</td>\n",
       "      <td>-1.172675e-08</td>\n",
       "      <td>1.0</td>\n",
       "    </tr>\n",
       "    <tr>\n",
       "      <th>51078</th>\n",
       "      <td>tha  bhul</td>\n",
       "      <td>0.0</td>\n",
       "      <td>0.0</td>\n",
       "      <td>1.755787e-06</td>\n",
       "      <td>0.878022</td>\n",
       "      <td>1.984589e-03</td>\n",
       "      <td>-3.026320e-12</td>\n",
       "      <td>1.0</td>\n",
       "    </tr>\n",
       "    <tr>\n",
       "      <th>50498</th>\n",
       "      <td>talaga</td>\n",
       "      <td>0.0</td>\n",
       "      <td>0.0</td>\n",
       "      <td>4.346886e-08</td>\n",
       "      <td>0.000001</td>\n",
       "      <td>-1.926064e-03</td>\n",
       "      <td>-1.000000e+00</td>\n",
       "      <td>1.0</td>\n",
       "    </tr>\n",
       "    <tr>\n",
       "      <th>10793</th>\n",
       "      <td>anas</td>\n",
       "      <td>0.0</td>\n",
       "      <td>0.0</td>\n",
       "      <td>-2.684685e-07</td>\n",
       "      <td>0.009254</td>\n",
       "      <td>6.160356e-05</td>\n",
       "      <td>1.962587e-08</td>\n",
       "      <td>1.0</td>\n",
       "    </tr>\n",
       "    <tr>\n",
       "      <th>30059</th>\n",
       "      <td>jangle</td>\n",
       "      <td>0.0</td>\n",
       "      <td>0.0</td>\n",
       "      <td>1.616877e-08</td>\n",
       "      <td>0.006700</td>\n",
       "      <td>1.080524e-05</td>\n",
       "      <td>1.016105e-11</td>\n",
       "      <td>1.0</td>\n",
       "    </tr>\n",
       "    <tr>\n",
       "      <th>40839</th>\n",
       "      <td>paidawaar</td>\n",
       "      <td>0.0</td>\n",
       "      <td>0.0</td>\n",
       "      <td>-2.804940e-06</td>\n",
       "      <td>-0.067348</td>\n",
       "      <td>-1.724105e-04</td>\n",
       "      <td>1.372573e-10</td>\n",
       "      <td>1.0</td>\n",
       "    </tr>\n",
       "    <tr>\n",
       "      <th>36428</th>\n",
       "      <td>maratha</td>\n",
       "      <td>0.0</td>\n",
       "      <td>0.0</td>\n",
       "      <td>2.726581e-14</td>\n",
       "      <td>0.010984</td>\n",
       "      <td>-1.896487e-01</td>\n",
       "      <td>1.620433e-08</td>\n",
       "      <td>1.0</td>\n",
       "    </tr>\n",
       "    <tr>\n",
       "      <th>32048</th>\n",
       "      <td>karwao agar</td>\n",
       "      <td>0.0</td>\n",
       "      <td>0.0</td>\n",
       "      <td>-1.303234e-03</td>\n",
       "      <td>0.766125</td>\n",
       "      <td>9.992986e-01</td>\n",
       "      <td>-9.434507e-11</td>\n",
       "      <td>1.0</td>\n",
       "    </tr>\n",
       "    <tr>\n",
       "      <th>26448</th>\n",
       "      <td>haray</td>\n",
       "      <td>0.0</td>\n",
       "      <td>0.0</td>\n",
       "      <td>9.997482e-01</td>\n",
       "      <td>0.034366</td>\n",
       "      <td>2.765008e-02</td>\n",
       "      <td>9.988347e-14</td>\n",
       "      <td>1.0</td>\n",
       "    </tr>\n",
       "  </tbody>\n",
       "</table>\n",
       "</div>"
      ],
      "text/plain": [
       "              word  Stance_against  Stance_favor   Sarcasm_yes  Humor_yes  \\\n",
       "54676      what  d             0.0           0.0 -1.929354e-07   0.990632   \n",
       "26666       hatwao             0.0           0.0 -1.046565e-07   0.000233   \n",
       "51078    tha  bhul             0.0           0.0  1.755787e-06   0.878022   \n",
       "50498       talaga             0.0           0.0  4.346886e-08   0.000001   \n",
       "10793         anas             0.0           0.0 -2.684685e-07   0.009254   \n",
       "30059       jangle             0.0           0.0  1.616877e-08   0.006700   \n",
       "40839    paidawaar             0.0           0.0 -2.804940e-06  -0.067348   \n",
       "36428      maratha             0.0           0.0  2.726581e-14   0.010984   \n",
       "32048  karwao agar             0.0           0.0 -1.303234e-03   0.766125   \n",
       "26448        haray             0.0           0.0  9.997482e-01   0.034366   \n",
       "\n",
       "           Hate_yes           OAG  CAG  \n",
       "54676 -3.378133e-10 -7.529674e-08  1.0  \n",
       "26666  6.957251e-06 -1.172675e-08  1.0  \n",
       "51078  1.984589e-03 -3.026320e-12  1.0  \n",
       "50498 -1.926064e-03 -1.000000e+00  1.0  \n",
       "10793  6.160356e-05  1.962587e-08  1.0  \n",
       "30059  1.080524e-05  1.016105e-11  1.0  \n",
       "40839 -1.724105e-04  1.372573e-10  1.0  \n",
       "36428 -1.896487e-01  1.620433e-08  1.0  \n",
       "32048  9.992986e-01 -9.434507e-11  1.0  \n",
       "26448  2.765008e-02  9.988347e-14  1.0  "
      ]
     },
     "execution_count": 89,
     "metadata": {},
     "output_type": "execute_result"
    }
   ],
   "source": [
    "words.sort_values(['CAG'],ascending=[False]).head(10)"
   ]
  },
  {
   "cell_type": "code",
   "execution_count": 90,
   "metadata": {},
   "outputs": [
    {
     "data": {
      "text/html": [
       "<div>\n",
       "<style scoped>\n",
       "    .dataframe tbody tr th:only-of-type {\n",
       "        vertical-align: middle;\n",
       "    }\n",
       "\n",
       "    .dataframe tbody tr th {\n",
       "        vertical-align: top;\n",
       "    }\n",
       "\n",
       "    .dataframe thead th {\n",
       "        text-align: right;\n",
       "    }\n",
       "</style>\n",
       "<table border=\"1\" class=\"dataframe\">\n",
       "  <thead>\n",
       "    <tr style=\"text-align: right;\">\n",
       "      <th></th>\n",
       "      <th>word</th>\n",
       "      <th>Stance_against</th>\n",
       "      <th>Stance_favor</th>\n",
       "      <th>Sarcasm_yes</th>\n",
       "      <th>Humor_yes</th>\n",
       "      <th>Hate_yes</th>\n",
       "      <th>OAG</th>\n",
       "      <th>CAG</th>\n",
       "    </tr>\n",
       "  </thead>\n",
       "  <tbody>\n",
       "    <tr>\n",
       "      <th>14321</th>\n",
       "      <td>bhartvasi</td>\n",
       "      <td>0.0</td>\n",
       "      <td>0.0</td>\n",
       "      <td>9.514535e-01</td>\n",
       "      <td>0.999847</td>\n",
       "      <td>0.001053</td>\n",
       "      <td>1.569968e-07</td>\n",
       "      <td>0.000000e+00</td>\n",
       "    </tr>\n",
       "    <tr>\n",
       "      <th>39164</th>\n",
       "      <td>navaj</td>\n",
       "      <td>0.0</td>\n",
       "      <td>0.0</td>\n",
       "      <td>2.173781e-04</td>\n",
       "      <td>0.999843</td>\n",
       "      <td>-0.000997</td>\n",
       "      <td>1.068648e-04</td>\n",
       "      <td>9.946179e-01</td>\n",
       "    </tr>\n",
       "    <tr>\n",
       "      <th>31482</th>\n",
       "      <td>kaleja</td>\n",
       "      <td>0.0</td>\n",
       "      <td>0.0</td>\n",
       "      <td>1.178980e-04</td>\n",
       "      <td>0.999793</td>\n",
       "      <td>0.035410</td>\n",
       "      <td>9.999987e-01</td>\n",
       "      <td>-9.999202e-01</td>\n",
       "    </tr>\n",
       "    <tr>\n",
       "      <th>26698</th>\n",
       "      <td>haven t   and</td>\n",
       "      <td>0.0</td>\n",
       "      <td>0.0</td>\n",
       "      <td>1.331825e-05</td>\n",
       "      <td>0.999670</td>\n",
       "      <td>0.000409</td>\n",
       "      <td>0.000000e+00</td>\n",
       "      <td>3.783693e-08</td>\n",
       "    </tr>\n",
       "    <tr>\n",
       "      <th>50231</th>\n",
       "      <td>swaminarayan</td>\n",
       "      <td>0.0</td>\n",
       "      <td>0.0</td>\n",
       "      <td>9.124244e-04</td>\n",
       "      <td>0.999627</td>\n",
       "      <td>0.000057</td>\n",
       "      <td>6.395489e-13</td>\n",
       "      <td>1.196785e-12</td>\n",
       "    </tr>\n",
       "    <tr>\n",
       "      <th>11251</th>\n",
       "      <td>apprehension</td>\n",
       "      <td>0.0</td>\n",
       "      <td>0.0</td>\n",
       "      <td>5.404397e-12</td>\n",
       "      <td>0.999609</td>\n",
       "      <td>0.000891</td>\n",
       "      <td>-2.796388e-10</td>\n",
       "      <td>-1.432531e-08</td>\n",
       "    </tr>\n",
       "    <tr>\n",
       "      <th>42585</th>\n",
       "      <td>pinnarayi</td>\n",
       "      <td>0.0</td>\n",
       "      <td>0.0</td>\n",
       "      <td>8.207964e-03</td>\n",
       "      <td>0.999594</td>\n",
       "      <td>-0.000017</td>\n",
       "      <td>-9.986787e-01</td>\n",
       "      <td>9.986783e-01</td>\n",
       "    </tr>\n",
       "    <tr>\n",
       "      <th>31616</th>\n",
       "      <td>kangesi</td>\n",
       "      <td>0.0</td>\n",
       "      <td>0.0</td>\n",
       "      <td>1.639593e-01</td>\n",
       "      <td>0.999567</td>\n",
       "      <td>0.006733</td>\n",
       "      <td>0.000000e+00</td>\n",
       "      <td>-8.368468e-09</td>\n",
       "    </tr>\n",
       "    <tr>\n",
       "      <th>46350</th>\n",
       "      <td>sahvaag</td>\n",
       "      <td>0.0</td>\n",
       "      <td>0.0</td>\n",
       "      <td>-6.812830e-08</td>\n",
       "      <td>0.999428</td>\n",
       "      <td>-0.000002</td>\n",
       "      <td>1.099253e-02</td>\n",
       "      <td>-3.006688e-03</td>\n",
       "    </tr>\n",
       "    <tr>\n",
       "      <th>44807</th>\n",
       "      <td>ravi s</td>\n",
       "      <td>0.0</td>\n",
       "      <td>0.0</td>\n",
       "      <td>1.259930e-04</td>\n",
       "      <td>0.999410</td>\n",
       "      <td>-0.000136</td>\n",
       "      <td>1.484208e-01</td>\n",
       "      <td>-6.395582e-03</td>\n",
       "    </tr>\n",
       "  </tbody>\n",
       "</table>\n",
       "</div>"
      ],
      "text/plain": [
       "                word  Stance_against  Stance_favor   Sarcasm_yes  Humor_yes  \\\n",
       "14321      bhartvasi             0.0           0.0  9.514535e-01   0.999847   \n",
       "39164          navaj             0.0           0.0  2.173781e-04   0.999843   \n",
       "31482         kaleja             0.0           0.0  1.178980e-04   0.999793   \n",
       "26698  haven t   and             0.0           0.0  1.331825e-05   0.999670   \n",
       "50231   swaminarayan             0.0           0.0  9.124244e-04   0.999627   \n",
       "11251   apprehension             0.0           0.0  5.404397e-12   0.999609   \n",
       "42585      pinnarayi             0.0           0.0  8.207964e-03   0.999594   \n",
       "31616        kangesi             0.0           0.0  1.639593e-01   0.999567   \n",
       "46350        sahvaag             0.0           0.0 -6.812830e-08   0.999428   \n",
       "44807         ravi s             0.0           0.0  1.259930e-04   0.999410   \n",
       "\n",
       "       Hate_yes           OAG           CAG  \n",
       "14321  0.001053  1.569968e-07  0.000000e+00  \n",
       "39164 -0.000997  1.068648e-04  9.946179e-01  \n",
       "31482  0.035410  9.999987e-01 -9.999202e-01  \n",
       "26698  0.000409  0.000000e+00  3.783693e-08  \n",
       "50231  0.000057  6.395489e-13  1.196785e-12  \n",
       "11251  0.000891 -2.796388e-10 -1.432531e-08  \n",
       "42585 -0.000017 -9.986787e-01  9.986783e-01  \n",
       "31616  0.006733  0.000000e+00 -8.368468e-09  \n",
       "46350 -0.000002  1.099253e-02 -3.006688e-03  \n",
       "44807 -0.000136  1.484208e-01 -6.395582e-03  "
      ]
     },
     "execution_count": 90,
     "metadata": {},
     "output_type": "execute_result"
    }
   ],
   "source": [
    "words.sort_values(['Humor_yes'],ascending=[False]).head(10)"
   ]
  },
  {
   "cell_type": "code",
   "execution_count": 91,
   "metadata": {},
   "outputs": [
    {
     "data": {
      "text/html": [
       "<div>\n",
       "<style scoped>\n",
       "    .dataframe tbody tr th:only-of-type {\n",
       "        vertical-align: middle;\n",
       "    }\n",
       "\n",
       "    .dataframe tbody tr th {\n",
       "        vertical-align: top;\n",
       "    }\n",
       "\n",
       "    .dataframe thead th {\n",
       "        text-align: right;\n",
       "    }\n",
       "</style>\n",
       "<table border=\"1\" class=\"dataframe\">\n",
       "  <thead>\n",
       "    <tr style=\"text-align: right;\">\n",
       "      <th></th>\n",
       "      <th>word</th>\n",
       "      <th>Stance_against</th>\n",
       "      <th>Stance_favor</th>\n",
       "      <th>Sarcasm_yes</th>\n",
       "      <th>Humor_yes</th>\n",
       "      <th>Hate_yes</th>\n",
       "      <th>OAG</th>\n",
       "      <th>CAG</th>\n",
       "    </tr>\n",
       "  </thead>\n",
       "  <tbody>\n",
       "    <tr>\n",
       "      <th>51289</th>\n",
       "      <td>there   beautiful</td>\n",
       "      <td>0.0</td>\n",
       "      <td>0.0</td>\n",
       "      <td>1.000000</td>\n",
       "      <td>6.477218e-01</td>\n",
       "      <td>9.484552e-04</td>\n",
       "      <td>1.940578e-07</td>\n",
       "      <td>6.862504e-05</td>\n",
       "    </tr>\n",
       "    <tr>\n",
       "      <th>26083</th>\n",
       "      <td>haiedia</td>\n",
       "      <td>0.0</td>\n",
       "      <td>0.0</td>\n",
       "      <td>0.999999</td>\n",
       "      <td>4.326063e-02</td>\n",
       "      <td>7.488851e-03</td>\n",
       "      <td>0.000000e+00</td>\n",
       "      <td>1.026680e-10</td>\n",
       "    </tr>\n",
       "    <tr>\n",
       "      <th>22470</th>\n",
       "      <td>faadu</td>\n",
       "      <td>0.0</td>\n",
       "      <td>0.0</td>\n",
       "      <td>0.999999</td>\n",
       "      <td>9.553286e-03</td>\n",
       "      <td>8.072946e-08</td>\n",
       "      <td>2.051902e-06</td>\n",
       "      <td>9.999980e-01</td>\n",
       "    </tr>\n",
       "    <tr>\n",
       "      <th>24401</th>\n",
       "      <td>ghostly</td>\n",
       "      <td>0.0</td>\n",
       "      <td>0.0</td>\n",
       "      <td>0.999998</td>\n",
       "      <td>2.041706e-02</td>\n",
       "      <td>6.592613e-04</td>\n",
       "      <td>9.252896e-01</td>\n",
       "      <td>-4.049243e-02</td>\n",
       "    </tr>\n",
       "    <tr>\n",
       "      <th>16571</th>\n",
       "      <td>chakao</td>\n",
       "      <td>0.0</td>\n",
       "      <td>0.0</td>\n",
       "      <td>0.999997</td>\n",
       "      <td>2.596425e-07</td>\n",
       "      <td>1.251424e-04</td>\n",
       "      <td>9.999983e-01</td>\n",
       "      <td>-9.999955e-01</td>\n",
       "    </tr>\n",
       "    <tr>\n",
       "      <th>30011</th>\n",
       "      <td>jammeh</td>\n",
       "      <td>0.0</td>\n",
       "      <td>0.0</td>\n",
       "      <td>0.999997</td>\n",
       "      <td>1.660692e-05</td>\n",
       "      <td>-7.228851e-04</td>\n",
       "      <td>-1.315228e-01</td>\n",
       "      <td>9.999963e-01</td>\n",
       "    </tr>\n",
       "    <tr>\n",
       "      <th>12540</th>\n",
       "      <td>bahgawn</td>\n",
       "      <td>0.0</td>\n",
       "      <td>0.0</td>\n",
       "      <td>0.999997</td>\n",
       "      <td>7.811920e-01</td>\n",
       "      <td>1.465335e-01</td>\n",
       "      <td>-6.465718e-04</td>\n",
       "      <td>5.661497e-01</td>\n",
       "    </tr>\n",
       "    <tr>\n",
       "      <th>42453</th>\n",
       "      <td>pichad</td>\n",
       "      <td>0.0</td>\n",
       "      <td>0.0</td>\n",
       "      <td>0.999996</td>\n",
       "      <td>8.650975e-03</td>\n",
       "      <td>1.817755e-04</td>\n",
       "      <td>-2.703399e-03</td>\n",
       "      <td>2.705157e-03</td>\n",
       "    </tr>\n",
       "    <tr>\n",
       "      <th>46740</th>\n",
       "      <td>samru    apni</td>\n",
       "      <td>0.0</td>\n",
       "      <td>0.0</td>\n",
       "      <td>0.999996</td>\n",
       "      <td>-1.359302e-02</td>\n",
       "      <td>2.559889e-02</td>\n",
       "      <td>-6.439325e-01</td>\n",
       "      <td>-4.871716e-04</td>\n",
       "    </tr>\n",
       "    <tr>\n",
       "      <th>31004</th>\n",
       "      <td>judze</td>\n",
       "      <td>0.0</td>\n",
       "      <td>0.0</td>\n",
       "      <td>0.999996</td>\n",
       "      <td>1.485934e-02</td>\n",
       "      <td>-1.366309e-05</td>\n",
       "      <td>9.207640e-08</td>\n",
       "      <td>9.999713e-01</td>\n",
       "    </tr>\n",
       "  </tbody>\n",
       "</table>\n",
       "</div>"
      ],
      "text/plain": [
       "                    word  Stance_against  Stance_favor  Sarcasm_yes  \\\n",
       "51289  there   beautiful             0.0           0.0     1.000000   \n",
       "26083            haiedia             0.0           0.0     0.999999   \n",
       "22470              faadu             0.0           0.0     0.999999   \n",
       "24401            ghostly             0.0           0.0     0.999998   \n",
       "16571             chakao             0.0           0.0     0.999997   \n",
       "30011             jammeh             0.0           0.0     0.999997   \n",
       "12540            bahgawn             0.0           0.0     0.999997   \n",
       "42453             pichad             0.0           0.0     0.999996   \n",
       "46740      samru    apni             0.0           0.0     0.999996   \n",
       "31004              judze             0.0           0.0     0.999996   \n",
       "\n",
       "          Humor_yes      Hate_yes           OAG           CAG  \n",
       "51289  6.477218e-01  9.484552e-04  1.940578e-07  6.862504e-05  \n",
       "26083  4.326063e-02  7.488851e-03  0.000000e+00  1.026680e-10  \n",
       "22470  9.553286e-03  8.072946e-08  2.051902e-06  9.999980e-01  \n",
       "24401  2.041706e-02  6.592613e-04  9.252896e-01 -4.049243e-02  \n",
       "16571  2.596425e-07  1.251424e-04  9.999983e-01 -9.999955e-01  \n",
       "30011  1.660692e-05 -7.228851e-04 -1.315228e-01  9.999963e-01  \n",
       "12540  7.811920e-01  1.465335e-01 -6.465718e-04  5.661497e-01  \n",
       "42453  8.650975e-03  1.817755e-04 -2.703399e-03  2.705157e-03  \n",
       "46740 -1.359302e-02  2.559889e-02 -6.439325e-01 -4.871716e-04  \n",
       "31004  1.485934e-02 -1.366309e-05  9.207640e-08  9.999713e-01  "
      ]
     },
     "execution_count": 91,
     "metadata": {},
     "output_type": "execute_result"
    }
   ],
   "source": [
    "words.sort_values(['Sarcasm_yes'],ascending=[False]).head(10)"
   ]
  },
  {
   "cell_type": "code",
   "execution_count": 92,
   "metadata": {},
   "outputs": [
    {
     "data": {
      "text/html": [
       "<div>\n",
       "<style scoped>\n",
       "    .dataframe tbody tr th:only-of-type {\n",
       "        vertical-align: middle;\n",
       "    }\n",
       "\n",
       "    .dataframe tbody tr th {\n",
       "        vertical-align: top;\n",
       "    }\n",
       "\n",
       "    .dataframe thead th {\n",
       "        text-align: right;\n",
       "    }\n",
       "</style>\n",
       "<table border=\"1\" class=\"dataframe\">\n",
       "  <thead>\n",
       "    <tr style=\"text-align: right;\">\n",
       "      <th></th>\n",
       "      <th>word</th>\n",
       "      <th>Stance_against</th>\n",
       "      <th>Stance_favor</th>\n",
       "      <th>Sarcasm_yes</th>\n",
       "      <th>Humor_yes</th>\n",
       "      <th>Hate_yes</th>\n",
       "      <th>OAG</th>\n",
       "      <th>CAG</th>\n",
       "    </tr>\n",
       "  </thead>\n",
       "  <tbody>\n",
       "    <tr>\n",
       "      <th>2544</th>\n",
       "      <td>fars</td>\n",
       "      <td>1.000000</td>\n",
       "      <td>-2.205069e-07</td>\n",
       "      <td>-3.132306e-02</td>\n",
       "      <td>1.312882e-02</td>\n",
       "      <td>0.231661</td>\n",
       "      <td>-5.053416e-01</td>\n",
       "      <td>0.507404</td>\n",
       "    </tr>\n",
       "    <tr>\n",
       "      <th>4619</th>\n",
       "      <td>khafa</td>\n",
       "      <td>0.999999</td>\n",
       "      <td>-9.999818e-01</td>\n",
       "      <td>-2.725664e-02</td>\n",
       "      <td>0.000000e+00</td>\n",
       "      <td>0.000555</td>\n",
       "      <td>-4.214942e-05</td>\n",
       "      <td>0.000040</td>\n",
       "    </tr>\n",
       "    <tr>\n",
       "      <th>3087</th>\n",
       "      <td>hai deshwasio</td>\n",
       "      <td>0.999987</td>\n",
       "      <td>9.538926e-07</td>\n",
       "      <td>1.432569e-02</td>\n",
       "      <td>-1.192093e-07</td>\n",
       "      <td>-0.003773</td>\n",
       "      <td>9.317618e-01</td>\n",
       "      <td>-0.931762</td>\n",
       "    </tr>\n",
       "    <tr>\n",
       "      <th>5391</th>\n",
       "      <td>mahangi</td>\n",
       "      <td>0.999951</td>\n",
       "      <td>-3.915120e-06</td>\n",
       "      <td>-8.418494e-02</td>\n",
       "      <td>-2.556841e-02</td>\n",
       "      <td>0.000034</td>\n",
       "      <td>-1.713246e-06</td>\n",
       "      <td>0.131883</td>\n",
       "    </tr>\n",
       "    <tr>\n",
       "      <th>3529</th>\n",
       "      <td>http   fb me ybdiazbk</td>\n",
       "      <td>0.999901</td>\n",
       "      <td>-4.666000e-06</td>\n",
       "      <td>-2.170958e-01</td>\n",
       "      <td>9.536897e-01</td>\n",
       "      <td>-0.190544</td>\n",
       "      <td>-2.288827e-02</td>\n",
       "      <td>-0.813489</td>\n",
       "    </tr>\n",
       "    <tr>\n",
       "      <th>8075</th>\n",
       "      <td>sunoga</td>\n",
       "      <td>0.999896</td>\n",
       "      <td>6.513298e-10</td>\n",
       "      <td>2.639002e-09</td>\n",
       "      <td>4.642010e-04</td>\n",
       "      <td>0.000329</td>\n",
       "      <td>-1.183439e-09</td>\n",
       "      <td>-0.000555</td>\n",
       "    </tr>\n",
       "    <tr>\n",
       "      <th>8477</th>\n",
       "      <td>twitter com bgcixainsa</td>\n",
       "      <td>0.999842</td>\n",
       "      <td>-4.596322e-01</td>\n",
       "      <td>-9.999955e-01</td>\n",
       "      <td>-6.945908e-03</td>\n",
       "      <td>-0.000008</td>\n",
       "      <td>-4.041869e-05</td>\n",
       "      <td>0.000115</td>\n",
       "    </tr>\n",
       "    <tr>\n",
       "      <th>2083</th>\n",
       "      <td>deshdhroh</td>\n",
       "      <td>0.999819</td>\n",
       "      <td>-6.173543e-09</td>\n",
       "      <td>-1.672507e-06</td>\n",
       "      <td>1.180172e-05</td>\n",
       "      <td>-0.000194</td>\n",
       "      <td>-1.206559e-09</td>\n",
       "      <td>0.000000</td>\n",
       "    </tr>\n",
       "    <tr>\n",
       "      <th>851</th>\n",
       "      <td>banefit</td>\n",
       "      <td>0.999020</td>\n",
       "      <td>-2.576239e-06</td>\n",
       "      <td>3.891587e-04</td>\n",
       "      <td>3.981590e-05</td>\n",
       "      <td>0.017002</td>\n",
       "      <td>-4.573162e-01</td>\n",
       "      <td>0.457323</td>\n",
       "    </tr>\n",
       "    <tr>\n",
       "      <th>2753</th>\n",
       "      <td>gaya  woh</td>\n",
       "      <td>0.998810</td>\n",
       "      <td>-2.921505e-03</td>\n",
       "      <td>-1.735161e-02</td>\n",
       "      <td>-5.137920e-05</td>\n",
       "      <td>-0.000136</td>\n",
       "      <td>2.920628e-05</td>\n",
       "      <td>-0.000029</td>\n",
       "    </tr>\n",
       "  </tbody>\n",
       "</table>\n",
       "</div>"
      ],
      "text/plain": [
       "                        word  Stance_against  Stance_favor   Sarcasm_yes  \\\n",
       "2544                    fars        1.000000 -2.205069e-07 -3.132306e-02   \n",
       "4619                   khafa        0.999999 -9.999818e-01 -2.725664e-02   \n",
       "3087           hai deshwasio        0.999987  9.538926e-07  1.432569e-02   \n",
       "5391                 mahangi        0.999951 -3.915120e-06 -8.418494e-02   \n",
       "3529   http   fb me ybdiazbk        0.999901 -4.666000e-06 -2.170958e-01   \n",
       "8075                  sunoga        0.999896  6.513298e-10  2.639002e-09   \n",
       "8477  twitter com bgcixainsa        0.999842 -4.596322e-01 -9.999955e-01   \n",
       "2083               deshdhroh        0.999819 -6.173543e-09 -1.672507e-06   \n",
       "851                  banefit        0.999020 -2.576239e-06  3.891587e-04   \n",
       "2753               gaya  woh        0.998810 -2.921505e-03 -1.735161e-02   \n",
       "\n",
       "         Humor_yes  Hate_yes           OAG       CAG  \n",
       "2544  1.312882e-02  0.231661 -5.053416e-01  0.507404  \n",
       "4619  0.000000e+00  0.000555 -4.214942e-05  0.000040  \n",
       "3087 -1.192093e-07 -0.003773  9.317618e-01 -0.931762  \n",
       "5391 -2.556841e-02  0.000034 -1.713246e-06  0.131883  \n",
       "3529  9.536897e-01 -0.190544 -2.288827e-02 -0.813489  \n",
       "8075  4.642010e-04  0.000329 -1.183439e-09 -0.000555  \n",
       "8477 -6.945908e-03 -0.000008 -4.041869e-05  0.000115  \n",
       "2083  1.180172e-05 -0.000194 -1.206559e-09  0.000000  \n",
       "851   3.981590e-05  0.017002 -4.573162e-01  0.457323  \n",
       "2753 -5.137920e-05 -0.000136  2.920628e-05 -0.000029  "
      ]
     },
     "execution_count": 92,
     "metadata": {},
     "output_type": "execute_result"
    }
   ],
   "source": [
    "words.sort_values(['Stance_against'],ascending=[False]).head(10)"
   ]
  },
  {
   "cell_type": "code",
   "execution_count": 93,
   "metadata": {},
   "outputs": [
    {
     "data": {
      "text/html": [
       "<div>\n",
       "<style scoped>\n",
       "    .dataframe tbody tr th:only-of-type {\n",
       "        vertical-align: middle;\n",
       "    }\n",
       "\n",
       "    .dataframe tbody tr th {\n",
       "        vertical-align: top;\n",
       "    }\n",
       "\n",
       "    .dataframe thead th {\n",
       "        text-align: right;\n",
       "    }\n",
       "</style>\n",
       "<table border=\"1\" class=\"dataframe\">\n",
       "  <thead>\n",
       "    <tr style=\"text-align: right;\">\n",
       "      <th></th>\n",
       "      <th>word</th>\n",
       "      <th>Stance_against</th>\n",
       "      <th>Stance_favor</th>\n",
       "      <th>Sarcasm_yes</th>\n",
       "      <th>Humor_yes</th>\n",
       "      <th>Hate_yes</th>\n",
       "      <th>OAG</th>\n",
       "      <th>CAG</th>\n",
       "    </tr>\n",
       "  </thead>\n",
       "  <tbody>\n",
       "    <tr>\n",
       "      <th>3392</th>\n",
       "      <td>ho    modi</td>\n",
       "      <td>-0.000002</td>\n",
       "      <td>0.999994</td>\n",
       "      <td>1.217600e-01</td>\n",
       "      <td>-0.000265</td>\n",
       "      <td>-0.000035</td>\n",
       "      <td>1.424113e-05</td>\n",
       "      <td>0.270366</td>\n",
       "    </tr>\n",
       "    <tr>\n",
       "      <th>4650</th>\n",
       "      <td>kharchi</td>\n",
       "      <td>-0.446136</td>\n",
       "      <td>0.999993</td>\n",
       "      <td>2.389593e-04</td>\n",
       "      <td>-0.219877</td>\n",
       "      <td>-0.000063</td>\n",
       "      <td>-1.980007e-03</td>\n",
       "      <td>0.002053</td>\n",
       "    </tr>\n",
       "    <tr>\n",
       "      <th>5663</th>\n",
       "      <td>mehngayi</td>\n",
       "      <td>-0.982231</td>\n",
       "      <td>0.999867</td>\n",
       "      <td>8.860700e-08</td>\n",
       "      <td>-0.530392</td>\n",
       "      <td>-0.000832</td>\n",
       "      <td>6.145114e-01</td>\n",
       "      <td>0.040777</td>\n",
       "    </tr>\n",
       "    <tr>\n",
       "      <th>578</th>\n",
       "      <td>autowala</td>\n",
       "      <td>-0.000229</td>\n",
       "      <td>0.999742</td>\n",
       "      <td>1.394711e-05</td>\n",
       "      <td>-0.083417</td>\n",
       "      <td>-0.163407</td>\n",
       "      <td>-9.632322e-05</td>\n",
       "      <td>-0.001783</td>\n",
       "    </tr>\n",
       "    <tr>\n",
       "      <th>7012</th>\n",
       "      <td>raha modi</td>\n",
       "      <td>-0.000108</td>\n",
       "      <td>0.999440</td>\n",
       "      <td>5.399889e-02</td>\n",
       "      <td>-0.000060</td>\n",
       "      <td>0.086210</td>\n",
       "      <td>-1.369452e-03</td>\n",
       "      <td>0.001387</td>\n",
       "    </tr>\n",
       "    <tr>\n",
       "      <th>4433</th>\n",
       "      <td>karnewale</td>\n",
       "      <td>-0.000026</td>\n",
       "      <td>0.999060</td>\n",
       "      <td>4.548241e-01</td>\n",
       "      <td>-0.000150</td>\n",
       "      <td>0.181098</td>\n",
       "      <td>8.614528e-02</td>\n",
       "      <td>0.164284</td>\n",
       "    </tr>\n",
       "    <tr>\n",
       "      <th>1394</th>\n",
       "      <td>bonus</td>\n",
       "      <td>-0.000016</td>\n",
       "      <td>0.998495</td>\n",
       "      <td>2.406670e-02</td>\n",
       "      <td>0.089036</td>\n",
       "      <td>0.099759</td>\n",
       "      <td>6.846312e-04</td>\n",
       "      <td>-0.001231</td>\n",
       "    </tr>\n",
       "    <tr>\n",
       "      <th>5599</th>\n",
       "      <td>mauon</td>\n",
       "      <td>-0.017920</td>\n",
       "      <td>0.996649</td>\n",
       "      <td>8.646069e-04</td>\n",
       "      <td>0.247417</td>\n",
       "      <td>-0.000029</td>\n",
       "      <td>1.380329e-03</td>\n",
       "      <td>-0.001380</td>\n",
       "    </tr>\n",
       "    <tr>\n",
       "      <th>2173</th>\n",
       "      <td>dhoondte</td>\n",
       "      <td>-0.000189</td>\n",
       "      <td>0.995105</td>\n",
       "      <td>7.458206e-11</td>\n",
       "      <td>0.004159</td>\n",
       "      <td>0.006242</td>\n",
       "      <td>-3.803824e-08</td>\n",
       "      <td>-0.076984</td>\n",
       "    </tr>\n",
       "    <tr>\n",
       "      <th>7843</th>\n",
       "      <td>shubh</td>\n",
       "      <td>0.000086</td>\n",
       "      <td>0.994810</td>\n",
       "      <td>1.243338e-01</td>\n",
       "      <td>-0.023362</td>\n",
       "      <td>0.028979</td>\n",
       "      <td>-1.808291e-05</td>\n",
       "      <td>0.000015</td>\n",
       "    </tr>\n",
       "  </tbody>\n",
       "</table>\n",
       "</div>"
      ],
      "text/plain": [
       "            word  Stance_against  Stance_favor   Sarcasm_yes  Humor_yes  \\\n",
       "3392  ho    modi       -0.000002      0.999994  1.217600e-01  -0.000265   \n",
       "4650     kharchi       -0.446136      0.999993  2.389593e-04  -0.219877   \n",
       "5663    mehngayi       -0.982231      0.999867  8.860700e-08  -0.530392   \n",
       "578     autowala       -0.000229      0.999742  1.394711e-05  -0.083417   \n",
       "7012   raha modi       -0.000108      0.999440  5.399889e-02  -0.000060   \n",
       "4433   karnewale       -0.000026      0.999060  4.548241e-01  -0.000150   \n",
       "1394       bonus       -0.000016      0.998495  2.406670e-02   0.089036   \n",
       "5599       mauon       -0.017920      0.996649  8.646069e-04   0.247417   \n",
       "2173    dhoondte       -0.000189      0.995105  7.458206e-11   0.004159   \n",
       "7843       shubh        0.000086      0.994810  1.243338e-01  -0.023362   \n",
       "\n",
       "      Hate_yes           OAG       CAG  \n",
       "3392 -0.000035  1.424113e-05  0.270366  \n",
       "4650 -0.000063 -1.980007e-03  0.002053  \n",
       "5663 -0.000832  6.145114e-01  0.040777  \n",
       "578  -0.163407 -9.632322e-05 -0.001783  \n",
       "7012  0.086210 -1.369452e-03  0.001387  \n",
       "4433  0.181098  8.614528e-02  0.164284  \n",
       "1394  0.099759  6.846312e-04 -0.001231  \n",
       "5599 -0.000029  1.380329e-03 -0.001380  \n",
       "2173  0.006242 -3.803824e-08 -0.076984  \n",
       "7843  0.028979 -1.808291e-05  0.000015  "
      ]
     },
     "execution_count": 93,
     "metadata": {},
     "output_type": "execute_result"
    }
   ],
   "source": [
    "words.sort_values(['Stance_favor'],ascending=[False]).head(10)"
   ]
  },
  {
   "cell_type": "code",
   "execution_count": 94,
   "metadata": {},
   "outputs": [
    {
     "data": {
      "text/html": [
       "<div>\n",
       "<style scoped>\n",
       "    .dataframe tbody tr th:only-of-type {\n",
       "        vertical-align: middle;\n",
       "    }\n",
       "\n",
       "    .dataframe tbody tr th {\n",
       "        vertical-align: top;\n",
       "    }\n",
       "\n",
       "    .dataframe thead th {\n",
       "        text-align: right;\n",
       "    }\n",
       "</style>\n",
       "<table border=\"1\" class=\"dataframe\">\n",
       "  <thead>\n",
       "    <tr style=\"text-align: right;\">\n",
       "      <th></th>\n",
       "      <th>Stance_against</th>\n",
       "      <th>Stance_favor</th>\n",
       "      <th>Sarcasm_yes</th>\n",
       "      <th>Humor_yes</th>\n",
       "      <th>Hate_yes</th>\n",
       "      <th>OAG</th>\n",
       "      <th>CAG</th>\n",
       "    </tr>\n",
       "  </thead>\n",
       "  <tbody>\n",
       "    <tr>\n",
       "      <th>Stance_against</th>\n",
       "      <td>1.000000</td>\n",
       "      <td>-0.221145</td>\n",
       "      <td>-0.007104</td>\n",
       "      <td>0.007723</td>\n",
       "      <td>0.002116</td>\n",
       "      <td>-0.003799</td>\n",
       "      <td>-0.001111</td>\n",
       "    </tr>\n",
       "    <tr>\n",
       "      <th>Stance_favor</th>\n",
       "      <td>-0.221145</td>\n",
       "      <td>1.000000</td>\n",
       "      <td>0.012991</td>\n",
       "      <td>-0.009926</td>\n",
       "      <td>0.001841</td>\n",
       "      <td>0.005333</td>\n",
       "      <td>0.003310</td>\n",
       "    </tr>\n",
       "    <tr>\n",
       "      <th>Sarcasm_yes</th>\n",
       "      <td>-0.007104</td>\n",
       "      <td>0.012991</td>\n",
       "      <td>1.000000</td>\n",
       "      <td>0.038031</td>\n",
       "      <td>0.016610</td>\n",
       "      <td>0.039474</td>\n",
       "      <td>0.032593</td>\n",
       "    </tr>\n",
       "    <tr>\n",
       "      <th>Humor_yes</th>\n",
       "      <td>0.007723</td>\n",
       "      <td>-0.009926</td>\n",
       "      <td>0.038031</td>\n",
       "      <td>1.000000</td>\n",
       "      <td>0.005299</td>\n",
       "      <td>0.016807</td>\n",
       "      <td>0.021457</td>\n",
       "    </tr>\n",
       "    <tr>\n",
       "      <th>Hate_yes</th>\n",
       "      <td>0.002116</td>\n",
       "      <td>0.001841</td>\n",
       "      <td>0.016610</td>\n",
       "      <td>0.005299</td>\n",
       "      <td>1.000000</td>\n",
       "      <td>0.020924</td>\n",
       "      <td>-0.011450</td>\n",
       "    </tr>\n",
       "    <tr>\n",
       "      <th>OAG</th>\n",
       "      <td>-0.003799</td>\n",
       "      <td>0.005333</td>\n",
       "      <td>0.039474</td>\n",
       "      <td>0.016807</td>\n",
       "      <td>0.020924</td>\n",
       "      <td>1.000000</td>\n",
       "      <td>-0.609590</td>\n",
       "    </tr>\n",
       "    <tr>\n",
       "      <th>CAG</th>\n",
       "      <td>-0.001111</td>\n",
       "      <td>0.003310</td>\n",
       "      <td>0.032593</td>\n",
       "      <td>0.021457</td>\n",
       "      <td>-0.011450</td>\n",
       "      <td>-0.609590</td>\n",
       "      <td>1.000000</td>\n",
       "    </tr>\n",
       "  </tbody>\n",
       "</table>\n",
       "</div>"
      ],
      "text/plain": [
       "                Stance_against  Stance_favor  Sarcasm_yes  Humor_yes  \\\n",
       "Stance_against        1.000000     -0.221145    -0.007104   0.007723   \n",
       "Stance_favor         -0.221145      1.000000     0.012991  -0.009926   \n",
       "Sarcasm_yes          -0.007104      0.012991     1.000000   0.038031   \n",
       "Humor_yes             0.007723     -0.009926     0.038031   1.000000   \n",
       "Hate_yes              0.002116      0.001841     0.016610   0.005299   \n",
       "OAG                  -0.003799      0.005333     0.039474   0.016807   \n",
       "CAG                  -0.001111      0.003310     0.032593   0.021457   \n",
       "\n",
       "                Hate_yes       OAG       CAG  \n",
       "Stance_against  0.002116 -0.003799 -0.001111  \n",
       "Stance_favor    0.001841  0.005333  0.003310  \n",
       "Sarcasm_yes     0.016610  0.039474  0.032593  \n",
       "Humor_yes       0.005299  0.016807  0.021457  \n",
       "Hate_yes        1.000000  0.020924 -0.011450  \n",
       "OAG             0.020924  1.000000 -0.609590  \n",
       "CAG            -0.011450 -0.609590  1.000000  "
      ]
     },
     "execution_count": 94,
     "metadata": {},
     "output_type": "execute_result"
    }
   ],
   "source": [
    "cols = words.columns[1:]\n",
    "\n",
    "words[cols].corr()"
   ]
  },
  {
   "cell_type": "code",
   "execution_count": 95,
   "metadata": {},
   "outputs": [
    {
     "name": "stdout",
     "output_type": "stream",
     "text": [
      "Stance_against Stance_favor 0.8859471347622856\n",
      "Stance_against Sarcasm_yes 3.3716405312298655e-181\n",
      "Stance_against Humor_yes 0.0\n",
      "Stance_against Hate_yes 0.0\n",
      "Stance_against OAG 0.0\n",
      "Stance_against CAG 0.47138848517143506\n",
      "Stance_favor Stance_against 0.8859471347622856\n",
      "Stance_favor Sarcasm_yes 7.09021734416116e-180\n",
      "Stance_favor Humor_yes 0.0\n",
      "Stance_favor Hate_yes 0.0\n",
      "Stance_favor OAG 0.0\n",
      "Stance_favor CAG 0.44990856973981286\n",
      "Sarcasm_yes Stance_against 3.3716405312298655e-181\n",
      "Sarcasm_yes Stance_favor 7.09021734416116e-180\n",
      "Sarcasm_yes Humor_yes 0.15862960654544553\n",
      "Sarcasm_yes Hate_yes 1.0127144212750887e-48\n",
      "Sarcasm_yes OAG 1.4175280531333537e-08\n",
      "Sarcasm_yes CAG 1.1812828808226087e-104\n",
      "Humor_yes Stance_against 0.0\n",
      "Humor_yes Stance_favor 0.0\n",
      "Humor_yes Sarcasm_yes 0.15862960654544553\n",
      "Humor_yes Hate_yes 1.8329367237650333e-93\n",
      "Humor_yes OAG 4.350473995606426e-18\n",
      "Humor_yes CAG 7.734427597807684e-135\n",
      "Hate_yes Stance_against 0.0\n",
      "Hate_yes Stance_favor 0.0\n",
      "Hate_yes Sarcasm_yes 1.0127144212750887e-48\n",
      "Hate_yes Humor_yes 1.8329367237650333e-93\n",
      "Hate_yes OAG 4.094602383496732e-23\n",
      "Hate_yes CAG 0.0\n",
      "OAG Stance_against 0.0\n",
      "OAG Stance_favor 0.0\n",
      "OAG Sarcasm_yes 1.4175280531333537e-08\n",
      "OAG Humor_yes 4.350473995606426e-18\n",
      "OAG Hate_yes 4.094602383496732e-23\n",
      "OAG CAG 1.5475381248451948e-195\n",
      "CAG Stance_against 0.47138848517143506\n",
      "CAG Stance_favor 0.44990856973981286\n",
      "CAG Sarcasm_yes 1.1812828808226087e-104\n",
      "CAG Humor_yes 7.734427597807684e-135\n",
      "CAG Hate_yes 0.0\n",
      "CAG OAG 1.5475381248451948e-195\n"
     ]
    }
   ],
   "source": [
    "for col1 in cols:\n",
    "    for col2 in cols:\n",
    "        if col1 != col2:\n",
    "            print (col1, col2, ttest_ind(words[col1],words[col2]).pvalue)"
   ]
  },
  {
   "cell_type": "code",
   "execution_count": null,
   "metadata": {},
   "outputs": [],
   "source": []
  }
 ],
 "metadata": {
  "kernelspec": {
   "display_name": "Python 3",
   "language": "python",
   "name": "python3"
  },
  "language_info": {
   "codemirror_mode": {
    "name": "ipython",
    "version": 3
   },
   "file_extension": ".py",
   "mimetype": "text/x-python",
   "name": "python",
   "nbconvert_exporter": "python",
   "pygments_lexer": "ipython3",
   "version": "3.7.1"
  }
 },
 "nbformat": 4,
 "nbformat_minor": 4
}
