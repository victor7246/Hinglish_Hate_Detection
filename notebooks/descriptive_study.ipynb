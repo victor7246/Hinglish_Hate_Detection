{
 "cells": [
  {
   "cell_type": "code",
   "execution_count": 1,
   "metadata": {},
   "outputs": [],
   "source": [
    "import sys\n",
    "import os\n",
    "\n",
    "try:\n",
    "    sys.path.append(os.path.join(os.path.dirname(__file__), '../'))\n",
    "except:\n",
    "    sys.path.append(os.path.join(os.getcwd(), '../'))\n",
    "    \n",
    "import re\n",
    "\n",
    "import pandas as pd\n",
    "from src import data, models\n",
    "\n",
    "from scipy.stats import chi2_contingency\n",
    "from scipy.stats import chi2, ttest_ind"
   ]
  },
  {
   "cell_type": "code",
   "execution_count": 2,
   "metadata": {},
   "outputs": [],
   "source": [
    "words = {}"
   ]
  },
  {
   "cell_type": "code",
   "execution_count": 3,
   "metadata": {},
   "outputs": [
    {
     "name": "stdout",
     "output_type": "stream",
     "text": [
      "no     0.636522\n",
      "yes    0.362604\n",
      "on     0.000437\n",
      "n      0.000437\n",
      "Name: category, dtype: float64\n",
      "4578 3662 457\n",
      "count    4578.000000\n",
      "mean       19.993884\n",
      "std        10.382859\n",
      "min         1.000000\n",
      "25%        12.000000\n",
      "50%        19.000000\n",
      "75%        25.000000\n",
      "max        67.000000\n",
      "Name: text_len, dtype: float64\n",
      "20268\n"
     ]
    }
   ],
   "source": [
    "df = pd.read_csv('../data/raw/Hate-speech-dataset/hate_speech.tsv', sep='\\t',header=None,usecols=[0,1])\n",
    "df = df.dropna()\n",
    "df.columns = ['text','category']\n",
    "\n",
    "print(df.category.value_counts(normalize=True))\n",
    "df['text_len'] = df.text.apply(lambda x: len(x.split()))\n",
    "print (df.shape[0], int(df.shape[0]*.8) ,int(df.shape[0]*.1) )\n",
    "print(df['text_len'].describe())\n",
    "num_words = len(set(\" \".join(df.text.values.tolist()).split()))\n",
    "words['hate_speech'] = set(\" \".join(df.text.values.tolist()).split())\n",
    "print(num_words)"
   ]
  },
  {
   "cell_type": "code",
   "execution_count": 4,
   "metadata": {},
   "outputs": [
    {
     "name": "stdout",
     "output_type": "stream",
     "text": [
      "CAG    0.3804\n",
      "OAG    0.3164\n",
      "NAG    0.3032\n",
      "Name: category, dtype: float64\n",
      "30000 24000 3000\n",
      "count    30000.000000\n",
      "mean        26.086167\n",
      "std         39.924125\n",
      "min          1.000000\n",
      "25%         11.000000\n",
      "50%         16.000000\n",
      "75%         28.000000\n",
      "max       1126.000000\n",
      "Name: text_len, dtype: float64\n",
      "103786\n"
     ]
    }
   ],
   "source": [
    "df = pd.read_csv('../data/processed/Aggression_dataset/train.txt', sep='\\t',header=None,usecols=[0,1])\n",
    "df = df.dropna()\n",
    "df.columns = ['text','category']\n",
    "\n",
    "df_ = pd.read_csv('../data/processed/Aggression_dataset/val.txt', sep='\\t',header=None,usecols=[0,1])\n",
    "df_ = df_.dropna()\n",
    "df_.columns = ['text','category']\n",
    "\n",
    "df = pd.concat([df,df_],axis=0)\n",
    "\n",
    "print(df.category.value_counts(normalize=True))\n",
    "df['text_len'] = df.text.apply(lambda x: len(x.split()))\n",
    "print (df.shape[0], int(df.shape[0]*.8) ,int(df.shape[0]*.1) )\n",
    "print(df['text_len'].describe())\n",
    "num_words = len(set(\" \".join(df.text.values.tolist()).split()))\n",
    "words['aggression'] = set(\" \".join(df.text.values.tolist()).split())\n",
    "print(num_words)"
   ]
  },
  {
   "cell_type": "code",
   "execution_count": 5,
   "metadata": {},
   "outputs": [
    {
     "name": "stdout",
     "output_type": "stream",
     "text": [
      "H    0.594512\n",
      "N    0.402100\n",
      "n    0.001694\n",
      "h    0.001355\n",
      "M    0.000339\n",
      "Name: category, dtype: float64\n",
      "2952 2361 295\n",
      "count    2952.000000\n",
      "mean       13.314363\n",
      "std         6.118182\n",
      "min         2.000000\n",
      "25%         8.000000\n",
      "50%        12.000000\n",
      "75%        18.000000\n",
      "max        32.000000\n",
      "Name: text_len, dtype: float64\n",
      "12152\n"
     ]
    }
   ],
   "source": [
    "df = pd.read_csv('../data/processed/humor-detection-corpus/data.txt', sep='\\t',header=None,usecols=[0,1])\n",
    "df = df.dropna()\n",
    "df.columns = ['text','category']\n",
    "\n",
    "print(df.category.value_counts(normalize=True))\n",
    "df['text_len'] = df.text.apply(lambda x: len(x.split()))\n",
    "print (df.shape[0], int(df.shape[0]*.8) ,int(df.shape[0]*.1) )\n",
    "print(df['text_len'].describe())\n",
    "num_words = len(set(\" \".join(df.text.values.tolist()).split()))\n",
    "words['humor'] = set(\" \".join(df.text.values.tolist()).split())\n",
    "print(num_words)"
   ]
  },
  {
   "cell_type": "code",
   "execution_count": 6,
   "metadata": {},
   "outputs": [
    {
     "name": "stdout",
     "output_type": "stream",
     "text": [
      "NO     0.904\n",
      "YES    0.096\n",
      "Name: category, dtype: float64\n",
      "5250 4200 525\n",
      "count    5250.000000\n",
      "mean       19.231810\n",
      "std         6.171285\n",
      "min         1.000000\n",
      "25%        15.000000\n",
      "50%        20.000000\n",
      "75%        24.000000\n",
      "max        33.000000\n",
      "Name: text_len, dtype: float64\n",
      "23813\n"
     ]
    }
   ],
   "source": [
    "df = pd.read_csv('../data/processed/SarcasmDetection_CodeMixed/data.txt', sep='\\t',header=None,usecols=[0,1])\n",
    "df = df.dropna()\n",
    "df.columns = ['text','category']\n",
    "\n",
    "print(df.category.value_counts(normalize=True))\n",
    "df['text_len'] = df.text.apply(lambda x: len(x.split()))\n",
    "print (df.shape[0], int(df.shape[0]*.8) ,int(df.shape[0]*.1) )\n",
    "print(df['text_len'].describe())\n",
    "num_words = len(set(\" \".join(df.text.values.tolist()).split()))\n",
    "words['sarcasm'] = set(\" \".join(df.text.values.tolist()).split())\n",
    "print(num_words)"
   ]
  },
  {
   "cell_type": "code",
   "execution_count": 7,
   "metadata": {},
   "outputs": [
    {
     "name": "stdout",
     "output_type": "stream",
     "text": [
      "NONE       0.545557\n",
      "FAVOR      0.271932\n",
      "AGAINST    0.182511\n",
      "Name: category, dtype: float64\n",
      "3545 2836 354\n",
      "count    3545.000000\n",
      "mean       18.539915\n",
      "std         6.018515\n",
      "min         2.000000\n",
      "25%        14.000000\n",
      "50%        19.000000\n",
      "75%        23.000000\n",
      "max        32.000000\n",
      "Name: text_len, dtype: float64\n",
      "15390\n"
     ]
    }
   ],
   "source": [
    "df = pd.read_csv('../data/processed/StanceDetection_CodeMixed/data.txt', sep='\\t',header=None,usecols=[0,1])\n",
    "df = df.dropna()\n",
    "df.columns = ['text','category']\n",
    "\n",
    "print(df.category.value_counts(normalize=True))\n",
    "df['text_len'] = df.text.apply(lambda x: len(x.split()))\n",
    "print (df.shape[0], int(df.shape[0]*.8) ,int(df.shape[0]*.1) )\n",
    "print(df['text_len'].describe())\n",
    "num_words = len(set(\" \".join(df.text.values.tolist()).split()))\n",
    "words['stance'] = set(\" \".join(df.text.values.tolist()).split())\n",
    "print(num_words)"
   ]
  },
  {
   "cell_type": "code",
   "execution_count": 8,
   "metadata": {},
   "outputs": [
    {
     "name": "stdout",
     "output_type": "stream",
     "text": [
      "hate_speech aggression 0.4957568581014407\n",
      "hate_speech humor 0.1923228734951648\n",
      "hate_speech sarcasm 0.3406354845075982\n",
      "hate_speech stance 0.23554371422932702\n",
      "aggression hate_speech 0.09681459927157805\n",
      "aggression humor 0.05669358102248858\n",
      "aggression sarcasm 0.09896325130557108\n",
      "aggression stance 0.06852562002582237\n",
      "humor hate_speech 0.3207702435813035\n",
      "humor aggression 0.48420013166556947\n",
      "humor sarcasm 0.36043449637919683\n",
      "humor stance 0.2564186965108624\n",
      "sarcasm hate_speech 0.2899256708520556\n",
      "sarcasm aggression 0.4313190274219964\n",
      "sarcasm humor 0.18393314576071892\n",
      "sarcasm stance 0.21660437576113886\n",
      "stance hate_speech 0.3102014294996751\n",
      "stance aggression 0.4621182586094867\n",
      "stance humor 0.20246913580246914\n",
      "stance sarcasm 0.33515269655620533\n"
     ]
    }
   ],
   "source": [
    "for key1, val1 in words.items():\n",
    "    for key2, val2 in words.items():\n",
    "        if key1 != key2:\n",
    "            print (key1, key2, len(val1.intersection(val2))*1.0/len(val1))"
   ]
  },
  {
   "cell_type": "code",
   "execution_count": 9,
   "metadata": {},
   "outputs": [],
   "source": [
    "def calculate_lift(df,col1='category',col2='category_predicted_model2'):\n",
    "    for val1 in df[col1].unique():\n",
    "        for val2 in df[col2].unique():\n",
    "            support = df[(df[col1] == val1) & (df[col2] == val2)].shape[0]/df.shape[0]\n",
    "            confidence = support*df.shape[0]/df[df[col2] == val2].shape[0]\n",
    "            lift = confidence*df.shape[0]/df[df[col1] == val1].shape[0]\n",
    "            \n",
    "            print (\"Lift of {} => {} is {}\".format(val1,val2,lift))"
   ]
  },
  {
   "cell_type": "code",
   "execution_count": 10,
   "metadata": {},
   "outputs": [],
   "source": [
    "hate_test = pd.read_csv('../models/hate_detection/full_test.csv',sep='\\t')"
   ]
  },
  {
   "cell_type": "code",
   "execution_count": 11,
   "metadata": {},
   "outputs": [
    {
     "data": {
      "text/html": [
       "<div>\n",
       "<style scoped>\n",
       "    .dataframe tbody tr th:only-of-type {\n",
       "        vertical-align: middle;\n",
       "    }\n",
       "\n",
       "    .dataframe tbody tr th {\n",
       "        vertical-align: top;\n",
       "    }\n",
       "\n",
       "    .dataframe thead th {\n",
       "        text-align: right;\n",
       "    }\n",
       "</style>\n",
       "<table border=\"1\" class=\"dataframe\">\n",
       "  <thead>\n",
       "    <tr style=\"text-align: right;\">\n",
       "      <th></th>\n",
       "      <th>text</th>\n",
       "      <th>category</th>\n",
       "      <th>type</th>\n",
       "      <th>category_predicted_model1</th>\n",
       "      <th>category_prob_model1</th>\n",
       "      <th>category_predicted_model2</th>\n",
       "      <th>category_prob_model2</th>\n",
       "    </tr>\n",
       "  </thead>\n",
       "  <tbody>\n",
       "    <tr>\n",
       "      <th>0</th>\n",
       "      <td>doctor  sab sahi me ke phd (in hate politics) ...</td>\n",
       "      <td>no</td>\n",
       "      <td>hate</td>\n",
       "      <td>no</td>\n",
       "      <td>1.000000</td>\n",
       "      <td>no</td>\n",
       "      <td>0.999984</td>\n",
       "    </tr>\n",
       "    <tr>\n",
       "      <th>1</th>\n",
       "      <td>poore desh me patel obc me aate hain sirf gujr...</td>\n",
       "      <td>no</td>\n",
       "      <td>hate</td>\n",
       "      <td>no</td>\n",
       "      <td>0.999994</td>\n",
       "      <td>no</td>\n",
       "      <td>0.993172</td>\n",
       "    </tr>\n",
       "    <tr>\n",
       "      <th>2</th>\n",
       "      <td>hate it jab test ata ho phr bh acha na ho -.-</td>\n",
       "      <td>yes</td>\n",
       "      <td>hate</td>\n",
       "      <td>yes</td>\n",
       "      <td>0.999999</td>\n",
       "      <td>yes</td>\n",
       "      <td>0.998417</td>\n",
       "    </tr>\n",
       "    <tr>\n",
       "      <th>3</th>\n",
       "      <td>ek dil ek jaan akal ke imitihaan kal kp ke rap...</td>\n",
       "      <td>no</td>\n",
       "      <td>hate</td>\n",
       "      <td>no</td>\n",
       "      <td>0.999999</td>\n",
       "      <td>no</td>\n",
       "      <td>0.915283</td>\n",
       "    </tr>\n",
       "    <tr>\n",
       "      <th>4</th>\n",
       "      <td>aise logo se sakht nafrat karta hu jo caste ko...</td>\n",
       "      <td>yes</td>\n",
       "      <td>hate</td>\n",
       "      <td>yes</td>\n",
       "      <td>1.000000</td>\n",
       "      <td>yes</td>\n",
       "      <td>0.999865</td>\n",
       "    </tr>\n",
       "  </tbody>\n",
       "</table>\n",
       "</div>"
      ],
      "text/plain": [
       "                                                text category  type  \\\n",
       "0  doctor  sab sahi me ke phd (in hate politics) ...       no  hate   \n",
       "1  poore desh me patel obc me aate hain sirf gujr...       no  hate   \n",
       "2      hate it jab test ata ho phr bh acha na ho -.-      yes  hate   \n",
       "3  ek dil ek jaan akal ke imitihaan kal kp ke rap...       no  hate   \n",
       "4  aise logo se sakht nafrat karta hu jo caste ko...      yes  hate   \n",
       "\n",
       "  category_predicted_model1  category_prob_model1 category_predicted_model2  \\\n",
       "0                        no              1.000000                        no   \n",
       "1                        no              0.999994                        no   \n",
       "2                       yes              0.999999                       yes   \n",
       "3                        no              0.999999                        no   \n",
       "4                       yes              1.000000                       yes   \n",
       "\n",
       "   category_prob_model2  \n",
       "0              0.999984  \n",
       "1              0.993172  \n",
       "2              0.998417  \n",
       "3              0.915283  \n",
       "4              0.999865  "
      ]
     },
     "execution_count": 11,
     "metadata": {},
     "output_type": "execute_result"
    }
   ],
   "source": [
    "hate_test.head()"
   ]
  },
  {
   "cell_type": "code",
   "execution_count": 12,
   "metadata": {},
   "outputs": [
    {
     "name": "stdout",
     "output_type": "stream",
     "text": [
      "3.252024298636947e-07\n"
     ]
    }
   ],
   "source": [
    "_, p, _, _ = chi2_contingency(pd.crosstab(hate_test[hate_test['type'] == 'aggression']['category'],\\\n",
    "            hate_test[hate_test['type'] == 'aggression']['category_predicted_model2']).values)\n",
    "\n",
    "print (p)"
   ]
  },
  {
   "cell_type": "code",
   "execution_count": 13,
   "metadata": {},
   "outputs": [
    {
     "data": {
      "text/plain": [
       "category  category_predicted_model2\n",
       "CAG       no                           0.884984\n",
       "          yes                          0.115016\n",
       "NAG       no                           0.946333\n",
       "          yes                          0.053667\n",
       "OAG       no                           0.857023\n",
       "          yes                          0.142977\n",
       "Name: category_predicted_model2, dtype: float64"
      ]
     },
     "execution_count": 13,
     "metadata": {},
     "output_type": "execute_result"
    }
   ],
   "source": [
    "hate_test[hate_test['type'] == 'aggression'].groupby(['category'])['category_predicted_model2'].value_counts(normalize=True)"
   ]
  },
  {
   "cell_type": "code",
   "execution_count": 14,
   "metadata": {},
   "outputs": [
    {
     "name": "stdout",
     "output_type": "stream",
     "text": [
      "Lift of OAG => yes is 1.2468949869931738\n",
      "Lift of OAG => no is 0.9680226372267876\n",
      "Lift of CAG => yes is 1.0030462887287317\n",
      "Lift of CAG => no is 0.9996054505562185\n",
      "Lift of NAG => yes is 0.4680284561301328\n",
      "Lift of NAG => no is 1.0688999288747116\n"
     ]
    }
   ],
   "source": [
    "calculate_lift(hate_test[hate_test['type'] == 'aggression'])"
   ]
  },
  {
   "cell_type": "code",
   "execution_count": 15,
   "metadata": {},
   "outputs": [
    {
     "name": "stdout",
     "output_type": "stream",
     "text": [
      "0.9380758044926549\n"
     ]
    }
   ],
   "source": [
    "_, p, _, _ = chi2_contingency(pd.crosstab(hate_test[hate_test['type'] == 'humor']['category'],\\\n",
    "            hate_test[hate_test['type'] == 'humor']['category_predicted_model2']).values)\n",
    "\n",
    "print (p)"
   ]
  },
  {
   "cell_type": "code",
   "execution_count": 16,
   "metadata": {},
   "outputs": [
    {
     "data": {
      "text/plain": [
       "category  category_predicted_model2\n",
       "H         no                           0.926136\n",
       "          yes                          0.073864\n",
       "N         no                           0.916667\n",
       "          yes                          0.083333\n",
       "Name: category_predicted_model2, dtype: float64"
      ]
     },
     "execution_count": 16,
     "metadata": {},
     "output_type": "execute_result"
    }
   ],
   "source": [
    "hate_test[hate_test['type'] == 'humor'].groupby(['category'])['category_predicted_model2'].value_counts(normalize=True)"
   ]
  },
  {
   "cell_type": "code",
   "execution_count": 17,
   "metadata": {},
   "outputs": [
    {
     "name": "stdout",
     "output_type": "stream",
     "text": [
      "Lift of H => no is 1.0041625041625042\n",
      "Lift of H => yes is 0.950592885375494\n",
      "Lift of N => no is 0.9938949938949939\n",
      "Lift of N => yes is 1.072463768115942\n"
     ]
    }
   ],
   "source": [
    "calculate_lift(hate_test[hate_test['type'] == 'humor'])"
   ]
  },
  {
   "cell_type": "code",
   "execution_count": 18,
   "metadata": {},
   "outputs": [
    {
     "name": "stdout",
     "output_type": "stream",
     "text": [
      "0.6874626944218479\n"
     ]
    }
   ],
   "source": [
    "_, p, _, _ = chi2_contingency(pd.crosstab(hate_test[hate_test['type'] == 'sarcasm']['category'],\\\n",
    "            hate_test[hate_test['type'] == 'sarcasm']['category_predicted_model2']).values)\n",
    "\n",
    "print (p)"
   ]
  },
  {
   "cell_type": "code",
   "execution_count": 19,
   "metadata": {},
   "outputs": [
    {
     "data": {
      "text/plain": [
       "category  category_predicted_model2\n",
       "NO        no                           0.888412\n",
       "          yes                          0.111588\n",
       "YES       no                           0.915254\n",
       "          yes                          0.084746\n",
       "Name: category_predicted_model2, dtype: float64"
      ]
     },
     "execution_count": 19,
     "metadata": {},
     "output_type": "execute_result"
    }
   ],
   "source": [
    "hate_test[hate_test['type'] == 'sarcasm'].groupby(['category'])['category_predicted_model2'].value_counts(normalize=True)"
   ]
  },
  {
   "cell_type": "code",
   "execution_count": 20,
   "metadata": {},
   "outputs": [
    {
     "name": "stdout",
     "output_type": "stream",
     "text": [
      "Lift of NO => no is 0.9966160448993067\n",
      "Lift of NO => yes is 1.0277840524056923\n",
      "Lift of YES => no is 1.0267275097783573\n",
      "Lift of YES => yes is 0.7805530776092775\n"
     ]
    }
   ],
   "source": [
    "calculate_lift(hate_test[hate_test['type'] == 'sarcasm'])"
   ]
  },
  {
   "cell_type": "code",
   "execution_count": 21,
   "metadata": {},
   "outputs": [
    {
     "name": "stdout",
     "output_type": "stream",
     "text": [
      "0.6602731269338526\n"
     ]
    }
   ],
   "source": [
    "_, p, _, _ = chi2_contingency(pd.crosstab(hate_test[hate_test['type'] == 'stance']['category'],\\\n",
    "            hate_test[hate_test['type'] == 'stance']['category_predicted_model2']).values)\n",
    "\n",
    "print (p)"
   ]
  },
  {
   "cell_type": "code",
   "execution_count": 22,
   "metadata": {},
   "outputs": [
    {
     "data": {
      "text/plain": [
       "category  category_predicted_model2\n",
       "AGAINST   no                           0.882353\n",
       "          yes                          0.117647\n",
       "FAVOR     no                           0.877193\n",
       "          yes                          0.122807\n",
       "NONE      no                           0.908213\n",
       "          yes                          0.091787\n",
       "Name: category_predicted_model2, dtype: float64"
      ]
     },
     "execution_count": 22,
     "metadata": {},
     "output_type": "execute_result"
    }
   ],
   "source": [
    "hate_test[hate_test['type'] == 'stance'].groupby(['category'])['category_predicted_model2'].value_counts(normalize=True)"
   ]
  },
  {
   "cell_type": "code",
   "execution_count": 23,
   "metadata": {},
   "outputs": [
    {
     "name": "stdout",
     "output_type": "stream",
     "text": [
      "Lift of NONE => no is 1.0138850909974781\n",
      "Lift of NONE => yes is 0.8806632719676197\n",
      "Lift of FAVOR => no is 0.9792563168928611\n",
      "Lift of FAVOR => yes is 1.1782835467045993\n",
      "Lift of AGAINST => no is 0.9850166481687016\n",
      "Lift of AGAINST => yes is 1.1287758346581875\n"
     ]
    }
   ],
   "source": [
    "calculate_lift(hate_test[hate_test['type'] == 'stance'])"
   ]
  },
  {
   "cell_type": "code",
   "execution_count": 24,
   "metadata": {},
   "outputs": [],
   "source": [
    "aggression_test = pd.read_csv('../models/model_aggression/full_test.csv',sep='\\t')"
   ]
  },
  {
   "cell_type": "code",
   "execution_count": 25,
   "metadata": {},
   "outputs": [
    {
     "name": "stdout",
     "output_type": "stream",
     "text": [
      "0.6126646037670338\n"
     ]
    }
   ],
   "source": [
    "_, p, _, _ = chi2_contingency(pd.crosstab(aggression_test[aggression_test['type'] == 'hate']['category'],\\\n",
    "            aggression_test[aggression_test['type'] == 'hate']['category_predicted_model2']).values)\n",
    "\n",
    "print (p)"
   ]
  },
  {
   "cell_type": "code",
   "execution_count": 26,
   "metadata": {},
   "outputs": [
    {
     "data": {
      "text/plain": [
       "category  category_predicted_model2\n",
       "no        CAG                          0.459119\n",
       "          OAG                          0.430818\n",
       "          NAG                          0.110063\n",
       "yes       OAG                          0.471429\n",
       "          CAG                          0.442857\n",
       "          NAG                          0.085714\n",
       "Name: category_predicted_model2, dtype: float64"
      ]
     },
     "execution_count": 26,
     "metadata": {},
     "output_type": "execute_result"
    }
   ],
   "source": [
    "aggression_test[aggression_test['type'] == 'hate'].groupby(['category'])['category_predicted_model2'].value_counts(normalize=True)"
   ]
  },
  {
   "cell_type": "code",
   "execution_count": 27,
   "metadata": {},
   "outputs": [
    {
     "name": "stdout",
     "output_type": "stream",
     "text": [
      "Lift of no => OAG is 0.9719924404374631\n",
      "Lift of no => CAG is 1.0109458151910982\n",
      "Lift of no => NAG is 1.072527766626522\n",
      "Lift of yes => OAG is 1.0636171710063336\n",
      "Lift of yes => CAG is 0.9751373626373628\n",
      "Lift of yes => NAG is 0.8352583586626139\n"
     ]
    }
   ],
   "source": [
    "calculate_lift(aggression_test[aggression_test['type'] == 'hate'])"
   ]
  },
  {
   "cell_type": "code",
   "execution_count": 28,
   "metadata": {},
   "outputs": [
    {
     "name": "stdout",
     "output_type": "stream",
     "text": [
      "0.2087935901118099\n"
     ]
    }
   ],
   "source": [
    "_, p, _, _ = chi2_contingency(pd.crosstab(aggression_test[aggression_test['type'] == 'humor']['category'],\\\n",
    "            aggression_test[aggression_test['type'] == 'humor']['category_predicted_model2']).values)\n",
    "\n",
    "print (p)"
   ]
  },
  {
   "cell_type": "code",
   "execution_count": 29,
   "metadata": {},
   "outputs": [
    {
     "data": {
      "text/plain": [
       "category  category_predicted_model2\n",
       "H         CAG                          0.392045\n",
       "          OAG                          0.386364\n",
       "          NAG                          0.221591\n",
       "N         CAG                          0.425000\n",
       "          OAG                          0.291667\n",
       "          NAG                          0.283333\n",
       "Name: category_predicted_model2, dtype: float64"
      ]
     },
     "execution_count": 29,
     "metadata": {},
     "output_type": "execute_result"
    }
   ],
   "source": [
    "aggression_test[aggression_test['type'] == 'humor'].groupby(['category'])['category_predicted_model2'].value_counts(normalize=True)"
   ]
  },
  {
   "cell_type": "code",
   "execution_count": 30,
   "metadata": {},
   "outputs": [
    {
     "name": "stdout",
     "output_type": "stream",
     "text": [
      "Lift of H => OAG is 1.1103265666372464\n",
      "Lift of H => NAG is 0.8985056039850559\n",
      "Lift of H => CAG is 0.9670454545454544\n",
      "Lift of N => OAG is 0.8381877022653722\n",
      "Lift of N => NAG is 1.1488584474885846\n",
      "Lift of N => CAG is 1.0483333333333333\n"
     ]
    }
   ],
   "source": [
    "calculate_lift(aggression_test[aggression_test['type'] == 'humor'])"
   ]
  },
  {
   "cell_type": "code",
   "execution_count": 31,
   "metadata": {},
   "outputs": [
    {
     "name": "stdout",
     "output_type": "stream",
     "text": [
      "0.07273999330705425\n"
     ]
    }
   ],
   "source": [
    "_, p, _, _ = chi2_contingency(pd.crosstab(aggression_test[aggression_test['type'] == 'sarcasm']['category'],\\\n",
    "            aggression_test[aggression_test['type'] == 'sarcasm']['category_predicted_model2']).values)\n",
    "\n",
    "print (p)"
   ]
  },
  {
   "cell_type": "code",
   "execution_count": 32,
   "metadata": {},
   "outputs": [
    {
     "data": {
      "text/plain": [
       "category  category_predicted_model2\n",
       "NO        CAG                          0.532189\n",
       "          OAG                          0.336910\n",
       "          NAG                          0.130901\n",
       "YES       CAG                          0.559322\n",
       "          NAG                          0.220339\n",
       "          OAG                          0.220339\n",
       "Name: category_predicted_model2, dtype: float64"
      ]
     },
     "execution_count": 32,
     "metadata": {},
     "output_type": "execute_result"
    }
   ],
   "source": [
    "aggression_test[aggression_test['type'] == 'sarcasm'].groupby(['category'])['category_predicted_model2'].value_counts(normalize=True)"
   ]
  },
  {
   "cell_type": "code",
   "execution_count": 33,
   "metadata": {},
   "outputs": [
    {
     "name": "stdout",
     "output_type": "stream",
     "text": [
      "Lift of NO => CAG is 0.9943029951277627\n",
      "Lift of NO => OAG is 1.0404569553143146\n",
      "Lift of NO => NAG is 0.9286915671035842\n",
      "Lift of YES => CAG is 1.0449966825502142\n",
      "Lift of YES => OAG is 0.6804586241276172\n",
      "Lift of YES => NAG is 1.5632157581310127\n"
     ]
    }
   ],
   "source": [
    "calculate_lift(aggression_test[aggression_test['type'] == 'sarcasm'])"
   ]
  },
  {
   "cell_type": "code",
   "execution_count": 34,
   "metadata": {},
   "outputs": [
    {
     "name": "stdout",
     "output_type": "stream",
     "text": [
      "0.6717344758535984\n"
     ]
    }
   ],
   "source": [
    "_, p, _, _ = chi2_contingency(pd.crosstab(aggression_test[aggression_test['type'] == 'stance']['category'],\\\n",
    "            aggression_test[aggression_test['type'] == 'stance']['category_predicted_model2']).values)\n",
    "\n",
    "print (p)"
   ]
  },
  {
   "cell_type": "code",
   "execution_count": 35,
   "metadata": {},
   "outputs": [
    {
     "data": {
      "text/plain": [
       "category  category_predicted_model2\n",
       "AGAINST   CAG                          0.705882\n",
       "          OAG                          0.235294\n",
       "          NAG                          0.058824\n",
       "FAVOR     CAG                          0.631579\n",
       "          OAG                          0.280702\n",
       "          NAG                          0.087719\n",
       "NONE      CAG                          0.589372\n",
       "          OAG                          0.294686\n",
       "          NAG                          0.115942\n",
       "Name: category_predicted_model2, dtype: float64"
      ]
     },
     "execution_count": 35,
     "metadata": {},
     "output_type": "execute_result"
    }
   ],
   "source": [
    "aggression_test[aggression_test['type'] == 'stance'].groupby(['category'])['category_predicted_model2'].value_counts(normalize=True)"
   ]
  },
  {
   "cell_type": "code",
   "execution_count": 36,
   "metadata": {},
   "outputs": [
    {
     "name": "stdout",
     "output_type": "stream",
     "text": [
      "Lift of NONE => OAG is 1.0357774907925574\n",
      "Lift of NONE => CAG is 0.959757124495856\n",
      "Lift of NONE => NAG is 1.1433172302737518\n",
      "Lift of FAVOR => OAG is 0.9866249782873024\n",
      "Lift of FAVOR => CAG is 1.0284886528247223\n",
      "Lift of FAVOR => NAG is 0.865009746588694\n",
      "Lift of AGAINST => OAG is 0.8270238788584741\n",
      "Lift of AGAINST => CAG is 1.1494873178629248\n",
      "Lift of AGAINST => NAG is 0.5800653594771241\n"
     ]
    }
   ],
   "source": [
    "calculate_lift(aggression_test[aggression_test['type'] == 'stance'])"
   ]
  },
  {
   "cell_type": "code",
   "execution_count": 37,
   "metadata": {},
   "outputs": [],
   "source": [
    "humor_test = pd.read_csv('../models/humor_detection/full_test.csv',sep='\\t')"
   ]
  },
  {
   "cell_type": "code",
   "execution_count": 38,
   "metadata": {},
   "outputs": [
    {
     "name": "stdout",
     "output_type": "stream",
     "text": [
      "0.9977765902751704\n"
     ]
    }
   ],
   "source": [
    "_, p, _, _ = chi2_contingency(pd.crosstab(humor_test[humor_test['type'] == 'hate']['category'],\\\n",
    "            humor_test[humor_test['type'] == 'hate']['category_predicted_model2']).values)\n",
    "\n",
    "print (p)"
   ]
  },
  {
   "cell_type": "code",
   "execution_count": 39,
   "metadata": {},
   "outputs": [
    {
     "data": {
      "text/plain": [
       "category  category_predicted_model2\n",
       "no        H                            0.805031\n",
       "          N                            0.194969\n",
       "yes       H                            0.800000\n",
       "          N                            0.200000\n",
       "Name: category_predicted_model2, dtype: float64"
      ]
     },
     "execution_count": 39,
     "metadata": {},
     "output_type": "execute_result"
    }
   ],
   "source": [
    "humor_test[humor_test['type'] == 'hate'].groupby(['category'])['category_predicted_model2'].value_counts(normalize=True)"
   ]
  },
  {
   "cell_type": "code",
   "execution_count": 40,
   "metadata": {},
   "outputs": [
    {
     "name": "stdout",
     "output_type": "stream",
     "text": [
      "Lift of no => N is 0.9921733053808528\n",
      "Lift of no => H is 1.001914137270987\n",
      "Lift of yes => N is 1.0177777777777777\n",
      "Lift of yes => H is 0.9956521739130435\n"
     ]
    }
   ],
   "source": [
    "calculate_lift(humor_test[humor_test['type'] == 'hate'])"
   ]
  },
  {
   "cell_type": "code",
   "execution_count": 41,
   "metadata": {},
   "outputs": [
    {
     "name": "stdout",
     "output_type": "stream",
     "text": [
      "0.6536227360236224\n"
     ]
    }
   ],
   "source": [
    "_, p, _, _ = chi2_contingency(pd.crosstab(humor_test[humor_test['type'] == 'sarcasm']['category'],\\\n",
    "            humor_test[humor_test['type'] == 'sarcasm']['category_predicted_model2']).values)\n",
    "\n",
    "print (p)"
   ]
  },
  {
   "cell_type": "code",
   "execution_count": 42,
   "metadata": {},
   "outputs": [
    {
     "data": {
      "text/plain": [
       "category  category_predicted_model2\n",
       "NO        H                            0.781116\n",
       "          N                            0.218884\n",
       "YES       H                            0.745763\n",
       "          N                            0.254237\n",
       "Name: category_predicted_model2, dtype: float64"
      ]
     },
     "execution_count": 42,
     "metadata": {},
     "output_type": "execute_result"
    }
   ],
   "source": [
    "humor_test[humor_test['type'] == 'sarcasm'].groupby(['category'])['category_predicted_model2'].value_counts(normalize=True)"
   ]
  },
  {
   "cell_type": "code",
   "execution_count": 43,
   "metadata": {},
   "outputs": [
    {
     "name": "stdout",
     "output_type": "stream",
     "text": [
      "Lift of NO => N is 0.9821723341036646\n",
      "Lift of NO => H is 1.0051123453673316\n",
      "Lift of YES => N is 1.1408083441981747\n",
      "Lift of YES => H is 0.9596211365902293\n"
     ]
    }
   ],
   "source": [
    "calculate_lift(humor_test[humor_test['type'] == 'sarcasm'])"
   ]
  },
  {
   "cell_type": "code",
   "execution_count": 44,
   "metadata": {},
   "outputs": [
    {
     "name": "stdout",
     "output_type": "stream",
     "text": [
      "9.44501359285401e-16\n"
     ]
    }
   ],
   "source": [
    "_, p, _, _ = chi2_contingency(pd.crosstab(humor_test[humor_test['type'] == 'aggression']['category'],\\\n",
    "            humor_test[humor_test['type'] == 'aggression']['category_predicted_model2']).values)\n",
    "\n",
    "print (p)"
   ]
  },
  {
   "cell_type": "code",
   "execution_count": 45,
   "metadata": {},
   "outputs": [
    {
     "data": {
      "text/plain": [
       "category  category_predicted_model2\n",
       "CAG       H                            0.542332\n",
       "          N                            0.457668\n",
       "NAG       N                            0.633274\n",
       "          H                            0.366726\n",
       "OAG       H                            0.574432\n",
       "          N                            0.425568\n",
       "Name: category_predicted_model2, dtype: float64"
      ]
     },
     "execution_count": 45,
     "metadata": {},
     "output_type": "execute_result"
    }
   ],
   "source": [
    "humor_test[humor_test['type'] == 'aggression'].groupby(['category'])['category_predicted_model2'].value_counts(normalize=True)"
   ]
  },
  {
   "cell_type": "code",
   "execution_count": 46,
   "metadata": {},
   "outputs": [
    {
     "name": "stdout",
     "output_type": "stream",
     "text": [
      "Lift of OAG => H is 1.0997427492924667\n",
      "Lift of OAG => N is 0.890930294388489\n",
      "Lift of CAG => H is 1.038287686733772\n",
      "Lift of CAG => N is 0.9581320271375987\n",
      "Lift of NAG => H is 0.7020924638650704\n",
      "Lift of NAG => N is 1.3257649051803453\n"
     ]
    }
   ],
   "source": [
    "calculate_lift(humor_test[humor_test['type'] == 'aggression'])"
   ]
  },
  {
   "cell_type": "code",
   "execution_count": 47,
   "metadata": {},
   "outputs": [
    {
     "name": "stdout",
     "output_type": "stream",
     "text": [
      "0.6332394645005726\n"
     ]
    }
   ],
   "source": [
    "_, p, _, _ = chi2_contingency(pd.crosstab(humor_test[humor_test['type'] == 'stance']['category'],\\\n",
    "            humor_test[humor_test['type'] == 'stance']['category_predicted_model2']).values)\n",
    "\n",
    "print (p)"
   ]
  },
  {
   "cell_type": "code",
   "execution_count": 48,
   "metadata": {},
   "outputs": [
    {
     "data": {
      "text/plain": [
       "category  category_predicted_model2\n",
       "AGAINST   H                            0.911765\n",
       "          N                            0.088235\n",
       "FAVOR     H                            0.859649\n",
       "          N                            0.140351\n",
       "NONE      H                            0.850242\n",
       "          N                            0.149758\n",
       "Name: category_predicted_model2, dtype: float64"
      ]
     },
     "execution_count": 48,
     "metadata": {},
     "output_type": "execute_result"
    }
   ],
   "source": [
    "humor_test[humor_test['type'] == 'stance'].groupby(['category'])['category_predicted_model2'].value_counts(normalize=True)"
   ]
  },
  {
   "cell_type": "code",
   "execution_count": 49,
   "metadata": {},
   "outputs": [
    {
     "name": "stdout",
     "output_type": "stream",
     "text": [
      "Lift of NONE => H is 0.9896254058762969\n",
      "Lift of NONE => N is 1.0632850241545893\n",
      "Lift of FAVOR => H is 1.0005752085130861\n",
      "Lift of FAVOR => N is 0.9964912280701755\n",
      "Lift of AGAINST => H is 1.0612343297974927\n",
      "Lift of AGAINST => N is 0.626470588235294\n"
     ]
    }
   ],
   "source": [
    "calculate_lift(humor_test[humor_test['type'] == 'stance'])"
   ]
  },
  {
   "cell_type": "code",
   "execution_count": 50,
   "metadata": {},
   "outputs": [],
   "source": [
    "sarcasm_test = pd.read_csv('../models/sarcasm_detection/full_test.csv',sep='\\t')"
   ]
  },
  {
   "cell_type": "code",
   "execution_count": 51,
   "metadata": {},
   "outputs": [
    {
     "name": "stdout",
     "output_type": "stream",
     "text": [
      "0.08465996464967636\n"
     ]
    }
   ],
   "source": [
    "_, p, _, _ = chi2_contingency(pd.crosstab(sarcasm_test[sarcasm_test['type'] == 'hate']['category'],\\\n",
    "            sarcasm_test[sarcasm_test['type'] == 'hate']['category_predicted_model2']).values)\n",
    "\n",
    "print (p)"
   ]
  },
  {
   "cell_type": "code",
   "execution_count": 52,
   "metadata": {},
   "outputs": [
    {
     "data": {
      "text/plain": [
       "category  category_predicted_model2\n",
       "no        NO                           0.528302\n",
       "          YES                          0.471698\n",
       "yes       YES                          0.564286\n",
       "          NO                           0.435714\n",
       "Name: category_predicted_model2, dtype: float64"
      ]
     },
     "execution_count": 52,
     "metadata": {},
     "output_type": "execute_result"
    }
   ],
   "source": [
    "sarcasm_test[sarcasm_test['type'] == 'hate'].groupby(['category'])['category_predicted_model2'].value_counts(normalize=True)"
   ]
  },
  {
   "cell_type": "code",
   "execution_count": 53,
   "metadata": {},
   "outputs": [
    {
     "name": "stdout",
     "output_type": "stream",
     "text": [
      "Lift of no => NO is 1.0566037735849056\n",
      "Lift of no => YES is 0.9433962264150944\n",
      "Lift of yes => NO is 0.8714285714285714\n",
      "Lift of yes => YES is 1.1285714285714286\n"
     ]
    }
   ],
   "source": [
    "calculate_lift(sarcasm_test[sarcasm_test['type'] == 'hate'])"
   ]
  },
  {
   "cell_type": "code",
   "execution_count": 54,
   "metadata": {},
   "outputs": [
    {
     "name": "stdout",
     "output_type": "stream",
     "text": [
      "0.1806861896596051\n"
     ]
    }
   ],
   "source": [
    "_, p, _, _ = chi2_contingency(pd.crosstab(sarcasm_test[sarcasm_test['type'] == 'humor']['category'],\\\n",
    "            sarcasm_test[sarcasm_test['type'] == 'humor']['category_predicted_model2']).values)\n",
    "\n",
    "print (p)"
   ]
  },
  {
   "cell_type": "code",
   "execution_count": 55,
   "metadata": {},
   "outputs": [
    {
     "data": {
      "text/plain": [
       "category  category_predicted_model2\n",
       "H         NO                           0.505682\n",
       "          YES                          0.494318\n",
       "N         NO                           0.591667\n",
       "          YES                          0.408333\n",
       "Name: category_predicted_model2, dtype: float64"
      ]
     },
     "execution_count": 55,
     "metadata": {},
     "output_type": "execute_result"
    }
   ],
   "source": [
    "sarcasm_test[sarcasm_test['type'] == 'humor'].groupby(['category'])['category_predicted_model2'].value_counts(normalize=True)"
   ]
  },
  {
   "cell_type": "code",
   "execution_count": 56,
   "metadata": {},
   "outputs": [
    {
     "name": "stdout",
     "output_type": "stream",
     "text": [
      "Lift of H => NO is 0.9355113636363637\n",
      "Lift of H => YES is 1.0758689839572193\n",
      "Lift of N => NO is 1.0945833333333332\n",
      "Lift of N => YES is 0.8887254901960784\n"
     ]
    }
   ],
   "source": [
    "calculate_lift(sarcasm_test[sarcasm_test['type'] == 'humor'])"
   ]
  },
  {
   "cell_type": "code",
   "execution_count": 57,
   "metadata": {},
   "outputs": [
    {
     "name": "stdout",
     "output_type": "stream",
     "text": [
      "3.540313521137108e-08\n"
     ]
    }
   ],
   "source": [
    "_, p, _, _ = chi2_contingency(pd.crosstab(sarcasm_test[sarcasm_test['type'] == 'aggression']['category'],\\\n",
    "            sarcasm_test[sarcasm_test['type'] == 'aggression']['category_predicted_model2']).values)\n",
    "\n",
    "print (p)"
   ]
  },
  {
   "cell_type": "code",
   "execution_count": 58,
   "metadata": {},
   "outputs": [
    {
     "data": {
      "text/plain": [
       "category  category_predicted_model2\n",
       "CAG       NO                           0.547125\n",
       "          YES                          0.452875\n",
       "NAG       NO                           0.681574\n",
       "          YES                          0.318426\n",
       "OAG       NO                           0.544155\n",
       "          YES                          0.455845\n",
       "Name: category_predicted_model2, dtype: float64"
      ]
     },
     "execution_count": 58,
     "metadata": {},
     "output_type": "execute_result"
    }
   ],
   "source": [
    "sarcasm_test[sarcasm_test['type'] == 'aggression'].groupby(['category'])['category_predicted_model2'].value_counts(normalize=True)"
   ]
  },
  {
   "cell_type": "code",
   "execution_count": 59,
   "metadata": {},
   "outputs": [
    {
     "name": "stdout",
     "output_type": "stream",
     "text": [
      "Lift of OAG => YES is 1.062576335915276\n",
      "Lift of OAG => NO is 0.9529855549778398\n",
      "Lift of CAG => YES is 1.0556536115641548\n",
      "Lift of CAG => NO is 0.9581866911365633\n",
      "Lift of NAG => YES is 0.7422511894783809\n",
      "Lift of NAG => NO is 1.1936501571169431\n"
     ]
    }
   ],
   "source": [
    "calculate_lift(sarcasm_test[sarcasm_test['type'] == 'aggression'])"
   ]
  },
  {
   "cell_type": "code",
   "execution_count": 60,
   "metadata": {},
   "outputs": [
    {
     "name": "stdout",
     "output_type": "stream",
     "text": [
      "0.024521396586768628\n"
     ]
    }
   ],
   "source": [
    "_, p, _, _ = chi2_contingency(pd.crosstab(sarcasm_test[sarcasm_test['type'] == 'stance']['category'],\\\n",
    "            sarcasm_test[sarcasm_test['type'] == 'stance']['category_predicted_model2']).values)\n",
    "\n",
    "print (p)"
   ]
  },
  {
   "cell_type": "code",
   "execution_count": 61,
   "metadata": {},
   "outputs": [
    {
     "data": {
      "text/plain": [
       "category  category_predicted_model2\n",
       "AGAINST   NO                           0.676471\n",
       "          YES                          0.323529\n",
       "FAVOR     YES                          0.587719\n",
       "          NO                           0.412281\n",
       "NONE      YES                          0.541063\n",
       "          NO                           0.458937\n",
       "Name: category_predicted_model2, dtype: float64"
      ]
     },
     "execution_count": 61,
     "metadata": {},
     "output_type": "execute_result"
    }
   ],
   "source": [
    "sarcasm_test[sarcasm_test['type'] == 'stance'].groupby(['category'])['category_predicted_model2'].value_counts(normalize=True)"
   ]
  },
  {
   "cell_type": "code",
   "execution_count": 62,
   "metadata": {},
   "outputs": [
    {
     "name": "stdout",
     "output_type": "stream",
     "text": [
      "Lift of NONE => NO is 0.9874103352364221\n",
      "Lift of NONE => YES is 1.010933129926265\n",
      "Lift of FAVOR => NO is 0.8870281765018607\n",
      "Lift of FAVOR => YES is 1.098107109879963\n",
      "Lift of AGAINST => NO is 1.4554367201426026\n",
      "Lift of AGAINST => YES is 0.6044891640866874\n"
     ]
    }
   ],
   "source": [
    "calculate_lift(sarcasm_test[sarcasm_test['type'] == 'stance'])"
   ]
  },
  {
   "cell_type": "code",
   "execution_count": 63,
   "metadata": {},
   "outputs": [],
   "source": [
    "stance_test = pd.read_csv('../models/stance_detection/full_test.csv',sep='\\t')"
   ]
  },
  {
   "cell_type": "code",
   "execution_count": 64,
   "metadata": {},
   "outputs": [
    {
     "name": "stdout",
     "output_type": "stream",
     "text": [
      "0.46118105240535157\n"
     ]
    }
   ],
   "source": [
    "_, p, _, _ = chi2_contingency(pd.crosstab(stance_test[stance_test['type'] == 'hate']['category'],\\\n",
    "            stance_test[stance_test['type'] == 'hate']['category_predicted_model2']).values)\n",
    "\n",
    "print (p)"
   ]
  },
  {
   "cell_type": "code",
   "execution_count": 65,
   "metadata": {},
   "outputs": [
    {
     "data": {
      "text/plain": [
       "category  category_predicted_model2\n",
       "no        NONE                         0.827044\n",
       "          FAVOR                        0.113208\n",
       "          AGAINST                      0.059748\n",
       "yes       NONE                         0.778571\n",
       "          FAVOR                        0.150000\n",
       "          AGAINST                      0.071429\n",
       "Name: category_predicted_model2, dtype: float64"
      ]
     },
     "execution_count": 65,
     "metadata": {},
     "output_type": "execute_result"
    }
   ],
   "source": [
    "stance_test[stance_test['type'] == 'hate'].groupby(['category'])['category_predicted_model2'].value_counts(normalize=True)\n"
   ]
  },
  {
   "cell_type": "code",
   "execution_count": 66,
   "metadata": {},
   "outputs": [
    {
     "name": "stdout",
     "output_type": "stream",
     "text": [
      "Lift of no => FAVOR is 0.9096325719960278\n",
      "Lift of no => NONE is 1.0182423750591736\n",
      "Lift of no => AGAINST is 0.943613099110822\n",
      "Lift of yes => FAVOR is 1.2052631578947368\n",
      "Lift of yes => NONE is 0.9585637480798772\n",
      "Lift of yes => AGAINST is 1.1280788177339902\n"
     ]
    }
   ],
   "source": [
    "calculate_lift(stance_test[stance_test['type'] == 'hate'])"
   ]
  },
  {
   "cell_type": "code",
   "execution_count": 67,
   "metadata": {},
   "outputs": [
    {
     "name": "stdout",
     "output_type": "stream",
     "text": [
      "0.6829030513528049\n"
     ]
    }
   ],
   "source": [
    "_, p, _, _ = chi2_contingency(pd.crosstab(stance_test[stance_test['type'] == 'humor']['category'],\\\n",
    "            stance_test[stance_test['type'] == 'humor']['category_predicted_model2']).values)\n",
    "\n",
    "print (p)"
   ]
  },
  {
   "cell_type": "code",
   "execution_count": 68,
   "metadata": {},
   "outputs": [
    {
     "data": {
      "text/plain": [
       "category  category_predicted_model2\n",
       "H         NONE                         0.835227\n",
       "          FAVOR                        0.090909\n",
       "          AGAINST                      0.073864\n",
       "N         NONE                         0.866667\n",
       "          FAVOR                        0.083333\n",
       "          AGAINST                      0.050000\n",
       "Name: category_predicted_model2, dtype: float64"
      ]
     },
     "execution_count": 68,
     "metadata": {},
     "output_type": "execute_result"
    }
   ],
   "source": [
    "stance_test[stance_test['type'] == 'humor'].groupby(['category'])['category_predicted_model2'].value_counts(normalize=True)\n"
   ]
  },
  {
   "cell_type": "code",
   "execution_count": 69,
   "metadata": {},
   "outputs": [
    {
     "name": "stdout",
     "output_type": "stream",
     "text": [
      "Lift of H => FAVOR is 1.034965034965035\n",
      "Lift of H => NONE is 0.9849692140528795\n",
      "Lift of H => AGAINST is 1.1507177033492824\n",
      "Lift of N => FAVOR is 0.9487179487179488\n",
      "Lift of N => NONE is 1.0220451527224437\n",
      "Lift of N => AGAINST is 0.7789473684210526\n"
     ]
    }
   ],
   "source": [
    "calculate_lift(stance_test[stance_test['type'] == 'humor'])"
   ]
  },
  {
   "cell_type": "code",
   "execution_count": 70,
   "metadata": {},
   "outputs": [
    {
     "name": "stdout",
     "output_type": "stream",
     "text": [
      "0.35492852734153824\n"
     ]
    }
   ],
   "source": [
    "_, p, _, _ = chi2_contingency(pd.crosstab(stance_test[stance_test['type'] == 'sarcasm']['category'],\\\n",
    "            stance_test[stance_test['type'] == 'sarcasm']['category_predicted_model2']).values)\n",
    "\n",
    "print (p)"
   ]
  },
  {
   "cell_type": "code",
   "execution_count": 71,
   "metadata": {},
   "outputs": [
    {
     "data": {
      "text/plain": [
       "category  category_predicted_model2\n",
       "NO        NONE                         0.821888\n",
       "          FAVOR                        0.100858\n",
       "          AGAINST                      0.077253\n",
       "YES       NONE                         0.745763\n",
       "          FAVOR                        0.135593\n",
       "          AGAINST                      0.118644\n",
       "Name: category_predicted_model2, dtype: float64"
      ]
     },
     "execution_count": 71,
     "metadata": {},
     "output_type": "execute_result"
    }
   ],
   "source": [
    "stance_test[stance_test['type'] == 'sarcasm'].groupby(['category'])['category_predicted_model2'].value_counts(normalize=True)\n"
   ]
  },
  {
   "cell_type": "code",
   "execution_count": 72,
   "metadata": {},
   "outputs": [
    {
     "name": "stdout",
     "output_type": "stream",
     "text": [
      "Lift of NO => NONE is 1.0105185393653697\n",
      "Lift of NO => FAVOR is 0.9627389777604369\n",
      "Lift of NO => AGAINST is 0.9432079049805371\n",
      "Lift of YES => NONE is 0.9169213670464018\n",
      "Lift of YES => FAVOR is 1.2942989214175655\n",
      "Lift of YES => AGAINST is 1.4485612928655893\n"
     ]
    }
   ],
   "source": [
    "calculate_lift(stance_test[stance_test['type'] == 'sarcasm'])"
   ]
  },
  {
   "cell_type": "code",
   "execution_count": 73,
   "metadata": {},
   "outputs": [
    {
     "name": "stdout",
     "output_type": "stream",
     "text": [
      "0.10043337355376523\n"
     ]
    }
   ],
   "source": [
    "_, p, _, _ = chi2_contingency(pd.crosstab(stance_test[stance_test['type'] == 'aggression']['category'],\\\n",
    "            stance_test[stance_test['type'] == 'aggression']['category_predicted_model2']).values)\n",
    "\n",
    "print (p)"
   ]
  },
  {
   "cell_type": "code",
   "execution_count": 74,
   "metadata": {},
   "outputs": [
    {
     "data": {
      "text/plain": [
       "category  category_predicted_model2\n",
       "CAG       NONE                         0.823482\n",
       "          FAVOR                        0.120607\n",
       "          AGAINST                      0.055911\n",
       "NAG       NONE                         0.849732\n",
       "          FAVOR                        0.118068\n",
       "          AGAINST                      0.032200\n",
       "OAG       NONE                         0.806560\n",
       "          FAVOR                        0.139613\n",
       "          AGAINST                      0.053827\n",
       "Name: category_predicted_model2, dtype: float64"
      ]
     },
     "execution_count": 74,
     "metadata": {},
     "output_type": "execute_result"
    }
   ],
   "source": [
    "stance_test[stance_test['type'] == 'aggression'].groupby(['category'])['category_predicted_model2'].value_counts(normalize=True)\n"
   ]
  },
  {
   "cell_type": "code",
   "execution_count": 75,
   "metadata": {},
   "outputs": [
    {
     "name": "stdout",
     "output_type": "stream",
     "text": [
      "Lift of OAG => NONE is 0.981614768235533\n",
      "Lift of OAG => FAVOR is 1.0935753545885147\n",
      "Lift of OAG => AGAINST is 1.0623699703421716\n",
      "Lift of CAG => NONE is 1.002209851661277\n",
      "Lift of CAG => FAVOR is 0.9447025750965558\n",
      "Lift of CAG => AGAINST is 1.1034975617958636\n",
      "Lift of NAG => NONE is 1.034156182983958\n",
      "Lift of NAG => FAVOR is 0.9248144532618392\n",
      "Lift of NAG => AGAINST is 0.6355333772714433\n"
     ]
    }
   ],
   "source": [
    "calculate_lift(stance_test[stance_test['type'] == 'aggression'])"
   ]
  },
  {
   "cell_type": "markdown",
   "metadata": {},
   "source": [
    "### Top words"
   ]
  },
  {
   "cell_type": "code",
   "execution_count": 76,
   "metadata": {},
   "outputs": [],
   "source": [
    "words_hate = pd.read_csv('../models/hate_detection/word_weights.csv',sep='\\t')\n",
    "words_aggression = pd.read_csv('../models/model_aggression/word_weights.csv',sep='\\t')\n",
    "words_humor = pd.read_csv('../models/humor_detection/word_weights.csv',sep='\\t')\n",
    "words_sarcasm = pd.read_csv('../models/sarcasm_detection/word_weights.csv',sep='\\t')\n",
    "words_stance = pd.read_csv('../models/stance_detection/word_weights.csv',sep='\\t')"
   ]
  },
  {
   "cell_type": "code",
   "execution_count": 77,
   "metadata": {},
   "outputs": [],
   "source": [
    "words_hate = words_hate.dropna()\n",
    "words_hate.word = words_hate.word.apply(lambda x: re.sub('[^a-zA-Z0-9]',' ',x).strip())\n",
    "words_hate = words_hate[words_hate.word != '']\n",
    "#words_hate.groupby(['word'])['hate_yes'].var().fillna(0).sort_values(ascending=[False])\n",
    "#print (words_hate.groupby(['word'])['Hate_yes'].var().fillna(0).describe())\n",
    "#words_hate = words_hate.groupby(['word'])['Hate_yes'].mean().reset_index(drop=False)"
   ]
  },
  {
   "cell_type": "code",
   "execution_count": 78,
   "metadata": {},
   "outputs": [],
   "source": [
    "words_sarcasm = words_sarcasm.dropna()\n",
    "words_sarcasm.word = words_sarcasm.word.apply(lambda x: re.sub('[^a-zA-Z0-9]',' ',x).strip())\n",
    "words_sarcasm = words_sarcasm[words_sarcasm.word != '']\n",
    "#words_sarcasm.groupby(['word'])['Sarcasm_yes'].var().fillna(0).sort_values(ascending=[False])\n",
    "#print (words_sarcasm.groupby(['word'])['Sarcasm_yes'].var().fillna(0).describe())\n",
    "#words_sarcasm = words_sarcasm.groupby(['word'])['Sarcasm_yes'].mean().reset_index(drop=False)"
   ]
  },
  {
   "cell_type": "code",
   "execution_count": 79,
   "metadata": {},
   "outputs": [],
   "source": [
    "words_humor = words_humor.dropna()\n",
    "words_humor.word = words_humor.word.apply(lambda x: re.sub('[^a-zA-Z0-9]',' ',x).strip())\n",
    "words_humor = words_humor[words_humor.word != '']\n",
    "#words_sarcasm.groupby(['word'])['Sarcasm_yes'].var().fillna(0).sort_values(ascending=[False])\n",
    "#print (words_humor.groupby(['word'])['Humor_yes'].var().fillna(0).describe())\n",
    "#words_humor = words_humor.groupby(['word'])['Humor_yes'].mean().reset_index(drop=False)"
   ]
  },
  {
   "cell_type": "code",
   "execution_count": 80,
   "metadata": {},
   "outputs": [],
   "source": [
    "words_aggression = words_aggression.dropna()\n",
    "words_aggression.word = words_aggression.word.apply(lambda x: re.sub('[^a-zA-Z0-9]',' ',x).strip())\n",
    "words_aggression = words_aggression[words_aggression.word != '']\n",
    "#words_sarcasm.groupby(['word'])['Sarcasm_yes'].var().fillna(0).sort_values(ascending=[False])\n",
    "#print (words_aggression.groupby(['word'])['OAG'].var().fillna(0).describe())\n",
    "#print (words_aggression.groupby(['word'])['CAG'].var().fillna(0).describe())\n",
    "#words_aggression = words_aggression.groupby(['word'])['OAG','CAG'].mean().reset_index(drop=False)"
   ]
  },
  {
   "cell_type": "code",
   "execution_count": 81,
   "metadata": {},
   "outputs": [],
   "source": [
    "words_stance = words_stance.dropna()\n",
    "words_stance.word = words_stance.word.apply(lambda x: re.sub('[^a-zA-Z0-9]',' ',x).strip())\n",
    "words_stance = words_stance[words_stance.word != '']\n",
    "#words_sarcasm.groupby(['word'])['Sarcasm_yes'].var().fillna(0).sort_values(ascending=[False])\n",
    "#print (words_stance.groupby(['word'])['Stance_against'].var().fillna(0).describe())\n",
    "#print (words_stance.groupby(['word'])['Stance_favor'].var().fillna(0).describe())\n",
    "#words_stance = words_stance.groupby(['word'])['Stance_against','Stance_favor'].mean().reset_index(drop=False)"
   ]
  },
  {
   "cell_type": "code",
   "execution_count": 82,
   "metadata": {},
   "outputs": [],
   "source": [
    "import seaborn as sns\n",
    "import matplotlib.pyplot as plt\n",
    "import numpy as np"
   ]
  },
  {
   "cell_type": "code",
   "execution_count": 83,
   "metadata": {},
   "outputs": [],
   "source": [
    "var_tables = pd.DataFrame()\n",
    "\n",
    "temp = pd.DataFrame(words_hate.groupby(['word'])['Hate_yes'].var().dropna().reset_index(drop=True))\n",
    "temp.columns = ['var']\n",
    "temp['Label'] = \"Hate\"\n",
    "\n",
    "var_tables = pd.concat([var_tables, temp], axis=0)\n",
    "\n",
    "temp = pd.DataFrame(words_sarcasm.groupby(['word'])['Sarcasm_yes'].var().dropna().reset_index(drop=True))\n",
    "temp.columns = ['var']\n",
    "temp['Label'] = \"Sarcasm\"\n",
    "\n",
    "var_tables = pd.concat([var_tables, temp], axis=0)\n",
    "\n",
    "temp = pd.DataFrame(words_humor.groupby(['word'])['Humor_yes'].var().dropna().reset_index(drop=True))\n",
    "temp.columns = ['var']\n",
    "temp['Label'] = \"Humor\"\n",
    "\n",
    "var_tables = pd.concat([var_tables, temp], axis=0)\n",
    "\n",
    "temp = pd.DataFrame(words_aggression.groupby(['word'])['OAG'].var().dropna().reset_index(drop=True))\n",
    "temp.columns = ['var']\n",
    "temp['Label'] = \"Aggression OAG\"\n",
    "\n",
    "var_tables = pd.concat([var_tables, temp], axis=0)\n",
    "\n",
    "temp = pd.DataFrame(words_aggression.groupby(['word'])['CAG'].var().dropna().reset_index(drop=True))\n",
    "temp.columns = ['var']\n",
    "temp['Label'] = \"Aggression CAG\"\n",
    "\n",
    "var_tables = pd.concat([var_tables, temp], axis=0)\n",
    "\n",
    "temp = pd.DataFrame(words_stance.groupby(['word'])['Stance_against'].var().dropna().reset_index(drop=True))\n",
    "temp.columns = ['var']\n",
    "temp['Label'] = \"Stance Against\"\n",
    "\n",
    "var_tables = pd.concat([var_tables, temp], axis=0)\n",
    "\n",
    "temp = pd.DataFrame(words_stance.groupby(['word'])['Stance_favor'].var().dropna().reset_index(drop=True))\n",
    "temp.columns = ['var']\n",
    "temp['Label'] = \"Stance Favor\"\n",
    "\n",
    "var_tables = pd.concat([var_tables, temp], axis=0)"
   ]
  },
  {
   "cell_type": "code",
   "execution_count": 86,
   "metadata": {},
   "outputs": [
    {
     "data": {
      "image/png": "[encoded data removed]",
      "text/plain": [
       "<Figure size 864x576 with 1 Axes>"
      ]
     },
     "metadata": {
      "needs_background": "light"
     },
     "output_type": "display_data"
    }
   ],
   "source": [
    "plt.figure(figsize=(12,8))\n",
    "sns.boxplot(x=\"Label\",y='var',data=var_tables)\n",
    "plt.xticks(rotation=45)\n",
    "plt.xlabel(\"Label\")\n",
    "plt.ylabel(\"Variance\")\n",
    "\n",
    "fontdict = {'fontsize': 30}\n",
    "\n",
    "SMALL_SIZE = 30\n",
    "MEDIUM_SIZE = 30\n",
    "BIGGER_SIZE = 30\n",
    "\n",
    "#plt.show()\n",
    "plt.rcParams[\"font.family\"] = 'sans-serif' #\"Times New Roman\"\n",
    "plt.rcParams[\"font.size\"] = \"25\"\n",
    "\n",
    "\n",
    "#plt.rc('font', size=SMALL_SIZE)          # controls default text sizes\n",
    "plt.rc('axes', titlesize=SMALL_SIZE)     # fontsize of the axes title\n",
    "plt.rc('axes', labelsize=MEDIUM_SIZE)    # fontsize of the x and y labels\n",
    "plt.rc('xtick', labelsize=SMALL_SIZE)    # fontsize of the tick labels\n",
    "plt.rc('ytick', labelsize=SMALL_SIZE)    # fontsize of the tick labels\n",
    "plt.rc('legend', fontsize=SMALL_SIZE)    # legend fontsize\n",
    "plt.rc('figure', titlesize=BIGGER_SIZE)  # fontsize of the figure title\n",
    "    \n",
    "plt.savefig('../plots/word_variances.pdf',dpi=200)\n",
    "plt.show()"
   ]
  },
  {
   "cell_type": "code",
   "execution_count": 87,
   "metadata": {},
   "outputs": [
    {
     "data": {
      "image/png": "[encoded data removed]",
      "text/plain": [
       "<Figure size 864x576 with 1 Axes>"
      ]
     },
     "metadata": {
      "needs_background": "light"
     },
     "output_type": "display_data"
    }
   ],
   "source": [
    "plt.figure(figsize=(12,8))\n",
    "sns.distplot(words_hate.groupby(['word'])['Hate_yes'].var(), hist=False, rug=False, label='Hate')\n",
    "sns.distplot(words_sarcasm.groupby(['word'])['Sarcasm_yes'].var(), hist=False, rug=False, label='Sarcasm')\n",
    "sns.distplot(words_humor.groupby(['word'])['Humor_yes'].var(), hist=False, rug=False, label='Humor')\n",
    "sns.distplot(words_aggression.groupby(['word'])['OAG'].var(), hist=False, rug=False, label='Aggression OAG')\n",
    "sns.distplot(words_aggression.groupby(['word'])['CAG'].var(), hist=False, rug=False, label='Aggression CAG')\n",
    "sns.distplot(words_stance.groupby(['word'])['Stance_against'].var(), hist=False, rug=False, label='Stance Against')\n",
    "sns.distplot(words_stance.groupby(['word'])['Stance_favor'].var(), hist=False, rug=False, label='Stance Favor')\n",
    "\n",
    "fontdict = {'fontsize': 30}\n",
    "\n",
    "SMALL_SIZE = 30\n",
    "MEDIUM_SIZE = 30\n",
    "BIGGER_SIZE = 30\n",
    "\n",
    "#plt.show()\n",
    "plt.rcParams[\"font.family\"] = 'sans-serif' #\"Times New Roman\"\n",
    "plt.rcParams[\"font.size\"] = \"25\"\n",
    "\n",
    "\n",
    "#plt.rc('font', size=SMALL_SIZE)          # controls default text sizes\n",
    "plt.rc('axes', titlesize=SMALL_SIZE)     # fontsize of the axes title\n",
    "plt.rc('axes', labelsize=MEDIUM_SIZE)    # fontsize of the x and y labels\n",
    "plt.rc('xtick', labelsize=SMALL_SIZE)    # fontsize of the tick labels\n",
    "plt.rc('ytick', labelsize=SMALL_SIZE)    # fontsize of the tick labels\n",
    "plt.rc('legend', fontsize=SMALL_SIZE)    # legend fontsize\n",
    "plt.rc('figure', titlesize=BIGGER_SIZE)  # fontsize of the figure title\n",
    "\n",
    "plt.show()"
   ]
  },
  {
   "cell_type": "code",
   "execution_count": 88,
   "metadata": {},
   "outputs": [
    {
     "name": "stderr",
     "output_type": "stream",
     "text": [
      "/Users/victor/anaconda3/lib/python3.7/site-packages/ipykernel_launcher.py:4: FutureWarning: Indexing with multiple keys (implicitly converted to a tuple of keys) will be deprecated, use a list instead.\n",
      "  after removing the cwd from sys.path.\n",
      "/Users/victor/anaconda3/lib/python3.7/site-packages/ipykernel_launcher.py:5: FutureWarning: Indexing with multiple keys (implicitly converted to a tuple of keys) will be deprecated, use a list instead.\n",
      "  \"\"\"\n"
     ]
    }
   ],
   "source": [
    "words_hate = words_hate.groupby(['word'])['Hate_yes'].min().reset_index(drop=False)\n",
    "words_sarcasm = words_sarcasm.groupby(['word'])['Sarcasm_yes'].min().reset_index(drop=False)\n",
    "words_humor = words_humor.groupby(['word'])['Humor_yes'].min().reset_index(drop=False)\n",
    "words_aggression = words_aggression.groupby(['word'])['OAG','CAG'].min().reset_index(drop=False)\n",
    "words_stance = words_stance.groupby(['word'])['Stance_against','Stance_favor'].min().reset_index(drop=False)"
   ]
  },
  {
   "cell_type": "code",
   "execution_count": 89,
   "metadata": {},
   "outputs": [],
   "source": [
    "words = pd.merge(words_hate,words_aggression,how='outer')\n",
    "words = pd.merge(words_humor,words,how='outer')\n",
    "words = pd.merge(words_sarcasm,words,how='outer')\n",
    "words = pd.merge(words_stance,words,how='outer')"
   ]
  },
  {
   "cell_type": "code",
   "execution_count": 90,
   "metadata": {},
   "outputs": [],
   "source": [
    "words = words.dropna()\n",
    "#words.word = words.word.fillna('')\n",
    "#words = words.fillna(0)"
   ]
  },
  {
   "cell_type": "code",
   "execution_count": 91,
   "metadata": {},
   "outputs": [],
   "source": [
    "words.word = words.word.apply(lambda x: re.sub('[^a-zA-Z0-9]',' ',x).strip())"
   ]
  },
  {
   "cell_type": "code",
   "execution_count": 92,
   "metadata": {},
   "outputs": [],
   "source": [
    "words = words[words.word != '']"
   ]
  },
  {
   "cell_type": "code",
   "execution_count": 97,
   "metadata": {},
   "outputs": [
    {
     "data": {
      "text/html": [
       "<div>\n",
       "<style scoped>\n",
       "    .dataframe tbody tr th:only-of-type {\n",
       "        vertical-align: middle;\n",
       "    }\n",
       "\n",
       "    .dataframe tbody tr th {\n",
       "        vertical-align: top;\n",
       "    }\n",
       "\n",
       "    .dataframe thead th {\n",
       "        text-align: right;\n",
       "    }\n",
       "</style>\n",
       "<table border=\"1\" class=\"dataframe\">\n",
       "  <thead>\n",
       "    <tr style=\"text-align: right;\">\n",
       "      <th></th>\n",
       "      <th>word</th>\n",
       "      <th>Stance_against</th>\n",
       "      <th>Stance_favor</th>\n",
       "      <th>Sarcasm_yes</th>\n",
       "      <th>Humor_yes</th>\n",
       "      <th>Hate_yes</th>\n",
       "      <th>OAG</th>\n",
       "      <th>CAG</th>\n",
       "    </tr>\n",
       "  </thead>\n",
       "  <tbody>\n",
       "    <tr>\n",
       "      <th>13551</th>\n",
       "      <td>digesting</td>\n",
       "      <td>-2.028346e-04</td>\n",
       "      <td>2.962595e-12</td>\n",
       "      <td>1.071535e-03</td>\n",
       "      <td>8.449666e-04</td>\n",
       "      <td>0.999951</td>\n",
       "      <td>-8.170481e-04</td>\n",
       "      <td>8.777101e-01</td>\n",
       "    </tr>\n",
       "    <tr>\n",
       "      <th>29823</th>\n",
       "      <td>kutta    chara</td>\n",
       "      <td>-1.225274e-06</td>\n",
       "      <td>4.466176e-04</td>\n",
       "      <td>-2.978322e-07</td>\n",
       "      <td>1.197779e-03</td>\n",
       "      <td>0.999950</td>\n",
       "      <td>5.960464e-07</td>\n",
       "      <td>-4.723004e-07</td>\n",
       "    </tr>\n",
       "    <tr>\n",
       "      <th>12121</th>\n",
       "      <td>darshil</td>\n",
       "      <td>-1.390012e-10</td>\n",
       "      <td>-4.160419e-05</td>\n",
       "      <td>6.629938e-08</td>\n",
       "      <td>8.344650e-06</td>\n",
       "      <td>0.999925</td>\n",
       "      <td>-2.921717e-03</td>\n",
       "      <td>2.950966e-03</td>\n",
       "    </tr>\n",
       "    <tr>\n",
       "      <th>19235</th>\n",
       "      <td>haan   i</td>\n",
       "      <td>-1.174101e-11</td>\n",
       "      <td>1.598080e-04</td>\n",
       "      <td>-1.063218e-07</td>\n",
       "      <td>-4.526095e-03</td>\n",
       "      <td>0.999881</td>\n",
       "      <td>2.134442e-04</td>\n",
       "      <td>-3.944617e-05</td>\n",
       "    </tr>\n",
       "    <tr>\n",
       "      <th>17077</th>\n",
       "      <td>g   d</td>\n",
       "      <td>-8.813120e-10</td>\n",
       "      <td>-1.486980e-10</td>\n",
       "      <td>-9.198704e-01</td>\n",
       "      <td>-1.847350e-05</td>\n",
       "      <td>0.999874</td>\n",
       "      <td>9.999212e-01</td>\n",
       "      <td>-2.223383e-07</td>\n",
       "    </tr>\n",
       "    <tr>\n",
       "      <th>7012</th>\n",
       "      <td>bilkul bhi</td>\n",
       "      <td>-2.453871e-03</td>\n",
       "      <td>6.965078e-01</td>\n",
       "      <td>-5.149382e-07</td>\n",
       "      <td>9.958488e-01</td>\n",
       "      <td>0.999859</td>\n",
       "      <td>-1.818487e-07</td>\n",
       "      <td>9.981262e-01</td>\n",
       "    </tr>\n",
       "    <tr>\n",
       "      <th>35580</th>\n",
       "      <td>nahi hate</td>\n",
       "      <td>2.457888e-07</td>\n",
       "      <td>8.316037e-01</td>\n",
       "      <td>-4.155156e-09</td>\n",
       "      <td>5.025792e-02</td>\n",
       "      <td>0.999855</td>\n",
       "      <td>-1.432282e-02</td>\n",
       "      <td>8.557901e-01</td>\n",
       "    </tr>\n",
       "    <tr>\n",
       "      <th>55142</th>\n",
       "      <td>yeah   kulbhushan</td>\n",
       "      <td>-5.256111e-07</td>\n",
       "      <td>-1.605457e-10</td>\n",
       "      <td>-3.335941e-06</td>\n",
       "      <td>1.512170e-03</td>\n",
       "      <td>0.999779</td>\n",
       "      <td>0.000000e+00</td>\n",
       "      <td>-1.002462e-16</td>\n",
       "    </tr>\n",
       "    <tr>\n",
       "      <th>27731</th>\n",
       "      <td>kedarnath</td>\n",
       "      <td>-7.429790e-13</td>\n",
       "      <td>8.344650e-06</td>\n",
       "      <td>1.610946e-05</td>\n",
       "      <td>5.625486e-03</td>\n",
       "      <td>0.999739</td>\n",
       "      <td>3.200485e-12</td>\n",
       "      <td>2.384186e-07</td>\n",
       "    </tr>\n",
       "    <tr>\n",
       "      <th>10199</th>\n",
       "      <td>chuitiye</td>\n",
       "      <td>-2.939105e-04</td>\n",
       "      <td>2.946081e-04</td>\n",
       "      <td>-2.405047e-04</td>\n",
       "      <td>9.655952e-06</td>\n",
       "      <td>0.999729</td>\n",
       "      <td>2.517815e-01</td>\n",
       "      <td>-2.499329e-01</td>\n",
       "    </tr>\n",
       "    <tr>\n",
       "      <th>10364</th>\n",
       "      <td>chutiyeeeee</td>\n",
       "      <td>-1.502944e-13</td>\n",
       "      <td>5.426493e-11</td>\n",
       "      <td>-2.458987e-04</td>\n",
       "      <td>1.730061e-02</td>\n",
       "      <td>0.999697</td>\n",
       "      <td>2.384186e-07</td>\n",
       "      <td>-2.743602e-07</td>\n",
       "    </tr>\n",
       "    <tr>\n",
       "      <th>27306</th>\n",
       "      <td>karti  i</td>\n",
       "      <td>-4.398858e-05</td>\n",
       "      <td>2.221188e-05</td>\n",
       "      <td>4.188895e-05</td>\n",
       "      <td>-5.793747e-06</td>\n",
       "      <td>0.999686</td>\n",
       "      <td>-7.479491e-09</td>\n",
       "      <td>2.034071e-01</td>\n",
       "    </tr>\n",
       "    <tr>\n",
       "      <th>19186</th>\n",
       "      <td>ha  magar</td>\n",
       "      <td>2.449104e-08</td>\n",
       "      <td>3.423938e-04</td>\n",
       "      <td>9.993400e-01</td>\n",
       "      <td>-6.564307e-01</td>\n",
       "      <td>0.999669</td>\n",
       "      <td>9.327959e-03</td>\n",
       "      <td>-9.330451e-03</td>\n",
       "    </tr>\n",
       "    <tr>\n",
       "      <th>5961</th>\n",
       "      <td>bhadti</td>\n",
       "      <td>-3.583280e-01</td>\n",
       "      <td>-2.753585e-01</td>\n",
       "      <td>4.262518e-10</td>\n",
       "      <td>7.152557e-07</td>\n",
       "      <td>0.999668</td>\n",
       "      <td>2.092748e-04</td>\n",
       "      <td>1.529622e-02</td>\n",
       "    </tr>\n",
       "    <tr>\n",
       "      <th>55417</th>\n",
       "      <td>zabdarsti i</td>\n",
       "      <td>5.701282e-08</td>\n",
       "      <td>7.486913e-01</td>\n",
       "      <td>3.726863e-01</td>\n",
       "      <td>2.238274e-03</td>\n",
       "      <td>0.999664</td>\n",
       "      <td>6.365776e-05</td>\n",
       "      <td>-3.072236e-05</td>\n",
       "    </tr>\n",
       "    <tr>\n",
       "      <th>26795</th>\n",
       "      <td>kangana     who</td>\n",
       "      <td>1.422287e-06</td>\n",
       "      <td>6.227508e-06</td>\n",
       "      <td>4.453218e-05</td>\n",
       "      <td>4.003908e-03</td>\n",
       "      <td>0.999646</td>\n",
       "      <td>1.396787e-07</td>\n",
       "      <td>9.999992e-01</td>\n",
       "    </tr>\n",
       "    <tr>\n",
       "      <th>7435</th>\n",
       "      <td>bola i</td>\n",
       "      <td>1.449356e-08</td>\n",
       "      <td>-8.397858e-08</td>\n",
       "      <td>-9.348496e-07</td>\n",
       "      <td>2.058127e-01</td>\n",
       "      <td>0.999644</td>\n",
       "      <td>2.682774e-05</td>\n",
       "      <td>2.535234e-05</td>\n",
       "    </tr>\n",
       "    <tr>\n",
       "      <th>7998</th>\n",
       "      <td>buddhist hindu</td>\n",
       "      <td>-7.858805e-11</td>\n",
       "      <td>3.642694e-01</td>\n",
       "      <td>5.239229e-07</td>\n",
       "      <td>-1.847744e-05</td>\n",
       "      <td>0.999634</td>\n",
       "      <td>0.000000e+00</td>\n",
       "      <td>-6.623175e-10</td>\n",
       "    </tr>\n",
       "    <tr>\n",
       "      <th>30840</th>\n",
       "      <td>leneka</td>\n",
       "      <td>-6.438597e-12</td>\n",
       "      <td>-3.068850e-10</td>\n",
       "      <td>2.740622e-04</td>\n",
       "      <td>1.814961e-04</td>\n",
       "      <td>0.999622</td>\n",
       "      <td>-1.784691e-09</td>\n",
       "      <td>1.919270e-05</td>\n",
       "    </tr>\n",
       "    <tr>\n",
       "      <th>4317</th>\n",
       "      <td>bajrandall</td>\n",
       "      <td>1.072578e-11</td>\n",
       "      <td>-8.850817e-12</td>\n",
       "      <td>5.161762e-05</td>\n",
       "      <td>4.744530e-05</td>\n",
       "      <td>0.999613</td>\n",
       "      <td>-2.782300e-05</td>\n",
       "      <td>2.789497e-05</td>\n",
       "    </tr>\n",
       "  </tbody>\n",
       "</table>\n",
       "</div>"
      ],
      "text/plain": [
       "                    word  Stance_against  Stance_favor   Sarcasm_yes  \\\n",
       "13551          digesting   -2.028346e-04  2.962595e-12  1.071535e-03   \n",
       "29823     kutta    chara   -1.225274e-06  4.466176e-04 -2.978322e-07   \n",
       "12121            darshil   -1.390012e-10 -4.160419e-05  6.629938e-08   \n",
       "19235           haan   i   -1.174101e-11  1.598080e-04 -1.063218e-07   \n",
       "17077              g   d   -8.813120e-10 -1.486980e-10 -9.198704e-01   \n",
       "7012          bilkul bhi   -2.453871e-03  6.965078e-01 -5.149382e-07   \n",
       "35580          nahi hate    2.457888e-07  8.316037e-01 -4.155156e-09   \n",
       "55142  yeah   kulbhushan   -5.256111e-07 -1.605457e-10 -3.335941e-06   \n",
       "27731          kedarnath   -7.429790e-13  8.344650e-06  1.610946e-05   \n",
       "10199           chuitiye   -2.939105e-04  2.946081e-04 -2.405047e-04   \n",
       "10364        chutiyeeeee   -1.502944e-13  5.426493e-11 -2.458987e-04   \n",
       "27306           karti  i   -4.398858e-05  2.221188e-05  4.188895e-05   \n",
       "19186          ha  magar    2.449104e-08  3.423938e-04  9.993400e-01   \n",
       "5961              bhadti   -3.583280e-01 -2.753585e-01  4.262518e-10   \n",
       "55417        zabdarsti i    5.701282e-08  7.486913e-01  3.726863e-01   \n",
       "26795    kangana     who    1.422287e-06  6.227508e-06  4.453218e-05   \n",
       "7435              bola i    1.449356e-08 -8.397858e-08 -9.348496e-07   \n",
       "7998      buddhist hindu   -7.858805e-11  3.642694e-01  5.239229e-07   \n",
       "30840             leneka   -6.438597e-12 -3.068850e-10  2.740622e-04   \n",
       "4317          bajrandall    1.072578e-11 -8.850817e-12  5.161762e-05   \n",
       "\n",
       "          Humor_yes  Hate_yes           OAG           CAG  \n",
       "13551  8.449666e-04  0.999951 -8.170481e-04  8.777101e-01  \n",
       "29823  1.197779e-03  0.999950  5.960464e-07 -4.723004e-07  \n",
       "12121  8.344650e-06  0.999925 -2.921717e-03  2.950966e-03  \n",
       "19235 -4.526095e-03  0.999881  2.134442e-04 -3.944617e-05  \n",
       "17077 -1.847350e-05  0.999874  9.999212e-01 -2.223383e-07  \n",
       "7012   9.958488e-01  0.999859 -1.818487e-07  9.981262e-01  \n",
       "35580  5.025792e-02  0.999855 -1.432282e-02  8.557901e-01  \n",
       "55142  1.512170e-03  0.999779  0.000000e+00 -1.002462e-16  \n",
       "27731  5.625486e-03  0.999739  3.200485e-12  2.384186e-07  \n",
       "10199  9.655952e-06  0.999729  2.517815e-01 -2.499329e-01  \n",
       "10364  1.730061e-02  0.999697  2.384186e-07 -2.743602e-07  \n",
       "27306 -5.793747e-06  0.999686 -7.479491e-09  2.034071e-01  \n",
       "19186 -6.564307e-01  0.999669  9.327959e-03 -9.330451e-03  \n",
       "5961   7.152557e-07  0.999668  2.092748e-04  1.529622e-02  \n",
       "55417  2.238274e-03  0.999664  6.365776e-05 -3.072236e-05  \n",
       "26795  4.003908e-03  0.999646  1.396787e-07  9.999992e-01  \n",
       "7435   2.058127e-01  0.999644  2.682774e-05  2.535234e-05  \n",
       "7998  -1.847744e-05  0.999634  0.000000e+00 -6.623175e-10  \n",
       "30840  1.814961e-04  0.999622 -1.784691e-09  1.919270e-05  \n",
       "4317   4.744530e-05  0.999613 -2.782300e-05  2.789497e-05  "
      ]
     },
     "execution_count": 97,
     "metadata": {},
     "output_type": "execute_result"
    }
   ],
   "source": [
    "words.sort_values(['Hate_yes'],ascending=[False]).head(20)"
   ]
  },
  {
   "cell_type": "code",
   "execution_count": 96,
   "metadata": {},
   "outputs": [
    {
     "data": {
      "image/png": "[encoded data removed]",
      "text/plain": [
       "<Figure size 432x288 with 1 Axes>"
      ]
     },
     "metadata": {
      "needs_background": "light"
     },
     "output_type": "display_data"
    }
   ],
   "source": [
    "sns.barplot(x='word',y='Hate_yes',data=words.sort_values(['Hate_yes'],ascending=[False]).head(20))\n",
    "plt.xticks(rotation=45)\n",
    "plt.show()"
   ]
  },
  {
   "cell_type": "code",
   "execution_count": 98,
   "metadata": {},
   "outputs": [
    {
     "data": {
      "text/html": [
       "<div>\n",
       "<style scoped>\n",
       "    .dataframe tbody tr th:only-of-type {\n",
       "        vertical-align: middle;\n",
       "    }\n",
       "\n",
       "    .dataframe tbody tr th {\n",
       "        vertical-align: top;\n",
       "    }\n",
       "\n",
       "    .dataframe thead th {\n",
       "        text-align: right;\n",
       "    }\n",
       "</style>\n",
       "<table border=\"1\" class=\"dataframe\">\n",
       "  <thead>\n",
       "    <tr style=\"text-align: right;\">\n",
       "      <th></th>\n",
       "      <th>word</th>\n",
       "      <th>Stance_against</th>\n",
       "      <th>Stance_favor</th>\n",
       "      <th>Sarcasm_yes</th>\n",
       "      <th>Humor_yes</th>\n",
       "      <th>Hate_yes</th>\n",
       "      <th>OAG</th>\n",
       "      <th>CAG</th>\n",
       "    </tr>\n",
       "  </thead>\n",
       "  <tbody>\n",
       "    <tr>\n",
       "      <th>47862</th>\n",
       "      <td>sonagacchi</td>\n",
       "      <td>-2.498765e-10</td>\n",
       "      <td>6.042377e-03</td>\n",
       "      <td>7.656651e-01</td>\n",
       "      <td>2.261448e-02</td>\n",
       "      <td>-5.742988e-04</td>\n",
       "      <td>1.0</td>\n",
       "      <td>-9.999965e-01</td>\n",
       "    </tr>\n",
       "    <tr>\n",
       "      <th>35918</th>\n",
       "      <td>nashukree</td>\n",
       "      <td>-3.994042e-07</td>\n",
       "      <td>4.724390e-09</td>\n",
       "      <td>-7.389100e-04</td>\n",
       "      <td>3.421307e-05</td>\n",
       "      <td>1.812205e-03</td>\n",
       "      <td>1.0</td>\n",
       "      <td>-1.000000e+00</td>\n",
       "    </tr>\n",
       "    <tr>\n",
       "      <th>42698</th>\n",
       "      <td>rashmidi</td>\n",
       "      <td>8.883489e-07</td>\n",
       "      <td>2.887528e-09</td>\n",
       "      <td>3.570718e-12</td>\n",
       "      <td>9.775162e-06</td>\n",
       "      <td>-4.000206e-04</td>\n",
       "      <td>1.0</td>\n",
       "      <td>-1.000000e+00</td>\n",
       "    </tr>\n",
       "    <tr>\n",
       "      <th>6500</th>\n",
       "      <td>bhencho   khane</td>\n",
       "      <td>1.052225e-01</td>\n",
       "      <td>-4.703177e-08</td>\n",
       "      <td>3.012343e-12</td>\n",
       "      <td>-1.120281e-03</td>\n",
       "      <td>2.867149e-01</td>\n",
       "      <td>1.0</td>\n",
       "      <td>-9.999989e-01</td>\n",
       "    </tr>\n",
       "    <tr>\n",
       "      <th>5456</th>\n",
       "      <td>begaane</td>\n",
       "      <td>9.511222e-14</td>\n",
       "      <td>-3.279450e-10</td>\n",
       "      <td>5.254164e-01</td>\n",
       "      <td>2.069426e-02</td>\n",
       "      <td>3.079011e-04</td>\n",
       "      <td>1.0</td>\n",
       "      <td>4.427404e-10</td>\n",
       "    </tr>\n",
       "    <tr>\n",
       "      <th>11903</th>\n",
       "      <td>dalega</td>\n",
       "      <td>-3.851490e-06</td>\n",
       "      <td>-3.702887e-08</td>\n",
       "      <td>5.483627e-06</td>\n",
       "      <td>0.000000e+00</td>\n",
       "      <td>-2.313465e-02</td>\n",
       "      <td>1.0</td>\n",
       "      <td>-1.000000e+00</td>\n",
       "    </tr>\n",
       "    <tr>\n",
       "      <th>17347</th>\n",
       "      <td>gandda</td>\n",
       "      <td>2.738184e-06</td>\n",
       "      <td>4.554264e-02</td>\n",
       "      <td>9.993249e-01</td>\n",
       "      <td>2.569578e-02</td>\n",
       "      <td>9.653998e-05</td>\n",
       "      <td>1.0</td>\n",
       "      <td>-2.108788e-04</td>\n",
       "    </tr>\n",
       "    <tr>\n",
       "      <th>14498</th>\n",
       "      <td>draupadi</td>\n",
       "      <td>-3.912429e-10</td>\n",
       "      <td>3.756944e-11</td>\n",
       "      <td>9.970122e-01</td>\n",
       "      <td>-1.359951e-02</td>\n",
       "      <td>1.206378e-01</td>\n",
       "      <td>1.0</td>\n",
       "      <td>-1.000000e+00</td>\n",
       "    </tr>\n",
       "    <tr>\n",
       "      <th>17414</th>\n",
       "      <td>ganndey</td>\n",
       "      <td>-5.532884e-09</td>\n",
       "      <td>-1.992824e-06</td>\n",
       "      <td>7.892537e-08</td>\n",
       "      <td>-4.768372e-07</td>\n",
       "      <td>4.456348e-02</td>\n",
       "      <td>1.0</td>\n",
       "      <td>-9.999999e-01</td>\n",
       "    </tr>\n",
       "    <tr>\n",
       "      <th>7420</th>\n",
       "      <td>bokchod</td>\n",
       "      <td>4.252625e-08</td>\n",
       "      <td>2.041698e-03</td>\n",
       "      <td>1.784285e-04</td>\n",
       "      <td>-2.863969e-02</td>\n",
       "      <td>6.257189e-07</td>\n",
       "      <td>1.0</td>\n",
       "      <td>-1.153711e-07</td>\n",
       "    </tr>\n",
       "    <tr>\n",
       "      <th>9033</th>\n",
       "      <td>chalayega</td>\n",
       "      <td>-6.452816e-09</td>\n",
       "      <td>-2.500214e-06</td>\n",
       "      <td>5.665388e-05</td>\n",
       "      <td>2.689411e-02</td>\n",
       "      <td>-9.584807e-07</td>\n",
       "      <td>1.0</td>\n",
       "      <td>-2.036000e-04</td>\n",
       "    </tr>\n",
       "    <tr>\n",
       "      <th>10350</th>\n",
       "      <td>chutiyam</td>\n",
       "      <td>3.639060e-06</td>\n",
       "      <td>-1.460773e-05</td>\n",
       "      <td>9.999751e-01</td>\n",
       "      <td>2.405729e-05</td>\n",
       "      <td>2.092608e-03</td>\n",
       "      <td>1.0</td>\n",
       "      <td>-1.375377e-09</td>\n",
       "    </tr>\n",
       "    <tr>\n",
       "      <th>40598</th>\n",
       "      <td>poocho    ki</td>\n",
       "      <td>1.744628e-09</td>\n",
       "      <td>5.922455e-08</td>\n",
       "      <td>2.304598e-01</td>\n",
       "      <td>7.152557e-07</td>\n",
       "      <td>2.946442e-04</td>\n",
       "      <td>1.0</td>\n",
       "      <td>-1.000000e+00</td>\n",
       "    </tr>\n",
       "    <tr>\n",
       "      <th>9144</th>\n",
       "      <td>champu</td>\n",
       "      <td>1.678716e-03</td>\n",
       "      <td>1.264893e-06</td>\n",
       "      <td>1.950498e-03</td>\n",
       "      <td>4.402271e-04</td>\n",
       "      <td>1.194605e-04</td>\n",
       "      <td>1.0</td>\n",
       "      <td>-5.882314e-08</td>\n",
       "    </tr>\n",
       "    <tr>\n",
       "      <th>33433</th>\n",
       "      <td>me kiska maid sunidhi</td>\n",
       "      <td>5.132627e-02</td>\n",
       "      <td>-1.597924e-08</td>\n",
       "      <td>-9.391117e-01</td>\n",
       "      <td>-3.973246e-04</td>\n",
       "      <td>2.317165e-04</td>\n",
       "      <td>1.0</td>\n",
       "      <td>-1.899086e-09</td>\n",
       "    </tr>\n",
       "    <tr>\n",
       "      <th>9907</th>\n",
       "      <td>chodengi</td>\n",
       "      <td>2.145268e-09</td>\n",
       "      <td>8.942455e-10</td>\n",
       "      <td>2.384186e-07</td>\n",
       "      <td>1.045465e-03</td>\n",
       "      <td>-1.361568e-04</td>\n",
       "      <td>1.0</td>\n",
       "      <td>-9.979492e-01</td>\n",
       "    </tr>\n",
       "    <tr>\n",
       "      <th>17188</th>\n",
       "      <td>gadhha</td>\n",
       "      <td>-1.289807e-14</td>\n",
       "      <td>0.000000e+00</td>\n",
       "      <td>9.989079e-01</td>\n",
       "      <td>6.373703e-03</td>\n",
       "      <td>9.255809e-01</td>\n",
       "      <td>1.0</td>\n",
       "      <td>-9.779718e-01</td>\n",
       "    </tr>\n",
       "    <tr>\n",
       "      <th>17383</th>\n",
       "      <td>ganduu</td>\n",
       "      <td>-1.198845e-05</td>\n",
       "      <td>-2.299230e-02</td>\n",
       "      <td>1.845956e-04</td>\n",
       "      <td>3.576279e-07</td>\n",
       "      <td>-1.348618e-02</td>\n",
       "      <td>1.0</td>\n",
       "      <td>-1.000000e+00</td>\n",
       "    </tr>\n",
       "    <tr>\n",
       "      <th>44790</th>\n",
       "      <td>salamualikum</td>\n",
       "      <td>1.380868e-09</td>\n",
       "      <td>1.086311e-08</td>\n",
       "      <td>9.536743e-07</td>\n",
       "      <td>5.283952e-03</td>\n",
       "      <td>-8.096251e-05</td>\n",
       "      <td>1.0</td>\n",
       "      <td>-1.000000e+00</td>\n",
       "    </tr>\n",
       "    <tr>\n",
       "      <th>23272</th>\n",
       "      <td>india   best</td>\n",
       "      <td>-2.621119e-12</td>\n",
       "      <td>-1.328903e-07</td>\n",
       "      <td>1.875168e-13</td>\n",
       "      <td>4.754709e-02</td>\n",
       "      <td>9.418631e-01</td>\n",
       "      <td>1.0</td>\n",
       "      <td>8.510988e-10</td>\n",
       "    </tr>\n",
       "  </tbody>\n",
       "</table>\n",
       "</div>"
      ],
      "text/plain": [
       "                        word  Stance_against  Stance_favor   Sarcasm_yes  \\\n",
       "47862             sonagacchi   -2.498765e-10  6.042377e-03  7.656651e-01   \n",
       "35918              nashukree   -3.994042e-07  4.724390e-09 -7.389100e-04   \n",
       "42698               rashmidi    8.883489e-07  2.887528e-09  3.570718e-12   \n",
       "6500         bhencho   khane    1.052225e-01 -4.703177e-08  3.012343e-12   \n",
       "5456                 begaane    9.511222e-14 -3.279450e-10  5.254164e-01   \n",
       "11903                 dalega   -3.851490e-06 -3.702887e-08  5.483627e-06   \n",
       "17347                 gandda    2.738184e-06  4.554264e-02  9.993249e-01   \n",
       "14498               draupadi   -3.912429e-10  3.756944e-11  9.970122e-01   \n",
       "17414                ganndey   -5.532884e-09 -1.992824e-06  7.892537e-08   \n",
       "7420                 bokchod    4.252625e-08  2.041698e-03  1.784285e-04   \n",
       "9033               chalayega   -6.452816e-09 -2.500214e-06  5.665388e-05   \n",
       "10350               chutiyam    3.639060e-06 -1.460773e-05  9.999751e-01   \n",
       "40598           poocho    ki    1.744628e-09  5.922455e-08  2.304598e-01   \n",
       "9144                  champu    1.678716e-03  1.264893e-06  1.950498e-03   \n",
       "33433  me kiska maid sunidhi    5.132627e-02 -1.597924e-08 -9.391117e-01   \n",
       "9907                chodengi    2.145268e-09  8.942455e-10  2.384186e-07   \n",
       "17188                 gadhha   -1.289807e-14  0.000000e+00  9.989079e-01   \n",
       "17383                 ganduu   -1.198845e-05 -2.299230e-02  1.845956e-04   \n",
       "44790           salamualikum    1.380868e-09  1.086311e-08  9.536743e-07   \n",
       "23272           india   best   -2.621119e-12 -1.328903e-07  1.875168e-13   \n",
       "\n",
       "          Humor_yes      Hate_yes  OAG           CAG  \n",
       "47862  2.261448e-02 -5.742988e-04  1.0 -9.999965e-01  \n",
       "35918  3.421307e-05  1.812205e-03  1.0 -1.000000e+00  \n",
       "42698  9.775162e-06 -4.000206e-04  1.0 -1.000000e+00  \n",
       "6500  -1.120281e-03  2.867149e-01  1.0 -9.999989e-01  \n",
       "5456   2.069426e-02  3.079011e-04  1.0  4.427404e-10  \n",
       "11903  0.000000e+00 -2.313465e-02  1.0 -1.000000e+00  \n",
       "17347  2.569578e-02  9.653998e-05  1.0 -2.108788e-04  \n",
       "14498 -1.359951e-02  1.206378e-01  1.0 -1.000000e+00  \n",
       "17414 -4.768372e-07  4.456348e-02  1.0 -9.999999e-01  \n",
       "7420  -2.863969e-02  6.257189e-07  1.0 -1.153711e-07  \n",
       "9033   2.689411e-02 -9.584807e-07  1.0 -2.036000e-04  \n",
       "10350  2.405729e-05  2.092608e-03  1.0 -1.375377e-09  \n",
       "40598  7.152557e-07  2.946442e-04  1.0 -1.000000e+00  \n",
       "9144   4.402271e-04  1.194605e-04  1.0 -5.882314e-08  \n",
       "33433 -3.973246e-04  2.317165e-04  1.0 -1.899086e-09  \n",
       "9907   1.045465e-03 -1.361568e-04  1.0 -9.979492e-01  \n",
       "17188  6.373703e-03  9.255809e-01  1.0 -9.779718e-01  \n",
       "17383  3.576279e-07 -1.348618e-02  1.0 -1.000000e+00  \n",
       "44790  5.283952e-03 -8.096251e-05  1.0 -1.000000e+00  \n",
       "23272  4.754709e-02  9.418631e-01  1.0  8.510988e-10  "
      ]
     },
     "execution_count": 98,
     "metadata": {},
     "output_type": "execute_result"
    }
   ],
   "source": [
    "words.sort_values(['OAG'],ascending=[False]).head(20)"
   ]
  },
  {
   "cell_type": "code",
   "execution_count": 99,
   "metadata": {},
   "outputs": [
    {
     "data": {
      "text/html": [
       "<div>\n",
       "<style scoped>\n",
       "    .dataframe tbody tr th:only-of-type {\n",
       "        vertical-align: middle;\n",
       "    }\n",
       "\n",
       "    .dataframe tbody tr th {\n",
       "        vertical-align: top;\n",
       "    }\n",
       "\n",
       "    .dataframe thead th {\n",
       "        text-align: right;\n",
       "    }\n",
       "</style>\n",
       "<table border=\"1\" class=\"dataframe\">\n",
       "  <thead>\n",
       "    <tr style=\"text-align: right;\">\n",
       "      <th></th>\n",
       "      <th>word</th>\n",
       "      <th>Stance_against</th>\n",
       "      <th>Stance_favor</th>\n",
       "      <th>Sarcasm_yes</th>\n",
       "      <th>Humor_yes</th>\n",
       "      <th>Hate_yes</th>\n",
       "      <th>OAG</th>\n",
       "      <th>CAG</th>\n",
       "    </tr>\n",
       "  </thead>\n",
       "  <tbody>\n",
       "    <tr>\n",
       "      <th>20800</th>\n",
       "      <td>hatwao</td>\n",
       "      <td>-4.621722e-05</td>\n",
       "      <td>9.980672e-01</td>\n",
       "      <td>-1.046565e-07</td>\n",
       "      <td>0.000233</td>\n",
       "      <td>6.957251e-06</td>\n",
       "      <td>-1.172675e-08</td>\n",
       "      <td>1.0</td>\n",
       "    </tr>\n",
       "    <tr>\n",
       "      <th>54526</th>\n",
       "      <td>what  d</td>\n",
       "      <td>-8.183812e-01</td>\n",
       "      <td>1.920379e-07</td>\n",
       "      <td>-1.929354e-07</td>\n",
       "      <td>0.990632</td>\n",
       "      <td>-3.378133e-10</td>\n",
       "      <td>-7.529674e-08</td>\n",
       "      <td>1.0</td>\n",
       "    </tr>\n",
       "    <tr>\n",
       "      <th>2010</th>\n",
       "      <td>anas</td>\n",
       "      <td>8.638854e-09</td>\n",
       "      <td>5.760962e-01</td>\n",
       "      <td>-2.684685e-07</td>\n",
       "      <td>0.009254</td>\n",
       "      <td>6.160356e-05</td>\n",
       "      <td>1.962587e-08</td>\n",
       "      <td>1.0</td>\n",
       "    </tr>\n",
       "    <tr>\n",
       "      <th>27380</th>\n",
       "      <td>karwao agar</td>\n",
       "      <td>-2.918699e-16</td>\n",
       "      <td>-3.646475e-10</td>\n",
       "      <td>-1.303234e-03</td>\n",
       "      <td>0.766125</td>\n",
       "      <td>9.992986e-01</td>\n",
       "      <td>-9.434507e-11</td>\n",
       "      <td>1.0</td>\n",
       "    </tr>\n",
       "    <tr>\n",
       "      <th>32823</th>\n",
       "      <td>maratha</td>\n",
       "      <td>-1.968529e-03</td>\n",
       "      <td>4.177166e-08</td>\n",
       "      <td>2.726581e-14</td>\n",
       "      <td>0.010984</td>\n",
       "      <td>-1.896487e-01</td>\n",
       "      <td>1.620433e-08</td>\n",
       "      <td>1.0</td>\n",
       "    </tr>\n",
       "    <tr>\n",
       "      <th>49518</th>\n",
       "      <td>talaga</td>\n",
       "      <td>1.272024e-12</td>\n",
       "      <td>-9.177291e-02</td>\n",
       "      <td>4.346886e-08</td>\n",
       "      <td>0.000001</td>\n",
       "      <td>-1.926064e-03</td>\n",
       "      <td>-1.000000e+00</td>\n",
       "      <td>1.0</td>\n",
       "    </tr>\n",
       "    <tr>\n",
       "      <th>38049</th>\n",
       "      <td>paidawaar</td>\n",
       "      <td>5.854342e-13</td>\n",
       "      <td>-4.296072e-07</td>\n",
       "      <td>-2.804940e-06</td>\n",
       "      <td>-0.067348</td>\n",
       "      <td>-1.724105e-04</td>\n",
       "      <td>1.372573e-10</td>\n",
       "      <td>1.0</td>\n",
       "    </tr>\n",
       "    <tr>\n",
       "      <th>24796</th>\n",
       "      <td>jangle</td>\n",
       "      <td>-6.049281e-07</td>\n",
       "      <td>-4.630521e-04</td>\n",
       "      <td>1.616877e-08</td>\n",
       "      <td>0.006700</td>\n",
       "      <td>1.080524e-05</td>\n",
       "      <td>1.016105e-11</td>\n",
       "      <td>1.0</td>\n",
       "    </tr>\n",
       "    <tr>\n",
       "      <th>50188</th>\n",
       "      <td>tha  bhul</td>\n",
       "      <td>1.270603e-14</td>\n",
       "      <td>3.793629e-12</td>\n",
       "      <td>1.755787e-06</td>\n",
       "      <td>0.878022</td>\n",
       "      <td>1.984589e-03</td>\n",
       "      <td>-3.026320e-12</td>\n",
       "      <td>1.0</td>\n",
       "    </tr>\n",
       "    <tr>\n",
       "      <th>144</th>\n",
       "      <td>aaggg</td>\n",
       "      <td>1.010820e-07</td>\n",
       "      <td>8.137154e-05</td>\n",
       "      <td>-6.518124e-08</td>\n",
       "      <td>-0.005558</td>\n",
       "      <td>9.885900e-01</td>\n",
       "      <td>9.481721e-13</td>\n",
       "      <td>1.0</td>\n",
       "    </tr>\n",
       "    <tr>\n",
       "      <th>20551</th>\n",
       "      <td>haray</td>\n",
       "      <td>-3.077880e-13</td>\n",
       "      <td>-1.015772e-12</td>\n",
       "      <td>9.997482e-01</td>\n",
       "      <td>0.034366</td>\n",
       "      <td>2.765008e-02</td>\n",
       "      <td>9.988347e-14</td>\n",
       "      <td>1.0</td>\n",
       "    </tr>\n",
       "    <tr>\n",
       "      <th>32613</th>\n",
       "      <td>mangge</td>\n",
       "      <td>1.501599e-10</td>\n",
       "      <td>3.017956e-10</td>\n",
       "      <td>-3.845686e-01</td>\n",
       "      <td>0.592459</td>\n",
       "      <td>3.582426e-05</td>\n",
       "      <td>-2.142791e-06</td>\n",
       "      <td>1.0</td>\n",
       "    </tr>\n",
       "    <tr>\n",
       "      <th>22889</th>\n",
       "      <td>idea  will</td>\n",
       "      <td>-2.892235e-08</td>\n",
       "      <td>-1.056183e-07</td>\n",
       "      <td>4.248503e-10</td>\n",
       "      <td>-0.000066</td>\n",
       "      <td>-4.388000e-02</td>\n",
       "      <td>9.805028e-08</td>\n",
       "      <td>1.0</td>\n",
       "    </tr>\n",
       "    <tr>\n",
       "      <th>36513</th>\n",
       "      <td>nikakte</td>\n",
       "      <td>1.314812e-09</td>\n",
       "      <td>-3.123283e-05</td>\n",
       "      <td>3.282320e-07</td>\n",
       "      <td>-0.089474</td>\n",
       "      <td>3.310772e-05</td>\n",
       "      <td>9.379668e-08</td>\n",
       "      <td>1.0</td>\n",
       "    </tr>\n",
       "    <tr>\n",
       "      <th>16522</th>\n",
       "      <td>firke</td>\n",
       "      <td>2.056276e-13</td>\n",
       "      <td>6.079674e-06</td>\n",
       "      <td>1.623027e-07</td>\n",
       "      <td>0.318834</td>\n",
       "      <td>3.034200e-04</td>\n",
       "      <td>1.692820e-07</td>\n",
       "      <td>1.0</td>\n",
       "    </tr>\n",
       "    <tr>\n",
       "      <th>33351</th>\n",
       "      <td>mazjid</td>\n",
       "      <td>3.667900e-15</td>\n",
       "      <td>-1.145744e-02</td>\n",
       "      <td>2.700003e-05</td>\n",
       "      <td>0.248902</td>\n",
       "      <td>4.315343e-07</td>\n",
       "      <td>1.143944e-08</td>\n",
       "      <td>1.0</td>\n",
       "    </tr>\n",
       "    <tr>\n",
       "      <th>31318</th>\n",
       "      <td>log    we</td>\n",
       "      <td>-7.293228e-06</td>\n",
       "      <td>2.467930e-03</td>\n",
       "      <td>-1.943070e-02</td>\n",
       "      <td>0.000451</td>\n",
       "      <td>-2.855605e-04</td>\n",
       "      <td>2.396159e-12</td>\n",
       "      <td>1.0</td>\n",
       "    </tr>\n",
       "    <tr>\n",
       "      <th>48934</th>\n",
       "      <td>sunnne</td>\n",
       "      <td>2.575922e-08</td>\n",
       "      <td>8.542693e-09</td>\n",
       "      <td>-2.446592e-03</td>\n",
       "      <td>0.353252</td>\n",
       "      <td>-2.301067e-05</td>\n",
       "      <td>-3.724544e-05</td>\n",
       "      <td>1.0</td>\n",
       "    </tr>\n",
       "    <tr>\n",
       "      <th>34836</th>\n",
       "      <td>mugged</td>\n",
       "      <td>-1.161969e-13</td>\n",
       "      <td>-7.899888e-15</td>\n",
       "      <td>3.675338e-03</td>\n",
       "      <td>0.018325</td>\n",
       "      <td>-8.963611e-03</td>\n",
       "      <td>1.672258e-08</td>\n",
       "      <td>1.0</td>\n",
       "    </tr>\n",
       "    <tr>\n",
       "      <th>49945</th>\n",
       "      <td>teeen</td>\n",
       "      <td>1.636608e-03</td>\n",
       "      <td>2.967386e-11</td>\n",
       "      <td>2.723418e-05</td>\n",
       "      <td>0.002968</td>\n",
       "      <td>-8.422315e-03</td>\n",
       "      <td>3.931236e-12</td>\n",
       "      <td>1.0</td>\n",
       "    </tr>\n",
       "  </tbody>\n",
       "</table>\n",
       "</div>"
      ],
      "text/plain": [
       "              word  Stance_against  Stance_favor   Sarcasm_yes  Humor_yes  \\\n",
       "20800       hatwao   -4.621722e-05  9.980672e-01 -1.046565e-07   0.000233   \n",
       "54526      what  d   -8.183812e-01  1.920379e-07 -1.929354e-07   0.990632   \n",
       "2010          anas    8.638854e-09  5.760962e-01 -2.684685e-07   0.009254   \n",
       "27380  karwao agar   -2.918699e-16 -3.646475e-10 -1.303234e-03   0.766125   \n",
       "32823      maratha   -1.968529e-03  4.177166e-08  2.726581e-14   0.010984   \n",
       "49518       talaga    1.272024e-12 -9.177291e-02  4.346886e-08   0.000001   \n",
       "38049    paidawaar    5.854342e-13 -4.296072e-07 -2.804940e-06  -0.067348   \n",
       "24796       jangle   -6.049281e-07 -4.630521e-04  1.616877e-08   0.006700   \n",
       "50188    tha  bhul    1.270603e-14  3.793629e-12  1.755787e-06   0.878022   \n",
       "144          aaggg    1.010820e-07  8.137154e-05 -6.518124e-08  -0.005558   \n",
       "20551        haray   -3.077880e-13 -1.015772e-12  9.997482e-01   0.034366   \n",
       "32613       mangge    1.501599e-10  3.017956e-10 -3.845686e-01   0.592459   \n",
       "22889   idea  will   -2.892235e-08 -1.056183e-07  4.248503e-10  -0.000066   \n",
       "36513      nikakte    1.314812e-09 -3.123283e-05  3.282320e-07  -0.089474   \n",
       "16522        firke    2.056276e-13  6.079674e-06  1.623027e-07   0.318834   \n",
       "33351       mazjid    3.667900e-15 -1.145744e-02  2.700003e-05   0.248902   \n",
       "31318    log    we   -7.293228e-06  2.467930e-03 -1.943070e-02   0.000451   \n",
       "48934       sunnne    2.575922e-08  8.542693e-09 -2.446592e-03   0.353252   \n",
       "34836       mugged   -1.161969e-13 -7.899888e-15  3.675338e-03   0.018325   \n",
       "49945        teeen    1.636608e-03  2.967386e-11  2.723418e-05   0.002968   \n",
       "\n",
       "           Hate_yes           OAG  CAG  \n",
       "20800  6.957251e-06 -1.172675e-08  1.0  \n",
       "54526 -3.378133e-10 -7.529674e-08  1.0  \n",
       "2010   6.160356e-05  1.962587e-08  1.0  \n",
       "27380  9.992986e-01 -9.434507e-11  1.0  \n",
       "32823 -1.896487e-01  1.620433e-08  1.0  \n",
       "49518 -1.926064e-03 -1.000000e+00  1.0  \n",
       "38049 -1.724105e-04  1.372573e-10  1.0  \n",
       "24796  1.080524e-05  1.016105e-11  1.0  \n",
       "50188  1.984589e-03 -3.026320e-12  1.0  \n",
       "144    9.885900e-01  9.481721e-13  1.0  \n",
       "20551  2.765008e-02  9.988347e-14  1.0  \n",
       "32613  3.582426e-05 -2.142791e-06  1.0  \n",
       "22889 -4.388000e-02  9.805028e-08  1.0  \n",
       "36513  3.310772e-05  9.379668e-08  1.0  \n",
       "16522  3.034200e-04  1.692820e-07  1.0  \n",
       "33351  4.315343e-07  1.143944e-08  1.0  \n",
       "31318 -2.855605e-04  2.396159e-12  1.0  \n",
       "48934 -2.301067e-05 -3.724544e-05  1.0  \n",
       "34836 -8.963611e-03  1.672258e-08  1.0  \n",
       "49945 -8.422315e-03  3.931236e-12  1.0  "
      ]
     },
     "execution_count": 99,
     "metadata": {},
     "output_type": "execute_result"
    }
   ],
   "source": [
    "words.sort_values(['CAG'],ascending=[False]).head(20)"
   ]
  },
  {
   "cell_type": "code",
   "execution_count": 100,
   "metadata": {},
   "outputs": [
    {
     "data": {
      "text/html": [
       "<div>\n",
       "<style scoped>\n",
       "    .dataframe tbody tr th:only-of-type {\n",
       "        vertical-align: middle;\n",
       "    }\n",
       "\n",
       "    .dataframe tbody tr th {\n",
       "        vertical-align: top;\n",
       "    }\n",
       "\n",
       "    .dataframe thead th {\n",
       "        text-align: right;\n",
       "    }\n",
       "</style>\n",
       "<table border=\"1\" class=\"dataframe\">\n",
       "  <thead>\n",
       "    <tr style=\"text-align: right;\">\n",
       "      <th></th>\n",
       "      <th>word</th>\n",
       "      <th>Stance_against</th>\n",
       "      <th>Stance_favor</th>\n",
       "      <th>Sarcasm_yes</th>\n",
       "      <th>Humor_yes</th>\n",
       "      <th>Hate_yes</th>\n",
       "      <th>OAG</th>\n",
       "      <th>CAG</th>\n",
       "    </tr>\n",
       "  </thead>\n",
       "  <tbody>\n",
       "    <tr>\n",
       "      <th>6332</th>\n",
       "      <td>bhartvasi</td>\n",
       "      <td>1.708556e-11</td>\n",
       "      <td>2.019954e-07</td>\n",
       "      <td>9.514535e-01</td>\n",
       "      <td>0.999847</td>\n",
       "      <td>0.001053</td>\n",
       "      <td>1.569968e-07</td>\n",
       "      <td>0.000000e+00</td>\n",
       "    </tr>\n",
       "    <tr>\n",
       "      <th>36027</th>\n",
       "      <td>navaj</td>\n",
       "      <td>-3.769416e-04</td>\n",
       "      <td>-8.750338e-05</td>\n",
       "      <td>2.173781e-04</td>\n",
       "      <td>0.999843</td>\n",
       "      <td>-0.000997</td>\n",
       "      <td>1.068648e-04</td>\n",
       "      <td>9.946179e-01</td>\n",
       "    </tr>\n",
       "    <tr>\n",
       "      <th>26636</th>\n",
       "      <td>kaleja</td>\n",
       "      <td>4.035074e-07</td>\n",
       "      <td>-1.397222e-12</td>\n",
       "      <td>1.178980e-04</td>\n",
       "      <td>0.999793</td>\n",
       "      <td>0.035410</td>\n",
       "      <td>9.999987e-01</td>\n",
       "      <td>-9.999202e-01</td>\n",
       "    </tr>\n",
       "    <tr>\n",
       "      <th>20835</th>\n",
       "      <td>haven t   and</td>\n",
       "      <td>-1.366113e-03</td>\n",
       "      <td>-4.148856e-01</td>\n",
       "      <td>1.331825e-05</td>\n",
       "      <td>0.999670</td>\n",
       "      <td>0.000409</td>\n",
       "      <td>0.000000e+00</td>\n",
       "      <td>3.783693e-08</td>\n",
       "    </tr>\n",
       "    <tr>\n",
       "      <th>49190</th>\n",
       "      <td>swaminarayan</td>\n",
       "      <td>-2.198074e-13</td>\n",
       "      <td>3.612041e-05</td>\n",
       "      <td>9.124244e-04</td>\n",
       "      <td>0.999627</td>\n",
       "      <td>0.000057</td>\n",
       "      <td>6.395489e-13</td>\n",
       "      <td>1.196785e-12</td>\n",
       "    </tr>\n",
       "    <tr>\n",
       "      <th>2558</th>\n",
       "      <td>apprehension</td>\n",
       "      <td>-8.344650e-07</td>\n",
       "      <td>3.888246e-07</td>\n",
       "      <td>5.404397e-12</td>\n",
       "      <td>0.999609</td>\n",
       "      <td>0.000891</td>\n",
       "      <td>-2.796388e-10</td>\n",
       "      <td>-1.432531e-08</td>\n",
       "    </tr>\n",
       "    <tr>\n",
       "      <th>40168</th>\n",
       "      <td>pinnarayi</td>\n",
       "      <td>1.683539e-02</td>\n",
       "      <td>3.153333e-04</td>\n",
       "      <td>8.207964e-03</td>\n",
       "      <td>0.999594</td>\n",
       "      <td>-0.000017</td>\n",
       "      <td>-9.986787e-01</td>\n",
       "      <td>9.986783e-01</td>\n",
       "    </tr>\n",
       "    <tr>\n",
       "      <th>26802</th>\n",
       "      <td>kangesi</td>\n",
       "      <td>-6.050773e-12</td>\n",
       "      <td>7.124124e-12</td>\n",
       "      <td>1.639593e-01</td>\n",
       "      <td>0.999567</td>\n",
       "      <td>0.006733</td>\n",
       "      <td>0.000000e+00</td>\n",
       "      <td>-8.368468e-09</td>\n",
       "    </tr>\n",
       "    <tr>\n",
       "      <th>44622</th>\n",
       "      <td>sahvaag</td>\n",
       "      <td>-2.485862e-09</td>\n",
       "      <td>9.463469e-01</td>\n",
       "      <td>-6.812830e-08</td>\n",
       "      <td>0.999428</td>\n",
       "      <td>-0.000002</td>\n",
       "      <td>1.099253e-02</td>\n",
       "      <td>-3.006688e-03</td>\n",
       "    </tr>\n",
       "    <tr>\n",
       "      <th>42800</th>\n",
       "      <td>ravi s</td>\n",
       "      <td>-1.002680e-04</td>\n",
       "      <td>1.247830e-09</td>\n",
       "      <td>1.259930e-04</td>\n",
       "      <td>0.999410</td>\n",
       "      <td>-0.000136</td>\n",
       "      <td>1.484208e-01</td>\n",
       "      <td>-6.395582e-03</td>\n",
       "    </tr>\n",
       "    <tr>\n",
       "      <th>15641</th>\n",
       "      <td>exclusively</td>\n",
       "      <td>5.747886e-03</td>\n",
       "      <td>4.319551e-06</td>\n",
       "      <td>-5.123035e-03</td>\n",
       "      <td>0.999376</td>\n",
       "      <td>0.039568</td>\n",
       "      <td>-3.495350e-02</td>\n",
       "      <td>-1.196149e-02</td>\n",
       "    </tr>\n",
       "    <tr>\n",
       "      <th>36842</th>\n",
       "      <td>nonsensitical</td>\n",
       "      <td>2.627099e-05</td>\n",
       "      <td>6.575980e-08</td>\n",
       "      <td>7.563061e-05</td>\n",
       "      <td>0.999357</td>\n",
       "      <td>0.000002</td>\n",
       "      <td>-1.852498e-03</td>\n",
       "      <td>-3.691586e-01</td>\n",
       "    </tr>\n",
       "    <tr>\n",
       "      <th>24244</th>\n",
       "      <td>ja sachai</td>\n",
       "      <td>-5.298624e-12</td>\n",
       "      <td>0.000000e+00</td>\n",
       "      <td>9.243779e-01</td>\n",
       "      <td>0.999327</td>\n",
       "      <td>-0.000003</td>\n",
       "      <td>3.182004e-07</td>\n",
       "      <td>1.335574e-01</td>\n",
       "    </tr>\n",
       "    <tr>\n",
       "      <th>17386</th>\n",
       "      <td>ganeah</td>\n",
       "      <td>6.458463e-06</td>\n",
       "      <td>4.288361e-04</td>\n",
       "      <td>-1.426104e-03</td>\n",
       "      <td>0.999276</td>\n",
       "      <td>0.163021</td>\n",
       "      <td>9.214381e-06</td>\n",
       "      <td>-1.201099e-06</td>\n",
       "    </tr>\n",
       "    <tr>\n",
       "      <th>48321</th>\n",
       "      <td>startled</td>\n",
       "      <td>-9.245159e-13</td>\n",
       "      <td>7.718239e-11</td>\n",
       "      <td>4.414168e-07</td>\n",
       "      <td>0.999241</td>\n",
       "      <td>0.000019</td>\n",
       "      <td>-7.464312e-11</td>\n",
       "      <td>-2.165739e-02</td>\n",
       "    </tr>\n",
       "    <tr>\n",
       "      <th>17560</th>\n",
       "      <td>gau rakshak</td>\n",
       "      <td>-1.735580e-12</td>\n",
       "      <td>7.277958e-12</td>\n",
       "      <td>3.057539e-02</td>\n",
       "      <td>0.999217</td>\n",
       "      <td>0.705143</td>\n",
       "      <td>-6.535010e-05</td>\n",
       "      <td>7.629395e-05</td>\n",
       "    </tr>\n",
       "    <tr>\n",
       "      <th>32223</th>\n",
       "      <td>mahraj</td>\n",
       "      <td>4.387469e-11</td>\n",
       "      <td>3.459010e-06</td>\n",
       "      <td>9.993521e-01</td>\n",
       "      <td>0.999196</td>\n",
       "      <td>-0.000055</td>\n",
       "      <td>2.026558e-06</td>\n",
       "      <td>-1.064693e-10</td>\n",
       "    </tr>\n",
       "    <tr>\n",
       "      <th>2738</th>\n",
       "      <td>ars</td>\n",
       "      <td>-1.372579e-10</td>\n",
       "      <td>1.646917e-09</td>\n",
       "      <td>9.806408e-01</td>\n",
       "      <td>0.999191</td>\n",
       "      <td>0.004555</td>\n",
       "      <td>1.059871e-09</td>\n",
       "      <td>0.000000e+00</td>\n",
       "    </tr>\n",
       "    <tr>\n",
       "      <th>33100</th>\n",
       "      <td>mason   seig</td>\n",
       "      <td>9.782131e-11</td>\n",
       "      <td>2.565452e-10</td>\n",
       "      <td>-1.999341e-13</td>\n",
       "      <td>0.999155</td>\n",
       "      <td>0.004780</td>\n",
       "      <td>9.976231e-01</td>\n",
       "      <td>-9.531116e-01</td>\n",
       "    </tr>\n",
       "    <tr>\n",
       "      <th>17306</th>\n",
       "      <td>gallick</td>\n",
       "      <td>-3.812699e-13</td>\n",
       "      <td>4.083117e-01</td>\n",
       "      <td>-7.845385e-07</td>\n",
       "      <td>0.999141</td>\n",
       "      <td>-0.002794</td>\n",
       "      <td>6.514840e-10</td>\n",
       "      <td>0.000000e+00</td>\n",
       "    </tr>\n",
       "  </tbody>\n",
       "</table>\n",
       "</div>"
      ],
      "text/plain": [
       "                word  Stance_against  Stance_favor   Sarcasm_yes  Humor_yes  \\\n",
       "6332       bhartvasi    1.708556e-11  2.019954e-07  9.514535e-01   0.999847   \n",
       "36027          navaj   -3.769416e-04 -8.750338e-05  2.173781e-04   0.999843   \n",
       "26636         kaleja    4.035074e-07 -1.397222e-12  1.178980e-04   0.999793   \n",
       "20835  haven t   and   -1.366113e-03 -4.148856e-01  1.331825e-05   0.999670   \n",
       "49190   swaminarayan   -2.198074e-13  3.612041e-05  9.124244e-04   0.999627   \n",
       "2558    apprehension   -8.344650e-07  3.888246e-07  5.404397e-12   0.999609   \n",
       "40168      pinnarayi    1.683539e-02  3.153333e-04  8.207964e-03   0.999594   \n",
       "26802        kangesi   -6.050773e-12  7.124124e-12  1.639593e-01   0.999567   \n",
       "44622        sahvaag   -2.485862e-09  9.463469e-01 -6.812830e-08   0.999428   \n",
       "42800         ravi s   -1.002680e-04  1.247830e-09  1.259930e-04   0.999410   \n",
       "15641    exclusively    5.747886e-03  4.319551e-06 -5.123035e-03   0.999376   \n",
       "36842  nonsensitical    2.627099e-05  6.575980e-08  7.563061e-05   0.999357   \n",
       "24244      ja sachai   -5.298624e-12  0.000000e+00  9.243779e-01   0.999327   \n",
       "17386         ganeah    6.458463e-06  4.288361e-04 -1.426104e-03   0.999276   \n",
       "48321       startled   -9.245159e-13  7.718239e-11  4.414168e-07   0.999241   \n",
       "17560    gau rakshak   -1.735580e-12  7.277958e-12  3.057539e-02   0.999217   \n",
       "32223         mahraj    4.387469e-11  3.459010e-06  9.993521e-01   0.999196   \n",
       "2738             ars   -1.372579e-10  1.646917e-09  9.806408e-01   0.999191   \n",
       "33100   mason   seig    9.782131e-11  2.565452e-10 -1.999341e-13   0.999155   \n",
       "17306        gallick   -3.812699e-13  4.083117e-01 -7.845385e-07   0.999141   \n",
       "\n",
       "       Hate_yes           OAG           CAG  \n",
       "6332   0.001053  1.569968e-07  0.000000e+00  \n",
       "36027 -0.000997  1.068648e-04  9.946179e-01  \n",
       "26636  0.035410  9.999987e-01 -9.999202e-01  \n",
       "20835  0.000409  0.000000e+00  3.783693e-08  \n",
       "49190  0.000057  6.395489e-13  1.196785e-12  \n",
       "2558   0.000891 -2.796388e-10 -1.432531e-08  \n",
       "40168 -0.000017 -9.986787e-01  9.986783e-01  \n",
       "26802  0.006733  0.000000e+00 -8.368468e-09  \n",
       "44622 -0.000002  1.099253e-02 -3.006688e-03  \n",
       "42800 -0.000136  1.484208e-01 -6.395582e-03  \n",
       "15641  0.039568 -3.495350e-02 -1.196149e-02  \n",
       "36842  0.000002 -1.852498e-03 -3.691586e-01  \n",
       "24244 -0.000003  3.182004e-07  1.335574e-01  \n",
       "17386  0.163021  9.214381e-06 -1.201099e-06  \n",
       "48321  0.000019 -7.464312e-11 -2.165739e-02  \n",
       "17560  0.705143 -6.535010e-05  7.629395e-05  \n",
       "32223 -0.000055  2.026558e-06 -1.064693e-10  \n",
       "2738   0.004555  1.059871e-09  0.000000e+00  \n",
       "33100  0.004780  9.976231e-01 -9.531116e-01  \n",
       "17306 -0.002794  6.514840e-10  0.000000e+00  "
      ]
     },
     "execution_count": 100,
     "metadata": {},
     "output_type": "execute_result"
    }
   ],
   "source": [
    "words.sort_values(['Humor_yes'],ascending=[False]).head(20)"
   ]
  },
  {
   "cell_type": "code",
   "execution_count": 101,
   "metadata": {},
   "outputs": [
    {
     "data": {
      "text/html": [
       "<div>\n",
       "<style scoped>\n",
       "    .dataframe tbody tr th:only-of-type {\n",
       "        vertical-align: middle;\n",
       "    }\n",
       "\n",
       "    .dataframe tbody tr th {\n",
       "        vertical-align: top;\n",
       "    }\n",
       "\n",
       "    .dataframe thead th {\n",
       "        text-align: right;\n",
       "    }\n",
       "</style>\n",
       "<table border=\"1\" class=\"dataframe\">\n",
       "  <thead>\n",
       "    <tr style=\"text-align: right;\">\n",
       "      <th></th>\n",
       "      <th>word</th>\n",
       "      <th>Stance_against</th>\n",
       "      <th>Stance_favor</th>\n",
       "      <th>Sarcasm_yes</th>\n",
       "      <th>Humor_yes</th>\n",
       "      <th>Hate_yes</th>\n",
       "      <th>OAG</th>\n",
       "      <th>CAG</th>\n",
       "    </tr>\n",
       "  </thead>\n",
       "  <tbody>\n",
       "    <tr>\n",
       "      <th>50441</th>\n",
       "      <td>there   beautiful</td>\n",
       "      <td>1.009958e-06</td>\n",
       "      <td>2.001794e-10</td>\n",
       "      <td>1.000000</td>\n",
       "      <td>6.477218e-01</td>\n",
       "      <td>9.484552e-04</td>\n",
       "      <td>1.940578e-07</td>\n",
       "      <td>6.862504e-05</td>\n",
       "    </tr>\n",
       "    <tr>\n",
       "      <th>20092</th>\n",
       "      <td>haiedia</td>\n",
       "      <td>-3.478246e-10</td>\n",
       "      <td>4.509911e-01</td>\n",
       "      <td>0.999999</td>\n",
       "      <td>4.326063e-02</td>\n",
       "      <td>7.488851e-03</td>\n",
       "      <td>0.000000e+00</td>\n",
       "      <td>1.026680e-10</td>\n",
       "    </tr>\n",
       "    <tr>\n",
       "      <th>15807</th>\n",
       "      <td>faadu</td>\n",
       "      <td>8.542681e-02</td>\n",
       "      <td>1.828547e-02</td>\n",
       "      <td>0.999999</td>\n",
       "      <td>9.553286e-03</td>\n",
       "      <td>8.072946e-08</td>\n",
       "      <td>2.051902e-06</td>\n",
       "      <td>9.999980e-01</td>\n",
       "    </tr>\n",
       "    <tr>\n",
       "      <th>18064</th>\n",
       "      <td>ghostly</td>\n",
       "      <td>-9.503961e-12</td>\n",
       "      <td>9.999543e-01</td>\n",
       "      <td>0.999998</td>\n",
       "      <td>2.041706e-02</td>\n",
       "      <td>6.592613e-04</td>\n",
       "      <td>9.252896e-01</td>\n",
       "      <td>-4.049243e-02</td>\n",
       "    </tr>\n",
       "    <tr>\n",
       "      <th>8967</th>\n",
       "      <td>chakao</td>\n",
       "      <td>-3.288275e-09</td>\n",
       "      <td>1.092898e-14</td>\n",
       "      <td>0.999997</td>\n",
       "      <td>2.596425e-07</td>\n",
       "      <td>1.251424e-04</td>\n",
       "      <td>9.999983e-01</td>\n",
       "      <td>-9.999955e-01</td>\n",
       "    </tr>\n",
       "    <tr>\n",
       "      <th>24728</th>\n",
       "      <td>jammeh</td>\n",
       "      <td>2.844933e-09</td>\n",
       "      <td>9.655971e-01</td>\n",
       "      <td>0.999997</td>\n",
       "      <td>1.660692e-05</td>\n",
       "      <td>-7.228851e-04</td>\n",
       "      <td>-1.315228e-01</td>\n",
       "      <td>9.999963e-01</td>\n",
       "    </tr>\n",
       "    <tr>\n",
       "      <th>4146</th>\n",
       "      <td>bahgawn</td>\n",
       "      <td>-6.915060e-03</td>\n",
       "      <td>4.576895e-06</td>\n",
       "      <td>0.999997</td>\n",
       "      <td>7.811920e-01</td>\n",
       "      <td>1.465335e-01</td>\n",
       "      <td>-6.465718e-04</td>\n",
       "      <td>5.661497e-01</td>\n",
       "    </tr>\n",
       "    <tr>\n",
       "      <th>40023</th>\n",
       "      <td>pichad</td>\n",
       "      <td>-1.007373e-01</td>\n",
       "      <td>4.254075e-05</td>\n",
       "      <td>0.999996</td>\n",
       "      <td>8.650975e-03</td>\n",
       "      <td>1.817755e-04</td>\n",
       "      <td>-2.703399e-03</td>\n",
       "      <td>2.705157e-03</td>\n",
       "    </tr>\n",
       "    <tr>\n",
       "      <th>45133</th>\n",
       "      <td>samru    apni</td>\n",
       "      <td>-1.256163e-06</td>\n",
       "      <td>-2.221327e-10</td>\n",
       "      <td>0.999996</td>\n",
       "      <td>-1.359302e-02</td>\n",
       "      <td>2.559889e-02</td>\n",
       "      <td>-6.439325e-01</td>\n",
       "      <td>-4.871716e-04</td>\n",
       "    </tr>\n",
       "    <tr>\n",
       "      <th>26011</th>\n",
       "      <td>judze</td>\n",
       "      <td>1.964389e-05</td>\n",
       "      <td>2.138771e-07</td>\n",
       "      <td>0.999996</td>\n",
       "      <td>1.485934e-02</td>\n",
       "      <td>-1.366309e-05</td>\n",
       "      <td>9.207640e-08</td>\n",
       "      <td>9.999713e-01</td>\n",
       "    </tr>\n",
       "    <tr>\n",
       "      <th>18103</th>\n",
       "      <td>ghumayi</td>\n",
       "      <td>-4.294602e-10</td>\n",
       "      <td>2.934719e-11</td>\n",
       "      <td>0.999995</td>\n",
       "      <td>3.173674e-01</td>\n",
       "      <td>1.441592e-05</td>\n",
       "      <td>9.932281e-01</td>\n",
       "      <td>5.649546e-03</td>\n",
       "    </tr>\n",
       "    <tr>\n",
       "      <th>13736</th>\n",
       "      <td>dilay</td>\n",
       "      <td>-6.564265e-05</td>\n",
       "      <td>-8.379117e-12</td>\n",
       "      <td>0.999995</td>\n",
       "      <td>1.089804e-01</td>\n",
       "      <td>-1.109989e-02</td>\n",
       "      <td>-1.037671e-13</td>\n",
       "      <td>-1.473644e-06</td>\n",
       "    </tr>\n",
       "    <tr>\n",
       "      <th>26146</th>\n",
       "      <td>jvan</td>\n",
       "      <td>-9.451466e-13</td>\n",
       "      <td>-1.049049e-10</td>\n",
       "      <td>0.999994</td>\n",
       "      <td>-2.024263e-03</td>\n",
       "      <td>1.599355e-03</td>\n",
       "      <td>-1.952917e-05</td>\n",
       "      <td>3.329184e-01</td>\n",
       "    </tr>\n",
       "    <tr>\n",
       "      <th>48853</th>\n",
       "      <td>sumi</td>\n",
       "      <td>-1.077566e-05</td>\n",
       "      <td>2.164751e-01</td>\n",
       "      <td>0.999994</td>\n",
       "      <td>-1.423053e-03</td>\n",
       "      <td>-1.062108e-05</td>\n",
       "      <td>-1.501514e-05</td>\n",
       "      <td>-5.236886e-02</td>\n",
       "    </tr>\n",
       "    <tr>\n",
       "      <th>2302</th>\n",
       "      <td>anti nationalist</td>\n",
       "      <td>-9.126321e-09</td>\n",
       "      <td>9.550646e-06</td>\n",
       "      <td>0.999993</td>\n",
       "      <td>3.167772e-02</td>\n",
       "      <td>2.793163e-04</td>\n",
       "      <td>1.385723e-07</td>\n",
       "      <td>9.999989e-01</td>\n",
       "    </tr>\n",
       "    <tr>\n",
       "      <th>10090</th>\n",
       "      <td>chouki</td>\n",
       "      <td>1.549736e-07</td>\n",
       "      <td>-6.193424e-09</td>\n",
       "      <td>0.999991</td>\n",
       "      <td>2.931567e-05</td>\n",
       "      <td>-2.697076e-05</td>\n",
       "      <td>8.301062e-07</td>\n",
       "      <td>3.108561e-03</td>\n",
       "    </tr>\n",
       "    <tr>\n",
       "      <th>45661</th>\n",
       "      <td>sawed</td>\n",
       "      <td>4.918413e-07</td>\n",
       "      <td>1.297915e-12</td>\n",
       "      <td>0.999991</td>\n",
       "      <td>-1.931773e-03</td>\n",
       "      <td>-1.487881e-03</td>\n",
       "      <td>-9.279570e-01</td>\n",
       "      <td>9.279583e-01</td>\n",
       "    </tr>\n",
       "    <tr>\n",
       "      <th>46311</th>\n",
       "      <td>shadakshary</td>\n",
       "      <td>2.010461e-11</td>\n",
       "      <td>6.402836e-07</td>\n",
       "      <td>0.999990</td>\n",
       "      <td>3.345511e-01</td>\n",
       "      <td>6.842179e-07</td>\n",
       "      <td>-9.999999e-01</td>\n",
       "      <td>-8.088795e-16</td>\n",
       "    </tr>\n",
       "    <tr>\n",
       "      <th>8553</th>\n",
       "      <td>cassa</td>\n",
       "      <td>1.942149e-04</td>\n",
       "      <td>1.528524e-04</td>\n",
       "      <td>0.999990</td>\n",
       "      <td>2.127340e-01</td>\n",
       "      <td>-8.952022e-04</td>\n",
       "      <td>-3.620386e-04</td>\n",
       "      <td>3.620870e-04</td>\n",
       "    </tr>\n",
       "    <tr>\n",
       "      <th>37220</th>\n",
       "      <td>ojas</td>\n",
       "      <td>6.544846e-10</td>\n",
       "      <td>4.313737e-07</td>\n",
       "      <td>0.999990</td>\n",
       "      <td>2.728135e-02</td>\n",
       "      <td>-1.444806e-04</td>\n",
       "      <td>4.510388e-05</td>\n",
       "      <td>9.894440e-01</td>\n",
       "    </tr>\n",
       "  </tbody>\n",
       "</table>\n",
       "</div>"
      ],
      "text/plain": [
       "                    word  Stance_against  Stance_favor  Sarcasm_yes  \\\n",
       "50441  there   beautiful    1.009958e-06  2.001794e-10     1.000000   \n",
       "20092            haiedia   -3.478246e-10  4.509911e-01     0.999999   \n",
       "15807              faadu    8.542681e-02  1.828547e-02     0.999999   \n",
       "18064            ghostly   -9.503961e-12  9.999543e-01     0.999998   \n",
       "8967              chakao   -3.288275e-09  1.092898e-14     0.999997   \n",
       "24728             jammeh    2.844933e-09  9.655971e-01     0.999997   \n",
       "4146             bahgawn   -6.915060e-03  4.576895e-06     0.999997   \n",
       "40023             pichad   -1.007373e-01  4.254075e-05     0.999996   \n",
       "45133      samru    apni   -1.256163e-06 -2.221327e-10     0.999996   \n",
       "26011              judze    1.964389e-05  2.138771e-07     0.999996   \n",
       "18103            ghumayi   -4.294602e-10  2.934719e-11     0.999995   \n",
       "13736              dilay   -6.564265e-05 -8.379117e-12     0.999995   \n",
       "26146               jvan   -9.451466e-13 -1.049049e-10     0.999994   \n",
       "48853               sumi   -1.077566e-05  2.164751e-01     0.999994   \n",
       "2302    anti nationalist   -9.126321e-09  9.550646e-06     0.999993   \n",
       "10090             chouki    1.549736e-07 -6.193424e-09     0.999991   \n",
       "45661              sawed    4.918413e-07  1.297915e-12     0.999991   \n",
       "46311        shadakshary    2.010461e-11  6.402836e-07     0.999990   \n",
       "8553               cassa    1.942149e-04  1.528524e-04     0.999990   \n",
       "37220               ojas    6.544846e-10  4.313737e-07     0.999990   \n",
       "\n",
       "          Humor_yes      Hate_yes           OAG           CAG  \n",
       "50441  6.477218e-01  9.484552e-04  1.940578e-07  6.862504e-05  \n",
       "20092  4.326063e-02  7.488851e-03  0.000000e+00  1.026680e-10  \n",
       "15807  9.553286e-03  8.072946e-08  2.051902e-06  9.999980e-01  \n",
       "18064  2.041706e-02  6.592613e-04  9.252896e-01 -4.049243e-02  \n",
       "8967   2.596425e-07  1.251424e-04  9.999983e-01 -9.999955e-01  \n",
       "24728  1.660692e-05 -7.228851e-04 -1.315228e-01  9.999963e-01  \n",
       "4146   7.811920e-01  1.465335e-01 -6.465718e-04  5.661497e-01  \n",
       "40023  8.650975e-03  1.817755e-04 -2.703399e-03  2.705157e-03  \n",
       "45133 -1.359302e-02  2.559889e-02 -6.439325e-01 -4.871716e-04  \n",
       "26011  1.485934e-02 -1.366309e-05  9.207640e-08  9.999713e-01  \n",
       "18103  3.173674e-01  1.441592e-05  9.932281e-01  5.649546e-03  \n",
       "13736  1.089804e-01 -1.109989e-02 -1.037671e-13 -1.473644e-06  \n",
       "26146 -2.024263e-03  1.599355e-03 -1.952917e-05  3.329184e-01  \n",
       "48853 -1.423053e-03 -1.062108e-05 -1.501514e-05 -5.236886e-02  \n",
       "2302   3.167772e-02  2.793163e-04  1.385723e-07  9.999989e-01  \n",
       "10090  2.931567e-05 -2.697076e-05  8.301062e-07  3.108561e-03  \n",
       "45661 -1.931773e-03 -1.487881e-03 -9.279570e-01  9.279583e-01  \n",
       "46311  3.345511e-01  6.842179e-07 -9.999999e-01 -8.088795e-16  \n",
       "8553   2.127340e-01 -8.952022e-04 -3.620386e-04  3.620870e-04  \n",
       "37220  2.728135e-02 -1.444806e-04  4.510388e-05  9.894440e-01  "
      ]
     },
     "execution_count": 101,
     "metadata": {},
     "output_type": "execute_result"
    }
   ],
   "source": [
    "words.sort_values(['Sarcasm_yes'],ascending=[False]).head(20)"
   ]
  },
  {
   "cell_type": "code",
   "execution_count": 102,
   "metadata": {},
   "outputs": [
    {
     "data": {
      "text/html": [
       "<div>\n",
       "<style scoped>\n",
       "    .dataframe tbody tr th:only-of-type {\n",
       "        vertical-align: middle;\n",
       "    }\n",
       "\n",
       "    .dataframe tbody tr th {\n",
       "        vertical-align: top;\n",
       "    }\n",
       "\n",
       "    .dataframe thead th {\n",
       "        text-align: right;\n",
       "    }\n",
       "</style>\n",
       "<table border=\"1\" class=\"dataframe\">\n",
       "  <thead>\n",
       "    <tr style=\"text-align: right;\">\n",
       "      <th></th>\n",
       "      <th>word</th>\n",
       "      <th>Stance_against</th>\n",
       "      <th>Stance_favor</th>\n",
       "      <th>Sarcasm_yes</th>\n",
       "      <th>Humor_yes</th>\n",
       "      <th>Hate_yes</th>\n",
       "      <th>OAG</th>\n",
       "      <th>CAG</th>\n",
       "    </tr>\n",
       "  </thead>\n",
       "  <tbody>\n",
       "    <tr>\n",
       "      <th>3498</th>\n",
       "      <td>azdi</td>\n",
       "      <td>1.000000</td>\n",
       "      <td>-1.000000e+00</td>\n",
       "      <td>-2.421660e-04</td>\n",
       "      <td>0.278356</td>\n",
       "      <td>0.011667</td>\n",
       "      <td>-1.880014e-04</td>\n",
       "      <td>1.620507e-02</td>\n",
       "    </tr>\n",
       "    <tr>\n",
       "      <th>16030</th>\n",
       "      <td>fanko</td>\n",
       "      <td>1.000000</td>\n",
       "      <td>-1.270864e-08</td>\n",
       "      <td>-6.724000e-04</td>\n",
       "      <td>0.035267</td>\n",
       "      <td>-0.000718</td>\n",
       "      <td>9.653568e-04</td>\n",
       "      <td>-9.643054e-04</td>\n",
       "    </tr>\n",
       "    <tr>\n",
       "      <th>8062</th>\n",
       "      <td>bujhaa</td>\n",
       "      <td>1.000000</td>\n",
       "      <td>4.515497e-10</td>\n",
       "      <td>9.851276e-01</td>\n",
       "      <td>-0.000004</td>\n",
       "      <td>0.000008</td>\n",
       "      <td>3.850460e-05</td>\n",
       "      <td>-3.775027e-05</td>\n",
       "    </tr>\n",
       "    <tr>\n",
       "      <th>19370</th>\n",
       "      <td>hahahaah</td>\n",
       "      <td>1.000000</td>\n",
       "      <td>-1.240064e-09</td>\n",
       "      <td>3.392848e-06</td>\n",
       "      <td>-0.155855</td>\n",
       "      <td>0.015650</td>\n",
       "      <td>-1.549721e-06</td>\n",
       "      <td>1.753732e-06</td>\n",
       "    </tr>\n",
       "    <tr>\n",
       "      <th>39710</th>\n",
       "      <td>pic twitter com bzvffihcqk</td>\n",
       "      <td>1.000000</td>\n",
       "      <td>-5.108659e-12</td>\n",
       "      <td>-1.889270e-14</td>\n",
       "      <td>0.001065</td>\n",
       "      <td>-0.000156</td>\n",
       "      <td>5.935629e-10</td>\n",
       "      <td>2.861023e-06</td>\n",
       "    </tr>\n",
       "    <tr>\n",
       "      <th>6042</th>\n",
       "      <td>bhagwant</td>\n",
       "      <td>0.999999</td>\n",
       "      <td>-9.816459e-01</td>\n",
       "      <td>-9.500980e-05</td>\n",
       "      <td>-0.002465</td>\n",
       "      <td>0.000003</td>\n",
       "      <td>-7.198257e-06</td>\n",
       "      <td>2.181530e-05</td>\n",
       "    </tr>\n",
       "    <tr>\n",
       "      <th>16655</th>\n",
       "      <td>foaj</td>\n",
       "      <td>0.999998</td>\n",
       "      <td>-6.033534e-11</td>\n",
       "      <td>1.017822e-12</td>\n",
       "      <td>0.000031</td>\n",
       "      <td>-0.000030</td>\n",
       "      <td>5.912781e-05</td>\n",
       "      <td>-1.493664e-07</td>\n",
       "    </tr>\n",
       "    <tr>\n",
       "      <th>3442</th>\n",
       "      <td>ayegi ptrol</td>\n",
       "      <td>0.999998</td>\n",
       "      <td>-6.281863e-07</td>\n",
       "      <td>2.247287e-04</td>\n",
       "      <td>0.082257</td>\n",
       "      <td>0.572414</td>\n",
       "      <td>-5.994663e-05</td>\n",
       "      <td>-1.492802e-02</td>\n",
       "    </tr>\n",
       "    <tr>\n",
       "      <th>55012</th>\n",
       "      <td>yaayyyyeeee</td>\n",
       "      <td>0.999995</td>\n",
       "      <td>-3.037054e-09</td>\n",
       "      <td>-3.362429e-07</td>\n",
       "      <td>0.998239</td>\n",
       "      <td>0.001145</td>\n",
       "      <td>-1.092837e-02</td>\n",
       "      <td>-8.246280e-03</td>\n",
       "    </tr>\n",
       "    <tr>\n",
       "      <th>49430</th>\n",
       "      <td>tainshan</td>\n",
       "      <td>0.999992</td>\n",
       "      <td>-1.887466e-08</td>\n",
       "      <td>5.791468e-03</td>\n",
       "      <td>-0.007416</td>\n",
       "      <td>-0.289705</td>\n",
       "      <td>-1.001494e-03</td>\n",
       "      <td>-9.689611e-01</td>\n",
       "    </tr>\n",
       "    <tr>\n",
       "      <th>26440</th>\n",
       "      <td>kafoor</td>\n",
       "      <td>0.999992</td>\n",
       "      <td>-1.138618e-08</td>\n",
       "      <td>1.323223e-05</td>\n",
       "      <td>0.005210</td>\n",
       "      <td>-0.080325</td>\n",
       "      <td>2.863639e-01</td>\n",
       "      <td>-9.036788e-04</td>\n",
       "    </tr>\n",
       "    <tr>\n",
       "      <th>51915</th>\n",
       "      <td>twitter com malrymx</td>\n",
       "      <td>0.999991</td>\n",
       "      <td>-2.390638e-08</td>\n",
       "      <td>-9.942167e-01</td>\n",
       "      <td>-0.004597</td>\n",
       "      <td>0.502859</td>\n",
       "      <td>-1.021474e-04</td>\n",
       "      <td>1.577487e-05</td>\n",
       "    </tr>\n",
       "    <tr>\n",
       "      <th>4448</th>\n",
       "      <td>balloon</td>\n",
       "      <td>0.999988</td>\n",
       "      <td>-9.822853e-09</td>\n",
       "      <td>-2.971001e-05</td>\n",
       "      <td>-0.550143</td>\n",
       "      <td>-0.000053</td>\n",
       "      <td>4.081130e-04</td>\n",
       "      <td>-5.982002e-05</td>\n",
       "    </tr>\n",
       "    <tr>\n",
       "      <th>24877</th>\n",
       "      <td>jao  pic twitter com twjdurjhxa</td>\n",
       "      <td>0.999986</td>\n",
       "      <td>-1.643531e-11</td>\n",
       "      <td>-4.309028e-10</td>\n",
       "      <td>0.000273</td>\n",
       "      <td>-0.352803</td>\n",
       "      <td>6.834044e-12</td>\n",
       "      <td>1.466364e-08</td>\n",
       "    </tr>\n",
       "    <tr>\n",
       "      <th>16785</th>\n",
       "      <td>formation</td>\n",
       "      <td>0.999986</td>\n",
       "      <td>-2.264659e-01</td>\n",
       "      <td>9.554013e-06</td>\n",
       "      <td>0.001692</td>\n",
       "      <td>0.004599</td>\n",
       "      <td>-5.824921e-03</td>\n",
       "      <td>-3.819748e-01</td>\n",
       "    </tr>\n",
       "    <tr>\n",
       "      <th>17479</th>\n",
       "      <td>garenti</td>\n",
       "      <td>0.999984</td>\n",
       "      <td>4.559158e-06</td>\n",
       "      <td>-1.981183e-07</td>\n",
       "      <td>0.987602</td>\n",
       "      <td>0.585279</td>\n",
       "      <td>2.203352e-12</td>\n",
       "      <td>1.185064e-09</td>\n",
       "    </tr>\n",
       "    <tr>\n",
       "      <th>17075</th>\n",
       "      <td>g    sach</td>\n",
       "      <td>0.999982</td>\n",
       "      <td>4.642041e-09</td>\n",
       "      <td>4.968047e-04</td>\n",
       "      <td>0.002968</td>\n",
       "      <td>0.785729</td>\n",
       "      <td>1.979895e-03</td>\n",
       "      <td>-1.979887e-03</td>\n",
       "    </tr>\n",
       "    <tr>\n",
       "      <th>36473</th>\n",
       "      <td>nigambahdwa</td>\n",
       "      <td>0.999981</td>\n",
       "      <td>-7.257663e-01</td>\n",
       "      <td>4.437710e-08</td>\n",
       "      <td>-0.000011</td>\n",
       "      <td>0.000010</td>\n",
       "      <td>4.031420e-03</td>\n",
       "      <td>-4.031501e-03</td>\n",
       "    </tr>\n",
       "    <tr>\n",
       "      <th>5131</th>\n",
       "      <td>batorna</td>\n",
       "      <td>0.999979</td>\n",
       "      <td>-5.110892e-07</td>\n",
       "      <td>6.607318e-08</td>\n",
       "      <td>0.000031</td>\n",
       "      <td>0.000128</td>\n",
       "      <td>2.684057e-03</td>\n",
       "      <td>-2.684059e-03</td>\n",
       "    </tr>\n",
       "    <tr>\n",
       "      <th>9800</th>\n",
       "      <td>chiraag</td>\n",
       "      <td>0.999978</td>\n",
       "      <td>-1.378409e-06</td>\n",
       "      <td>6.282571e-14</td>\n",
       "      <td>0.010800</td>\n",
       "      <td>0.000022</td>\n",
       "      <td>4.698300e-07</td>\n",
       "      <td>9.904639e-01</td>\n",
       "    </tr>\n",
       "  </tbody>\n",
       "</table>\n",
       "</div>"
      ],
      "text/plain": [
       "                                  word  Stance_against  Stance_favor  \\\n",
       "3498                              azdi        1.000000 -1.000000e+00   \n",
       "16030                            fanko        1.000000 -1.270864e-08   \n",
       "8062                            bujhaa        1.000000  4.515497e-10   \n",
       "19370                         hahahaah        1.000000 -1.240064e-09   \n",
       "39710       pic twitter com bzvffihcqk        1.000000 -5.108659e-12   \n",
       "6042                          bhagwant        0.999999 -9.816459e-01   \n",
       "16655                             foaj        0.999998 -6.033534e-11   \n",
       "3442                       ayegi ptrol        0.999998 -6.281863e-07   \n",
       "55012                      yaayyyyeeee        0.999995 -3.037054e-09   \n",
       "49430                         tainshan        0.999992 -1.887466e-08   \n",
       "26440                           kafoor        0.999992 -1.138618e-08   \n",
       "51915              twitter com malrymx        0.999991 -2.390638e-08   \n",
       "4448                           balloon        0.999988 -9.822853e-09   \n",
       "24877  jao  pic twitter com twjdurjhxa        0.999986 -1.643531e-11   \n",
       "16785                        formation        0.999986 -2.264659e-01   \n",
       "17479                          garenti        0.999984  4.559158e-06   \n",
       "17075                        g    sach        0.999982  4.642041e-09   \n",
       "36473                      nigambahdwa        0.999981 -7.257663e-01   \n",
       "5131                           batorna        0.999979 -5.110892e-07   \n",
       "9800                           chiraag        0.999978 -1.378409e-06   \n",
       "\n",
       "        Sarcasm_yes  Humor_yes  Hate_yes           OAG           CAG  \n",
       "3498  -2.421660e-04   0.278356  0.011667 -1.880014e-04  1.620507e-02  \n",
       "16030 -6.724000e-04   0.035267 -0.000718  9.653568e-04 -9.643054e-04  \n",
       "8062   9.851276e-01  -0.000004  0.000008  3.850460e-05 -3.775027e-05  \n",
       "19370  3.392848e-06  -0.155855  0.015650 -1.549721e-06  1.753732e-06  \n",
       "39710 -1.889270e-14   0.001065 -0.000156  5.935629e-10  2.861023e-06  \n",
       "6042  -9.500980e-05  -0.002465  0.000003 -7.198257e-06  2.181530e-05  \n",
       "16655  1.017822e-12   0.000031 -0.000030  5.912781e-05 -1.493664e-07  \n",
       "3442   2.247287e-04   0.082257  0.572414 -5.994663e-05 -1.492802e-02  \n",
       "55012 -3.362429e-07   0.998239  0.001145 -1.092837e-02 -8.246280e-03  \n",
       "49430  5.791468e-03  -0.007416 -0.289705 -1.001494e-03 -9.689611e-01  \n",
       "26440  1.323223e-05   0.005210 -0.080325  2.863639e-01 -9.036788e-04  \n",
       "51915 -9.942167e-01  -0.004597  0.502859 -1.021474e-04  1.577487e-05  \n",
       "4448  -2.971001e-05  -0.550143 -0.000053  4.081130e-04 -5.982002e-05  \n",
       "24877 -4.309028e-10   0.000273 -0.352803  6.834044e-12  1.466364e-08  \n",
       "16785  9.554013e-06   0.001692  0.004599 -5.824921e-03 -3.819748e-01  \n",
       "17479 -1.981183e-07   0.987602  0.585279  2.203352e-12  1.185064e-09  \n",
       "17075  4.968047e-04   0.002968  0.785729  1.979895e-03 -1.979887e-03  \n",
       "36473  4.437710e-08  -0.000011  0.000010  4.031420e-03 -4.031501e-03  \n",
       "5131   6.607318e-08   0.000031  0.000128  2.684057e-03 -2.684059e-03  \n",
       "9800   6.282571e-14   0.010800  0.000022  4.698300e-07  9.904639e-01  "
      ]
     },
     "execution_count": 102,
     "metadata": {},
     "output_type": "execute_result"
    }
   ],
   "source": [
    "words.sort_values(['Stance_against'],ascending=[False]).head(20)"
   ]
  },
  {
   "cell_type": "code",
   "execution_count": 103,
   "metadata": {},
   "outputs": [
    {
     "data": {
      "text/html": [
       "<div>\n",
       "<style scoped>\n",
       "    .dataframe tbody tr th:only-of-type {\n",
       "        vertical-align: middle;\n",
       "    }\n",
       "\n",
       "    .dataframe tbody tr th {\n",
       "        vertical-align: top;\n",
       "    }\n",
       "\n",
       "    .dataframe thead th {\n",
       "        text-align: right;\n",
       "    }\n",
       "</style>\n",
       "<table border=\"1\" class=\"dataframe\">\n",
       "  <thead>\n",
       "    <tr style=\"text-align: right;\">\n",
       "      <th></th>\n",
       "      <th>word</th>\n",
       "      <th>Stance_against</th>\n",
       "      <th>Stance_favor</th>\n",
       "      <th>Sarcasm_yes</th>\n",
       "      <th>Humor_yes</th>\n",
       "      <th>Hate_yes</th>\n",
       "      <th>OAG</th>\n",
       "      <th>CAG</th>\n",
       "    </tr>\n",
       "  </thead>\n",
       "  <tbody>\n",
       "    <tr>\n",
       "      <th>39429</th>\n",
       "      <td>pgogo</td>\n",
       "      <td>-1.215859e-09</td>\n",
       "      <td>1.000000</td>\n",
       "      <td>-3.482317e-14</td>\n",
       "      <td>0.046908</td>\n",
       "      <td>4.159781e-05</td>\n",
       "      <td>-9.982665e-01</td>\n",
       "      <td>9.992929e-01</td>\n",
       "    </tr>\n",
       "    <tr>\n",
       "      <th>1970</th>\n",
       "      <td>amusing</td>\n",
       "      <td>-4.064187e-08</td>\n",
       "      <td>1.000000</td>\n",
       "      <td>-9.460330e-03</td>\n",
       "      <td>-0.000037</td>\n",
       "      <td>-1.743784e-03</td>\n",
       "      <td>-5.845071e-04</td>\n",
       "      <td>6.721020e-04</td>\n",
       "    </tr>\n",
       "    <tr>\n",
       "      <th>36249</th>\n",
       "      <td>nehruvian</td>\n",
       "      <td>-1.180493e-10</td>\n",
       "      <td>1.000000</td>\n",
       "      <td>2.286398e-01</td>\n",
       "      <td>0.000567</td>\n",
       "      <td>2.028421e-02</td>\n",
       "      <td>9.991288e-01</td>\n",
       "      <td>-9.991289e-01</td>\n",
       "    </tr>\n",
       "    <tr>\n",
       "      <th>31732</th>\n",
       "      <td>m a</td>\n",
       "      <td>-1.106094e-03</td>\n",
       "      <td>1.000000</td>\n",
       "      <td>3.576279e-07</td>\n",
       "      <td>0.000015</td>\n",
       "      <td>-3.300066e-03</td>\n",
       "      <td>-5.411931e-08</td>\n",
       "      <td>-2.614429e-09</td>\n",
       "    </tr>\n",
       "    <tr>\n",
       "      <th>29474</th>\n",
       "      <td>krishh</td>\n",
       "      <td>-7.061061e-06</td>\n",
       "      <td>1.000000</td>\n",
       "      <td>4.853618e-02</td>\n",
       "      <td>-0.000002</td>\n",
       "      <td>3.777676e-03</td>\n",
       "      <td>7.713566e-01</td>\n",
       "      <td>-7.713566e-01</td>\n",
       "    </tr>\n",
       "    <tr>\n",
       "      <th>810</th>\n",
       "      <td>accommodated</td>\n",
       "      <td>-1.955274e-12</td>\n",
       "      <td>1.000000</td>\n",
       "      <td>-9.080008e-01</td>\n",
       "      <td>0.001011</td>\n",
       "      <td>-1.253486e-04</td>\n",
       "      <td>-1.960008e-08</td>\n",
       "      <td>-4.813668e-09</td>\n",
       "    </tr>\n",
       "    <tr>\n",
       "      <th>34759</th>\n",
       "      <td>msst</td>\n",
       "      <td>-9.945469e-12</td>\n",
       "      <td>1.000000</td>\n",
       "      <td>5.102381e-07</td>\n",
       "      <td>0.000002</td>\n",
       "      <td>1.344645e-07</td>\n",
       "      <td>-4.629910e-03</td>\n",
       "      <td>-1.605047e-01</td>\n",
       "    </tr>\n",
       "    <tr>\n",
       "      <th>16637</th>\n",
       "      <td>flowing</td>\n",
       "      <td>-7.762918e-07</td>\n",
       "      <td>1.000000</td>\n",
       "      <td>5.345036e-01</td>\n",
       "      <td>0.000104</td>\n",
       "      <td>-4.877056e-03</td>\n",
       "      <td>-2.038614e-08</td>\n",
       "      <td>-8.838838e-05</td>\n",
       "    </tr>\n",
       "    <tr>\n",
       "      <th>55144</th>\n",
       "      <td>yeahhhhh</td>\n",
       "      <td>-6.734850e-10</td>\n",
       "      <td>1.000000</td>\n",
       "      <td>-4.793490e-08</td>\n",
       "      <td>0.005808</td>\n",
       "      <td>2.363316e-05</td>\n",
       "      <td>1.174688e-08</td>\n",
       "      <td>8.743176e-08</td>\n",
       "    </tr>\n",
       "    <tr>\n",
       "      <th>11567</th>\n",
       "      <td>crystal</td>\n",
       "      <td>-9.999998e-01</td>\n",
       "      <td>1.000000</td>\n",
       "      <td>-1.006201e-09</td>\n",
       "      <td>0.000398</td>\n",
       "      <td>-8.234979e-04</td>\n",
       "      <td>-4.614295e-09</td>\n",
       "      <td>-2.717311e-06</td>\n",
       "    </tr>\n",
       "    <tr>\n",
       "      <th>54087</th>\n",
       "      <td>wahguru</td>\n",
       "      <td>-2.133700e-13</td>\n",
       "      <td>1.000000</td>\n",
       "      <td>-7.768259e-08</td>\n",
       "      <td>-0.000587</td>\n",
       "      <td>8.975989e-06</td>\n",
       "      <td>7.701722e-12</td>\n",
       "      <td>1.243978e-08</td>\n",
       "    </tr>\n",
       "    <tr>\n",
       "      <th>20703</th>\n",
       "      <td>hastag</td>\n",
       "      <td>-7.471131e-10</td>\n",
       "      <td>1.000000</td>\n",
       "      <td>-2.121427e-12</td>\n",
       "      <td>0.272835</td>\n",
       "      <td>-9.446515e-05</td>\n",
       "      <td>-5.659600e-01</td>\n",
       "      <td>5.659593e-01</td>\n",
       "    </tr>\n",
       "    <tr>\n",
       "      <th>825</th>\n",
       "      <td>accross</td>\n",
       "      <td>-9.999997e-01</td>\n",
       "      <td>1.000000</td>\n",
       "      <td>1.499251e-09</td>\n",
       "      <td>0.292311</td>\n",
       "      <td>-7.901926e-05</td>\n",
       "      <td>2.944469e-05</td>\n",
       "      <td>-2.943023e-05</td>\n",
       "    </tr>\n",
       "    <tr>\n",
       "      <th>11506</th>\n",
       "      <td>crocodile s</td>\n",
       "      <td>-6.381613e-07</td>\n",
       "      <td>1.000000</td>\n",
       "      <td>-3.506220e-07</td>\n",
       "      <td>0.000388</td>\n",
       "      <td>-2.177229e-08</td>\n",
       "      <td>1.553733e-01</td>\n",
       "      <td>-1.534952e-03</td>\n",
       "    </tr>\n",
       "    <tr>\n",
       "      <th>38406</th>\n",
       "      <td>pappi</td>\n",
       "      <td>-6.364295e-09</td>\n",
       "      <td>0.999999</td>\n",
       "      <td>-9.946105e-08</td>\n",
       "      <td>-0.000010</td>\n",
       "      <td>6.224135e-06</td>\n",
       "      <td>-1.040589e-05</td>\n",
       "      <td>9.973387e-01</td>\n",
       "    </tr>\n",
       "    <tr>\n",
       "      <th>16016</th>\n",
       "      <td>family s</td>\n",
       "      <td>5.004340e-09</td>\n",
       "      <td>0.999999</td>\n",
       "      <td>9.043048e-07</td>\n",
       "      <td>0.000006</td>\n",
       "      <td>-4.437198e-03</td>\n",
       "      <td>-5.303806e-06</td>\n",
       "      <td>-5.481025e-03</td>\n",
       "    </tr>\n",
       "    <tr>\n",
       "      <th>6229</th>\n",
       "      <td>bhangra</td>\n",
       "      <td>-9.901953e-01</td>\n",
       "      <td>0.999999</td>\n",
       "      <td>-9.263083e-01</td>\n",
       "      <td>-0.011194</td>\n",
       "      <td>-1.066122e-04</td>\n",
       "      <td>1.658195e-11</td>\n",
       "      <td>9.999979e-01</td>\n",
       "    </tr>\n",
       "    <tr>\n",
       "      <th>13810</th>\n",
       "      <td>dingra</td>\n",
       "      <td>-5.817224e-10</td>\n",
       "      <td>0.999999</td>\n",
       "      <td>1.147195e-01</td>\n",
       "      <td>0.001644</td>\n",
       "      <td>-1.725323e-04</td>\n",
       "      <td>-6.574365e-06</td>\n",
       "      <td>-3.019164e-04</td>\n",
       "    </tr>\n",
       "    <tr>\n",
       "      <th>51348</th>\n",
       "      <td>trop</td>\n",
       "      <td>-5.396334e-10</td>\n",
       "      <td>0.999999</td>\n",
       "      <td>-2.017932e-07</td>\n",
       "      <td>0.000002</td>\n",
       "      <td>-1.410461e-06</td>\n",
       "      <td>7.689237e-07</td>\n",
       "      <td>8.709634e-01</td>\n",
       "    </tr>\n",
       "    <tr>\n",
       "      <th>41293</th>\n",
       "      <td>proof ulta</td>\n",
       "      <td>-1.822258e-09</td>\n",
       "      <td>0.999999</td>\n",
       "      <td>-8.463860e-06</td>\n",
       "      <td>-0.000046</td>\n",
       "      <td>5.715668e-02</td>\n",
       "      <td>-1.725562e-06</td>\n",
       "      <td>1.668930e-06</td>\n",
       "    </tr>\n",
       "  </tbody>\n",
       "</table>\n",
       "</div>"
      ],
      "text/plain": [
       "               word  Stance_against  Stance_favor   Sarcasm_yes  Humor_yes  \\\n",
       "39429         pgogo   -1.215859e-09      1.000000 -3.482317e-14   0.046908   \n",
       "1970        amusing   -4.064187e-08      1.000000 -9.460330e-03  -0.000037   \n",
       "36249     nehruvian   -1.180493e-10      1.000000  2.286398e-01   0.000567   \n",
       "31732           m a   -1.106094e-03      1.000000  3.576279e-07   0.000015   \n",
       "29474        krishh   -7.061061e-06      1.000000  4.853618e-02  -0.000002   \n",
       "810    accommodated   -1.955274e-12      1.000000 -9.080008e-01   0.001011   \n",
       "34759          msst   -9.945469e-12      1.000000  5.102381e-07   0.000002   \n",
       "16637       flowing   -7.762918e-07      1.000000  5.345036e-01   0.000104   \n",
       "55144      yeahhhhh   -6.734850e-10      1.000000 -4.793490e-08   0.005808   \n",
       "11567       crystal   -9.999998e-01      1.000000 -1.006201e-09   0.000398   \n",
       "54087       wahguru   -2.133700e-13      1.000000 -7.768259e-08  -0.000587   \n",
       "20703        hastag   -7.471131e-10      1.000000 -2.121427e-12   0.272835   \n",
       "825         accross   -9.999997e-01      1.000000  1.499251e-09   0.292311   \n",
       "11506   crocodile s   -6.381613e-07      1.000000 -3.506220e-07   0.000388   \n",
       "38406         pappi   -6.364295e-09      0.999999 -9.946105e-08  -0.000010   \n",
       "16016      family s    5.004340e-09      0.999999  9.043048e-07   0.000006   \n",
       "6229        bhangra   -9.901953e-01      0.999999 -9.263083e-01  -0.011194   \n",
       "13810        dingra   -5.817224e-10      0.999999  1.147195e-01   0.001644   \n",
       "51348          trop   -5.396334e-10      0.999999 -2.017932e-07   0.000002   \n",
       "41293    proof ulta   -1.822258e-09      0.999999 -8.463860e-06  -0.000046   \n",
       "\n",
       "           Hate_yes           OAG           CAG  \n",
       "39429  4.159781e-05 -9.982665e-01  9.992929e-01  \n",
       "1970  -1.743784e-03 -5.845071e-04  6.721020e-04  \n",
       "36249  2.028421e-02  9.991288e-01 -9.991289e-01  \n",
       "31732 -3.300066e-03 -5.411931e-08 -2.614429e-09  \n",
       "29474  3.777676e-03  7.713566e-01 -7.713566e-01  \n",
       "810   -1.253486e-04 -1.960008e-08 -4.813668e-09  \n",
       "34759  1.344645e-07 -4.629910e-03 -1.605047e-01  \n",
       "16637 -4.877056e-03 -2.038614e-08 -8.838838e-05  \n",
       "55144  2.363316e-05  1.174688e-08  8.743176e-08  \n",
       "11567 -8.234979e-04 -4.614295e-09 -2.717311e-06  \n",
       "54087  8.975989e-06  7.701722e-12  1.243978e-08  \n",
       "20703 -9.446515e-05 -5.659600e-01  5.659593e-01  \n",
       "825   -7.901926e-05  2.944469e-05 -2.943023e-05  \n",
       "11506 -2.177229e-08  1.553733e-01 -1.534952e-03  \n",
       "38406  6.224135e-06 -1.040589e-05  9.973387e-01  \n",
       "16016 -4.437198e-03 -5.303806e-06 -5.481025e-03  \n",
       "6229  -1.066122e-04  1.658195e-11  9.999979e-01  \n",
       "13810 -1.725323e-04 -6.574365e-06 -3.019164e-04  \n",
       "51348 -1.410461e-06  7.689237e-07  8.709634e-01  \n",
       "41293  5.715668e-02 -1.725562e-06  1.668930e-06  "
      ]
     },
     "execution_count": 103,
     "metadata": {},
     "output_type": "execute_result"
    }
   ],
   "source": [
    "words.sort_values(['Stance_favor'],ascending=[False]).head(20)"
   ]
  },
  {
   "cell_type": "code",
   "execution_count": 81,
   "metadata": {},
   "outputs": [
    {
     "data": {
      "text/html": [
       "<div>\n",
       "<style scoped>\n",
       "    .dataframe tbody tr th:only-of-type {\n",
       "        vertical-align: middle;\n",
       "    }\n",
       "\n",
       "    .dataframe tbody tr th {\n",
       "        vertical-align: top;\n",
       "    }\n",
       "\n",
       "    .dataframe thead th {\n",
       "        text-align: right;\n",
       "    }\n",
       "</style>\n",
       "<table border=\"1\" class=\"dataframe\">\n",
       "  <thead>\n",
       "    <tr style=\"text-align: right;\">\n",
       "      <th></th>\n",
       "      <th>Stance_against</th>\n",
       "      <th>Stance_favor</th>\n",
       "      <th>Sarcasm_yes</th>\n",
       "      <th>Humor_yes</th>\n",
       "      <th>Hate_yes</th>\n",
       "      <th>OAG</th>\n",
       "      <th>CAG</th>\n",
       "    </tr>\n",
       "  </thead>\n",
       "  <tbody>\n",
       "    <tr>\n",
       "      <th>Stance_against</th>\n",
       "      <td>1.000000</td>\n",
       "      <td>0.144664</td>\n",
       "      <td>0.213887</td>\n",
       "      <td>0.209333</td>\n",
       "      <td>0.233066</td>\n",
       "      <td>0.221398</td>\n",
       "      <td>0.239890</td>\n",
       "    </tr>\n",
       "    <tr>\n",
       "      <th>Stance_favor</th>\n",
       "      <td>0.144664</td>\n",
       "      <td>1.000000</td>\n",
       "      <td>0.208227</td>\n",
       "      <td>0.206836</td>\n",
       "      <td>0.209031</td>\n",
       "      <td>0.220179</td>\n",
       "      <td>0.230797</td>\n",
       "    </tr>\n",
       "    <tr>\n",
       "      <th>Sarcasm_yes</th>\n",
       "      <td>0.213887</td>\n",
       "      <td>0.208227</td>\n",
       "      <td>1.000000</td>\n",
       "      <td>0.222672</td>\n",
       "      <td>0.220030</td>\n",
       "      <td>0.231241</td>\n",
       "      <td>0.256329</td>\n",
       "    </tr>\n",
       "    <tr>\n",
       "      <th>Humor_yes</th>\n",
       "      <td>0.209333</td>\n",
       "      <td>0.206836</td>\n",
       "      <td>0.222672</td>\n",
       "      <td>1.000000</td>\n",
       "      <td>0.218407</td>\n",
       "      <td>0.225439</td>\n",
       "      <td>0.248056</td>\n",
       "    </tr>\n",
       "    <tr>\n",
       "      <th>Hate_yes</th>\n",
       "      <td>0.233066</td>\n",
       "      <td>0.209031</td>\n",
       "      <td>0.220030</td>\n",
       "      <td>0.218407</td>\n",
       "      <td>1.000000</td>\n",
       "      <td>0.232979</td>\n",
       "      <td>0.234713</td>\n",
       "    </tr>\n",
       "    <tr>\n",
       "      <th>OAG</th>\n",
       "      <td>0.221398</td>\n",
       "      <td>0.220179</td>\n",
       "      <td>0.231241</td>\n",
       "      <td>0.225439</td>\n",
       "      <td>0.232979</td>\n",
       "      <td>1.000000</td>\n",
       "      <td>-0.066650</td>\n",
       "    </tr>\n",
       "    <tr>\n",
       "      <th>CAG</th>\n",
       "      <td>0.239890</td>\n",
       "      <td>0.230797</td>\n",
       "      <td>0.256329</td>\n",
       "      <td>0.248056</td>\n",
       "      <td>0.234713</td>\n",
       "      <td>-0.066650</td>\n",
       "      <td>1.000000</td>\n",
       "    </tr>\n",
       "  </tbody>\n",
       "</table>\n",
       "</div>"
      ],
      "text/plain": [
       "                Stance_against  Stance_favor  Sarcasm_yes  Humor_yes  \\\n",
       "Stance_against        1.000000      0.144664     0.213887   0.209333   \n",
       "Stance_favor          0.144664      1.000000     0.208227   0.206836   \n",
       "Sarcasm_yes           0.213887      0.208227     1.000000   0.222672   \n",
       "Humor_yes             0.209333      0.206836     0.222672   1.000000   \n",
       "Hate_yes              0.233066      0.209031     0.220030   0.218407   \n",
       "OAG                   0.221398      0.220179     0.231241   0.225439   \n",
       "CAG                   0.239890      0.230797     0.256329   0.248056   \n",
       "\n",
       "                Hate_yes       OAG       CAG  \n",
       "Stance_against  0.233066  0.221398  0.239890  \n",
       "Stance_favor    0.209031  0.220179  0.230797  \n",
       "Sarcasm_yes     0.220030  0.231241  0.256329  \n",
       "Humor_yes       0.218407  0.225439  0.248056  \n",
       "Hate_yes        1.000000  0.232979  0.234713  \n",
       "OAG             0.232979  1.000000 -0.066650  \n",
       "CAG             0.234713 -0.066650  1.000000  "
      ]
     },
     "execution_count": 81,
     "metadata": {},
     "output_type": "execute_result"
    }
   ],
   "source": [
    "cols = words.columns[1:]\n",
    "\n",
    "words[cols].corr()"
   ]
  },
  {
   "cell_type": "code",
   "execution_count": 82,
   "metadata": {},
   "outputs": [
    {
     "name": "stdout",
     "output_type": "stream",
     "text": [
      "Stance_against Stance_favor 9.465867178584379e-22\n",
      "Stance_against Sarcasm_yes 0.06288236021879072\n",
      "Stance_against Humor_yes 1.967711534778149e-83\n",
      "Stance_against Hate_yes 2.9754195565772256e-183\n",
      "Stance_against OAG 2.635948747084928e-45\n",
      "Stance_against CAG 5.737756535776479e-249\n",
      "Stance_favor Stance_against 9.465867178584379e-22\n",
      "Stance_favor Sarcasm_yes 3.3938460130795476e-20\n",
      "Stance_favor Humor_yes 3.6981638356096366e-22\n",
      "Stance_favor Hate_yes 2.6071684058147978e-80\n",
      "Stance_favor OAG 3.3451543250280856e-08\n",
      "Stance_favor CAG 0.0\n",
      "Sarcasm_yes Stance_against 0.06288236021879072\n",
      "Sarcasm_yes Stance_favor 3.3938460130795476e-20\n",
      "Sarcasm_yes Humor_yes 2.1987690781785866e-63\n",
      "Sarcasm_yes Hate_yes 2.950719770046232e-129\n",
      "Sarcasm_yes OAG 4.250747592453005e-39\n",
      "Sarcasm_yes CAG 2.498007144186894e-162\n",
      "Humor_yes Stance_against 1.967711534778149e-83\n",
      "Humor_yes Stance_favor 3.6981638356096366e-22\n",
      "Humor_yes Sarcasm_yes 2.1987690781785866e-63\n",
      "Humor_yes Hate_yes 4.47762808316102e-20\n",
      "Humor_yes OAG 0.0013970179672297823\n",
      "Humor_yes CAG 0.0\n",
      "Hate_yes Stance_against 2.9754195565772256e-183\n",
      "Hate_yes Stance_favor 2.6071684058147978e-80\n",
      "Hate_yes Sarcasm_yes 2.950719770046232e-129\n",
      "Hate_yes Humor_yes 4.47762808316102e-20\n",
      "Hate_yes OAG 1.1054847402542804e-30\n",
      "Hate_yes CAG 0.0\n",
      "OAG Stance_against 2.635948747084928e-45\n",
      "OAG Stance_favor 3.3451543250280856e-08\n",
      "OAG Sarcasm_yes 4.250747592453005e-39\n",
      "OAG Humor_yes 0.0013970179672297823\n",
      "OAG Hate_yes 1.1054847402542804e-30\n",
      "OAG CAG 0.0\n",
      "CAG Stance_against 5.737756535776479e-249\n",
      "CAG Stance_favor 0.0\n",
      "CAG Sarcasm_yes 2.498007144186894e-162\n",
      "CAG Humor_yes 0.0\n",
      "CAG Hate_yes 0.0\n",
      "CAG OAG 0.0\n"
     ]
    }
   ],
   "source": [
    "for col1 in cols:\n",
    "    for col2 in cols:\n",
    "        if col1 != col2:\n",
    "            print (col1, col2, ttest_ind(words[col1],words[col2]).pvalue)"
   ]
  },
  {
   "cell_type": "code",
   "execution_count": null,
   "metadata": {},
   "outputs": [],
   "source": []
  }
 ],
 "metadata": {
  "kernelspec": {
   "display_name": "Python 3",
   "language": "python",
   "name": "python3"
  },
  "language_info": {
   "codemirror_mode": {
    "name": "ipython",
    "version": 3
   },
   "file_extension": ".py",
   "mimetype": "text/x-python",
   "name": "python",
   "nbconvert_exporter": "python",
   "pygments_lexer": "ipython3",
   "version": "3.7.1"
  }
 },
 "nbformat": 4,
 "nbformat_minor": 4
}
